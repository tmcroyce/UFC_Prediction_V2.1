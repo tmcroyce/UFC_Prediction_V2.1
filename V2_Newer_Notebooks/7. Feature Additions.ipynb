{
 "cells": [
  {
   "cell_type": "code",
   "execution_count": 1,
   "metadata": {},
   "outputs": [],
   "source": [
    "# Load Packages\n",
    "import pandas as pd\n",
    "import numpy as np\n",
    "import matplotlib.pyplot as plt\n",
    "%matplotlib inline\n",
    "import matplotlib.ticker as mtick\n",
    "import sqlite3\n",
    "import seaborn as sns\n",
    "from matplotlib.pyplot import figure\n",
    "from bs4 import BeautifulSoup\n",
    "import time\n",
    "import requests     # to get images\n",
    "import shutil       # to save files locally\n",
    "import datetime\n",
    "from scipy.stats import norm\n",
    "import warnings\n",
    "warnings.filterwarnings('ignore')\n",
    "from random import randint\n",
    "import  random\n",
    "import os\n",
    "os.chdir('C:/Users/Travis/OneDrive/Data Science/Personal_Projects/Sports/UFC_Prediction_V2')\n",
    "import winsound\n",
    "\n",
    "from cmath import nan\n",
    "\n",
    "sound_file = \"data/audio/Jobs Done.wav\"\n",
    "\n",
    "def play_jobs_done():\n",
    "    winsound.PlaySound(sound_file, winsound.SND_FILENAME)\n",
    "\n",
    "\n",
    "bad_sound_file = 'data/audio/Danger Will Robinson.wav'\n",
    "\n",
    "def play_danger():\n",
    "    winsound.PlaySound(bad_sound_file, winsound.SND_FILENAME)"
   ]
  },
  {
   "cell_type": "code",
   "execution_count": null,
   "metadata": {},
   "outputs": [],
   "source": [
    "# Load fights df\n",
    "fights_df = pd.read_csv('data/final/aggregates/Fight_DF.csv')\n",
    "print(fights_df.shape)\n",
    "fights_df.head()"
   ]
  },
  {
   "cell_type": "markdown",
   "metadata": {},
   "source": [
    "### Add Fighter Odds\n",
    "\n",
    "Makes sense to do it before doubling the dataframe"
   ]
  },
  {
   "cell_type": "code",
   "execution_count": null,
   "metadata": {},
   "outputs": [],
   "source": [
    "# Load Fighter Odds\n",
    "odds_by_fighter = pd.read_csv('data/final/odds/All_Odds_by_Fighter_WithChange.csv')\n",
    "\n",
    "print(f' df shape: {odds_by_fighter.shape}')\n",
    "odds_by_fighter.head()"
   ]
  },
  {
   "cell_type": "code",
   "execution_count": null,
   "metadata": {},
   "outputs": [],
   "source": [
    "# Split the 'event_ufcstats_url' column by '/' and get the last element from the resulting list, \n",
    "# then set it as a new column named 'event_code'\n",
    "odds_by_fighter['event_code'] = odds_by_fighter['event_ufcstats_url'].str.split('/').str[-1] \n",
    "\n",
    "# Remove leading and trailing whitespace from the 'fighter' column\n",
    "odds_by_fighter['fighter'] = odds_by_fighter['fighter'].str.strip()\n",
    "\n",
    "# Show the first three rows of the resulting DataFrame\n",
    "odds_by_fighter.head(3)"
   ]
  },
  {
   "cell_type": "code",
   "execution_count": null,
   "metadata": {},
   "outputs": [],
   "source": [
    "event_data = pd.read_csv('data/final/events/All_Events_Fights_and_FightUrls.csv')"
   ]
  },
  {
   "cell_type": "code",
   "execution_count": null,
   "metadata": {},
   "outputs": [],
   "source": [
    "# Remove whitespace from left and right of the values in the column 'Fighter1'\n",
    "event_data['Fighter1'] = event_data['Fighter1'].str.strip()\n",
    "\n",
    "# Remove whitespace from left and right of the values in the column 'Fighter2'\n",
    "event_data['Fighter2'] = event_data['Fighter2'].str.strip()\n",
    "\n",
    "# Print the first 3 rows of the DataFrame to verify changes made\n",
    "event_data.head(3)"
   ]
  },
  {
   "cell_type": "code",
   "execution_count": null,
   "metadata": {},
   "outputs": [],
   "source": [
    "# Make sure the formatting is the same\n",
    "\n",
    "event_data['event_id'] = event_data['event_id'].astype(str)\n",
    "odds_by_fighter['event_code'] = odds_by_fighter['event_code'].astype(str)"
   ]
  },
  {
   "cell_type": "code",
   "execution_count": null,
   "metadata": {},
   "outputs": [],
   "source": [
    "# pick random row from odds_by_fighter\n",
    "rand_row = odds_by_fighter.sample(1)\n",
    "rand_row"
   ]
  },
  {
   "cell_type": "code",
   "execution_count": null,
   "metadata": {},
   "outputs": [],
   "source": [
    "# Filter the event_data DataFrame where the 'event_id' column matches the value of the first element in the 'rand_row' DataFrame's 'event_code' column\n",
    "test_data = event_data[event_data['event_id'] == rand_row['event_code'].values[0]]\n",
    "\n",
    "# Print the resulting DataFrame\n",
    "print(test_data)"
   ]
  },
  {
   "cell_type": "code",
   "execution_count": null,
   "metadata": {},
   "outputs": [],
   "source": [
    "def grab_fight_url(fighter, event_code):\n",
    "        try:\n",
    "                data = event_data[event_data['event_id'] == event_code]\n",
    "                data1 = data[data['Fighter1'] == fighter]\n",
    "                data2 = data[data['Fighter2'] == fighter]\n",
    "                data3 = pd.concat([data1, data2])\n",
    "\n",
    "                return data3['fight_link'].values[0]\n",
    "        except:\n",
    "                return np.nan"
   ]
  },
  {
   "cell_type": "code",
   "execution_count": null,
   "metadata": {},
   "outputs": [],
   "source": [
    "# test\n",
    "grab_fight_url('Robert Whittaker', '00a905a4a4a2b071')"
   ]
  },
  {
   "cell_type": "code",
   "execution_count": null,
   "metadata": {},
   "outputs": [],
   "source": [
    "# add fight urls to odds by fighter\n",
    "odds_by_fighter['fight_url'] = odds_by_fighter.apply(lambda row: grab_fight_url(row['fighter'], row['event_code']), axis=1)"
   ]
  },
  {
   "cell_type": "code",
   "execution_count": null,
   "metadata": {},
   "outputs": [],
   "source": [
    "odds_by_fighter.head(2)"
   ]
  },
  {
   "cell_type": "code",
   "execution_count": null,
   "metadata": {},
   "outputs": [],
   "source": [
    "# add columns 'odds' to odds by fighter, where odds is equal to the 5D column unless it is nan, then it is equal to the Ref column\n",
    "odds_by_fighter['odds'] = odds_by_fighter.apply(lambda row: row['5D'] if np.isnan(row['5D']) == False else row['Ref'], axis=1)"
   ]
  },
  {
   "cell_type": "code",
   "execution_count": null,
   "metadata": {},
   "outputs": [],
   "source": [
    "odds_by_fighter.head(2)"
   ]
  },
  {
   "cell_type": "code",
   "execution_count": null,
   "metadata": {},
   "outputs": [],
   "source": [
    "# save odds by fighter with fight urls\n",
    "odds_by_fighter.to_csv('data/final/odds/All_Odds_by_Fighter_With_Fight_Urls.csv', index=False)"
   ]
  },
  {
   "attachments": {},
   "cell_type": "markdown",
   "metadata": {},
   "source": [
    "### Double the Fights_DF\n",
    "\n",
    "To ensure that we are measuring both fighters equally, I double the dataframe to create a version of each fight where the A fighter and B Fighter are switched, along with all of their data."
   ]
  },
  {
   "cell_type": "code",
   "execution_count": null,
   "metadata": {},
   "outputs": [],
   "source": [
    "# Create the double fights df (switching A and B)\n",
    "fights_df2 = fights_df.copy()\n",
    "\n",
    "# switch all _A and A_ to _C and C_\n",
    "fights_df2.columns = fights_df2.columns.str.replace('Fighter_A', 'Fighter_C')\n",
    "fights_df2.columns = fights_df2.columns.str.replace('A_', 'C_')\n",
    "\n",
    "# switch all _B and B_ to _A and A_\n",
    "fights_df2.columns = fights_df2.columns.str.replace('Fighter_B', 'Fighter_A')\n",
    "fights_df2.columns = fights_df2.columns.str.replace('B_', 'A_')\n",
    "\n",
    "# switch all _C and C_ to _B and B_\n",
    "fights_df2.columns = fights_df2.columns.str.replace('Fighter_C', 'Fighter_B')\n",
    "fights_df2.columns = fights_df2.columns.str.replace('C_', 'B_')\n",
    "\n",
    "fights_df2.head()"
   ]
  },
  {
   "cell_type": "code",
   "execution_count": null,
   "metadata": {},
   "outputs": [],
   "source": [
    "# add the new columns to the original df\n",
    "double_fights_df = pd.concat([fights_df, fights_df2], axis=0)\n",
    "double_fights_df.head(3)"
   ]
  },
  {
   "cell_type": "code",
   "execution_count": null,
   "metadata": {},
   "outputs": [],
   "source": [
    "double_fights_df.to_csv('data/final/aggregates/Fight_DF_V2.csv', index=False)"
   ]
  },
  {
   "cell_type": "code",
   "execution_count": null,
   "metadata": {},
   "outputs": [],
   "source": [
    "double_fights_df.head(3)"
   ]
  },
  {
   "attachments": {},
   "cell_type": "markdown",
   "metadata": {},
   "source": [
    "## Add Odds by Fighter to FightsDf"
   ]
  },
  {
   "attachments": {},
   "cell_type": "markdown",
   "metadata": {},
   "source": [
    "### Load Point for OddsByFighter"
   ]
  },
  {
   "cell_type": "code",
   "execution_count": null,
   "metadata": {},
   "outputs": [],
   "source": [
    "# load\n",
    "odds_by_fighter = pd.read_csv('data/final/odds/All_Odds_by_Fighter_With_Fight_Urls.csv')"
   ]
  },
  {
   "attachments": {},
   "cell_type": "markdown",
   "metadata": {},
   "source": [
    "#### Note: We want to use ufcstats Urls as our connector\n",
    "\n",
    "We could also just use the event code if that isnt working for some reason"
   ]
  },
  {
   "cell_type": "code",
   "execution_count": null,
   "metadata": {},
   "outputs": [],
   "source": [
    "odds_by_fighter.head(2)"
   ]
  },
  {
   "cell_type": "code",
   "execution_count": null,
   "metadata": {},
   "outputs": [],
   "source": [
    "# make sure formatting is the same (string)\n",
    "odds_by_fighter['event_ufcstats_url'] = odds_by_fighter['event_ufcstats_url'].astype(str)\n",
    "odds_by_fighter['event_code'] = odds_by_fighter['event_code'].astype(str)\n",
    "double_fights_df['event_url'] = double_fights_df['event_url'].astype(str)\n",
    "\n",
    "# make sure name formatting is same\n",
    "odds_by_fighter['fighter'] = odds_by_fighter['fighter'].str.strip()\n",
    "double_fights_df['Fighter_A'] = double_fights_df['Fighter_A'].str.strip()\n",
    "double_fights_df['Fighter_B'] = double_fights_df['Fighter_B'].str.strip()"
   ]
  },
  {
   "cell_type": "code",
   "execution_count": null,
   "metadata": {},
   "outputs": [],
   "source": [
    "# Add column \"Event Code\", which is event code for ufcstats\n",
    "double_fights_df['event_code'] = double_fights_df['event_url'].str.split('/').str[-1]\n",
    "double_fights_df['event_code'] = double_fights_df['event_code'].astype(str)"
   ]
  },
  {
   "cell_type": "code",
   "execution_count": null,
   "metadata": {},
   "outputs": [],
   "source": [
    "# check the differences between double_fights_df['event_code'] and odds_by_fighter['event_code']\n",
    "dfights = double_fights_df['event_code'].unique()\n",
    "odds = odds_by_fighter['event_code'].unique()\n",
    "\n",
    "# check differences in list\n",
    "diff = [x for x in dfights if x not in odds]\n",
    "diff"
   ]
  },
  {
   "cell_type": "code",
   "execution_count": null,
   "metadata": {},
   "outputs": [],
   "source": [
    "diff2 = [x for x in odds if x not in dfights]\n",
    "diff2"
   ]
  },
  {
   "attachments": {},
   "cell_type": "markdown",
   "metadata": {},
   "source": [
    "### Note: The double fights DF has lots of OUTSIDE of UFC fights, whereas the odds does not. As we want to focus on the UFC events, this is okay. "
   ]
  },
  {
   "cell_type": "code",
   "execution_count": null,
   "metadata": {},
   "outputs": [],
   "source": [
    "# Check Dtypes of odds_by_fighter\n",
    "odds_by_fighter.dtypes"
   ]
  },
  {
   "cell_type": "code",
   "execution_count": null,
   "metadata": {},
   "outputs": [],
   "source": [
    "odds_by_fighter['event_code'] = odds_by_fighter['event_code'].astype(str)\n",
    "odds_by_fighter['event_ufcstats_url'] = odds_by_fighter['event_ufcstats_url'].astype(str)"
   ]
  },
  {
   "cell_type": "code",
   "execution_count": null,
   "metadata": {},
   "outputs": [],
   "source": [
    "# This function takes in an event code and fighter name as parameters\n",
    "def get_odds_from_obf(event_code, fighter):\n",
    "    try:\n",
    "        # Selects data from odds_by_fighter that has the event_code equal to the provided event_code\n",
    "        data = odds_by_fighter[odds_by_fighter['event_code'] == event_code]\n",
    "        # Filters the above data further by only returning data with the fighter name equal to the provided fighter name\n",
    "        data = data[data['fighter'] == fighter]\n",
    "        # Returns the odds value for the fighter in the provided event.\n",
    "        return data['odds'].values[0]\n",
    "    except:\n",
    "        # If any error occurs during the processing above, return NaN\n",
    "        return np.nan"
   ]
  },
  {
   "cell_type": "code",
   "execution_count": null,
   "metadata": {},
   "outputs": [],
   "source": [
    "# test\n",
    "get_odds_from_obf('805ad1801eb26abb', 'Holly Holm')"
   ]
  },
  {
   "cell_type": "code",
   "execution_count": null,
   "metadata": {},
   "outputs": [],
   "source": [
    "double_fights_df['Fighter_A_Odds'] = double_fights_df.apply(lambda row: get_odds_from_obf(row['event_code'], row['Fighter_A']), axis=1)\n",
    "double_fights_df['Fighter_B_Odds'] = double_fights_df.apply(lambda row: get_odds_from_obf(row['event_code'], row['Fighter_B']), axis=1)"
   ]
  },
  {
   "cell_type": "code",
   "execution_count": null,
   "metadata": {},
   "outputs": [],
   "source": [
    "# check missing\n",
    "double_fights_df[double_fights_df['Fighter_A_Odds'].isna()]"
   ]
  },
  {
   "cell_type": "code",
   "execution_count": null,
   "metadata": {},
   "outputs": [],
   "source": [
    "# check not missing\n",
    "double_fights_df[double_fights_df['Fighter_A_Odds'].notna()]"
   ]
  },
  {
   "attachments": {},
   "cell_type": "markdown",
   "metadata": {},
   "source": [
    "## Add Odds Change to FightsDf"
   ]
  },
  {
   "cell_type": "code",
   "execution_count": null,
   "metadata": {},
   "outputs": [],
   "source": [
    "def get_odds_change_from_obf(event_code, fighter):\n",
    "        try:\n",
    "                # First, we filter the odds_by_fighter DataFrame by event code\n",
    "                data = odds_by_fighter[odds_by_fighter['event_code'] == event_code]\n",
    "                # Then, we filter by the designated fighter\n",
    "                data = data[data['fighter'] == fighter]\n",
    "\n",
    "                # We return the odds change value for that fighter and event code\n",
    "                return data['odds_change'].values[0]\n",
    "        except:\n",
    "                return np.nan"
   ]
  },
  {
   "cell_type": "code",
   "execution_count": null,
   "metadata": {},
   "outputs": [],
   "source": [
    "# add odds change\n",
    "double_fights_df['Fighter_A_Odds_Change'] = double_fights_df.apply(lambda row: get_odds_change_from_obf(row['event_code'], row['Fighter_A']), axis=1)\n",
    "double_fights_df['Fighter_B_Odds_Change'] = double_fights_df.apply(lambda row: get_odds_change_from_obf(row['event_code'], row['Fighter_B']), axis=1)\n"
   ]
  },
  {
   "cell_type": "code",
   "execution_count": null,
   "metadata": {},
   "outputs": [],
   "source": [
    "double_fights_df.head(2)"
   ]
  },
  {
   "cell_type": "code",
   "execution_count": null,
   "metadata": {},
   "outputs": [],
   "source": [
    "f, ax = plt.subplots(figsize = (12,20))\n",
    "\n",
    "sns.despine(f, left=True, bottom=True)\n",
    "sns.histplot(\n",
    "    data = double_fights_df.isna().melt(value_name='missing'),\n",
    "    y= 'variable',\n",
    "    hue = 'missing',\n",
    "    multiple = 'fill', ax = ax)"
   ]
  },
  {
   "attachments": {},
   "cell_type": "markdown",
   "metadata": {},
   "source": [
    "### As we know from earlier, we do not have many of these odds because these events were outside of the UFC. Thus, we can drop them. "
   ]
  },
  {
   "cell_type": "code",
   "execution_count": null,
   "metadata": {},
   "outputs": [],
   "source": [
    "double_fights_df = double_fights_df.dropna()\n",
    "double_fights_df.shape"
   ]
  },
  {
   "cell_type": "code",
   "execution_count": null,
   "metadata": {},
   "outputs": [],
   "source": [
    "double_fights_df.to_csv('data/final/aggregates/Double_Fights_DF_V1.csv', index=False)"
   ]
  },
  {
   "cell_type": "code",
   "execution_count": null,
   "metadata": {},
   "outputs": [],
   "source": [
    "double_fights_df= pd.read_csv('data/final/aggregates/Double_Fights_DF_V1.csv')"
   ]
  },
  {
   "cell_type": "code",
   "execution_count": null,
   "metadata": {},
   "outputs": [],
   "source": [
    "double_fights_df.head(3)"
   ]
  },
  {
   "cell_type": "code",
   "execution_count": null,
   "metadata": {},
   "outputs": [],
   "source": [
    "# find all objects in df\n",
    "double_fights_df.select_dtypes(include=['object']).columns"
   ]
  },
  {
   "cell_type": "code",
   "execution_count": null,
   "metadata": {},
   "outputs": [],
   "source": [
    "# drop A_Total_Strikes and B_Total_Strikes, they were not meant to be here. \n",
    "double_fights_df = double_fights_df.drop(['A_Total_Strikes', 'B_Total_Strikes'], axis=1)\n"
   ]
  },
  {
   "attachments": {},
   "cell_type": "markdown",
   "metadata": {},
   "source": [
    "## Add Feature: In-Fight Statistic Differentials\n",
    "\n",
    "This is "
   ]
  },
  {
   "cell_type": "code",
   "execution_count": null,
   "metadata": {},
   "outputs": [],
   "source": [
    "# calculate differences between in-match stats\n",
    "\n",
    "for col in double_fights_df.columns:\n",
    "    if col.startswith('A_'):\n",
    "        new_col = col.replace('A_', 'Dif_')\n",
    "        double_fights_df[new_col] = double_fights_df[col] - double_fights_df[col.replace('A_', 'B_')]\n",
    "    else:\n",
    "        continue\n",
    "\n",
    "double_fights_df"
   ]
  },
  {
   "cell_type": "code",
   "execution_count": null,
   "metadata": {},
   "outputs": [],
   "source": [
    "# add difference in odds\n",
    "double_fights_df['Dif_Odds'] = double_fights_df['Fighter_A_Odds'] - double_fights_df['Fighter_B_Odds']"
   ]
  },
  {
   "attachments": {},
   "cell_type": "markdown",
   "metadata": {},
   "source": [
    "#### Add Distribution Stat Features\n",
    "\n",
    "now fights = double_fights_df, for ease"
   ]
  },
  {
   "cell_type": "code",
   "execution_count": null,
   "metadata": {},
   "outputs": [],
   "source": [
    "fights = double_fights_df"
   ]
  },
  {
   "cell_type": "code",
   "execution_count": null,
   "metadata": {},
   "outputs": [],
   "source": [
    "def get_fighter_running_dist_stats(fighter, date, col_to_get, stat_to_calc):\n",
    "\n",
    "    # retrieve data for all fights involving the given fighter\n",
    "    data = fights[(fights['Fighter_A'] == fighter) | (fights['Fighter_B'] == fighter)]\n",
    "\n",
    "    # convert date strings to datetime objects\n",
    "    datey = pd.to_datetime(date)\n",
    "    data['date'] = pd.to_datetime(data['date'])\n",
    "\n",
    "    # filter data to only include fights before the given date\n",
    "    data = data[data['date'] < datey]\n",
    "\n",
    "    # create an empty dataframe to store fighter data\n",
    "    fighter_data = pd.DataFrame()\n",
    "\n",
    "    # retrieve data for fights where the given fighter is Fighter A\n",
    "    fighterA_df = fights[fights['Fighter_A'] == fighter]\n",
    "    # retrieve data for fights where the given fighter is Fighter B\n",
    "    fighterB_df = fights[fights['Fighter_B'] == fighter]\n",
    "\n",
    "    # select relevant columns from Fighter A data and rename columns for consistency\n",
    "    fighterA_df = fighterA_df[['date', 'Fighter_A', 'A_' + col_to_get]]\n",
    "    fighterA_df.rename(columns={'A_' + col_to_get: col_to_get, 'Fighter_A': 'fighter'}, inplace=True)\n",
    "\n",
    "    # select relevant columns from Fighter B data and rename columns for consistency\n",
    "    fighterB_df = fighterB_df[['date', 'Fighter_B', 'B_' + col_to_get]]\n",
    "    fighterB_df.rename(columns={'B_' + col_to_get: col_to_get, 'Fighter_B': 'fighter'}, inplace=True)\n",
    "\n",
    "    # append Fighter A and Fighter B data to the fighter_data dataframe\n",
    "    fighter_data = fighter_data.append(fighterA_df)\n",
    "    fighter_data = fighter_data.append(fighterB_df)\n",
    "\n",
    "    # get the chosen statistic based on the input parameter\n",
    "    if stat_to_calc == 'mean':\n",
    "        x = fighter_data[col_to_get].mean()\n",
    "    elif stat_to_calc == 'std':\n",
    "        x = fighter_data[col_to_get].std()\n",
    "    elif stat_to_calc == 'median':\n",
    "        x = fighter_data[col_to_get].median()  \n",
    "\n",
    "    # return the chosen statistic\n",
    "    return x"
   ]
  },
  {
   "attachments": {},
   "cell_type": "markdown",
   "metadata": {},
   "source": [
    "#### Get Non-specific column names for Feature Creation"
   ]
  },
  {
   "cell_type": "code",
   "execution_count": null,
   "metadata": {},
   "outputs": [],
   "source": [
    "# This code creates three lists of column names from a dataframe called 'fights'\n",
    "# The first list contains column names with 'Dif_' in them\n",
    "# The second list contains column names that start with 'A_'\n",
    "# The third list combines the second and first list\n",
    "\n",
    "dif_cols = [n for n in fights.columns if 'Dif_' in n]\n",
    "A_cols = [n for n in fights.columns if n.startswith('A_')]\n",
    "all_metric_cols = A_cols + dif_cols\n",
    "\n",
    "# This code creates a new dataframe containing the second list of column names without the 'A_' prefix\n",
    "# It then creates a list of unique column name suffixes\n",
    "\n",
    "A_cols2 = pd.DataFrame(A_cols)\n",
    "A_cols2['nonspecific'] = A_cols2[0].str[2:]\n",
    "the_cols = list(A_cols2['nonspecific'].unique())"
   ]
  },
  {
   "cell_type": "code",
   "execution_count": null,
   "metadata": {},
   "outputs": [],
   "source": [
    "# test get_fighter_running_dist_stats\n",
    "get_fighter_running_dist_stats('Khabib Nurmagomedov', '2020-01-18', 'Sig_strike_land', 'mean')"
   ]
  },
  {
   "cell_type": "code",
   "execution_count": null,
   "metadata": {},
   "outputs": [],
   "source": [
    "# # TODO: FIX THIS TO BE MORE MODULAR, SAVE WHILE IT GOES\n",
    "# for col in the_cols:\n",
    "#     for stat in ['mean', 'std', 'median']:\n",
    "#         fights['A_Rolling_' + col + '_' + stat] = fights.apply(lambda row: get_fighter_running_dist_stats(row['Fighter_A'], row['date'], col, stat), axis=1)\n",
    "#         fights['B_Rolling_' + col + '_' + stat] = fights.apply(lambda row: get_fighter_running_dist_stats(row['Fighter_B'], row['date'], col, stat), axis=1)"
   ]
  },
  {
   "attachments": {},
   "cell_type": "markdown",
   "metadata": {},
   "source": [
    "New Version:"
   ]
  },
  {
   "cell_type": "code",
   "execution_count": null,
   "metadata": {},
   "outputs": [],
   "source": [
    "import pickle"
   ]
  },
  {
   "cell_type": "code",
   "execution_count": null,
   "metadata": {},
   "outputs": [],
   "source": [
    "def get_rolling_stats(fights, fighter_col, date_col, stat_col, stat):\n",
    "    rolling_stats = fights.apply(\n",
    "        lambda row: get_fighter_running_dist_stats(row[fighter_col], row[date_col], stat_col, stat), axis=1\n",
    "    )\n",
    "    return rolling_stats\n",
    "\n",
    "\n",
    "def save_checkpoint(filename, data):\n",
    "    with open(filename, 'wb') as f:\n",
    "        pickle.dump(data, f)\n",
    "\n",
    "\n",
    "def load_checkpoint(filename):\n",
    "    if os.path.exists(filename):\n",
    "        with open(filename, 'rb') as f:\n",
    "            return pickle.load(f)\n",
    "    return None\n",
    "\n",
    "\n",
    "def compute_and_save_rolling_stats(fights, the_cols, checkpoint_file=\"checkpoint.pkl\"):\n",
    "    checkpoint_data = load_checkpoint(checkpoint_file)\n",
    "    if checkpoint_data is None:\n",
    "        checkpoint_data = {\"completed_cols\": [], \"completed_stats\": []}\n",
    "\n",
    "    for col in the_cols:\n",
    "        if col in checkpoint_data[\"completed_cols\"]:\n",
    "            continue\n",
    "\n",
    "        for stat in ['mean', 'std', 'median']:\n",
    "            if col in checkpoint_data[\"completed_cols\"] and stat in checkpoint_data[\"completed_stats\"]:\n",
    "                continue\n",
    "\n",
    "            for prefix in ['A', 'B']:\n",
    "                fighter_col = f'Fighter_{prefix}'\n",
    "                rolling_col = f'{prefix}_Rolling_{col}_{stat}'\n",
    "                fights[rolling_col] = get_rolling_stats(fights, fighter_col, 'date', col, stat)\n",
    "\n",
    "            checkpoint_data[\"completed_stats\"].append(stat)\n",
    "            save_checkpoint(checkpoint_file, checkpoint_data)\n",
    "\n",
    "        checkpoint_data[\"completed_cols\"].append(col)\n",
    "        checkpoint_data[\"completed_stats\"] = []\n",
    "        save_checkpoint(checkpoint_file, checkpoint_data)\n",
    "\n",
    "\n",
    "# Use this function to compute the rolling stats and save the progress in a checkpoint file\n",
    "compute_and_save_rolling_stats(fights, the_cols)"
   ]
  },
  {
   "cell_type": "code",
   "execution_count": null,
   "metadata": {},
   "outputs": [],
   "source": [
    "fights.to_csv('data/final/aggregates/Double_Fights_DF_V2.csv', index=False)"
   ]
  },
  {
   "cell_type": "code",
   "execution_count": null,
   "metadata": {},
   "outputs": [],
   "source": [
    "# Load point for fights df\n",
    "fights = pd.read_csv('data/final/aggregates/Double_Fights_DF_V2.csv')"
   ]
  },
  {
   "attachments": {},
   "cell_type": "markdown",
   "metadata": {},
   "source": [
    "### Feature: Top-Down Averages (typical UFC Style)"
   ]
  },
  {
   "cell_type": "code",
   "execution_count": null,
   "metadata": {},
   "outputs": [],
   "source": [
    "def get_top_down_averages(fighter, date, col_to_get, dataframe):\n",
    "\n",
    "    # for each column in all_metric_cols, calculate the top-down averages, as opposed to bottom-up\n",
    "    data = dataframe[(dataframe['Fighter_A'] == fighter) | (dataframe['Fighter_B'] == fighter)]\n",
    "\n",
    "    # only get fights before the date\n",
    "    datey = pd.to_datetime(date)\n",
    "    data['date'] = pd.to_datetime(data['date'])\n",
    "    data = data[data['date'] < datey]\n",
    "\n",
    "    # fighter could be either fighter A or fighter B\n",
    "    fighter_data = pd.DataFrame()\n",
    "\n",
    "\n",
    "    # fighterA df\n",
    "    fighterA_df = dataframe[dataframe['Fighter_A'] == fighter]\n",
    "    fighterB_df = dataframe[dataframe['Fighter_B'] == fighter]\n",
    "    \n",
    "    # keep only the fighters columns date, FighterA, and the col_to_get, \n",
    "    # do same for B, change col names from B to A, and concat\n",
    "    fighterA_df = fighterA_df[['date', 'Fighter_A', 'A_' + col_to_get]]\n",
    "    fighterA_df.rename(columns={'A_' + col_to_get: col_to_get, 'Fighter_A': 'fighter'}, inplace=True)\n",
    "    fighterB_df = fighterB_df[['date', 'Fighter_B', 'B_' + col_to_get]]\n",
    "    fighterB_df.rename(columns={'B_' + col_to_get: col_to_get, 'Fighter_B': 'fighter'}, inplace=True)\n",
    "    fighter_data = fighter_data.append(fighterA_df)\n",
    "    fighter_data = fighter_data.append(fighterB_df)\n",
    "\n",
    "    # append the dataframes on fighter\n",
    "    fighter_data = fighter_data.append(fighterA_df)\n",
    "    fighter_data = fighter_data.append(fighterB_df)\n",
    "\n",
    "    # get the average\n",
    "    tot = fighter_data[col_to_get].sum()\n",
    "    num = fighter_data[col_to_get].count()\n",
    "    x = tot / num\n",
    "    return x"
   ]
  },
  {
   "cell_type": "code",
   "execution_count": null,
   "metadata": {},
   "outputs": [],
   "source": [
    "# delete rolling cols from the_cols\n",
    "the_cols = [n for n in the_cols if 'Rolling' not in n]\n",
    "the_cols"
   ]
  },
  {
   "cell_type": "code",
   "execution_count": null,
   "metadata": {},
   "outputs": [],
   "source": [
    "# NEW -- fix, make this more modular\n",
    "\n",
    "for col in the_cols:\n",
    "    fights['A_topdown_Avg_' + col ] = fights.apply(lambda row: get_top_down_averages(row['Fighter_A'], row['date'], col, fights), axis=1)\n",
    "    fights['B_topdown_Avg_' + col ] = fights.apply(lambda row: get_top_down_averages(row['Fighter_B'], row['date'], col, fights), axis=1)"
   ]
  },
  {
   "cell_type": "code",
   "execution_count": null,
   "metadata": {},
   "outputs": [],
   "source": [
    "fights.to_csv('data/final/aggregates/Double_Fights_DF_V3.csv')"
   ]
  },
  {
   "attachments": {},
   "cell_type": "markdown",
   "metadata": {},
   "source": [
    "PICK UP HERE 4.4"
   ]
  },
  {
   "cell_type": "code",
   "execution_count": null,
   "metadata": {},
   "outputs": [],
   "source": [
    "fights = pd.read_csv('data/final/aggregates/Double_Fights_DF_V3.csv')"
   ]
  },
  {
   "attachments": {},
   "cell_type": "markdown",
   "metadata": {},
   "source": [
    "### Add Opponent Stats"
   ]
  },
  {
   "cell_type": "code",
   "execution_count": null,
   "metadata": {},
   "outputs": [],
   "source": [
    "def get_opponent_averages(datafrm, date, col_to_get, fighter):\n",
    "    col_to_get = 'B_' + col_to_get\n",
    "    data = datafrm[(datafrm['Fighter_A'] == fighter) | (datafrm['Fighter_B'] == fighter)]\n",
    "    datey = pd.to_datetime(date)\n",
    "    data['date'] = pd.to_datetime(data['date'])\n",
    "    data = data[data['date'] < datey]\n",
    "\n",
    "    fighter_data = pd.DataFrame()\n",
    "\n",
    "    fighterA_df = datafrm[datafrm['Fighter_A'] == fighter]\n",
    "    fighterB_df = datafrm[datafrm['Fighter_B'] == fighter]\n",
    "\n",
    "    # switch A_ and B_ to B_ and A_ in fighterB_df\n",
    "    fighterB_df.columns = [n.replace('A_', 'C_') if n.startswith('A_') else n for n in fighterB_df.columns]\n",
    "    fighterB_df.columns = [n.replace('B_', 'D_') if n.startswith('B_') else n for n in fighterB_df.columns]\n",
    "    fighterB_df.columns = [n.replace('C_', 'B_') if n.startswith('C_') else n for n in fighterB_df.columns]\n",
    "    fighterB_df.columns = [n.replace('D_', 'A_') if n.startswith('D_') else n for n in fighterB_df.columns]\n",
    "\n",
    "    # copy fighter_A and fighter_B columns to new dataframe, then switch fighter_A and fighter_B columns\n",
    "\n",
    "    fighterB_df.rename(columns={'Fighter_A': 'Fighter_A2', 'Fighter_B': 'Fighter_B2'}, inplace=True)\n",
    "    fighterB_df.rename(columns={'Fighter_B2': 'Fighter_A', 'Fighter_A2': 'Fighter_B'}, inplace=True)\n",
    "\n",
    "    fighter_data = fighter_data.append(fighterA_df)\n",
    "    fighter_data = fighter_data.append(fighterB_df)\n",
    "\n",
    "    # get sum of col to get\n",
    "    col_sum = fighter_data[col_to_get].sum()\n",
    "    # get number of fights\n",
    "    num_fights = len(fighter_data)\n",
    "    # get average\n",
    "    avg = col_sum / num_fights\n",
    "\n",
    "    return avg\n"
   ]
  },
  {
   "cell_type": "code",
   "execution_count": null,
   "metadata": {},
   "outputs": [],
   "source": [
    "# test\n",
    "get_opponent_averages(fights, '2017-01-01', 'Sig_strike_land', 'Conor McGregor')"
   ]
  },
  {
   "cell_type": "code",
   "execution_count": null,
   "metadata": {},
   "outputs": [],
   "source": [
    "cols = [n for n in fights.columns if n.startswith('B_')]\n",
    "cols = [n for n in cols if 'topdown_' not in n]\n",
    "cols = [n for n in cols if 'Rolling_' not in n]\n",
    "cols = [n for n in cols if 'Dif_' not in n]"
   ]
  },
  {
   "cell_type": "code",
   "execution_count": null,
   "metadata": {},
   "outputs": [],
   "source": [
    "# delete the first 2 characters of each in col\n",
    "cols2 = pd.DataFrame(cols)\n",
    "cols2['nonspecific'] = cols2[0].str[2:]\n",
    "cols2\n",
    "\n",
    "# get unique values\n",
    "the_cols = list(cols2['nonspecific'].unique())\n",
    "the_cols"
   ]
  },
  {
   "cell_type": "code",
   "execution_count": null,
   "metadata": {},
   "outputs": [],
   "source": [
    "n=0\n",
    "# save as we go to intermediate_data, so we don't have to start over if we get an error\n",
    "\n",
    "# check to see which columns have already been done\n",
    "done_cols = [n for n in os.listdir('data/intermediate_data/') if n.startswith('Opponent_Averages_')]\n",
    "done_cols = [n.replace('Opponent_Averages_', '') for n in done_cols]\n",
    "done_cols = [n.replace('_.csv', '') for n in done_cols]\n",
    "# remove the done columns from the_cols\n",
    "the_cols = [n for n in the_cols if n not in done_cols]\n",
    "print('Cols Remaining:' + str(len(the_cols)))\n",
    "\n",
    "# loop through the remaining columns\n",
    "for col in the_cols:\n",
    "    try:\n",
    "        fights['A_Opp_Avg_' + col] = fights.apply(lambda row: get_opponent_averages(fights, row['date'], col, row['Fighter_A']), axis=1)\n",
    "        fights['B_Opp_Avg_' + col] = fights.apply(lambda row: get_opponent_averages(fights, row['date'], col, row['Fighter_B']), axis=1)\n",
    "        # save to csv\n",
    "        fights.to_csv('data/intermediate_data/Opponent_Averages_{}_.csv'.format(col))\n",
    "\n",
    "        n = n+1\n",
    "        print(f' {col}, #{n} / {len(cols)} done.')\n",
    "    except:\n",
    "        print(f'Error on {col}')\n",
    "        play_danger()\n",
    "\n",
    "play_jobs_done()"
   ]
  },
  {
   "cell_type": "code",
   "execution_count": null,
   "metadata": {},
   "outputs": [],
   "source": [
    "# load all data in data/intermediate_data, adding columns to fights\n",
    "for file in os.listdir('data/intermediate_data/'):\n",
    "    if file.startswith('Opponent_Averages_'):\n",
    "        print(file)\n",
    "        df = pd.read_csv('data/intermediate_data/' + file)\n",
    "        fights_cols = list(fights.columns)\n",
    "        df_cols = list(df.columns)\n",
    "        cols_to_add = [n for n in df_cols if n not in fights_cols]\n",
    "        for col in cols_to_add:\n",
    "            fights[col] = df[col]\n",
    "        \n",
    "fights"
   ]
  },
  {
   "cell_type": "code",
   "execution_count": null,
   "metadata": {},
   "outputs": [],
   "source": [
    "# save to csv\n",
    "fights.to_csv('data/final/aggregates/Double_Fights_DF_V4.csv')"
   ]
  },
  {
   "cell_type": "code",
   "execution_count": null,
   "metadata": {},
   "outputs": [],
   "source": [
    "fights = pd.read_csv('data/final/aggregates/Double_Fights_DF_V4.csv')"
   ]
  },
  {
   "attachments": {},
   "cell_type": "markdown",
   "metadata": {},
   "source": [
    "### Feature: Rolling Career Stat Differentials\n",
    "\n",
    "#### 1) Mean (Average)"
   ]
  },
  {
   "cell_type": "code",
   "execution_count": null,
   "metadata": {},
   "outputs": [],
   "source": [
    "# get columns with Rolling and Mean\n",
    "rolling_mean_cols= [n for n in fights.columns if 'Rolling' in n and 'mean' in n]\n",
    "rolling_mean_cols = pd.DataFrame(rolling_mean_cols)\n",
    "rolling_mean_cols['nonspecific'] = rolling_mean_cols[0].str[2:]\n",
    "rmc = rolling_mean_cols['nonspecific'].unique()"
   ]
  },
  {
   "cell_type": "code",
   "execution_count": null,
   "metadata": {},
   "outputs": [],
   "source": [
    "for col in rmc:\n",
    "    fights['Dif_' + col] = fights['A_' + col] - fights['B_' + col]\n",
    "\n",
    "fights.head()"
   ]
  },
  {
   "attachments": {},
   "cell_type": "markdown",
   "metadata": {},
   "source": [
    "#### 2) Median (Average)"
   ]
  },
  {
   "cell_type": "code",
   "execution_count": null,
   "metadata": {},
   "outputs": [],
   "source": [
    "rolling_median_cols= [n for n in fights.columns if 'Rolling' in n and 'median' in n]\n",
    "rolling_median_cols = pd.DataFrame(rolling_median_cols)\n",
    "rolling_median_cols['nonspecific'] = rolling_median_cols[0].str[2:]\n",
    "rmc = rolling_median_cols['nonspecific'].unique()"
   ]
  },
  {
   "cell_type": "code",
   "execution_count": null,
   "metadata": {},
   "outputs": [],
   "source": [
    "for col in rmc:\n",
    "    fights['Dif_' + col] = fights['A_' + col] - fights['B_' + col]\n",
    "\n",
    "fights.head()"
   ]
  },
  {
   "attachments": {},
   "cell_type": "markdown",
   "metadata": {},
   "source": [
    "#### 3) Standard Deviations"
   ]
  },
  {
   "cell_type": "code",
   "execution_count": null,
   "metadata": {},
   "outputs": [],
   "source": [
    "rolling_std_cols= [n for n in fights.columns if 'Rolling' in n and 'std' in n]\n",
    "rolling_std_cols = pd.DataFrame(rolling_std_cols)\n",
    "rolling_std_cols['nonspecific'] = rolling_std_cols[0].str[2:]\n",
    "rsc = rolling_std_cols['nonspecific'].unique()\n",
    "rsc"
   ]
  },
  {
   "cell_type": "code",
   "execution_count": null,
   "metadata": {},
   "outputs": [],
   "source": [
    "for col in rsc:\n",
    "    fights['Dif_' + col] = fights['A_' + col] - fights['B_' + col]\n",
    "\n",
    "fights.head()"
   ]
  },
  {
   "cell_type": "code",
   "execution_count": null,
   "metadata": {},
   "outputs": [],
   "source": [
    "# Save to csv\n",
    "fights.to_csv('data/final/aggregates/Double_Fights_DF_V5.csv')"
   ]
  },
  {
   "cell_type": "code",
   "execution_count": null,
   "metadata": {},
   "outputs": [],
   "source": [
    "#Identify columns with missing values\n",
    "nothere = fights.isna().sum()\n",
    "nothere = pd.DataFrame(nothere)\n",
    "nothere = nothere.loc[nothere[0] > 0]\n",
    "\n",
    "if len(nothere) > 0:\n",
    "    cols = nothere.index\n",
    "\n",
    "    f, ax = plt.subplots(figsize = (12,12))\n",
    "\n",
    "    sns.despine(f, left=True, bottom=True)\n",
    "    sns.histplot(\n",
    "        data = fights[cols].isna().melt(value_name='missing'),\n",
    "        y= 'variable',\n",
    "        hue = 'missing',\n",
    "        multiple = 'fill', ax = ax)\n",
    "\n",
    "    ax.set_title('Missing Data by Column', fontsize = 20)\n",
    "    ax.set_xlabel('Count', fontsize = 16)\n",
    "    ax.set_ylabel('Column', fontsize = 16)\n",
    "    ax.tick_params(labelsize = 14)\n",
    "\n",
    "    plt.show()\n",
    "\n",
    "else:\n",
    "    print('No missing values')"
   ]
  },
  {
   "attachments": {},
   "cell_type": "markdown",
   "metadata": {},
   "source": [
    "### Feature: UFC.Com Bio Data"
   ]
  },
  {
   "cell_type": "code",
   "execution_count": null,
   "metadata": {},
   "outputs": [],
   "source": [
    "fighter_bios = pd.read_csv('data/final/aggregates/All_Fighter_Bios.csv')\n",
    "fighter_bios.head(1)"
   ]
  },
  {
   "cell_type": "code",
   "execution_count": null,
   "metadata": {},
   "outputs": [],
   "source": [
    "# drop unnamed column\n",
    "fighter_bios.drop(columns=['Unnamed: 0', 'Unnamed: 0.1'], inplace=True)"
   ]
  },
  {
   "cell_type": "code",
   "execution_count": null,
   "metadata": {},
   "outputs": [],
   "source": [
    "# Check NaNs\n",
    "\n",
    "f, ax = plt.subplots(figsize = (12,12))\n",
    "\n",
    "sns.despine(f, left=True, bottom=True)\n",
    "sns.histplot(\n",
    "    data = fighter_bios.isna().melt(value_name='missing'),\n",
    "    y= 'variable',\n",
    "    hue = 'missing',\n",
    "    multiple = 'fill', ax = ax)\n",
    "\n",
    "ax.set_title('Missing Data by Column', fontsize = 20)\n",
    "ax.set_xlabel('Count', fontsize = 16)"
   ]
  },
  {
   "cell_type": "code",
   "execution_count": null,
   "metadata": {},
   "outputs": [],
   "source": [
    "# What about only Active fighter Nans?\n",
    "active = fighter_bios.loc[fighter_bios['Status'] == \"Active\"]\n",
    "active"
   ]
  },
  {
   "cell_type": "code",
   "execution_count": null,
   "metadata": {},
   "outputs": [],
   "source": [
    "# Check NaNs\n",
    "\n",
    "f, ax = plt.subplots(figsize = (12,12))\n",
    "\n",
    "sns.despine(f, left=True, bottom=True)\n",
    "sns.histplot(\n",
    "    data = active.isna().melt(value_name='missing'),\n",
    "    y= 'variable',\n",
    "    hue = 'missing',\n",
    "    multiple = 'fill', ax = ax)\n",
    "\n",
    "ax.set_title('Missing Data by Column', fontsize = 20)\n",
    "ax.set_xlabel('Count', fontsize = 16)"
   ]
  },
  {
   "attachments": {},
   "cell_type": "markdown",
   "metadata": {},
   "source": [
    "#### Dealing with Initial Missing Values\n",
    "\n",
    "Initial missing values are those such as Age, Status, Fighting Style (categorical variables) which I can impute unknown categories to without much issue. The others (height, weight, reach, etc) must be dealt with after the merge."
   ]
  },
  {
   "cell_type": "code",
   "execution_count": null,
   "metadata": {},
   "outputs": [],
   "source": [
    "# if missing place of birth, replace with 'Unknown'\n",
    "fighter_bios['Place of Birth'].fillna('Unknown', inplace=True)\n",
    "\n",
    "# if missing fighting style, replace with 'Unknown'\n",
    "fighter_bios['Fighting style'].fillna('Unknown', inplace=True)\n",
    "\n",
    "# if missing Trains at, replace with 'Unknown'\n",
    "fighter_bios['Trains at'].fillna('Unknown', inplace=True)\n",
    "\n",
    "# if missing status, replace with 'Unknown'\n",
    "fighter_bios['Status'].fillna('Unknown', inplace=True)\n",
    "\n",
    "# if missing age, replace with median\n",
    "fighter_bios['Age'].fillna(fighter_bios['Age'].median(), inplace=True)\n",
    "\n",
    "# if missing height, replace with median -- thankfully not many missing, as \n",
    "# this is a somewhat important feature\n",
    "fighter_bios['Height'].fillna(fighter_bios['Height'].median(), inplace=True)\n",
    "\n",
    "# if missing weight, replace with median -- thankfully not many missing\n",
    "fighter_bios['Weight'].fillna(fighter_bios['Weight'].median(), inplace=True)"
   ]
  },
  {
   "cell_type": "code",
   "execution_count": null,
   "metadata": {},
   "outputs": [],
   "source": [
    "def get_bio_data(fighter, stat):\n",
    "    try:\n",
    "        data = fighter_bios[fighter_bios['fighter'] == fighter]\n",
    "        d = data[stat].values[0]\n",
    "        d = pd.to_numeric(d)\n",
    "        return d\n",
    "    except:\n",
    "        return nan"
   ]
  },
  {
   "cell_type": "code",
   "execution_count": null,
   "metadata": {},
   "outputs": [],
   "source": [
    "# test\n",
    "weight = get_bio_data('Khabib Nurmagomedov', 'Height')\n",
    "weight"
   ]
  },
  {
   "cell_type": "code",
   "execution_count": null,
   "metadata": {},
   "outputs": [],
   "source": [
    "fights['A_Height'] = fights.apply(lambda row: get_bio_data(row['Fighter_A'], 'Height'), axis=1)\n",
    "fights['B_Height'] = fights.apply(lambda row: get_bio_data(row['Fighter_B'], 'Height'), axis=1)\n",
    "fights['Dif_Height'] = fights['A_Height'] - fights['B_Height']"
   ]
  },
  {
   "cell_type": "code",
   "execution_count": null,
   "metadata": {},
   "outputs": [],
   "source": [
    "fights['A_Reach'] = fights.apply(lambda row: get_bio_data(row['Fighter_A'], 'Reach'), axis=1)\n",
    "fights['B_Reach'] = fights.apply(lambda row: get_bio_data(row['Fighter_B'], 'Reach'), axis=1)\n",
    "fights['Dif_Reach'] = fights['A_Reach'] - fights['B_Reach']"
   ]
  },
  {
   "cell_type": "code",
   "execution_count": null,
   "metadata": {},
   "outputs": [],
   "source": [
    "fights['A_Leg_Reach'] = fights.apply(lambda row: get_bio_data(row['Fighter_A'], 'Leg reach'), axis=1)\n",
    "fights['B_Leg_Reach'] = fights.apply(lambda row: get_bio_data(row['Fighter_B'], 'Leg reach'), axis=1)\n",
    "fights['Dif_Leg_Reach'] = fights['A_Leg_Reach'] - fights['B_Leg_Reach']"
   ]
  },
  {
   "cell_type": "code",
   "execution_count": null,
   "metadata": {},
   "outputs": [],
   "source": [
    "#Identify columns with missing values\n",
    "nothere = fights.isna().sum()\n",
    "nothere = pd.DataFrame(nothere)\n",
    "nothere = nothere.loc[nothere[0] > 0]\n",
    "cols = nothere.index\n",
    "\n",
    "f, ax = plt.subplots(figsize = (12,12))\n",
    "\n",
    "sns.despine(f, left=True, bottom=True)\n",
    "sns.histplot(\n",
    "    data = fights[cols].isna().melt(value_name='missing'),\n",
    "    y= 'variable',\n",
    "    hue = 'missing',\n",
    "    multiple = 'fill', ax = ax)"
   ]
  },
  {
   "cell_type": "code",
   "execution_count": null,
   "metadata": {},
   "outputs": [],
   "source": [
    "# drop rows missing height data\n",
    "fights.dropna(subset=['A_Height', 'B_Height'], inplace=True)\n",
    "len(fights)"
   ]
  },
  {
   "cell_type": "code",
   "execution_count": null,
   "metadata": {},
   "outputs": [],
   "source": [
    "# New column indicating if we have the reach data for fighter A\n",
    "fights['A_Reach_NA'] = fights['A_Reach'].isna()\n",
    "\n",
    "# New column indicating if we have the reach data for fighter B\n",
    "fights['B_Reach_NA'] = fights['B_Reach'].isna()\n",
    "\n",
    "# New column indicating if we have the reach data for either fighter\n",
    "fights['Reach_NA'] = fights['A_Reach_NA'] | fights['B_Reach_NA']\n",
    "\n",
    "# New column indicating if we have leg reach data for fighter A\n",
    "fights['A_Leg_Reach_NA'] = fights['A_Leg_Reach'].isna()\n",
    "\n",
    "# New column indicating if we have leg reach data for fighter B\n",
    "fights['B_Leg_Reach_NA'] = fights['B_Leg_Reach'].isna()\n",
    "\n",
    "# New column indicating if we have leg reach data for either fighter\n",
    "fights['Leg_Reach_NA'] = fights['A_Leg_Reach_NA'] | fights['B_Leg_Reach_NA']"
   ]
  },
  {
   "attachments": {},
   "cell_type": "markdown",
   "metadata": {},
   "source": [
    "### Add Weightclass\n",
    "\n",
    "Then you can break down height, reach, etc... by weightclass, which is in the All_Events_Fights_and_FightUrls file"
   ]
  },
  {
   "cell_type": "code",
   "execution_count": null,
   "metadata": {},
   "outputs": [],
   "source": [
    "all_events = pd.read_csv('data/final/events/All_Events_Fights_and_FightUrls.csv')"
   ]
  },
  {
   "cell_type": "code",
   "execution_count": null,
   "metadata": {},
   "outputs": [],
   "source": [
    "all_events.head()"
   ]
  },
  {
   "cell_type": "code",
   "execution_count": null,
   "metadata": {},
   "outputs": [],
   "source": [
    "def find_typical_weightclass(fighter):\n",
    "    try:\n",
    "        data = all_events[all_events['Fighter1'] == fighter]\n",
    "        data2 = all_events[all_events['Fighter2'] == fighter]\n",
    "        data = pd.concat([data, data2])\n",
    "        d = data['Weight class'].value_counts().index[0]\n",
    "        return d\n",
    "    except:\n",
    "        return nan\n"
   ]
  },
  {
   "cell_type": "code",
   "execution_count": null,
   "metadata": {},
   "outputs": [],
   "source": [
    "# test\n",
    "weight = find_typical_weightclass('Khabib Nurmagomedov')\n",
    "weight"
   ]
  },
  {
   "cell_type": "code",
   "execution_count": null,
   "metadata": {},
   "outputs": [],
   "source": [
    "fights['A_Typical_Weightclass'] = fights.apply(lambda row: find_typical_weightclass(row['Fighter_A']), axis=1)\n",
    "fights['B_Typical_Weightclass'] = fights.apply(lambda row: find_typical_weightclass(row['Fighter_B']), axis=1)"
   ]
  },
  {
   "cell_type": "code",
   "execution_count": null,
   "metadata": {},
   "outputs": [],
   "source": [
    "fights.head(3)"
   ]
  },
  {
   "cell_type": "code",
   "execution_count": null,
   "metadata": {},
   "outputs": [],
   "source": [
    "# save to csv\n",
    "fights.to_csv('data/final/aggregates/Double_Fights_DF_V6.csv', index=False)"
   ]
  },
  {
   "cell_type": "code",
   "execution_count": null,
   "metadata": {},
   "outputs": [],
   "source": [
    "fights['fight_id']"
   ]
  },
  {
   "cell_type": "code",
   "execution_count": null,
   "metadata": {},
   "outputs": [],
   "source": [
    "# use fight_id to find weightclass of fight\n",
    "def find_weightclass(fight_id):\n",
    "    try:\n",
    "        fight_url = 'http://www.ufcstats.com/fight-details/' + str(fight_id)\n",
    "        data = all_events[all_events['fight_link'] == fight_url]\n",
    "        d = data['Weight class'].values[0]\n",
    "        return d\n",
    "    except:\n",
    "        return nan"
   ]
  },
  {
   "cell_type": "code",
   "execution_count": null,
   "metadata": {},
   "outputs": [],
   "source": [
    "# test\n",
    "weight = find_weightclass('ff6c8dab41efcc09')\n",
    "weight"
   ]
  },
  {
   "cell_type": "code",
   "execution_count": null,
   "metadata": {},
   "outputs": [],
   "source": [
    "fights['fight_weightclass'] = fights.apply(lambda row: find_weightclass(row['fight_id']), axis=1)"
   ]
  },
  {
   "cell_type": "code",
   "execution_count": null,
   "metadata": {},
   "outputs": [],
   "source": [
    "fights.head(3)"
   ]
  },
  {
   "cell_type": "code",
   "execution_count": null,
   "metadata": {},
   "outputs": [],
   "source": [
    "fights['A_Fight_in_Typical_Weightclass'] = fights.apply(lambda row: row['A_Typical_Weightclass'] == row['fight_weightclass'], axis=1)\n",
    "fights['B_Fight_in_Typical_Weightclass'] = fights.apply(lambda row: row['B_Typical_Weightclass'] == row['fight_weightclass'], axis=1)"
   ]
  },
  {
   "cell_type": "code",
   "execution_count": null,
   "metadata": {},
   "outputs": [],
   "source": [
    "fights.head(3)"
   ]
  },
  {
   "cell_type": "code",
   "execution_count": null,
   "metadata": {},
   "outputs": [],
   "source": [
    "fights.to_csv('data/final/aggregates/Double_Fights_DF_V7.csv', index=False)"
   ]
  },
  {
   "attachments": {},
   "cell_type": "markdown",
   "metadata": {},
   "source": [
    "### Feature: Method\n",
    "\n",
    "The main methods of fight finishing are:\n",
    "- Decision (DEC)\n",
    "- KO/TKO\n",
    "- Submission (SUB)\n"
   ]
  },
  {
   "cell_type": "code",
   "execution_count": null,
   "metadata": {},
   "outputs": [],
   "source": [
    "all_events.head(2)"
   ]
  },
  {
   "cell_type": "code",
   "execution_count": null,
   "metadata": {},
   "outputs": [],
   "source": [
    "all_events.Method.value_counts()[:20]"
   ]
  },
  {
   "cell_type": "code",
   "execution_count": null,
   "metadata": {},
   "outputs": [],
   "source": [
    "# split Method into Method and Method Detail\n",
    "all_events['Method_Primary'] = all_events['Method'].str.split('  ', expand=True)[0]\n",
    "all_events['Method_Detail'] = all_events['Method'].str.split('  ', expand=True)[1]\n",
    "all_events.head(3)"
   ]
  },
  {
   "cell_type": "code",
   "execution_count": null,
   "metadata": {},
   "outputs": [],
   "source": [
    "def get_method(fight_id):\n",
    "    try:\n",
    "        fight_url = 'http://www.ufcstats.com/fight-details/' + str(fight_id)\n",
    "        data = all_events[all_events['fight_link'] == fight_url]\n",
    "        d = data['Method_Primary'].values[0]\n",
    "        return d\n",
    "    except:\n",
    "        return nan"
   ]
  },
  {
   "cell_type": "code",
   "execution_count": null,
   "metadata": {},
   "outputs": [],
   "source": [
    "def get_details(fight_id):\n",
    "    try:\n",
    "        fight_url = 'http://www.ufcstats.com/fight-details/' + str(fight_id)\n",
    "        data = all_events[all_events['fight_link'] == fight_url]\n",
    "        d = data['Method_Detail'].values[0]\n",
    "        return d\n",
    "    except:\n",
    "        return nan"
   ]
  },
  {
   "cell_type": "code",
   "execution_count": null,
   "metadata": {},
   "outputs": [],
   "source": [
    "# test\n",
    "method = get_method('ff6c8dab41efcc09')\n",
    "method"
   ]
  },
  {
   "cell_type": "code",
   "execution_count": null,
   "metadata": {},
   "outputs": [],
   "source": [
    "fights['InFightData__Method_Primary'] = fights.apply(lambda row: get_method(row['fight_id']), axis=1)\n",
    "fights['InFightData__Method_Detail'] = fights.apply(lambda row: get_details(row['fight_id']), axis=1)"
   ]
  },
  {
   "attachments": {},
   "cell_type": "markdown",
   "metadata": {},
   "source": [
    "### Feature: Round & Time"
   ]
  },
  {
   "cell_type": "code",
   "execution_count": null,
   "metadata": {},
   "outputs": [],
   "source": [
    "def get_round_time(fight_id, round_or_time):\n",
    "    try: \n",
    "        fight_url = 'http://www.ufcstats.com/fight-details/' + str(fight_id)\n",
    "        data = all_events[all_events['fight_link'] == fight_url]\n",
    "        if round_or_time == 'round':\n",
    "            d = data['Round'].values[0]\n",
    "        elif round_or_time == 'time':\n",
    "            d = data['Time'].values[0]\n",
    "        return d\n",
    "    except:\n",
    "        return nan"
   ]
  },
  {
   "cell_type": "code",
   "execution_count": null,
   "metadata": {},
   "outputs": [],
   "source": [
    "# test\n",
    "round = get_round_time('ff6c8dab41efcc09', 'round')\n",
    "round"
   ]
  },
  {
   "cell_type": "code",
   "execution_count": null,
   "metadata": {},
   "outputs": [],
   "source": [
    "fights['InFightData__Round'] = fights.apply(lambda row: get_round_time(row['fight_id'], 'round'), axis=1)\n",
    "fights['InFightData__Time'] = fights.apply(lambda row: get_round_time(row['fight_id'], 'time'), axis=1)"
   ]
  },
  {
   "cell_type": "code",
   "execution_count": null,
   "metadata": {},
   "outputs": [],
   "source": [
    "fights.head(3)"
   ]
  },
  {
   "cell_type": "code",
   "execution_count": null,
   "metadata": {},
   "outputs": [],
   "source": [
    "fights.to_csv('data/final/aggregates/Double_Fights_DF_V8.csv', index=False)"
   ]
  },
  {
   "attachments": {},
   "cell_type": "markdown",
   "metadata": {},
   "source": [
    "### Dealing with Remaining Missing Values"
   ]
  },
  {
   "cell_type": "code",
   "execution_count": null,
   "metadata": {},
   "outputs": [],
   "source": [
    "# get missing values, sorted by column\n",
    "missing_values = fights.isnull().sum().sort_values(ascending=False)\n",
    "# get rid of 0 values\n",
    "missing_values = missing_values[missing_values > 0]\n",
    "# get percentage of missing values\n",
    "missing_values = missing_values / len(fights) * 100\n",
    "missing_values"
   ]
  },
  {
   "cell_type": "code",
   "execution_count": null,
   "metadata": {},
   "outputs": [],
   "source": [
    "# replace nan values in \"InFightData__Method_Detail\" with \"None\"\n",
    "fights['InFightData__Method_Detail'] = fights['InFightData__Method_Detail'].fillna('None')"
   ]
  },
  {
   "cell_type": "code",
   "execution_count": null,
   "metadata": {},
   "outputs": [],
   "source": [
    "# replace nan values in Typical Weightclass with current weightclass\n",
    "fights['A_Typical_Weightclass'] = fights.apply(lambda row: row['fight_weightclass'] if pd.isnull(row['A_Typical_Weightclass']) else row['A_Typical_Weightclass'], axis=1)\n",
    "fights['B_Typical_Weightclass'] = fights.apply(lambda row: row['fight_weightclass'] if pd.isnull(row['B_Typical_Weightclass']) else row['B_Typical_Weightclass'], axis=1)"
   ]
  },
  {
   "cell_type": "code",
   "execution_count": null,
   "metadata": {},
   "outputs": [],
   "source": [
    "# get median reach per height\n",
    "reach_by_height = fights.groupby('A_Height')['A_Reach'].median()\n",
    "reach_by_height"
   ]
  },
  {
   "cell_type": "code",
   "execution_count": null,
   "metadata": {},
   "outputs": [],
   "source": [
    "# replace nan values in reach with median reach per height\n",
    "fights['A_Reach'] = fights.apply(lambda row: reach_by_height[row['A_Height']] if pd.isnull(row['A_Reach']) else row['A_Reach'], axis=1)\n",
    "fights['B_Reach'] = fights.apply(lambda row: reach_by_height[row['B_Height']] if pd.isnull(row['B_Reach']) else row['B_Reach'], axis=1)"
   ]
  },
  {
   "cell_type": "code",
   "execution_count": null,
   "metadata": {},
   "outputs": [],
   "source": [
    "# get median leg reach per height\n",
    "leg_reach_by_height = fights.groupby('A_Height')['A_Leg_Reach'].median()\n",
    "leg_reach_by_height"
   ]
  },
  {
   "cell_type": "code",
   "execution_count": null,
   "metadata": {},
   "outputs": [],
   "source": [
    "# replace nan values in leg reach with median leg reach per height\n",
    "fights['A_Leg_Reach'] = fights.apply(lambda row: leg_reach_by_height[row['A_Height']] if pd.isnull(row['A_Leg_Reach']) else row['A_Leg_Reach'], axis=1)\n",
    "fights['B_Leg_Reach'] = fights.apply(lambda row: leg_reach_by_height[row['B_Height']] if pd.isnull(row['B_Leg_Reach']) else row['B_Leg_Reach'], axis=1)"
   ]
  },
  {
   "cell_type": "code",
   "execution_count": null,
   "metadata": {},
   "outputs": [],
   "source": [
    "# recalculate leg reach dif and reach dif\n",
    "fights['A_Leg_Reach_Dif'] = fights['A_Leg_Reach'] - fights['B_Leg_Reach']\n",
    "fights['A_Reach_Dif'] = fights['A_Reach'] - fights['B_Reach']"
   ]
  },
  {
   "cell_type": "code",
   "execution_count": null,
   "metadata": {},
   "outputs": [],
   "source": [
    "fights.dtypes[-40:]"
   ]
  },
  {
   "cell_type": "code",
   "execution_count": null,
   "metadata": {},
   "outputs": [],
   "source": [
    "# get missing values, sorted by column\n",
    "missing_values = fights.isnull().sum().sort_values(ascending=False)\n",
    "# get rid of 0 values\n",
    "missing_values = missing_values[missing_values > 0]\n",
    "# get percentage of missing values\n",
    "missing_values = missing_values / len(fights) * 100\n",
    "missing_values"
   ]
  },
  {
   "cell_type": "code",
   "execution_count": null,
   "metadata": {},
   "outputs": [],
   "source": [
    "# get median reach per weightclass\n",
    "reach_by_weightclass = fights.groupby('fight_weightclass')['A_Reach'].median()\n",
    "reach_by_weightclass"
   ]
  },
  {
   "cell_type": "code",
   "execution_count": null,
   "metadata": {},
   "outputs": [],
   "source": [
    "# get median height per weightclass\n",
    "height_by_weightclass = fights.groupby('fight_weightclass')['A_Height'].median()\n",
    "height_by_weightclass"
   ]
  },
  {
   "cell_type": "code",
   "execution_count": null,
   "metadata": {},
   "outputs": [],
   "source": [
    "# replace nan values in \"A_Reach\" with median for weight class\n",
    "fights['A_Reach'] = fights.apply(lambda row: reach_by_weightclass[row['fight_weightclass']] if pd.isnull(row['A_Reach']) else row['A_Reach'], axis=1)\n",
    "fights['B_Reach'] = fights.apply(lambda row: reach_by_weightclass[row['fight_weightclass']] if pd.isnull(row['B_Reach']) else row['B_Reach'], axis=1)\n",
    "\n",
    "# replace nan values in \"A_Height\" with median for weight class\n",
    "fights['A_Height'] = fights.apply(lambda row: height_by_weightclass[row['fight_weightclass']] if pd.isnull(row['A_Height']) else row['A_Height'], axis=1)\n",
    "fights['B_Height'] = fights.apply(lambda row: height_by_weightclass[row['fight_weightclass']] if pd.isnull(row['B_Height']) else row['B_Height'], axis=1)\n"
   ]
  },
  {
   "cell_type": "code",
   "execution_count": null,
   "metadata": {},
   "outputs": [],
   "source": [
    "# Once again, re-run the Difs\n",
    "fights['Dif_Leg_Reach'] = fights['A_Leg_Reach'] - fights['B_Leg_Reach']\n",
    "fights['Dif_Reach'] = fights['A_Reach'] - fights['B_Reach']"
   ]
  },
  {
   "cell_type": "code",
   "execution_count": null,
   "metadata": {},
   "outputs": [],
   "source": [
    "# get missing\n",
    "missing_values = fights.isnull().sum().sort_values(ascending=False)\n",
    "missing_values = missing_values[missing_values > 0]\n",
    "missing_values = missing_values / len(fights) * 100\n",
    "missing_values"
   ]
  },
  {
   "cell_type": "code",
   "execution_count": null,
   "metadata": {},
   "outputs": [],
   "source": [
    "# drop nan values\n",
    "fights = fights.dropna()\n"
   ]
  },
  {
   "cell_type": "code",
   "execution_count": null,
   "metadata": {},
   "outputs": [],
   "source": [
    "# drop A_Reach_Dif and A_Leg_Reach_Dif\n",
    "fights = fights.drop(['A_Reach_Dif', 'A_Leg_Reach_Dif'], axis=1)"
   ]
  },
  {
   "attachments": {},
   "cell_type": "markdown",
   "metadata": {},
   "source": [
    "### Feature: Size Ratios"
   ]
  },
  {
   "cell_type": "code",
   "execution_count": null,
   "metadata": {},
   "outputs": [],
   "source": [
    "fights['A_Ape_Index'] = fights['A_Reach'] / fights['A_Height']\n",
    "fights['B_Ape_Index'] = fights['B_Reach'] / fights['B_Height']\n",
    "\n",
    "# Leg_Index = Leg_Reach / Height\n",
    "fights['A_Leg_Index'] = fights['A_Leg_Reach'] / fights['A_Height']\n",
    "fights['B_Leg_Index'] = fights['B_Leg_Reach'] / fights['B_Height']\n",
    "\n",
    "# Leg_to_Wing_Index = Leg_Reach / Reach\n",
    "fights['A_Leg_to_Wing_Index'] = fights['A_Leg_Reach'] / fights['A_Reach']\n",
    "fights['B_Leg_to_Wing_Index'] = fights['B_Leg_Reach'] / fights['B_Reach']"
   ]
  },
  {
   "cell_type": "code",
   "execution_count": null,
   "metadata": {},
   "outputs": [],
   "source": [
    "# save to csv\n",
    "fights.to_csv('data/final/aggregates/Double_Fights_DF_V9.csv', index=False)"
   ]
  },
  {
   "attachments": {},
   "cell_type": "markdown",
   "metadata": {},
   "source": [
    "### Feature: Winner"
   ]
  },
  {
   "cell_type": "code",
   "execution_count": null,
   "metadata": {},
   "outputs": [],
   "source": [
    "# split Winner columns by \" \n",
    "fights['Winner'] = fights['Winner'].str.split('\"').str[0].str.strip()\n",
    "fights.head(2)"
   ]
  },
  {
   "cell_type": "code",
   "execution_count": null,
   "metadata": {},
   "outputs": [],
   "source": [
    "# add column \"win?\", if column winner is equal to fighter_A\n",
    "fights['win?'] = fights.apply(lambda row: 1 if row['Winner'] == row['Fighter_A'] else 0, axis=1)\n",
    "fights.head(30)"
   ]
  },
  {
   "cell_type": "code",
   "execution_count": null,
   "metadata": {},
   "outputs": [],
   "source": [
    "# check number of wins vs losses\n",
    "fights['win?'].value_counts()"
   ]
  },
  {
   "cell_type": "code",
   "execution_count": null,
   "metadata": {},
   "outputs": [],
   "source": [
    "fights.to_csv('data/final/aggregates/Double_Fights_DF_V10.csv', index=False)"
   ]
  },
  {
   "attachments": {},
   "cell_type": "markdown",
   "metadata": {},
   "source": [
    "### Feature: Favorite"
   ]
  },
  {
   "cell_type": "code",
   "execution_count": null,
   "metadata": {},
   "outputs": [],
   "source": [
    "# get columns in fight df with odds in the name\n",
    "odds_columns = [col for col in fights.columns if 'Odds' in col]\n",
    "odds_columns"
   ]
  },
  {
   "cell_type": "code",
   "execution_count": null,
   "metadata": {},
   "outputs": [],
   "source": [
    "fights['favorite?'] = np.where(fights['Fighter_A_Odds'] < fights['Fighter_B_Odds'], 1, 0)\n",
    "fights['favorite?'].value_counts()"
   ]
  },
  {
   "cell_type": "code",
   "execution_count": null,
   "metadata": {},
   "outputs": [],
   "source": [
    "fight_check_cols = ['Fighter_A', 'Fighter_B', 'Winner', 'win?', 'Fighter_A_Odds', 'Fighter_B_Odds','favorite?']\n",
    "fights[fight_check_cols].head(30)"
   ]
  },
  {
   "cell_type": "code",
   "execution_count": null,
   "metadata": {},
   "outputs": [],
   "source": [
    "# save to csv\n",
    "fights.to_csv('data/final/aggregates/Double_Fights_DF_V11.csv', index=False)"
   ]
  },
  {
   "cell_type": "code",
   "execution_count": null,
   "metadata": {},
   "outputs": [],
   "source": [
    "fights = pd.read_csv('data/final/aggregates/Double_Fights_DF_V11.csv')"
   ]
  },
  {
   "cell_type": "code",
   "execution_count": null,
   "metadata": {},
   "outputs": [],
   "source": [
    "fights.head()"
   ]
  },
  {
   "attachments": {},
   "cell_type": "markdown",
   "metadata": {},
   "source": [
    "### Features: Win/Loss Details"
   ]
  },
  {
   "cell_type": "code",
   "execution_count": null,
   "metadata": {},
   "outputs": [],
   "source": [
    "# get columns with date in the name\n",
    "date_columns = [col for col in fights.columns if 'date' in col]\n",
    "date_columns"
   ]
  },
  {
   "cell_type": "code",
   "execution_count": null,
   "metadata": {},
   "outputs": [],
   "source": [
    "# add a formatted date column\n",
    "fights['datetime'] = pd.to_datetime(fights['date'])\n",
    "fights['date_formatted'] = fights['datetime'].dt.date"
   ]
  },
  {
   "cell_type": "code",
   "execution_count": null,
   "metadata": {},
   "outputs": [],
   "source": [
    "fights"
   ]
  },
  {
   "cell_type": "code",
   "execution_count": null,
   "metadata": {},
   "outputs": [],
   "source": [
    "def get_number_UFC_fights(fighter, date):\n",
    "    data = fights[fights['Fighter_A'] == fighter]\n",
    "    data = data[data['datetime'] < date]\n",
    "    return len(data)\n"
   ]
  },
  {
   "cell_type": "code",
   "execution_count": null,
   "metadata": {},
   "outputs": [],
   "source": [
    "get_number_UFC_fights('Conor McGregor', '2020-01-01')"
   ]
  },
  {
   "cell_type": "code",
   "execution_count": null,
   "metadata": {},
   "outputs": [],
   "source": [
    "fights['A_Total_UFC_Fights'] = fights.apply(lambda row: get_number_UFC_fights(row['Fighter_A'], row['datetime']), axis=1)\n",
    "fights['B_Total_UFC_Fights'] = fights.apply(lambda row: get_number_UFC_fights(row['Fighter_B'], row['datetime']), axis=1)\n",
    "\n",
    "# add diff\n",
    "fights['Dif_Total_UFC_Fights'] = fights['A_Total_UFC_Fights'] - fights['B_Total_UFC_Fights']"
   ]
  },
  {
   "cell_type": "code",
   "execution_count": null,
   "metadata": {},
   "outputs": [],
   "source": [
    "fights.head(3)"
   ]
  },
  {
   "attachments": {},
   "cell_type": "markdown",
   "metadata": {},
   "source": [
    "#### Wins"
   ]
  },
  {
   "cell_type": "code",
   "execution_count": null,
   "metadata": {},
   "outputs": [],
   "source": [
    "# add number of wins\n",
    "def get_number_UFC_wins(fighter, date):\n",
    "    data = fights[fights['Fighter_A'] == fighter]\n",
    "    data = data[data['datetime'] < date]\n",
    "    return data['win?'].sum()"
   ]
  },
  {
   "cell_type": "code",
   "execution_count": null,
   "metadata": {},
   "outputs": [],
   "source": [
    "fights['A_UFC_Wins'] = fights.apply(lambda row: get_number_UFC_wins(row['Fighter_A'], row['datetime']), axis=1)\n",
    "fights['B_UFC_Wins'] = fights.apply(lambda row: get_number_UFC_wins(row['Fighter_B'], row['datetime']), axis=1)\n",
    "\n",
    "# add diff\n",
    "fights['Dif_UFC_Wins'] = fights['A_UFC_Wins'] - fights['B_UFC_Wins']"
   ]
  },
  {
   "attachments": {},
   "cell_type": "markdown",
   "metadata": {},
   "source": [
    "#### Losses"
   ]
  },
  {
   "cell_type": "code",
   "execution_count": null,
   "metadata": {},
   "outputs": [],
   "source": [
    "def get_number_UFC_losses(fighter, date):\n",
    "    data = fights[fights['Fighter_A'] == fighter]\n",
    "    data = data[data['datetime'] < date]\n",
    "    return len(data) - data['win?'].sum()"
   ]
  },
  {
   "cell_type": "code",
   "execution_count": null,
   "metadata": {},
   "outputs": [],
   "source": [
    "fights['A_UFC_Losses'] = fights.apply(lambda row: get_number_UFC_losses(row['Fighter_A'], row['datetime']), axis=1)\n",
    "fights['B_UFC_Losses'] = fights.apply(lambda row: get_number_UFC_losses(row['Fighter_B'], row['datetime']), axis=1)\n",
    "\n",
    "# add diff\n",
    "fights['Dif_UFC_Losses'] = fights['A_UFC_Losses'] - fights['B_UFC_Losses']"
   ]
  },
  {
   "attachments": {},
   "cell_type": "markdown",
   "metadata": {},
   "source": [
    "#### W/L Percentages"
   ]
  },
  {
   "cell_type": "code",
   "execution_count": null,
   "metadata": {},
   "outputs": [],
   "source": [
    "fights['A_UFC_Win_Percentage'] = fights['A_UFC_Wins'] / fights['A_Total_UFC_Fights']\n",
    "fights['B_UFC_Win_Percentage'] = fights['B_UFC_Wins'] / fights['B_Total_UFC_Fights']\n",
    "\n",
    "# add diff\n",
    "fights['Dif_UFC_Win_Percentage'] = fights['A_UFC_Win_Percentage'] - fights['B_UFC_Win_Percentage']"
   ]
  },
  {
   "attachments": {},
   "cell_type": "markdown",
   "metadata": {},
   "source": [
    "### Last 5\n",
    "\n",
    "#### Last 5 Win Percentage"
   ]
  },
  {
   "cell_type": "code",
   "execution_count": null,
   "metadata": {},
   "outputs": [],
   "source": [
    "def get_last5_win_percentage(fighter, date):\n",
    "    data = fights[fights['Fighter_A'] == fighter]\n",
    "    data = data[data['datetime'] < date]\n",
    "    data = data.sort_values(by='datetime', ascending=False)\n",
    "    data = data.head(5)\n",
    "    return data['win?'].sum() / len(data)"
   ]
  },
  {
   "cell_type": "code",
   "execution_count": null,
   "metadata": {},
   "outputs": [],
   "source": [
    "fights['A_Last5_Win_Percentage'] = fights.apply(lambda row: get_last5_win_percentage(row['Fighter_A'], row['datetime']), axis=1)\n",
    "fights['B_Last5_Win_Percentage'] = fights.apply(lambda row: get_last5_win_percentage(row['Fighter_B'], row['datetime']), axis=1)\n",
    "\n",
    "# add diff\n",
    "fights['Dif_Last5_Win_Percentage'] = fights['A_Last5_Win_Percentage'] - fights['B_Last5_Win_Percentage']"
   ]
  },
  {
   "attachments": {},
   "cell_type": "markdown",
   "metadata": {},
   "source": [
    "#### Last 3 Win Percentage"
   ]
  },
  {
   "cell_type": "code",
   "execution_count": null,
   "metadata": {},
   "outputs": [],
   "source": [
    "def get_last3_win_percentage(fighter, date):\n",
    "    data = fights[fights['Fighter_A'] == fighter]\n",
    "    data = data[data['datetime'] < date]\n",
    "    data = data.sort_values(by='datetime', ascending=False)\n",
    "    data = data.head(3)\n",
    "    return data['win?'].sum() / len(data)"
   ]
  },
  {
   "cell_type": "code",
   "execution_count": null,
   "metadata": {},
   "outputs": [],
   "source": [
    "fights['A_Last3_Win_Percentage'] = fights.apply(lambda row: get_last3_win_percentage(row['Fighter_A'], row['datetime']), axis=1)\n",
    "fights['B_Last3_Win_Percentage'] = fights.apply(lambda row: get_last3_win_percentage(row['Fighter_B'], row['datetime']), axis=1)\n",
    "\n",
    "# add diff\n",
    "fights['Dif_Last3_Win_Percentage'] = fights['A_Last3_Win_Percentage'] - fights['B_Last3_Win_Percentage']"
   ]
  },
  {
   "attachments": {},
   "cell_type": "markdown",
   "metadata": {},
   "source": [
    "### Win_by / Loss_by Features"
   ]
  },
  {
   "cell_type": "code",
   "execution_count": null,
   "metadata": {},
   "outputs": [],
   "source": [
    "\n",
    "fights['InFightData__Method_Primary'].value_counts()"
   ]
  },
  {
   "cell_type": "code",
   "execution_count": null,
   "metadata": {},
   "outputs": [],
   "source": [
    "def get_general_method(fight_method):\n",
    "    if 'DEC' in fight_method:\n",
    "        return 'DEC'\n",
    "    elif 'SUB' in fight_method:\n",
    "        return 'SUB'\n",
    "    elif 'KO' in fight_method:\n",
    "        return 'KO'\n",
    "    else:\n",
    "        return 'OTHER'"
   ]
  },
  {
   "cell_type": "code",
   "execution_count": null,
   "metadata": {},
   "outputs": [],
   "source": [
    "# make general method column\n",
    "fights['InFightData__General_Method'] = fights['InFightData__Method_Primary'].apply(lambda x: get_general_method(x))"
   ]
  },
  {
   "cell_type": "code",
   "execution_count": null,
   "metadata": {},
   "outputs": [],
   "source": [
    "fights.head(2)"
   ]
  },
  {
   "cell_type": "code",
   "execution_count": null,
   "metadata": {},
   "outputs": [],
   "source": [
    "def get_win_by_ko_percent(fighter, date):\n",
    "    data = fights[fights['Fighter_A'] == fighter]\n",
    "    data = data[data['datetime'] < date]\n",
    "    wins = data[data['win?'] == 1]\n",
    "    wins = wins[wins['InFightData__General_Method'] == 'KO']\n",
    "    return data['win?'].sum() / len(data)\n",
    "\n",
    "def get_loss_by_ko_percent(fighter, date):\n",
    "    data = fights[fights['Fighter_A'] == fighter]\n",
    "    data = data[data['datetime'] < date]\n",
    "    losses = data[data['win?'] == 0]\n",
    "    losses = losses[losses['InFightData__General_Method'] == 'KO']\n",
    "    return data['win?'].sum() / len(data)"
   ]
  },
  {
   "cell_type": "code",
   "execution_count": null,
   "metadata": {},
   "outputs": [],
   "source": [
    "fights['A_Win_By_KO_Percentage'] = fights.apply(lambda row: get_win_by_ko_percent(row['Fighter_A'], row['datetime']), axis=1)\n",
    "fights['B_Win_By_KO_Percentage'] = fights.apply(lambda row: get_win_by_ko_percent(row['Fighter_B'], row['datetime']), axis=1)\n",
    "\n",
    "# add diff\n",
    "fights['Dif_Win_By_KO_Percentage'] = fights['A_Win_By_KO_Percentage'] - fights['B_Win_By_KO_Percentage']"
   ]
  },
  {
   "cell_type": "code",
   "execution_count": null,
   "metadata": {},
   "outputs": [],
   "source": [
    "fights['A_Loss_By_KO_Percentage'] = fights.apply(lambda row: get_loss_by_ko_percent(row['Fighter_A'], row['datetime']), axis=1)\n",
    "fights['B_Loss_By_KO_Percentage'] = fights.apply(lambda row: get_loss_by_ko_percent(row['Fighter_B'], row['datetime']), axis=1)\n",
    "\n",
    "# add diff\n",
    "fights['Dif_Loss_By_KO_Percentage'] = fights['A_Loss_By_KO_Percentage'] - fights['B_Loss_By_KO_Percentage']"
   ]
  },
  {
   "attachments": {},
   "cell_type": "markdown",
   "metadata": {},
   "source": [
    "#### Win/Loss by DEC"
   ]
  },
  {
   "cell_type": "code",
   "execution_count": null,
   "metadata": {},
   "outputs": [],
   "source": [
    "def get_win_by_decision_percent(fighter, date):\n",
    "    data = fights[fights['Fighter_A'] == fighter]\n",
    "    data = data[data['datetime'] < date]\n",
    "    wins = data[data['win?'] == 1]\n",
    "    wins = wins[wins['InFightData__General_Method'] == 'DEC']\n",
    "    return data['win?'].sum() / len(data)\n",
    "\n",
    "def get_loss_by_decision_percent(fighter, date):\n",
    "    data = fights[fights['Fighter_A'] == fighter]\n",
    "    data = data[data['datetime'] < date]\n",
    "    losses = data[data['win?'] == 0]\n",
    "    losses = losses[losses['InFightData__General_Method'] == 'DEC']\n",
    "    return data['win?'].sum() / len(data)"
   ]
  },
  {
   "cell_type": "code",
   "execution_count": null,
   "metadata": {},
   "outputs": [],
   "source": [
    "fights['A_Win_By_Decision_Percentage'] = fights.apply(lambda row: get_win_by_decision_percent(row['Fighter_A'], row['datetime']), axis=1)\n",
    "fights['B_Win_By_Decision_Percentage'] = fights.apply(lambda row: get_win_by_decision_percent(row['Fighter_B'], row['datetime']), axis=1)\n",
    "\n",
    "# add diff\n",
    "fights['Dif_Win_By_Decision_Percentage'] = fights['A_Win_By_Decision_Percentage'] - fights['B_Win_By_Decision_Percentage']"
   ]
  },
  {
   "cell_type": "code",
   "execution_count": null,
   "metadata": {},
   "outputs": [],
   "source": [
    "fights['A_Loss_By_Decision_Percentage'] = fights.apply(lambda row: get_loss_by_decision_percent(row['Fighter_A'], row['datetime']), axis=1)\n",
    "fights['B_Loss_By_Decision_Percentage'] = fights.apply(lambda row: get_loss_by_decision_percent(row['Fighter_B'], row['datetime']), axis=1)\n",
    "\n",
    "# add diff\n",
    "fights['Dif_Loss_By_Decision_Percentage'] = fights['A_Loss_By_Decision_Percentage'] - fights['B_Loss_By_Decision_Percentage']"
   ]
  },
  {
   "cell_type": "code",
   "execution_count": null,
   "metadata": {},
   "outputs": [],
   "source": [
    "# save to csv\n",
    "fights.to_csv('data/final/aggregates/Double_Fights_DF_V12.csv', index=False)"
   ]
  },
  {
   "attachments": {},
   "cell_type": "markdown",
   "metadata": {},
   "source": [
    "### Round & Time Statistics"
   ]
  },
  {
   "cell_type": "code",
   "execution_count": null,
   "metadata": {},
   "outputs": [],
   "source": [
    "# find round columns\n",
    "round_cols = [col for col in fights.columns if 'Round' in col]\n",
    "round_cols"
   ]
  },
  {
   "cell_type": "code",
   "execution_count": null,
   "metadata": {},
   "outputs": [],
   "source": [
    "time_cols = [col for col in fights.columns if 'Time' in col]\n",
    "time_cols"
   ]
  },
  {
   "cell_type": "code",
   "execution_count": null,
   "metadata": {},
   "outputs": [],
   "source": [
    "fights.InFightData__Round.dtypes"
   ]
  },
  {
   "cell_type": "code",
   "execution_count": null,
   "metadata": {},
   "outputs": [],
   "source": [
    "fights.InFightData__Time"
   ]
  },
  {
   "cell_type": "code",
   "execution_count": null,
   "metadata": {},
   "outputs": [],
   "source": [
    "# convert time to seconds\n",
    "fights['final_round_seconds'] = fights.InFightData__Time.apply(lambda x: int(x.split(':')[0]) * 60 + int(x.split(':')[1]))"
   ]
  },
  {
   "cell_type": "code",
   "execution_count": null,
   "metadata": {},
   "outputs": [],
   "source": [
    "fights['InFightData__Total_Fight_Time_Seconds'] = (fights['InFightData__Round'] - 1) * 5 * 60 + fights['final_round_seconds']"
   ]
  },
  {
   "attachments": {},
   "cell_type": "markdown",
   "metadata": {},
   "source": [
    "#### Career Fight Time"
   ]
  },
  {
   "cell_type": "code",
   "execution_count": null,
   "metadata": {},
   "outputs": [],
   "source": [
    "def get_career_fight_time_seconds(fighter, date):\n",
    "    data = fights[fights['Fighter_A'] == fighter]\n",
    "    data = data[data['datetime'] < date]\n",
    "    return data['InFightData__Total_Fight_Time_Seconds'].sum()"
   ]
  },
  {
   "cell_type": "code",
   "execution_count": null,
   "metadata": {},
   "outputs": [],
   "source": [
    "fights['A_UFC_Fight_Time_Seconds'] = fights.apply(lambda row: get_career_fight_time_seconds(row['Fighter_A'], row['datetime']), axis=1)\n",
    "fights['B_UFC_Fight_Time_Seconds'] = fights.apply(lambda row: get_career_fight_time_seconds(row['Fighter_B'], row['datetime']), axis=1)\n",
    "\n",
    "# add diff\n",
    "fights['Dif_UFC_Fight_Time_Seconds'] = fights['A_UFC_Fight_Time_Seconds'] - fights['B_UFC_Fight_Time_Seconds']"
   ]
  },
  {
   "attachments": {},
   "cell_type": "markdown",
   "metadata": {},
   "source": [
    "### Fix NANs"
   ]
  },
  {
   "cell_type": "code",
   "execution_count": null,
   "metadata": {},
   "outputs": [],
   "source": [
    "missing = fights.isna().sum()\n",
    "missing[missing > 0]\n",
    "missing = missing[missing > 0]\n",
    "missing"
   ]
  },
  {
   "cell_type": "code",
   "execution_count": null,
   "metadata": {},
   "outputs": [],
   "source": [
    "# fill nans with 0\n",
    "fights = fights.fillna(0)"
   ]
  },
  {
   "cell_type": "code",
   "execution_count": null,
   "metadata": {},
   "outputs": [],
   "source": [
    "fights.to_csv('data/final/aggregates/Double_Fights_DF_V13.csv', index=False)"
   ]
  },
  {
   "attachments": {},
   "cell_type": "markdown",
   "metadata": {},
   "source": [
    "### Stats / Round Features\n",
    "\n",
    "For these, use 1) Top down, and 2) Opponent averages"
   ]
  },
  {
   "cell_type": "code",
   "execution_count": null,
   "metadata": {},
   "outputs": [],
   "source": [
    "fights = pd.read_csv('data/final/aggregates/Double_Fights_DF_V13.csv')"
   ]
  },
  {
   "cell_type": "code",
   "execution_count": null,
   "metadata": {},
   "outputs": [],
   "source": [
    "fights.columns.to_list()"
   ]
  },
  {
   "cell_type": "code",
   "execution_count": null,
   "metadata": {},
   "outputs": [],
   "source": [
    "topdown_cols = [n for n in fights.columns.to_list() if 'topdown' in n]\n",
    "# A TOPDOWN\n",
    "a_topdown_cols = [n for n in topdown_cols if n.startswith('A_')]\n",
    "# get rid of any percent columns\n",
    "a_topdown_cols = [n for n in a_topdown_cols if 'percent' not in n]\n",
    "\n",
    "# B TOPDOWN\n",
    "b_topdown_cols = [n for n in topdown_cols if n.startswith('B_')]\n",
    "# get rid of any percent columns\n",
    "b_topdown_cols = [n for n in b_topdown_cols if 'percent' not in n]\n"
   ]
  },
  {
   "cell_type": "code",
   "execution_count": null,
   "metadata": {},
   "outputs": [],
   "source": [
    "fights.head(2)"
   ]
  },
  {
   "cell_type": "code",
   "execution_count": null,
   "metadata": {},
   "outputs": [],
   "source": [
    "# use A_UFC_Fight_Time_Seconds to deduce total number of rounds\n",
    "# 5 minutes per round\n",
    "# get total number of rounds in ufc\n",
    "fights['A_UFC_Fight_Rounds'] = fights['A_UFC_Fight_Time_Seconds'] / 300\n",
    "fights['B_UFC_Fight_Rounds'] = fights['B_UFC_Fight_Time_Seconds'] / 300"
   ]
  },
  {
   "cell_type": "code",
   "execution_count": null,
   "metadata": {},
   "outputs": [],
   "source": [
    "# add per-round averages using topdown columns\n",
    "for col in a_topdown_cols:\n",
    "    fights[f'{col}_per_round'] = fights[col] / fights['A_UFC_Fight_Rounds']\n",
    "\n",
    "for col in b_topdown_cols:\n",
    "    fights[f'{col}_per_round'] = fights[col] / fights['B_UFC_Fight_Rounds']"
   ]
  },
  {
   "cell_type": "code",
   "execution_count": null,
   "metadata": {},
   "outputs": [],
   "source": [
    "fights.head(2)"
   ]
  },
  {
   "cell_type": "code",
   "execution_count": null,
   "metadata": {},
   "outputs": [],
   "source": [
    "fights.columns.to_list()"
   ]
  },
  {
   "cell_type": "code",
   "execution_count": null,
   "metadata": {},
   "outputs": [],
   "source": [
    "# get opponent average columns\n",
    "opp_avg_cols = [n for n in fights.columns.to_list() if 'Opp_Avg' in n]\n",
    "# A OPP AVG\n",
    "a_opp_avg_cols = [n for n in opp_avg_cols if n.startswith('A_')]\n",
    "# get rid of any percent columns\n",
    "a_opp_avg_cols = [n for n in a_opp_avg_cols if 'percent' not in n]\n",
    "\n",
    "# B OPP AVG\n",
    "b_opp_avg_cols = [n for n in opp_avg_cols if n.startswith('B_')]\n",
    "# get rid of any percent columns\n",
    "b_opp_avg_cols = [n for n in b_opp_avg_cols if 'percent' not in n]\n",
    "\n",
    "b_opp_avg_cols"
   ]
  },
  {
   "cell_type": "code",
   "execution_count": null,
   "metadata": {},
   "outputs": [],
   "source": [
    "# add per-round averages using opponent averages\n",
    "for col in a_opp_avg_cols:\n",
    "    fights[f'{col}_per_round'] = fights[col] / fights['A_UFC_Fight_Rounds']\n",
    "\n",
    "for col in b_opp_avg_cols:\n",
    "    fights[f'{col}_per_round'] = fights[col] / fights['B_UFC_Fight_Rounds']\n"
   ]
  },
  {
   "attachments": {},
   "cell_type": "markdown",
   "metadata": {},
   "source": [
    "#### Add Per-Round Difs"
   ]
  },
  {
   "cell_type": "code",
   "execution_count": null,
   "metadata": {},
   "outputs": [],
   "source": [
    "# add difference in per-round averages\n",
    "\n",
    "# get per-round topdown columns\n",
    "topdown_per_round_cols = [n for n in fights.columns.to_list() if 'topdown' and 'per_round' in n]\n",
    "\n",
    "topdown_per_round_cols = pd.DataFrame(topdown_per_round_cols)\n",
    "topdown_per_round_cols.columns = ['col']\n",
    "topdown_per_round_cols['non-specific'] = topdown_per_round_cols['col'].str[2:]\n",
    "# get unique values\n",
    "topdown_per_round_cols = topdown_per_round_cols['non-specific'].unique().tolist()"
   ]
  },
  {
   "cell_type": "code",
   "execution_count": null,
   "metadata": {},
   "outputs": [],
   "source": [
    "topdown_per_round_cols"
   ]
  },
  {
   "cell_type": "code",
   "execution_count": null,
   "metadata": {},
   "outputs": [],
   "source": [
    "for col in topdown_per_round_cols:\n",
    "    fights[f'Dif_{col}'] = fights[f'A_{col}'] - fights[f'B_{col}']"
   ]
  },
  {
   "cell_type": "code",
   "execution_count": null,
   "metadata": {},
   "outputs": [],
   "source": [
    "fights.head(2)"
   ]
  },
  {
   "cell_type": "code",
   "execution_count": null,
   "metadata": {},
   "outputs": [],
   "source": [
    "# save to csv\n",
    "fights.to_csv('data/final/aggregates/Double_Fights_DF_V14.csv', index=False)"
   ]
  },
  {
   "attachments": {},
   "cell_type": "markdown",
   "metadata": {},
   "source": [
    "4/5/23 -- Adding Fighter Training History"
   ]
  },
  {
   "cell_type": "code",
   "execution_count": 3,
   "metadata": {},
   "outputs": [],
   "source": [
    "fights = pd.read_csv('data/final/aggregates/Double_Fights_DF_V14.csv')"
   ]
  },
  {
   "cell_type": "code",
   "execution_count": 4,
   "metadata": {},
   "outputs": [
    {
     "data": {
      "text/html": [
       "<div>\n",
       "<style scoped>\n",
       "    .dataframe tbody tr th:only-of-type {\n",
       "        vertical-align: middle;\n",
       "    }\n",
       "\n",
       "    .dataframe tbody tr th {\n",
       "        vertical-align: top;\n",
       "    }\n",
       "\n",
       "    .dataframe thead th {\n",
       "        text-align: right;\n",
       "    }\n",
       "</style>\n",
       "<table border=\"1\" class=\"dataframe\">\n",
       "  <thead>\n",
       "    <tr style=\"text-align: right;\">\n",
       "      <th></th>\n",
       "      <th>Fighter_Name</th>\n",
       "      <th>Martial_Arts_1</th>\n",
       "      <th>MA_2</th>\n",
       "      <th>MA_3</th>\n",
       "      <th>MA_4</th>\n",
       "      <th>MA_5</th>\n",
       "      <th>MA_6</th>\n",
       "      <th>MA_7</th>\n",
       "      <th>MA_8</th>\n",
       "      <th>MA_9</th>\n",
       "      <th>...</th>\n",
       "      <th>Instructor_14</th>\n",
       "      <th>Year_Started_15</th>\n",
       "      <th>Gym_15</th>\n",
       "      <th>Instructor_15</th>\n",
       "      <th>Year_Started_16</th>\n",
       "      <th>Gym_16</th>\n",
       "      <th>Instructor_16</th>\n",
       "      <th>Year_Started_17</th>\n",
       "      <th>Gym_17</th>\n",
       "      <th>Instructor_17</th>\n",
       "    </tr>\n",
       "  </thead>\n",
       "  <tbody>\n",
       "    <tr>\n",
       "      <th>0</th>\n",
       "      <td>Aalon Cruz</td>\n",
       "      <td>Krav Maga</td>\n",
       "      <td>Muay Thai</td>\n",
       "      <td>Brazilian Jiu-Jitsu</td>\n",
       "      <td>Judo</td>\n",
       "      <td>NaN</td>\n",
       "      <td>NaN</td>\n",
       "      <td>NaN</td>\n",
       "      <td>NaN</td>\n",
       "      <td>NaN</td>\n",
       "      <td>...</td>\n",
       "      <td>NaN</td>\n",
       "      <td>NaN</td>\n",
       "      <td>NaN</td>\n",
       "      <td>NaN</td>\n",
       "      <td>NaN</td>\n",
       "      <td>NaN</td>\n",
       "      <td>NaN</td>\n",
       "      <td>NaN</td>\n",
       "      <td>NaN</td>\n",
       "      <td>NaN</td>\n",
       "    </tr>\n",
       "    <tr>\n",
       "      <th>1</th>\n",
       "      <td>Aaron Brink</td>\n",
       "      <td>NaN</td>\n",
       "      <td>Krav Maga</td>\n",
       "      <td>Muay Thai</td>\n",
       "      <td>Brazilian Jiu-Jitsu</td>\n",
       "      <td>Judo</td>\n",
       "      <td>Sambo</td>\n",
       "      <td>Wrestling</td>\n",
       "      <td>Mixed Martial Arts</td>\n",
       "      <td>NaN</td>\n",
       "      <td>...</td>\n",
       "      <td>NaN</td>\n",
       "      <td>NaN</td>\n",
       "      <td>NaN</td>\n",
       "      <td>NaN</td>\n",
       "      <td>NaN</td>\n",
       "      <td>NaN</td>\n",
       "      <td>NaN</td>\n",
       "      <td>NaN</td>\n",
       "      <td>NaN</td>\n",
       "      <td>NaN</td>\n",
       "    </tr>\n",
       "  </tbody>\n",
       "</table>\n",
       "<p>2 rows × 69 columns</p>\n",
       "</div>"
      ],
      "text/plain": [
       "  Fighter_Name Martial_Arts_1        MA_2                  MA_3  \\\n",
       "0   Aalon Cruz      Krav Maga   Muay Thai   Brazilian Jiu-Jitsu   \n",
       "1  Aaron Brink            NaN   Krav Maga             Muay Thai   \n",
       "\n",
       "                   MA_4   MA_5    MA_6        MA_7                 MA_8 MA_9  \\\n",
       "0                  Judo    NaN     NaN         NaN                  NaN  NaN   \n",
       "1   Brazilian Jiu-Jitsu   Judo   Sambo   Wrestling   Mixed Martial Arts  NaN   \n",
       "\n",
       "   ... Instructor_14 Year_Started_15 Gym_15 Instructor_15 Year_Started_16  \\\n",
       "0  ...           NaN             NaN    NaN           NaN             NaN   \n",
       "1  ...           NaN             NaN    NaN           NaN             NaN   \n",
       "\n",
       "  Gym_16 Instructor_16 Year_Started_17  Gym_17 Instructor_17  \n",
       "0    NaN           NaN             NaN     NaN           NaN  \n",
       "1    NaN           NaN             NaN     NaN           NaN  \n",
       "\n",
       "[2 rows x 69 columns]"
      ]
     },
     "execution_count": 4,
     "metadata": {},
     "output_type": "execute_result"
    }
   ],
   "source": [
    "all_fighter_training_history = pd.read_csv('data/final/aggregates/All_Fighter_Training_History_Fixed_V2.csv')\n",
    "all_fighter_training_history.head(2)"
   ]
  },
  {
   "cell_type": "code",
   "execution_count": 5,
   "metadata": {},
   "outputs": [],
   "source": [
    "# rename Martial_Arts_1 to MA_1\n",
    "all_fighter_training_history = all_fighter_training_history.rename(columns={'Martial_Arts_1': 'MA_1'})"
   ]
  },
  {
   "cell_type": "code",
   "execution_count": 6,
   "metadata": {},
   "outputs": [],
   "source": [
    "# strip all values\n",
    "all_fighter_training_history = all_fighter_training_history.applymap(lambda x: x.strip() if isinstance(x, str) else x)"
   ]
  },
  {
   "cell_type": "code",
   "execution_count": 7,
   "metadata": {},
   "outputs": [
    {
     "name": "stdout",
     "output_type": "stream",
     "text": [
      "            Fighter_Name       MA_1       MA_2                 MA_3  \\\n",
      "0             Aalon Cruz  Krav Maga  Muay Thai  Brazilian Jiu-Jitsu   \n",
      "1            Aaron Brink  Krav Maga  Muay Thai  Brazilian Jiu-Jitsu   \n",
      "2         Aaron Phillips     Karate  Muay Thai  Brazilian Jiu-Jitsu   \n",
      "3            Aaron Riley     Karate  Muay Thai  Brazilian Jiu-Jitsu   \n",
      "4             Aaron Rosa  Krav Maga  Muay Thai  Brazilian Jiu-Jitsu   \n",
      "...                  ...        ...        ...                  ...   \n",
      "2152  Zhalgas Zhumagulov    Kung Fu  Muay Thai  Brazilian Jiu-Jitsu   \n",
      "2153        Zhang Lipeng    Kung Fu      Sanda            Taekwondo   \n",
      "2154         Zhang Weili    Kung Fu      Sanda            Muay Thai   \n",
      "2155    Zubaira Tukhugov  Muay Thai      Sambo                  MMA   \n",
      "2156    Zviad Lazishvili     Karate       Judo               Aikido   \n",
      "\n",
      "                     MA_4                 MA_5                 MA_6  \\\n",
      "0                    Judo                  NaN                  NaN   \n",
      "1                    Judo                Sambo            Wrestling   \n",
      "2                    Judo               Aikido                  NaN   \n",
      "3      Mixed Martial Arts                 Judo            Wrestling   \n",
      "4                    Judo   Mixed Martial Arts            Wrestling   \n",
      "...                   ...                  ...                  ...   \n",
      "2152                 Judo                Sambo            Wrestling   \n",
      "2153            Muay Thai  Brazilian Jiu-Jitsu                 Judo   \n",
      "2154  Brazilian Jiu-Jitsu                  MMA                  NaN   \n",
      "2155           Pankration                  NaN                  NaN   \n",
      "2156            Taekwondo            Muay Thai  Brazilian Jiu-Jitsu   \n",
      "\n",
      "                    MA_7       MA_8                MA_9  ... Instructor_14  \\\n",
      "0                    NaN        NaN                 NaN  ...           NaN   \n",
      "1     Mixed Martial Arts        NaN                 NaN  ...           NaN   \n",
      "2                    NaN        NaN                 NaN  ...           NaN   \n",
      "3                    NaN        NaN                 NaN  ...           NaN   \n",
      "4                 Boxing        NaN                 NaN  ...           NaN   \n",
      "...                  ...        ...                 ...  ...           ...   \n",
      "2152  Mixed Martial Arts        NaN                 NaN  ...           NaN   \n",
      "2153           Wrestling        NaN                 NaN  ...           NaN   \n",
      "2154                 NaN        NaN                 NaN  ...           NaN   \n",
      "2155                 NaN        NaN                 NaN  ...           NaN   \n",
      "2156               Sambo  Wrestling  Mixed Martial Arts  ...           NaN   \n",
      "\n",
      "     Year_Started_15 Gym_15 Instructor_15 Year_Started_16 Gym_16  \\\n",
      "0                NaN    NaN           NaN             NaN    NaN   \n",
      "1                NaN    NaN           NaN            None    NaN   \n",
      "2                NaN    NaN           NaN            None    NaN   \n",
      "3                NaN    NaN           NaN            None    NaN   \n",
      "4                NaN    NaN           NaN            None    NaN   \n",
      "...              ...    ...           ...             ...    ...   \n",
      "2152             NaN    NaN           NaN            None    NaN   \n",
      "2153             NaN    NaN           NaN            None    NaN   \n",
      "2154             NaN    NaN           NaN            None    NaN   \n",
      "2155             NaN    NaN           NaN            None    NaN   \n",
      "2156             NaN    NaN           NaN            None    NaN   \n",
      "\n",
      "      Instructor_16 Year_Started_17 Gym_17 Instructor_17  \n",
      "0               NaN             NaN    NaN           NaN  \n",
      "1              None             NaN    NaN           NaN  \n",
      "2              None             NaN    NaN           NaN  \n",
      "3              None             NaN    NaN           NaN  \n",
      "4              None             NaN    NaN           NaN  \n",
      "...             ...             ...    ...           ...  \n",
      "2152           None             NaN    NaN           NaN  \n",
      "2153           None             NaN    NaN           NaN  \n",
      "2154           None             NaN    NaN           NaN  \n",
      "2155           None             NaN    NaN           NaN  \n",
      "2156           None             NaN    NaN           NaN  \n",
      "\n",
      "[2157 rows x 69 columns]\n"
     ]
    }
   ],
   "source": [
    "\n",
    "# Function to shift martial arts columns when Martial_Arts_1 is NaN\n",
    "def shift_martial_arts_columns(row):\n",
    "    ma_columns = [f'MA_{i}' for i in range(1, 17)]  # Adjust the range according to the number of martial arts columns\n",
    "    ma_values = row[ma_columns]\n",
    "    instructor_columns = [f'Instructor_{i}' for i in range(1, 17)]  # Adjust the range according to the number of instructor columns\n",
    "    instructor_values = row[instructor_columns]\n",
    "    year_started_columns = [f'Year_Started_{i}' for i in range(1, 17)]  # Adjust the range according to the number of year started columns\n",
    "    year_started_values = row[year_started_columns]\n",
    "\n",
    "\n",
    "    # Shift the values if Martial_Arts_1 is NaN\n",
    "    if pd.isna(row['MA_1']):\n",
    "        ma_values = ma_values.shift(-1)\n",
    "        instructor_values = instructor_values.shift(-1)\n",
    "        year_started_values = year_started_values.shift(-1)\n",
    "\n",
    "    row[ma_columns] = ma_values\n",
    "    row[instructor_columns] = instructor_values\n",
    "    row[year_started_columns] = year_started_values\n",
    "    return row\n",
    "\n",
    "# Apply the function to the dataframe\n",
    "df = all_fighter_training_history.apply(shift_martial_arts_columns, axis=1)\n",
    "print(df)"
   ]
  },
  {
   "cell_type": "code",
   "execution_count": 8,
   "metadata": {},
   "outputs": [],
   "source": [
    "def get_martial_art_history(fighter, ma_number, ret='martial_art'):\n",
    "    try:\n",
    "        data = df[df['Fighter_Name'] == fighter]\n",
    "        \n",
    "        # Get martial art, instructor, and year started for the specified martial art number\n",
    "        ma = data[f'MA_{ma_number}'].values[0]\n",
    "        instructor = data[f'Instructor_{ma_number}'].values[0]\n",
    "        year_started = data[f'Year_Started_{ma_number}'].values[0]\n",
    "        \n",
    "        if ret == 'martial_art':\n",
    "            return ma\n",
    "        elif ret == 'instructor':\n",
    "            return instructor\n",
    "        elif ret == 'year_started':\n",
    "            return year_started\n",
    "        elif ret == 'all':\n",
    "            return ma, instructor, year_started\n",
    "        else: \n",
    "            return None\n",
    "    except:\n",
    "        print(f\"Error with {str(fighter)} and {str(ma_number)})\")\n",
    "        return np.nan, np.nan, np.nan"
   ]
  },
  {
   "cell_type": "code",
   "execution_count": 9,
   "metadata": {},
   "outputs": [
    {
     "data": {
      "text/plain": [
       "'Brazilian Jiu-Jitsu'"
      ]
     },
     "execution_count": 9,
     "metadata": {},
     "output_type": "execute_result"
    }
   ],
   "source": [
    "get_martial_art_history('Amanda Nunes', 1, 'martial_art')\n"
   ]
  },
  {
   "cell_type": "code",
   "execution_count": 10,
   "metadata": {},
   "outputs": [
    {
     "name": "stdout",
     "output_type": "stream",
     "text": [
      "Error with Ashlee Evans-Smith and 1)\n",
      "Error with Kai Kara-France and 1)\n",
      "Error with Cameron Saaiman and 1)\n",
      "Error with Gabriel Bonfim and 1)\n",
      "Error with Ismael Bonfim and 1)\n",
      "Error with Ashlee Evans-Smith and 1)\n",
      "Error with Kai Kara-France and 1)\n",
      "Error with Alexander Yakovlev and 1)\n",
      "Error with Ashlee Evans-Smith and 1)\n",
      "Error with Ashlee Evans-Smith and 1)\n",
      "Error with Kai Kara-France and 1)\n",
      "Error with Francis Marshall and 1)\n",
      "Error with Kai Kara-France and 1)\n",
      "Error with Alexander Yakovlev and 1)\n",
      "Error with Daniel Marcos and 1)\n",
      "Error with Ashlee Evans-Smith and 1)\n",
      "Error with Tereza Bleda and 1)\n",
      "Error with Kai Kara-France and 1)\n",
      "Error with Rhys McKee and 1)\n",
      "Error with Brunno Ferreira and 1)\n",
      "Error with Steven Koslow and 1)\n",
      "Error with Ashlee Evans-Smith and 1)\n",
      "Error with Ashlee Evans-Smith and 1)\n",
      "Error with Alexander Yakovlev and 1)\n",
      "Error with Melquizael Costa and 1)\n",
      "Error with Ashlee Evans-Smith and 1)\n",
      "Error with Rhys McKee and 1)\n",
      "Error with Alessandro Costa and 1)\n",
      "Error with Alexander Yakovlev and 1)\n",
      "Error with Francis Marshall and 1)\n",
      "Error with Kai Kara-France and 1)\n",
      "Error with Alexander Yakovlev and 1)\n",
      "Error with Daniel Marcos and 1)\n",
      "Error with Ashlee Evans-Smith and 1)\n",
      "Error with Tereza Bleda and 1)\n",
      "Error with Kai Kara-France and 1)\n",
      "Error with Rhys McKee and 1)\n",
      "Error with Brunno Ferreira and 1)\n",
      "Error with Steven Koslow and 1)\n",
      "Error with Ashlee Evans-Smith and 1)\n",
      "Error with Ashlee Evans-Smith and 1)\n",
      "Error with Alexander Yakovlev and 1)\n",
      "Error with Melquizael Costa and 1)\n",
      "Error with Ashlee Evans-Smith and 1)\n",
      "Error with Rhys McKee and 1)\n",
      "Error with Alessandro Costa and 1)\n",
      "Error with Alexander Yakovlev and 1)\n",
      "Error with Ashlee Evans-Smith and 1)\n",
      "Error with Kai Kara-France and 1)\n",
      "Error with Cameron Saaiman and 1)\n",
      "Error with Gabriel Bonfim and 1)\n",
      "Error with Ismael Bonfim and 1)\n",
      "Error with Ashlee Evans-Smith and 1)\n",
      "Error with Kai Kara-France and 1)\n",
      "Error with Alexander Yakovlev and 1)\n",
      "Error with Ashlee Evans-Smith and 1)\n",
      "Error with Ashlee Evans-Smith and 1)\n",
      "Error with Kai Kara-France and 1)\n",
      "Error with Ashlee Evans-Smith and 1)\n",
      "Error with Kai Kara-France and 1)\n",
      "Error with Cameron Saaiman and 1)\n",
      "Error with Gabriel Bonfim and 1)\n",
      "Error with Ismael Bonfim and 1)\n",
      "Error with Ashlee Evans-Smith and 1)\n",
      "Error with Kai Kara-France and 1)\n",
      "Error with Alexander Yakovlev and 1)\n",
      "Error with Ashlee Evans-Smith and 1)\n",
      "Error with Ashlee Evans-Smith and 1)\n",
      "Error with Kai Kara-France and 1)\n",
      "Error with Francis Marshall and 1)\n",
      "Error with Kai Kara-France and 1)\n",
      "Error with Alexander Yakovlev and 1)\n",
      "Error with Daniel Marcos and 1)\n",
      "Error with Ashlee Evans-Smith and 1)\n",
      "Error with Tereza Bleda and 1)\n",
      "Error with Kai Kara-France and 1)\n",
      "Error with Rhys McKee and 1)\n",
      "Error with Brunno Ferreira and 1)\n",
      "Error with Steven Koslow and 1)\n",
      "Error with Ashlee Evans-Smith and 1)\n",
      "Error with Ashlee Evans-Smith and 1)\n",
      "Error with Alexander Yakovlev and 1)\n",
      "Error with Melquizael Costa and 1)\n",
      "Error with Ashlee Evans-Smith and 1)\n",
      "Error with Rhys McKee and 1)\n",
      "Error with Alessandro Costa and 1)\n",
      "Error with Alexander Yakovlev and 1)\n",
      "Error with Francis Marshall and 1)\n",
      "Error with Kai Kara-France and 1)\n",
      "Error with Alexander Yakovlev and 1)\n",
      "Error with Daniel Marcos and 1)\n",
      "Error with Ashlee Evans-Smith and 1)\n",
      "Error with Tereza Bleda and 1)\n",
      "Error with Kai Kara-France and 1)\n",
      "Error with Rhys McKee and 1)\n",
      "Error with Brunno Ferreira and 1)\n",
      "Error with Steven Koslow and 1)\n",
      "Error with Ashlee Evans-Smith and 1)\n",
      "Error with Ashlee Evans-Smith and 1)\n",
      "Error with Alexander Yakovlev and 1)\n",
      "Error with Melquizael Costa and 1)\n",
      "Error with Ashlee Evans-Smith and 1)\n",
      "Error with Rhys McKee and 1)\n",
      "Error with Alessandro Costa and 1)\n",
      "Error with Alexander Yakovlev and 1)\n",
      "Error with Ashlee Evans-Smith and 1)\n",
      "Error with Kai Kara-France and 1)\n",
      "Error with Cameron Saaiman and 1)\n",
      "Error with Gabriel Bonfim and 1)\n",
      "Error with Ismael Bonfim and 1)\n",
      "Error with Ashlee Evans-Smith and 1)\n",
      "Error with Kai Kara-France and 1)\n",
      "Error with Alexander Yakovlev and 1)\n",
      "Error with Ashlee Evans-Smith and 1)\n",
      "Error with Ashlee Evans-Smith and 1)\n",
      "Error with Kai Kara-France and 1)\n",
      "Error with Ashlee Evans-Smith and 1)\n",
      "Error with Kai Kara-France and 1)\n",
      "Error with Cameron Saaiman and 1)\n",
      "Error with Gabriel Bonfim and 1)\n",
      "Error with Ismael Bonfim and 1)\n",
      "Error with Ashlee Evans-Smith and 1)\n",
      "Error with Kai Kara-France and 1)\n",
      "Error with Alexander Yakovlev and 1)\n",
      "Error with Ashlee Evans-Smith and 1)\n",
      "Error with Ashlee Evans-Smith and 1)\n",
      "Error with Kai Kara-France and 1)\n",
      "Error with Francis Marshall and 1)\n",
      "Error with Kai Kara-France and 1)\n",
      "Error with Alexander Yakovlev and 1)\n",
      "Error with Daniel Marcos and 1)\n",
      "Error with Ashlee Evans-Smith and 1)\n",
      "Error with Tereza Bleda and 1)\n",
      "Error with Kai Kara-France and 1)\n",
      "Error with Rhys McKee and 1)\n",
      "Error with Brunno Ferreira and 1)\n",
      "Error with Steven Koslow and 1)\n",
      "Error with Ashlee Evans-Smith and 1)\n",
      "Error with Ashlee Evans-Smith and 1)\n",
      "Error with Alexander Yakovlev and 1)\n",
      "Error with Melquizael Costa and 1)\n",
      "Error with Ashlee Evans-Smith and 1)\n",
      "Error with Rhys McKee and 1)\n",
      "Error with Alessandro Costa and 1)\n",
      "Error with Alexander Yakovlev and 1)\n",
      "Error with Francis Marshall and 1)\n",
      "Error with Kai Kara-France and 1)\n",
      "Error with Alexander Yakovlev and 1)\n",
      "Error with Daniel Marcos and 1)\n",
      "Error with Ashlee Evans-Smith and 1)\n",
      "Error with Tereza Bleda and 1)\n",
      "Error with Kai Kara-France and 1)\n",
      "Error with Rhys McKee and 1)\n",
      "Error with Brunno Ferreira and 1)\n",
      "Error with Steven Koslow and 1)\n",
      "Error with Ashlee Evans-Smith and 1)\n",
      "Error with Ashlee Evans-Smith and 1)\n",
      "Error with Alexander Yakovlev and 1)\n",
      "Error with Melquizael Costa and 1)\n",
      "Error with Ashlee Evans-Smith and 1)\n",
      "Error with Rhys McKee and 1)\n",
      "Error with Alessandro Costa and 1)\n",
      "Error with Alexander Yakovlev and 1)\n",
      "Error with Ashlee Evans-Smith and 1)\n",
      "Error with Kai Kara-France and 1)\n",
      "Error with Cameron Saaiman and 1)\n",
      "Error with Gabriel Bonfim and 1)\n",
      "Error with Ismael Bonfim and 1)\n",
      "Error with Ashlee Evans-Smith and 1)\n",
      "Error with Kai Kara-France and 1)\n",
      "Error with Alexander Yakovlev and 1)\n",
      "Error with Ashlee Evans-Smith and 1)\n",
      "Error with Ashlee Evans-Smith and 1)\n",
      "Error with Kai Kara-France and 1)\n",
      "Error with Ashlee Evans-Smith and 2)\n",
      "Error with Kai Kara-France and 2)\n",
      "Error with Cameron Saaiman and 2)\n",
      "Error with Gabriel Bonfim and 2)\n",
      "Error with Ismael Bonfim and 2)\n",
      "Error with Ashlee Evans-Smith and 2)\n",
      "Error with Kai Kara-France and 2)\n",
      "Error with Alexander Yakovlev and 2)\n",
      "Error with Ashlee Evans-Smith and 2)\n",
      "Error with Ashlee Evans-Smith and 2)\n",
      "Error with Kai Kara-France and 2)\n",
      "Error with Francis Marshall and 2)\n",
      "Error with Kai Kara-France and 2)\n",
      "Error with Alexander Yakovlev and 2)\n",
      "Error with Daniel Marcos and 2)\n",
      "Error with Ashlee Evans-Smith and 2)\n",
      "Error with Tereza Bleda and 2)\n",
      "Error with Kai Kara-France and 2)\n",
      "Error with Rhys McKee and 2)\n",
      "Error with Brunno Ferreira and 2)\n",
      "Error with Steven Koslow and 2)\n",
      "Error with Ashlee Evans-Smith and 2)\n",
      "Error with Ashlee Evans-Smith and 2)\n",
      "Error with Alexander Yakovlev and 2)\n",
      "Error with Melquizael Costa and 2)\n",
      "Error with Ashlee Evans-Smith and 2)\n",
      "Error with Rhys McKee and 2)\n",
      "Error with Alessandro Costa and 2)\n",
      "Error with Alexander Yakovlev and 2)\n",
      "Error with Francis Marshall and 2)\n",
      "Error with Kai Kara-France and 2)\n",
      "Error with Alexander Yakovlev and 2)\n",
      "Error with Daniel Marcos and 2)\n",
      "Error with Ashlee Evans-Smith and 2)\n",
      "Error with Tereza Bleda and 2)\n",
      "Error with Kai Kara-France and 2)\n",
      "Error with Rhys McKee and 2)\n",
      "Error with Brunno Ferreira and 2)\n",
      "Error with Steven Koslow and 2)\n",
      "Error with Ashlee Evans-Smith and 2)\n",
      "Error with Ashlee Evans-Smith and 2)\n",
      "Error with Alexander Yakovlev and 2)\n",
      "Error with Melquizael Costa and 2)\n",
      "Error with Ashlee Evans-Smith and 2)\n",
      "Error with Rhys McKee and 2)\n",
      "Error with Alessandro Costa and 2)\n",
      "Error with Alexander Yakovlev and 2)\n",
      "Error with Ashlee Evans-Smith and 2)\n",
      "Error with Kai Kara-France and 2)\n",
      "Error with Cameron Saaiman and 2)\n",
      "Error with Gabriel Bonfim and 2)\n",
      "Error with Ismael Bonfim and 2)\n",
      "Error with Ashlee Evans-Smith and 2)\n",
      "Error with Kai Kara-France and 2)\n",
      "Error with Alexander Yakovlev and 2)\n",
      "Error with Ashlee Evans-Smith and 2)\n",
      "Error with Ashlee Evans-Smith and 2)\n",
      "Error with Kai Kara-France and 2)\n",
      "Error with Ashlee Evans-Smith and 2)\n",
      "Error with Kai Kara-France and 2)\n",
      "Error with Cameron Saaiman and 2)\n",
      "Error with Gabriel Bonfim and 2)\n",
      "Error with Ismael Bonfim and 2)\n",
      "Error with Ashlee Evans-Smith and 2)\n",
      "Error with Kai Kara-France and 2)\n",
      "Error with Alexander Yakovlev and 2)\n",
      "Error with Ashlee Evans-Smith and 2)\n",
      "Error with Ashlee Evans-Smith and 2)\n",
      "Error with Kai Kara-France and 2)\n",
      "Error with Francis Marshall and 2)\n",
      "Error with Kai Kara-France and 2)\n",
      "Error with Alexander Yakovlev and 2)\n",
      "Error with Daniel Marcos and 2)\n",
      "Error with Ashlee Evans-Smith and 2)\n",
      "Error with Tereza Bleda and 2)\n",
      "Error with Kai Kara-France and 2)\n",
      "Error with Rhys McKee and 2)\n",
      "Error with Brunno Ferreira and 2)\n",
      "Error with Steven Koslow and 2)\n",
      "Error with Ashlee Evans-Smith and 2)\n",
      "Error with Ashlee Evans-Smith and 2)\n",
      "Error with Alexander Yakovlev and 2)\n",
      "Error with Melquizael Costa and 2)\n",
      "Error with Ashlee Evans-Smith and 2)\n",
      "Error with Rhys McKee and 2)\n",
      "Error with Alessandro Costa and 2)\n",
      "Error with Alexander Yakovlev and 2)\n",
      "Error with Francis Marshall and 2)\n",
      "Error with Kai Kara-France and 2)\n",
      "Error with Alexander Yakovlev and 2)\n",
      "Error with Daniel Marcos and 2)\n",
      "Error with Ashlee Evans-Smith and 2)\n",
      "Error with Tereza Bleda and 2)\n",
      "Error with Kai Kara-France and 2)\n",
      "Error with Rhys McKee and 2)\n",
      "Error with Brunno Ferreira and 2)\n",
      "Error with Steven Koslow and 2)\n",
      "Error with Ashlee Evans-Smith and 2)\n",
      "Error with Ashlee Evans-Smith and 2)\n",
      "Error with Alexander Yakovlev and 2)\n",
      "Error with Melquizael Costa and 2)\n",
      "Error with Ashlee Evans-Smith and 2)\n",
      "Error with Rhys McKee and 2)\n",
      "Error with Alessandro Costa and 2)\n",
      "Error with Alexander Yakovlev and 2)\n",
      "Error with Ashlee Evans-Smith and 2)\n",
      "Error with Kai Kara-France and 2)\n",
      "Error with Cameron Saaiman and 2)\n",
      "Error with Gabriel Bonfim and 2)\n",
      "Error with Ismael Bonfim and 2)\n",
      "Error with Ashlee Evans-Smith and 2)\n",
      "Error with Kai Kara-France and 2)\n",
      "Error with Alexander Yakovlev and 2)\n",
      "Error with Ashlee Evans-Smith and 2)\n",
      "Error with Ashlee Evans-Smith and 2)\n",
      "Error with Kai Kara-France and 2)\n",
      "Error with Ashlee Evans-Smith and 2)\n",
      "Error with Kai Kara-France and 2)\n",
      "Error with Cameron Saaiman and 2)\n",
      "Error with Gabriel Bonfim and 2)\n",
      "Error with Ismael Bonfim and 2)\n",
      "Error with Ashlee Evans-Smith and 2)\n",
      "Error with Kai Kara-France and 2)\n",
      "Error with Alexander Yakovlev and 2)\n",
      "Error with Ashlee Evans-Smith and 2)\n",
      "Error with Ashlee Evans-Smith and 2)\n",
      "Error with Kai Kara-France and 2)\n",
      "Error with Francis Marshall and 2)\n",
      "Error with Kai Kara-France and 2)\n",
      "Error with Alexander Yakovlev and 2)\n",
      "Error with Daniel Marcos and 2)\n",
      "Error with Ashlee Evans-Smith and 2)\n",
      "Error with Tereza Bleda and 2)\n",
      "Error with Kai Kara-France and 2)\n",
      "Error with Rhys McKee and 2)\n",
      "Error with Brunno Ferreira and 2)\n",
      "Error with Steven Koslow and 2)\n",
      "Error with Ashlee Evans-Smith and 2)\n",
      "Error with Ashlee Evans-Smith and 2)\n",
      "Error with Alexander Yakovlev and 2)\n",
      "Error with Melquizael Costa and 2)\n",
      "Error with Ashlee Evans-Smith and 2)\n",
      "Error with Rhys McKee and 2)\n",
      "Error with Alessandro Costa and 2)\n",
      "Error with Alexander Yakovlev and 2)\n",
      "Error with Francis Marshall and 2)\n",
      "Error with Kai Kara-France and 2)\n",
      "Error with Alexander Yakovlev and 2)\n",
      "Error with Daniel Marcos and 2)\n",
      "Error with Ashlee Evans-Smith and 2)\n",
      "Error with Tereza Bleda and 2)\n",
      "Error with Kai Kara-France and 2)\n",
      "Error with Rhys McKee and 2)\n",
      "Error with Brunno Ferreira and 2)\n",
      "Error with Steven Koslow and 2)\n",
      "Error with Ashlee Evans-Smith and 2)\n",
      "Error with Ashlee Evans-Smith and 2)\n",
      "Error with Alexander Yakovlev and 2)\n",
      "Error with Melquizael Costa and 2)\n",
      "Error with Ashlee Evans-Smith and 2)\n",
      "Error with Rhys McKee and 2)\n",
      "Error with Alessandro Costa and 2)\n",
      "Error with Alexander Yakovlev and 2)\n",
      "Error with Ashlee Evans-Smith and 2)\n",
      "Error with Kai Kara-France and 2)\n",
      "Error with Cameron Saaiman and 2)\n",
      "Error with Gabriel Bonfim and 2)\n",
      "Error with Ismael Bonfim and 2)\n",
      "Error with Ashlee Evans-Smith and 2)\n",
      "Error with Kai Kara-France and 2)\n",
      "Error with Alexander Yakovlev and 2)\n",
      "Error with Ashlee Evans-Smith and 2)\n",
      "Error with Ashlee Evans-Smith and 2)\n",
      "Error with Kai Kara-France and 2)\n",
      "Error with Ashlee Evans-Smith and 3)\n",
      "Error with Kai Kara-France and 3)\n",
      "Error with Cameron Saaiman and 3)\n",
      "Error with Gabriel Bonfim and 3)\n",
      "Error with Ismael Bonfim and 3)\n",
      "Error with Ashlee Evans-Smith and 3)\n",
      "Error with Kai Kara-France and 3)\n",
      "Error with Alexander Yakovlev and 3)\n",
      "Error with Ashlee Evans-Smith and 3)\n",
      "Error with Ashlee Evans-Smith and 3)\n",
      "Error with Kai Kara-France and 3)\n",
      "Error with Francis Marshall and 3)\n",
      "Error with Kai Kara-France and 3)\n",
      "Error with Alexander Yakovlev and 3)\n",
      "Error with Daniel Marcos and 3)\n",
      "Error with Ashlee Evans-Smith and 3)\n",
      "Error with Tereza Bleda and 3)\n",
      "Error with Kai Kara-France and 3)\n",
      "Error with Rhys McKee and 3)\n",
      "Error with Brunno Ferreira and 3)\n",
      "Error with Steven Koslow and 3)\n",
      "Error with Ashlee Evans-Smith and 3)\n",
      "Error with Ashlee Evans-Smith and 3)\n",
      "Error with Alexander Yakovlev and 3)\n",
      "Error with Melquizael Costa and 3)\n",
      "Error with Ashlee Evans-Smith and 3)\n",
      "Error with Rhys McKee and 3)\n",
      "Error with Alessandro Costa and 3)\n",
      "Error with Alexander Yakovlev and 3)\n",
      "Error with Francis Marshall and 3)\n",
      "Error with Kai Kara-France and 3)\n",
      "Error with Alexander Yakovlev and 3)\n",
      "Error with Daniel Marcos and 3)\n",
      "Error with Ashlee Evans-Smith and 3)\n",
      "Error with Tereza Bleda and 3)\n",
      "Error with Kai Kara-France and 3)\n",
      "Error with Rhys McKee and 3)\n",
      "Error with Brunno Ferreira and 3)\n",
      "Error with Steven Koslow and 3)\n",
      "Error with Ashlee Evans-Smith and 3)\n",
      "Error with Ashlee Evans-Smith and 3)\n",
      "Error with Alexander Yakovlev and 3)\n",
      "Error with Melquizael Costa and 3)\n",
      "Error with Ashlee Evans-Smith and 3)\n",
      "Error with Rhys McKee and 3)\n",
      "Error with Alessandro Costa and 3)\n",
      "Error with Alexander Yakovlev and 3)\n",
      "Error with Ashlee Evans-Smith and 3)\n",
      "Error with Kai Kara-France and 3)\n",
      "Error with Cameron Saaiman and 3)\n",
      "Error with Gabriel Bonfim and 3)\n",
      "Error with Ismael Bonfim and 3)\n",
      "Error with Ashlee Evans-Smith and 3)\n",
      "Error with Kai Kara-France and 3)\n",
      "Error with Alexander Yakovlev and 3)\n",
      "Error with Ashlee Evans-Smith and 3)\n",
      "Error with Ashlee Evans-Smith and 3)\n",
      "Error with Kai Kara-France and 3)\n",
      "Error with Ashlee Evans-Smith and 3)\n",
      "Error with Kai Kara-France and 3)\n",
      "Error with Cameron Saaiman and 3)\n",
      "Error with Gabriel Bonfim and 3)\n",
      "Error with Ismael Bonfim and 3)\n",
      "Error with Ashlee Evans-Smith and 3)\n",
      "Error with Kai Kara-France and 3)\n",
      "Error with Alexander Yakovlev and 3)\n",
      "Error with Ashlee Evans-Smith and 3)\n",
      "Error with Ashlee Evans-Smith and 3)\n",
      "Error with Kai Kara-France and 3)\n",
      "Error with Francis Marshall and 3)\n",
      "Error with Kai Kara-France and 3)\n",
      "Error with Alexander Yakovlev and 3)\n",
      "Error with Daniel Marcos and 3)\n",
      "Error with Ashlee Evans-Smith and 3)\n",
      "Error with Tereza Bleda and 3)\n",
      "Error with Kai Kara-France and 3)\n",
      "Error with Rhys McKee and 3)\n",
      "Error with Brunno Ferreira and 3)\n",
      "Error with Steven Koslow and 3)\n",
      "Error with Ashlee Evans-Smith and 3)\n",
      "Error with Ashlee Evans-Smith and 3)\n",
      "Error with Alexander Yakovlev and 3)\n",
      "Error with Melquizael Costa and 3)\n",
      "Error with Ashlee Evans-Smith and 3)\n",
      "Error with Rhys McKee and 3)\n",
      "Error with Alessandro Costa and 3)\n",
      "Error with Alexander Yakovlev and 3)\n",
      "Error with Francis Marshall and 3)\n",
      "Error with Kai Kara-France and 3)\n",
      "Error with Alexander Yakovlev and 3)\n",
      "Error with Daniel Marcos and 3)\n",
      "Error with Ashlee Evans-Smith and 3)\n",
      "Error with Tereza Bleda and 3)\n",
      "Error with Kai Kara-France and 3)\n",
      "Error with Rhys McKee and 3)\n",
      "Error with Brunno Ferreira and 3)\n",
      "Error with Steven Koslow and 3)\n",
      "Error with Ashlee Evans-Smith and 3)\n",
      "Error with Ashlee Evans-Smith and 3)\n",
      "Error with Alexander Yakovlev and 3)\n",
      "Error with Melquizael Costa and 3)\n",
      "Error with Ashlee Evans-Smith and 3)\n",
      "Error with Rhys McKee and 3)\n",
      "Error with Alessandro Costa and 3)\n",
      "Error with Alexander Yakovlev and 3)\n",
      "Error with Ashlee Evans-Smith and 3)\n",
      "Error with Kai Kara-France and 3)\n",
      "Error with Cameron Saaiman and 3)\n",
      "Error with Gabriel Bonfim and 3)\n",
      "Error with Ismael Bonfim and 3)\n",
      "Error with Ashlee Evans-Smith and 3)\n",
      "Error with Kai Kara-France and 3)\n",
      "Error with Alexander Yakovlev and 3)\n",
      "Error with Ashlee Evans-Smith and 3)\n",
      "Error with Ashlee Evans-Smith and 3)\n",
      "Error with Kai Kara-France and 3)\n",
      "Error with Ashlee Evans-Smith and 3)\n",
      "Error with Kai Kara-France and 3)\n",
      "Error with Cameron Saaiman and 3)\n",
      "Error with Gabriel Bonfim and 3)\n",
      "Error with Ismael Bonfim and 3)\n",
      "Error with Ashlee Evans-Smith and 3)\n",
      "Error with Kai Kara-France and 3)\n",
      "Error with Alexander Yakovlev and 3)\n",
      "Error with Ashlee Evans-Smith and 3)\n",
      "Error with Ashlee Evans-Smith and 3)\n",
      "Error with Kai Kara-France and 3)\n",
      "Error with Francis Marshall and 3)\n",
      "Error with Kai Kara-France and 3)\n",
      "Error with Alexander Yakovlev and 3)\n",
      "Error with Daniel Marcos and 3)\n",
      "Error with Ashlee Evans-Smith and 3)\n",
      "Error with Tereza Bleda and 3)\n",
      "Error with Kai Kara-France and 3)\n",
      "Error with Rhys McKee and 3)\n",
      "Error with Brunno Ferreira and 3)\n",
      "Error with Steven Koslow and 3)\n",
      "Error with Ashlee Evans-Smith and 3)\n",
      "Error with Ashlee Evans-Smith and 3)\n",
      "Error with Alexander Yakovlev and 3)\n",
      "Error with Melquizael Costa and 3)\n",
      "Error with Ashlee Evans-Smith and 3)\n",
      "Error with Rhys McKee and 3)\n",
      "Error with Alessandro Costa and 3)\n",
      "Error with Alexander Yakovlev and 3)\n",
      "Error with Francis Marshall and 3)\n",
      "Error with Kai Kara-France and 3)\n",
      "Error with Alexander Yakovlev and 3)\n",
      "Error with Daniel Marcos and 3)\n",
      "Error with Ashlee Evans-Smith and 3)\n",
      "Error with Tereza Bleda and 3)\n",
      "Error with Kai Kara-France and 3)\n",
      "Error with Rhys McKee and 3)\n",
      "Error with Brunno Ferreira and 3)\n",
      "Error with Steven Koslow and 3)\n",
      "Error with Ashlee Evans-Smith and 3)\n",
      "Error with Ashlee Evans-Smith and 3)\n",
      "Error with Alexander Yakovlev and 3)\n",
      "Error with Melquizael Costa and 3)\n",
      "Error with Ashlee Evans-Smith and 3)\n",
      "Error with Rhys McKee and 3)\n",
      "Error with Alessandro Costa and 3)\n",
      "Error with Alexander Yakovlev and 3)\n",
      "Error with Ashlee Evans-Smith and 3)\n",
      "Error with Kai Kara-France and 3)\n",
      "Error with Cameron Saaiman and 3)\n",
      "Error with Gabriel Bonfim and 3)\n",
      "Error with Ismael Bonfim and 3)\n",
      "Error with Ashlee Evans-Smith and 3)\n",
      "Error with Kai Kara-France and 3)\n",
      "Error with Alexander Yakovlev and 3)\n",
      "Error with Ashlee Evans-Smith and 3)\n",
      "Error with Ashlee Evans-Smith and 3)\n",
      "Error with Kai Kara-France and 3)\n"
     ]
    }
   ],
   "source": [
    "# add initial martial art to each fighter\n",
    "fights['A_Martial_Art_1'] = fights.apply(lambda row: get_martial_art_history(row['Fighter_A'], 1, 'martial_art'), axis=1)\n",
    "fights['B_Martial_Art_1'] = fights.apply(lambda row: get_martial_art_history(row['Fighter_B'], 1, 'martial_art'), axis=1)\n",
    "\n",
    "# add initial martial art instructor to each fighter\n",
    "fights['A_Martial_Art_Instructor_1'] = fights.apply(lambda row: get_martial_art_history(row['Fighter_A'], 1, 'instructor'), axis=1)\n",
    "fights['B_Martial_Art_Instructor_1'] = fights.apply(lambda row: get_martial_art_history(row['Fighter_B'], 1, 'instructor'), axis=1)\n",
    "\n",
    "# add initial martial art year started to each fighter\n",
    "fights['A_Martial_Art_Year_Started_1'] = fights.apply(lambda row: get_martial_art_history(row['Fighter_A'], 1, 'year_started'), axis=1)\n",
    "fights['B_Martial_Art_Year_Started_1'] = fights.apply(lambda row: get_martial_art_history(row['Fighter_B'], 1, 'year_started'), axis=1)\n",
    "\n",
    "# add initial martial art to each fighter\n",
    "fights['A_Martial_Art_2'] = fights.apply(lambda row: get_martial_art_history(row['Fighter_A'], 2, 'martial_art'), axis=1)\n",
    "fights['B_Martial_Art_2'] = fights.apply(lambda row: get_martial_art_history(row['Fighter_B'], 2, 'martial_art'), axis=1)\n",
    "\n",
    "# add initial martial art instructor to each fighter\n",
    "fights['A_Martial_Art_Instructor_2'] = fights.apply(lambda row: get_martial_art_history(row['Fighter_A'], 2, 'instructor'), axis=1)\n",
    "fights['B_Martial_Art_Instructor_2'] = fights.apply(lambda row: get_martial_art_history(row['Fighter_B'], 2, 'instructor'), axis=1)\n",
    "\n",
    "# add initial martial art year started to each fighter\n",
    "fights['A_Martial_Art_Year_Started_2'] = fights.apply(lambda row: get_martial_art_history(row['Fighter_A'], 2, 'year_started'), axis=1)\n",
    "fights['B_Martial_Art_Year_Started_2'] = fights.apply(lambda row: get_martial_art_history(row['Fighter_B'], 2, 'year_started'), axis=1)\n",
    "\n",
    "# add initial martial art to each fighter\n",
    "fights['A_Martial_Art_3'] = fights.apply(lambda row: get_martial_art_history(row['Fighter_A'], 3, 'martial_art'), axis=1)\n",
    "fights['B_Martial_Art_3'] = fights.apply(lambda row: get_martial_art_history(row['Fighter_B'], 3, 'martial_art'), axis=1)\n",
    "\n",
    "# add initial martial art instructor to each fighter\n",
    "fights['A_Martial_Art_Instructor_3'] = fights.apply(lambda row: get_martial_art_history(row['Fighter_A'], 3, 'instructor'), axis=1)\n",
    "fights['B_Martial_Art_Instructor_3'] = fights.apply(lambda row: get_martial_art_history(row['Fighter_B'], 3, 'instructor'), axis=1)\n",
    "\n",
    "# add initial martial art year started to each fighter\n",
    "fights['A_Martial_Art_Year_Started_3'] = fights.apply(lambda row: get_martial_art_history(row['Fighter_A'], 3, 'year_started'), axis=1)\n",
    "fights['B_Martial_Art_Year_Started_3'] = fights.apply(lambda row: get_martial_art_history(row['Fighter_B'], 3, 'year_started'), axis=1)\n"
   ]
  },
  {
   "cell_type": "code",
   "execution_count": 11,
   "metadata": {},
   "outputs": [
    {
     "data": {
      "text/html": [
       "<div>\n",
       "<style scoped>\n",
       "    .dataframe tbody tr th:only-of-type {\n",
       "        vertical-align: middle;\n",
       "    }\n",
       "\n",
       "    .dataframe tbody tr th {\n",
       "        vertical-align: top;\n",
       "    }\n",
       "\n",
       "    .dataframe thead th {\n",
       "        text-align: right;\n",
       "    }\n",
       "</style>\n",
       "<table border=\"1\" class=\"dataframe\">\n",
       "  <thead>\n",
       "    <tr style=\"text-align: right;\">\n",
       "      <th></th>\n",
       "      <th>Unnamed: 0.2</th>\n",
       "      <th>Unnamed: 0</th>\n",
       "      <th>Fighter_A</th>\n",
       "      <th>Fighter_B</th>\n",
       "      <th>A_Kd</th>\n",
       "      <th>B_Kd</th>\n",
       "      <th>A_Sig_strike_land</th>\n",
       "      <th>A_Sig_strike_att</th>\n",
       "      <th>B_Sig_strike_land</th>\n",
       "      <th>B_Sig_strike_att</th>\n",
       "      <th>...</th>\n",
       "      <th>A_Martial_Art_Instructor_2</th>\n",
       "      <th>B_Martial_Art_Instructor_2</th>\n",
       "      <th>A_Martial_Art_Year_Started_2</th>\n",
       "      <th>B_Martial_Art_Year_Started_2</th>\n",
       "      <th>A_Martial_Art_3</th>\n",
       "      <th>B_Martial_Art_3</th>\n",
       "      <th>A_Martial_Art_Instructor_3</th>\n",
       "      <th>B_Martial_Art_Instructor_3</th>\n",
       "      <th>A_Martial_Art_Year_Started_3</th>\n",
       "      <th>B_Martial_Art_Year_Started_3</th>\n",
       "    </tr>\n",
       "  </thead>\n",
       "  <tbody>\n",
       "    <tr>\n",
       "      <th>0</th>\n",
       "      <td>0</td>\n",
       "      <td>0</td>\n",
       "      <td>Holly Holm</td>\n",
       "      <td>Irene Aldana</td>\n",
       "      <td>0</td>\n",
       "      <td>0</td>\n",
       "      <td>154</td>\n",
       "      <td>301</td>\n",
       "      <td>69</td>\n",
       "      <td>185</td>\n",
       "      <td>...</td>\n",
       "      <td>Mike Winkeljohn</td>\n",
       "      <td>Instructor: Juan Carlos</td>\n",
       "      <td>1993</td>\n",
       "      <td>2009</td>\n",
       "      <td>Muay Thai</td>\n",
       "      <td>Brazilian Jiu-Jitsu</td>\n",
       "      <td>Mike Winkeljohn</td>\n",
       "      <td>Instructor: Gustavo Dantas</td>\n",
       "      <td>2001</td>\n",
       "      <td>2012</td>\n",
       "    </tr>\n",
       "    <tr>\n",
       "      <th>1</th>\n",
       "      <td>1</td>\n",
       "      <td>1</td>\n",
       "      <td>Greg Hardy</td>\n",
       "      <td>Ben Sosoli</td>\n",
       "      <td>0</td>\n",
       "      <td>0</td>\n",
       "      <td>54</td>\n",
       "      <td>105</td>\n",
       "      <td>26</td>\n",
       "      <td>97</td>\n",
       "      <td>...</td>\n",
       "      <td>Din Thomas</td>\n",
       "      <td>John Wayne Parr</td>\n",
       "      <td>2011</td>\n",
       "      <td>2012</td>\n",
       "      <td>Boxing</td>\n",
       "      <td>Boxing</td>\n",
       "      <td>Din Thomas</td>\n",
       "      <td>John Wayne Parr</td>\n",
       "      <td>2012</td>\n",
       "      <td>2013</td>\n",
       "    </tr>\n",
       "    <tr>\n",
       "      <th>2</th>\n",
       "      <td>2</td>\n",
       "      <td>2</td>\n",
       "      <td>Jared Rosholt</td>\n",
       "      <td>Josh Copeland</td>\n",
       "      <td>0</td>\n",
       "      <td>0</td>\n",
       "      <td>22</td>\n",
       "      <td>45</td>\n",
       "      <td>9</td>\n",
       "      <td>36</td>\n",
       "      <td>...</td>\n",
       "      <td>Coach Bobby Douglas</td>\n",
       "      <td>John Smith</td>\n",
       "      <td>2003</td>\n",
       "      <td>2013</td>\n",
       "      <td>Brazilian Jiu-Jitsu</td>\n",
       "      <td>Brazilian Jiu-Jitsu</td>\n",
       "      <td>Professor Jason Tooke</td>\n",
       "      <td>Carlos Gracie Jr.</td>\n",
       "      <td>2007</td>\n",
       "      <td>2016</td>\n",
       "    </tr>\n",
       "    <tr>\n",
       "      <th>3</th>\n",
       "      <td>3</td>\n",
       "      <td>3</td>\n",
       "      <td>Alistair Overeem</td>\n",
       "      <td>Stefan Struve</td>\n",
       "      <td>0</td>\n",
       "      <td>0</td>\n",
       "      <td>17</td>\n",
       "      <td>25</td>\n",
       "      <td>2</td>\n",
       "      <td>5</td>\n",
       "      <td>...</td>\n",
       "      <td>Thom Harinck</td>\n",
       "      <td>Ramon Dekkers</td>\n",
       "      <td>1999</td>\n",
       "      <td>2006</td>\n",
       "      <td>Brazilian Jiu-Jitsu</td>\n",
       "      <td>Brazilian Jiu-Jitsu</td>\n",
       "      <td>Rudimar Fedrigo</td>\n",
       "      <td>Robson Moura</td>\n",
       "      <td>2002</td>\n",
       "      <td>2008</td>\n",
       "    </tr>\n",
       "    <tr>\n",
       "      <th>4</th>\n",
       "      <td>4</td>\n",
       "      <td>4</td>\n",
       "      <td>Nordine Taleb</td>\n",
       "      <td>Kyle Prepolec</td>\n",
       "      <td>0</td>\n",
       "      <td>0</td>\n",
       "      <td>90</td>\n",
       "      <td>201</td>\n",
       "      <td>52</td>\n",
       "      <td>153</td>\n",
       "      <td>...</td>\n",
       "      <td>Firas Zahabi</td>\n",
       "      <td>Kru Yodtong Senanan</td>\n",
       "      <td>2003</td>\n",
       "      <td>2011</td>\n",
       "      <td>Wrestling</td>\n",
       "      <td>Brazilian Jiu Jitsu</td>\n",
       "      <td>Firas Zahabi</td>\n",
       "      <td>Professor Rodrigo Medeiros</td>\n",
       "      <td>2004</td>\n",
       "      <td>2013</td>\n",
       "    </tr>\n",
       "    <tr>\n",
       "      <th>...</th>\n",
       "      <td>...</td>\n",
       "      <td>...</td>\n",
       "      <td>...</td>\n",
       "      <td>...</td>\n",
       "      <td>...</td>\n",
       "      <td>...</td>\n",
       "      <td>...</td>\n",
       "      <td>...</td>\n",
       "      <td>...</td>\n",
       "      <td>...</td>\n",
       "      <td>...</td>\n",
       "      <td>...</td>\n",
       "      <td>...</td>\n",
       "      <td>...</td>\n",
       "      <td>...</td>\n",
       "      <td>...</td>\n",
       "      <td>...</td>\n",
       "      <td>...</td>\n",
       "      <td>...</td>\n",
       "      <td>...</td>\n",
       "      <td>...</td>\n",
       "    </tr>\n",
       "    <tr>\n",
       "      <th>8239</th>\n",
       "      <td>8819</td>\n",
       "      <td>8819</td>\n",
       "      <td>Marcus Davis</td>\n",
       "      <td>Mike Swick</td>\n",
       "      <td>0</td>\n",
       "      <td>0</td>\n",
       "      <td>31</td>\n",
       "      <td>55</td>\n",
       "      <td>32</td>\n",
       "      <td>86</td>\n",
       "      <td>...</td>\n",
       "      <td>Kru Yodtong</td>\n",
       "      <td>Kru Yodtong</td>\n",
       "      <td>2004</td>\n",
       "      <td>2001</td>\n",
       "      <td>Brazilian Jiu-Jitsu</td>\n",
       "      <td>Brazilian Jiu-Jitsu</td>\n",
       "      <td>Professor Carlos Gracie Jr.</td>\n",
       "      <td>Cesar Gracie</td>\n",
       "      <td>2006</td>\n",
       "      <td>2003</td>\n",
       "    </tr>\n",
       "    <tr>\n",
       "      <th>8240</th>\n",
       "      <td>8820</td>\n",
       "      <td>8820</td>\n",
       "      <td>Lucas Martins</td>\n",
       "      <td>Darren Elkins</td>\n",
       "      <td>0</td>\n",
       "      <td>0</td>\n",
       "      <td>26</td>\n",
       "      <td>82</td>\n",
       "      <td>47</td>\n",
       "      <td>154</td>\n",
       "      <td>...</td>\n",
       "      <td>Joe Smith</td>\n",
       "      <td>Matt Lindland</td>\n",
       "      <td>2014</td>\n",
       "      <td>2004</td>\n",
       "      <td>Brazilian Jiu-Jitsu</td>\n",
       "      <td>Wrestling</td>\n",
       "      <td>Carlos Gracie Jr.</td>\n",
       "      <td>Matt Lindland</td>\n",
       "      <td>2016</td>\n",
       "      <td>2004</td>\n",
       "    </tr>\n",
       "    <tr>\n",
       "      <th>8241</th>\n",
       "      <td>8821</td>\n",
       "      <td>8821</td>\n",
       "      <td>Krzysztof Jotko</td>\n",
       "      <td>Sean Strickland</td>\n",
       "      <td>0</td>\n",
       "      <td>0</td>\n",
       "      <td>37</td>\n",
       "      <td>196</td>\n",
       "      <td>84</td>\n",
       "      <td>182</td>\n",
       "      <td>...</td>\n",
       "      <td>Pawel Jotko</td>\n",
       "      <td>Kru Mark</td>\n",
       "      <td>2009</td>\n",
       "      <td>2000</td>\n",
       "      <td>MMA</td>\n",
       "      <td>Brazilian Jiu-Jitsu</td>\n",
       "      <td>Pawel Jotko</td>\n",
       "      <td>Cesar Gracie</td>\n",
       "      <td>2011</td>\n",
       "      <td>2002</td>\n",
       "    </tr>\n",
       "    <tr>\n",
       "      <th>8242</th>\n",
       "      <td>8822</td>\n",
       "      <td>8822</td>\n",
       "      <td>Gleison Tibau</td>\n",
       "      <td>Tony Ferguson</td>\n",
       "      <td>0</td>\n",
       "      <td>0</td>\n",
       "      <td>2</td>\n",
       "      <td>20</td>\n",
       "      <td>11</td>\n",
       "      <td>38</td>\n",
       "      <td>...</td>\n",
       "      <td>Ricardo Liborio</td>\n",
       "      <td>Master Thong</td>\n",
       "      <td>2000</td>\n",
       "      <td>2008</td>\n",
       "      <td>Wrestling</td>\n",
       "      <td>Wrestling</td>\n",
       "      <td>Ricardo Liborio</td>\n",
       "      <td>Erik Paulson</td>\n",
       "      <td>2001</td>\n",
       "      <td>2009</td>\n",
       "    </tr>\n",
       "    <tr>\n",
       "      <th>8243</th>\n",
       "      <td>8823</td>\n",
       "      <td>8823</td>\n",
       "      <td>Jailton Almeida</td>\n",
       "      <td>Shamil Abdurakhimov</td>\n",
       "      <td>0</td>\n",
       "      <td>0</td>\n",
       "      <td>45</td>\n",
       "      <td>57</td>\n",
       "      <td>1</td>\n",
       "      <td>1</td>\n",
       "      <td>...</td>\n",
       "      <td>Wanderlei Silva</td>\n",
       "      <td>Shamil Abdurakhimov</td>\n",
       "      <td>1997</td>\n",
       "      <td>2002</td>\n",
       "      <td>Judo</td>\n",
       "      <td>Freestyle Wrestling</td>\n",
       "      <td>Mario Yamasaki</td>\n",
       "      <td>Shamil Abdurakhimov</td>\n",
       "      <td>1999</td>\n",
       "      <td>2003</td>\n",
       "    </tr>\n",
       "  </tbody>\n",
       "</table>\n",
       "<p>8244 rows × 708 columns</p>\n",
       "</div>"
      ],
      "text/plain": [
       "      Unnamed: 0.2  Unnamed: 0         Fighter_A            Fighter_B  A_Kd  \\\n",
       "0                0           0        Holly Holm         Irene Aldana     0   \n",
       "1                1           1        Greg Hardy           Ben Sosoli     0   \n",
       "2                2           2     Jared Rosholt        Josh Copeland     0   \n",
       "3                3           3  Alistair Overeem        Stefan Struve     0   \n",
       "4                4           4     Nordine Taleb        Kyle Prepolec     0   \n",
       "...            ...         ...               ...                  ...   ...   \n",
       "8239          8819        8819      Marcus Davis           Mike Swick     0   \n",
       "8240          8820        8820     Lucas Martins        Darren Elkins     0   \n",
       "8241          8821        8821   Krzysztof Jotko      Sean Strickland     0   \n",
       "8242          8822        8822     Gleison Tibau        Tony Ferguson     0   \n",
       "8243          8823        8823   Jailton Almeida  Shamil Abdurakhimov     0   \n",
       "\n",
       "      B_Kd  A_Sig_strike_land  A_Sig_strike_att  B_Sig_strike_land  \\\n",
       "0        0                154               301                 69   \n",
       "1        0                 54               105                 26   \n",
       "2        0                 22                45                  9   \n",
       "3        0                 17                25                  2   \n",
       "4        0                 90               201                 52   \n",
       "...    ...                ...               ...                ...   \n",
       "8239     0                 31                55                 32   \n",
       "8240     0                 26                82                 47   \n",
       "8241     0                 37               196                 84   \n",
       "8242     0                  2                20                 11   \n",
       "8243     0                 45                57                  1   \n",
       "\n",
       "      B_Sig_strike_att  ...  A_Martial_Art_Instructor_2  \\\n",
       "0                  185  ...             Mike Winkeljohn   \n",
       "1                   97  ...                  Din Thomas   \n",
       "2                   36  ...         Coach Bobby Douglas   \n",
       "3                    5  ...                Thom Harinck   \n",
       "4                  153  ...                Firas Zahabi   \n",
       "...                ...  ...                         ...   \n",
       "8239                86  ...                 Kru Yodtong   \n",
       "8240               154  ...                   Joe Smith   \n",
       "8241               182  ...                 Pawel Jotko   \n",
       "8242                38  ...             Ricardo Liborio   \n",
       "8243                 1  ...             Wanderlei Silva   \n",
       "\n",
       "      B_Martial_Art_Instructor_2  A_Martial_Art_Year_Started_2  \\\n",
       "0        Instructor: Juan Carlos                          1993   \n",
       "1                John Wayne Parr                          2011   \n",
       "2                     John Smith                          2003   \n",
       "3                  Ramon Dekkers                          1999   \n",
       "4            Kru Yodtong Senanan                          2003   \n",
       "...                          ...                           ...   \n",
       "8239                 Kru Yodtong                          2004   \n",
       "8240               Matt Lindland                          2014   \n",
       "8241                    Kru Mark                          2009   \n",
       "8242                Master Thong                          2000   \n",
       "8243         Shamil Abdurakhimov                          1997   \n",
       "\n",
       "      B_Martial_Art_Year_Started_2      A_Martial_Art_3      B_Martial_Art_3  \\\n",
       "0                             2009            Muay Thai  Brazilian Jiu-Jitsu   \n",
       "1                             2012               Boxing               Boxing   \n",
       "2                             2013  Brazilian Jiu-Jitsu  Brazilian Jiu-Jitsu   \n",
       "3                             2006  Brazilian Jiu-Jitsu  Brazilian Jiu-Jitsu   \n",
       "4                             2011            Wrestling  Brazilian Jiu Jitsu   \n",
       "...                            ...                  ...                  ...   \n",
       "8239                          2001  Brazilian Jiu-Jitsu  Brazilian Jiu-Jitsu   \n",
       "8240                          2004  Brazilian Jiu-Jitsu            Wrestling   \n",
       "8241                          2000                  MMA  Brazilian Jiu-Jitsu   \n",
       "8242                          2008            Wrestling            Wrestling   \n",
       "8243                          2002                 Judo  Freestyle Wrestling   \n",
       "\n",
       "       A_Martial_Art_Instructor_3  B_Martial_Art_Instructor_3  \\\n",
       "0                 Mike Winkeljohn  Instructor: Gustavo Dantas   \n",
       "1                      Din Thomas             John Wayne Parr   \n",
       "2           Professor Jason Tooke           Carlos Gracie Jr.   \n",
       "3                 Rudimar Fedrigo                Robson Moura   \n",
       "4                    Firas Zahabi  Professor Rodrigo Medeiros   \n",
       "...                           ...                         ...   \n",
       "8239  Professor Carlos Gracie Jr.                Cesar Gracie   \n",
       "8240            Carlos Gracie Jr.               Matt Lindland   \n",
       "8241                  Pawel Jotko                Cesar Gracie   \n",
       "8242              Ricardo Liborio                Erik Paulson   \n",
       "8243               Mario Yamasaki         Shamil Abdurakhimov   \n",
       "\n",
       "      A_Martial_Art_Year_Started_3  B_Martial_Art_Year_Started_3  \n",
       "0                             2001                          2012  \n",
       "1                             2012                          2013  \n",
       "2                             2007                          2016  \n",
       "3                             2002                          2008  \n",
       "4                             2004                          2013  \n",
       "...                            ...                           ...  \n",
       "8239                          2006                          2003  \n",
       "8240                          2016                          2004  \n",
       "8241                          2011                          2002  \n",
       "8242                          2001                          2009  \n",
       "8243                          1999                          2003  \n",
       "\n",
       "[8244 rows x 708 columns]"
      ]
     },
     "execution_count": 11,
     "metadata": {},
     "output_type": "execute_result"
    }
   ],
   "source": [
    "fights"
   ]
  },
  {
   "cell_type": "code",
   "execution_count": 15,
   "metadata": {},
   "outputs": [],
   "source": [
    "# make sure 'Year_Started' is an integer, if it cant be converted to an integer, set it to NaN\n",
    "fights['A_Martial_Art_Year_Started_1'] = fights['A_Martial_Art_Year_Started_1'].apply(lambda x: int(x) if str(x).isdigit() else np.nan)\n",
    "fights['B_Martial_Art_Year_Started_1'] = fights['B_Martial_Art_Year_Started_1'].apply(lambda x: int(x) if str(x).isdigit() else np.nan)\n",
    "fights['A_Martial_Art_Year_Started_2'] = fights['A_Martial_Art_Year_Started_2'].apply(lambda x: int(x) if str(x).isdigit() else np.nan)\n",
    "fights['B_Martial_Art_Year_Started_2'] = fights['B_Martial_Art_Year_Started_2'].apply(lambda x: int(x) if str(x).isdigit() else np.nan)\n",
    "fights['A_Martial_Art_Year_Started_3'] = fights['A_Martial_Art_Year_Started_3'].apply(lambda x: int(x) if str(x).isdigit() else np.nan)\n",
    "fights['B_Martial_Art_Year_Started_3'] = fights['B_Martial_Art_Year_Started_3'].apply(lambda x: int(x) if str(x).isdigit() else np.nan)\n"
   ]
  },
  {
   "cell_type": "code",
   "execution_count": 12,
   "metadata": {},
   "outputs": [],
   "source": [
    "# save to csv\n",
    "fights.to_csv('data/final/aggregates/Double_Fights_DF_V15.csv', index=False)"
   ]
  },
  {
   "cell_type": "code",
   "execution_count": null,
   "metadata": {},
   "outputs": [],
   "source": []
  }
 ],
 "metadata": {
  "kernelspec": {
   "display_name": "Python 3.10.8 ('Trav310')",
   "language": "python",
   "name": "python3"
  },
  "language_info": {
   "codemirror_mode": {
    "name": "ipython",
    "version": 3
   },
   "file_extension": ".py",
   "mimetype": "text/x-python",
   "name": "python",
   "nbconvert_exporter": "python",
   "pygments_lexer": "ipython3",
   "version": "3.10.8"
  },
  "orig_nbformat": 4,
  "vscode": {
   "interpreter": {
    "hash": "f69e36f0e9b2c8d9f319b417484f14b77c91d7bef950ad448542405eb1e0e594"
   }
  }
 },
 "nbformat": 4,
 "nbformat_minor": 2
}
