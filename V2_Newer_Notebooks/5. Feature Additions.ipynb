{
 "cells": [
  {
   "cell_type": "markdown",
   "metadata": {},
   "source": [
    "# Feature Additions"
   ]
  },
  {
   "cell_type": "markdown",
   "metadata": {},
   "source": [
    "## Part 1\n",
    "\n",
    "This is a script for processing and analyzing UFC (Ultimate Fighting Championship) match data. Here's what the various parts of the code do:\n",
    "\n",
    "1. Loading Packages: The code begins by importing necessary Python packages for data manipulation, visualization, and other tasks.\n",
    "\n",
    "2. Setting Up Environment: It then sets the environmental path and loads sound files that will be played once certain parts of the script are done running.\n",
    "\n",
    "3. Load Fight Data: The script then loads a dataframe that contains detailed data about various UFC matches.\n",
    "\n",
    "4. Feature Engineering: It adds new features to the fight data, such as 'event code' and 'fighter' names.\n",
    "\n",
    "5. Data Cleaning: The script conducts a series of cleaning operations to ensure the fight data is ready for analysis. This includes splitting strings, removing whitespaces, ensuring correct data types, and more.\n",
    "\n",
    "6. Data Duplicating: To measure both fighters equally, the script duplicates the dataframe, creating a version of each fight where the order of the fighters is switched.\n",
    "\n",
    "7. Adding Odds: The script then enriches the fight data by adding betting odds for each fight, which it retrieves from another dataframe. The odds data also undergo minor cleaning.\n",
    "\n",
    "8. Handling Missing Values: The script handles missing values, primarily by dropping entries where certain data is missing.\n",
    "\n",
    "9. Feature Creation: After cleaning the data, the script creates additional features by calculating differences and running statistics such as mean, median, and standard deviation. These new features represent various aspects of the fights and fighters, such as difference in odds, historical performance, and more.\n",
    "\n",
    "10. Visualization: The script generates a histogram which illustrates the quantity of missing values in each column.\n",
    "\n",
    "11. Saving the Data: Finally, processed data is saved as .csv files for future use.\n"
   ]
  },
  {
   "cell_type": "code",
   "execution_count": 2,
   "metadata": {},
   "outputs": [],
   "source": [
    "# Load Packages\n",
    "import pandas as pd\n",
    "import numpy as np\n",
    "import matplotlib.pyplot as plt\n",
    "%matplotlib inline\n",
    "import matplotlib.ticker as mtick\n",
    "import sqlite3\n",
    "import seaborn as sns\n",
    "from matplotlib.pyplot import figure\n",
    "from bs4 import BeautifulSoup\n",
    "import time\n",
    "import requests     # to get images\n",
    "import shutil       # to save files locally\n",
    "import datetime\n",
    "from scipy.stats import norm\n",
    "import warnings\n",
    "warnings.filterwarnings('ignore')\n",
    "from random import randint\n",
    "import  random\n",
    "import os\n",
    "os.chdir('/Users/travisroyce/Library/CloudStorage/OneDrive-Personal/Data Science/Personal_Projects/Sports/UFC_Prediction_V2')\n",
    "\n",
    "\n",
    "from cmath import nan\n",
    "\n",
    "#import winsound\n",
    "# sound_file = \"data/audio/Jobs Done.wav\"\n",
    "# def play_jobs_done():\n",
    "#     winsound.PlaySound(sound_file, winsound.SND_FILENAME)\n",
    "\n",
    "# bad_sound_file = 'data/audio/Danger Will Robinson.wav'\n",
    "\n",
    "# def play_danger():\n",
    "#     winsound.PlaySound(bad_sound_file, winsound.SND_FILENAME)"
   ]
  },
  {
   "cell_type": "code",
   "execution_count": 3,
   "metadata": {},
   "outputs": [
    {
     "name": "stdout",
     "output_type": "stream",
     "text": [
      "(7327, 80)\n"
     ]
    },
    {
     "data": {
      "text/html": [
       "<div>\n",
       "<style scoped>\n",
       "    .dataframe tbody tr th:only-of-type {\n",
       "        vertical-align: middle;\n",
       "    }\n",
       "\n",
       "    .dataframe tbody tr th {\n",
       "        vertical-align: top;\n",
       "    }\n",
       "\n",
       "    .dataframe thead th {\n",
       "        text-align: right;\n",
       "    }\n",
       "</style>\n",
       "<table border=\"1\" class=\"dataframe\">\n",
       "  <thead>\n",
       "    <tr style=\"text-align: right;\">\n",
       "      <th></th>\n",
       "      <th>Fighter_A</th>\n",
       "      <th>Fighter_B</th>\n",
       "      <th>A_Kd</th>\n",
       "      <th>B_Kd</th>\n",
       "      <th>A_Sig_strike_land</th>\n",
       "      <th>A_Sig_strike_att</th>\n",
       "      <th>B_Sig_strike_land</th>\n",
       "      <th>B_Sig_strike_att</th>\n",
       "      <th>A_Sig_strike_percent</th>\n",
       "      <th>B_Sig_strike_percent</th>\n",
       "      <th>...</th>\n",
       "      <th>B_Clinch_Strikes_land</th>\n",
       "      <th>B_Clinch_Strikes_att</th>\n",
       "      <th>A_Clinch_Strikes_percent</th>\n",
       "      <th>B_Clinch_Strikes_percent</th>\n",
       "      <th>A_Ground_Strikes_land</th>\n",
       "      <th>A_Ground_Strikes_att</th>\n",
       "      <th>B_Ground_Strikes_land</th>\n",
       "      <th>B_Ground_Strikes_att</th>\n",
       "      <th>A_Ground_Strikes_percent</th>\n",
       "      <th>B_Ground_Strikes_percent</th>\n",
       "    </tr>\n",
       "  </thead>\n",
       "  <tbody>\n",
       "    <tr>\n",
       "      <th>0</th>\n",
       "      <td>Rick Story</td>\n",
       "      <td>Martin Kampmann</td>\n",
       "      <td>0</td>\n",
       "      <td>0</td>\n",
       "      <td>61</td>\n",
       "      <td>170</td>\n",
       "      <td>38</td>\n",
       "      <td>147</td>\n",
       "      <td>0.35</td>\n",
       "      <td>0.25</td>\n",
       "      <td>...</td>\n",
       "      <td>5</td>\n",
       "      <td>16</td>\n",
       "      <td>0.560000</td>\n",
       "      <td>0.312500</td>\n",
       "      <td>0</td>\n",
       "      <td>0</td>\n",
       "      <td>4</td>\n",
       "      <td>4</td>\n",
       "      <td>0.000000</td>\n",
       "      <td>1.000000</td>\n",
       "    </tr>\n",
       "    <tr>\n",
       "      <th>1</th>\n",
       "      <td>Enrique Barzola</td>\n",
       "      <td>Kyle Bochniak</td>\n",
       "      <td>0</td>\n",
       "      <td>0</td>\n",
       "      <td>55</td>\n",
       "      <td>165</td>\n",
       "      <td>41</td>\n",
       "      <td>141</td>\n",
       "      <td>0.33</td>\n",
       "      <td>0.29</td>\n",
       "      <td>...</td>\n",
       "      <td>3</td>\n",
       "      <td>5</td>\n",
       "      <td>0.800000</td>\n",
       "      <td>0.600000</td>\n",
       "      <td>0</td>\n",
       "      <td>0</td>\n",
       "      <td>0</td>\n",
       "      <td>0</td>\n",
       "      <td>0.000000</td>\n",
       "      <td>0.000000</td>\n",
       "    </tr>\n",
       "    <tr>\n",
       "      <th>2</th>\n",
       "      <td>Belal Muhammad</td>\n",
       "      <td>Takashi Sato</td>\n",
       "      <td>0</td>\n",
       "      <td>0</td>\n",
       "      <td>49</td>\n",
       "      <td>106</td>\n",
       "      <td>29</td>\n",
       "      <td>89</td>\n",
       "      <td>0.46</td>\n",
       "      <td>0.32</td>\n",
       "      <td>...</td>\n",
       "      <td>0</td>\n",
       "      <td>0</td>\n",
       "      <td>0.750000</td>\n",
       "      <td>0.000000</td>\n",
       "      <td>4</td>\n",
       "      <td>4</td>\n",
       "      <td>0</td>\n",
       "      <td>0</td>\n",
       "      <td>1.000000</td>\n",
       "      <td>0.000000</td>\n",
       "    </tr>\n",
       "    <tr>\n",
       "      <th>3</th>\n",
       "      <td>Alex Caceres</td>\n",
       "      <td>Edwin Figueroa</td>\n",
       "      <td>0</td>\n",
       "      <td>1</td>\n",
       "      <td>55</td>\n",
       "      <td>89</td>\n",
       "      <td>41</td>\n",
       "      <td>81</td>\n",
       "      <td>0.61</td>\n",
       "      <td>0.50</td>\n",
       "      <td>...</td>\n",
       "      <td>5</td>\n",
       "      <td>5</td>\n",
       "      <td>1.000000</td>\n",
       "      <td>1.000000</td>\n",
       "      <td>1</td>\n",
       "      <td>2</td>\n",
       "      <td>10</td>\n",
       "      <td>18</td>\n",
       "      <td>0.500000</td>\n",
       "      <td>0.555556</td>\n",
       "    </tr>\n",
       "    <tr>\n",
       "      <th>4</th>\n",
       "      <td>TJ Grant</td>\n",
       "      <td>Carlo Prater</td>\n",
       "      <td>0</td>\n",
       "      <td>0</td>\n",
       "      <td>68</td>\n",
       "      <td>113</td>\n",
       "      <td>27</td>\n",
       "      <td>61</td>\n",
       "      <td>0.60</td>\n",
       "      <td>0.44</td>\n",
       "      <td>...</td>\n",
       "      <td>2</td>\n",
       "      <td>3</td>\n",
       "      <td>0.857143</td>\n",
       "      <td>0.666667</td>\n",
       "      <td>10</td>\n",
       "      <td>12</td>\n",
       "      <td>0</td>\n",
       "      <td>1</td>\n",
       "      <td>0.833333</td>\n",
       "      <td>0.000000</td>\n",
       "    </tr>\n",
       "  </tbody>\n",
       "</table>\n",
       "<p>5 rows × 80 columns</p>\n",
       "</div>"
      ],
      "text/plain": [
       "         Fighter_A        Fighter_B  A_Kd  B_Kd  A_Sig_strike_land  \\\n",
       "0       Rick Story  Martin Kampmann     0     0                 61   \n",
       "1  Enrique Barzola    Kyle Bochniak     0     0                 55   \n",
       "2   Belal Muhammad     Takashi Sato     0     0                 49   \n",
       "3     Alex Caceres   Edwin Figueroa     0     1                 55   \n",
       "4         TJ Grant     Carlo Prater     0     0                 68   \n",
       "\n",
       "   A_Sig_strike_att  B_Sig_strike_land  B_Sig_strike_att  \\\n",
       "0               170                 38               147   \n",
       "1               165                 41               141   \n",
       "2               106                 29                89   \n",
       "3                89                 41                81   \n",
       "4               113                 27                61   \n",
       "\n",
       "   A_Sig_strike_percent  B_Sig_strike_percent  ... B_Clinch_Strikes_land  \\\n",
       "0                  0.35                  0.25  ...                     5   \n",
       "1                  0.33                  0.29  ...                     3   \n",
       "2                  0.46                  0.32  ...                     0   \n",
       "3                  0.61                  0.50  ...                     5   \n",
       "4                  0.60                  0.44  ...                     2   \n",
       "\n",
       "  B_Clinch_Strikes_att  A_Clinch_Strikes_percent  B_Clinch_Strikes_percent  \\\n",
       "0                   16                  0.560000                  0.312500   \n",
       "1                    5                  0.800000                  0.600000   \n",
       "2                    0                  0.750000                  0.000000   \n",
       "3                    5                  1.000000                  1.000000   \n",
       "4                    3                  0.857143                  0.666667   \n",
       "\n",
       "   A_Ground_Strikes_land  A_Ground_Strikes_att  B_Ground_Strikes_land  \\\n",
       "0                      0                     0                      4   \n",
       "1                      0                     0                      0   \n",
       "2                      4                     4                      0   \n",
       "3                      1                     2                     10   \n",
       "4                     10                    12                      0   \n",
       "\n",
       "   B_Ground_Strikes_att  A_Ground_Strikes_percent  B_Ground_Strikes_percent  \n",
       "0                     4                  0.000000                  1.000000  \n",
       "1                     0                  0.000000                  0.000000  \n",
       "2                     0                  1.000000                  0.000000  \n",
       "3                    18                  0.500000                  0.555556  \n",
       "4                     1                  0.833333                  0.000000  \n",
       "\n",
       "[5 rows x 80 columns]"
      ]
     },
     "execution_count": 3,
     "metadata": {},
     "output_type": "execute_result"
    }
   ],
   "source": [
    "# Load fights df\n",
    "fights_df = pd.read_csv('data/final/aggregates/Fight_DF.csv')\n",
    "print(fights_df.shape)\n",
    "fights_df.head()"
   ]
  },
  {
   "cell_type": "markdown",
   "metadata": {},
   "source": [
    "### Add Fighter Odds\n",
    "\n",
    "Makes sense to do it before doubling the dataframe"
   ]
  },
  {
   "cell_type": "code",
   "execution_count": 8,
   "metadata": {},
   "outputs": [
    {
     "name": "stdout",
     "output_type": "stream",
     "text": [
      "(17073, 14)\n"
     ]
    },
    {
     "data": {
      "text/html": [
       "<div>\n",
       "<style scoped>\n",
       "    .dataframe tbody tr th:only-of-type {\n",
       "        vertical-align: middle;\n",
       "    }\n",
       "\n",
       "    .dataframe tbody tr th {\n",
       "        vertical-align: top;\n",
       "    }\n",
       "\n",
       "    .dataframe thead th {\n",
       "        text-align: right;\n",
       "    }\n",
       "</style>\n",
       "<table border=\"1\" class=\"dataframe\">\n",
       "  <thead>\n",
       "    <tr style=\"text-align: right;\">\n",
       "      <th></th>\n",
       "      <th>Fighter</th>\n",
       "      <th>Open</th>\n",
       "      <th>Closing range</th>\n",
       "      <th>Event</th>\n",
       "      <th>Opponent</th>\n",
       "      <th>Opp_Open</th>\n",
       "      <th>Opp_Closing_Range</th>\n",
       "      <th>Date_Aprox</th>\n",
       "      <th>Open_Implied_Prob</th>\n",
       "      <th>Closing_Range_Implied_Prob</th>\n",
       "      <th>Opp_Open_Implied_Prob</th>\n",
       "      <th>Opp_Closing_Range_Implied_Prob</th>\n",
       "      <th>Change_in_Implied_Prob</th>\n",
       "      <th>Opp_Change_in_Implied_Prob</th>\n",
       "    </tr>\n",
       "  </thead>\n",
       "  <tbody>\n",
       "    <tr>\n",
       "      <th>0</th>\n",
       "      <td>Corey Hill</td>\n",
       "      <td>-210.0</td>\n",
       "      <td>-160.0</td>\n",
       "      <td>XFC 21: Night Of Champions</td>\n",
       "      <td>Ryan Thomas</td>\n",
       "      <td>160.0</td>\n",
       "      <td>140.0</td>\n",
       "      <td>2012-12-07</td>\n",
       "      <td>67.74</td>\n",
       "      <td>61.54</td>\n",
       "      <td>38.46</td>\n",
       "      <td>41.67</td>\n",
       "      <td>-6.20</td>\n",
       "      <td>3.21</td>\n",
       "    </tr>\n",
       "    <tr>\n",
       "      <th>1</th>\n",
       "      <td>Corey Hill</td>\n",
       "      <td>-315.0</td>\n",
       "      <td>-315.0</td>\n",
       "      <td>UFC Fight Night 16: Fight For The Troops</td>\n",
       "      <td>Dale Hartt</td>\n",
       "      <td>245.0</td>\n",
       "      <td>245.0</td>\n",
       "      <td>2008-12-10</td>\n",
       "      <td>75.90</td>\n",
       "      <td>75.90</td>\n",
       "      <td>28.99</td>\n",
       "      <td>28.99</td>\n",
       "      <td>0.00</td>\n",
       "      <td>0.00</td>\n",
       "    </tr>\n",
       "    <tr>\n",
       "      <th>2</th>\n",
       "      <td>Corey Hill</td>\n",
       "      <td>-240.0</td>\n",
       "      <td>-235.0</td>\n",
       "      <td>UFC 86: Jackson vs Griffin</td>\n",
       "      <td>Justin Buchholz</td>\n",
       "      <td>200.0</td>\n",
       "      <td>195.0</td>\n",
       "      <td>2008-07-05</td>\n",
       "      <td>70.59</td>\n",
       "      <td>70.15</td>\n",
       "      <td>33.33</td>\n",
       "      <td>33.90</td>\n",
       "      <td>-0.44</td>\n",
       "      <td>0.57</td>\n",
       "    </tr>\n",
       "    <tr>\n",
       "      <th>3</th>\n",
       "      <td>Corey Hill</td>\n",
       "      <td>-195.0</td>\n",
       "      <td>-160.0</td>\n",
       "      <td>UFC Fight Night 12: Swick vs Burkman</td>\n",
       "      <td>Joe Veres</td>\n",
       "      <td>160.0</td>\n",
       "      <td>140.0</td>\n",
       "      <td>2008-01-23</td>\n",
       "      <td>66.10</td>\n",
       "      <td>61.54</td>\n",
       "      <td>38.46</td>\n",
       "      <td>41.67</td>\n",
       "      <td>-4.56</td>\n",
       "      <td>3.21</td>\n",
       "    </tr>\n",
       "    <tr>\n",
       "      <th>4</th>\n",
       "      <td>Corey Hill</td>\n",
       "      <td>NaN</td>\n",
       "      <td>NaN</td>\n",
       "      <td>XFC 22: Crossing The Line</td>\n",
       "      <td>Roger Carroll</td>\n",
       "      <td>NaN</td>\n",
       "      <td>NaN</td>\n",
       "      <td>2013-02-22</td>\n",
       "      <td>NaN</td>\n",
       "      <td>NaN</td>\n",
       "      <td>NaN</td>\n",
       "      <td>NaN</td>\n",
       "      <td>NaN</td>\n",
       "      <td>NaN</td>\n",
       "    </tr>\n",
       "  </tbody>\n",
       "</table>\n",
       "</div>"
      ],
      "text/plain": [
       "      Fighter   Open  Closing range                                     Event  \\\n",
       "0  Corey Hill -210.0         -160.0                XFC 21: Night Of Champions   \n",
       "1  Corey Hill -315.0         -315.0  UFC Fight Night 16: Fight For The Troops   \n",
       "2  Corey Hill -240.0         -235.0                UFC 86: Jackson vs Griffin   \n",
       "3  Corey Hill -195.0         -160.0      UFC Fight Night 12: Swick vs Burkman   \n",
       "4  Corey Hill    NaN            NaN                 XFC 22: Crossing The Line   \n",
       "\n",
       "          Opponent  Opp_Open  Opp_Closing_Range  Date_Aprox  \\\n",
       "0      Ryan Thomas     160.0              140.0  2012-12-07   \n",
       "1       Dale Hartt     245.0              245.0  2008-12-10   \n",
       "2  Justin Buchholz     200.0              195.0  2008-07-05   \n",
       "3        Joe Veres     160.0              140.0  2008-01-23   \n",
       "4    Roger Carroll       NaN                NaN  2013-02-22   \n",
       "\n",
       "   Open_Implied_Prob  Closing_Range_Implied_Prob  Opp_Open_Implied_Prob  \\\n",
       "0              67.74                       61.54                  38.46   \n",
       "1              75.90                       75.90                  28.99   \n",
       "2              70.59                       70.15                  33.33   \n",
       "3              66.10                       61.54                  38.46   \n",
       "4                NaN                         NaN                    NaN   \n",
       "\n",
       "   Opp_Closing_Range_Implied_Prob  Change_in_Implied_Prob  \\\n",
       "0                           41.67                   -6.20   \n",
       "1                           28.99                    0.00   \n",
       "2                           33.90                   -0.44   \n",
       "3                           41.67                   -4.56   \n",
       "4                             NaN                     NaN   \n",
       "\n",
       "   Opp_Change_in_Implied_Prob  \n",
       "0                        3.21  \n",
       "1                        0.00  \n",
       "2                        0.57  \n",
       "3                        3.21  \n",
       "4                         NaN  "
      ]
     },
     "execution_count": 8,
     "metadata": {},
     "output_type": "execute_result"
    }
   ],
   "source": [
    "# Load Fighter Odds by Fight\n",
    "odds_by_fight = pd.read_csv('data/final/odds/BestFightOdds_All_Fighter_Odds_by_Fight.csv')\n",
    "# turn date to datetime\n",
    "odds_by_fight['Date'] = pd.to_datetime(odds_by_fight['Date'])\n",
    "# turn into date\n",
    "odds_by_fight['Date'] = odds_by_fight['Date'].dt.date\n",
    "# Change Date to Date_Aprox\n",
    "odds_by_fight.rename(columns={'Date':'Date_Aprox'}, inplace=True)\n",
    "print(odds_by_fight.shape)\n",
    "odds_by_fight.head()"
   ]
  },
  {
   "cell_type": "markdown",
   "metadata": {},
   "source": [
    "#### Try to add Fighter Odds to Fight DF"
   ]
  },
  {
   "cell_type": "code",
   "execution_count": 19,
   "metadata": {},
   "outputs": [
    {
     "data": {
      "text/html": [
       "<div>\n",
       "<style scoped>\n",
       "    .dataframe tbody tr th:only-of-type {\n",
       "        vertical-align: middle;\n",
       "    }\n",
       "\n",
       "    .dataframe tbody tr th {\n",
       "        vertical-align: top;\n",
       "    }\n",
       "\n",
       "    .dataframe thead th {\n",
       "        text-align: right;\n",
       "    }\n",
       "</style>\n",
       "<table border=\"1\" class=\"dataframe\">\n",
       "  <thead>\n",
       "    <tr style=\"text-align: right;\">\n",
       "      <th></th>\n",
       "      <th>Fighter_A</th>\n",
       "      <th>Fighter_B</th>\n",
       "      <th>details</th>\n",
       "      <th>event_title</th>\n",
       "      <th>event_url</th>\n",
       "      <th>date</th>\n",
       "      <th>Winner</th>\n",
       "      <th>fight_id</th>\n",
       "      <th>A_Kd</th>\n",
       "      <th>B_Kd</th>\n",
       "      <th>...</th>\n",
       "      <th>B_Clinch_Strikes_land</th>\n",
       "      <th>B_Clinch_Strikes_att</th>\n",
       "      <th>A_Clinch_Strikes_percent</th>\n",
       "      <th>B_Clinch_Strikes_percent</th>\n",
       "      <th>A_Ground_Strikes_land</th>\n",
       "      <th>A_Ground_Strikes_att</th>\n",
       "      <th>B_Ground_Strikes_land</th>\n",
       "      <th>B_Ground_Strikes_att</th>\n",
       "      <th>A_Ground_Strikes_percent</th>\n",
       "      <th>B_Ground_Strikes_percent</th>\n",
       "    </tr>\n",
       "  </thead>\n",
       "  <tbody>\n",
       "    <tr>\n",
       "      <th>0</th>\n",
       "      <td>Rick Story</td>\n",
       "      <td>Martin Kampmann</td>\n",
       "      <td>Steve English                                 ...</td>\n",
       "      <td>UFC 139: Shogun vs Henderson</td>\n",
       "      <td>http://www.ufcstats.com/event-details/0ec82142...</td>\n",
       "      <td>2011-11-19</td>\n",
       "      <td>Martin Kampmann \"The Hitman\"</td>\n",
       "      <td>89820fae001dd151</td>\n",
       "      <td>0</td>\n",
       "      <td>0</td>\n",
       "      <td>...</td>\n",
       "      <td>5</td>\n",
       "      <td>16</td>\n",
       "      <td>0.560000</td>\n",
       "      <td>0.312500</td>\n",
       "      <td>0</td>\n",
       "      <td>0</td>\n",
       "      <td>4</td>\n",
       "      <td>4</td>\n",
       "      <td>0.000000</td>\n",
       "      <td>1.000000</td>\n",
       "    </tr>\n",
       "    <tr>\n",
       "      <th>1</th>\n",
       "      <td>Enrique Barzola</td>\n",
       "      <td>Kyle Bochniak</td>\n",
       "      <td>Dave Hagen                                    ...</td>\n",
       "      <td>UFC on FOX: Maia vs. Condit</td>\n",
       "      <td>http://www.ufcstats.com/event-details/cfbccfed...</td>\n",
       "      <td>2016-08-27</td>\n",
       "      <td>Kyle Bochniak \"Killer B\"</td>\n",
       "      <td>df33799f117000cb</td>\n",
       "      <td>0</td>\n",
       "      <td>0</td>\n",
       "      <td>...</td>\n",
       "      <td>3</td>\n",
       "      <td>5</td>\n",
       "      <td>0.800000</td>\n",
       "      <td>0.600000</td>\n",
       "      <td>0</td>\n",
       "      <td>0</td>\n",
       "      <td>0</td>\n",
       "      <td>0</td>\n",
       "      <td>0.000000</td>\n",
       "      <td>0.000000</td>\n",
       "    </tr>\n",
       "    <tr>\n",
       "      <th>2</th>\n",
       "      <td>Belal Muhammad</td>\n",
       "      <td>Takashi Sato</td>\n",
       "      <td>Rear Naked Choke</td>\n",
       "      <td>UFC 242: Khabib vs. Poirier</td>\n",
       "      <td>http://www.ufcstats.com/event-details/a79bfbc0...</td>\n",
       "      <td>2019-09-07</td>\n",
       "      <td>Belal Muhammad \"Remember the Name\"</td>\n",
       "      <td>18aff757c54687f1</td>\n",
       "      <td>0</td>\n",
       "      <td>0</td>\n",
       "      <td>...</td>\n",
       "      <td>0</td>\n",
       "      <td>0</td>\n",
       "      <td>0.750000</td>\n",
       "      <td>0.000000</td>\n",
       "      <td>4</td>\n",
       "      <td>4</td>\n",
       "      <td>0</td>\n",
       "      <td>0</td>\n",
       "      <td>1.000000</td>\n",
       "      <td>0.000000</td>\n",
       "    </tr>\n",
       "    <tr>\n",
       "      <th>3</th>\n",
       "      <td>Alex Caceres</td>\n",
       "      <td>Edwin Figueroa</td>\n",
       "      <td>Two Points Deducted: Low Blows by Caceres     ...</td>\n",
       "      <td>UFC 143: Diaz vs Condit</td>\n",
       "      <td>http://www.ufcstats.com/event-details/df2cf66d...</td>\n",
       "      <td>2012-02-04</td>\n",
       "      <td>Edwin Figueroa \"El Feroz\"</td>\n",
       "      <td>d019250cc6d93527</td>\n",
       "      <td>0</td>\n",
       "      <td>1</td>\n",
       "      <td>...</td>\n",
       "      <td>5</td>\n",
       "      <td>5</td>\n",
       "      <td>1.000000</td>\n",
       "      <td>1.000000</td>\n",
       "      <td>1</td>\n",
       "      <td>2</td>\n",
       "      <td>10</td>\n",
       "      <td>18</td>\n",
       "      <td>0.500000</td>\n",
       "      <td>0.555556</td>\n",
       "    </tr>\n",
       "    <tr>\n",
       "      <th>4</th>\n",
       "      <td>TJ Grant</td>\n",
       "      <td>Carlo Prater</td>\n",
       "      <td>Brian Costello                                ...</td>\n",
       "      <td>UFC on FUEL TV: Korean Zombie vs Poirier</td>\n",
       "      <td>http://www.ufcstats.com/event-details/8caca585...</td>\n",
       "      <td>2012-05-15</td>\n",
       "      <td>TJ Grant</td>\n",
       "      <td>4655930eb83446c7</td>\n",
       "      <td>0</td>\n",
       "      <td>0</td>\n",
       "      <td>...</td>\n",
       "      <td>2</td>\n",
       "      <td>3</td>\n",
       "      <td>0.857143</td>\n",
       "      <td>0.666667</td>\n",
       "      <td>10</td>\n",
       "      <td>12</td>\n",
       "      <td>0</td>\n",
       "      <td>1</td>\n",
       "      <td>0.833333</td>\n",
       "      <td>0.000000</td>\n",
       "    </tr>\n",
       "  </tbody>\n",
       "</table>\n",
       "<p>5 rows × 80 columns</p>\n",
       "</div>"
      ],
      "text/plain": [
       "         Fighter_A        Fighter_B  \\\n",
       "0       Rick Story  Martin Kampmann   \n",
       "1  Enrique Barzola    Kyle Bochniak   \n",
       "2   Belal Muhammad     Takashi Sato   \n",
       "3     Alex Caceres   Edwin Figueroa   \n",
       "4         TJ Grant     Carlo Prater   \n",
       "\n",
       "                                             details  \\\n",
       "0  Steve English                                 ...   \n",
       "1  Dave Hagen                                    ...   \n",
       "2                                   Rear Naked Choke   \n",
       "3  Two Points Deducted: Low Blows by Caceres     ...   \n",
       "4  Brian Costello                                ...   \n",
       "\n",
       "                                event_title  \\\n",
       "0              UFC 139: Shogun vs Henderson   \n",
       "1               UFC on FOX: Maia vs. Condit   \n",
       "2               UFC 242: Khabib vs. Poirier   \n",
       "3                   UFC 143: Diaz vs Condit   \n",
       "4  UFC on FUEL TV: Korean Zombie vs Poirier   \n",
       "\n",
       "                                           event_url        date  \\\n",
       "0  http://www.ufcstats.com/event-details/0ec82142...  2011-11-19   \n",
       "1  http://www.ufcstats.com/event-details/cfbccfed...  2016-08-27   \n",
       "2  http://www.ufcstats.com/event-details/a79bfbc0...  2019-09-07   \n",
       "3  http://www.ufcstats.com/event-details/df2cf66d...  2012-02-04   \n",
       "4  http://www.ufcstats.com/event-details/8caca585...  2012-05-15   \n",
       "\n",
       "                               Winner          fight_id  A_Kd  B_Kd  ...  \\\n",
       "0        Martin Kampmann \"The Hitman\"  89820fae001dd151     0     0  ...   \n",
       "1            Kyle Bochniak \"Killer B\"  df33799f117000cb     0     0  ...   \n",
       "2  Belal Muhammad \"Remember the Name\"  18aff757c54687f1     0     0  ...   \n",
       "3           Edwin Figueroa \"El Feroz\"  d019250cc6d93527     0     1  ...   \n",
       "4                            TJ Grant  4655930eb83446c7     0     0  ...   \n",
       "\n",
       "   B_Clinch_Strikes_land  B_Clinch_Strikes_att  A_Clinch_Strikes_percent  \\\n",
       "0                      5                    16                  0.560000   \n",
       "1                      3                     5                  0.800000   \n",
       "2                      0                     0                  0.750000   \n",
       "3                      5                     5                  1.000000   \n",
       "4                      2                     3                  0.857143   \n",
       "\n",
       "   B_Clinch_Strikes_percent  A_Ground_Strikes_land  A_Ground_Strikes_att  \\\n",
       "0                  0.312500                      0                     0   \n",
       "1                  0.600000                      0                     0   \n",
       "2                  0.000000                      4                     4   \n",
       "3                  1.000000                      1                     2   \n",
       "4                  0.666667                     10                    12   \n",
       "\n",
       "  B_Ground_Strikes_land B_Ground_Strikes_att  A_Ground_Strikes_percent  \\\n",
       "0                     4                    4                  0.000000   \n",
       "1                     0                    0                  0.000000   \n",
       "2                     0                    0                  1.000000   \n",
       "3                    10                   18                  0.500000   \n",
       "4                     0                    1                  0.833333   \n",
       "\n",
       "   B_Ground_Strikes_percent  \n",
       "0                  1.000000  \n",
       "1                  0.000000  \n",
       "2                  0.000000  \n",
       "3                  0.555556  \n",
       "4                  0.000000  \n",
       "\n",
       "[5 rows x 80 columns]"
      ]
     },
     "execution_count": 19,
     "metadata": {},
     "output_type": "execute_result"
    }
   ],
   "source": [
    "fights_df.columns.to_list()\n",
    "# move some columns to front\n",
    "front_cols = [\n",
    "    'Fighter_A',\n",
    "    'Fighter_B',\n",
    "    'details',\n",
    " 'event_title',\n",
    " 'event_url',\n",
    " 'date',\n",
    " 'Winner',\n",
    " 'fight_id',\n",
    "]\n",
    "fights_df = fights_df[front_cols + [col for col in fights_df.columns if col not in front_cols]]\n",
    "\n",
    "# date to datetime\n",
    "fights_df['date'] = pd.to_datetime(fights_df['date'])\n",
    "# turn into date\n",
    "fights_df['date'] = fights_df['date'].dt.date\n",
    "\n",
    "fights_df.head()"
   ]
  },
  {
   "cell_type": "markdown",
   "metadata": {},
   "source": [
    "Merge Fights and Odds. Should do while looking at the date and/or event title. "
   ]
  },
  {
   "cell_type": "code",
   "execution_count": null,
   "metadata": {},
   "outputs": [],
   "source": []
  },
  {
   "cell_type": "code",
   "execution_count": 22,
   "metadata": {},
   "outputs": [
    {
     "data": {
      "text/html": [
       "<div>\n",
       "<style scoped>\n",
       "    .dataframe tbody tr th:only-of-type {\n",
       "        vertical-align: middle;\n",
       "    }\n",
       "\n",
       "    .dataframe tbody tr th {\n",
       "        vertical-align: top;\n",
       "    }\n",
       "\n",
       "    .dataframe thead th {\n",
       "        text-align: right;\n",
       "    }\n",
       "</style>\n",
       "<table border=\"1\" class=\"dataframe\">\n",
       "  <thead>\n",
       "    <tr style=\"text-align: right;\">\n",
       "      <th></th>\n",
       "      <th>Fighter_A</th>\n",
       "      <th>Fighter_B</th>\n",
       "      <th>details</th>\n",
       "      <th>event_title</th>\n",
       "      <th>event_url</th>\n",
       "      <th>date</th>\n",
       "      <th>Winner</th>\n",
       "      <th>fight_id</th>\n",
       "      <th>A_Kd</th>\n",
       "      <th>B_Kd</th>\n",
       "      <th>...</th>\n",
       "      <th>Opponent</th>\n",
       "      <th>Opp_Open</th>\n",
       "      <th>Opp_Closing_Range</th>\n",
       "      <th>Date_Aprox</th>\n",
       "      <th>Open_Implied_Prob</th>\n",
       "      <th>Closing_Range_Implied_Prob</th>\n",
       "      <th>Opp_Open_Implied_Prob</th>\n",
       "      <th>Opp_Closing_Range_Implied_Prob</th>\n",
       "      <th>Change_in_Implied_Prob</th>\n",
       "      <th>Opp_Change_in_Implied_Prob</th>\n",
       "    </tr>\n",
       "  </thead>\n",
       "  <tbody>\n",
       "    <tr>\n",
       "      <th>0</th>\n",
       "      <td>Rick Story</td>\n",
       "      <td>Martin Kampmann</td>\n",
       "      <td>Steve English                                 ...</td>\n",
       "      <td>UFC 139: Shogun vs Henderson</td>\n",
       "      <td>http://www.ufcstats.com/event-details/0ec82142...</td>\n",
       "      <td>2011-11-19</td>\n",
       "      <td>Martin Kampmann \"The Hitman\"</td>\n",
       "      <td>89820fae001dd151</td>\n",
       "      <td>0</td>\n",
       "      <td>0</td>\n",
       "      <td>...</td>\n",
       "      <td>Martin Kampmann</td>\n",
       "      <td>115.0</td>\n",
       "      <td>100.0</td>\n",
       "      <td>2011-11-19</td>\n",
       "      <td>60.78</td>\n",
       "      <td>52.38</td>\n",
       "      <td>46.51</td>\n",
       "      <td>50.00</td>\n",
       "      <td>-8.40</td>\n",
       "      <td>3.49</td>\n",
       "    </tr>\n",
       "    <tr>\n",
       "      <th>1</th>\n",
       "      <td>Enrique Barzola</td>\n",
       "      <td>Kyle Bochniak</td>\n",
       "      <td>Dave Hagen                                    ...</td>\n",
       "      <td>UFC on FOX: Maia vs. Condit</td>\n",
       "      <td>http://www.ufcstats.com/event-details/cfbccfed...</td>\n",
       "      <td>2016-08-27</td>\n",
       "      <td>Kyle Bochniak \"Killer B\"</td>\n",
       "      <td>df33799f117000cb</td>\n",
       "      <td>0</td>\n",
       "      <td>0</td>\n",
       "      <td>...</td>\n",
       "      <td>Kyle Bochniak</td>\n",
       "      <td>-185.0</td>\n",
       "      <td>-150.0</td>\n",
       "      <td>2016-08-27</td>\n",
       "      <td>40.82</td>\n",
       "      <td>46.51</td>\n",
       "      <td>64.91</td>\n",
       "      <td>60.00</td>\n",
       "      <td>5.69</td>\n",
       "      <td>-4.91</td>\n",
       "    </tr>\n",
       "    <tr>\n",
       "      <th>2</th>\n",
       "      <td>Belal Muhammad</td>\n",
       "      <td>Takashi Sato</td>\n",
       "      <td>Rear Naked Choke</td>\n",
       "      <td>UFC 242: Khabib vs. Poirier</td>\n",
       "      <td>http://www.ufcstats.com/event-details/a79bfbc0...</td>\n",
       "      <td>2019-09-07</td>\n",
       "      <td>Belal Muhammad \"Remember the Name\"</td>\n",
       "      <td>18aff757c54687f1</td>\n",
       "      <td>0</td>\n",
       "      <td>0</td>\n",
       "      <td>...</td>\n",
       "      <td>Takashi Sato</td>\n",
       "      <td>170.0</td>\n",
       "      <td>295.0</td>\n",
       "      <td>2019-09-07</td>\n",
       "      <td>69.70</td>\n",
       "      <td>80.00</td>\n",
       "      <td>37.04</td>\n",
       "      <td>25.32</td>\n",
       "      <td>10.30</td>\n",
       "      <td>-11.72</td>\n",
       "    </tr>\n",
       "    <tr>\n",
       "      <th>3</th>\n",
       "      <td>Alex Caceres</td>\n",
       "      <td>Edwin Figueroa</td>\n",
       "      <td>Two Points Deducted: Low Blows by Caceres     ...</td>\n",
       "      <td>UFC 143: Diaz vs Condit</td>\n",
       "      <td>http://www.ufcstats.com/event-details/df2cf66d...</td>\n",
       "      <td>2012-02-04</td>\n",
       "      <td>Edwin Figueroa \"El Feroz\"</td>\n",
       "      <td>d019250cc6d93527</td>\n",
       "      <td>0</td>\n",
       "      <td>1</td>\n",
       "      <td>...</td>\n",
       "      <td>Edwin Figueroa</td>\n",
       "      <td>-140.0</td>\n",
       "      <td>-125.0</td>\n",
       "      <td>2012-02-04</td>\n",
       "      <td>47.62</td>\n",
       "      <td>46.51</td>\n",
       "      <td>58.33</td>\n",
       "      <td>55.56</td>\n",
       "      <td>-1.11</td>\n",
       "      <td>-2.77</td>\n",
       "    </tr>\n",
       "    <tr>\n",
       "      <th>4</th>\n",
       "      <td>TJ Grant</td>\n",
       "      <td>Carlo Prater</td>\n",
       "      <td>Brian Costello                                ...</td>\n",
       "      <td>UFC on FUEL TV: Korean Zombie vs Poirier</td>\n",
       "      <td>http://www.ufcstats.com/event-details/8caca585...</td>\n",
       "      <td>2012-05-15</td>\n",
       "      <td>TJ Grant</td>\n",
       "      <td>4655930eb83446c7</td>\n",
       "      <td>0</td>\n",
       "      <td>0</td>\n",
       "      <td>...</td>\n",
       "      <td>NaN</td>\n",
       "      <td>NaN</td>\n",
       "      <td>NaN</td>\n",
       "      <td>NaN</td>\n",
       "      <td>NaN</td>\n",
       "      <td>NaN</td>\n",
       "      <td>NaN</td>\n",
       "      <td>NaN</td>\n",
       "      <td>NaN</td>\n",
       "      <td>NaN</td>\n",
       "    </tr>\n",
       "  </tbody>\n",
       "</table>\n",
       "<p>5 rows × 94 columns</p>\n",
       "</div>"
      ],
      "text/plain": [
       "         Fighter_A        Fighter_B  \\\n",
       "0       Rick Story  Martin Kampmann   \n",
       "1  Enrique Barzola    Kyle Bochniak   \n",
       "2   Belal Muhammad     Takashi Sato   \n",
       "3     Alex Caceres   Edwin Figueroa   \n",
       "4         TJ Grant     Carlo Prater   \n",
       "\n",
       "                                             details  \\\n",
       "0  Steve English                                 ...   \n",
       "1  Dave Hagen                                    ...   \n",
       "2                                   Rear Naked Choke   \n",
       "3  Two Points Deducted: Low Blows by Caceres     ...   \n",
       "4  Brian Costello                                ...   \n",
       "\n",
       "                                event_title  \\\n",
       "0              UFC 139: Shogun vs Henderson   \n",
       "1               UFC on FOX: Maia vs. Condit   \n",
       "2               UFC 242: Khabib vs. Poirier   \n",
       "3                   UFC 143: Diaz vs Condit   \n",
       "4  UFC on FUEL TV: Korean Zombie vs Poirier   \n",
       "\n",
       "                                           event_url        date  \\\n",
       "0  http://www.ufcstats.com/event-details/0ec82142...  2011-11-19   \n",
       "1  http://www.ufcstats.com/event-details/cfbccfed...  2016-08-27   \n",
       "2  http://www.ufcstats.com/event-details/a79bfbc0...  2019-09-07   \n",
       "3  http://www.ufcstats.com/event-details/df2cf66d...  2012-02-04   \n",
       "4  http://www.ufcstats.com/event-details/8caca585...  2012-05-15   \n",
       "\n",
       "                               Winner          fight_id  A_Kd  B_Kd  ...  \\\n",
       "0        Martin Kampmann \"The Hitman\"  89820fae001dd151     0     0  ...   \n",
       "1            Kyle Bochniak \"Killer B\"  df33799f117000cb     0     0  ...   \n",
       "2  Belal Muhammad \"Remember the Name\"  18aff757c54687f1     0     0  ...   \n",
       "3           Edwin Figueroa \"El Feroz\"  d019250cc6d93527     0     1  ...   \n",
       "4                            TJ Grant  4655930eb83446c7     0     0  ...   \n",
       "\n",
       "          Opponent  Opp_Open  Opp_Closing_Range  Date_Aprox  \\\n",
       "0  Martin Kampmann     115.0              100.0  2011-11-19   \n",
       "1    Kyle Bochniak    -185.0             -150.0  2016-08-27   \n",
       "2     Takashi Sato     170.0              295.0  2019-09-07   \n",
       "3   Edwin Figueroa    -140.0             -125.0  2012-02-04   \n",
       "4              NaN       NaN                NaN         NaN   \n",
       "\n",
       "   Open_Implied_Prob  Closing_Range_Implied_Prob Opp_Open_Implied_Prob  \\\n",
       "0              60.78                       52.38                 46.51   \n",
       "1              40.82                       46.51                 64.91   \n",
       "2              69.70                       80.00                 37.04   \n",
       "3              47.62                       46.51                 58.33   \n",
       "4                NaN                         NaN                   NaN   \n",
       "\n",
       "  Opp_Closing_Range_Implied_Prob  Change_in_Implied_Prob  \\\n",
       "0                          50.00                   -8.40   \n",
       "1                          60.00                    5.69   \n",
       "2                          25.32                   10.30   \n",
       "3                          55.56                   -1.11   \n",
       "4                            NaN                     NaN   \n",
       "\n",
       "   Opp_Change_in_Implied_Prob  \n",
       "0                        3.49  \n",
       "1                       -4.91  \n",
       "2                      -11.72  \n",
       "3                       -2.77  \n",
       "4                         NaN  \n",
       "\n",
       "[5 rows x 94 columns]"
      ]
     },
     "execution_count": 22,
     "metadata": {},
     "output_type": "execute_result"
    }
   ],
   "source": [
    "# Merge Fights and Odds. Fighter_A, Fighter_B, and event_title in fights_df should match with Fighter, Opponent, and Event in odds_by_fight\n",
    "fights_df2 = pd.merge(fights_df, odds_by_fight, how='left', left_on=['Fighter_A', 'Fighter_B'], right_on=['Fighter', 'Opponent'])\n",
    "\n",
    "fights_df2.head()"
   ]
  },
  {
   "cell_type": "code",
   "execution_count": 23,
   "metadata": {},
   "outputs": [
    {
     "data": {
      "text/plain": [
       "Fighter_A                            0\n",
       "Fighter_B                            0\n",
       "details                              0\n",
       "event_title                          0\n",
       "event_url                            0\n",
       "                                  ... \n",
       "Closing_Range_Implied_Prob        2324\n",
       "Opp_Open_Implied_Prob             2324\n",
       "Opp_Closing_Range_Implied_Prob    2324\n",
       "Change_in_Implied_Prob            2324\n",
       "Opp_Change_in_Implied_Prob        2324\n",
       "Length: 94, dtype: int64"
      ]
     },
     "execution_count": 23,
     "metadata": {},
     "output_type": "execute_result"
    }
   ],
   "source": [
    "# check for nans\n",
    "fights_df2.isna().sum()"
   ]
  },
  {
   "cell_type": "code",
   "execution_count": 25,
   "metadata": {},
   "outputs": [],
   "source": [
    "fights_df = fights_df2.copy()"
   ]
  },
  {
   "cell_type": "code",
   "execution_count": 26,
   "metadata": {},
   "outputs": [],
   "source": [
    "# # Load Fighter Odds (collected by EVENT)\n",
    "# odds_by_fighter = pd.read_csv('data/final/odds/All_Odds_by_Fighter_WithChange.csv')\n",
    "\n",
    "# print(f' df shape: {odds_by_fighter.shape}')\n",
    "# # Split the 'event_ufcstats_url' column by '/' and get the last element from the resulting list, \n",
    "# # then set it as a new column named 'event_code'\n",
    "# odds_by_fighter['event_code'] = odds_by_fighter['event_ufcstats_url'].str.split('/').str[-1] \n",
    "\n",
    "# # Remove leading and trailing whitespace from the 'fighter' column\n",
    "# odds_by_fighter['fighter'] = odds_by_fighter['fighter'].str.strip()\n",
    "\n",
    "# # Show the first three rows of the resulting DataFrame\n",
    "# odds_by_fighter.head(3)"
   ]
  },
  {
   "cell_type": "code",
   "execution_count": 27,
   "metadata": {},
   "outputs": [],
   "source": [
    "# event_data = pd.read_csv('data/final/events/All_Events_Fights_and_FightUrls.csv')"
   ]
  },
  {
   "cell_type": "code",
   "execution_count": 28,
   "metadata": {},
   "outputs": [],
   "source": [
    "# # Remove whitespace from left and right of the values in the column 'Fighter1'\n",
    "# event_data['Fighter1'] = event_data['Fighter1'].str.strip()\n",
    "\n",
    "# # Remove whitespace from left and right of the values in the column 'Fighter2'\n",
    "# event_data['Fighter2'] = event_data['Fighter2'].str.strip()\n",
    "\n",
    "# # Make sure the formatting is the same\n",
    "\n",
    "# event_data['event_id'] = event_data['event_id'].astype(str)\n",
    "# odds_by_fighter['event_code'] = odds_by_fighter['event_code'].astype(str)\n",
    "\n",
    "# # Print the first 3 rows of the DataFrame to verify changes made\n",
    "# event_data.head(3)"
   ]
  },
  {
   "cell_type": "code",
   "execution_count": 29,
   "metadata": {},
   "outputs": [],
   "source": [
    "# # pick random row from odds_by_fighter\n",
    "# rand_row = odds_by_fighter.sample(1)\n",
    "# rand_row"
   ]
  },
  {
   "cell_type": "code",
   "execution_count": 30,
   "metadata": {},
   "outputs": [],
   "source": [
    "# # Filter the event_data DataFrame where the 'event_id' column matches the value of the first element in the 'rand_row' DataFrame's 'event_code' column\n",
    "# test_data = event_data[event_data['event_id'] == rand_row['event_code'].values[0]]\n",
    "\n",
    "# # Print the resulting DataFrame\n",
    "# print(test_data)"
   ]
  },
  {
   "cell_type": "code",
   "execution_count": 31,
   "metadata": {},
   "outputs": [],
   "source": [
    "# def grab_fight_url(fighter, event_code):\n",
    "#         try:\n",
    "#                 data = event_data[event_data['event_id'] == event_code]\n",
    "#                 data1 = data[data['Fighter1'] == fighter]\n",
    "#                 data2 = data[data['Fighter2'] == fighter]\n",
    "#                 data3 = pd.concat([data1, data2])\n",
    "\n",
    "#                 return data3['fight_link'].values[0]\n",
    "#         except:\n",
    "#                 return np.nan"
   ]
  },
  {
   "cell_type": "code",
   "execution_count": 32,
   "metadata": {},
   "outputs": [],
   "source": [
    "# # test\n",
    "# grab_fight_url('Robert Whittaker', '00a905a4a4a2b071')"
   ]
  },
  {
   "cell_type": "code",
   "execution_count": 33,
   "metadata": {},
   "outputs": [],
   "source": [
    "# # add fight urls to odds by fighter\n",
    "# odds_by_fighter['fight_url'] = odds_by_fighter.apply(lambda row: grab_fight_url(row['fighter'], row['event_code']), axis=1)"
   ]
  },
  {
   "cell_type": "code",
   "execution_count": 34,
   "metadata": {},
   "outputs": [],
   "source": [
    "# add columns 'odds' to odds by fighter, where odds is equal to the 5D column unless it is nan, then it is equal to the Ref column\n",
    "# odds_by_fighter['odds'] = odds_by_fighter.apply(lambda row: row['5D'] if np.isnan(row['5D']) == False else row['Ref'], axis=1)"
   ]
  },
  {
   "cell_type": "code",
   "execution_count": 35,
   "metadata": {},
   "outputs": [],
   "source": [
    "# save odds by fighter with fight urls\n",
    "# odds_by_fighter.to_csv('data/final/odds/All_Odds_by_Fighter_With_Fight_Urls.csv', index=False)"
   ]
  },
  {
   "attachments": {},
   "cell_type": "markdown",
   "metadata": {},
   "source": [
    "### Double the Fights_DF\n",
    "\n",
    "To ensure that we are measuring both fighters equally, I double the dataframe to create a version of each fight where the A fighter and B Fighter are switched, along with all of their data."
   ]
  },
  {
   "cell_type": "code",
   "execution_count": 36,
   "metadata": {},
   "outputs": [
    {
     "data": {
      "text/html": [
       "<div>\n",
       "<style scoped>\n",
       "    .dataframe tbody tr th:only-of-type {\n",
       "        vertical-align: middle;\n",
       "    }\n",
       "\n",
       "    .dataframe tbody tr th {\n",
       "        vertical-align: top;\n",
       "    }\n",
       "\n",
       "    .dataframe thead th {\n",
       "        text-align: right;\n",
       "    }\n",
       "</style>\n",
       "<table border=\"1\" class=\"dataframe\">\n",
       "  <thead>\n",
       "    <tr style=\"text-align: right;\">\n",
       "      <th></th>\n",
       "      <th>Fighter_B</th>\n",
       "      <th>Fighter_A</th>\n",
       "      <th>details</th>\n",
       "      <th>event_title</th>\n",
       "      <th>event_url</th>\n",
       "      <th>date</th>\n",
       "      <th>Winner</th>\n",
       "      <th>fight_id</th>\n",
       "      <th>B_Kd</th>\n",
       "      <th>A_Kd</th>\n",
       "      <th>...</th>\n",
       "      <th>Opponent</th>\n",
       "      <th>Opp_Open</th>\n",
       "      <th>Opp_Closing_Range</th>\n",
       "      <th>Date_Aprox</th>\n",
       "      <th>Open_Implied_Prob</th>\n",
       "      <th>Closing_Range_Implied_Prob</th>\n",
       "      <th>Opp_Open_Implied_Prob</th>\n",
       "      <th>Opp_Closing_Range_Implied_Prob</th>\n",
       "      <th>Change_in_Implied_Prob</th>\n",
       "      <th>Opp_Change_in_Implied_Prob</th>\n",
       "    </tr>\n",
       "  </thead>\n",
       "  <tbody>\n",
       "    <tr>\n",
       "      <th>0</th>\n",
       "      <td>Rick Story</td>\n",
       "      <td>Martin Kampmann</td>\n",
       "      <td>Steve English                                 ...</td>\n",
       "      <td>UFC 139: Shogun vs Henderson</td>\n",
       "      <td>http://www.ufcstats.com/event-details/0ec82142...</td>\n",
       "      <td>2011-11-19</td>\n",
       "      <td>Martin Kampmann \"The Hitman\"</td>\n",
       "      <td>89820fae001dd151</td>\n",
       "      <td>0</td>\n",
       "      <td>0</td>\n",
       "      <td>...</td>\n",
       "      <td>Martin Kampmann</td>\n",
       "      <td>115.0</td>\n",
       "      <td>100.0</td>\n",
       "      <td>2011-11-19</td>\n",
       "      <td>60.78</td>\n",
       "      <td>52.38</td>\n",
       "      <td>46.51</td>\n",
       "      <td>50.00</td>\n",
       "      <td>-8.40</td>\n",
       "      <td>3.49</td>\n",
       "    </tr>\n",
       "    <tr>\n",
       "      <th>1</th>\n",
       "      <td>Enrique Barzola</td>\n",
       "      <td>Kyle Bochniak</td>\n",
       "      <td>Dave Hagen                                    ...</td>\n",
       "      <td>UFC on FOX: Maia vs. Condit</td>\n",
       "      <td>http://www.ufcstats.com/event-details/cfbccfed...</td>\n",
       "      <td>2016-08-27</td>\n",
       "      <td>Kyle Bochniak \"Killer B\"</td>\n",
       "      <td>df33799f117000cb</td>\n",
       "      <td>0</td>\n",
       "      <td>0</td>\n",
       "      <td>...</td>\n",
       "      <td>Kyle Bochniak</td>\n",
       "      <td>-185.0</td>\n",
       "      <td>-150.0</td>\n",
       "      <td>2016-08-27</td>\n",
       "      <td>40.82</td>\n",
       "      <td>46.51</td>\n",
       "      <td>64.91</td>\n",
       "      <td>60.00</td>\n",
       "      <td>5.69</td>\n",
       "      <td>-4.91</td>\n",
       "    </tr>\n",
       "    <tr>\n",
       "      <th>2</th>\n",
       "      <td>Belal Muhammad</td>\n",
       "      <td>Takashi Sato</td>\n",
       "      <td>Rear Naked Choke</td>\n",
       "      <td>UFC 242: Khabib vs. Poirier</td>\n",
       "      <td>http://www.ufcstats.com/event-details/a79bfbc0...</td>\n",
       "      <td>2019-09-07</td>\n",
       "      <td>Belal Muhammad \"Remember the Name\"</td>\n",
       "      <td>18aff757c54687f1</td>\n",
       "      <td>0</td>\n",
       "      <td>0</td>\n",
       "      <td>...</td>\n",
       "      <td>Takashi Sato</td>\n",
       "      <td>170.0</td>\n",
       "      <td>295.0</td>\n",
       "      <td>2019-09-07</td>\n",
       "      <td>69.70</td>\n",
       "      <td>80.00</td>\n",
       "      <td>37.04</td>\n",
       "      <td>25.32</td>\n",
       "      <td>10.30</td>\n",
       "      <td>-11.72</td>\n",
       "    </tr>\n",
       "    <tr>\n",
       "      <th>3</th>\n",
       "      <td>Alex Caceres</td>\n",
       "      <td>Edwin Figueroa</td>\n",
       "      <td>Two Points Deducted: Low Blows by Caceres     ...</td>\n",
       "      <td>UFC 143: Diaz vs Condit</td>\n",
       "      <td>http://www.ufcstats.com/event-details/df2cf66d...</td>\n",
       "      <td>2012-02-04</td>\n",
       "      <td>Edwin Figueroa \"El Feroz\"</td>\n",
       "      <td>d019250cc6d93527</td>\n",
       "      <td>0</td>\n",
       "      <td>1</td>\n",
       "      <td>...</td>\n",
       "      <td>Edwin Figueroa</td>\n",
       "      <td>-140.0</td>\n",
       "      <td>-125.0</td>\n",
       "      <td>2012-02-04</td>\n",
       "      <td>47.62</td>\n",
       "      <td>46.51</td>\n",
       "      <td>58.33</td>\n",
       "      <td>55.56</td>\n",
       "      <td>-1.11</td>\n",
       "      <td>-2.77</td>\n",
       "    </tr>\n",
       "    <tr>\n",
       "      <th>4</th>\n",
       "      <td>TJ Grant</td>\n",
       "      <td>Carlo Prater</td>\n",
       "      <td>Brian Costello                                ...</td>\n",
       "      <td>UFC on FUEL TV: Korean Zombie vs Poirier</td>\n",
       "      <td>http://www.ufcstats.com/event-details/8caca585...</td>\n",
       "      <td>2012-05-15</td>\n",
       "      <td>TJ Grant</td>\n",
       "      <td>4655930eb83446c7</td>\n",
       "      <td>0</td>\n",
       "      <td>0</td>\n",
       "      <td>...</td>\n",
       "      <td>NaN</td>\n",
       "      <td>NaN</td>\n",
       "      <td>NaN</td>\n",
       "      <td>NaN</td>\n",
       "      <td>NaN</td>\n",
       "      <td>NaN</td>\n",
       "      <td>NaN</td>\n",
       "      <td>NaN</td>\n",
       "      <td>NaN</td>\n",
       "      <td>NaN</td>\n",
       "    </tr>\n",
       "  </tbody>\n",
       "</table>\n",
       "<p>5 rows × 94 columns</p>\n",
       "</div>"
      ],
      "text/plain": [
       "         Fighter_B        Fighter_A  \\\n",
       "0       Rick Story  Martin Kampmann   \n",
       "1  Enrique Barzola    Kyle Bochniak   \n",
       "2   Belal Muhammad     Takashi Sato   \n",
       "3     Alex Caceres   Edwin Figueroa   \n",
       "4         TJ Grant     Carlo Prater   \n",
       "\n",
       "                                             details  \\\n",
       "0  Steve English                                 ...   \n",
       "1  Dave Hagen                                    ...   \n",
       "2                                   Rear Naked Choke   \n",
       "3  Two Points Deducted: Low Blows by Caceres     ...   \n",
       "4  Brian Costello                                ...   \n",
       "\n",
       "                                event_title  \\\n",
       "0              UFC 139: Shogun vs Henderson   \n",
       "1               UFC on FOX: Maia vs. Condit   \n",
       "2               UFC 242: Khabib vs. Poirier   \n",
       "3                   UFC 143: Diaz vs Condit   \n",
       "4  UFC on FUEL TV: Korean Zombie vs Poirier   \n",
       "\n",
       "                                           event_url        date  \\\n",
       "0  http://www.ufcstats.com/event-details/0ec82142...  2011-11-19   \n",
       "1  http://www.ufcstats.com/event-details/cfbccfed...  2016-08-27   \n",
       "2  http://www.ufcstats.com/event-details/a79bfbc0...  2019-09-07   \n",
       "3  http://www.ufcstats.com/event-details/df2cf66d...  2012-02-04   \n",
       "4  http://www.ufcstats.com/event-details/8caca585...  2012-05-15   \n",
       "\n",
       "                               Winner          fight_id  B_Kd  A_Kd  ...  \\\n",
       "0        Martin Kampmann \"The Hitman\"  89820fae001dd151     0     0  ...   \n",
       "1            Kyle Bochniak \"Killer B\"  df33799f117000cb     0     0  ...   \n",
       "2  Belal Muhammad \"Remember the Name\"  18aff757c54687f1     0     0  ...   \n",
       "3           Edwin Figueroa \"El Feroz\"  d019250cc6d93527     0     1  ...   \n",
       "4                            TJ Grant  4655930eb83446c7     0     0  ...   \n",
       "\n",
       "          Opponent  Opp_Open  Opp_Closing_Range  Date_Aprox  \\\n",
       "0  Martin Kampmann     115.0              100.0  2011-11-19   \n",
       "1    Kyle Bochniak    -185.0             -150.0  2016-08-27   \n",
       "2     Takashi Sato     170.0              295.0  2019-09-07   \n",
       "3   Edwin Figueroa    -140.0             -125.0  2012-02-04   \n",
       "4              NaN       NaN                NaN         NaN   \n",
       "\n",
       "   Open_Implied_Prob  Closing_Range_Implied_Prob Opp_Open_Implied_Prob  \\\n",
       "0              60.78                       52.38                 46.51   \n",
       "1              40.82                       46.51                 64.91   \n",
       "2              69.70                       80.00                 37.04   \n",
       "3              47.62                       46.51                 58.33   \n",
       "4                NaN                         NaN                   NaN   \n",
       "\n",
       "  Opp_Closing_Range_Implied_Prob  Change_in_Implied_Prob  \\\n",
       "0                          50.00                   -8.40   \n",
       "1                          60.00                    5.69   \n",
       "2                          25.32                   10.30   \n",
       "3                          55.56                   -1.11   \n",
       "4                            NaN                     NaN   \n",
       "\n",
       "   Opp_Change_in_Implied_Prob  \n",
       "0                        3.49  \n",
       "1                       -4.91  \n",
       "2                      -11.72  \n",
       "3                       -2.77  \n",
       "4                         NaN  \n",
       "\n",
       "[5 rows x 94 columns]"
      ]
     },
     "execution_count": 36,
     "metadata": {},
     "output_type": "execute_result"
    }
   ],
   "source": [
    "# Create the double fights df (switching A and B)\n",
    "fights_df2 = fights_df.copy()\n",
    "\n",
    "# switch all _A and A_ to _C and C_\n",
    "fights_df2.columns = fights_df2.columns.str.replace('Fighter_A', 'Fighter_C')\n",
    "fights_df2.columns = fights_df2.columns.str.replace('A_', 'C_')\n",
    "\n",
    "# switch all _B and B_ to _A and A_\n",
    "fights_df2.columns = fights_df2.columns.str.replace('Fighter_B', 'Fighter_A')\n",
    "fights_df2.columns = fights_df2.columns.str.replace('B_', 'A_')\n",
    "\n",
    "# switch all _C and C_ to _B and B_\n",
    "fights_df2.columns = fights_df2.columns.str.replace('Fighter_C', 'Fighter_B')\n",
    "fights_df2.columns = fights_df2.columns.str.replace('C_', 'B_')\n",
    "\n",
    "fights_df2.head()"
   ]
  },
  {
   "cell_type": "code",
   "execution_count": 37,
   "metadata": {},
   "outputs": [
    {
     "data": {
      "text/html": [
       "<div>\n",
       "<style scoped>\n",
       "    .dataframe tbody tr th:only-of-type {\n",
       "        vertical-align: middle;\n",
       "    }\n",
       "\n",
       "    .dataframe tbody tr th {\n",
       "        vertical-align: top;\n",
       "    }\n",
       "\n",
       "    .dataframe thead th {\n",
       "        text-align: right;\n",
       "    }\n",
       "</style>\n",
       "<table border=\"1\" class=\"dataframe\">\n",
       "  <thead>\n",
       "    <tr style=\"text-align: right;\">\n",
       "      <th></th>\n",
       "      <th>Fighter_A</th>\n",
       "      <th>Fighter_B</th>\n",
       "      <th>details</th>\n",
       "      <th>event_title</th>\n",
       "      <th>event_url</th>\n",
       "      <th>date</th>\n",
       "      <th>Winner</th>\n",
       "      <th>fight_id</th>\n",
       "      <th>A_Kd</th>\n",
       "      <th>B_Kd</th>\n",
       "      <th>...</th>\n",
       "      <th>Opponent</th>\n",
       "      <th>Opp_Open</th>\n",
       "      <th>Opp_Closing_Range</th>\n",
       "      <th>Date_Aprox</th>\n",
       "      <th>Open_Implied_Prob</th>\n",
       "      <th>Closing_Range_Implied_Prob</th>\n",
       "      <th>Opp_Open_Implied_Prob</th>\n",
       "      <th>Opp_Closing_Range_Implied_Prob</th>\n",
       "      <th>Change_in_Implied_Prob</th>\n",
       "      <th>Opp_Change_in_Implied_Prob</th>\n",
       "    </tr>\n",
       "  </thead>\n",
       "  <tbody>\n",
       "    <tr>\n",
       "      <th>0</th>\n",
       "      <td>Rick Story</td>\n",
       "      <td>Martin Kampmann</td>\n",
       "      <td>Steve English                                 ...</td>\n",
       "      <td>UFC 139: Shogun vs Henderson</td>\n",
       "      <td>http://www.ufcstats.com/event-details/0ec82142...</td>\n",
       "      <td>2011-11-19</td>\n",
       "      <td>Martin Kampmann \"The Hitman\"</td>\n",
       "      <td>89820fae001dd151</td>\n",
       "      <td>0</td>\n",
       "      <td>0</td>\n",
       "      <td>...</td>\n",
       "      <td>Martin Kampmann</td>\n",
       "      <td>115.0</td>\n",
       "      <td>100.0</td>\n",
       "      <td>2011-11-19</td>\n",
       "      <td>60.78</td>\n",
       "      <td>52.38</td>\n",
       "      <td>46.51</td>\n",
       "      <td>50.00</td>\n",
       "      <td>-8.40</td>\n",
       "      <td>3.49</td>\n",
       "    </tr>\n",
       "    <tr>\n",
       "      <th>1</th>\n",
       "      <td>Enrique Barzola</td>\n",
       "      <td>Kyle Bochniak</td>\n",
       "      <td>Dave Hagen                                    ...</td>\n",
       "      <td>UFC on FOX: Maia vs. Condit</td>\n",
       "      <td>http://www.ufcstats.com/event-details/cfbccfed...</td>\n",
       "      <td>2016-08-27</td>\n",
       "      <td>Kyle Bochniak \"Killer B\"</td>\n",
       "      <td>df33799f117000cb</td>\n",
       "      <td>0</td>\n",
       "      <td>0</td>\n",
       "      <td>...</td>\n",
       "      <td>Kyle Bochniak</td>\n",
       "      <td>-185.0</td>\n",
       "      <td>-150.0</td>\n",
       "      <td>2016-08-27</td>\n",
       "      <td>40.82</td>\n",
       "      <td>46.51</td>\n",
       "      <td>64.91</td>\n",
       "      <td>60.00</td>\n",
       "      <td>5.69</td>\n",
       "      <td>-4.91</td>\n",
       "    </tr>\n",
       "    <tr>\n",
       "      <th>2</th>\n",
       "      <td>Belal Muhammad</td>\n",
       "      <td>Takashi Sato</td>\n",
       "      <td>Rear Naked Choke</td>\n",
       "      <td>UFC 242: Khabib vs. Poirier</td>\n",
       "      <td>http://www.ufcstats.com/event-details/a79bfbc0...</td>\n",
       "      <td>2019-09-07</td>\n",
       "      <td>Belal Muhammad \"Remember the Name\"</td>\n",
       "      <td>18aff757c54687f1</td>\n",
       "      <td>0</td>\n",
       "      <td>0</td>\n",
       "      <td>...</td>\n",
       "      <td>Takashi Sato</td>\n",
       "      <td>170.0</td>\n",
       "      <td>295.0</td>\n",
       "      <td>2019-09-07</td>\n",
       "      <td>69.70</td>\n",
       "      <td>80.00</td>\n",
       "      <td>37.04</td>\n",
       "      <td>25.32</td>\n",
       "      <td>10.30</td>\n",
       "      <td>-11.72</td>\n",
       "    </tr>\n",
       "  </tbody>\n",
       "</table>\n",
       "<p>3 rows × 94 columns</p>\n",
       "</div>"
      ],
      "text/plain": [
       "         Fighter_A        Fighter_B  \\\n",
       "0       Rick Story  Martin Kampmann   \n",
       "1  Enrique Barzola    Kyle Bochniak   \n",
       "2   Belal Muhammad     Takashi Sato   \n",
       "\n",
       "                                             details  \\\n",
       "0  Steve English                                 ...   \n",
       "1  Dave Hagen                                    ...   \n",
       "2                                   Rear Naked Choke   \n",
       "\n",
       "                    event_title  \\\n",
       "0  UFC 139: Shogun vs Henderson   \n",
       "1   UFC on FOX: Maia vs. Condit   \n",
       "2   UFC 242: Khabib vs. Poirier   \n",
       "\n",
       "                                           event_url        date  \\\n",
       "0  http://www.ufcstats.com/event-details/0ec82142...  2011-11-19   \n",
       "1  http://www.ufcstats.com/event-details/cfbccfed...  2016-08-27   \n",
       "2  http://www.ufcstats.com/event-details/a79bfbc0...  2019-09-07   \n",
       "\n",
       "                               Winner          fight_id  A_Kd  B_Kd  ...  \\\n",
       "0        Martin Kampmann \"The Hitman\"  89820fae001dd151     0     0  ...   \n",
       "1            Kyle Bochniak \"Killer B\"  df33799f117000cb     0     0  ...   \n",
       "2  Belal Muhammad \"Remember the Name\"  18aff757c54687f1     0     0  ...   \n",
       "\n",
       "          Opponent  Opp_Open  Opp_Closing_Range  Date_Aprox  \\\n",
       "0  Martin Kampmann     115.0              100.0  2011-11-19   \n",
       "1    Kyle Bochniak    -185.0             -150.0  2016-08-27   \n",
       "2     Takashi Sato     170.0              295.0  2019-09-07   \n",
       "\n",
       "   Open_Implied_Prob  Closing_Range_Implied_Prob Opp_Open_Implied_Prob  \\\n",
       "0              60.78                       52.38                 46.51   \n",
       "1              40.82                       46.51                 64.91   \n",
       "2              69.70                       80.00                 37.04   \n",
       "\n",
       "  Opp_Closing_Range_Implied_Prob  Change_in_Implied_Prob  \\\n",
       "0                          50.00                   -8.40   \n",
       "1                          60.00                    5.69   \n",
       "2                          25.32                   10.30   \n",
       "\n",
       "   Opp_Change_in_Implied_Prob  \n",
       "0                        3.49  \n",
       "1                       -4.91  \n",
       "2                      -11.72  \n",
       "\n",
       "[3 rows x 94 columns]"
      ]
     },
     "execution_count": 37,
     "metadata": {},
     "output_type": "execute_result"
    }
   ],
   "source": [
    "# add the new columns to the original df\n",
    "double_fights_df = pd.concat([fights_df, fights_df2], axis=0)\n",
    "double_fights_df.head(3)"
   ]
  },
  {
   "cell_type": "code",
   "execution_count": 38,
   "metadata": {},
   "outputs": [],
   "source": [
    "double_fights_df.to_csv('data/final/aggregates/Fight_DF_V2.csv', index=False)"
   ]
  },
  {
   "attachments": {},
   "cell_type": "markdown",
   "metadata": {},
   "source": [
    "## Add Odds by Fighter to FightsDf (Already done in new version, using fighter odds)"
   ]
  },
  {
   "attachments": {},
   "cell_type": "markdown",
   "metadata": {},
   "source": [
    "### Load Point for OddsByFighter"
   ]
  },
  {
   "cell_type": "code",
   "execution_count": 21,
   "metadata": {},
   "outputs": [],
   "source": [
    "# load\n",
    "# odds_by_fighter = pd.read_csv('data/final/odds/All_Odds_by_Fighter_With_Fight_Urls.csv')"
   ]
  },
  {
   "attachments": {},
   "cell_type": "markdown",
   "metadata": {},
   "source": [
    "#### Note: We want to use ufcstats Urls as our connector\n",
    "\n",
    "We could also just use the event code if that isnt working for some reason"
   ]
  },
  {
   "cell_type": "code",
   "execution_count": 23,
   "metadata": {},
   "outputs": [],
   "source": [
    "# # make sure formatting is the same (string)\n",
    "# odds_by_fighter['event_ufcstats_url'] = odds_by_fighter['event_ufcstats_url'].astype(str)\n",
    "# odds_by_fighter['event_code'] = odds_by_fighter['event_code'].astype(str)\n",
    "# double_fights_df['event_url'] = double_fights_df['event_url'].astype(str)\n",
    "\n",
    "# # make sure name formatting is same\n",
    "# odds_by_fighter['fighter'] = odds_by_fighter['fighter'].str.strip()\n",
    "# double_fights_df['Fighter_A'] = double_fights_df['Fighter_A'].str.strip()\n",
    "# double_fights_df['Fighter_B'] = double_fights_df['Fighter_B'].str.strip()"
   ]
  },
  {
   "cell_type": "code",
   "execution_count": 24,
   "metadata": {},
   "outputs": [],
   "source": [
    "# # Add column \"Event Code\", which is event code for ufcstats\n",
    "# double_fights_df['event_code'] = double_fights_df['event_url'].str.split('/').str[-1]\n",
    "# double_fights_df['event_code'] = double_fights_df['event_code'].astype(str)"
   ]
  },
  {
   "cell_type": "code",
   "execution_count": 25,
   "metadata": {},
   "outputs": [],
   "source": [
    "# # check the differences between double_fights_df['event_code'] and odds_by_fighter['event_code']\n",
    "# dfights = double_fights_df['event_code'].unique()\n",
    "# odds = odds_by_fighter['event_code'].unique()\n",
    "\n",
    "# # check differences in list\n",
    "# diff = [x for x in dfights if x not in odds]"
   ]
  },
  {
   "cell_type": "code",
   "execution_count": 26,
   "metadata": {},
   "outputs": [
    {
     "data": {
      "text/plain": [
       "[]"
      ]
     },
     "execution_count": 26,
     "metadata": {},
     "output_type": "execute_result"
    }
   ],
   "source": [
    "# diff2 = [x for x in odds if x not in dfights]\n",
    "# diff2"
   ]
  },
  {
   "cell_type": "code",
   "execution_count": 27,
   "metadata": {},
   "outputs": [
    {
     "data": {
      "text/plain": [
       "fighter                object\n",
       "5D                    float64\n",
       "Ref                   float64\n",
       "event_odds_url         object\n",
       "event_ufcstats_url     object\n",
       "event_id               object\n",
       "event_name             object\n",
       "odds_change           float64\n",
       "event_code             object\n",
       "fight_url              object\n",
       "odds                  float64\n",
       "dtype: object"
      ]
     },
     "execution_count": 27,
     "metadata": {},
     "output_type": "execute_result"
    }
   ],
   "source": [
    "# # Check Dtypes of odds_by_fighter\n",
    "# odds_by_fighter.dtypes"
   ]
  },
  {
   "cell_type": "code",
   "execution_count": 28,
   "metadata": {},
   "outputs": [],
   "source": [
    "# odds_by_fighter['event_code'] = odds_by_fighter['event_code'].astype(str)\n",
    "# odds_by_fighter['event_ufcstats_url'] = odds_by_fighter['event_ufcstats_url'].astype(str)"
   ]
  },
  {
   "cell_type": "code",
   "execution_count": 29,
   "metadata": {},
   "outputs": [],
   "source": [
    "# # This function takes in an event code and fighter name as parameters\n",
    "# def get_odds_from_obf(event_code, fighter):\n",
    "#     try:\n",
    "#         # Selects data from odds_by_fighter that has the event_code equal to the provided event_code\n",
    "#         data = odds_by_fighter[odds_by_fighter['event_code'] == event_code]\n",
    "#         # Filters the above data further by only returning data with the fighter name equal to the provided fighter name\n",
    "#         data = data[data['fighter'] == fighter]\n",
    "#         # Returns the odds value for the fighter in the provided event.\n",
    "#         return data['odds'].values[0]\n",
    "#     except:\n",
    "#         # If any error occurs during the processing above, return NaN\n",
    "#         return np.nan"
   ]
  },
  {
   "cell_type": "code",
   "execution_count": 30,
   "metadata": {},
   "outputs": [
    {
     "data": {
      "text/plain": [
       "-125.0"
      ]
     },
     "execution_count": 30,
     "metadata": {},
     "output_type": "execute_result"
    }
   ],
   "source": [
    "# # test\n",
    "# get_odds_from_obf('805ad1801eb26abb', 'Holly Holm')"
   ]
  },
  {
   "cell_type": "code",
   "execution_count": 31,
   "metadata": {},
   "outputs": [],
   "source": [
    "# double_fights_df['Fighter_A_Odds'] = double_fights_df.apply(lambda row: get_odds_from_obf(row['event_code'], row['Fighter_A']), axis=1)\n",
    "# double_fights_df['Fighter_B_Odds'] = double_fights_df.apply(lambda row: get_odds_from_obf(row['event_code'], row['Fighter_B']), axis=1)"
   ]
  },
  {
   "attachments": {},
   "cell_type": "markdown",
   "metadata": {},
   "source": [
    "## Add Odds Change to FightsDf"
   ]
  },
  {
   "cell_type": "code",
   "execution_count": 34,
   "metadata": {},
   "outputs": [],
   "source": [
    "# def get_odds_change_from_obf(event_code, fighter):\n",
    "#         try:\n",
    "#                 # First, we filter the odds_by_fighter DataFrame by event code\n",
    "#                 data = odds_by_fighter[odds_by_fighter['event_code'] == event_code]\n",
    "#                 # Then, we filter by the designated fighter\n",
    "#                 data = data[data['fighter'] == fighter]\n",
    "\n",
    "#                 # We return the odds change value for that fighter and event code\n",
    "#                 return data['odds_change'].values[0]\n",
    "#         except:\n",
    "#                 return np.nan"
   ]
  },
  {
   "cell_type": "code",
   "execution_count": 35,
   "metadata": {},
   "outputs": [],
   "source": [
    "# # add odds change\n",
    "# double_fights_df['Fighter_A_Odds_Change'] = double_fights_df.apply(lambda row: get_odds_change_from_obf(row['event_code'], row['Fighter_A']), axis=1)\n",
    "# double_fights_df['Fighter_B_Odds_Change'] = double_fights_df.apply(lambda row: get_odds_change_from_obf(row['event_code'], row['Fighter_B']), axis=1)\n"
   ]
  },
  {
   "cell_type": "code",
   "execution_count": 39,
   "metadata": {},
   "outputs": [
    {
     "data": {
      "text/html": [
       "<div>\n",
       "<style scoped>\n",
       "    .dataframe tbody tr th:only-of-type {\n",
       "        vertical-align: middle;\n",
       "    }\n",
       "\n",
       "    .dataframe tbody tr th {\n",
       "        vertical-align: top;\n",
       "    }\n",
       "\n",
       "    .dataframe thead th {\n",
       "        text-align: right;\n",
       "    }\n",
       "</style>\n",
       "<table border=\"1\" class=\"dataframe\">\n",
       "  <thead>\n",
       "    <tr style=\"text-align: right;\">\n",
       "      <th></th>\n",
       "      <th>Fighter_A</th>\n",
       "      <th>Fighter_B</th>\n",
       "      <th>details</th>\n",
       "      <th>event_title</th>\n",
       "      <th>event_url</th>\n",
       "      <th>date</th>\n",
       "      <th>Winner</th>\n",
       "      <th>fight_id</th>\n",
       "      <th>A_Kd</th>\n",
       "      <th>B_Kd</th>\n",
       "      <th>...</th>\n",
       "      <th>Opponent</th>\n",
       "      <th>Opp_Open</th>\n",
       "      <th>Opp_Closing_Range</th>\n",
       "      <th>Date_Aprox</th>\n",
       "      <th>Open_Implied_Prob</th>\n",
       "      <th>Closing_Range_Implied_Prob</th>\n",
       "      <th>Opp_Open_Implied_Prob</th>\n",
       "      <th>Opp_Closing_Range_Implied_Prob</th>\n",
       "      <th>Change_in_Implied_Prob</th>\n",
       "      <th>Opp_Change_in_Implied_Prob</th>\n",
       "    </tr>\n",
       "  </thead>\n",
       "  <tbody>\n",
       "    <tr>\n",
       "      <th>0</th>\n",
       "      <td>Rick Story</td>\n",
       "      <td>Martin Kampmann</td>\n",
       "      <td>Steve English                                 ...</td>\n",
       "      <td>UFC 139: Shogun vs Henderson</td>\n",
       "      <td>http://www.ufcstats.com/event-details/0ec82142...</td>\n",
       "      <td>2011-11-19</td>\n",
       "      <td>Martin Kampmann \"The Hitman\"</td>\n",
       "      <td>89820fae001dd151</td>\n",
       "      <td>0</td>\n",
       "      <td>0</td>\n",
       "      <td>...</td>\n",
       "      <td>Martin Kampmann</td>\n",
       "      <td>115.0</td>\n",
       "      <td>100.0</td>\n",
       "      <td>2011-11-19</td>\n",
       "      <td>60.78</td>\n",
       "      <td>52.38</td>\n",
       "      <td>46.51</td>\n",
       "      <td>50.0</td>\n",
       "      <td>-8.40</td>\n",
       "      <td>3.49</td>\n",
       "    </tr>\n",
       "    <tr>\n",
       "      <th>1</th>\n",
       "      <td>Enrique Barzola</td>\n",
       "      <td>Kyle Bochniak</td>\n",
       "      <td>Dave Hagen                                    ...</td>\n",
       "      <td>UFC on FOX: Maia vs. Condit</td>\n",
       "      <td>http://www.ufcstats.com/event-details/cfbccfed...</td>\n",
       "      <td>2016-08-27</td>\n",
       "      <td>Kyle Bochniak \"Killer B\"</td>\n",
       "      <td>df33799f117000cb</td>\n",
       "      <td>0</td>\n",
       "      <td>0</td>\n",
       "      <td>...</td>\n",
       "      <td>Kyle Bochniak</td>\n",
       "      <td>-185.0</td>\n",
       "      <td>-150.0</td>\n",
       "      <td>2016-08-27</td>\n",
       "      <td>40.82</td>\n",
       "      <td>46.51</td>\n",
       "      <td>64.91</td>\n",
       "      <td>60.0</td>\n",
       "      <td>5.69</td>\n",
       "      <td>-4.91</td>\n",
       "    </tr>\n",
       "  </tbody>\n",
       "</table>\n",
       "<p>2 rows × 94 columns</p>\n",
       "</div>"
      ],
      "text/plain": [
       "         Fighter_A        Fighter_B  \\\n",
       "0       Rick Story  Martin Kampmann   \n",
       "1  Enrique Barzola    Kyle Bochniak   \n",
       "\n",
       "                                             details  \\\n",
       "0  Steve English                                 ...   \n",
       "1  Dave Hagen                                    ...   \n",
       "\n",
       "                    event_title  \\\n",
       "0  UFC 139: Shogun vs Henderson   \n",
       "1   UFC on FOX: Maia vs. Condit   \n",
       "\n",
       "                                           event_url        date  \\\n",
       "0  http://www.ufcstats.com/event-details/0ec82142...  2011-11-19   \n",
       "1  http://www.ufcstats.com/event-details/cfbccfed...  2016-08-27   \n",
       "\n",
       "                         Winner          fight_id  A_Kd  B_Kd  ...  \\\n",
       "0  Martin Kampmann \"The Hitman\"  89820fae001dd151     0     0  ...   \n",
       "1      Kyle Bochniak \"Killer B\"  df33799f117000cb     0     0  ...   \n",
       "\n",
       "          Opponent  Opp_Open  Opp_Closing_Range  Date_Aprox  \\\n",
       "0  Martin Kampmann     115.0              100.0  2011-11-19   \n",
       "1    Kyle Bochniak    -185.0             -150.0  2016-08-27   \n",
       "\n",
       "   Open_Implied_Prob  Closing_Range_Implied_Prob Opp_Open_Implied_Prob  \\\n",
       "0              60.78                       52.38                 46.51   \n",
       "1              40.82                       46.51                 64.91   \n",
       "\n",
       "  Opp_Closing_Range_Implied_Prob  Change_in_Implied_Prob  \\\n",
       "0                           50.0                   -8.40   \n",
       "1                           60.0                    5.69   \n",
       "\n",
       "   Opp_Change_in_Implied_Prob  \n",
       "0                        3.49  \n",
       "1                       -4.91  \n",
       "\n",
       "[2 rows x 94 columns]"
      ]
     },
     "execution_count": 39,
     "metadata": {},
     "output_type": "execute_result"
    }
   ],
   "source": [
    "double_fights_df.head(2)"
   ]
  },
  {
   "cell_type": "code",
   "execution_count": 40,
   "metadata": {},
   "outputs": [
    {
     "data": {
      "text/plain": [
       "<Axes: xlabel='Count', ylabel='variable'>"
      ]
     },
     "execution_count": 40,
     "metadata": {},
     "output_type": "execute_result"
    },
    {
     "data": {
      "image/png": "[encoded data removed]",
      "text/plain": [
       "<Figure size 1200x2000 with 1 Axes>"
      ]
     },
     "metadata": {},
     "output_type": "display_data"
    }
   ],
   "source": [
    "f, ax = plt.subplots(figsize = (12,20))\n",
    "\n",
    "sns.despine(f, left=True, bottom=True)\n",
    "sns.histplot(\n",
    "    data = double_fights_df.isna().melt(value_name='missing'),\n",
    "    y= 'variable',\n",
    "    hue = 'missing',\n",
    "    multiple = 'fill', ax = ax)"
   ]
  },
  {
   "cell_type": "code",
   "execution_count": 41,
   "metadata": {},
   "outputs": [
    {
     "data": {
      "text/plain": [
       "(15312, 94)"
      ]
     },
     "execution_count": 41,
     "metadata": {},
     "output_type": "execute_result"
    }
   ],
   "source": [
    "double_fights_df.shape"
   ]
  },
  {
   "cell_type": "code",
   "execution_count": 42,
   "metadata": {},
   "outputs": [],
   "source": [
    "double_fights_df.to_csv('data/final/aggregates/Double_Fights_DF_V1.csv', index=False)"
   ]
  },
  {
   "cell_type": "code",
   "execution_count": 43,
   "metadata": {},
   "outputs": [],
   "source": [
    "double_fights_df= pd.read_csv('data/final/aggregates/Double_Fights_DF_V1.csv')"
   ]
  },
  {
   "cell_type": "code",
   "execution_count": 44,
   "metadata": {},
   "outputs": [
    {
     "data": {
      "text/html": [
       "<div>\n",
       "<style scoped>\n",
       "    .dataframe tbody tr th:only-of-type {\n",
       "        vertical-align: middle;\n",
       "    }\n",
       "\n",
       "    .dataframe tbody tr th {\n",
       "        vertical-align: top;\n",
       "    }\n",
       "\n",
       "    .dataframe thead th {\n",
       "        text-align: right;\n",
       "    }\n",
       "</style>\n",
       "<table border=\"1\" class=\"dataframe\">\n",
       "  <thead>\n",
       "    <tr style=\"text-align: right;\">\n",
       "      <th></th>\n",
       "      <th>Fighter_A</th>\n",
       "      <th>Fighter_B</th>\n",
       "      <th>details</th>\n",
       "      <th>event_title</th>\n",
       "      <th>event_url</th>\n",
       "      <th>date</th>\n",
       "      <th>Winner</th>\n",
       "      <th>fight_id</th>\n",
       "      <th>A_Kd</th>\n",
       "      <th>B_Kd</th>\n",
       "      <th>...</th>\n",
       "      <th>Opponent</th>\n",
       "      <th>Opp_Open</th>\n",
       "      <th>Opp_Closing_Range</th>\n",
       "      <th>Date_Aprox</th>\n",
       "      <th>Open_Implied_Prob</th>\n",
       "      <th>Closing_Range_Implied_Prob</th>\n",
       "      <th>Opp_Open_Implied_Prob</th>\n",
       "      <th>Opp_Closing_Range_Implied_Prob</th>\n",
       "      <th>Change_in_Implied_Prob</th>\n",
       "      <th>Opp_Change_in_Implied_Prob</th>\n",
       "    </tr>\n",
       "  </thead>\n",
       "  <tbody>\n",
       "    <tr>\n",
       "      <th>0</th>\n",
       "      <td>Rick Story</td>\n",
       "      <td>Martin Kampmann</td>\n",
       "      <td>Steve English                                 ...</td>\n",
       "      <td>UFC 139: Shogun vs Henderson</td>\n",
       "      <td>http://www.ufcstats.com/event-details/0ec82142...</td>\n",
       "      <td>2011-11-19</td>\n",
       "      <td>Martin Kampmann \"The Hitman\"</td>\n",
       "      <td>89820fae001dd151</td>\n",
       "      <td>0</td>\n",
       "      <td>0</td>\n",
       "      <td>...</td>\n",
       "      <td>Martin Kampmann</td>\n",
       "      <td>115.0</td>\n",
       "      <td>100.0</td>\n",
       "      <td>2011-11-19</td>\n",
       "      <td>60.78</td>\n",
       "      <td>52.38</td>\n",
       "      <td>46.51</td>\n",
       "      <td>50.00</td>\n",
       "      <td>-8.40</td>\n",
       "      <td>3.49</td>\n",
       "    </tr>\n",
       "    <tr>\n",
       "      <th>1</th>\n",
       "      <td>Enrique Barzola</td>\n",
       "      <td>Kyle Bochniak</td>\n",
       "      <td>Dave Hagen                                    ...</td>\n",
       "      <td>UFC on FOX: Maia vs. Condit</td>\n",
       "      <td>http://www.ufcstats.com/event-details/cfbccfed...</td>\n",
       "      <td>2016-08-27</td>\n",
       "      <td>Kyle Bochniak \"Killer B\"</td>\n",
       "      <td>df33799f117000cb</td>\n",
       "      <td>0</td>\n",
       "      <td>0</td>\n",
       "      <td>...</td>\n",
       "      <td>Kyle Bochniak</td>\n",
       "      <td>-185.0</td>\n",
       "      <td>-150.0</td>\n",
       "      <td>2016-08-27</td>\n",
       "      <td>40.82</td>\n",
       "      <td>46.51</td>\n",
       "      <td>64.91</td>\n",
       "      <td>60.00</td>\n",
       "      <td>5.69</td>\n",
       "      <td>-4.91</td>\n",
       "    </tr>\n",
       "    <tr>\n",
       "      <th>2</th>\n",
       "      <td>Belal Muhammad</td>\n",
       "      <td>Takashi Sato</td>\n",
       "      <td>Rear Naked Choke</td>\n",
       "      <td>UFC 242: Khabib vs. Poirier</td>\n",
       "      <td>http://www.ufcstats.com/event-details/a79bfbc0...</td>\n",
       "      <td>2019-09-07</td>\n",
       "      <td>Belal Muhammad \"Remember the Name\"</td>\n",
       "      <td>18aff757c54687f1</td>\n",
       "      <td>0</td>\n",
       "      <td>0</td>\n",
       "      <td>...</td>\n",
       "      <td>Takashi Sato</td>\n",
       "      <td>170.0</td>\n",
       "      <td>295.0</td>\n",
       "      <td>2019-09-07</td>\n",
       "      <td>69.70</td>\n",
       "      <td>80.00</td>\n",
       "      <td>37.04</td>\n",
       "      <td>25.32</td>\n",
       "      <td>10.30</td>\n",
       "      <td>-11.72</td>\n",
       "    </tr>\n",
       "  </tbody>\n",
       "</table>\n",
       "<p>3 rows × 94 columns</p>\n",
       "</div>"
      ],
      "text/plain": [
       "         Fighter_A        Fighter_B  \\\n",
       "0       Rick Story  Martin Kampmann   \n",
       "1  Enrique Barzola    Kyle Bochniak   \n",
       "2   Belal Muhammad     Takashi Sato   \n",
       "\n",
       "                                             details  \\\n",
       "0  Steve English                                 ...   \n",
       "1  Dave Hagen                                    ...   \n",
       "2                                   Rear Naked Choke   \n",
       "\n",
       "                    event_title  \\\n",
       "0  UFC 139: Shogun vs Henderson   \n",
       "1   UFC on FOX: Maia vs. Condit   \n",
       "2   UFC 242: Khabib vs. Poirier   \n",
       "\n",
       "                                           event_url        date  \\\n",
       "0  http://www.ufcstats.com/event-details/0ec82142...  2011-11-19   \n",
       "1  http://www.ufcstats.com/event-details/cfbccfed...  2016-08-27   \n",
       "2  http://www.ufcstats.com/event-details/a79bfbc0...  2019-09-07   \n",
       "\n",
       "                               Winner          fight_id  A_Kd  B_Kd  ...  \\\n",
       "0        Martin Kampmann \"The Hitman\"  89820fae001dd151     0     0  ...   \n",
       "1            Kyle Bochniak \"Killer B\"  df33799f117000cb     0     0  ...   \n",
       "2  Belal Muhammad \"Remember the Name\"  18aff757c54687f1     0     0  ...   \n",
       "\n",
       "          Opponent  Opp_Open  Opp_Closing_Range  Date_Aprox  \\\n",
       "0  Martin Kampmann     115.0              100.0  2011-11-19   \n",
       "1    Kyle Bochniak    -185.0             -150.0  2016-08-27   \n",
       "2     Takashi Sato     170.0              295.0  2019-09-07   \n",
       "\n",
       "   Open_Implied_Prob  Closing_Range_Implied_Prob Opp_Open_Implied_Prob  \\\n",
       "0              60.78                       52.38                 46.51   \n",
       "1              40.82                       46.51                 64.91   \n",
       "2              69.70                       80.00                 37.04   \n",
       "\n",
       "  Opp_Closing_Range_Implied_Prob  Change_in_Implied_Prob  \\\n",
       "0                          50.00                   -8.40   \n",
       "1                          60.00                    5.69   \n",
       "2                          25.32                   10.30   \n",
       "\n",
       "   Opp_Change_in_Implied_Prob  \n",
       "0                        3.49  \n",
       "1                       -4.91  \n",
       "2                      -11.72  \n",
       "\n",
       "[3 rows x 94 columns]"
      ]
     },
     "execution_count": 44,
     "metadata": {},
     "output_type": "execute_result"
    }
   ],
   "source": [
    "double_fights_df.head(3)"
   ]
  },
  {
   "cell_type": "code",
   "execution_count": 42,
   "metadata": {},
   "outputs": [
    {
     "data": {
      "text/plain": [
       "Index(['Fighter_A', 'Fighter_B', 'A_Total_Strikes', 'B_Total_Strikes',\n",
       "       'details', 'event_title', 'event_url', 'date', 'Winner', 'fight_id',\n",
       "       'event_code'],\n",
       "      dtype='object')"
      ]
     },
     "execution_count": 42,
     "metadata": {},
     "output_type": "execute_result"
    }
   ],
   "source": [
    "# find all objects in df\n",
    "double_fights_df.select_dtypes(include=['object']).columns"
   ]
  },
  {
   "attachments": {},
   "cell_type": "markdown",
   "metadata": {},
   "source": [
    "## Add Feature: In-Fight Statistic Differentials"
   ]
  },
  {
   "attachments": {},
   "cell_type": "markdown",
   "metadata": {},
   "source": [
    "First make sure that there are no Nans or Infs in the data"
   ]
  },
  {
   "cell_type": "code",
   "execution_count": 45,
   "metadata": {},
   "outputs": [
    {
     "data": {
      "text/plain": [
       "Fighter_A                            0\n",
       "Fighter_B                            0\n",
       "details                              0\n",
       "event_title                          0\n",
       "event_url                            0\n",
       "                                  ... \n",
       "Closing_Range_Implied_Prob        4648\n",
       "Opp_Open_Implied_Prob             4648\n",
       "Opp_Closing_Range_Implied_Prob    4648\n",
       "Change_in_Implied_Prob            4648\n",
       "Opp_Change_in_Implied_Prob        4648\n",
       "Length: 94, dtype: int64"
      ]
     },
     "execution_count": 45,
     "metadata": {},
     "output_type": "execute_result"
    }
   ],
   "source": [
    "#check for nans and infs\n",
    "double_fights_df.isna().sum()"
   ]
  },
  {
   "cell_type": "code",
   "execution_count": 46,
   "metadata": {},
   "outputs": [],
   "source": [
    "# turn infs to nans\n",
    "double_fights_df = double_fights_df.replace([np.inf, -np.inf], np.nan)"
   ]
  },
  {
   "cell_type": "code",
   "execution_count": 47,
   "metadata": {},
   "outputs": [
    {
     "name": "stdout",
     "output_type": "stream",
     "text": [
      "error with: A_Total_Strikes\n"
     ]
    },
    {
     "data": {
      "text/html": [
       "<div>\n",
       "<style scoped>\n",
       "    .dataframe tbody tr th:only-of-type {\n",
       "        vertical-align: middle;\n",
       "    }\n",
       "\n",
       "    .dataframe tbody tr th {\n",
       "        vertical-align: top;\n",
       "    }\n",
       "\n",
       "    .dataframe thead th {\n",
       "        text-align: right;\n",
       "    }\n",
       "</style>\n",
       "<table border=\"1\" class=\"dataframe\">\n",
       "  <thead>\n",
       "    <tr style=\"text-align: right;\">\n",
       "      <th></th>\n",
       "      <th>Fighter_A</th>\n",
       "      <th>Fighter_B</th>\n",
       "      <th>details</th>\n",
       "      <th>event_title</th>\n",
       "      <th>event_url</th>\n",
       "      <th>date</th>\n",
       "      <th>Winner</th>\n",
       "      <th>fight_id</th>\n",
       "      <th>A_Kd</th>\n",
       "      <th>B_Kd</th>\n",
       "      <th>...</th>\n",
       "      <th>Dif_Leg_Strikes_percent</th>\n",
       "      <th>Dif_Distance_Strikes_land</th>\n",
       "      <th>Dif_Distance_Strikes_att</th>\n",
       "      <th>Dif_Distance_Strikes_percent</th>\n",
       "      <th>Dif_Clinch_Strikes_land</th>\n",
       "      <th>Dif_Clinch_Strikes_att</th>\n",
       "      <th>Dif_Clinch_Strikes_percent</th>\n",
       "      <th>Dif_Ground_Strikes_land</th>\n",
       "      <th>Dif_Ground_Strikes_att</th>\n",
       "      <th>Dif_Ground_Strikes_percent</th>\n",
       "    </tr>\n",
       "  </thead>\n",
       "  <tbody>\n",
       "    <tr>\n",
       "      <th>0</th>\n",
       "      <td>Rick Story</td>\n",
       "      <td>Martin Kampmann</td>\n",
       "      <td>Steve English                                 ...</td>\n",
       "      <td>UFC 139: Shogun vs Henderson</td>\n",
       "      <td>http://www.ufcstats.com/event-details/0ec82142...</td>\n",
       "      <td>2011-11-19</td>\n",
       "      <td>Martin Kampmann \"The Hitman\"</td>\n",
       "      <td>89820fae001dd151</td>\n",
       "      <td>0</td>\n",
       "      <td>0</td>\n",
       "      <td>...</td>\n",
       "      <td>0.000000</td>\n",
       "      <td>18</td>\n",
       "      <td>18</td>\n",
       "      <td>0.095791</td>\n",
       "      <td>9</td>\n",
       "      <td>9</td>\n",
       "      <td>0.247500</td>\n",
       "      <td>-4</td>\n",
       "      <td>-4</td>\n",
       "      <td>-1.000000</td>\n",
       "    </tr>\n",
       "    <tr>\n",
       "      <th>1</th>\n",
       "      <td>Enrique Barzola</td>\n",
       "      <td>Kyle Bochniak</td>\n",
       "      <td>Dave Hagen                                    ...</td>\n",
       "      <td>UFC on FOX: Maia vs. Condit</td>\n",
       "      <td>http://www.ufcstats.com/event-details/cfbccfed...</td>\n",
       "      <td>2016-08-27</td>\n",
       "      <td>Kyle Bochniak \"Killer B\"</td>\n",
       "      <td>df33799f117000cb</td>\n",
       "      <td>0</td>\n",
       "      <td>0</td>\n",
       "      <td>...</td>\n",
       "      <td>0.130435</td>\n",
       "      <td>9</td>\n",
       "      <td>19</td>\n",
       "      <td>0.023814</td>\n",
       "      <td>5</td>\n",
       "      <td>5</td>\n",
       "      <td>0.200000</td>\n",
       "      <td>0</td>\n",
       "      <td>0</td>\n",
       "      <td>0.000000</td>\n",
       "    </tr>\n",
       "    <tr>\n",
       "      <th>2</th>\n",
       "      <td>Belal Muhammad</td>\n",
       "      <td>Takashi Sato</td>\n",
       "      <td>Rear Naked Choke</td>\n",
       "      <td>UFC 242: Khabib vs. Poirier</td>\n",
       "      <td>http://www.ufcstats.com/event-details/a79bfbc0...</td>\n",
       "      <td>2019-09-07</td>\n",
       "      <td>Belal Muhammad \"Remember the Name\"</td>\n",
       "      <td>18aff757c54687f1</td>\n",
       "      <td>0</td>\n",
       "      <td>0</td>\n",
       "      <td>...</td>\n",
       "      <td>0.000000</td>\n",
       "      <td>13</td>\n",
       "      <td>9</td>\n",
       "      <td>0.102729</td>\n",
       "      <td>3</td>\n",
       "      <td>4</td>\n",
       "      <td>0.750000</td>\n",
       "      <td>4</td>\n",
       "      <td>4</td>\n",
       "      <td>1.000000</td>\n",
       "    </tr>\n",
       "    <tr>\n",
       "      <th>3</th>\n",
       "      <td>Alex Caceres</td>\n",
       "      <td>Edwin Figueroa</td>\n",
       "      <td>Two Points Deducted: Low Blows by Caceres     ...</td>\n",
       "      <td>UFC 143: Diaz vs Condit</td>\n",
       "      <td>http://www.ufcstats.com/event-details/df2cf66d...</td>\n",
       "      <td>2012-02-04</td>\n",
       "      <td>Edwin Figueroa \"El Feroz\"</td>\n",
       "      <td>d019250cc6d93527</td>\n",
       "      <td>0</td>\n",
       "      <td>1</td>\n",
       "      <td>...</td>\n",
       "      <td>0.111111</td>\n",
       "      <td>26</td>\n",
       "      <td>27</td>\n",
       "      <td>0.163489</td>\n",
       "      <td>-3</td>\n",
       "      <td>-3</td>\n",
       "      <td>0.000000</td>\n",
       "      <td>-9</td>\n",
       "      <td>-16</td>\n",
       "      <td>-0.055556</td>\n",
       "    </tr>\n",
       "    <tr>\n",
       "      <th>4</th>\n",
       "      <td>TJ Grant</td>\n",
       "      <td>Carlo Prater</td>\n",
       "      <td>Brian Costello                                ...</td>\n",
       "      <td>UFC on FUEL TV: Korean Zombie vs Poirier</td>\n",
       "      <td>http://www.ufcstats.com/event-details/8caca585...</td>\n",
       "      <td>2012-05-15</td>\n",
       "      <td>TJ Grant</td>\n",
       "      <td>4655930eb83446c7</td>\n",
       "      <td>0</td>\n",
       "      <td>0</td>\n",
       "      <td>...</td>\n",
       "      <td>0.083333</td>\n",
       "      <td>9</td>\n",
       "      <td>16</td>\n",
       "      <td>0.027157</td>\n",
       "      <td>22</td>\n",
       "      <td>25</td>\n",
       "      <td>0.190476</td>\n",
       "      <td>10</td>\n",
       "      <td>11</td>\n",
       "      <td>0.833333</td>\n",
       "    </tr>\n",
       "    <tr>\n",
       "      <th>...</th>\n",
       "      <td>...</td>\n",
       "      <td>...</td>\n",
       "      <td>...</td>\n",
       "      <td>...</td>\n",
       "      <td>...</td>\n",
       "      <td>...</td>\n",
       "      <td>...</td>\n",
       "      <td>...</td>\n",
       "      <td>...</td>\n",
       "      <td>...</td>\n",
       "      <td>...</td>\n",
       "      <td>...</td>\n",
       "      <td>...</td>\n",
       "      <td>...</td>\n",
       "      <td>...</td>\n",
       "      <td>...</td>\n",
       "      <td>...</td>\n",
       "      <td>...</td>\n",
       "      <td>...</td>\n",
       "      <td>...</td>\n",
       "      <td>...</td>\n",
       "    </tr>\n",
       "    <tr>\n",
       "      <th>15307</th>\n",
       "      <td>Chirico Zak</td>\n",
       "      <td>Alessio Di</td>\n",
       "      <td>Derek Cleary                                  ...</td>\n",
       "      <td>UFC Fight Night: Smith vs. Rakic</td>\n",
       "      <td>http://www.ufcstats.com/event-details/e29cf523...</td>\n",
       "      <td>2020-08-29</td>\n",
       "      <td>Zak Cummings</td>\n",
       "      <td>0a7517a16d2d9db6</td>\n",
       "      <td>1</td>\n",
       "      <td>0</td>\n",
       "      <td>...</td>\n",
       "      <td>0.000000</td>\n",
       "      <td>2</td>\n",
       "      <td>-18</td>\n",
       "      <td>0.057971</td>\n",
       "      <td>-1</td>\n",
       "      <td>0</td>\n",
       "      <td>-1.000000</td>\n",
       "      <td>0</td>\n",
       "      <td>0</td>\n",
       "      <td>0.000000</td>\n",
       "    </tr>\n",
       "    <tr>\n",
       "      <th>15308</th>\n",
       "      <td>Hector Aldana</td>\n",
       "      <td>Miguel Baeza</td>\n",
       "      <td>Kick to Leg At Distance</td>\n",
       "      <td>UFC Fight Night: Joanna vs. Waterson</td>\n",
       "      <td>http://www.ufcstats.com/event-details/0941df56...</td>\n",
       "      <td>2019-10-12</td>\n",
       "      <td>Miguel Baeza \"Caramel Thunder\"</td>\n",
       "      <td>1d26ceb1c995655e</td>\n",
       "      <td>0</td>\n",
       "      <td>1</td>\n",
       "      <td>...</td>\n",
       "      <td>-0.250000</td>\n",
       "      <td>-21</td>\n",
       "      <td>-9</td>\n",
       "      <td>-0.378151</td>\n",
       "      <td>0</td>\n",
       "      <td>0</td>\n",
       "      <td>0.000000</td>\n",
       "      <td>-6</td>\n",
       "      <td>-10</td>\n",
       "      <td>-0.600000</td>\n",
       "    </tr>\n",
       "    <tr>\n",
       "      <th>15309</th>\n",
       "      <td>Natalia Silva</td>\n",
       "      <td>Andrea Lee</td>\n",
       "      <td>David Ginsberg                                ...</td>\n",
       "      <td>UFC 292: Sterling vs. O'Malley</td>\n",
       "      <td>http://www.ufcstats.com/event-details/2719f300...</td>\n",
       "      <td>2023-08-19</td>\n",
       "      <td>Natalia Silva</td>\n",
       "      <td>8c7b5b21b3532027</td>\n",
       "      <td>0</td>\n",
       "      <td>0</td>\n",
       "      <td>...</td>\n",
       "      <td>0.235714</td>\n",
       "      <td>27</td>\n",
       "      <td>49</td>\n",
       "      <td>0.058299</td>\n",
       "      <td>0</td>\n",
       "      <td>0</td>\n",
       "      <td>0.000000</td>\n",
       "      <td>0</td>\n",
       "      <td>0</td>\n",
       "      <td>0.000000</td>\n",
       "    </tr>\n",
       "    <tr>\n",
       "      <th>15310</th>\n",
       "      <td>Chris Wilson</td>\n",
       "      <td>Jon Fitch</td>\n",
       "      <td>Cecil Peoples                                 ...</td>\n",
       "      <td>UFC 82: Pride of a Champion</td>\n",
       "      <td>http://www.ufcstats.com/event-details/598a58db...</td>\n",
       "      <td>2008-03-01</td>\n",
       "      <td>Jon Fitch</td>\n",
       "      <td>029cd254fe02d4b8</td>\n",
       "      <td>0</td>\n",
       "      <td>0</td>\n",
       "      <td>...</td>\n",
       "      <td>0.130952</td>\n",
       "      <td>-5</td>\n",
       "      <td>-6</td>\n",
       "      <td>-0.056364</td>\n",
       "      <td>5</td>\n",
       "      <td>4</td>\n",
       "      <td>0.500000</td>\n",
       "      <td>-18</td>\n",
       "      <td>-22</td>\n",
       "      <td>-0.818182</td>\n",
       "    </tr>\n",
       "    <tr>\n",
       "      <th>15311</th>\n",
       "      <td>Chase Gormley</td>\n",
       "      <td>Stefan Struve</td>\n",
       "      <td>Triangle Choke From Bottom Guard</td>\n",
       "      <td>UFC 104: Machida vs Shogun</td>\n",
       "      <td>http://ufcstats.com/event-details/7c0847d3854a...</td>\n",
       "      <td>2009-10-24</td>\n",
       "      <td>Stefan Struve \"Skyscraper\"</td>\n",
       "      <td>1298d89922befa8c</td>\n",
       "      <td>0</td>\n",
       "      <td>0</td>\n",
       "      <td>...</td>\n",
       "      <td>-1.000000</td>\n",
       "      <td>-4</td>\n",
       "      <td>0</td>\n",
       "      <td>-0.666667</td>\n",
       "      <td>2</td>\n",
       "      <td>2</td>\n",
       "      <td>1.000000</td>\n",
       "      <td>-2</td>\n",
       "      <td>5</td>\n",
       "      <td>-0.366667</td>\n",
       "    </tr>\n",
       "  </tbody>\n",
       "</table>\n",
       "<p>15312 rows × 129 columns</p>\n",
       "</div>"
      ],
      "text/plain": [
       "             Fighter_A        Fighter_B  \\\n",
       "0           Rick Story  Martin Kampmann   \n",
       "1      Enrique Barzola    Kyle Bochniak   \n",
       "2       Belal Muhammad     Takashi Sato   \n",
       "3         Alex Caceres   Edwin Figueroa   \n",
       "4             TJ Grant     Carlo Prater   \n",
       "...                ...              ...   \n",
       "15307      Chirico Zak       Alessio Di   \n",
       "15308    Hector Aldana     Miguel Baeza   \n",
       "15309    Natalia Silva       Andrea Lee   \n",
       "15310     Chris Wilson        Jon Fitch   \n",
       "15311    Chase Gormley    Stefan Struve   \n",
       "\n",
       "                                                 details  \\\n",
       "0      Steve English                                 ...   \n",
       "1      Dave Hagen                                    ...   \n",
       "2                                       Rear Naked Choke   \n",
       "3      Two Points Deducted: Low Blows by Caceres     ...   \n",
       "4      Brian Costello                                ...   \n",
       "...                                                  ...   \n",
       "15307  Derek Cleary                                  ...   \n",
       "15308                            Kick to Leg At Distance   \n",
       "15309  David Ginsberg                                ...   \n",
       "15310  Cecil Peoples                                 ...   \n",
       "15311                   Triangle Choke From Bottom Guard   \n",
       "\n",
       "                                    event_title  \\\n",
       "0                  UFC 139: Shogun vs Henderson   \n",
       "1                   UFC on FOX: Maia vs. Condit   \n",
       "2                   UFC 242: Khabib vs. Poirier   \n",
       "3                       UFC 143: Diaz vs Condit   \n",
       "4      UFC on FUEL TV: Korean Zombie vs Poirier   \n",
       "...                                         ...   \n",
       "15307          UFC Fight Night: Smith vs. Rakic   \n",
       "15308      UFC Fight Night: Joanna vs. Waterson   \n",
       "15309            UFC 292: Sterling vs. O'Malley   \n",
       "15310               UFC 82: Pride of a Champion   \n",
       "15311                UFC 104: Machida vs Shogun   \n",
       "\n",
       "                                               event_url        date  \\\n",
       "0      http://www.ufcstats.com/event-details/0ec82142...  2011-11-19   \n",
       "1      http://www.ufcstats.com/event-details/cfbccfed...  2016-08-27   \n",
       "2      http://www.ufcstats.com/event-details/a79bfbc0...  2019-09-07   \n",
       "3      http://www.ufcstats.com/event-details/df2cf66d...  2012-02-04   \n",
       "4      http://www.ufcstats.com/event-details/8caca585...  2012-05-15   \n",
       "...                                                  ...         ...   \n",
       "15307  http://www.ufcstats.com/event-details/e29cf523...  2020-08-29   \n",
       "15308  http://www.ufcstats.com/event-details/0941df56...  2019-10-12   \n",
       "15309  http://www.ufcstats.com/event-details/2719f300...  2023-08-19   \n",
       "15310  http://www.ufcstats.com/event-details/598a58db...  2008-03-01   \n",
       "15311  http://ufcstats.com/event-details/7c0847d3854a...  2009-10-24   \n",
       "\n",
       "                                   Winner          fight_id  A_Kd  B_Kd  ...  \\\n",
       "0            Martin Kampmann \"The Hitman\"  89820fae001dd151     0     0  ...   \n",
       "1                Kyle Bochniak \"Killer B\"  df33799f117000cb     0     0  ...   \n",
       "2      Belal Muhammad \"Remember the Name\"  18aff757c54687f1     0     0  ...   \n",
       "3               Edwin Figueroa \"El Feroz\"  d019250cc6d93527     0     1  ...   \n",
       "4                                TJ Grant  4655930eb83446c7     0     0  ...   \n",
       "...                                   ...               ...   ...   ...  ...   \n",
       "15307                        Zak Cummings  0a7517a16d2d9db6     1     0  ...   \n",
       "15308      Miguel Baeza \"Caramel Thunder\"  1d26ceb1c995655e     0     1  ...   \n",
       "15309                       Natalia Silva  8c7b5b21b3532027     0     0  ...   \n",
       "15310                           Jon Fitch  029cd254fe02d4b8     0     0  ...   \n",
       "15311          Stefan Struve \"Skyscraper\"  1298d89922befa8c     0     0  ...   \n",
       "\n",
       "       Dif_Leg_Strikes_percent  Dif_Distance_Strikes_land  \\\n",
       "0                     0.000000                         18   \n",
       "1                     0.130435                          9   \n",
       "2                     0.000000                         13   \n",
       "3                     0.111111                         26   \n",
       "4                     0.083333                          9   \n",
       "...                        ...                        ...   \n",
       "15307                 0.000000                          2   \n",
       "15308                -0.250000                        -21   \n",
       "15309                 0.235714                         27   \n",
       "15310                 0.130952                         -5   \n",
       "15311                -1.000000                         -4   \n",
       "\n",
       "       Dif_Distance_Strikes_att  Dif_Distance_Strikes_percent  \\\n",
       "0                            18                      0.095791   \n",
       "1                            19                      0.023814   \n",
       "2                             9                      0.102729   \n",
       "3                            27                      0.163489   \n",
       "4                            16                      0.027157   \n",
       "...                         ...                           ...   \n",
       "15307                       -18                      0.057971   \n",
       "15308                        -9                     -0.378151   \n",
       "15309                        49                      0.058299   \n",
       "15310                        -6                     -0.056364   \n",
       "15311                         0                     -0.666667   \n",
       "\n",
       "       Dif_Clinch_Strikes_land  Dif_Clinch_Strikes_att  \\\n",
       "0                            9                       9   \n",
       "1                            5                       5   \n",
       "2                            3                       4   \n",
       "3                           -3                      -3   \n",
       "4                           22                      25   \n",
       "...                        ...                     ...   \n",
       "15307                       -1                       0   \n",
       "15308                        0                       0   \n",
       "15309                        0                       0   \n",
       "15310                        5                       4   \n",
       "15311                        2                       2   \n",
       "\n",
       "      Dif_Clinch_Strikes_percent Dif_Ground_Strikes_land  \\\n",
       "0                       0.247500                      -4   \n",
       "1                       0.200000                       0   \n",
       "2                       0.750000                       4   \n",
       "3                       0.000000                      -9   \n",
       "4                       0.190476                      10   \n",
       "...                          ...                     ...   \n",
       "15307                  -1.000000                       0   \n",
       "15308                   0.000000                      -6   \n",
       "15309                   0.000000                       0   \n",
       "15310                   0.500000                     -18   \n",
       "15311                   1.000000                      -2   \n",
       "\n",
       "       Dif_Ground_Strikes_att  Dif_Ground_Strikes_percent  \n",
       "0                          -4                   -1.000000  \n",
       "1                           0                    0.000000  \n",
       "2                           4                    1.000000  \n",
       "3                         -16                   -0.055556  \n",
       "4                          11                    0.833333  \n",
       "...                       ...                         ...  \n",
       "15307                       0                    0.000000  \n",
       "15308                     -10                   -0.600000  \n",
       "15309                       0                    0.000000  \n",
       "15310                     -22                   -0.818182  \n",
       "15311                       5                   -0.366667  \n",
       "\n",
       "[15312 rows x 129 columns]"
      ]
     },
     "execution_count": 47,
     "metadata": {},
     "output_type": "execute_result"
    }
   ],
   "source": [
    "# calculate differences between in-match stats\n",
    "\n",
    "for col in double_fights_df.columns:\n",
    "    if col.startswith('A_'):\n",
    "        try:\n",
    "            new_col = col.replace('A_', 'Dif_')\n",
    "            double_fights_df[new_col] = double_fights_df[col] - double_fights_df[col.replace('A_', 'B_')]\n",
    "        except:\n",
    "            print('error with: ' + col)\n",
    "    else:\n",
    "        continue\n",
    "\n",
    "double_fights_df"
   ]
  },
  {
   "cell_type": "code",
   "execution_count": 48,
   "metadata": {},
   "outputs": [
    {
     "data": {
      "text/plain": [
       "Fighter                           4558\n",
       "Open                              4648\n",
       "Closing range                     4648\n",
       "Event                             4558\n",
       "Opponent                          4558\n",
       "Opp_Open                          4648\n",
       "Opp_Closing_Range                 4648\n",
       "Date_Aprox                        4580\n",
       "Open_Implied_Prob                 4648\n",
       "Closing_Range_Implied_Prob        4648\n",
       "Opp_Open_Implied_Prob             4648\n",
       "Opp_Closing_Range_Implied_Prob    4648\n",
       "Change_in_Implied_Prob            4648\n",
       "Opp_Change_in_Implied_Prob        4648\n",
       "dtype: int64"
      ]
     },
     "execution_count": 48,
     "metadata": {},
     "output_type": "execute_result"
    }
   ],
   "source": [
    "# check for infs\n",
    "double_fights_df.isna().sum()\n",
    "# only display columns with nans\n",
    "double_fights_df.isna().sum()[double_fights_df.isna().sum() > 0]"
   ]
  },
  {
   "cell_type": "code",
   "execution_count": 56,
   "metadata": {},
   "outputs": [],
   "source": [
    "# add difference in odds\n",
    "# double_fights_df['Dif_Odds'] = double_fights_df['Fighter_A_Odds'] - double_fights_df['Fighter_B_Odds']"
   ]
  },
  {
   "attachments": {},
   "cell_type": "markdown",
   "metadata": {},
   "source": [
    "#### Add Distribution Stat Features\n",
    "\n",
    "now fights = double_fights_df, for ease"
   ]
  },
  {
   "cell_type": "code",
   "execution_count": 57,
   "metadata": {},
   "outputs": [],
   "source": [
    "fights = double_fights_df"
   ]
  },
  {
   "cell_type": "code",
   "execution_count": 58,
   "metadata": {},
   "outputs": [],
   "source": [
    "def get_fighter_running_dist_stats(fighter, date, col_to_get, stat_to_calc):\n",
    "\n",
    "    # retrieve data for all fights involving the given fighter\n",
    "    data = fights[(fights['Fighter_A'] == fighter) | (fights['Fighter_B'] == fighter)]\n",
    "\n",
    "    # convert date strings to datetime objects\n",
    "    datey = pd.to_datetime(date)\n",
    "    data['date'] = pd.to_datetime(data['date'])\n",
    "\n",
    "    # filter data to only include fights before the given date\n",
    "    data = data[data['date'] < datey]\n",
    "\n",
    "    # create an empty dataframe to store fighter data\n",
    "    fighter_data = pd.DataFrame()\n",
    "\n",
    "    # retrieve data for fights where the given fighter is Fighter A\n",
    "    fighterA_df = fights[fights['Fighter_A'] == fighter]\n",
    "    # retrieve data for fights where the given fighter is Fighter B\n",
    "    fighterB_df = fights[fights['Fighter_B'] == fighter]\n",
    "\n",
    "    # select relevant columns from Fighter A data and rename columns for consistency\n",
    "    fighterA_df = fighterA_df[['date', 'Fighter_A', 'A_' + col_to_get]]\n",
    "    fighterA_df.rename(columns={'A_' + col_to_get: col_to_get, 'Fighter_A': 'fighter'}, inplace=True)\n",
    "\n",
    "    # select relevant columns from Fighter B data and rename columns for consistency\n",
    "    fighterB_df = fighterB_df[['date', 'Fighter_B', 'B_' + col_to_get]]\n",
    "    fighterB_df.rename(columns={'B_' + col_to_get: col_to_get, 'Fighter_B': 'fighter'}, inplace=True)\n",
    "\n",
    "    # append Fighter A and Fighter B data to the fighter_data dataframe\n",
    "    fighter_data = fighter_data.append(fighterA_df)\n",
    "    fighter_data = fighter_data.append(fighterB_df)\n",
    "\n",
    "    # get the chosen statistic based on the input parameter\n",
    "    if stat_to_calc == 'mean':\n",
    "        x = fighter_data[col_to_get].mean()\n",
    "    elif stat_to_calc == 'std':\n",
    "        x = fighter_data[col_to_get].std()\n",
    "    elif stat_to_calc == 'median':\n",
    "        x = fighter_data[col_to_get].median()  \n",
    "\n",
    "    # return the chosen statistic\n",
    "    return x"
   ]
  },
  {
   "attachments": {},
   "cell_type": "markdown",
   "metadata": {},
   "source": [
    "#### Get Non-specific column names for Feature Creation"
   ]
  },
  {
   "cell_type": "code",
   "execution_count": 59,
   "metadata": {},
   "outputs": [],
   "source": [
    "# This code creates three lists of column names from a dataframe called 'fights'\n",
    "# The first list contains column names with 'Dif_' in them\n",
    "# The second list contains column names that start with 'A_'\n",
    "# The third list combines the second and first list\n",
    "\n",
    "dif_cols = [n for n in fights.columns if 'Dif_' in n]\n",
    "A_cols = [n for n in fights.columns if n.startswith('A_')]\n",
    "all_metric_cols = A_cols + dif_cols\n",
    "\n",
    "# This code creates a new dataframe containing the second list of column names without the 'A_' prefix\n",
    "# It then creates a list of unique column name suffixes\n",
    "\n",
    "A_cols2 = pd.DataFrame(A_cols)\n",
    "A_cols2['nonspecific'] = A_cols2[0].str[2:]\n",
    "the_cols = list(A_cols2['nonspecific'].unique())"
   ]
  },
  {
   "cell_type": "code",
   "execution_count": 60,
   "metadata": {},
   "outputs": [
    {
     "data": {
      "text/plain": [
       "['Kd',\n",
       " 'Sig_strike_land',\n",
       " 'Sig_strike_att',\n",
       " 'Sig_strike_percent',\n",
       " 'Total_Strikes',\n",
       " 'Total_Strikes_land',\n",
       " 'Total_Strikes_att',\n",
       " 'Total_Strikes_percent',\n",
       " 'Takedowns_land',\n",
       " 'Takedowns_att',\n",
       " 'Takedown_percent',\n",
       " 'Sub_Attempts_land',\n",
       " 'Sub_Attempts_att',\n",
       " 'Sub_Success_Percent',\n",
       " 'Rev',\n",
       " 'Ctrl_time_min',\n",
       " 'Ctrl_time_sec',\n",
       " 'Ctrl_time_tot',\n",
       " 'Head_Strikes_land',\n",
       " 'Head_Strikes_att',\n",
       " 'Head_Strikes_percent',\n",
       " 'Body_Strikes_land',\n",
       " 'Body_Strikes_att',\n",
       " 'Body_Strikes_percent',\n",
       " 'Leg_Strikes_land',\n",
       " 'Leg_Strikes_att',\n",
       " 'Leg_Strikes_percent',\n",
       " 'Distance_Strikes_land',\n",
       " 'Distance_Strikes_att',\n",
       " 'Distance_Strikes_percent',\n",
       " 'Clinch_Strikes_land',\n",
       " 'Clinch_Strikes_att',\n",
       " 'Clinch_Strikes_percent',\n",
       " 'Ground_Strikes_land',\n",
       " 'Ground_Strikes_att',\n",
       " 'Ground_Strikes_percent']"
      ]
     },
     "execution_count": 60,
     "metadata": {},
     "output_type": "execute_result"
    }
   ],
   "source": [
    "the_cols"
   ]
  },
  {
   "cell_type": "code",
   "execution_count": 61,
   "metadata": {},
   "outputs": [
    {
     "data": {
      "text/plain": [
       "53.15384615384615"
      ]
     },
     "execution_count": 61,
     "metadata": {},
     "output_type": "execute_result"
    }
   ],
   "source": [
    "# test get_fighter_running_dist_stats\n",
    "get_fighter_running_dist_stats('Khabib Nurmagomedov', '2020-01-18', 'Sig_strike_land', 'mean')"
   ]
  },
  {
   "attachments": {},
   "cell_type": "markdown",
   "metadata": {},
   "source": [
    "These are split because they were causing problems when running all at once"
   ]
  },
  {
   "cell_type": "code",
   "execution_count": 63,
   "metadata": {},
   "outputs": [],
   "source": [
    "# Mean First\n",
    "\n",
    "for col in the_cols:\n",
    "        fights['A_Rolling_' + col + '_' + 'mean'] = fights.apply(lambda row: get_fighter_running_dist_stats(row['Fighter_A'], row['date'], col, 'mean'), axis=1)\n",
    "\n",
    "# save to csv\n",
    "fights.to_csv('data/final/aggregates/Double_Fights_DF_V2_1.csv', index=False)"
   ]
  },
  {
   "cell_type": "code",
   "execution_count": null,
   "metadata": {},
   "outputs": [],
   "source": [
    "for col in the_cols:\n",
    "    fights['B_Rolling_' + col + '_' + 'mean'] = fights.apply(lambda row: get_fighter_running_dist_stats(row['Fighter_B'], row['date'], col, 'mean'), axis=1)\n",
    "\n",
    "# save to csv\n",
    "fights.to_csv('data/final/aggregates/Double_Fights_DF_V2_2.csv', index=False)"
   ]
  },
  {
   "cell_type": "code",
   "execution_count": null,
   "metadata": {},
   "outputs": [],
   "source": [
    "# Now Std\n",
    "for col in the_cols:\n",
    "    fights['A_Rolling_' + col + '_' + 'std'] = fights.apply(lambda row: get_fighter_running_dist_stats(row['Fighter_A'], row['date'], col, 'std'), axis=1)\n",
    "\n",
    "# save to csv\n",
    "fights.to_csv('data/final/aggregates/Double_Fights_DF_V2_5.csv', index=False)\n"
   ]
  },
  {
   "cell_type": "code",
   "execution_count": null,
   "metadata": {},
   "outputs": [],
   "source": [
    "# fighter 2 Std\n",
    "for col in the_cols:\n",
    "    fights['B_Rolling_' + col + '_' + 'std'] = fights.apply(lambda row: get_fighter_running_dist_stats(row['Fighter_B'], row['date'], col, 'std'), axis=1)\n",
    "\n",
    "# save to csv\n",
    "fights.to_csv('data/final/aggregates/Double_Fights_DF_V2_6.csv', index=False)"
   ]
  },
  {
   "attachments": {},
   "cell_type": "markdown",
   "metadata": {},
   "source": [
    "New Version:"
   ]
  },
  {
   "cell_type": "code",
   "execution_count": null,
   "metadata": {},
   "outputs": [],
   "source": [
    "fights.to_csv('data/final/aggregates/Double_Fights_DF_V2.csv', index=False)"
   ]
  },
  {
   "cell_type": "code",
   "execution_count": null,
   "metadata": {},
   "outputs": [],
   "source": [
    "# Load point for fights df\n",
    "fights = pd.read_csv('data/final/aggregates/Double_Fights_DF_V2.csv')"
   ]
  },
  {
   "cell_type": "markdown",
   "metadata": {},
   "source": [
    "## PART 2 --"
   ]
  },
  {
   "cell_type": "markdown",
   "metadata": {},
   "source": [
    "This code is building a UFC (Ultimate Fighting Championship) fight dataset with multiple features including fighter statistics, fight metrics, and event information. The ultimate goal is to predict the winner of a fight. \n",
    "\n",
    "It broadly does the following:\n",
    "\n",
    "1. Defines utility functions to generate fighter statistics and aggregate features such as the averages of certain metrics, fighter's data, opponent's data, and statistics differential per fight.\n",
    "2. Iteratively applies these functions to each row (fight) influencing the DataFrame `fights`.\n",
    "3. Treats missing data values by imputing missing values or dropping rows where necessary.\n",
    "4. Extracts additional information about each fight like which round it ended, method of victory, or time to finish.\n",
    "5. Extracts specific fighter’s biographical data, like height, weight, reach, and age. For missing reach values, it uses median values per height or weight class. \n",
    "6. Infers whether the fight was conducted in their typical weight class. \n",
    "7. Computes and adds new other derived features, like 'Ape_Index' and 'Leg_Index' that might be helpful indicators or influence the fight outcome.\n",
    "8. Finally, it creates a 'win?' column to mark if the fighter_A has won the bout, which will be used as a label (target feature) for a machine learning model.\n",
    "\n",
    "The script makes use of pandas for its data manipulation, and seaborn for visualizing missing data. To reduce calculation time, it saves intermediate data to CSV files at several points and fetches them for later use if needed."
   ]
  },
  {
   "attachments": {},
   "cell_type": "markdown",
   "metadata": {},
   "source": [
    "### Feature: Top-Down Averages (typical UFC Style) [THIS WAS STUPID]"
   ]
  },
  {
   "cell_type": "code",
   "execution_count": null,
   "metadata": {},
   "outputs": [],
   "source": [
    "# def get_top_down_averages(fighter, date, col_to_get, dataframe):\n",
    "\n",
    "#     # for each column in all_metric_cols, calculate the top-down averages, as opposed to bottom-up\n",
    "#     data = dataframe[(dataframe['Fighter_A'] == fighter) | (dataframe['Fighter_B'] == fighter)]\n",
    "\n",
    "#     # only get fights before the date\n",
    "#     datey = pd.to_datetime(date)\n",
    "#     data['date'] = pd.to_datetime(data['date'])\n",
    "#     data = data[data['date'] < datey]\n",
    "\n",
    "#     # fighter could be either fighter A or fighter B\n",
    "#     fighter_data = pd.DataFrame()\n",
    "\n",
    "\n",
    "#     # fighterA df\n",
    "#     fighterA_df = dataframe[dataframe['Fighter_A'] == fighter]\n",
    "#     fighterB_df = dataframe[dataframe['Fighter_B'] == fighter]\n",
    "    \n",
    "#     # keep only the fighters columns date, FighterA, and the col_to_get, \n",
    "#     # do same for B, change col names from B to A, and concat\n",
    "#     fighterA_df = fighterA_df[['date', 'Fighter_A', 'A_' + col_to_get]]\n",
    "#     fighterA_df.rename(columns={'A_' + col_to_get: col_to_get, 'Fighter_A': 'fighter'}, inplace=True)\n",
    "#     fighterB_df = fighterB_df[['date', 'Fighter_B', 'B_' + col_to_get]]\n",
    "#     fighterB_df.rename(columns={'B_' + col_to_get: col_to_get, 'Fighter_B': 'fighter'}, inplace=True)\n",
    "#     fighter_data = fighter_data.append(fighterA_df)\n",
    "#     fighter_data = fighter_data.append(fighterB_df)\n",
    "\n",
    "#     # append the dataframes on fighter\n",
    "#     fighter_data = fighter_data.append(fighterA_df)\n",
    "#     fighter_data = fighter_data.append(fighterB_df)\n",
    "\n",
    "#     # get the average\n",
    "#     tot = fighter_data[col_to_get].sum()\n",
    "#     num = fighter_data[col_to_get].count()\n",
    "#     x = tot / num\n",
    "#     return x"
   ]
  },
  {
   "cell_type": "code",
   "execution_count": null,
   "metadata": {},
   "outputs": [],
   "source": [
    "# # delete rolling cols from the_cols\n",
    "# the_cols = [n for n in the_cols if 'Rolling' not in n]\n",
    "# the_cols"
   ]
  },
  {
   "cell_type": "code",
   "execution_count": null,
   "metadata": {},
   "outputs": [],
   "source": [
    "\n",
    "\n",
    "# for col in the_cols:\n",
    "#     fights['A_topdown_Avg_' + col ] = fights.apply(lambda row: get_top_down_averages(row['Fighter_A'], row['date'], col, fights), axis=1)"
   ]
  },
  {
   "cell_type": "code",
   "execution_count": null,
   "metadata": {},
   "outputs": [],
   "source": [
    "# for col in the_cols:\n",
    "#     fights['B_topdown_Avg_' + col ] = fights.apply(lambda row: get_top_down_averages(row['Fighter_B'], row['date'], col, fights), axis=1)"
   ]
  },
  {
   "cell_type": "code",
   "execution_count": null,
   "metadata": {},
   "outputs": [],
   "source": [
    "# fights.to_csv('data/final/aggregates/Double_Fights_DF_V3.csv')"
   ]
  },
  {
   "cell_type": "code",
   "execution_count": null,
   "metadata": {},
   "outputs": [],
   "source": [
    "# fights = pd.read_csv('data/final/aggregates/Double_Fights_DF_V3.csv')"
   ]
  },
  {
   "attachments": {},
   "cell_type": "markdown",
   "metadata": {},
   "source": [
    "### Add Opponent Stats"
   ]
  },
  {
   "cell_type": "code",
   "execution_count": null,
   "metadata": {},
   "outputs": [],
   "source": [
    "def get_opponent_averages(datafrm, date, col_to_get, fighter):\n",
    "    col_to_get = 'B_' + col_to_get\n",
    "    data = datafrm[(datafrm['Fighter_A'] == fighter) | (datafrm['Fighter_B'] == fighter)]\n",
    "    datey = pd.to_datetime(date)\n",
    "    data['date'] = pd.to_datetime(data['date'])\n",
    "    data = data[data['date'] < datey]\n",
    "\n",
    "    fighter_data = pd.DataFrame()\n",
    "\n",
    "    fighterA_df = datafrm[datafrm['Fighter_A'] == fighter]\n",
    "    fighterB_df = datafrm[datafrm['Fighter_B'] == fighter]\n",
    "\n",
    "    # switch A_ and B_ to B_ and A_ in fighterB_df\n",
    "    fighterB_df.columns = [n.replace('A_', 'C_') if n.startswith('A_') else n for n in fighterB_df.columns]\n",
    "    fighterB_df.columns = [n.replace('B_', 'D_') if n.startswith('B_') else n for n in fighterB_df.columns]\n",
    "    fighterB_df.columns = [n.replace('C_', 'B_') if n.startswith('C_') else n for n in fighterB_df.columns]\n",
    "    fighterB_df.columns = [n.replace('D_', 'A_') if n.startswith('D_') else n for n in fighterB_df.columns]\n",
    "\n",
    "    # copy fighter_A and fighter_B columns to new dataframe, then switch fighter_A and fighter_B columns\n",
    "\n",
    "    fighterB_df.rename(columns={'Fighter_A': 'Fighter_A2', 'Fighter_B': 'Fighter_B2'}, inplace=True)\n",
    "    fighterB_df.rename(columns={'Fighter_B2': 'Fighter_A', 'Fighter_A2': 'Fighter_B'}, inplace=True)\n",
    "\n",
    "    fighter_data = fighter_data.append(fighterA_df)\n",
    "    fighter_data = fighter_data.append(fighterB_df)\n",
    "\n",
    "    # get sum of col to get\n",
    "    col_sum = fighter_data[col_to_get].sum()\n",
    "    # get number of fights\n",
    "    num_fights = len(fighter_data)\n",
    "    # get average\n",
    "    avg = col_sum / num_fights\n",
    "\n",
    "    return avg\n"
   ]
  },
  {
   "cell_type": "code",
   "execution_count": null,
   "metadata": {},
   "outputs": [],
   "source": [
    "# test\n",
    "get_opponent_averages(fights, '2017-01-01', 'Sig_strike_land', 'Conor McGregor')"
   ]
  },
  {
   "cell_type": "code",
   "execution_count": null,
   "metadata": {},
   "outputs": [],
   "source": [
    "cols = [n for n in fights.columns if n.startswith('B_')]\n",
    "cols = [n for n in cols if 'topdown_' not in n]\n",
    "cols = [n for n in cols if 'Rolling_' not in n]\n",
    "cols = [n for n in cols if 'Dif_' not in n]"
   ]
  },
  {
   "cell_type": "code",
   "execution_count": null,
   "metadata": {},
   "outputs": [],
   "source": [
    "# delete the first 2 characters of each in col\n",
    "cols2 = pd.DataFrame(cols)\n",
    "cols2['nonspecific'] = cols2[0].str[2:]\n",
    "cols2\n",
    "\n",
    "# get unique values\n",
    "the_cols = list(cols2['nonspecific'].unique())\n",
    "\n",
    "# drop percent cols from the_cols\n",
    "the_cols = [n for n in the_cols if 'percent' not in n]\n",
    "the_cols = [n for n in the_cols if 'Percent' not in n]\n",
    "the_cols"
   ]
  },
  {
   "attachments": {},
   "cell_type": "markdown",
   "metadata": {},
   "source": [
    "Get Opponent Averages (2 min per feature)"
   ]
  },
  {
   "cell_type": "code",
   "execution_count": null,
   "metadata": {},
   "outputs": [],
   "source": [
    "n=0\n",
    "\n",
    "# loop through the remaining columns\n",
    "for col in the_cols:\n",
    "    try:\n",
    "        fights['A_Opp_Avg_' + col] = fights.apply(lambda row: get_opponent_averages(fights, row['date'], col, row['Fighter_A']), axis=1)\n",
    "        fights['B_Opp_Avg_' + col] = fights.apply(lambda row: get_opponent_averages(fights, row['date'], col, row['Fighter_B']), axis=1)\n",
    "        # save to csv\n",
    "        fights.to_csv('data/intermediate_data/Opponent_Averages_{}_.csv'.format(col))\n",
    "\n",
    "        n = n+1\n",
    "        print(f' {col}, #{n} / {len(the_cols)} done.')\n",
    "    except:\n",
    "        print(f'Error on {col}')\n",
    "        # play_danger()\n",
    "\n",
    "# play_jobs_done()"
   ]
  },
  {
   "cell_type": "code",
   "execution_count": null,
   "metadata": {},
   "outputs": [],
   "source": [
    "# load all data in data/intermediate_data, adding columns to fights\n",
    "for file in os.listdir('data/intermediate_data/'):\n",
    "    if file.startswith('Opponent_Averages_'):\n",
    "        print(file)\n",
    "        df = pd.read_csv('data/intermediate_data/' + file)\n",
    "        fights_cols = list(fights.columns)\n",
    "        df_cols = list(df.columns)\n",
    "        cols_to_add = [n for n in df_cols if n not in fights_cols]\n",
    "        for col in cols_to_add:\n",
    "            fights[col] = df[col]\n",
    "        \n",
    "fights"
   ]
  },
  {
   "cell_type": "code",
   "execution_count": null,
   "metadata": {},
   "outputs": [],
   "source": [
    "# Calculate the percent columns\n",
    "fights['A_Opp_Avg_Sig_Strike_Accuracy'] = fights['A_Opp_Avg_Sig_strike_land'] / fights['A_Opp_Avg_Sig_strike_att']\n",
    "fights['B_Opp_Avg_Sig_Strike_Accuracy'] = fights['B_Opp_Avg_Sig_strike_land'] / fights['B_Opp_Avg_Sig_strike_att']\n",
    "fights['A_Opp_Avg_Total_Strike_Accuracy'] = fights['A_Opp_Avg_Total_Strikes_land'] / fights['A_Opp_Avg_Total_Strikes_att']\n",
    "fights['B_Opp_Avg_Total_Strike_Accuracy'] = fights['B_Opp_Avg_Total_Strikes_land'] / fights['B_Opp_Avg_Total_Strikes_att']\n",
    "fights['A_Opp_Avg_Takedown_Accuracy'] = fights['A_Opp_Avg_Takedowns_land'] / fights['A_Opp_Avg_Takedowns_att']\n",
    "fights['B_Opp_Avg_Takedown_Accuracy'] = fights['B_Opp_Avg_Takedowns_land'] / fights['B_Opp_Avg_Takedowns_att']\n",
    "fights['A_Opp_Avg_Submission_Accuracy'] = fights['A_Opp_Avg_Sub_Attempts_land'] / fights['A_Opp_Avg_Sub_Attempts_att']\n",
    "fights['B_Opp_Avg_Submission_Accuracy'] = fights['B_Opp_Avg_Sub_Attempts_land'] / fights['B_Opp_Avg_Sub_Attempts_att']\n",
    "# head strike accuracy\n",
    "fights['A_Opp_Avg_Head_Strike_Accuracy'] = fights['A_Opp_Avg_Head_Strikes_land'] / fights['A_Opp_Avg_Head_Strikes_att']\n",
    "fights['B_Opp_Avg_Head_Strike_Accuracy'] = fights['B_Opp_Avg_Head_Strikes_land'] / fights['B_Opp_Avg_Head_Strikes_att']\n",
    "# body strike accuracy\n",
    "fights['A_Opp_Avg_Body_Strike_Accuracy'] = fights['A_Opp_Avg_Body_Strikes_land'] / fights['A_Opp_Avg_Body_Strikes_att']\n",
    "fights['B_Opp_Avg_Body_Strike_Accuracy'] = fights['B_Opp_Avg_Body_Strikes_land'] / fights['B_Opp_Avg_Body_Strikes_att']\n",
    "# leg strike accuracy\n",
    "fights['A_Opp_Avg_Leg_Strike_Accuracy'] = fights['A_Opp_Avg_Leg_Strikes_land'] / fights['A_Opp_Avg_Leg_Strikes_att']\n",
    "fights['B_Opp_Avg_Leg_Strike_Accuracy'] = fights['B_Opp_Avg_Leg_Strikes_land'] / fights['B_Opp_Avg_Leg_Strikes_att']\n",
    "# distance strike accuracy\n",
    "fights['A_Opp_Avg_Distance_Strike_Accuracy'] = fights['A_Opp_Avg_Distance_Strikes_land'] / fights['A_Opp_Avg_Distance_Strikes_att']\n",
    "fights['B_Opp_Avg_Distance_Strike_Accuracy'] = fights['B_Opp_Avg_Distance_Strikes_land'] / fights['B_Opp_Avg_Distance_Strikes_att']\n",
    "# clinch strike accuracy\n",
    "fights['A_Opp_Avg_Clinch_Strike_Accuracy'] = fights['A_Opp_Avg_Clinch_Strikes_land'] / fights['A_Opp_Avg_Clinch_Strikes_att']\n",
    "fights['B_Opp_Avg_Clinch_Strike_Accuracy'] = fights['B_Opp_Avg_Clinch_Strikes_land'] / fights['B_Opp_Avg_Clinch_Strikes_att']\n",
    "# ground strike accuracy\n",
    "fights['A_Opp_Avg_Ground_Strike_Accuracy'] = fights['A_Opp_Avg_Ground_Strikes_land'] / fights['A_Opp_Avg_Ground_Strikes_att']\n",
    "fights['B_Opp_Avg_Ground_Strike_Accuracy'] = fights['B_Opp_Avg_Ground_Strikes_land'] / fights['B_Opp_Avg_Ground_Strikes_att']\n",
    "\n",
    "\n"
   ]
  },
  {
   "cell_type": "code",
   "execution_count": null,
   "metadata": {},
   "outputs": [],
   "source": [
    "# save to csv\n",
    "fights.to_csv('data/final/aggregates/Double_Fights_DF_V4.csv')"
   ]
  },
  {
   "cell_type": "code",
   "execution_count": null,
   "metadata": {},
   "outputs": [],
   "source": [
    "fights = pd.read_csv('data/final/aggregates/Double_Fights_DF_V4.csv')"
   ]
  },
  {
   "cell_type": "code",
   "execution_count": null,
   "metadata": {},
   "outputs": [],
   "source": [
    "# check for nans and show them\n",
    "fights.isna().sum()"
   ]
  },
  {
   "cell_type": "code",
   "execution_count": null,
   "metadata": {},
   "outputs": [],
   "source": [
    "# check for infs and show them\n",
    "fights[fights == np.inf].sum()"
   ]
  },
  {
   "cell_type": "code",
   "execution_count": null,
   "metadata": {},
   "outputs": [],
   "source": [
    "# show all columns with infs\n",
    "[fights[col].isna().sum() for col in fights.columns if fights[col].isna().sum() > 0]"
   ]
  },
  {
   "cell_type": "code",
   "execution_count": null,
   "metadata": {},
   "outputs": [],
   "source": [
    "# check current columns\n",
    "fights.columns.to_list()"
   ]
  },
  {
   "attachments": {},
   "cell_type": "markdown",
   "metadata": {},
   "source": [
    "### Feature: Rolling Career Stat Differentials\n",
    "\n",
    "#### 1) Mean (Average)"
   ]
  },
  {
   "cell_type": "code",
   "execution_count": null,
   "metadata": {},
   "outputs": [],
   "source": [
    "# get columns with Rolling and Mean\n",
    "rolling_mean_cols= [n for n in fights.columns if 'Rolling' in n and 'mean' in n]\n",
    "rolling_mean_cols = pd.DataFrame(rolling_mean_cols)\n",
    "rolling_mean_cols['nonspecific'] = rolling_mean_cols[0].str[2:]\n",
    "rmc = rolling_mean_cols['nonspecific'].unique()"
   ]
  },
  {
   "cell_type": "code",
   "execution_count": null,
   "metadata": {},
   "outputs": [],
   "source": [
    "for col in rmc:\n",
    "    fights['Dif_' + col] = fights['A_' + col] - fights['B_' + col]\n",
    "\n",
    "fights.head()"
   ]
  },
  {
   "attachments": {},
   "cell_type": "markdown",
   "metadata": {},
   "source": [
    "#### 2) Median (Average) (No Longer In Use)"
   ]
  },
  {
   "cell_type": "code",
   "execution_count": null,
   "metadata": {},
   "outputs": [],
   "source": [
    "# rolling_median_cols= [n for n in fights.columns if 'Rolling' in n and 'median' in n]\n",
    "# rolling_median_cols = pd.DataFrame(rolling_median_cols)\n",
    "# rolling_median_cols['nonspecific'] = rolling_median_cols[0].str[2:]\n",
    "# rmc = rolling_median_cols['nonspecific'].unique()"
   ]
  },
  {
   "cell_type": "code",
   "execution_count": null,
   "metadata": {},
   "outputs": [],
   "source": [
    "# for col in rmc:\n",
    "#     fights['Dif_' + col] = fights['A_' + col] - fights['B_' + col]\n",
    "\n",
    "# fights.head()"
   ]
  },
  {
   "attachments": {},
   "cell_type": "markdown",
   "metadata": {},
   "source": [
    "#### 3) Standard Deviations "
   ]
  },
  {
   "cell_type": "code",
   "execution_count": null,
   "metadata": {},
   "outputs": [],
   "source": [
    "rolling_std_cols= [n for n in fights.columns if 'Rolling' in n and 'std' in n]\n",
    "rolling_std_cols = pd.DataFrame(rolling_std_cols)\n",
    "rolling_std_cols['nonspecific'] = rolling_std_cols[0].str[2:]\n",
    "rsc = rolling_std_cols['nonspecific'].unique()\n",
    "rsc"
   ]
  },
  {
   "cell_type": "code",
   "execution_count": null,
   "metadata": {},
   "outputs": [],
   "source": [
    "for col in rsc:\n",
    "    fights['Dif_' + col] = fights['A_' + col] - fights['B_' + col]\n",
    "\n",
    "fights.head()"
   ]
  },
  {
   "cell_type": "code",
   "execution_count": null,
   "metadata": {},
   "outputs": [],
   "source": [
    "# check for nans, show only if there are any\n",
    "fights.isna().sum()[fights.isna().sum() > 0]"
   ]
  },
  {
   "cell_type": "code",
   "execution_count": null,
   "metadata": {},
   "outputs": [],
   "source": [
    "# check for infs, show only if there are any\n",
    "fights[fights == np.inf].sum()[fights[fights == np.inf].sum() > 0]"
   ]
  },
  {
   "cell_type": "code",
   "execution_count": null,
   "metadata": {},
   "outputs": [],
   "source": [
    "# Save to csv\n",
    "fights.to_csv('data/final/aggregates/Double_Fights_DF_V5.csv')"
   ]
  },
  {
   "cell_type": "code",
   "execution_count": null,
   "metadata": {},
   "outputs": [],
   "source": [
    "#Identify columns with missing values\n",
    "nothere = fights.isna().sum()\n",
    "nothere = pd.DataFrame(nothere)\n",
    "nothere = nothere.loc[nothere[0] > 0]\n",
    "\n",
    "if len(nothere) > 0:\n",
    "    cols = nothere.index\n",
    "\n",
    "    f, ax = plt.subplots(figsize = (12,12))\n",
    "\n",
    "    sns.despine(f, left=True, bottom=True)\n",
    "    sns.histplot(\n",
    "        data = fights[cols].isna().melt(value_name='missing'),\n",
    "        y= 'variable',\n",
    "        hue = 'missing',\n",
    "        multiple = 'fill', ax = ax)\n",
    "\n",
    "    ax.set_title('Missing Data by Column', fontsize = 20)\n",
    "    ax.set_xlabel('Count', fontsize = 16)\n",
    "    ax.set_ylabel('Column', fontsize = 16)\n",
    "    ax.tick_params(labelsize = 14)\n",
    "\n",
    "    plt.show()\n",
    "\n",
    "else:\n",
    "    print('No missing values')"
   ]
  },
  {
   "attachments": {},
   "cell_type": "markdown",
   "metadata": {},
   "source": [
    "### Feature: UFC.Com Bio Data"
   ]
  },
  {
   "cell_type": "code",
   "execution_count": null,
   "metadata": {},
   "outputs": [],
   "source": [
    "fighter_bios = pd.read_csv('data/final/aggregates/All_Fighter_Bios.csv')\n",
    "fighter_bios.head(1)"
   ]
  },
  {
   "cell_type": "code",
   "execution_count": null,
   "metadata": {},
   "outputs": [],
   "source": [
    "# drop unnamed column\n",
    "fighter_bios.drop(columns=['Unnamed: 0', 'Unnamed: 0.1'], inplace=True)"
   ]
  },
  {
   "cell_type": "code",
   "execution_count": null,
   "metadata": {},
   "outputs": [],
   "source": [
    "# Check NaNs\n",
    "\n",
    "f, ax = plt.subplots(figsize = (12,12))\n",
    "\n",
    "sns.despine(f, left=True, bottom=True)\n",
    "sns.histplot(\n",
    "    data = fighter_bios.isna().melt(value_name='missing'),\n",
    "    y= 'variable',\n",
    "    hue = 'missing',\n",
    "    multiple = 'fill', ax = ax)\n",
    "\n",
    "ax.set_title('Missing Data by Column', fontsize = 20)\n",
    "ax.set_xlabel('Count', fontsize = 16)"
   ]
  },
  {
   "cell_type": "code",
   "execution_count": null,
   "metadata": {},
   "outputs": [],
   "source": [
    "# What about only Active fighter Nans?\n",
    "active = fighter_bios.loc[fighter_bios['Status'] == \"Active\"]\n",
    "active"
   ]
  },
  {
   "cell_type": "code",
   "execution_count": null,
   "metadata": {},
   "outputs": [],
   "source": [
    "# Check NaNs\n",
    "\n",
    "f, ax = plt.subplots(figsize = (12,12))\n",
    "\n",
    "sns.despine(f, left=True, bottom=True)\n",
    "sns.histplot(\n",
    "    data = active.isna().melt(value_name='missing'),\n",
    "    y= 'variable',\n",
    "    hue = 'missing',\n",
    "    multiple = 'fill', ax = ax)\n",
    "\n",
    "ax.set_title('Missing Data by Column', fontsize = 20)\n",
    "ax.set_xlabel('Count', fontsize = 16)"
   ]
  },
  {
   "attachments": {},
   "cell_type": "markdown",
   "metadata": {},
   "source": [
    "#### Dealing with Initial Missing Values\n",
    "\n",
    "Initial missing values are those such as Age, Status, Fighting Style (categorical variables) which I can impute unknown categories to without much issue. The others (height, weight, reach, etc) must be dealt with after the merge."
   ]
  },
  {
   "cell_type": "code",
   "execution_count": null,
   "metadata": {},
   "outputs": [],
   "source": [
    "# if missing place of birth, replace with 'Unknown'\n",
    "fighter_bios['Place of Birth'].fillna('Unknown', inplace=True)\n",
    "\n",
    "# if missing fighting style, replace with 'Unknown'\n",
    "fighter_bios['Fighting style'].fillna('Unknown', inplace=True)\n",
    "\n",
    "# if missing Trains at, replace with 'Unknown'\n",
    "fighter_bios['Trains at'].fillna('Unknown', inplace=True)\n",
    "\n",
    "# if missing status, replace with 'Unknown'\n",
    "fighter_bios['Status'].fillna('Unknown', inplace=True)\n",
    "\n",
    "# if missing age, replace with median\n",
    "fighter_bios['Age'].fillna(fighter_bios['Age'].median(), inplace=True)\n",
    "\n",
    "# if missing height, replace with median -- thankfully not many missing, as \n",
    "# this is a somewhat important feature\n",
    "fighter_bios['Height'].fillna(fighter_bios['Height'].median(), inplace=True)\n",
    "\n",
    "# if missing weight, replace with median -- thankfully not many missing\n",
    "fighter_bios['Weight'].fillna(fighter_bios['Weight'].median(), inplace=True)"
   ]
  },
  {
   "cell_type": "code",
   "execution_count": null,
   "metadata": {},
   "outputs": [],
   "source": [
    "def get_bio_data(fighter, stat):\n",
    "    try:\n",
    "        data = fighter_bios[fighter_bios['fighter'] == fighter]\n",
    "        d = data[stat].values[0]\n",
    "        d = pd.to_numeric(d)\n",
    "        return d\n",
    "    except:\n",
    "        return nan"
   ]
  },
  {
   "cell_type": "code",
   "execution_count": null,
   "metadata": {},
   "outputs": [],
   "source": [
    "# test\n",
    "weight = get_bio_data('Khabib Nurmagomedov', 'Height')\n",
    "weight"
   ]
  },
  {
   "cell_type": "code",
   "execution_count": null,
   "metadata": {},
   "outputs": [],
   "source": [
    "fights['A_Height'] = fights.apply(lambda row: get_bio_data(row['Fighter_A'], 'Height'), axis=1)\n",
    "fights['B_Height'] = fights.apply(lambda row: get_bio_data(row['Fighter_B'], 'Height'), axis=1)\n",
    "fights['Dif_Height'] = fights['A_Height'] - fights['B_Height']"
   ]
  },
  {
   "cell_type": "code",
   "execution_count": null,
   "metadata": {},
   "outputs": [],
   "source": [
    "fights['A_Reach'] = fights.apply(lambda row: get_bio_data(row['Fighter_A'], 'Reach'), axis=1)\n",
    "fights['B_Reach'] = fights.apply(lambda row: get_bio_data(row['Fighter_B'], 'Reach'), axis=1)\n",
    "fights['Dif_Reach'] = fights['A_Reach'] - fights['B_Reach']"
   ]
  },
  {
   "cell_type": "code",
   "execution_count": null,
   "metadata": {},
   "outputs": [],
   "source": [
    "fights['A_Leg_Reach'] = fights.apply(lambda row: get_bio_data(row['Fighter_A'], 'Leg reach'), axis=1)\n",
    "fights['B_Leg_Reach'] = fights.apply(lambda row: get_bio_data(row['Fighter_B'], 'Leg reach'), axis=1)\n",
    "fights['Dif_Leg_Reach'] = fights['A_Leg_Reach'] - fights['B_Leg_Reach']"
   ]
  },
  {
   "cell_type": "code",
   "execution_count": null,
   "metadata": {},
   "outputs": [],
   "source": [
    "#Identify columns with missing values\n",
    "nothere = fights.isna().sum()\n",
    "nothere = pd.DataFrame(nothere)\n",
    "nothere = nothere.loc[nothere[0] > 0]\n",
    "cols = nothere.index\n",
    "\n",
    "f, ax = plt.subplots(figsize = (12,12))\n",
    "\n",
    "sns.despine(f, left=True, bottom=True)\n",
    "sns.histplot(\n",
    "    data = fights[cols].isna().melt(value_name='missing'),\n",
    "    y= 'variable',\n",
    "    hue = 'missing',\n",
    "    multiple = 'fill', ax = ax)"
   ]
  },
  {
   "cell_type": "code",
   "execution_count": null,
   "metadata": {},
   "outputs": [],
   "source": [
    "# drop rows missing height data\n",
    "fights.dropna(subset=['A_Height', 'B_Height'], inplace=True)\n",
    "len(fights)"
   ]
  },
  {
   "cell_type": "code",
   "execution_count": null,
   "metadata": {},
   "outputs": [],
   "source": [
    "# New column indicating if we have the reach data for fighter A\n",
    "fights['A_Reach_NA'] = fights['A_Reach'].isna()\n",
    "\n",
    "# New column indicating if we have the reach data for fighter B\n",
    "fights['B_Reach_NA'] = fights['B_Reach'].isna()\n",
    "\n",
    "# New column indicating if we have the reach data for either fighter\n",
    "fights['Reach_NA'] = fights['A_Reach_NA'] | fights['B_Reach_NA']\n",
    "\n",
    "# New column indicating if we have leg reach data for fighter A\n",
    "fights['A_Leg_Reach_NA'] = fights['A_Leg_Reach'].isna()\n",
    "\n",
    "# New column indicating if we have leg reach data for fighter B\n",
    "fights['B_Leg_Reach_NA'] = fights['B_Leg_Reach'].isna()\n",
    "\n",
    "# New column indicating if we have leg reach data for either fighter\n",
    "fights['Leg_Reach_NA'] = fights['A_Leg_Reach_NA'] | fights['B_Leg_Reach_NA']"
   ]
  },
  {
   "attachments": {},
   "cell_type": "markdown",
   "metadata": {},
   "source": [
    "### Add Weightclass\n",
    "\n",
    "Then you can break down height, reach, etc... by weightclass, which is in the All_Events_Fights_and_FightUrls file"
   ]
  },
  {
   "cell_type": "code",
   "execution_count": null,
   "metadata": {},
   "outputs": [],
   "source": [
    "all_events = pd.read_csv('data/final/events/All_Events_Fights_and_FightUrls.csv')"
   ]
  },
  {
   "cell_type": "code",
   "execution_count": null,
   "metadata": {},
   "outputs": [],
   "source": [
    "def find_typical_weightclass(fighter):\n",
    "    try:\n",
    "        data = all_events[all_events['Fighter1'] == fighter]\n",
    "        data2 = all_events[all_events['Fighter2'] == fighter]\n",
    "        data = pd.concat([data, data2])\n",
    "        d = data['Weight class'].value_counts().index[0]\n",
    "        return d\n",
    "    except:\n",
    "        return nan\n"
   ]
  },
  {
   "cell_type": "code",
   "execution_count": null,
   "metadata": {},
   "outputs": [],
   "source": [
    "# test\n",
    "weight = find_typical_weightclass('Khabib Nurmagomedov')\n",
    "weight"
   ]
  },
  {
   "cell_type": "code",
   "execution_count": null,
   "metadata": {},
   "outputs": [],
   "source": [
    "fights['A_Typical_Weightclass'] = fights.apply(lambda row: find_typical_weightclass(row['Fighter_A']), axis=1)\n",
    "fights['B_Typical_Weightclass'] = fights.apply(lambda row: find_typical_weightclass(row['Fighter_B']), axis=1)"
   ]
  },
  {
   "cell_type": "code",
   "execution_count": null,
   "metadata": {},
   "outputs": [],
   "source": [
    "fights.head(3)"
   ]
  },
  {
   "cell_type": "code",
   "execution_count": null,
   "metadata": {},
   "outputs": [],
   "source": [
    "# save to csv\n",
    "fights.to_csv('data/final/aggregates/Double_Fights_DF_V6.csv', index=False)"
   ]
  },
  {
   "cell_type": "code",
   "execution_count": null,
   "metadata": {},
   "outputs": [],
   "source": [
    "# use fight_id to find weightclass of fight\n",
    "def find_weightclass(fight_id):\n",
    "    try:\n",
    "        fight_url = 'http://www.ufcstats.com/fight-details/' + str(fight_id)\n",
    "        data = all_events[all_events['fight_link'] == fight_url]\n",
    "        d = data['Weight class'].values[0]\n",
    "        return d\n",
    "    except:\n",
    "        return nan"
   ]
  },
  {
   "cell_type": "code",
   "execution_count": null,
   "metadata": {},
   "outputs": [],
   "source": [
    "# test\n",
    "weight = find_weightclass('ff6c8dab41efcc09')\n",
    "weight"
   ]
  },
  {
   "cell_type": "code",
   "execution_count": null,
   "metadata": {},
   "outputs": [],
   "source": [
    "fights['fight_weightclass'] = fights.apply(lambda row: find_weightclass(row['fight_id']), axis=1)"
   ]
  },
  {
   "cell_type": "code",
   "execution_count": null,
   "metadata": {},
   "outputs": [],
   "source": [
    "fights.head(3)"
   ]
  },
  {
   "cell_type": "code",
   "execution_count": null,
   "metadata": {},
   "outputs": [],
   "source": [
    "fights['A_Fight_in_Typical_Weightclass'] = fights.apply(lambda row: row['A_Typical_Weightclass'] == row['fight_weightclass'], axis=1)\n",
    "fights['B_Fight_in_Typical_Weightclass'] = fights.apply(lambda row: row['B_Typical_Weightclass'] == row['fight_weightclass'], axis=1)"
   ]
  },
  {
   "cell_type": "code",
   "execution_count": null,
   "metadata": {},
   "outputs": [],
   "source": [
    "fights.head(3)"
   ]
  },
  {
   "cell_type": "code",
   "execution_count": null,
   "metadata": {},
   "outputs": [],
   "source": [
    "fights.to_csv('data/final/aggregates/Double_Fights_DF_V7.csv', index=False)"
   ]
  },
  {
   "attachments": {},
   "cell_type": "markdown",
   "metadata": {},
   "source": [
    "### Feature: Method\n",
    "\n",
    "The main methods of fight finishing are:\n",
    "- Decision (DEC)\n",
    "- KO/TKO\n",
    "- Submission (SUB)\n"
   ]
  },
  {
   "cell_type": "code",
   "execution_count": null,
   "metadata": {},
   "outputs": [],
   "source": [
    "all_events.head(2)"
   ]
  },
  {
   "cell_type": "code",
   "execution_count": null,
   "metadata": {},
   "outputs": [],
   "source": [
    "# split Method into Method and Method Detail\n",
    "all_events['Method_Primary'] = all_events['Method'].str.split('  ', expand=True)[0]\n",
    "all_events['Method_Detail'] = all_events['Method'].str.split('  ', expand=True)[1]\n",
    "all_events.head(3)"
   ]
  },
  {
   "cell_type": "code",
   "execution_count": null,
   "metadata": {},
   "outputs": [],
   "source": [
    "def get_method(fight_id):\n",
    "    try:\n",
    "        fight_url = 'http://www.ufcstats.com/fight-details/' + str(fight_id)\n",
    "        data = all_events[all_events['fight_link'] == fight_url]\n",
    "        d = data['Method_Primary'].values[0]\n",
    "        return d\n",
    "    except:\n",
    "        return nan"
   ]
  },
  {
   "cell_type": "code",
   "execution_count": null,
   "metadata": {},
   "outputs": [],
   "source": [
    "def get_details(fight_id):\n",
    "    try:\n",
    "        fight_url = 'http://www.ufcstats.com/fight-details/' + str(fight_id)\n",
    "        data = all_events[all_events['fight_link'] == fight_url]\n",
    "        d = data['Method_Detail'].values[0]\n",
    "        return d\n",
    "    except:\n",
    "        return nan"
   ]
  },
  {
   "cell_type": "code",
   "execution_count": null,
   "metadata": {},
   "outputs": [],
   "source": [
    "# test\n",
    "method = get_method('ff6c8dab41efcc09')\n",
    "method"
   ]
  },
  {
   "cell_type": "code",
   "execution_count": null,
   "metadata": {},
   "outputs": [],
   "source": [
    "fights['InFightData__Method_Primary'] = fights.apply(lambda row: get_method(row['fight_id']), axis=1)\n",
    "fights['InFightData__Method_Detail'] = fights.apply(lambda row: get_details(row['fight_id']), axis=1)"
   ]
  },
  {
   "attachments": {},
   "cell_type": "markdown",
   "metadata": {},
   "source": [
    "### Feature: Round & Time"
   ]
  },
  {
   "cell_type": "code",
   "execution_count": null,
   "metadata": {},
   "outputs": [],
   "source": [
    "def get_round_time(fight_id, round_or_time):\n",
    "    try: \n",
    "        fight_url = 'http://www.ufcstats.com/fight-details/' + str(fight_id)\n",
    "        data = all_events[all_events['fight_link'] == fight_url]\n",
    "        if round_or_time == 'round':\n",
    "            d = data['Round'].values[0]\n",
    "        elif round_or_time == 'time':\n",
    "            d = data['Time'].values[0]\n",
    "        return d\n",
    "    except:\n",
    "        return nan"
   ]
  },
  {
   "cell_type": "code",
   "execution_count": null,
   "metadata": {},
   "outputs": [],
   "source": [
    "# test\n",
    "round = get_round_time('ff6c8dab41efcc09', 'round')\n",
    "round"
   ]
  },
  {
   "cell_type": "code",
   "execution_count": null,
   "metadata": {},
   "outputs": [],
   "source": [
    "fights['InFightData__Round'] = fights.apply(lambda row: get_round_time(row['fight_id'], 'round'), axis=1)\n",
    "fights['InFightData__Time'] = fights.apply(lambda row: get_round_time(row['fight_id'], 'time'), axis=1)"
   ]
  },
  {
   "cell_type": "code",
   "execution_count": null,
   "metadata": {},
   "outputs": [],
   "source": [
    "fights.head(3)"
   ]
  },
  {
   "cell_type": "code",
   "execution_count": null,
   "metadata": {},
   "outputs": [],
   "source": [
    "fights.to_csv('data/final/aggregates/Double_Fights_DF_V8.csv', index=False)"
   ]
  },
  {
   "attachments": {},
   "cell_type": "markdown",
   "metadata": {},
   "source": [
    "### Dealing with Remaining Missing Values"
   ]
  },
  {
   "cell_type": "code",
   "execution_count": null,
   "metadata": {},
   "outputs": [],
   "source": [
    "# get missing values, sorted by column\n",
    "missing_values = fights.isnull().sum().sort_values(ascending=False)\n",
    "# get rid of 0 values\n",
    "missing_values = missing_values[missing_values > 0]\n",
    "# get percentage of missing values\n",
    "missing_values = missing_values / len(fights) * 100\n",
    "missing_values"
   ]
  },
  {
   "cell_type": "code",
   "execution_count": null,
   "metadata": {},
   "outputs": [],
   "source": [
    "# replace nan values in \"InFightData__Method_Detail\" with \"None\"\n",
    "fights['InFightData__Method_Detail'] = fights['InFightData__Method_Detail'].fillna('None')"
   ]
  },
  {
   "cell_type": "code",
   "execution_count": null,
   "metadata": {},
   "outputs": [],
   "source": [
    "# replace nan values in Typical Weightclass with current weightclass\n",
    "fights['A_Typical_Weightclass'] = fights.apply(lambda row: row['fight_weightclass'] if pd.isnull(row['A_Typical_Weightclass']) else row['A_Typical_Weightclass'], axis=1)\n",
    "fights['B_Typical_Weightclass'] = fights.apply(lambda row: row['fight_weightclass'] if pd.isnull(row['B_Typical_Weightclass']) else row['B_Typical_Weightclass'], axis=1)"
   ]
  },
  {
   "cell_type": "code",
   "execution_count": null,
   "metadata": {},
   "outputs": [],
   "source": [
    "# get median reach per height\n",
    "reach_by_height = fights.groupby('A_Height')['A_Reach'].median()\n",
    "reach_by_height"
   ]
  },
  {
   "cell_type": "code",
   "execution_count": null,
   "metadata": {},
   "outputs": [],
   "source": [
    "# replace nan values in reach with median reach per height\n",
    "fights['A_Reach'] = fights.apply(lambda row: reach_by_height[row['A_Height']] if pd.isnull(row['A_Reach']) else row['A_Reach'], axis=1)\n",
    "fights['B_Reach'] = fights.apply(lambda row: reach_by_height[row['B_Height']] if pd.isnull(row['B_Reach']) else row['B_Reach'], axis=1)"
   ]
  },
  {
   "cell_type": "code",
   "execution_count": null,
   "metadata": {},
   "outputs": [],
   "source": [
    "# get median leg reach per height\n",
    "leg_reach_by_height = fights.groupby('A_Height')['A_Leg_Reach'].median()\n",
    "leg_reach_by_height"
   ]
  },
  {
   "cell_type": "code",
   "execution_count": null,
   "metadata": {},
   "outputs": [],
   "source": [
    "# replace nan values in leg reach with median leg reach per height\n",
    "fights['A_Leg_Reach'] = fights.apply(lambda row: leg_reach_by_height[row['A_Height']] if pd.isnull(row['A_Leg_Reach']) else row['A_Leg_Reach'], axis=1)\n",
    "fights['B_Leg_Reach'] = fights.apply(lambda row: leg_reach_by_height[row['B_Height']] if pd.isnull(row['B_Leg_Reach']) else row['B_Leg_Reach'], axis=1)"
   ]
  },
  {
   "cell_type": "code",
   "execution_count": null,
   "metadata": {},
   "outputs": [],
   "source": [
    "# recalculate leg reach dif and reach dif\n",
    "fights['A_Leg_Reach_Dif'] = fights['A_Leg_Reach'] - fights['B_Leg_Reach']\n",
    "fights['A_Reach_Dif'] = fights['A_Reach'] - fights['B_Reach']"
   ]
  },
  {
   "cell_type": "code",
   "execution_count": null,
   "metadata": {},
   "outputs": [],
   "source": [
    "fights.dtypes[-40:]"
   ]
  },
  {
   "cell_type": "code",
   "execution_count": null,
   "metadata": {},
   "outputs": [],
   "source": [
    "# get missing values, sorted by column\n",
    "missing_values = fights.isnull().sum().sort_values(ascending=False)\n",
    "# get rid of 0 values\n",
    "missing_values = missing_values[missing_values > 0]\n",
    "# get percentage of missing values\n",
    "missing_values = missing_values / len(fights) * 100\n",
    "missing_values"
   ]
  },
  {
   "cell_type": "code",
   "execution_count": null,
   "metadata": {},
   "outputs": [],
   "source": [
    "# get median reach per weightclass\n",
    "reach_by_weightclass = fights.groupby('fight_weightclass')['A_Reach'].median()\n",
    "reach_by_weightclass"
   ]
  },
  {
   "cell_type": "code",
   "execution_count": null,
   "metadata": {},
   "outputs": [],
   "source": [
    "# get median height per weightclass\n",
    "height_by_weightclass = fights.groupby('fight_weightclass')['A_Height'].median()\n",
    "height_by_weightclass"
   ]
  },
  {
   "cell_type": "code",
   "execution_count": null,
   "metadata": {},
   "outputs": [],
   "source": [
    "# replace nan values in \"A_Reach\" with median for weight class\n",
    "fights['A_Reach'] = fights.apply(lambda row: reach_by_weightclass[row['fight_weightclass']] if pd.isnull(row['A_Reach']) else row['A_Reach'], axis=1)\n",
    "fights['B_Reach'] = fights.apply(lambda row: reach_by_weightclass[row['fight_weightclass']] if pd.isnull(row['B_Reach']) else row['B_Reach'], axis=1)\n",
    "\n",
    "# replace nan values in \"A_Height\" with median for weight class\n",
    "fights['A_Height'] = fights.apply(lambda row: height_by_weightclass[row['fight_weightclass']] if pd.isnull(row['A_Height']) else row['A_Height'], axis=1)\n",
    "fights['B_Height'] = fights.apply(lambda row: height_by_weightclass[row['fight_weightclass']] if pd.isnull(row['B_Height']) else row['B_Height'], axis=1)\n"
   ]
  },
  {
   "cell_type": "code",
   "execution_count": null,
   "metadata": {},
   "outputs": [],
   "source": [
    "# Once again, re-run the Difs\n",
    "fights['Dif_Leg_Reach'] = fights['A_Leg_Reach'] - fights['B_Leg_Reach']\n",
    "fights['Dif_Reach'] = fights['A_Reach'] - fights['B_Reach']"
   ]
  },
  {
   "cell_type": "code",
   "execution_count": null,
   "metadata": {},
   "outputs": [],
   "source": [
    "# get missing\n",
    "missing_values = fights.isnull().sum().sort_values(ascending=False)\n",
    "missing_values = missing_values[missing_values > 0]\n",
    "missing_values = missing_values / len(fights) * 100\n",
    "missing_values"
   ]
  },
  {
   "cell_type": "code",
   "execution_count": null,
   "metadata": {},
   "outputs": [],
   "source": [
    "# drop nan values\n",
    "fights = fights.dropna()\n"
   ]
  },
  {
   "cell_type": "code",
   "execution_count": null,
   "metadata": {},
   "outputs": [],
   "source": [
    "# drop A_Reach_Dif and A_Leg_Reach_Dif\n",
    "fights = fights.drop(['A_Reach_Dif', 'A_Leg_Reach_Dif'], axis=1)"
   ]
  },
  {
   "attachments": {},
   "cell_type": "markdown",
   "metadata": {},
   "source": [
    "### Feature: Size Ratios"
   ]
  },
  {
   "cell_type": "code",
   "execution_count": null,
   "metadata": {},
   "outputs": [],
   "source": [
    "fights['A_Ape_Index'] = fights['A_Reach'] / fights['A_Height']\n",
    "fights['B_Ape_Index'] = fights['B_Reach'] / fights['B_Height']\n",
    "\n",
    "# Leg_Index = Leg_Reach / Height\n",
    "fights['A_Leg_Index'] = fights['A_Leg_Reach'] / fights['A_Height']\n",
    "fights['B_Leg_Index'] = fights['B_Leg_Reach'] / fights['B_Height']\n",
    "\n",
    "# Leg_to_Wing_Index = Leg_Reach / Reach\n",
    "fights['A_Leg_to_Wing_Index'] = fights['A_Leg_Reach'] / fights['A_Reach']\n",
    "fights['B_Leg_to_Wing_Index'] = fights['B_Leg_Reach'] / fights['B_Reach']"
   ]
  },
  {
   "cell_type": "code",
   "execution_count": null,
   "metadata": {},
   "outputs": [],
   "source": [
    "# save to csv\n",
    "fights.to_csv('data/final/aggregates/Double_Fights_DF_V9.csv', index=False)"
   ]
  },
  {
   "attachments": {},
   "cell_type": "markdown",
   "metadata": {},
   "source": [
    "### Feature: Winner"
   ]
  },
  {
   "cell_type": "code",
   "execution_count": null,
   "metadata": {},
   "outputs": [],
   "source": [
    "# split Winner columns by \" \n",
    "fights['Winner'] = fights['Winner'].str.split('\"').str[0].str.strip()\n",
    "fights.head(2)"
   ]
  },
  {
   "cell_type": "code",
   "execution_count": null,
   "metadata": {},
   "outputs": [],
   "source": [
    "# add column \"win?\", if column winner is equal to fighter_A\n",
    "fights['win?'] = fights.apply(lambda row: 1 if row['Winner'] == row['Fighter_A'] else 0, axis=1)\n",
    "fights.head(30)"
   ]
  },
  {
   "cell_type": "code",
   "execution_count": null,
   "metadata": {},
   "outputs": [],
   "source": [
    "# check number of wins vs losses\n",
    "fights['win?'].value_counts()"
   ]
  },
  {
   "cell_type": "code",
   "execution_count": null,
   "metadata": {},
   "outputs": [],
   "source": [
    "fights.to_csv('data/final/aggregates/Double_Fights_DF_V10.csv', index=False)"
   ]
  },
  {
   "cell_type": "markdown",
   "metadata": {},
   "source": [
    "## Part 3"
   ]
  },
  {
   "attachments": {},
   "cell_type": "markdown",
   "metadata": {},
   "source": [
    "### Feature: Favorite"
   ]
  },
  {
   "cell_type": "markdown",
   "metadata": {},
   "source": [
    "This code is for a Python script that processes a dataset of fights and calculates various statistics about them. The script performs the following steps:\n",
    "\n",
    "1. Extracts columns that contain odds and dates.\n",
    "2. Creates new variables that mark whether a fighter is favored or not based on odds and calculates the number of fights and wins a specific fighter has before a certain date.\n",
    "3. Defines functions to calculate the number of UFC fights, number of UFC wins, and number of UFC losses a specific fighter has before a certain date.\n",
    "4. Calculates winning percentages and the differences in statistics between two fighters.\n",
    "5. Extracts last 3 and 5 fights' win percentage for each fighter and calculates winning and losing percentages by knockout (KO) and decision.\n",
    "6. To analyze the round and time statistics, it converts the time to seconds and creates per-round averages for both fighters.\n",
    "7. Takes into account Training history of fighters and main fighting style.\n",
    "8. Finally, it saves the processed data to a csv file.\n",
    "\n",
    "Each fighter in each fight is designated as either Fighter_A or Fighter_B, and all calculated attributes are given to each fighter (e.g., 'A_Total_UFC_Fights', 'B_Total_UFC_Fights'). Increases and decreases are determined by these statistics ('Dif_Total_UFC_Fights'). \n",
    "\n",
    "It is also working with a dataset (CSV file) that seems to contain a variety of information about fighting matches, such as specific fighters involved, dates, and a wide range of stats. It applies different calculations for extract features from this data and save calculated results to new csv files. \n"
   ]
  },
  {
   "cell_type": "code",
   "execution_count": null,
   "metadata": {},
   "outputs": [],
   "source": [
    "# get columns in fight df with odds in the name\n",
    "odds_columns = [col for col in fights.columns if 'Odds' in col]\n",
    "odds_columns"
   ]
  },
  {
   "cell_type": "code",
   "execution_count": null,
   "metadata": {},
   "outputs": [],
   "source": [
    "fights['favorite?'] = np.where(fights['Fighter_A_Odds'] < fights['Fighter_B_Odds'], 1, 0)\n",
    "fights['favorite?'].value_counts()"
   ]
  },
  {
   "cell_type": "code",
   "execution_count": null,
   "metadata": {},
   "outputs": [],
   "source": [
    "fight_check_cols = ['Fighter_A', 'Fighter_B', 'Winner', 'win?', 'Fighter_A_Odds', 'Fighter_B_Odds','favorite?']\n",
    "fights[fight_check_cols].head(30)"
   ]
  },
  {
   "cell_type": "code",
   "execution_count": null,
   "metadata": {},
   "outputs": [],
   "source": [
    "# save to csv\n",
    "fights.to_csv('data/final/aggregates/Double_Fights_DF_V11.csv', index=False)"
   ]
  },
  {
   "cell_type": "code",
   "execution_count": null,
   "metadata": {},
   "outputs": [],
   "source": [
    "fights = pd.read_csv('data/final/aggregates/Double_Fights_DF_V11.csv')"
   ]
  },
  {
   "cell_type": "code",
   "execution_count": null,
   "metadata": {},
   "outputs": [],
   "source": [
    "fights.head()"
   ]
  },
  {
   "attachments": {},
   "cell_type": "markdown",
   "metadata": {},
   "source": [
    "### Features: Win/Loss Details"
   ]
  },
  {
   "cell_type": "code",
   "execution_count": null,
   "metadata": {},
   "outputs": [],
   "source": [
    "# get columns with date in the name\n",
    "date_columns = [col for col in fights.columns if 'date' in col]\n",
    "date_columns"
   ]
  },
  {
   "cell_type": "code",
   "execution_count": null,
   "metadata": {},
   "outputs": [],
   "source": [
    "# add a formatted date column\n",
    "fights['datetime'] = pd.to_datetime(fights['date'])\n",
    "fights['date_formatted'] = fights['datetime'].dt.date"
   ]
  },
  {
   "cell_type": "code",
   "execution_count": null,
   "metadata": {},
   "outputs": [],
   "source": [
    "fights"
   ]
  },
  {
   "cell_type": "code",
   "execution_count": null,
   "metadata": {},
   "outputs": [],
   "source": [
    "def get_number_UFC_fights(fighter, date):\n",
    "    data = fights[fights['Fighter_A'] == fighter]\n",
    "    data = data[data['datetime'] < date]\n",
    "    return len(data)\n"
   ]
  },
  {
   "cell_type": "code",
   "execution_count": null,
   "metadata": {},
   "outputs": [],
   "source": [
    "get_number_UFC_fights('Conor McGregor', '2020-01-01')"
   ]
  },
  {
   "cell_type": "code",
   "execution_count": null,
   "metadata": {},
   "outputs": [],
   "source": [
    "fights['A_Total_UFC_Fights'] = fights.apply(lambda row: get_number_UFC_fights(row['Fighter_A'], row['datetime']), axis=1)\n",
    "fights['B_Total_UFC_Fights'] = fights.apply(lambda row: get_number_UFC_fights(row['Fighter_B'], row['datetime']), axis=1)\n",
    "\n",
    "# add diff\n",
    "fights['Dif_Total_UFC_Fights'] = fights['A_Total_UFC_Fights'] - fights['B_Total_UFC_Fights']"
   ]
  },
  {
   "cell_type": "code",
   "execution_count": null,
   "metadata": {},
   "outputs": [],
   "source": [
    "fights.head(3)"
   ]
  },
  {
   "attachments": {},
   "cell_type": "markdown",
   "metadata": {},
   "source": [
    "#### Wins"
   ]
  },
  {
   "cell_type": "code",
   "execution_count": null,
   "metadata": {},
   "outputs": [],
   "source": [
    "# add number of wins\n",
    "def get_number_UFC_wins(fighter, date):\n",
    "    data = fights[fights['Fighter_A'] == fighter]\n",
    "    data = data[data['datetime'] < date]\n",
    "    return data['win?'].sum()"
   ]
  },
  {
   "cell_type": "code",
   "execution_count": null,
   "metadata": {},
   "outputs": [],
   "source": [
    "fights['A_UFC_Wins'] = fights.apply(lambda row: get_number_UFC_wins(row['Fighter_A'], row['datetime']), axis=1)\n",
    "fights['B_UFC_Wins'] = fights.apply(lambda row: get_number_UFC_wins(row['Fighter_B'], row['datetime']), axis=1)\n",
    "\n",
    "# add diff\n",
    "fights['Dif_UFC_Wins'] = fights['A_UFC_Wins'] - fights['B_UFC_Wins']"
   ]
  },
  {
   "attachments": {},
   "cell_type": "markdown",
   "metadata": {},
   "source": [
    "#### Losses"
   ]
  },
  {
   "cell_type": "code",
   "execution_count": null,
   "metadata": {},
   "outputs": [],
   "source": [
    "def get_number_UFC_losses(fighter, date):\n",
    "    data = fights[fights['Fighter_A'] == fighter]\n",
    "    data = data[data['datetime'] < date]\n",
    "    return len(data) - data['win?'].sum()"
   ]
  },
  {
   "cell_type": "code",
   "execution_count": null,
   "metadata": {},
   "outputs": [],
   "source": [
    "fights['A_UFC_Losses'] = fights.apply(lambda row: get_number_UFC_losses(row['Fighter_A'], row['datetime']), axis=1)\n",
    "fights['B_UFC_Losses'] = fights.apply(lambda row: get_number_UFC_losses(row['Fighter_B'], row['datetime']), axis=1)\n",
    "\n",
    "\n",
    "# add diff\n",
    "fights['Dif_UFC_Losses'] = fights['A_UFC_Losses'] - fights['B_UFC_Losses']"
   ]
  },
  {
   "attachments": {},
   "cell_type": "markdown",
   "metadata": {},
   "source": [
    "#### W/L Percentages"
   ]
  },
  {
   "cell_type": "code",
   "execution_count": null,
   "metadata": {},
   "outputs": [],
   "source": [
    "fights['A_UFC_Win_Percentage'] = fights['A_UFC_Wins'] / fights['A_Total_UFC_Fights']\n",
    "fights['B_UFC_Win_Percentage'] = fights['B_UFC_Wins'] / fights['B_Total_UFC_Fights']\n",
    "\n",
    "# nans to 0\n",
    "fights['A_UFC_Win_Percentage'] = fights['A_UFC_Win_Percentage'].fillna(0)\n",
    "fights['B_UFC_Win_Percentage'] = fights['B_UFC_Win_Percentage'].fillna(0)\n",
    "\n",
    "\n",
    "# add diff\n",
    "fights['Dif_UFC_Win_Percentage'] = fights['A_UFC_Win_Percentage'] - fights['B_UFC_Win_Percentage']"
   ]
  },
  {
   "attachments": {},
   "cell_type": "markdown",
   "metadata": {},
   "source": [
    "### Last 5\n",
    "\n",
    "#### Last 5 Win Percentage"
   ]
  },
  {
   "cell_type": "code",
   "execution_count": null,
   "metadata": {},
   "outputs": [],
   "source": [
    "def get_last5_win_percentage(fighter, date):\n",
    "    data = fights[fights['Fighter_A'] == fighter]\n",
    "    data = data[data['datetime'] < date]\n",
    "    data = data.sort_values(by='datetime', ascending=False)\n",
    "    data = data.head(5)\n",
    "    return data['win?'].sum() / len(data)"
   ]
  },
  {
   "cell_type": "code",
   "execution_count": null,
   "metadata": {},
   "outputs": [],
   "source": [
    "fights['A_Last5_Win_Percentage'] = fights.apply(lambda row: get_last5_win_percentage(row['Fighter_A'], row['datetime']), axis=1)\n",
    "fights['B_Last5_Win_Percentage'] = fights.apply(lambda row: get_last5_win_percentage(row['Fighter_B'], row['datetime']), axis=1)\n",
    "\n",
    "# nans to 0\n",
    "fights['A_Last5_Win_Percentage'] = fights['A_Last5_Win_Percentage'].fillna(0)\n",
    "fights['B_Last5_Win_Percentage'] = fights['B_Last5_Win_Percentage'].fillna(0)\n",
    "\n",
    "# add diff\n",
    "fights['Dif_Last5_Win_Percentage'] = fights['A_Last5_Win_Percentage'] - fights['B_Last5_Win_Percentage']"
   ]
  },
  {
   "attachments": {},
   "cell_type": "markdown",
   "metadata": {},
   "source": [
    "#### Last 3 Win Percentage"
   ]
  },
  {
   "cell_type": "code",
   "execution_count": null,
   "metadata": {},
   "outputs": [],
   "source": [
    "def get_last3_win_percentage(fighter, date):\n",
    "    data = fights[fights['Fighter_A'] == fighter]\n",
    "    data = data[data['datetime'] < date]\n",
    "    data = data.sort_values(by='datetime', ascending=False)\n",
    "    data = data.head(3)\n",
    "    return data['win?'].sum() / len(data)"
   ]
  },
  {
   "cell_type": "code",
   "execution_count": null,
   "metadata": {},
   "outputs": [],
   "source": [
    "fights['A_Last3_Win_Percentage'] = fights.apply(lambda row: get_last3_win_percentage(row['Fighter_A'], row['datetime']), axis=1)\n",
    "fights['B_Last3_Win_Percentage'] = fights.apply(lambda row: get_last3_win_percentage(row['Fighter_B'], row['datetime']), axis=1)\n",
    "\n",
    "# nans to 0\n",
    "fights['A_Last3_Win_Percentage'] = fights['A_Last3_Win_Percentage'].fillna(0)\n",
    "fights['B_Last3_Win_Percentage'] = fights['B_Last3_Win_Percentage'].fillna(0)\n",
    "\n",
    "# add diff\n",
    "fights['Dif_Last3_Win_Percentage'] = fights['A_Last3_Win_Percentage'] - fights['B_Last3_Win_Percentage']"
   ]
  },
  {
   "attachments": {},
   "cell_type": "markdown",
   "metadata": {},
   "source": [
    "### Win_by / Loss_by Features"
   ]
  },
  {
   "cell_type": "code",
   "execution_count": null,
   "metadata": {},
   "outputs": [],
   "source": [
    "\n",
    "fights['InFightData__Method_Primary'].value_counts()"
   ]
  },
  {
   "cell_type": "code",
   "execution_count": null,
   "metadata": {},
   "outputs": [],
   "source": [
    "def get_general_method(fight_method):\n",
    "    if 'DEC' in fight_method:\n",
    "        return 'DEC'\n",
    "    elif 'SUB' in fight_method:\n",
    "        return 'SUB'\n",
    "    elif 'KO' in fight_method:\n",
    "        return 'KO'\n",
    "    else:\n",
    "        return 'OTHER'"
   ]
  },
  {
   "cell_type": "code",
   "execution_count": null,
   "metadata": {},
   "outputs": [],
   "source": [
    "# make general method column\n",
    "fights['InFightData__General_Method'] = fights['InFightData__Method_Primary'].apply(lambda x: get_general_method(x))"
   ]
  },
  {
   "cell_type": "code",
   "execution_count": null,
   "metadata": {},
   "outputs": [],
   "source": [
    "fights.head(2)"
   ]
  },
  {
   "cell_type": "code",
   "execution_count": null,
   "metadata": {},
   "outputs": [],
   "source": [
    "def get_win_by_ko_percent(fighter, date):\n",
    "    data = fights[fights['Fighter_A'] == fighter]\n",
    "    data = data[data['datetime'] < date]\n",
    "    wins = data[data['win?'] == 1]\n",
    "    wins = wins[wins['InFightData__General_Method'] == 'KO']\n",
    "    return data['win?'].sum() / len(data)\n",
    "\n",
    "def get_loss_by_ko_percent(fighter, date):\n",
    "    data = fights[fights['Fighter_A'] == fighter]\n",
    "    data = data[data['datetime'] < date]\n",
    "    losses = data[data['win?'] == 0]\n",
    "    losses = losses[losses['InFightData__General_Method'] == 'KO']\n",
    "    return data['win?'].sum() / len(data)"
   ]
  },
  {
   "cell_type": "code",
   "execution_count": null,
   "metadata": {},
   "outputs": [],
   "source": [
    "fights['A_Win_By_KO_Percentage'] = fights.apply(lambda row: get_win_by_ko_percent(row['Fighter_A'], row['datetime']), axis=1)\n",
    "fights['B_Win_By_KO_Percentage'] = fights.apply(lambda row: get_win_by_ko_percent(row['Fighter_B'], row['datetime']), axis=1)\n",
    "\n",
    "# make nans 0\n",
    "fights['A_Win_By_KO_Percentage'] = fights['A_Win_By_KO_Percentage'].fillna(0)\n",
    "fights['B_Win_By_KO_Percentage'] = fights['B_Win_By_KO_Percentage'].fillna(0)\n",
    "\n",
    "# add diff\n",
    "fights['Dif_Win_By_KO_Percentage'] = fights['A_Win_By_KO_Percentage'] - fights['B_Win_By_KO_Percentage']"
   ]
  },
  {
   "cell_type": "code",
   "execution_count": null,
   "metadata": {},
   "outputs": [],
   "source": [
    "fights['A_Loss_By_KO_Percentage'] = fights.apply(lambda row: get_loss_by_ko_percent(row['Fighter_A'], row['datetime']), axis=1)\n",
    "fights['B_Loss_By_KO_Percentage'] = fights.apply(lambda row: get_loss_by_ko_percent(row['Fighter_B'], row['datetime']), axis=1)\n",
    "\n",
    "# nans to 0\n",
    "fights['A_Loss_By_KO_Percentage'] = fights['A_Loss_By_KO_Percentage'].fillna(0)\n",
    "fights['B_Loss_By_KO_Percentage'] = fights['B_Loss_By_KO_Percentage'].fillna(0)\n",
    "\n",
    "# add diff\n",
    "fights['Dif_Loss_By_KO_Percentage'] = fights['A_Loss_By_KO_Percentage'] - fights['B_Loss_By_KO_Percentage']"
   ]
  },
  {
   "attachments": {},
   "cell_type": "markdown",
   "metadata": {},
   "source": [
    "#### Win/Loss by DEC"
   ]
  },
  {
   "cell_type": "code",
   "execution_count": null,
   "metadata": {},
   "outputs": [],
   "source": [
    "def get_win_by_decision_percent(fighter, date):\n",
    "    data = fights[fights['Fighter_A'] == fighter]\n",
    "    data = data[data['datetime'] < date]\n",
    "    wins = data[data['win?'] == 1]\n",
    "    wins = wins[wins['InFightData__General_Method'] == 'DEC']\n",
    "    return data['win?'].sum() / len(data)\n",
    "\n",
    "def get_loss_by_decision_percent(fighter, date):\n",
    "    data = fights[fights['Fighter_A'] == fighter]\n",
    "    data = data[data['datetime'] < date]\n",
    "    losses = data[data['win?'] == 0]\n",
    "    losses = losses[losses['InFightData__General_Method'] == 'DEC']\n",
    "    return data['win?'].sum() / len(data)"
   ]
  },
  {
   "cell_type": "code",
   "execution_count": null,
   "metadata": {},
   "outputs": [],
   "source": [
    "fights['A_Win_By_Decision_Percentage'] = fights.apply(lambda row: get_win_by_decision_percent(row['Fighter_A'], row['datetime']), axis=1)\n",
    "fights['B_Win_By_Decision_Percentage'] = fights.apply(lambda row: get_win_by_decision_percent(row['Fighter_B'], row['datetime']), axis=1)\n",
    "\n",
    "# make nans 0\n",
    "fights['A_Win_By_Decision_Percentage'] = fights['A_Win_By_Decision_Percentage'].fillna(0)\n",
    "fights['B_Win_By_Decision_Percentage'] = fights['B_Win_By_Decision_Percentage'].fillna(0)\n",
    "\n",
    "# add diff\n",
    "fights['Dif_Win_By_Decision_Percentage'] = fights['A_Win_By_Decision_Percentage'] - fights['B_Win_By_Decision_Percentage']"
   ]
  },
  {
   "cell_type": "code",
   "execution_count": null,
   "metadata": {},
   "outputs": [],
   "source": [
    "fights['A_Loss_By_Decision_Percentage'] = fights.apply(lambda row: get_loss_by_decision_percent(row['Fighter_A'], row['datetime']), axis=1)\n",
    "fights['B_Loss_By_Decision_Percentage'] = fights.apply(lambda row: get_loss_by_decision_percent(row['Fighter_B'], row['datetime']), axis=1)\n",
    "\n",
    "# nans to 0\n",
    "fights['A_Loss_By_Decision_Percentage'] = fights['A_Loss_By_Decision_Percentage'].fillna(0)\n",
    "fights['B_Loss_By_Decision_Percentage'] = fights['B_Loss_By_Decision_Percentage'].fillna(0)\n",
    "\n",
    "# add diff\n",
    "fights['Dif_Loss_By_Decision_Percentage'] = fights['A_Loss_By_Decision_Percentage'] - fights['B_Loss_By_Decision_Percentage']"
   ]
  },
  {
   "cell_type": "code",
   "execution_count": null,
   "metadata": {},
   "outputs": [],
   "source": [
    "# save to csv\n",
    "fights.to_csv('data/final/aggregates/Double_Fights_DF_V12.csv', index=False)"
   ]
  },
  {
   "attachments": {},
   "cell_type": "markdown",
   "metadata": {},
   "source": [
    "### Round & Time Statistics"
   ]
  },
  {
   "cell_type": "code",
   "execution_count": null,
   "metadata": {},
   "outputs": [],
   "source": [
    "# find round columns\n",
    "round_cols = [col for col in fights.columns if 'Round' in col]\n",
    "round_cols"
   ]
  },
  {
   "cell_type": "code",
   "execution_count": null,
   "metadata": {},
   "outputs": [],
   "source": [
    "time_cols = [col for col in fights.columns if 'Time' in col]\n",
    "time_cols"
   ]
  },
  {
   "cell_type": "code",
   "execution_count": null,
   "metadata": {},
   "outputs": [],
   "source": [
    "fights.InFightData__Round.dtypes"
   ]
  },
  {
   "cell_type": "code",
   "execution_count": null,
   "metadata": {},
   "outputs": [],
   "source": [
    "fights.InFightData__Time"
   ]
  },
  {
   "cell_type": "code",
   "execution_count": null,
   "metadata": {},
   "outputs": [],
   "source": [
    "# convert time to seconds\n",
    "fights['final_round_seconds'] = fights.InFightData__Time.apply(lambda x: int(x.split(':')[0]) * 60 + int(x.split(':')[1]))"
   ]
  },
  {
   "cell_type": "code",
   "execution_count": null,
   "metadata": {},
   "outputs": [],
   "source": [
    "fights['InFightData__Total_Fight_Time_Seconds'] = (fights['InFightData__Round'] - 1) * 5 * 60 + fights['final_round_seconds']"
   ]
  },
  {
   "attachments": {},
   "cell_type": "markdown",
   "metadata": {},
   "source": [
    "#### Career Fight Time"
   ]
  },
  {
   "cell_type": "code",
   "execution_count": null,
   "metadata": {},
   "outputs": [],
   "source": [
    "def get_career_fight_time_seconds(fighter, date):\n",
    "    data = fights[fights['Fighter_A'] == fighter]\n",
    "    data = data[data['datetime'] < date]\n",
    "    return data['InFightData__Total_Fight_Time_Seconds'].sum()"
   ]
  },
  {
   "cell_type": "code",
   "execution_count": null,
   "metadata": {},
   "outputs": [],
   "source": [
    "fights['A_UFC_Fight_Time_Seconds'] = fights.apply(lambda row: get_career_fight_time_seconds(row['Fighter_A'], row['datetime']), axis=1)\n",
    "fights['B_UFC_Fight_Time_Seconds'] = fights.apply(lambda row: get_career_fight_time_seconds(row['Fighter_B'], row['datetime']), axis=1)\n",
    "\n",
    "\n",
    "# add diff\n",
    "fights['Dif_UFC_Fight_Time_Seconds'] = fights['A_UFC_Fight_Time_Seconds'] - fights['B_UFC_Fight_Time_Seconds']"
   ]
  },
  {
   "attachments": {},
   "cell_type": "markdown",
   "metadata": {},
   "source": [
    "### Fix NANs"
   ]
  },
  {
   "cell_type": "code",
   "execution_count": null,
   "metadata": {},
   "outputs": [],
   "source": [
    "missing = fights.isna().sum()\n",
    "missing[missing > 0]\n",
    "missing = missing[missing > 0]\n",
    "missing"
   ]
  },
  {
   "cell_type": "code",
   "execution_count": null,
   "metadata": {},
   "outputs": [],
   "source": [
    "fights.to_csv('data/final/aggregates/Double_Fights_DF_V13.csv', index=False)"
   ]
  },
  {
   "attachments": {},
   "cell_type": "markdown",
   "metadata": {},
   "source": [
    "### Stats / Round Features\n",
    "\n",
    "For these, use 1) Top down, and 2) Opponent averages"
   ]
  },
  {
   "cell_type": "code",
   "execution_count": null,
   "metadata": {},
   "outputs": [],
   "source": [
    "fights = pd.read_csv('data/final/aggregates/Double_Fights_DF_V13.csv')"
   ]
  },
  {
   "cell_type": "code",
   "execution_count": null,
   "metadata": {},
   "outputs": [],
   "source": [
    "topdown_cols = [n for n in fights.columns.to_list() if 'topdown' in n]\n",
    "# A TOPDOWN\n",
    "a_topdown_cols = [n for n in topdown_cols if n.startswith('A_')]\n",
    "# get rid of any percent columns\n",
    "a_topdown_cols = [n for n in a_topdown_cols if 'percent' not in n]\n",
    "\n",
    "# B TOPDOWN\n",
    "b_topdown_cols = [n for n in topdown_cols if n.startswith('B_')]\n",
    "# get rid of any percent columns\n",
    "b_topdown_cols = [n for n in b_topdown_cols if 'percent' not in n]\n"
   ]
  },
  {
   "cell_type": "code",
   "execution_count": null,
   "metadata": {},
   "outputs": [],
   "source": [
    "# drop topdown cols, we dont need them, they were a mistake. \n",
    "fights = fights.drop(topdown_cols, axis=1)"
   ]
  },
  {
   "cell_type": "code",
   "execution_count": null,
   "metadata": {},
   "outputs": [],
   "source": [
    "# list all cols\n",
    "fights.columns.to_list()"
   ]
  },
  {
   "cell_type": "code",
   "execution_count": null,
   "metadata": {},
   "outputs": [],
   "source": [
    "rolling_cols = [n for n in fights.columns.to_list() if 'Rolling' in n]\n",
    "\n",
    "a_rolling_cols = [n for n in rolling_cols if n.startswith('A_')]\n",
    "b_rolling_cols = [n for n in rolling_cols if n.startswith('B_')]"
   ]
  },
  {
   "cell_type": "code",
   "execution_count": null,
   "metadata": {},
   "outputs": [],
   "source": [
    "fights.head(2)"
   ]
  },
  {
   "cell_type": "code",
   "execution_count": null,
   "metadata": {},
   "outputs": [],
   "source": [
    "# use A_UFC_Fight_Time_Seconds to deduce total number of rounds\n",
    "# 5 minutes per round\n",
    "# get total number of rounds in ufc\n",
    "fights['A_UFC_Fight_Rounds'] = fights['A_UFC_Fight_Time_Seconds'] / 300\n",
    "fights['B_UFC_Fight_Rounds'] = fights['B_UFC_Fight_Time_Seconds'] / 300"
   ]
  },
  {
   "cell_type": "code",
   "execution_count": null,
   "metadata": {},
   "outputs": [],
   "source": [
    "# add per-round averages using avg columns\n",
    "for col in a_rolling_cols:\n",
    "    fights[f'{col}_per_round'] = fights[col] / fights['A_UFC_Fight_Rounds']\n",
    "\n",
    "for col in b_rolling_cols:\n",
    "    fights[f'{col}_per_round'] = fights[col] / fights['B_UFC_Fight_Rounds']"
   ]
  },
  {
   "cell_type": "code",
   "execution_count": null,
   "metadata": {},
   "outputs": [],
   "source": [
    "fights.head(2)"
   ]
  },
  {
   "cell_type": "code",
   "execution_count": null,
   "metadata": {},
   "outputs": [],
   "source": [
    "fights.columns.to_list()"
   ]
  },
  {
   "cell_type": "code",
   "execution_count": null,
   "metadata": {},
   "outputs": [],
   "source": [
    "# get opponent average columns\n",
    "opp_avg_cols = [n for n in fights.columns.to_list() if 'Opp_Avg' in n]\n",
    "# A OPP AVG\n",
    "a_opp_avg_cols = [n for n in opp_avg_cols if n.startswith('A_')]\n",
    "# get rid of any percent columns\n",
    "a_opp_avg_cols = [n for n in a_opp_avg_cols if 'percent' not in n]\n",
    "\n",
    "# B OPP AVG\n",
    "b_opp_avg_cols = [n for n in opp_avg_cols if n.startswith('B_')]\n",
    "# get rid of any percent columns\n",
    "b_opp_avg_cols = [n for n in b_opp_avg_cols if 'percent' not in n]\n",
    "\n",
    "b_opp_avg_cols"
   ]
  },
  {
   "cell_type": "code",
   "execution_count": null,
   "metadata": {},
   "outputs": [],
   "source": [
    "# add per-round averages using opponent averages\n",
    "for col in a_opp_avg_cols:\n",
    "    fights[f'{col}_per_round'] = fights[col] / fights['A_UFC_Fight_Rounds']\n",
    "\n",
    "for col in b_opp_avg_cols:\n",
    "    fights[f'{col}_per_round'] = fights[col] / fights['B_UFC_Fight_Rounds']\n"
   ]
  },
  {
   "attachments": {},
   "cell_type": "markdown",
   "metadata": {},
   "source": [
    "#### Add Per-Round Difs"
   ]
  },
  {
   "cell_type": "code",
   "execution_count": null,
   "metadata": {},
   "outputs": [],
   "source": [
    "# get rolling per_round columns\n",
    "rolling_per_round_cols = [n for n in fights.columns.to_list() if 'Rolling' in n and 'per_round' in n]\n",
    "# strip the A_ or B_ from the front\n",
    "rolling_per_round_cols = [n[2:] for n in rolling_per_round_cols]\n",
    "# get unique\n",
    "rolling_per_round_cols = list(set(rolling_per_round_cols))\n",
    "rolling_per_round_cols"
   ]
  },
  {
   "cell_type": "code",
   "execution_count": null,
   "metadata": {},
   "outputs": [],
   "source": [
    "for col in rolling_per_round_cols:\n",
    "    fights[f'Dif_{col}'] = fights[f'A_{col}'] - fights[f'B_{col}']"
   ]
  },
  {
   "cell_type": "code",
   "execution_count": null,
   "metadata": {},
   "outputs": [],
   "source": [
    "# get opp_avg per_round columns\n",
    "opp_avg_per_round_cols = [n for n in fights.columns.to_list() if 'Opp_Avg' in n and 'per_round' in n]\n",
    "\n",
    "opp_avg_per_round_cols = [n[2:] for n in opp_avg_per_round_cols]\n",
    "opp_avg_per_round_cols = list(set(opp_avg_per_round_cols))\n",
    "\n",
    "\n",
    "for col in opp_avg_per_round_cols:\n",
    "    fights[f'Dif_{col}'] = fights[f'A_{col}'] - fights[f'B_{col}']"
   ]
  },
  {
   "cell_type": "code",
   "execution_count": null,
   "metadata": {},
   "outputs": [],
   "source": [
    "fights.head(2)"
   ]
  },
  {
   "cell_type": "code",
   "execution_count": null,
   "metadata": {},
   "outputs": [],
   "source": [
    "# save to csv\n",
    "fights.to_csv('data/final/aggregates/Double_Fights_DF_V14.csv', index=False)"
   ]
  },
  {
   "cell_type": "code",
   "execution_count": null,
   "metadata": {},
   "outputs": [],
   "source": [
    "fights.columns.to_list()"
   ]
  },
  {
   "attachments": {},
   "cell_type": "markdown",
   "metadata": {},
   "source": [
    "4/5/23 -- Adding Fighter Training History"
   ]
  },
  {
   "cell_type": "code",
   "execution_count": null,
   "metadata": {},
   "outputs": [],
   "source": [
    "fights = pd.read_csv('data/final/aggregates/Double_Fights_DF_V14.csv')"
   ]
  },
  {
   "cell_type": "code",
   "execution_count": null,
   "metadata": {},
   "outputs": [],
   "source": [
    "all_fighter_training_history = pd.read_csv('data/final/aggregates/All_Fighter_Training_History_Fixed_V2.csv')\n",
    "all_fighter_training_history.head(2)"
   ]
  },
  {
   "cell_type": "code",
   "execution_count": null,
   "metadata": {},
   "outputs": [],
   "source": [
    "# rename Martial_Arts_1 to MA_1\n",
    "all_fighter_training_history = all_fighter_training_history.rename(columns={'Martial_Arts_1': 'MA_1'})"
   ]
  },
  {
   "cell_type": "code",
   "execution_count": null,
   "metadata": {},
   "outputs": [],
   "source": [
    "# strip all values\n",
    "all_fighter_training_history = all_fighter_training_history.applymap(lambda x: x.strip() if isinstance(x, str) else x)"
   ]
  },
  {
   "cell_type": "code",
   "execution_count": null,
   "metadata": {},
   "outputs": [],
   "source": [
    "\n",
    "# Function to shift martial arts columns when Martial_Arts_1 is NaN\n",
    "def shift_martial_arts_columns(row):\n",
    "    ma_columns = [f'MA_{i}' for i in range(1, 17)]  # Adjust the range according to the number of martial arts columns\n",
    "    ma_values = row[ma_columns]\n",
    "    instructor_columns = [f'Instructor_{i}' for i in range(1, 17)]  # Adjust the range according to the number of instructor columns\n",
    "    instructor_values = row[instructor_columns]\n",
    "    year_started_columns = [f'Year_Started_{i}' for i in range(1, 17)]  # Adjust the range according to the number of year started columns\n",
    "    year_started_values = row[year_started_columns]\n",
    "\n",
    "\n",
    "    # Shift the values if Martial_Arts_1 is NaN\n",
    "    if pd.isna(row['MA_1']):\n",
    "        ma_values = ma_values.shift(-1)\n",
    "        instructor_values = instructor_values.shift(-1)\n",
    "        year_started_values = year_started_values.shift(-1)\n",
    "\n",
    "    row[ma_columns] = ma_values\n",
    "    row[instructor_columns] = instructor_values\n",
    "    row[year_started_columns] = year_started_values\n",
    "    return row\n",
    "\n",
    "# Apply the function to the dataframe\n",
    "df = all_fighter_training_history.apply(shift_martial_arts_columns, axis=1)\n",
    "print(df)"
   ]
  },
  {
   "cell_type": "code",
   "execution_count": null,
   "metadata": {},
   "outputs": [],
   "source": [
    "def get_martial_art_history(fighter, ma_number, ret='martial_art'):\n",
    "    try:\n",
    "        data = df[df['Fighter_Name'] == fighter]\n",
    "        \n",
    "        # Get martial art, instructor, and year started for the specified martial art number\n",
    "        ma = data[f'MA_{ma_number}'].values[0]\n",
    "        instructor = data[f'Instructor_{ma_number}'].values[0]\n",
    "        year_started = data[f'Year_Started_{ma_number}'].values[0]\n",
    "        \n",
    "        if ret == 'martial_art':\n",
    "            return ma\n",
    "        elif ret == 'instructor':\n",
    "            return instructor\n",
    "        elif ret == 'year_started':\n",
    "            return year_started\n",
    "        elif ret == 'all':\n",
    "            return ma, instructor, year_started\n",
    "        else: \n",
    "            return None\n",
    "    except:\n",
    "        print(f\"Error with {str(fighter)} and {str(ma_number)})\")\n",
    "        return np.nan, np.nan, np.nan"
   ]
  },
  {
   "cell_type": "code",
   "execution_count": null,
   "metadata": {},
   "outputs": [],
   "source": [
    "get_martial_art_history('Amanda Nunes', 1, 'martial_art')\n"
   ]
  },
  {
   "cell_type": "code",
   "execution_count": null,
   "metadata": {},
   "outputs": [],
   "source": [
    "# add initial martial art to each fighter\n",
    "fights['A_Martial_Art_1'] = fights.apply(lambda row: get_martial_art_history(row['Fighter_A'], 1, 'martial_art'), axis=1)\n",
    "fights['B_Martial_Art_1'] = fights.apply(lambda row: get_martial_art_history(row['Fighter_B'], 1, 'martial_art'), axis=1)\n",
    "\n",
    "# add initial martial art instructor to each fighter\n",
    "fights['A_Martial_Art_Instructor_1'] = fights.apply(lambda row: get_martial_art_history(row['Fighter_A'], 1, 'instructor'), axis=1)\n",
    "fights['B_Martial_Art_Instructor_1'] = fights.apply(lambda row: get_martial_art_history(row['Fighter_B'], 1, 'instructor'), axis=1)\n",
    "\n",
    "# add initial martial art year started to each fighter\n",
    "fights['A_Martial_Art_Year_Started_1'] = fights.apply(lambda row: get_martial_art_history(row['Fighter_A'], 1, 'year_started'), axis=1)\n",
    "fights['B_Martial_Art_Year_Started_1'] = fights.apply(lambda row: get_martial_art_history(row['Fighter_B'], 1, 'year_started'), axis=1)\n",
    "\n",
    "# add initial martial art to each fighter\n",
    "fights['A_Martial_Art_2'] = fights.apply(lambda row: get_martial_art_history(row['Fighter_A'], 2, 'martial_art'), axis=1)\n",
    "fights['B_Martial_Art_2'] = fights.apply(lambda row: get_martial_art_history(row['Fighter_B'], 2, 'martial_art'), axis=1)\n",
    "\n",
    "# add initial martial art instructor to each fighter\n",
    "fights['A_Martial_Art_Instructor_2'] = fights.apply(lambda row: get_martial_art_history(row['Fighter_A'], 2, 'instructor'), axis=1)\n",
    "fights['B_Martial_Art_Instructor_2'] = fights.apply(lambda row: get_martial_art_history(row['Fighter_B'], 2, 'instructor'), axis=1)\n",
    "\n",
    "# add initial martial art year started to each fighter\n",
    "fights['A_Martial_Art_Year_Started_2'] = fights.apply(lambda row: get_martial_art_history(row['Fighter_A'], 2, 'year_started'), axis=1)\n",
    "fights['B_Martial_Art_Year_Started_2'] = fights.apply(lambda row: get_martial_art_history(row['Fighter_B'], 2, 'year_started'), axis=1)\n",
    "\n",
    "# add initial martial art to each fighter\n",
    "fights['A_Martial_Art_3'] = fights.apply(lambda row: get_martial_art_history(row['Fighter_A'], 3, 'martial_art'), axis=1)\n",
    "fights['B_Martial_Art_3'] = fights.apply(lambda row: get_martial_art_history(row['Fighter_B'], 3, 'martial_art'), axis=1)\n",
    "\n",
    "# add initial martial art instructor to each fighter\n",
    "fights['A_Martial_Art_Instructor_3'] = fights.apply(lambda row: get_martial_art_history(row['Fighter_A'], 3, 'instructor'), axis=1)\n",
    "fights['B_Martial_Art_Instructor_3'] = fights.apply(lambda row: get_martial_art_history(row['Fighter_B'], 3, 'instructor'), axis=1)\n",
    "\n",
    "# add initial martial art year started to each fighter\n",
    "fights['A_Martial_Art_Year_Started_3'] = fights.apply(lambda row: get_martial_art_history(row['Fighter_A'], 3, 'year_started'), axis=1)\n",
    "fights['B_Martial_Art_Year_Started_3'] = fights.apply(lambda row: get_martial_art_history(row['Fighter_B'], 3, 'year_started'), axis=1)\n"
   ]
  },
  {
   "cell_type": "code",
   "execution_count": null,
   "metadata": {},
   "outputs": [],
   "source": [
    "fights"
   ]
  },
  {
   "cell_type": "code",
   "execution_count": null,
   "metadata": {},
   "outputs": [],
   "source": [
    "# make sure 'Year_Started' is an integer, if it cant be converted to an integer, set it to NaN\n",
    "fights['A_Martial_Art_Year_Started_1'] = fights['A_Martial_Art_Year_Started_1'].apply(lambda x: int(x) if str(x).isdigit() else np.nan)\n",
    "fights['B_Martial_Art_Year_Started_1'] = fights['B_Martial_Art_Year_Started_1'].apply(lambda x: int(x) if str(x).isdigit() else np.nan)\n",
    "fights['A_Martial_Art_Year_Started_2'] = fights['A_Martial_Art_Year_Started_2'].apply(lambda x: int(x) if str(x).isdigit() else np.nan)\n",
    "fights['B_Martial_Art_Year_Started_2'] = fights['B_Martial_Art_Year_Started_2'].apply(lambda x: int(x) if str(x).isdigit() else np.nan)\n",
    "fights['A_Martial_Art_Year_Started_3'] = fights['A_Martial_Art_Year_Started_3'].apply(lambda x: int(x) if str(x).isdigit() else np.nan)\n",
    "fights['B_Martial_Art_Year_Started_3'] = fights['B_Martial_Art_Year_Started_3'].apply(lambda x: int(x) if str(x).isdigit() else np.nan)\n"
   ]
  },
  {
   "cell_type": "code",
   "execution_count": null,
   "metadata": {},
   "outputs": [],
   "source": [
    "# save to csv\n",
    "fights.to_csv('data/final/aggregates/Double_Fights_DF_V15.csv', index=False)\n",
    "fights.to_csv('data/final/aggregates/Double_Fights_DF_V16.csv', index=False)\n"
   ]
  },
  {
   "cell_type": "markdown",
   "metadata": {},
   "source": [
    "## Add Tapology Data\n",
    "\n",
    "This includes:\n",
    "- UFC Win-by %s (KO, SUB, DEC)\n",
    "- UFC Lose-by %s ('')\n",
    "- Previous Organizations\n",
    "- Previous Record\n",
    "- Previous Win-by %s\n",
    "- Previous Lose-by %s\n",
    "\n",
    "\n",
    "Data Stored: data/tapology/fighters"
   ]
  },
  {
   "cell_type": "code",
   "execution_count": null,
   "metadata": {},
   "outputs": [],
   "source": [
    "# Load fights 15\n",
    "fights = pd.read_csv('data/final/aggregates/Double_Fights_DF_V15.csv')"
   ]
  },
  {
   "cell_type": "code",
   "execution_count": null,
   "metadata": {},
   "outputs": [],
   "source": [
    "fights.head()"
   ]
  },
  {
   "cell_type": "code",
   "execution_count": null,
   "metadata": {},
   "outputs": [],
   "source": [
    "# selenium imports\n",
    "from selenium import webdriver\n",
    "from selenium.webdriver.common.keys import Keys\n",
    "from selenium.webdriver.chrome.options import Options\n",
    "from selenium.webdriver.support.ui import WebDriverWait\n"
   ]
  },
  {
   "cell_type": "code",
   "execution_count": null,
   "metadata": {},
   "outputs": [],
   "source": [
    "def get_fighter_tapology(url):\n",
    "    # scrape with requests, using a header\n",
    "    header = {\n",
    "                        \"User-Agent\": \"Mozilla/6.0 (X11; Linux x86_64) AppleWebKit/537.36 (KHTML, like Gecko) Chrome/50.0.2661.75 Safari/537.36\",\n",
    "                        \"X-Requested-With\": \"XMLHttpRequest\"\n",
    "        }\n",
    "\n",
    "    # scrape with requests\n",
    "    r = requests.get(url, headers = header)\n",
    "    soup = BeautifulSoup(r.text, 'html.parser')\n",
    "\n",
    "    fighter_name = soup.find('div', {'class': 'fighterUpcomingHeader'})\n",
    "\n",
    "    values = fighter_name.text\n",
    "    values = values.split('\\n')\n",
    "    # delete empty strings\n",
    "    values = list(filter(None, values))\n",
    "    # only keep last item\n",
    "    values = values[-1]\n",
    "    fighter_name = values\n",
    "\n",
    "    # get Fighter Details\n",
    "    fighter_details = soup.find_all('div', {'class': 'details details_two_columns'})\n",
    "    fighter_details_text = fighter_details[0].text\n",
    "    # split on \\n\n",
    "    fighter_details_text = fighter_details_text.split('\\n')\n",
    "    # remove empty strings\n",
    "    fighter_details_text = list(filter(None, fighter_details_text))\n",
    "    # replace | with new line\n",
    "    fighter_details_text = [x.replace('|', '\\n') for x in fighter_details_text]\n",
    "    # replace any '\\n ' with ''\n",
    "    fighter_details_text = [x.replace('\\n ', '') for x in fighter_details_text]\n",
    "\n",
    "    # Creating a dictionary from the list\n",
    "    fighter_dict = {}\n",
    "    for i in range(len(fighter_details_text)):\n",
    "        # Check if the current element is a key (ends with a colon)\n",
    "        if fighter_details_text[i][-1] == ':':\n",
    "            # Check if the next element is also a key\n",
    "            if i + 1 < len(fighter_details_text) and fighter_details_text[i + 1][-1] != ':':\n",
    "                # If not, add the current element as a key and the next as a value\n",
    "                fighter_dict[fighter_details_text[i][:-1]] = fighter_details_text[i + 1]\n",
    "            else:\n",
    "                # If the next element is a key, add the current one with a placeholder value\n",
    "                fighter_dict[fighter_details_text[i][:-1]] = \"N/A\"\n",
    "\n",
    "    # Converting the dictionary into a DataFrame\n",
    "    fighter_details = pd.DataFrame(fighter_dict, index=[0])\n",
    "\n",
    "    # add fighter name\n",
    "    fighter_details['Fighter Name'] = fighter_name\n",
    "\n",
    "    # move fighter_name to first column\n",
    "    cols = fighter_details.columns.tolist()\n",
    "    cols = cols[-1:] + cols[:-1]\n",
    "    fighter_details = fighter_details[cols]\n",
    "\n",
    "\n",
    "    # FIGHTER RECORD\n",
    "\n",
    "    soup = BeautifulSoup(r.text, 'html.parser')\n",
    "\n",
    "    # Get the fighter record stats\n",
    "    fighter_record_stats = soup.find_all('ul', {'class': 'fighterRecordStats'})\n",
    "\n",
    "    # Assuming fighter_record_stats[0] is the BeautifulSoup object containing the ul\n",
    "    ul = fighter_record_stats[0]\n",
    "\n",
    "    # Find all li tags - each li corresponds to a different record type\n",
    "    lis = ul.find_all('li')\n",
    "\n",
    "    records = []\n",
    "\n",
    "    # Loop through the li tags\n",
    "    for li in lis:\n",
    "        # Get the record type (KO/TKO, Submission, Decision)\n",
    "        record_type = li.find('div', class_='primary').text\n",
    "        \n",
    "        # Get the secondary data - number of wins and losses\n",
    "        secondary = li.find('div', class_='secondary').text\n",
    "        wins_losses = secondary.split(',')\n",
    "        wins = wins_losses[0].strip()\n",
    "        losses = wins_losses[1].strip() if len(wins_losses) > 1 else '0 losses'\n",
    "        \n",
    "        # Get the percentage of wins\n",
    "        win_stats = li.find('div', class_='statRow', id=lambda id: id and id.endswith('Win'))\n",
    "        percent_of_win = win_stats.find('div', class_='percentOf') if win_stats else None\n",
    "        percent_wins = percent_of_win.text.strip() if percent_of_win else 'N/A'\n",
    "        # replace any \\ofwins with ''\n",
    "        percent_wins = percent_wins.replace('\\n', ' ')\n",
    "        percent_wins = percent_wins.replace('of wins', '')\n",
    "        \n",
    "        # Get the percentage of losses\n",
    "        loss_stats = li.find('div', class_='statRow', id=lambda id: id and id.endswith('Loss'))\n",
    "        percent_of_loss = loss_stats.find('div', class_='percentOf') if loss_stats else None\n",
    "        percent_losses = percent_of_loss.text.strip() if percent_of_loss else 'N/A'\n",
    "        # replace any \\oflosses with ''\n",
    "        percent_losses = percent_losses.replace('\\n', ' ')\n",
    "        percent_losses = percent_losses.replace('of losses', '')\n",
    "        \n",
    "        # Add the data to the records list\n",
    "        records.append([record_type, wins, losses, percent_wins, percent_losses])\n",
    "\n",
    "    # Convert the list to a DataFrame\n",
    "    records_df = pd.DataFrame(records, columns=['Type', 'Wins', 'Losses', 'Percentage of Wins', 'Percentage of Losses'])\n",
    "    \n",
    "    \n",
    "    # PROMOTION RESULTS\n",
    "    try:\n",
    "        soup = BeautifulSoup(r.text, 'html.parser')\n",
    "        # get mma record by promotion using ul class = 'fighterPromotions'\n",
    "        fighter_promotions = soup.find_all('ul', {'class': 'fighterPromotions'})\n",
    "\n",
    "        # Assuming fighter_promotions[0] is the BeautifulSoup object containing the ul\n",
    "        ul = fighter_promotions[0]\n",
    "\n",
    "        # Find all li tags - each li corresponds to a different promotion record\n",
    "        lis = ul.find_all('li')\n",
    "\n",
    "        promotion_records = []\n",
    "\n",
    "        # Loop through the li tags\n",
    "        for li in lis:\n",
    "            # Get the promotion name\n",
    "            promotion_name = li.find('img')['title']\n",
    "            \n",
    "\n",
    "            # Get the years of participation\n",
    "            years_active = li.find('div', class_='yearsActive').get_text(separator=' ').strip()\n",
    "            \n",
    "            # Get the win-loss record\n",
    "            wins = li.find('div', class_='wins').get_text(separator=' ').strip()\n",
    "            losses = li.find('div', class_='losses').get_text(separator=' ').strip()\n",
    "            draws = li.find('div', class_='draws').get_text(separator=' ').strip()\n",
    "            no_contests = li.find('div', class_='no_contests').get_text(separator=' ').strip()\n",
    "            \n",
    "            # Get the method records\n",
    "            method_labels = [\"KO/TKO\", \"Sub\", \"Decision\", \"DQ\"]\n",
    "            method_wins = [div.get_text() if div.get_text() != '-' else 'N/A' for div in li.find_all('div', class_='methodRecordWins')[0].find_all('div', class_='methodRecordRow')]\n",
    "            method_win_percents = [div.get_text() if div.get_text() != '-' else 'N/A' for div in li.find_all('div', class_='methodRecordWinPercent')[0].find_all('div', class_='methodRecordRow')]\n",
    "            method_losses = [div.get_text() if div.get_text() != '-' else 'N/A' for div in li.find_all('div', class_='methodRecordLosses')[0].find_all('div', class_='methodRecordRow')]\n",
    "            method_loss_percents = [div.get_text() if div.get_text() != '-' else 'N/A' for div in li.find_all('div', class_='methodRecordLossPercent')[0].find_all('div', class_='methodRecordRow')]\n",
    "            \n",
    "            # Convert method records into a dictionary for easy DataFrame creation\n",
    "            method_records_dict = {f'{label} Wins': win for label, win in zip(method_labels, method_wins)}\n",
    "            method_records_dict.update({f'{label} Win Percent': win_percent for label, win_percent in zip(method_labels, method_win_percents)})\n",
    "            method_records_dict.update({f'{label} Losses': loss for label, loss in zip(method_labels, method_losses)})\n",
    "            method_records_dict.update({f'{label} Loss Percent': loss_percent for label, loss_percent in zip(method_labels, method_loss_percents)})\n",
    "            \n",
    "            # Add the data to the promotion records list\n",
    "            promotion_records.append([promotion_name, years_active, wins, losses, draws, no_contests, method_records_dict])\n",
    "\n",
    "        # Convert the list to a DataFrame\n",
    "        df = pd.DataFrame(promotion_records, columns=['Promotion', 'Years Active', 'Wins', 'Losses', 'Draws', 'No Contests', 'Method Records'])\n",
    "\n",
    "        # Extract method records into separate columns\n",
    "        df_method_records = pd.DataFrame(df['Method Records'].tolist())\n",
    "        df = pd.concat([df.drop('Method Records', axis=1), df_method_records], axis=1)\n",
    "        # drop any \\n characters\n",
    "        df = df.replace('\\n','', regex=True)\n",
    "        # drop any 'win' or 'loss' characters\n",
    "        df = df.replace('win','', regex=True)\n",
    "        df = df.replace('loss','', regex=True)\n",
    "        df = df.replace('draw','', regex=True)\n",
    "        df = df.replace('no contest','', regex=True)\n",
    "        # change NA to 0\n",
    "        df = df.replace('N/A',0, regex=True)\n",
    "\n",
    "        record_by_promotion = df\n",
    "    \n",
    "    except:\n",
    "        # if no record by promotion, set each column to 'N/A'\n",
    "        record_by_promotion = pd.DataFrame(columns=['Promotion', 'Years Active', 'Wins', 'Losses', 'Draws', 'No Contests', 'Method Records'])\n",
    "        record_by_promotion.loc[0] = ['N/A', 'N/A', 'N/A', 'N/A', 'N/A', 'N/A', 'N/A']\n",
    "        \n",
    "\n",
    "    # GET FIGHT RESULTS\n",
    "    soup = BeautifulSoup(r.text, 'html.parser')\n",
    "\n",
    "    # scrape fighter fight results (class=\"fighterFightResults\")\n",
    "    fighter_fight_results = soup.find_all('section', {'class': 'fighterFightResults'})\n",
    "    # count number of li tags\n",
    "    len(fighter_fight_results[0].find_all('li'))\n",
    "\n",
    "    # each li tag is a fight. each fight contains oppenent div, summary div, date div, and more div. \n",
    "    # grab all divs within each li tag\n",
    "    fighter_fight_results_li = fighter_fight_results[0].find_all('li')\n",
    "\n",
    "\n",
    "    # create an empty list to store the data\n",
    "    data = []\n",
    "\n",
    "    # loop through each li tag\n",
    "    for li in fighter_fight_results_li:\n",
    "        # create an empty dictionary to store the data for this fight\n",
    "        fight = {}\n",
    "\n",
    "        # extract the opponent name using CSS selectors\n",
    "        name_tag = li.select_one('.opponent .name')\n",
    "        fight['Opponent Name'] = name_tag.get_text(strip=True) if name_tag else 'N/A'\n",
    "\n",
    "        # extract the opponent record using CSS selectors\n",
    "        record_tags = li.select('.opponent .record span')  # this will return a list of span tags\n",
    "        if record_tags:\n",
    "            fight['Fighter Record Before Fight'] = record_tags[0].get_text(strip=True) if len(record_tags) > 0 else 'N/A'\n",
    "            fight['Opponent Record Before Fight'] = record_tags[1].get_text(strip=True) if len(record_tags) > 1 else 'N/A'\n",
    "        else:\n",
    "            fight['Fighter Record Before Fight'] = 'N/A'\n",
    "            fight['Opponent Record Before Fight'] = 'N/A'\n",
    "\n",
    "        # extract the fight summary and event using CSS selectors\n",
    "        summary_lead = li.select_one('.summary .lead a')\n",
    "        if summary_lead is not None:\n",
    "            fight['Fight Summary'] = summary_lead.get_text(strip=True)\n",
    "        else:\n",
    "            fight['Fight Summary'] = 'N/A'\n",
    "\n",
    "        summary_notes = li.select_one('.summary .notes a')\n",
    "        if summary_notes is not None:\n",
    "            fight['Event'] = summary_notes.get_text(strip=True)\n",
    "        else:\n",
    "            fight['Event'] = 'N/A'\n",
    "\n",
    "        # extract the fight date using CSS selectors\n",
    "        date_tag = li.select_one('.date')\n",
    "        fight['Fight Date'] = date_tag.get_text(strip=True) if date_tag else 'N/A'\n",
    "\n",
    "        # add the fight details to the list\n",
    "        data.append(fight)\n",
    "\n",
    "    # create a DataFrame from the list of fight details\n",
    "    fight_results = pd.DataFrame(data)\n",
    "\n",
    "    # save each to CSV\n",
    "    fighter_details.to_csv(f'data/tapology/fighters/{fighter_name}_details.csv', index=False)\n",
    "    records_df.to_csv(f'data/tapology/fighters/{fighter_name}_records_by_finish.csv', index=False)\n",
    "    record_by_promotion.to_csv(f'data/tapology/fighters/{fighter_name}_record_by_promotion.csv', index=False)\n",
    "    fight_results.to_csv(f'data/tapology/fighters/{fighter_name}_fight_results.csv', index=False)\n",
    "    \n",
    "    \n",
    "    return records_df,fighter_details, record_by_promotion, fight_results"
   ]
  },
  {
   "cell_type": "code",
   "execution_count": null,
   "metadata": {},
   "outputs": [],
   "source": [
    "def get_tapology_link(name):\n",
    "    search_url = 'https://www.tapology.com/search?term='+ name +'&search=Submit&mainSearchFilter=fighters'\n",
    "    # go to url\n",
    "    driver.get(search_url)\n",
    "    soup = BeautifulSoup(driver.page_source, 'html.parser')\n",
    "    # find table\n",
    "    table = soup.find('table')\n",
    "    # find links\n",
    "    links = table.find_all('a')\n",
    "    # just get first link\n",
    "    link = links[0]\n",
    "    # just the link\n",
    "    link = link['href']\n",
    "    full_link = 'https://www.tapology.com' + link\n",
    "    return full_link"
   ]
  },
  {
   "cell_type": "markdown",
   "metadata": {},
   "source": [
    "Get Fighter Tapology"
   ]
  },
  {
   "cell_type": "markdown",
   "metadata": {},
   "source": [
    "Get list of fighters in database not covered in tapology folder"
   ]
  },
  {
   "cell_type": "code",
   "execution_count": null,
   "metadata": {},
   "outputs": [],
   "source": [
    "all_fighters = fights['Fighter_A'].unique().tolist() + fights['Fighter_B'].unique().tolist()\n",
    "len(all_fighters)"
   ]
  },
  {
   "cell_type": "code",
   "execution_count": null,
   "metadata": {},
   "outputs": [],
   "source": [
    "# get list of fighters in tapology folder\n",
    "tapology_files = [f for f in os.listdir('data/tapology/fighters') if f.endswith('.csv')]\n",
    "# only keep up to _\n",
    "tapology_files = [f.split('_')[0] for f in tapology_files]\n",
    "# delete duplicates\n",
    "tapology_files = list(set(tapology_files))\n",
    "len(tapology_files)"
   ]
  },
  {
   "cell_type": "code",
   "execution_count": null,
   "metadata": {},
   "outputs": [],
   "source": [
    "# get list of fighters not in tapology folder\n",
    "fighters_not_in_tapology = [f for f in all_fighters if f not in tapology_files]\n",
    "len(fighters_not_in_tapology)"
   ]
  },
  {
   "cell_type": "code",
   "execution_count": null,
   "metadata": {},
   "outputs": [],
   "source": [
    "fighters_not_in_tapology"
   ]
  },
  {
   "cell_type": "code",
   "execution_count": null,
   "metadata": {},
   "outputs": [],
   "source": [
    "len(fighters_not_in_tapology)"
   ]
  },
  {
   "cell_type": "code",
   "execution_count": null,
   "metadata": {},
   "outputs": [],
   "source": [
    "# driver = webdriver.Chrome('/Users/travisroyce/Library/CloudStorage/OneDrive-Personal/Data Science/Personal_Projects/Sports/UFC_Prediction_V2/chromedriver')"
   ]
  },
  {
   "cell_type": "code",
   "execution_count": null,
   "metadata": {},
   "outputs": [],
   "source": [
    "# for fighter in fighters_not_in_tapology:\n",
    "#     try:\n",
    "#         link = get_tapology_link(fighter)\n",
    "#         get_fighter_tapology(link)\n",
    "#         print(f' {fighter} done')\n",
    "#         # wait one second\n",
    "#         time.sleep(3)\n",
    "#     except:\n",
    "#         print(f'Error with {fighter}')\n",
    "#         time.sleep(5)\n",
    "#         continue"
   ]
  },
  {
   "cell_type": "markdown",
   "metadata": {},
   "source": [
    "### NEXT: Fix Non-Working Fighters\n",
    "\n",
    "I assume some fighters are saving under different names. No matter, we can write another version of the code to save as the names in our fighters_not_in_tapology list, then either way, we have the records. "
   ]
  },
  {
   "cell_type": "code",
   "execution_count": null,
   "metadata": {},
   "outputs": [],
   "source": [
    "def get_fighter_tapology_2(url, fighterrr):\n",
    "    # scrape with requests, using a header\n",
    "    header = {\n",
    "                        \"User-Agent\": \"Mozilla/6.0 (X11; Linux x86_64) AppleWebKit/537.36 (KHTML, like Gecko) Chrome/50.0.2661.75 Safari/537.36\",\n",
    "                        \"X-Requested-With\": \"XMLHttpRequest\"\n",
    "        }\n",
    "\n",
    "    # scrape with requests\n",
    "    r = requests.get(url, headers = header)\n",
    "    soup = BeautifulSoup(r.text, 'html.parser')\n",
    "\n",
    "    fighter_name = soup.find('div', {'class': 'fighterUpcomingHeader'})\n",
    "\n",
    "    values = fighter_name.text\n",
    "    values = values.split('\\n')\n",
    "    # delete empty strings\n",
    "    values = list(filter(None, values))\n",
    "    # only keep last item\n",
    "    values = values[-1]\n",
    "    fighter_name = values\n",
    "\n",
    "    # get Fighter Details\n",
    "    fighter_details = soup.find_all('div', {'class': 'details details_two_columns'})\n",
    "    fighter_details_text = fighter_details[0].text\n",
    "    # split on \\n\n",
    "    fighter_details_text = fighter_details_text.split('\\n')\n",
    "    # remove empty strings\n",
    "    fighter_details_text = list(filter(None, fighter_details_text))\n",
    "    # replace | with new line\n",
    "    fighter_details_text = [x.replace('|', '\\n') for x in fighter_details_text]\n",
    "    # replace any '\\n ' with ''\n",
    "    fighter_details_text = [x.replace('\\n ', '') for x in fighter_details_text]\n",
    "\n",
    "    # Creating a dictionary from the list\n",
    "    fighter_dict = {}\n",
    "    for i in range(len(fighter_details_text)):\n",
    "        # Check if the current element is a key (ends with a colon)\n",
    "        if fighter_details_text[i][-1] == ':':\n",
    "            # Check if the next element is also a key\n",
    "            if i + 1 < len(fighter_details_text) and fighter_details_text[i + 1][-1] != ':':\n",
    "                # If not, add the current element as a key and the next as a value\n",
    "                fighter_dict[fighter_details_text[i][:-1]] = fighter_details_text[i + 1]\n",
    "            else:\n",
    "                # If the next element is a key, add the current one with a placeholder value\n",
    "                fighter_dict[fighter_details_text[i][:-1]] = \"N/A\"\n",
    "\n",
    "    # Converting the dictionary into a DataFrame\n",
    "    fighter_details = pd.DataFrame(fighter_dict, index=[0])\n",
    "\n",
    "    # add fighter name\n",
    "    fighter_details['Fighter Name'] = fighter_name\n",
    "\n",
    "    # move fighter_name to first column\n",
    "    cols = fighter_details.columns.tolist()\n",
    "    cols = cols[-1:] + cols[:-1]\n",
    "    fighter_details = fighter_details[cols]\n",
    "\n",
    "\n",
    "    # FIGHTER RECORD\n",
    "\n",
    "    soup = BeautifulSoup(r.text, 'html.parser')\n",
    "\n",
    "    # Get the fighter record stats\n",
    "    fighter_record_stats = soup.find_all('ul', {'class': 'fighterRecordStats'})\n",
    "\n",
    "    # Assuming fighter_record_stats[0] is the BeautifulSoup object containing the ul\n",
    "    ul = fighter_record_stats[0]\n",
    "\n",
    "    # Find all li tags - each li corresponds to a different record type\n",
    "    lis = ul.find_all('li')\n",
    "\n",
    "    records = []\n",
    "\n",
    "    # Loop through the li tags\n",
    "    for li in lis:\n",
    "        # Get the record type (KO/TKO, Submission, Decision)\n",
    "        record_type = li.find('div', class_='primary').text\n",
    "        \n",
    "        # Get the secondary data - number of wins and losses\n",
    "        secondary = li.find('div', class_='secondary').text\n",
    "        wins_losses = secondary.split(',')\n",
    "        wins = wins_losses[0].strip()\n",
    "        losses = wins_losses[1].strip() if len(wins_losses) > 1 else '0 losses'\n",
    "        \n",
    "        # Get the percentage of wins\n",
    "        win_stats = li.find('div', class_='statRow', id=lambda id: id and id.endswith('Win'))\n",
    "        percent_of_win = win_stats.find('div', class_='percentOf') if win_stats else None\n",
    "        percent_wins = percent_of_win.text.strip() if percent_of_win else 'N/A'\n",
    "        # replace any \\ofwins with ''\n",
    "        percent_wins = percent_wins.replace('\\n', ' ')\n",
    "        percent_wins = percent_wins.replace('of wins', '')\n",
    "        \n",
    "        # Get the percentage of losses\n",
    "        loss_stats = li.find('div', class_='statRow', id=lambda id: id and id.endswith('Loss'))\n",
    "        percent_of_loss = loss_stats.find('div', class_='percentOf') if loss_stats else None\n",
    "        percent_losses = percent_of_loss.text.strip() if percent_of_loss else 'N/A'\n",
    "        # replace any \\oflosses with ''\n",
    "        percent_losses = percent_losses.replace('\\n', ' ')\n",
    "        percent_losses = percent_losses.replace('of losses', '')\n",
    "        \n",
    "        # Add the data to the records list\n",
    "        records.append([record_type, wins, losses, percent_wins, percent_losses])\n",
    "\n",
    "    # Convert the list to a DataFrame\n",
    "    records_df = pd.DataFrame(records, columns=['Type', 'Wins', 'Losses', 'Percentage of Wins', 'Percentage of Losses'])\n",
    "    \n",
    "    \n",
    "    # PROMOTION RESULTS\n",
    "    try:\n",
    "        soup = BeautifulSoup(r.text, 'html.parser')\n",
    "        # get mma record by promotion using ul class = 'fighterPromotions'\n",
    "        fighter_promotions = soup.find_all('ul', {'class': 'fighterPromotions'})\n",
    "\n",
    "        # Assuming fighter_promotions[0] is the BeautifulSoup object containing the ul\n",
    "        ul = fighter_promotions[0]\n",
    "\n",
    "        # Find all li tags - each li corresponds to a different promotion record\n",
    "        lis = ul.find_all('li')\n",
    "\n",
    "        promotion_records = []\n",
    "\n",
    "        # Loop through the li tags\n",
    "        for li in lis:\n",
    "            # Get the promotion name\n",
    "            promotion_name = li.find('img')['title']\n",
    "            \n",
    "\n",
    "            # Get the years of participation\n",
    "            years_active = li.find('div', class_='yearsActive').get_text(separator=' ').strip()\n",
    "            \n",
    "            # Get the win-loss record\n",
    "            wins = li.find('div', class_='wins').get_text(separator=' ').strip()\n",
    "            losses = li.find('div', class_='losses').get_text(separator=' ').strip()\n",
    "            draws = li.find('div', class_='draws').get_text(separator=' ').strip()\n",
    "            no_contests = li.find('div', class_='no_contests').get_text(separator=' ').strip()\n",
    "            \n",
    "            # Get the method records\n",
    "            method_labels = [\"KO/TKO\", \"Sub\", \"Decision\", \"DQ\"]\n",
    "            method_wins = [div.get_text() if div.get_text() != '-' else 'N/A' for div in li.find_all('div', class_='methodRecordWins')[0].find_all('div', class_='methodRecordRow')]\n",
    "            method_win_percents = [div.get_text() if div.get_text() != '-' else 'N/A' for div in li.find_all('div', class_='methodRecordWinPercent')[0].find_all('div', class_='methodRecordRow')]\n",
    "            method_losses = [div.get_text() if div.get_text() != '-' else 'N/A' for div in li.find_all('div', class_='methodRecordLosses')[0].find_all('div', class_='methodRecordRow')]\n",
    "            method_loss_percents = [div.get_text() if div.get_text() != '-' else 'N/A' for div in li.find_all('div', class_='methodRecordLossPercent')[0].find_all('div', class_='methodRecordRow')]\n",
    "            \n",
    "            # Convert method records into a dictionary for easy DataFrame creation\n",
    "            method_records_dict = {f'{label} Wins': win for label, win in zip(method_labels, method_wins)}\n",
    "            method_records_dict.update({f'{label} Win Percent': win_percent for label, win_percent in zip(method_labels, method_win_percents)})\n",
    "            method_records_dict.update({f'{label} Losses': loss for label, loss in zip(method_labels, method_losses)})\n",
    "            method_records_dict.update({f'{label} Loss Percent': loss_percent for label, loss_percent in zip(method_labels, method_loss_percents)})\n",
    "            \n",
    "            # Add the data to the promotion records list\n",
    "            promotion_records.append([promotion_name, years_active, wins, losses, draws, no_contests, method_records_dict])\n",
    "\n",
    "        # Convert the list to a DataFrame\n",
    "        df = pd.DataFrame(promotion_records, columns=['Promotion', 'Years Active', 'Wins', 'Losses', 'Draws', 'No Contests', 'Method Records'])\n",
    "\n",
    "        # Extract method records into separate columns\n",
    "        df_method_records = pd.DataFrame(df['Method Records'].tolist())\n",
    "        df = pd.concat([df.drop('Method Records', axis=1), df_method_records], axis=1)\n",
    "        # drop any \\n characters\n",
    "        df = df.replace('\\n','', regex=True)\n",
    "        # drop any 'win' or 'loss' characters\n",
    "        df = df.replace('win','', regex=True)\n",
    "        df = df.replace('loss','', regex=True)\n",
    "        df = df.replace('draw','', regex=True)\n",
    "        df = df.replace('no contest','', regex=True)\n",
    "        # change NA to 0\n",
    "        df = df.replace('N/A',0, regex=True)\n",
    "\n",
    "        record_by_promotion = df\n",
    "    \n",
    "    except:\n",
    "        # if no record by promotion, set each column to 'N/A'\n",
    "        record_by_promotion = pd.DataFrame(columns=['Promotion', 'Years Active', 'Wins', 'Losses', 'Draws', 'No Contests', 'Method Records'])\n",
    "        record_by_promotion.loc[0] = ['N/A', 'N/A', 'N/A', 'N/A', 'N/A', 'N/A', 'N/A']\n",
    "        \n",
    "\n",
    "    # GET FIGHT RESULTS\n",
    "    soup = BeautifulSoup(r.text, 'html.parser')\n",
    "\n",
    "    # scrape fighter fight results (class=\"fighterFightResults\")\n",
    "    fighter_fight_results = soup.find_all('section', {'class': 'fighterFightResults'})\n",
    "    # count number of li tags\n",
    "    len(fighter_fight_results[0].find_all('li'))\n",
    "\n",
    "    # each li tag is a fight. each fight contains oppenent div, summary div, date div, and more div. \n",
    "    # grab all divs within each li tag\n",
    "    fighter_fight_results_li = fighter_fight_results[0].find_all('li')\n",
    "\n",
    "\n",
    "    # create an empty list to store the data\n",
    "    data = []\n",
    "\n",
    "    # loop through each li tag\n",
    "    for li in fighter_fight_results_li:\n",
    "        # create an empty dictionary to store the data for this fight\n",
    "        fight = {}\n",
    "\n",
    "        # extract the opponent name using CSS selectors\n",
    "        name_tag = li.select_one('.opponent .name')\n",
    "        fight['Opponent Name'] = name_tag.get_text(strip=True) if name_tag else 'N/A'\n",
    "\n",
    "        # extract the opponent record using CSS selectors\n",
    "        record_tags = li.select('.opponent .record span')  # this will return a list of span tags\n",
    "        if record_tags:\n",
    "            fight['Fighter Record Before Fight'] = record_tags[0].get_text(strip=True) if len(record_tags) > 0 else 'N/A'\n",
    "            fight['Opponent Record Before Fight'] = record_tags[1].get_text(strip=True) if len(record_tags) > 1 else 'N/A'\n",
    "        else:\n",
    "            fight['Fighter Record Before Fight'] = 'N/A'\n",
    "            fight['Opponent Record Before Fight'] = 'N/A'\n",
    "\n",
    "        # extract the fight summary and event using CSS selectors\n",
    "        summary_lead = li.select_one('.summary .lead a')\n",
    "        if summary_lead is not None:\n",
    "            fight['Fight Summary'] = summary_lead.get_text(strip=True)\n",
    "        else:\n",
    "            fight['Fight Summary'] = 'N/A'\n",
    "\n",
    "        summary_notes = li.select_one('.summary .notes a')\n",
    "        if summary_notes is not None:\n",
    "            fight['Event'] = summary_notes.get_text(strip=True)\n",
    "        else:\n",
    "            fight['Event'] = 'N/A'\n",
    "\n",
    "        # extract the fight date using CSS selectors\n",
    "        date_tag = li.select_one('.date')\n",
    "        fight['Fight Date'] = date_tag.get_text(strip=True) if date_tag else 'N/A'\n",
    "\n",
    "        # add the fight details to the list\n",
    "        data.append(fight)\n",
    "\n",
    "    # create a DataFrame from the list of fight details\n",
    "    fight_results = pd.DataFrame(data)\n",
    "\n",
    "    # save each to CSV\n",
    "    fighter_details.to_csv(f'data/tapology/fighters/{fighterrr}_details.csv', index=False)\n",
    "    records_df.to_csv(f'data/tapology/fighters/{fighterrr}_records_by_finish.csv', index=False)\n",
    "    record_by_promotion.to_csv(f'data/tapology/fighters/{fighterrr}_record_by_promotion.csv', index=False)\n",
    "    fight_results.to_csv(f'data/tapology/fighters/{fighterrr}_fight_results.csv', index=False)\n",
    "    \n",
    "    \n",
    "    return records_df,fighter_details, record_by_promotion, fight_results"
   ]
  },
  {
   "cell_type": "code",
   "execution_count": null,
   "metadata": {},
   "outputs": [],
   "source": [
    "# driver = webdriver.Chrome('/Users/travisroyce/Library/CloudStorage/OneDrive-Personal/Data Science/Personal_Projects/Sports/UFC_Prediction_V2/chromedriver')"
   ]
  },
  {
   "cell_type": "code",
   "execution_count": null,
   "metadata": {},
   "outputs": [],
   "source": [
    "# for fighter in fighters_not_in_tapology:\n",
    "#     try:\n",
    "#         link = get_tapology_link(fighter)\n",
    "#         get_fighter_tapology_2(link, fighter)\n",
    "#         print(f' {fighter} done')\n",
    "#         # wait one second\n",
    "#         time.sleep(3)\n",
    "#     except:\n",
    "#         print(f'Error with {fighter}')\n",
    "#         time.sleep(5)\n",
    "#         continue"
   ]
  },
  {
   "cell_type": "markdown",
   "metadata": {},
   "source": [
    "## Pick out Features from Tapology Data\n",
    "\n",
    "- UFC Fight #\n",
    "- UFC Win %\n",
    "- Previous Fight Organization\n",
    "- UFC Win % (KO, Sub, Dec)\n",
    "- UFC Lose % (KO, Sub, Dec)\n",
    "- Previous Org Win % (Ko, Sub, Dec)\n",
    "- Previous Org Lose % (Ko, Sub, Dec)\n",
    "- Fight Camp \n",
    "- Fighting Out Of"
   ]
  },
  {
   "cell_type": "code",
   "execution_count": null,
   "metadata": {},
   "outputs": [],
   "source": [
    "all_records = os.listdir('data/tapology/fighters')\n",
    "fight_results = [f for f in all_records if 'fight_results' in f]\n",
    "fight_results"
   ]
  },
  {
   "cell_type": "code",
   "execution_count": null,
   "metadata": {},
   "outputs": [],
   "source": [
    "# open the first\n",
    "df = pd.read_csv('data/tapology/fighters/' + fight_results[0])\n",
    "df.head()"
   ]
  },
  {
   "cell_type": "code",
   "execution_count": null,
   "metadata": {},
   "outputs": [],
   "source": [
    "# for each file, open and append to a dataframe and add fighter name\n",
    "fight_results_df = pd.DataFrame()\n",
    "for file in fight_results:\n",
    "    try:\n",
    "        df = pd.read_csv('data/tapology/fighters/' + file)\n",
    "        df['Fighter Name'] = file.split('_')[0]\n",
    "        fight_results_df = fight_results_df.append(df)\n",
    "    except:\n",
    "        print(f'Error with {file}')\n",
    "        continue\n",
    "\n",
    "fight_results_df.head()"
   ]
  },
  {
   "cell_type": "code",
   "execution_count": null,
   "metadata": {},
   "outputs": [],
   "source": [
    "# make new folder tapology aggregates\n",
    "if not os.path.exists('data/tapology/aggregates'):\n",
    "    os.makedirs('data/tapology/aggregates')"
   ]
  },
  {
   "cell_type": "code",
   "execution_count": null,
   "metadata": {},
   "outputs": [],
   "source": [
    "fight_results_df.to_csv('data/tapology/aggregates/all_fight_results.csv', index=False)"
   ]
  },
  {
   "cell_type": "code",
   "execution_count": null,
   "metadata": {},
   "outputs": [],
   "source": []
  },
  {
   "cell_type": "markdown",
   "metadata": {},
   "source": [
    "Now, we need to, for each fighter, get: \n",
    "\n",
    "- UFC Fight # [All_Fight_Results]\n",
    "- UFC Win %   [All_Fight_Results]\n",
    "- Previous Fight Organization [details]\n",
    "- UFC Win % (KO, Sub, Dec) [All_Fight_Results]\n",
    "- UFC Lose % (KO, Sub, Dec) [All_Fight_Results]\n",
    "- Previous Org Win % (Ko, Sub, Dec) [All_Fight_Results]\n",
    "- Previous Org Lose % (Ko, Sub, Dec) [All_Fight_Results]\n",
    "- Fight Camp [details]\n",
    "- Fighting Out Of [details]\n",
    "\n",
    "FROM the fight_results_df. "
   ]
  },
  {
   "cell_type": "code",
   "execution_count": null,
   "metadata": {},
   "outputs": [],
   "source": [
    "fight_results_df = pd.read_csv('data/tapology/aggregates/all_fight_results.csv')"
   ]
  },
  {
   "cell_type": "code",
   "execution_count": null,
   "metadata": {},
   "outputs": [],
   "source": [
    "# correct dates of fights by using datetime\n",
    "fight_results_df['Fight Date'] = pd.to_datetime(fight_results_df['Fight Date'])\n",
    "fight_results_df['Fight Date'] = fight_results_df['Fight Date'].dt.date\n",
    "# sort by date\n",
    "fight_results_df = fight_results_df.sort_values(by=['Fight Date'], ascending=False)\n",
    "today = datetime.date.today()\n",
    "# filter out fights that haven't happened yet\n",
    "fight_results_df = fight_results_df[fight_results_df['Fight Date'] < today]\n",
    "# drop Confirmed Upcoming Bouts\n",
    "fight_results_df = fight_results_df[fight_results_df['Fight Summary'] != 'Confirmed Upcoming Bout']\n",
    "# drop Cancelled Bouts\n",
    "fight_results_df = fight_results_df[fight_results_df['Fight Summary'] != 'Cancelled Bout']\n",
    "\n",
    "fight_results_df.head()"
   ]
  },
  {
   "cell_type": "code",
   "execution_count": null,
   "metadata": {},
   "outputs": [],
   "source": [
    "# breakup Fight Summary by  ·, keep first two of the sections\n",
    "fight_results_df['Fight Sum'] = fight_results_df['Fight Summary'].str.split('·').str[:2]\n",
    "# get rid of the brackets\n",
    "fight_results_df['Fight Sum'] = fight_results_df['Fight Sum'].str.join(', ')\n",
    "fight_results_df['Ending_Method'] = fight_results_df['Fight Sum'].str.split(', ').str[1] \n",
    "fight_results_df"
   ]
  },
  {
   "cell_type": "code",
   "execution_count": null,
   "metadata": {},
   "outputs": [],
   "source": [
    "# get all fight summary values and counts\n",
    "fight_results_df['Fight Sum'].value_counts().head(5)"
   ]
  },
  {
   "cell_type": "code",
   "execution_count": null,
   "metadata": {},
   "outputs": [],
   "source": [
    "submission_list = ['Guillotine', 'Choke', 'Americana', 'Kimura', 'Heel Hook', 'Triangle', 'Bulldog', 'Von Flue']\n",
    "\n",
    "# new column \"Finish\": if any of the submission_list are in the Ending_Method, new column = Submission, if Ending_Method is Decision, Finish is Decision, else = KO/TKO\n",
    "fight_results_df['Finish'] = np.where(fight_results_df['Ending_Method'].isin(submission_list), 'Submission', np.where(fight_results_df['Ending_Method'] == 'Decision', 'Decision', 'KO/TKO'))\n",
    "# if Ending_Method contains Decision, make sure Finish is Decision\n",
    "fight_results_df['Finish'] = np.where(fight_results_df['Ending_Method'].str.contains('Decision'), 'Decision', fight_results_df['Finish'])\n",
    "fight_results_df"
   ]
  },
  {
   "cell_type": "code",
   "execution_count": null,
   "metadata": {},
   "outputs": [],
   "source": [
    "# get number of UFC Fights\n",
    "\n",
    "# open fighter file (example: Sean Strickland)\n",
    "file = 'data/tapology/fighters/Sean Strickland_fight_results.csv'\n",
    "fighter_results_example = pd.read_csv(file)\n",
    "file_name = file.split('/')[-1]\n",
    "fighter_name = file_name.split('_')[0]\n",
    "\n",
    "\n",
    "# Add fighter Name\n",
    "fighter_results_example['Fighter Name'] = fighter_name\n",
    "\n",
    "# get number of UFC fights before today's date\n",
    "today = datetime.date.today()\n",
    "fighter_results_example['Fight Date'] = pd.to_datetime(fighter_results_example['Fight Date'])\n",
    "fighter_results_example['Fight Date'] = fighter_results_example['Fight Date'].dt.date\n",
    "fighter_results_example = fighter_results_example.sort_values(by=['Fight Date'], ascending=False)\n",
    "\n",
    "\n",
    "fighter_results_examplez = fighter_results_example[fighter_results_example['Fight Date'] < today]\n",
    "fighter_results_examplez['Event'] = fighter_results_examplez['Event'].astype(str).fillna(\"\")\n",
    "fighter_results_examplez = fighter_results_examplez[fighter_results_examplez['Event'].str.contains('UFC')]\n",
    "fighter_results_examplez = fighter_results_examplez[fighter_results_examplez['Fight Summary'] != 'Cancelled Bout']\n",
    "ufc_fights = fighter_results_examplez.shape[0]\n",
    "ufc_wins = fighter_results_examplez[fighter_results_examplez['Fight Summary'].str.contains('Win')].shape[0]\n",
    "ufc_losses = fighter_results_examplez[fighter_results_examplez['Fight Summary'].str.contains('Loss')].shape[0]\n",
    "ufc_decision_wins = fighter_results_examplez[fighter_results_examplez['Fight Summary'].str.contains('Win · Decision')].shape[0]\n",
    "ufc_decision_losses = fighter_results_examplez[fighter_results_examplez['Fight Summary'].str.contains('Loss · Decision')].shape[0]\n",
    "\n",
    "# add win/loss column, first word in Fight Summary\n",
    "fighter_results_examplez['Win/Loss'] = fighter_results_examplez['Fight Summary'].str.split(' ').str[0]\n",
    "\n",
    "# add fight sum\n",
    "\n",
    "# breakup Fight Summary by  ·, keep first two of the sections\n",
    "fighter_results_examplez['Fight Sum'] = fighter_results_examplez['Fight Summary'].str.split('·').str[:2]\n",
    "# get rid of the brackets\n",
    "fighter_results_examplez['Fight Sum'] = fighter_results_examplez['Fight Sum'].str.join(', ')\n",
    "fighter_results_examplez['Ending_Method'] = fighter_results_examplez['Fight Sum'].str.split(', ').str[1] \n",
    "\n",
    "# submission list to check for\n",
    "submission_list = ['Guillotine', 'Guillotine Choke', 'Choke', 'Rear Naked Choke', 'Americana', 'Kimura', 'Heel Hook', 'Triangle', 'Bulldog', 'Von Flue', 'Armbar']\n",
    "\n",
    "# Check if the 'Ending_Method' contains any substring from the submission_list\n",
    "fighter_results_examplez['Is_Submission'] = fighter_results_examplez['Ending_Method'].apply(lambda x: any(sub in x for sub in submission_list) if isinstance(x, str) else False)\n",
    "fighter_results_examplez['Finish'] = np.where(fighter_results_examplez['Is_Submission'], 'Submission', np.where(fighter_results_examplez['Ending_Method'].str.contains('Decision'), 'Decision', 'KO/TKO'))\n",
    "fighter_results_examplez['Finish'] = np.where(fighter_results_examplez['Ending_Method'].str.contains('Decision'), 'Decision', fighter_results_examplez['Finish'])\n",
    "\n",
    "ufc_ko_wins = fighter_results_examplez[fighter_results_examplez['Finish'] == 'KO/TKO'].shape[0]\n",
    "ufc_sub_wins = fighter_results_examplez[(fighter_results_examplez['Win/Loss'] == 'Win') & (fighter_results_examplez['Finish'] == 'Submission')].shape[0]\n",
    "ufc_sub_losses = fighter_results_examplez[(fighter_results_examplez['Win/Loss'] == 'Loss') & (fighter_results_examplez['Finish'] == 'Submission')].shape[0]\n",
    "ufc_tko_losses = fighter_results_examplez[(fighter_results_examplez['Win/Loss'] == 'Loss') & (fighter_results_examplez['Finish'] == 'KO/TKO')].shape[0]\n",
    "\n",
    "\n",
    "# Get UFC Win % \n",
    "ufc_win_percent = ufc_wins / ufc_fights\n",
    "ufc_ko_win_percent = ufc_ko_wins / ufc_fights\n",
    "ufc_sub_win_percent = ufc_sub_wins / ufc_fights\n",
    "ufc_decision_win_percent = ufc_decision_wins / ufc_fights\n",
    "ufc_loss_percent = ufc_losses / ufc_fights\n",
    "ufc_ko_loss_percent = ufc_tko_losses / ufc_fights\n",
    "ufc_sub_loss_percent = ufc_sub_losses / ufc_fights\n",
    "\n",
    "ufc_decision_loss_percent = ufc_decision_losses / ufc_fights\n",
    "\n",
    "\n",
    "\n",
    "# Make a df of all stats\n",
    "ufc_stats = pd.DataFrame({'Fighter': fighter_results_examplez['Fighter Name'].iloc[0],\n",
    "                            'UFC Fights': ufc_fights,\n",
    "                            'UFC Wins': ufc_wins,\n",
    "                            'UFC Losses': ufc_losses,\n",
    "                            'UFC Win %': ufc_win_percent,\n",
    "                            'UFC KO/TKO Wins': ufc_ko_wins,\n",
    "                            'UFC Submission Wins': ufc_sub_wins,\n",
    "                            'UFC Decision Wins': ufc_decision_wins,\n",
    "                            'UFC KO/TKO Losses': ufc_tko_losses,\n",
    "                            'UFC Submission Losses': ufc_sub_losses,\n",
    "                            'UFC Decision Losses': ufc_decision_losses,\n",
    "                            'UFC KO/TKO Win %': ufc_ko_win_percent,\n",
    "                            'UFC Submission Win %': ufc_sub_win_percent,\n",
    "                            'UFC Decision Win %': ufc_decision_win_percent,\n",
    "                            'UFC KO/TKO Loss %': ufc_ko_loss_percent,\n",
    "                            'UFC Submission Loss %': ufc_sub_loss_percent,\n",
    "                            'UFC Decision Loss %': ufc_decision_loss_percent}, index=[0])\n",
    "\n",
    "ufc_stats\n"
   ]
  },
  {
   "cell_type": "code",
   "execution_count": null,
   "metadata": {},
   "outputs": [],
   "source": [
    "# load records by promotion for sean strickland\n",
    "ss_rec = pd.read_csv('data/tapology/fighters/Sean Strickland_record_by_promotion.csv')\n",
    "ss_rec\n",
    "\n",
    "# get the promotions that are NOT the UFC\n",
    "non_ufc_promotions = ss_rec[~ss_rec['Promotion'].str.contains('UFC')]\n",
    "previous_promo = non_ufc_promotions['Promotion'].tolist()\n",
    "\n",
    "# sort by Wins\n",
    "non_ufc_promotions = non_ufc_promotions.sort_values(by=['Wins'], ascending=False)\n",
    "\n",
    "# keep only top\n",
    "non_ufc_promotions = non_ufc_promotions.head(1)\n",
    "\n",
    "# get the promotion name\n",
    "previous_promotion = non_ufc_promotions['Promotion'].tolist()[0]\n",
    "previous_promotion_win_percent = non_ufc_promotions['Wins'].tolist()[0] / (non_ufc_promotions['Wins'].tolist()[0] + non_ufc_promotions['Losses'].tolist()[0])\n",
    "\n",
    "# get number of fights in previous promotion\n",
    "previous_promotion_fights = non_ufc_promotions['Wins'].tolist()[0] + non_ufc_promotions['Losses'].tolist()[0]\n",
    "decision_win_percent = non_ufc_promotions['Decision Win Percent'].tolist()[0]\n",
    "ko_win_percent = non_ufc_promotions['KO/TKO Win Percent'].tolist()[0]\n",
    "sub_win_percent = non_ufc_promotions['Sub Win Percent'].tolist()[0]\n",
    "decision_loss_percent = non_ufc_promotions['Decision Loss Percent'].tolist()[0]\n",
    "ko_loss_percent = non_ufc_promotions['KO/TKO Loss Percent'].tolist()[0]\n",
    "sub_loss_percent = non_ufc_promotions['Sub Loss Percent'].tolist()[0]\n",
    "# make a df of all stats\n",
    "previous_promotion_stats = pd.DataFrame({'Fighter': fighter_results_examplez['Fighter Name'].iloc[0],\n",
    "                            'Previous Promotion': previous_promotion,\n",
    "                            'Previous Promotion Fights': previous_promotion_fights,\n",
    "                            'Previous Promotion Win %': previous_promotion_win_percent,\n",
    "                            'Previous Promotion KO/TKO Win %': ko_win_percent,\n",
    "                            'Previous Promotion Submission Win %': sub_win_percent,\n",
    "                            'Previous Promotion Decision Win %': decision_win_percent,\n",
    "                            'Previous Promotion KO/TKO Loss %': ko_loss_percent,\n",
    "                            'Previous Promotion Submission Loss %': sub_loss_percent,\n",
    "                            'Previous Promotion Decision Loss %': decision_loss_percent}, index=[0])\n",
    "\n",
    "previous_promotion_stats\n"
   ]
  },
  {
   "cell_type": "code",
   "execution_count": null,
   "metadata": {},
   "outputs": [],
   "source": [
    "# open details\n",
    "ss_det = pd.read_csv('data/tapology/fighters/Sean Strickland_details.csv')\n",
    "ss_det\n",
    "\n",
    "# get affiliation and Fighting Out Of\n",
    "affiliation = ss_det['Affiliation'].tolist()[0]\n",
    "print(f'Affiliation: {affiliation}')\n",
    "\n",
    "fighting_out_of = ss_det['Fighting out of'].tolist()[0]\n",
    "print(f'Fighting Out Of: {fighting_out_of}')\n",
    "\n",
    "# make df of all stats\n",
    "affiliation_stats = pd.DataFrame({'Fighter': fighter_results_examplez['Fighter Name'].iloc[0],\n",
    "                            'Affiliation': affiliation,\n",
    "                            'Fighting Out Of': fighting_out_of}, index=[0])\n",
    "\n",
    "affiliation_stats"
   ]
  },
  {
   "cell_type": "code",
   "execution_count": null,
   "metadata": {},
   "outputs": [],
   "source": [
    "# merge all stats\n",
    "all_stats = pd.merge(ufc_stats, previous_promotion_stats, on='Fighter', how='left')\n",
    "all_stats = pd.merge(all_stats, affiliation_stats, on='Fighter', how='left')\n",
    "all_stats"
   ]
  },
  {
   "cell_type": "code",
   "execution_count": null,
   "metadata": {},
   "outputs": [],
   "source": [
    "# # get number of UFC Fights\n",
    "\n",
    "# # open fighter file (example: Sean Strickland)\n",
    "# file = 'data/tapology/fighters/Sean Strickland_fight_results.csv'\n",
    "# fighter_results_example = pd.read_csv(file)\n",
    "# file_name = file.split('/')[-1]\n",
    "# fighter_name = file_name.split('_')[0]\n",
    "\n",
    "\n",
    "# # Add fighter Name\n",
    "# fighter_results_example['Fighter Name'] = fighter_name\n",
    "\n",
    "# # get number of UFC fights before today's date\n",
    "# today = datetime.date.today()\n",
    "# fighter_results_example['Fight Date'] = pd.to_datetime(fighter_results_example['Fight Date'])\n",
    "# fighter_results_example['Fight Date'] = fighter_results_example['Fight Date'].dt.date\n",
    "# fighter_results_example = fighter_results_example.sort_values(by=['Fight Date'], ascending=False)\n",
    "\n",
    "\n",
    "# fighter_results_examplez = fighter_results_example[fighter_results_example['Fight Date'] < today]\n",
    "# fighter_results_examplez['Event'] = fighter_results_examplez['Event'].astype(str).fillna(\"\")\n",
    "# fighter_results_examplez = fighter_results_examplez[fighter_results_examplez['Event'].str.contains('UFC')]\n",
    "# fighter_results_examplez = fighter_results_examplez[fighter_results_examplez['Fight Summary'] != 'Cancelled Bout']\n",
    "# ufc_fights = fighter_results_examplez.shape[0]\n",
    "# ufc_wins = fighter_results_examplez[fighter_results_examplez['Fight Summary'].str.contains('Win')].shape[0]\n",
    "# ufc_losses = fighter_results_examplez[fighter_results_examplez['Fight Summary'].str.contains('Loss')].shape[0]\n",
    "# ufc_decision_wins = fighter_results_examplez[fighter_results_examplez['Fight Summary'].str.contains('Win · Decision')].shape[0]\n",
    "# ufc_decision_losses = fighter_results_examplez[fighter_results_examplez['Fight Summary'].str.contains('Loss · Decision')].shape[0]\n",
    "\n",
    "# # add win/loss column, first word in Fight Summary\n",
    "# fighter_results_examplez['Win/Loss'] = fighter_results_examplez['Fight Summary'].str.split(' ').str[0]\n",
    "\n",
    "# # add fight sum\n",
    "\n",
    "# # breakup Fight Summary by  ·, keep first two of the sections\n",
    "# fighter_results_examplez['Fight Sum'] = fighter_results_examplez['Fight Summary'].str.split('·').str[:2]\n",
    "# # get rid of the brackets\n",
    "# fighter_results_examplez['Fight Sum'] = fighter_results_examplez['Fight Sum'].str.join(', ')\n",
    "# fighter_results_examplez['Ending_Method'] = fighter_results_examplez['Fight Sum'].str.split(', ').str[1] \n",
    "\n",
    "# # submission list to check for\n",
    "# submission_list = ['Guillotine', 'Guillotine Choke', 'Choke', 'Rear Naked Choke', 'Americana', 'Kimura', 'Heel Hook', 'Triangle', 'Bulldog', 'Von Flue', 'Armbar']\n",
    "\n",
    "# # Check if the 'Ending_Method' contains any substring from the submission_list\n",
    "# fighter_results_examplez['Is_Submission'] = fighter_results_examplez['Ending_Method'].apply(lambda x: any(sub in x for sub in submission_list))\n",
    "# fighter_results_examplez['Finish'] = np.where(fighter_results_examplez['Is_Submission'], 'Submission', np.where(fighter_results_examplez['Ending_Method'].str.contains('Decision'), 'Decision', 'KO/TKO'))\n",
    "# fighter_results_examplez['Finish'] = np.where(fighter_results_examplez['Ending_Method'].str.contains('Decision'), 'Decision', fighter_results_examplez['Finish'])\n",
    "\n",
    "# ufc_ko_wins = fighter_results_examplez[fighter_results_examplez['Finish'] == 'KO/TKO'].shape[0]\n",
    "# ufc_sub_wins = fighter_results_examplez[(fighter_results_examplez['Win/Loss'] == 'Win') & (fighter_results_examplez['Finish'] == 'Submission')].shape[0]\n",
    "# ufc_sub_losses = fighter_results_examplez[(fighter_results_examplez['Win/Loss'] == 'Loss') & (fighter_results_examplez['Finish'] == 'Submission')].shape[0]\n",
    "# ufc_tko_losses = fighter_results_examplez[(fighter_results_examplez['Win/Loss'] == 'Loss') & (fighter_results_examplez['Finish'] == 'KO/TKO')].shape[0]\n",
    "\n",
    "\n",
    "# # Get UFC Win % \n",
    "# ufc_win_percent = ufc_wins / ufc_fights\n",
    "# ufc_ko_win_percent = ufc_ko_wins / ufc_fights\n",
    "# ufc_sub_win_percent = ufc_sub_wins / ufc_fights\n",
    "# ufc_decision_win_percent = ufc_decision_wins / ufc_fights\n",
    "# ufc_loss_percent = ufc_losses / ufc_fights\n",
    "# ufc_ko_loss_percent = ufc_tko_losses / ufc_fights\n",
    "# ufc_sub_loss_percent = ufc_sub_losses / ufc_fights\n",
    "\n",
    "# ufc_decision_loss_percent = ufc_decision_losses / ufc_fights\n",
    "\n",
    "\n",
    "\n",
    "# # Make a df of all stats\n",
    "# ufc_stats = pd.DataFrame({'Fighter': fighter_results_examplez['Fighter Name'].iloc[0],\n",
    "#                             'UFC Fights': ufc_fights,\n",
    "#                             'UFC Wins': ufc_wins,\n",
    "#                             'UFC Losses': ufc_losses,\n",
    "#                             'UFC Win %': ufc_win_percent,\n",
    "#                             'UFC KO/TKO Wins': ufc_ko_wins,\n",
    "#                             'UFC Submission Wins': ufc_sub_wins,\n",
    "#                             'UFC Decision Wins': ufc_decision_wins,\n",
    "#                             'UFC KO/TKO Losses': ufc_tko_losses,\n",
    "#                             'UFC Submission Losses': ufc_sub_losses,\n",
    "#                             'UFC Decision Losses': ufc_decision_losses,\n",
    "#                             'UFC KO/TKO Win %': ufc_ko_win_percent,\n",
    "#                             'UFC Submission Win %': ufc_sub_win_percent,\n",
    "#                             'UFC Decision Win %': ufc_decision_win_percent,\n",
    "#                             'UFC KO/TKO Loss %': ufc_ko_loss_percent,\n",
    "#                             'UFC Submission Loss %': ufc_sub_loss_percent,\n",
    "#                             'UFC Decision Loss %': ufc_decision_loss_percent}, index=[0])\n",
    "\n",
    "# # load records by promotion for sean strickland\n",
    "# ss_rec = pd.read_csv('data/tapology/fighters/Sean Strickland_record_by_promotion.csv')\n",
    "\n",
    "# # get the promotions that are NOT the UFC\n",
    "# non_ufc_promotions = ss_rec[~ss_rec['Promotion'].str.contains('UFC')]\n",
    "# previous_promo = non_ufc_promotions['Promotion'].tolist()\n",
    "\n",
    "# # sort by Wins\n",
    "# non_ufc_promotions = non_ufc_promotions.sort_values(by=['Wins'], ascending=False)\n",
    "\n",
    "# # keep only top\n",
    "# non_ufc_promotions = non_ufc_promotions.head(1)\n",
    "\n",
    "# # get the promotion name\n",
    "# previous_promotion = non_ufc_promotions['Promotion'].tolist()[0]\n",
    "# previous_promotion_win_percent = non_ufc_promotions['Wins'].tolist()[0] / (non_ufc_promotions['Wins'].tolist()[0] + non_ufc_promotions['Losses'].tolist()[0])\n",
    "\n",
    "# # get number of fights in previous promotion\n",
    "# previous_promotion_fights = non_ufc_promotions['Wins'].tolist()[0] + non_ufc_promotions['Losses'].tolist()[0]\n",
    "# decision_win_percent = non_ufc_promotions['Decision Win Percent'].tolist()[0]\n",
    "# ko_win_percent = non_ufc_promotions['KO/TKO Win Percent'].tolist()[0]\n",
    "# sub_win_percent = non_ufc_promotions['Sub Win Percent'].tolist()[0]\n",
    "# decision_loss_percent = non_ufc_promotions['Decision Loss Percent'].tolist()[0]\n",
    "# ko_loss_percent = non_ufc_promotions['KO/TKO Loss Percent'].tolist()[0]\n",
    "# sub_loss_percent = non_ufc_promotions['Sub Loss Percent'].tolist()[0]\n",
    "# # make a df of all stats\n",
    "# previous_promotion_stats = pd.DataFrame({'Fighter': fighter_results_examplez['Fighter Name'].iloc[0],\n",
    "#                             'Previous Promotion': previous_promotion,\n",
    "#                             'Previous Promotion Fights': previous_promotion_fights,\n",
    "#                             'Previous Promotion Win %': previous_promotion_win_percent,\n",
    "#                             'Previous Promotion KO/TKO Win %': ko_win_percent,\n",
    "#                             'Previous Promotion Submission Win %': sub_win_percent,\n",
    "#                             'Previous Promotion Decision Win %': decision_win_percent,\n",
    "#                             'Previous Promotion KO/TKO Loss %': ko_loss_percent,\n",
    "#                             'Previous Promotion Submission Loss %': sub_loss_percent,\n",
    "#                             'Previous Promotion Decision Loss %': decision_loss_percent}, index=[0])\n",
    "\n",
    "\n",
    "# # open details\n",
    "# ss_det = pd.read_csv('data/tapology/fighters/Sean Strickland_details.csv')\n",
    "\n",
    "# # get affiliation and Fighting Out Of\n",
    "# affiliation = ss_det['Affiliation'].tolist()[0]\n",
    "# fighting_out_of = ss_det['Fighting out of'].tolist()[0]\n",
    "\n",
    "# # make df of all stats\n",
    "# affiliation_stats = pd.DataFrame({'Fighter': fighter_results_examplez['Fighter Name'].iloc[0],\n",
    "#                             'Affiliation': affiliation,\n",
    "#                             'Fighting Out Of': fighting_out_of}, index=[0])\n",
    "\n",
    "\n",
    "# # merge all stats\n",
    "# all_stats = pd.merge(ufc_stats, previous_promotion_stats, on='Fighter', how='left')\n",
    "# all_stats = pd.merge(all_stats, affiliation_stats, on='Fighter', how='left')\n",
    "# all_stats\n"
   ]
  },
  {
   "cell_type": "code",
   "execution_count": null,
   "metadata": {},
   "outputs": [],
   "source": [
    "def get_tapology_data(fighter_name, date, chosen_stat):\n",
    "        # Chosen Stat can be ufc_fights, ufc_Wins, ufc_losses, ufc_decision_wins, ufc_decision_losses, ufc_ko_wins, ufc_sub_wins, ufc_sub_losses, ufc_tko_losses, \n",
    "        # ufc_win_percent, ufc_ko_win_percent, ufc_sub_win_percent, ufc_decision_win_percent, ufc_loss_percent, ufc_ko_loss_percent, ufc_sub_loss_percent, \n",
    "        # ufc_decision_loss_percent, previous_promotion, previous_promotion_fights, previous_promotion_win_percent, previous_promotion_ko_win_percent, \n",
    "        # previous_promotion_sub_win_percent, previous_promotion_decision_win_percent, previous_promotion_loss_percent, previous_promotion_ko_loss_percent, \n",
    "        # previous_promotion_sub_loss_percent, previous_promotion_decision_loss_percent, affiliation, fighting_out_of\n",
    "    try:\n",
    "\n",
    "        # File paths\n",
    "        try:\n",
    "            results_file = f'data/tapology/fighters/{fighter_name}_fight_results.csv'\n",
    "            record_by_promotion_file = f'data/tapology/fighters/{fighter_name}_record_by_promotion.csv'\n",
    "            details_file = f'data/tapology/fighters/{fighter_name}_details.csv'\n",
    "\n",
    "            # Read\n",
    "            fighter_results = pd.read_csv(results_file)\n",
    "            fighter_results['Fighter Name'] = fighter_name\n",
    "\n",
    "        except FileNotFoundError as e:\n",
    "            return f\"Error: {e}. Check if the file exists and the path is correct.\"\n",
    "\n",
    "        except ValueError as e:\n",
    "            return f\"Error: Invalid value encountered. Details: {e}\"\n",
    "\n",
    "        except Exception as e:\n",
    "            return f\"An unexpected error occurred: {e}\"\n",
    "\n",
    "        # Make sure fighter results contain 'Fight Date' column. If not, return error\n",
    "        if 'Fight Date' not in fighter_results.columns:\n",
    "            return f\"Error: {results_file} does not contain 'Fight Date' column. Check if the file is correct.\"\n",
    "            \n",
    "\n",
    "        # Filtering UFC fights before date\n",
    "        chosen_date = datetime.datetime.strptime(date, '%Y-%m-%d').date()\n",
    "        fighter_results['Fight Date'] = pd.to_datetime(fighter_results['Fight Date']).dt.date\n",
    "        ufc_fights_df = fighter_results[(fighter_results['Fight Date'] < chosen_date) & \n",
    "                                        fighter_results['Event'].astype(str).str.contains('UFC') & \n",
    "                                        (fighter_results['Fight Summary'] != 'Cancelled Bout')]\n",
    "        \n",
    "        # Calculating UFC stats\n",
    "        # ufc fights\n",
    "        ufc_fights = ufc_fights_df.shape[0]\n",
    "        # ufc wins\n",
    "        ufc_wins = ufc_fights_df[ufc_fights_df['Fight Summary'].str.contains('Win')].shape[0]\n",
    "        ufc_losses = ufc_fights_df[ufc_fights_df['Fight Summary'].str.contains('Loss')].shape[0]\n",
    "        ufc_decision_wins = ufc_fights_df[ufc_fights_df['Fight Summary'].str.contains('Win · Decision')].shape[0]\n",
    "        ufc_decision_losses = ufc_fights_df[ufc_fights_df['Fight Summary'].str.contains('Loss · Decision')].shape[0]\n",
    "        ufc_fights_df['Win/Loss'] = ufc_fights_df['Fight Summary'].str.split(' ').str[0]\n",
    "        ufc_fights_df['Fight Sum'] = ufc_fights_df['Fight Summary'].str.split('·').str[:2].str.join(', ')\n",
    "        ufc_fights_df['Ending_Method'] = ufc_fights_df['Fight Sum'].str.split(', ').str[1] \n",
    "\n",
    "        # add sub list for calculating \n",
    "        submission_list = ['Guillotine', 'Guillotine Choke', 'Choke', 'Rear Naked Choke', 'Americana', 'Kimura', 'Heel Hook', 'Triangle', 'Bulldog', 'Von Flue', 'Armbar']\n",
    "        ufc_fights_df['Is_Submission'] = ufc_fights_df['Ending_Method'].apply(lambda x: any(sub in str(x) for sub in submission_list) if pd.notnull(x) else False)\n",
    "        ufc_fights_df['Finish'] = np.where(ufc_fights_df['Is_Submission'], 'Submission', np.where(ufc_fights_df['Ending_Method'].str.contains('Decision'), 'Decision', 'KO/TKO'))\n",
    "        ufc_fights_df['Finish'] = np.where(ufc_fights_df['Ending_Method'].str.contains('Decision'), 'Decision', ufc_fights_df['Finish'])\n",
    "\n",
    "        # UFC KO Wins\n",
    "        ufc_ko_wins = ufc_fights_df[ufc_fights_df['Finish'] == 'KO/TKO'].shape[0]\n",
    "        ufc_sub_wins = ufc_fights_df[(ufc_fights_df['Win/Loss'] == 'Win') & (ufc_fights_df['Finish'] == 'Submission')].shape[0]\n",
    "        ufc_sub_losses = ufc_fights_df[(ufc_fights_df['Win/Loss'] == 'Loss') & (ufc_fights_df['Finish'] == 'Submission')].shape[0]\n",
    "        ufc_tko_losses = ufc_fights_df[(ufc_fights_df['Win/Loss'] == 'Loss') & (ufc_fights_df['Finish'] == 'KO/TKO')].shape[0]\n",
    "        ufc_win_percent = ufc_wins / ufc_fights if ufc_fights != 0 else 0\n",
    "        ufc_ko_win_percent = ufc_ko_wins / ufc_fights if ufc_fights != 0 else 0\n",
    "        ufc_sub_win_percent = ufc_sub_wins / ufc_fights if ufc_fights != 0 else 0\n",
    "        ufc_decision_win_percent = ufc_decision_wins / ufc_fights if ufc_fights != 0 else 0\n",
    "        ufc_loss_percent = ufc_losses / ufc_fights if ufc_fights != 0 else 0\n",
    "        ufc_ko_loss_percent = ufc_tko_losses / ufc_fights if ufc_fights != 0 else 0\n",
    "        ufc_sub_loss_percent = ufc_sub_losses / ufc_fights if ufc_fights != 0 else 0\n",
    "        ufc_decision_loss_percent = ufc_decision_losses / ufc_fights if ufc_fights != 0 else 0\n",
    "\n",
    "        ufc_stats = pd.DataFrame({\n",
    "            'Fighter': fighter_name,\n",
    "            'UFC Fights': ufc_fights,\n",
    "            'UFC Wins': ufc_wins,\n",
    "            'UFC Losses': ufc_losses,\n",
    "            'UFC Win %': ufc_win_percent,\n",
    "            'UFC KO/TKO Wins': ufc_ko_wins,\n",
    "            'UFC Submission Wins': ufc_sub_wins,\n",
    "            'UFC Decision Wins': ufc_decision_wins,\n",
    "            'UFC KO/TKO Losses': ufc_tko_losses,\n",
    "            'UFC Submission Losses': ufc_sub_losses,\n",
    "            'UFC Decision Losses': ufc_decision_losses,\n",
    "            'UFC KO/TKO Win %': ufc_ko_win_percent,\n",
    "            'UFC Submission Win %': ufc_sub_win_percent,\n",
    "            'UFC Decision Win %': ufc_decision_win_percent,\n",
    "            'UFC KO/TKO Loss %': ufc_ko_loss_percent,\n",
    "            'UFC Submission Loss %': ufc_sub_loss_percent,\n",
    "            'UFC Decision Loss %': ufc_decision_loss_percent\n",
    "        }, index=[0])\n",
    "\n",
    "        \n",
    "        # Load Record by Promotion\n",
    "        record_by_promotion = pd.read_csv(record_by_promotion_file)\n",
    "        non_ufc_promotions = record_by_promotion[~record_by_promotion['Promotion'].str.contains('UFC')]\n",
    "        non_ufc_promotions = non_ufc_promotions.sort_values(by=['Wins'], ascending=False)\n",
    "        non_ufc_promotions = non_ufc_promotions.head(1)\n",
    "        try:\n",
    "            previous_promotion = non_ufc_promotions['Promotion'].tolist()[0]\n",
    "            denominator = non_ufc_promotions['Wins'].tolist()[0] + non_ufc_promotions['Losses'].tolist()[0]\n",
    "            previous_promotion_win_percent = non_ufc_promotions['Wins'].tolist()[0] / denominator if denominator != 0 else 0\n",
    "            previous_promotion_fights = non_ufc_promotions['Wins'].tolist()[0] + non_ufc_promotions['Losses'].tolist()[0]\n",
    "            decision_win_percent = non_ufc_promotions['Decision Win Percent'].tolist()[0]\n",
    "            ko_win_percent = non_ufc_promotions['KO/TKO Win Percent'].tolist()[0]\n",
    "            sub_win_percent = non_ufc_promotions['Sub Win Percent'].tolist()[0]\n",
    "            decision_loss_percent = non_ufc_promotions['Decision Loss Percent'].tolist()[0]\n",
    "            ko_loss_percent = non_ufc_promotions['KO/TKO Loss Percent'].tolist()[0]\n",
    "            sub_loss_percent = non_ufc_promotions['Sub Loss Percent'].tolist()[0]\n",
    "            previous_promotion_stats = pd.DataFrame({\n",
    "                'Fighter': fighter_name,\n",
    "                'Previous Promotion': previous_promotion,\n",
    "                'Previous Promotion Fights': previous_promotion_fights,\n",
    "                'Previous Promotion Win %': previous_promotion_win_percent,\n",
    "                'Previous Promotion KO/TKO Win %': ko_win_percent,\n",
    "                'Previous Promotion Submission Win %': sub_win_percent,\n",
    "                'Previous Promotion Decision Win %': decision_win_percent,\n",
    "                'Previous Promotion KO/TKO Loss %': ko_loss_percent,\n",
    "                'Previous Promotion Submission Loss %': sub_loss_percent,\n",
    "                'Previous Promotion Decision Loss %': decision_loss_percent\n",
    "            }, index=[0])\n",
    "        \n",
    "        except IndexError:\n",
    "            previous_promotion = None\n",
    "            previous_promotion_stats = pd.DataFrame({\n",
    "                'Fighter': fighter_name,\n",
    "                'Previous Promotion': 'None',\n",
    "                'Previous Promotion Fights': np.nan,\n",
    "                'Previous Promotion Win %': np.nan,\n",
    "                'Previous Promotion KO/TKO Win %': np.nan,\n",
    "                'Previous Promotion Submission Win %': np.nan,\n",
    "                'Previous Promotion Decision Win %': np.nan,\n",
    "                'Previous Promotion KO/TKO Loss %': np.nan,\n",
    "                'Previous Promotion Submission Loss %': np.nan,\n",
    "                'Previous Promotion Decision Loss %': np.nan\n",
    "            }, index=[0])\n",
    "\n",
    "            \n",
    "\n",
    "\n",
    "        # Load Details\n",
    "        details = pd.read_csv(details_file)\n",
    "        try:\n",
    "            affiliation = details['Affiliation'].tolist()[0]\n",
    "        except:\n",
    "            affiliation = None\n",
    "        try:\n",
    "            fighting_out_of = details['Fighting out of'].tolist()[0]\n",
    "        except:\n",
    "            fighting_out_of = None\n",
    "\n",
    "        affiliation_stats = pd.DataFrame({\n",
    "            'Fighter': fighter_name,\n",
    "            'Affiliation': affiliation,\n",
    "            'Fighting Out Of': fighting_out_of\n",
    "        }, index=[0])\n",
    "\n",
    "        # Merge all stats\n",
    "        all_stats = pd.merge(ufc_stats, previous_promotion_stats, on='Fighter', how='left')\n",
    "        all_stats = pd.merge(all_stats, affiliation_stats, on='Fighter', how='left')\n",
    "\n",
    "        # All Stats\n",
    "        fights = all_stats['UFC Fights'].tolist()[0]\n",
    "        wins = all_stats['UFC Wins'].tolist()[0]\n",
    "        losses = all_stats['UFC Losses'].tolist()[0]\n",
    "        win_percent = all_stats['UFC Win %'].tolist()[0]\n",
    "        ko_wins = all_stats['UFC KO/TKO Wins'].tolist()[0]\n",
    "        sub_wins = all_stats['UFC Submission Wins'].tolist()[0]\n",
    "        decision_wins = all_stats['UFC Decision Wins'].tolist()[0]\n",
    "        ko_losses = all_stats['UFC KO/TKO Losses'].tolist()[0]\n",
    "        sub_losses = all_stats['UFC Submission Losses'].tolist()[0]\n",
    "        decision_losses = all_stats['UFC Decision Losses'].tolist()[0]\n",
    "        ko_win_percent = all_stats['UFC KO/TKO Win %'].tolist()[0]\n",
    "        sub_win_percent = all_stats['UFC Submission Win %'].tolist()[0]\n",
    "        decision_win_percent = all_stats['UFC Decision Win %'].tolist()[0]\n",
    "        ko_loss_percent = all_stats['UFC KO/TKO Loss %'].tolist()[0]\n",
    "        sub_loss_percent = all_stats['UFC Submission Loss %'].tolist()[0]\n",
    "        decision_loss_percent = all_stats['UFC Decision Loss %'].tolist()[0]\n",
    "        previous_promotion = all_stats['Previous Promotion'].tolist()[0]\n",
    "        previous_promotion_fights = all_stats['Previous Promotion Fights'].tolist()[0]\n",
    "        previous_promotion_win_percent = all_stats['Previous Promotion Win %'].tolist()[0]\n",
    "        previous_promotion_ko_win_percent = all_stats['Previous Promotion KO/TKO Win %'].tolist()[0]\n",
    "        previous_promotion_sub_win_percent = all_stats['Previous Promotion Submission Win %'].tolist()[0]\n",
    "        previous_promotion_decision_win_percent = all_stats['Previous Promotion Decision Win %'].tolist()[0]\n",
    "        previous_promotion_ko_loss_percent = all_stats['Previous Promotion KO/TKO Loss %'].tolist()[0]\n",
    "        previous_promotion_sub_loss_percent = all_stats['Previous Promotion Submission Loss %'].tolist()[0]\n",
    "        previous_promotion_decision_loss_percent = all_stats['Previous Promotion Decision Loss %'].tolist()[0]\n",
    "        affiliation = all_stats['Affiliation'].tolist()[0]\n",
    "        fighting_out_of = all_stats['Fighting Out Of'].tolist()[0]\n",
    "\n",
    "        if chosen_stat == 'ufc_fights':\n",
    "            return fights\n",
    "        elif chosen_stat == 'ufc_wins':\n",
    "            return wins\n",
    "        elif chosen_stat == 'ufc_losses':\n",
    "            return losses\n",
    "        elif chosen_stat == 'ufc_win_percent':\n",
    "            return win_percent\n",
    "        elif chosen_stat == 'ufc_ko_wins':\n",
    "            return ko_wins\n",
    "        elif chosen_stat == 'ufc_sub_wins':\n",
    "            return sub_wins\n",
    "        elif chosen_stat == 'ufc_decision_wins':\n",
    "            return decision_wins\n",
    "        elif chosen_stat == 'ufc_ko_losses':\n",
    "            return ko_losses\n",
    "        elif chosen_stat == 'ufc_sub_losses':\n",
    "            return sub_losses\n",
    "        elif chosen_stat == 'ufc_decision_losses':\n",
    "            return decision_losses\n",
    "        elif chosen_stat == 'ufc_ko_win_percent':\n",
    "            return ko_win_percent\n",
    "        elif chosen_stat == 'ufc_sub_win_percent':\n",
    "            return sub_win_percent\n",
    "        elif chosen_stat == 'ufc_decision_win_percent':\n",
    "            return decision_win_percent\n",
    "        elif chosen_stat == 'ufc_ko_loss_percent':\n",
    "            return ko_loss_percent\n",
    "        elif chosen_stat == 'ufc_sub_loss_percent':\n",
    "            return sub_loss_percent\n",
    "        elif chosen_stat == 'ufc_decision_loss_percent':\n",
    "            return decision_loss_percent\n",
    "        elif chosen_stat == 'previous_promotion':\n",
    "            return previous_promotion\n",
    "        elif chosen_stat == 'previous_promotion_fights':\n",
    "            return previous_promotion_fights\n",
    "        elif chosen_stat == 'previous_promotion_win_percent':\n",
    "            return previous_promotion_win_percent\n",
    "        elif chosen_stat == 'previous_promotion_ko_win_percent':\n",
    "            return previous_promotion_ko_win_percent\n",
    "        elif chosen_stat == 'previous_promotion_sub_win_percent':\n",
    "            return previous_promotion_sub_win_percent\n",
    "        elif chosen_stat == 'previous_promotion_decision_win_percent':\n",
    "            return previous_promotion_decision_win_percent\n",
    "        elif chosen_stat == 'previous_promotion_ko_loss_percent':\n",
    "            return previous_promotion_ko_loss_percent\n",
    "        elif chosen_stat == 'previous_promotion_sub_loss_percent':\n",
    "            return previous_promotion_sub_loss_percent\n",
    "        elif chosen_stat == 'previous_promotion_decision_loss_percent':\n",
    "            return previous_promotion_decision_loss_percent\n",
    "        elif chosen_stat == 'affiliation':\n",
    "            return affiliation\n",
    "        elif chosen_stat == 'fighting_out_of':\n",
    "            return fighting_out_of\n",
    " \n",
    "    except:\n",
    "        return np.nan"
   ]
  },
  {
   "cell_type": "code",
   "execution_count": null,
   "metadata": {},
   "outputs": [],
   "source": [
    "fighter_name = \"Israel Adesanya\"  # You can replace this with any fighter's name for whom you have the required CSV data.\n",
    "stats = get_tapology_data(fighter_name, '2023-09-08', 'ufc_fights')\n",
    "stats"
   ]
  },
  {
   "cell_type": "markdown",
   "metadata": {},
   "source": [
    "Now, for each fight, you can calculate these metrics."
   ]
  },
  {
   "cell_type": "code",
   "execution_count": null,
   "metadata": {},
   "outputs": [],
   "source": [
    "# Load fights 15\n",
    "fights = pd.read_csv('data/final/aggregates/Double_Fights_DF_V15.csv')"
   ]
  },
  {
   "cell_type": "code",
   "execution_count": null,
   "metadata": {},
   "outputs": [],
   "source": [
    "fights.shape"
   ]
  },
  {
   "cell_type": "code",
   "execution_count": null,
   "metadata": {},
   "outputs": [],
   "source": [
    "fights['A_UFC_Fights_Total'] = fights.apply(lambda row: get_tapology_data(row['Fighter_A'], row['date_formatted'], 'ufc_fights'), axis=1)\n",
    "fights['B_UFC_Fights_Total'] = fights.apply(lambda row: get_tapology_data(row['Fighter_B'], row['date_formatted'], 'ufc_fights'), axis=1)\n"
   ]
  },
  {
   "cell_type": "code",
   "execution_count": null,
   "metadata": {},
   "outputs": [],
   "source": [
    "fights.head()"
   ]
  },
  {
   "cell_type": "code",
   "execution_count": null,
   "metadata": {},
   "outputs": [],
   "source": [
    "fights['A_UFC_Wins_Total'] = fights.apply(lambda row: get_tapology_data(row['Fighter_A'], row['date_formatted'], 'ufc_wins'), axis=1)\n",
    "fights['B_UFC_Wins_Total'] = fights.apply(lambda row: get_tapology_data(row['Fighter_B'], row['date_formatted'], 'ufc_wins'), axis=1)"
   ]
  },
  {
   "cell_type": "code",
   "execution_count": null,
   "metadata": {},
   "outputs": [],
   "source": [
    "# ufc losses\n",
    "fights['A_UFC_Losses_Total'] = fights.apply(lambda row: get_tapology_data(row['Fighter_A'], row['date_formatted'], 'ufc_losses'), axis=1)\n",
    "fights['B_UFC_Losses_Total'] = fights.apply(lambda row: get_tapology_data(row['Fighter_B'], row['date_formatted'], 'ufc_losses'), axis=1)"
   ]
  },
  {
   "cell_type": "code",
   "execution_count": null,
   "metadata": {},
   "outputs": [],
   "source": [
    "# ufc win percent\n",
    "fights['A_UFC_Win_Percent'] = fights.apply(lambda row: get_tapology_data(row['Fighter_A'], row['date_formatted'], 'ufc_win_percent'), axis=1)\n",
    "fights['B_UFC_Win_Percent'] = fights.apply(lambda row: get_tapology_data(row['Fighter_B'], row['date_formatted'], 'ufc_win_percent'), axis=1)"
   ]
  },
  {
   "cell_type": "code",
   "execution_count": null,
   "metadata": {},
   "outputs": [],
   "source": [
    "# ufc ko wins\n",
    "fights['A_UFC_KO_Wins_Total'] = fights.apply(lambda row: get_tapology_data(row['Fighter_A'], row['date_formatted'], 'ufc_ko_wins'), axis=1)\n",
    "fights['B_UFC_KO_Wins_Total'] = fights.apply(lambda row: get_tapology_data(row['Fighter_B'], row['date_formatted'], 'ufc_ko_wins'), axis=1)\n"
   ]
  },
  {
   "cell_type": "code",
   "execution_count": null,
   "metadata": {},
   "outputs": [],
   "source": [
    "# ufc sub wins\n",
    "fights['A_UFC_Sub_Wins_Total'] = fights.apply(lambda row: get_tapology_data(row['Fighter_A'], row['date_formatted'], 'ufc_sub_wins'), axis=1)\n",
    "fights['B_UFC_Sub_Wins_Total'] = fights.apply(lambda row: get_tapology_data(row['Fighter_B'], row['date_formatted'], 'ufc_sub_wins'), axis=1)"
   ]
  },
  {
   "cell_type": "code",
   "execution_count": null,
   "metadata": {},
   "outputs": [],
   "source": [
    "# decision wins\n",
    "fights['A_UFC_Decision_Wins_Total'] = fights.apply(lambda row: get_tapology_data(row['Fighter_A'], row['date_formatted'], 'ufc_decision_wins'), axis=1)\n",
    "fights['B_UFC_Decision_Wins_Total'] = fights.apply(lambda row: get_tapology_data(row['Fighter_B'], row['date_formatted'], 'ufc_decision_wins'), axis=1)"
   ]
  },
  {
   "cell_type": "code",
   "execution_count": null,
   "metadata": {},
   "outputs": [],
   "source": [
    "# ufc ko losses\n",
    "fights['A_UFC_KO_Losses_Total'] = fights.apply(lambda row: get_tapology_data(row['Fighter_A'], row['date_formatted'], 'ufc_ko_losses'), axis=1)\n",
    "fights['B_UFC_KO_Losses_Total'] = fights.apply(lambda row: get_tapology_data(row['Fighter_B'], row['date_formatted'], 'ufc_ko_losses'), axis=1)"
   ]
  },
  {
   "cell_type": "code",
   "execution_count": null,
   "metadata": {},
   "outputs": [],
   "source": [
    "# ufc sub losses\n",
    "fights['A_UFC_Sub_Losses_Total'] = fights.apply(lambda row: get_tapology_data(row['Fighter_A'], row['date_formatted'], 'ufc_sub_losses'), axis=1)\n",
    "fights['B_UFC_Sub_Losses_Total'] = fights.apply(lambda row: get_tapology_data(row['Fighter_B'], row['date_formatted'], 'ufc_sub_losses'), axis=1)"
   ]
  },
  {
   "cell_type": "code",
   "execution_count": null,
   "metadata": {},
   "outputs": [],
   "source": [
    "# decision losses\n",
    "fights['A_UFC_Decision_Losses_Total'] = fights.apply(lambda row: get_tapology_data(row['Fighter_A'], row['date_formatted'], 'ufc_decision_losses'), axis=1)\n",
    "fights['B_UFC_Decision_Losses_Total'] = fights.apply(lambda row: get_tapology_data(row['Fighter_B'], row['date_formatted'], 'ufc_decision_losses'), axis=1)\n"
   ]
  },
  {
   "cell_type": "code",
   "execution_count": null,
   "metadata": {},
   "outputs": [],
   "source": [
    "# ufc ko win percent\n",
    "fights['A_UFC_KO_Win_Percent'] = fights.apply(lambda row: get_tapology_data(row['Fighter_A'], row['date_formatted'], 'ufc_ko_win_percent'), axis=1)\n",
    "fights['B_UFC_KO_Win_Percent'] = fights.apply(lambda row: get_tapology_data(row['Fighter_B'], row['date_formatted'], 'ufc_ko_win_percent'), axis=1)"
   ]
  },
  {
   "cell_type": "code",
   "execution_count": null,
   "metadata": {},
   "outputs": [],
   "source": [
    "# ufc sub win percent\n",
    "fights['A_UFC_Sub_Win_Percent'] = fights.apply(lambda row: get_tapology_data(row['Fighter_A'], row['date_formatted'], 'ufc_sub_win_percent'), axis=1)\n",
    "fights['B_UFC_Sub_Win_Percent'] = fights.apply(lambda row: get_tapology_data(row['Fighter_B'], row['date_formatted'], 'ufc_sub_win_percent'), axis=1)"
   ]
  },
  {
   "cell_type": "code",
   "execution_count": null,
   "metadata": {},
   "outputs": [],
   "source": [
    "# ufc decision win percent\n",
    "fights['A_UFC_Decision_Win_Percent'] = fights.apply(lambda row: get_tapology_data(row['Fighter_A'], row['date_formatted'], 'ufc_decision_win_percent'), axis=1)\n",
    "fights['B_UFC_Decision_Win_Percent'] = fights.apply(lambda row: get_tapology_data(row['Fighter_B'], row['date_formatted'], 'ufc_decision_win_percent'), axis=1)"
   ]
  },
  {
   "cell_type": "code",
   "execution_count": null,
   "metadata": {},
   "outputs": [],
   "source": [
    "# ufc ko loss percent\n",
    "fights['A_UFC_KO_Loss_Percent'] = fights.apply(lambda row: get_tapology_data(row['Fighter_A'], row['date_formatted'], 'ufc_ko_loss_percent'), axis=1)\n",
    "fights['B_UFC_KO_Loss_Percent'] = fights.apply(lambda row: get_tapology_data(row['Fighter_B'], row['date_formatted'], 'ufc_ko_loss_percent'), axis=1)"
   ]
  },
  {
   "cell_type": "code",
   "execution_count": null,
   "metadata": {},
   "outputs": [],
   "source": [
    "# ufc sub loss percent\n",
    "fights['A_UFC_Sub_Loss_Percent'] = fights.apply(lambda row: get_tapology_data(row['Fighter_A'], row['date_formatted'], 'ufc_sub_loss_percent'), axis=1)\n",
    "fights['B_UFC_Sub_Loss_Percent'] = fights.apply(lambda row: get_tapology_data(row['Fighter_B'], row['date_formatted'], 'ufc_sub_loss_percent'), axis=1)   "
   ]
  },
  {
   "cell_type": "code",
   "execution_count": null,
   "metadata": {},
   "outputs": [],
   "source": [
    "# ufc decision loss percent\n",
    "fights['A_UFC_Decision_Loss_Percent'] = fights.apply(lambda row: get_tapology_data(row['Fighter_A'], row['date_formatted'], 'ufc_decision_loss_percent'), axis=1)\n",
    "fights['B_UFC_Decision_Loss_Percent'] = fights.apply(lambda row: get_tapology_data(row['Fighter_B'], row['date_formatted'], 'ufc_decision_loss_percent'), axis=1)"
   ]
  },
  {
   "cell_type": "code",
   "execution_count": null,
   "metadata": {},
   "outputs": [],
   "source": [
    "# previous promotion fights\n",
    "fights['A_Previous_Promotion_Fights'] = fights.apply(lambda row: get_tapology_data(row['Fighter_A'], row['date_formatted'], 'previous_promotion_fights'), axis=1)\n",
    "fights['B_Previous_Promotion_Fights'] = fights.apply(lambda row: get_tapology_data(row['Fighter_B'], row['date_formatted'], 'previous_promotion_fights'), axis=1)"
   ]
  },
  {
   "cell_type": "code",
   "execution_count": null,
   "metadata": {},
   "outputs": [],
   "source": [
    "# previous promotion win percent\n",
    "fights['A_Previous_Promotion_Win_Percent'] = fights.apply(lambda row: get_tapology_data(row['Fighter_A'], row['date_formatted'], 'previous_promotion_win_percent'), axis=1)\n",
    "fights['B_Previous_Promotion_Win_Percent'] = fights.apply(lambda row: get_tapology_data(row['Fighter_B'], row['date_formatted'], 'previous_promotion_win_percent'), axis=1)"
   ]
  },
  {
   "cell_type": "code",
   "execution_count": null,
   "metadata": {},
   "outputs": [],
   "source": [
    "# previous promotion ko win percent\n",
    "fights['A_Previous_Promotion_KO_Win_Percent'] = fights.apply(lambda row: get_tapology_data(row['Fighter_A'], row['date_formatted'], 'previous_promotion_ko_win_percent'), axis=1)\n",
    "fights['B_Previous_Promotion_KO_Win_Percent'] = fights.apply(lambda row: get_tapology_data(row['Fighter_B'], row['date_formatted'], 'previous_promotion_ko_win_percent'), axis=1)"
   ]
  },
  {
   "cell_type": "code",
   "execution_count": null,
   "metadata": {},
   "outputs": [],
   "source": [
    "# previous promotion sub win percent\n",
    "fights['A_Previous_Promotion_Sub_Win_Percent'] = fights.apply(lambda row: get_tapology_data(row['Fighter_A'], row['date_formatted'], 'previous_promotion_sub_win_percent'), axis=1)\n",
    "fights['B_Previous_Promotion_Sub_Win_Percent'] = fights.apply(lambda row: get_tapology_data(row['Fighter_B'], row['date_formatted'], 'previous_promotion_sub_win_percent'), axis=1)"
   ]
  },
  {
   "cell_type": "code",
   "execution_count": null,
   "metadata": {},
   "outputs": [],
   "source": [
    "# previous promotion decision win percent\n",
    "fights['A_Previous_Promotion_Decision_Win_Percent'] = fights.apply(lambda row: get_tapology_data(row['Fighter_A'], row['date_formatted'], 'previous_promotion_decision_win_percent'), axis=1)\n",
    "fights['B_Previous_Promotion_Decision_Win_Percent'] = fights.apply(lambda row: get_tapology_data(row['Fighter_B'], row['date_formatted'], 'previous_promotion_decision_win_percent'), axis=1)"
   ]
  },
  {
   "cell_type": "code",
   "execution_count": null,
   "metadata": {},
   "outputs": [],
   "source": [
    "# previous promotion ko loss percent\n",
    "fights['A_Previous_Promotion_KO_Loss_Percent'] = fights.apply(lambda row: get_tapology_data(row['Fighter_A'], row['date_formatted'], 'previous_promotion_ko_loss_percent'), axis=1)\n",
    "fights['B_Previous_Promotion_KO_Loss_Percent'] = fights.apply(lambda row: get_tapology_data(row['Fighter_B'], row['date_formatted'], 'previous_promotion_ko_loss_percent'), axis=1)\n"
   ]
  },
  {
   "cell_type": "code",
   "execution_count": null,
   "metadata": {},
   "outputs": [],
   "source": [
    "# previous promotion sub loss percent\n",
    "fights['A_Previous_Promotion_Sub_Loss_Percent'] = fights.apply(lambda row: get_tapology_data(row['Fighter_A'], row['date_formatted'], 'previous_promotion_sub_loss_percent'), axis=1)\n",
    "fights['B_Previous_Promotion_Sub_Loss_Percent'] = fights.apply(lambda row: get_tapology_data(row['Fighter_B'], row['date_formatted'], 'previous_promotion_sub_loss_percent'), axis=1)"
   ]
  },
  {
   "cell_type": "code",
   "execution_count": null,
   "metadata": {},
   "outputs": [],
   "source": [
    "# previous promotion decision loss percent\n",
    "fights['A_Previous_Promotion_Decision_Loss_Percent'] = fights.apply(lambda row: get_tapology_data(row['Fighter_A'], row['date_formatted'], 'previous_promotion_decision_loss_percent'), axis=1)\n",
    "fights['B_Previous_Promotion_Decision_Loss_Percent'] = fights.apply(lambda row: get_tapology_data(row['Fighter_B'], row['date_formatted'], 'previous_promotion_decision_loss_percent'), axis=1)"
   ]
  },
  {
   "cell_type": "markdown",
   "metadata": {},
   "source": [
    "#### Objects (non-numeric)"
   ]
  },
  {
   "cell_type": "code",
   "execution_count": null,
   "metadata": {},
   "outputs": [],
   "source": [
    "# previous promotion\n",
    "fights['A_Previous_Promotion'] = fights.apply(lambda row: get_tapology_data(row['Fighter_A'], row['date_formatted'], 'previous_promotion'), axis=1)\n",
    "fights['B_Previous_Promotion'] = fights.apply(lambda row: get_tapology_data(row['Fighter_B'], row['date_formatted'], 'previous_promotion'), axis=1)"
   ]
  },
  {
   "cell_type": "code",
   "execution_count": null,
   "metadata": {},
   "outputs": [],
   "source": [
    "# affiliation\n",
    "fights['A_Affiliation'] = fights.apply(lambda row: get_tapology_data(row['Fighter_A'], row['date_formatted'], 'affiliation'), axis=1)\n",
    "fights['B_Affiliation'] = fights.apply(lambda row: get_tapology_data(row['Fighter_B'], row['date_formatted'], 'affiliation'), axis=1)\n"
   ]
  },
  {
   "cell_type": "code",
   "execution_count": null,
   "metadata": {},
   "outputs": [],
   "source": [
    "# fighting out of\n",
    "fights['A_Fighting_Out_Of'] = fights.apply(lambda row: get_tapology_data(row['Fighter_A'], row['date_formatted'], 'fighting_out_of'), axis=1)\n",
    "fights['B_Fighting_Out_Of'] = fights.apply(lambda row: get_tapology_data(row['Fighter_B'], row['date_formatted'], 'fighting_out_of'), axis=1)"
   ]
  },
  {
   "cell_type": "code",
   "execution_count": null,
   "metadata": {},
   "outputs": [],
   "source": [
    "fights"
   ]
  },
  {
   "cell_type": "code",
   "execution_count": null,
   "metadata": {},
   "outputs": [],
   "source": [
    "# check new columns to ensure they have correct dtypes\n",
    "new_cols = fights.columns[-54:]\n",
    "new_cols"
   ]
  },
  {
   "cell_type": "code",
   "execution_count": null,
   "metadata": {},
   "outputs": [],
   "source": [
    "# get dtypes of new_cols\n",
    "fights[new_cols].dtypes"
   ]
  },
  {
   "cell_type": "code",
   "execution_count": null,
   "metadata": {},
   "outputs": [],
   "source": [
    "# do the same with the rest of the new columns except for A_Previous_Promotion, B_Previous_Promotion, A_Affiliation, B_Affiliation, A_Fighting_Out_Of, B_Fighting_Out_Of\n",
    "for col in new_cols:\n",
    "    if col not in ['A_Previous_Promotion', 'B_Previous_Promotion', 'A_Affiliation', 'B_Affiliation', 'A_Fighting_Out_Of', 'B_Fighting_Out_Of']:\n",
    "        fights[col] = pd.to_numeric(fights[col], errors='coerce')"
   ]
  },
  {
   "cell_type": "code",
   "execution_count": null,
   "metadata": {},
   "outputs": [],
   "source": [
    "# check dtypes again\n",
    "fights[new_cols].dtypes"
   ]
  },
  {
   "cell_type": "code",
   "execution_count": null,
   "metadata": {},
   "outputs": [],
   "source": [
    "# check A_"
   ]
  },
  {
   "cell_type": "code",
   "execution_count": null,
   "metadata": {},
   "outputs": [],
   "source": [
    "fights.to_csv('data/final/aggregates/Double_Fights_DF_V17.csv', index=False)"
   ]
  },
  {
   "cell_type": "markdown",
   "metadata": {},
   "source": [
    "### Add Body Size Features"
   ]
  },
  {
   "cell_type": "code",
   "execution_count": null,
   "metadata": {},
   "outputs": [],
   "source": [
    "fights = pd.read_csv('data/final/aggregates/Double_Fights_DF_V17.csv')"
   ]
  },
  {
   "cell_type": "code",
   "execution_count": null,
   "metadata": {},
   "outputs": [],
   "source": [
    "fights.head()"
   ]
  },
  {
   "cell_type": "code",
   "execution_count": null,
   "metadata": {},
   "outputs": [],
   "source": [
    "# check for columns with words 'height' or 'Height', 'reach' or 'Reach', return list of them\n",
    "height_cols = [col for col in fights.columns if 'height' in col.lower()]\n",
    "reach_cols = [col for col in fights.columns if 'reach' in col.lower()]\n",
    "\n",
    "size_cols = height_cols + reach_cols\n",
    "size_cols"
   ]
  },
  {
   "cell_type": "code",
   "execution_count": null,
   "metadata": {},
   "outputs": [],
   "source": [
    "# new feature: Body Length (Height - Leg Reach)\n",
    "fights['A_Body_Length'] = fights['A_Height'] - fights['A_Leg_Reach']\n",
    "fights['B_Body_Length'] = fights['B_Height'] - fights['B_Leg_Reach']\n",
    "\n",
    "# new feature: Body Length Difference\n",
    "fights['Body_Length_Dif'] = fights['A_Body_Length'] - fights['B_Body_Length']\n",
    "\n",
    "# new feature: Body Length to Height Ratio\n",
    "fights['A_Body_Length_to_Height_Ratio'] = fights['A_Body_Length'] / fights['A_Height']\n",
    "fights['B_Body_Length_to_Height_Ratio'] = fights['B_Body_Length'] / fights['B_Height']\n",
    "\n",
    "# new feature: Body Length to Height Ratio Difference\n",
    "fights['Body_Length_to_Height_Ratio_Dif'] = fights['A_Body_Length_to_Height_Ratio'] - fights['B_Body_Length_to_Height_Ratio']\n",
    "\n",
    "# new feature: Body Length to Reach Ratio\n",
    "fights['A_Body_Length_to_Reach_Ratio'] = fights['A_Body_Length'] / fights['A_Reach']\n",
    "fights['B_Body_Length_to_Reach_Ratio'] = fights['B_Body_Length'] / fights['B_Reach']\n",
    "\n",
    "# new feature: Body Length to Reach Ratio Difference\n",
    "fights['Body_Length_to_Reach_Ratio_Dif'] = fights['A_Body_Length_to_Reach_Ratio'] - fights['B_Body_Length_to_Reach_Ratio']\n",
    "\n",
    "# new feature: Body Length to Leg Reach Ratio\n",
    "fights['A_Body_Length_to_Leg_Reach_Ratio'] = fights['A_Body_Length'] / fights['A_Leg_Reach']\n",
    "fights['B_Body_Length_to_Leg_Reach_Ratio'] = fights['B_Body_Length'] / fights['B_Leg_Reach']\n",
    "\n",
    "# new feature: Body Length to Leg Reach Ratio Difference\n",
    "fights['Body_Length_to_Leg_Reach_Ratio_Dif'] = fights['A_Body_Length_to_Leg_Reach_Ratio'] - fights['B_Body_Length_to_Leg_Reach_Ratio']\n",
    "\n"
   ]
  },
  {
   "cell_type": "code",
   "execution_count": null,
   "metadata": {},
   "outputs": [],
   "source": [
    "# save to csv\n",
    "fights.to_csv('data/final/aggregates/Double_Fights_DF_V18.csv', index=False)"
   ]
  },
  {
   "cell_type": "code",
   "execution_count": null,
   "metadata": {},
   "outputs": [],
   "source": [
    "fights = pd.read_csv('data/final/aggregates/Double_Fights_DF_V18.csv')"
   ]
  },
  {
   "cell_type": "code",
   "execution_count": null,
   "metadata": {},
   "outputs": [],
   "source": []
  },
  {
   "cell_type": "markdown",
   "metadata": {},
   "source": [
    "Get rid of affiliations (A_Affiliation, B_Affiliation) with errors, replace with \"unknown\""
   ]
  },
  {
   "cell_type": "code",
   "execution_count": null,
   "metadata": {},
   "outputs": [],
   "source": [
    "# Get rid of affiliations (A_Affiliation, B_Affiliation) with errors, replace with \"unknown\"\n",
    "# if affiliation contains \"error\", replace with \"unknown\"\n",
    "fights['A_Affiliation'] = fights['A_Affiliation'].apply(lambda x: 'unknown' if 'error' in str(x).lower() else x)\n",
    "fights['B_Affiliation'] = fights['B_Affiliation'].apply(lambda x: 'unknown' if 'error' in str(x).lower() else x)"
   ]
  },
  {
   "cell_type": "code",
   "execution_count": null,
   "metadata": {},
   "outputs": [],
   "source": [
    "fights.to_csv('data/final/aggregates/Double_Fights_DF_V18.csv', index=False)"
   ]
  },
  {
   "cell_type": "markdown",
   "metadata": {},
   "source": [
    "### Add Rule Changes to UFC Database"
   ]
  },
  {
   "cell_type": "code",
   "execution_count": null,
   "metadata": {},
   "outputs": [],
   "source": [
    "# load fights\n",
    "fights = pd.read_csv('data/final/aggregates/Double_Fights_DF_V18.csv')"
   ]
  },
  {
   "cell_type": "code",
   "execution_count": null,
   "metadata": {},
   "outputs": [],
   "source": [
    "# Ruleset 1 is through 2014, Ruleset 2 is 2015 through 2016, Ruleset 3 is 2017 through July 27, 2022, and Ruleset 4 is July 28, 2022 and beyond.\n",
    "# new feature: Ruleset\n",
    "fights['Ruleset'] = fights['date'].apply(lambda x: 1 if x <= '2014-12-31' else (2 if x <= '2016-12-31' else (3 if x <= '2022-07-27' else 4)))\n"
   ]
  },
  {
   "cell_type": "code",
   "execution_count": null,
   "metadata": {},
   "outputs": [],
   "source": [
    "fights.to_csv('data/final/aggregates/Double_Fights_DF_V19.csv', index=False)"
   ]
  },
  {
   "cell_type": "code",
   "execution_count": null,
   "metadata": {},
   "outputs": [],
   "source": []
  },
  {
   "cell_type": "code",
   "execution_count": null,
   "metadata": {},
   "outputs": [],
   "source": []
  },
  {
   "cell_type": "code",
   "execution_count": null,
   "metadata": {},
   "outputs": [],
   "source": []
  },
  {
   "cell_type": "code",
   "execution_count": null,
   "metadata": {},
   "outputs": [],
   "source": []
  },
  {
   "cell_type": "code",
   "execution_count": null,
   "metadata": {},
   "outputs": [],
   "source": []
  },
  {
   "cell_type": "code",
   "execution_count": null,
   "metadata": {},
   "outputs": [],
   "source": []
  }
 ],
 "metadata": {
  "kernelspec": {
   "display_name": "Python 3.10.8 ('Trav310')",
   "language": "python",
   "name": "python3"
  },
  "language_info": {
   "codemirror_mode": {
    "name": "ipython",
    "version": 3
   },
   "file_extension": ".py",
   "mimetype": "text/x-python",
   "name": "python",
   "nbconvert_exporter": "python",
   "pygments_lexer": "ipython3",
   "version": "3.11.3"
  },
  "orig_nbformat": 4,
  "vscode": {
   "interpreter": {
    "hash": "f69e36f0e9b2c8d9f319b417484f14b77c91d7bef950ad448542405eb1e0e594"
   }
  }
 },
 "nbformat": 4,
 "nbformat_minor": 2
}
