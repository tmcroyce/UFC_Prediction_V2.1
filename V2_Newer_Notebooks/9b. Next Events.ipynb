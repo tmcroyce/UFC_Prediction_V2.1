{
 "cells": [
  {
   "attachments": {},
   "cell_type": "markdown",
   "metadata": {},
   "source": [
    "# Get Upcoming Event for Streamlit"
   ]
  },
  {
   "cell_type": "code",
   "execution_count": null,
   "metadata": {},
   "outputs": [],
   "source": [
    "# Load Packages\n",
    "import pandas as pd\n",
    "import numpy as np\n",
    "import matplotlib.pyplot as plt\n",
    "%matplotlib inline\n",
    "import matplotlib.ticker as mtick\n",
    "import sqlite3\n",
    "import seaborn as sns\n",
    "from matplotlib.pyplot import figure\n",
    "from bs4 import BeautifulSoup\n",
    "import time\n",
    "import requests     # to get images\n",
    "import shutil       # to save files locally\n",
    "import datetime\n",
    "from scipy.stats import norm\n",
    "import warnings\n",
    "warnings.filterwarnings('ignore')\n",
    "from random import randint\n",
    "import  random\n",
    "import os\n",
    "os.chdir('C:/Users/Travis/OneDrive/Data Science/Personal_Projects/Sports/UFC_Prediction_V2')\n",
    "\n",
    "from cmath import nan\n",
    "from selenium import webdriver\n",
    "from selenium.webdriver.common.keys import Keys\n",
    "from bs4 import BeautifulSoup \n",
    "from selenium.webdriver.common.by import By\n",
    "from selenium.webdriver.support.ui import WebDriverWait\n",
    "from selenium.webdriver.support import expected_conditions as EC"
   ]
  },
  {
   "attachments": {},
   "cell_type": "markdown",
   "metadata": {},
   "source": [
    "## Getting NEXT Fights & Scraping URLS"
   ]
  },
  {
   "cell_type": "code",
   "execution_count": null,
   "metadata": {},
   "outputs": [],
   "source": [
    "def get_next_event_ufcstats():\n",
    "\n",
    "    # scrape UFCStats website for next event\n",
    "\n",
    "    url = 'http://www.ufcstats.com/statistics/events/upcoming'\n",
    "    page = requests.get(url)\n",
    "    soup = BeautifulSoup(page.content, 'html.parser')\n",
    "    # get events\n",
    "    event1 = soup.find('td', class_='b-statistics__table-col')\n",
    "    event1_txt = soup.find('td', class_='b-statistics__table-col').text\n",
    "    event_txt = event1_txt.replace('   ', '').replace('\\n', '').strip()\n",
    "    event_title = event_txt.split('  ')[0]\n",
    "    event_date = event_txt.split('  ')[1]\n",
    "    event1_url = event1.find('a')['href']\n",
    "    data = pd.DataFrame({'event_title': [event_title], 'event_url': [event1_url], 'event_date': [event_date]})\n",
    "\n",
    "\n",
    "    return data"
   ]
  },
  {
   "cell_type": "code",
   "execution_count": null,
   "metadata": {},
   "outputs": [],
   "source": [
    "next_event = get_next_event_ufcstats()\n",
    "next_event"
   ]
  },
  {
   "attachments": {},
   "cell_type": "markdown",
   "metadata": {},
   "source": [
    "#### Get all Data from Fighters in Next Event"
   ]
  },
  {
   "cell_type": "code",
   "execution_count": null,
   "metadata": {},
   "outputs": [],
   "source": [
    "def get_fighter_urls(event_details_url):\n",
    "\n",
    "    # scrape UFCStats website for next event\n",
    "    # Returns a dataframe with fighter names, fight urls, and fight number\n",
    "\n",
    "    page = requests.get(event_details_url)\n",
    "    soup = BeautifulSoup(page.content, 'html.parser')\n",
    "    # get events\n",
    "    events = soup.find_all('tr', class_='b-fight-details__table-row b-fight-details__table-row__hover js-fight-details-click')\n",
    "    n = 0\n",
    "    next_event_data = pd.DataFrame()\n",
    "\n",
    "    for event in events:\n",
    "        fighters = events[n].find_all('p', class_='b-fight-details__table-text')\n",
    "        fighter1 = fighters[0].text\n",
    "        fighter1 = fighter1.replace('  ', '').replace('\\n', '').strip()\n",
    "        fighter2 = fighters[1].text\n",
    "        fighter2 = fighter2.replace('  ', '').replace('\\n', '').strip()\n",
    "        fighter1_url = fighters[0].find('a')['href']\n",
    "        fighter2_url = fighters[1].find('a')['href']\n",
    "        next_event_data = next_event_data.append({'fighter1' :fighter1, 'fighter2:' : fighter2, 'fighter1_url': fighter1_url, 'fighter2_url':fighter2_url, 'fight#' : n+1}, ignore_index = True)\n",
    "        n += 1\n",
    "\n",
    "    return next_event_data"
   ]
  },
  {
   "cell_type": "code",
   "execution_count": null,
   "metadata": {},
   "outputs": [],
   "source": [
    "fighter_urls = get_fighter_urls(next_event['event_url'].values[0])\n",
    "fighter_urls"
   ]
  },
  {
   "cell_type": "code",
   "execution_count": null,
   "metadata": {},
   "outputs": [],
   "source": [
    "def get_next_events_ufc_com(url):\n",
    "\n",
    "    # make a looping version of get_next_events(url) \n",
    "    \n",
    "    page = requests.get(url)\n",
    "    soup = BeautifulSoup(page.content, 'html.parser')\n",
    "    # get events\n",
    "    events = soup.find_all('div', class_='c-card-event--result__info')\n",
    "    n = 0\n",
    "    next_events_data = pd.DataFrame()\n",
    "\n",
    "    for event in events:\n",
    "        event_txt = events[n].text\n",
    "        event_url = events[n].find('a')['href']\n",
    "        event_url = 'https://www.ufc.com' + event_url\n",
    "        event_title = event_txt.split('\\n')[1]\n",
    "        event_time = event_txt.split('/')[1]\n",
    "        next_events_data = next_events_data.append({'event_title': event_title, 'event_url': event_url, 'event_date': event_time}, ignore_index=True)\n",
    "        n += 1\n",
    "\n",
    "    # only keep next event\n",
    "    next_events_data = next_events_data.head(1)\n",
    "\n",
    "    # add matchup\n",
    "    main_fighter1 = next_events_data['event_title'].str.split('vs').str[0]\n",
    "    main_fighter2 = next_events_data['event_title'].str.split('vs').str[1]\n",
    "\n",
    "    next_events_data['main_fighter1'] = main_fighter1\n",
    "    next_events_data['main_fighter2'] = main_fighter2\n",
    "    return next_events_data"
   ]
  },
  {
   "cell_type": "code",
   "execution_count": null,
   "metadata": {},
   "outputs": [],
   "source": [
    "next= get_next_events_ufc_com('https://www.ufc.com/events')\n",
    "next"
   ]
  },
  {
   "attachments": {},
   "cell_type": "markdown",
   "metadata": {},
   "source": [
    "#### Get Next Events from UFCStats"
   ]
  },
  {
   "cell_type": "code",
   "execution_count": null,
   "metadata": {},
   "outputs": [],
   "source": [
    "url = 'http://www.ufcstats.com/statistics/events/upcoming'\n",
    "page = requests.get(url)\n",
    "soup = BeautifulSoup(page.content, 'html.parser')\n",
    "    # get events\n",
    "event = soup.findAll('i', class_ = 'b-statistics__table-content')\n",
    "urls = soup.findAll('a', class_ = 'b-link b-link_style_black')\n",
    "dates = soup.findAll('span', class_ = 'b-statistics__date')\n",
    "n = 0\n",
    "next_event_data = pd.DataFrame()\n",
    "\n",
    "for i in event:\n",
    "    # get event title, date, and url\n",
    "    title = event[n].text\n",
    "    title = title.replace('\\n', '').strip()\n",
    "    ti = title.split('  ')[0]\n",
    "    date = dates[n].text.replace('\\n', '').strip()\n",
    "    #date = date.split('  ')[1]\n",
    "    url = urls[n]['href']\n",
    "    next_event_data = next_event_data.append({'event_title': ti, 'event_url': url, 'event_date': date}, ignore_index=True)\n",
    "    n += 1\n",
    "\n",
    "\n",
    "next_event_data['fighters'] = next_event_data['event_title'].str.split(': ').str[1]\n",
    "next_event_data['main_fighter1'] = next_event_data['fighters'].str.split(' vs. ').str[0]\n",
    "next_event_data['main_fighter2'] = next_event_data['fighters'].str.split(' vs. ').str[1]\n",
    "next_event_data = next_event_data.head(1)\n",
    "next_event_data\n"
   ]
  },
  {
   "attachments": {},
   "cell_type": "markdown",
   "metadata": {},
   "source": [
    "#### Get BestFightOdds Url"
   ]
  },
  {
   "cell_type": "code",
   "execution_count": null,
   "metadata": {},
   "outputs": [],
   "source": [
    "def my_search_bfo(fighter1, fighter2):\n",
    "\n",
    "    # Get urls for bestfightodds for events from GOOGLE, as it is more consistant than bfo search\n",
    "\n",
    "    try:\n",
    "        time.sleep(5)\n",
    "        url = 'https://www.google.com/search?query=site:bestfightodds.com ' + fighter1 + ' ' + fighter2\n",
    "        header = {\n",
    "                    \"User-Agent\": \"Mozilla/5.0 (X11; Linux x86_64) AppleWebKit/537.36 (KHTML, like Gecko) Chrome/50.0.2661.75 Safari/537.36\",\n",
    "                    \"X-Requested-With\": \"XMLHttpRequest\"\n",
    "    }\n",
    "        r = requests.get(url, headers = header)\n",
    "        # get all links\n",
    "        soup = BeautifulSoup(r.text, 'html.parser')\n",
    "        links = soup.find_all('a')\n",
    "        # keep only events\n",
    "        goog_response = [n['href'] for n in links if 'events' in n['href']]\n",
    "        # clean up the link so it is only the url\n",
    "        goog_response = [n.replace('/url?q=', '') for n in goog_response]\n",
    "        # cut off the begining up until https\n",
    "        goog_response = [n[n.find('https'):] for n in goog_response]\n",
    "        # cut off the end after the &\n",
    "        goog_response = [n[:n.find('&')] for n in goog_response]\n",
    "        # keep only the first one\n",
    "        goog_response = goog_response[0]\n",
    "        return goog_response\n",
    "    except:\n",
    "        return np.nan\n"
   ]
  },
  {
   "cell_type": "code",
   "execution_count": null,
   "metadata": {},
   "outputs": [],
   "source": [
    "# add the urls to the dataframe\n",
    "next['bfo_url'] = next.apply(lambda x: my_search_bfo(x['main_fighter1'], x['main_fighter2']), axis=1)"
   ]
  },
  {
   "cell_type": "code",
   "execution_count": null,
   "metadata": {},
   "outputs": [],
   "source": [
    "next"
   ]
  },
  {
   "attachments": {},
   "cell_type": "markdown",
   "metadata": {},
   "source": [
    "#### Add ufc_stats url"
   ]
  },
  {
   "cell_type": "code",
   "execution_count": null,
   "metadata": {},
   "outputs": [],
   "source": [
    "next['ufcstats_url'] = next_event_data['event_url']\n",
    "next['ufc_stats_event_title'] = next_event_data['event_title']\n",
    "next['ufc_stats_date'] = next_event_data['event_date']"
   ]
  },
  {
   "cell_type": "code",
   "execution_count": null,
   "metadata": {},
   "outputs": [],
   "source": [
    "next"
   ]
  },
  {
   "cell_type": "code",
   "execution_count": null,
   "metadata": {},
   "outputs": [],
   "source": [
    "next.to_csv('data/final/events/upcoming_events_urls/' + str(next['event_title'].values[0]) + '.csv', index=False)"
   ]
  },
  {
   "attachments": {},
   "cell_type": "markdown",
   "metadata": {},
   "source": [
    "## Streamlit Functionality"
   ]
  },
  {
   "attachments": {},
   "cell_type": "markdown",
   "metadata": {},
   "source": [
    "We also need it to work in streamlit, without taking forever. So, there should be an updated fights_df with the NEXT fights added, which can then update the calculations on a consistant basis. "
   ]
  },
  {
   "cell_type": "code",
   "execution_count": null,
   "metadata": {},
   "outputs": [],
   "source": [
    "def get_next_events_ufc_com(url):\n",
    "\n",
    "    # make a looping version of get_next_events(url) \n",
    "\n",
    "    page = requests.get(url)\n",
    "    soup = BeautifulSoup(page.content, 'html.parser')\n",
    "    # get events\n",
    "    events = soup.find_all('div', class_='c-card-event--result__info')\n",
    "    n = 0\n",
    "    next_events_data = pd.DataFrame()\n",
    "\n",
    "    for event in events:\n",
    "        event_txt = events[n].text\n",
    "        event_url = events[n].find('a')['href']\n",
    "        event_url = 'https://www.ufc.com' + event_url\n",
    "        event_title = event_txt.split('\\n')[1]\n",
    "        event_time = event_txt.split('/')[1]\n",
    "        next_events_data = next_events_data.append({'event_title': event_title, 'event_url': event_url, 'event_date': event_time}, ignore_index=True)\n",
    "        n += 1\n",
    "\n",
    "    # only keep top 6 events\n",
    "    next_events_data = next_events_data.head(6)\n",
    "    return next_events_data"
   ]
  },
  {
   "cell_type": "code",
   "execution_count": null,
   "metadata": {},
   "outputs": [],
   "source": [
    "nel = get_next_events_ufc_com('https://www.ufc.com/events')\n",
    "nel"
   ]
  },
  {
   "cell_type": "code",
   "execution_count": null,
   "metadata": {},
   "outputs": [],
   "source": [
    "def get_fighter_urls(event_details_url):\n",
    "    page = requests.get(event_details_url)\n",
    "    soup = BeautifulSoup(page.content, 'html.parser')\n",
    "    # get events\n",
    "    events = soup.find_all('tr', class_='b-fight-details__table-row b-fight-details__table-row__hover js-fight-details-click')\n",
    "    n = 0\n",
    "    next_event_data = pd.DataFrame()\n",
    "\n",
    "    for event in events:\n",
    "        fighters = events[n].find_all('p', class_='b-fight-details__table-text')\n",
    "        fighter1 = fighters[0].text\n",
    "        fighter1 = fighter1.replace('  ', '').replace('\\n', '').strip()\n",
    "        fighter2 = fighters[1].text\n",
    "        fighter2 = fighter2.replace('  ', '').replace('\\n', '').strip()\n",
    "        fighter1_url = fighters[0].find('a')['href']\n",
    "        fighter2_url = fighters[1].find('a')['href']\n",
    "        # get weight class\n",
    "        weight_class = events[n].text\n",
    "        wc = weight_class.find('Matchup')\n",
    "        # delete everything from the end of word \"Matchup\" to the begining of the weight class\n",
    "        weight_class = weight_class[wc:]\n",
    "\n",
    "        weight_class = weight_class.replace('\\n', '')\n",
    "        weight_class = weight_class.replace('Matchup', '')\n",
    "        weight_class = weight_class.replace('  ', '').strip()\n",
    "        # delete everything other then the word with \"weight\" in it\n",
    "        #weight_class = weight_class.split(' ')\n",
    "        #weight_class = [n for n in weight_class if 'weight' in n]\n",
    "        next_event_data = next_event_data.append({'fighter1' :fighter1, 'fighter2:' : fighter2, 'fighter1_url': fighter1_url, \n",
    "                                                    'fighter2_url':fighter2_url, 'fight#' : n+1, 'fight_weightclass' :weight_class}, ignore_index = True)\n",
    "        n += 1\n",
    "\n",
    "    return next_event_data\n"
   ]
  },
  {
   "cell_type": "code",
   "execution_count": null,
   "metadata": {},
   "outputs": [],
   "source": [
    "# test\n",
    "test = get_fighter_urls('http://ufcstats.com/event-details/56ec58954158966a')"
   ]
  },
  {
   "cell_type": "code",
   "execution_count": null,
   "metadata": {},
   "outputs": [],
   "source": [
    "# Get events from ufcstats\n",
    "\n",
    "url = 'http://www.ufcstats.com/statistics/events/upcoming'\n",
    "page = requests.get(url)\n",
    "soup = BeautifulSoup(page.content, 'html.parser')\n",
    "    # get events\n",
    "event = soup.findAll('i', class_ = 'b-statistics__table-content')\n",
    "urls = soup.findAll('a', class_ = 'b-link b-link_style_black')\n",
    "dates = soup.findAll('span', class_ = 'b-statistics__date')\n",
    "n = 0\n",
    "next_event_data = pd.DataFrame()\n",
    "\n",
    "for i in event:\n",
    "    # get event title, date, and url\n",
    "    title = event[n].text\n",
    "    title = title.replace('\\n', '').strip()\n",
    "    ti = title.split('  ')[0]\n",
    "    date = dates[n].text.replace('\\n', '').strip()\n",
    "    #date = date.split('  ')[1]\n",
    "    url = urls[n]['href']\n",
    "    next_event_data = next_event_data.append({'event_title': ti, 'event_url': url, 'event_date': date}, ignore_index=True)\n",
    "    n += 1\n",
    "\n",
    "next_event_data= next_event_data.head(3)\n",
    "next_event_data"
   ]
  },
  {
   "cell_type": "code",
   "execution_count": null,
   "metadata": {},
   "outputs": [],
   "source": [
    "fighter_urls = get_fighter_urls(next_event_data['event_url'].values[0])\n",
    "fighter_urls"
   ]
  },
  {
   "cell_type": "code",
   "execution_count": null,
   "metadata": {},
   "outputs": [],
   "source": [
    "# turn event_date to actual date\n",
    "next_event_data['event_date'] = pd.to_datetime(next_event_data['event_date']).dt.date\n",
    "event_date = next_event_data['event_date'].values[0]\n",
    "event_date"
   ]
  },
  {
   "cell_type": "code",
   "execution_count": null,
   "metadata": {},
   "outputs": [],
   "source": [
    "next_fight_df = fighter_urls[['fighter1', 'fighter2:', 'fight_weightclass']]\n",
    "next_fight_df.columns = ['Fighter_A', 'Fighter_B', 'fight_weightclass']\n",
    "next_fight_df['date'] = event_date\n",
    "next_fight_df"
   ]
  },
  {
   "attachments": {},
   "cell_type": "markdown",
   "metadata": {},
   "source": [
    "#### Get Columns to Add Features\n",
    "\n"
   ]
  },
  {
   "cell_type": "code",
   "execution_count": null,
   "metadata": {},
   "outputs": [],
   "source": [
    "# load final df to get columns from \n",
    "\n",
    "fights = pd.read_csv('data/final/aggregates/Double_Fights_DF_V14.csv') "
   ]
  },
  {
   "cell_type": "code",
   "execution_count": null,
   "metadata": {},
   "outputs": [],
   "source": [
    "fights.columns.to_list()"
   ]
  },
  {
   "cell_type": "code",
   "execution_count": null,
   "metadata": {},
   "outputs": [],
   "source": [
    "fights.columns"
   ]
  },
  {
   "attachments": {},
   "cell_type": "markdown",
   "metadata": {},
   "source": [
    "### Add Features\n",
    "\n",
    "- Start with Fighter Names\n",
    "- Add odds data\n"
   ]
  },
  {
   "cell_type": "code",
   "execution_count": null,
   "metadata": {},
   "outputs": [],
   "source": [
    "next_fight_df"
   ]
  },
  {
   "cell_type": "code",
   "execution_count": null,
   "metadata": {},
   "outputs": [],
   "source": [
    "def get_odds(url):\n",
    "    \n",
    "        # to scrape odds from BFO\n",
    "        # you can scrape by pretending to be a browser\n",
    "\n",
    "        header = {\n",
    "        \"User-Agent\": \"Mozilla/5.0 (X11; Linux x86_64) AppleWebKit/537.36 (KHTML, like Gecko) Chrome/50.0.2661.75 Safari/537.36\",\n",
    "        \"X-Requested-With\": \"XMLHttpRequest\"\n",
    "        }\n",
    "        r = requests.get(url, headers = header)\n",
    "        dfs = pd.read_html(r.text)\n",
    "        data = dfs[1]\n",
    "        data.rename(columns={'Unnamed: 0': 'fighter'}, inplace=True)\n",
    "        data['event_odds_url'] = url\n",
    "        event_name = url.split('/')[4]\n",
    "        data['event_id'] = event_name\n",
    "        data.to_csv('data/final/events/odds_per_event/' + event_name + '.csv', index=False)\n",
    "        return data"
   ]
  },
  {
   "cell_type": "code",
   "execution_count": null,
   "metadata": {},
   "outputs": [],
   "source": [
    "event_odds = get_odds(next['bfo_url'].values[0])"
   ]
  },
  {
   "cell_type": "code",
   "execution_count": null,
   "metadata": {},
   "outputs": [],
   "source": [
    "event_odds = event_odds[['fighter', 'DraftKings', '5D', 'Ref']]\n",
    "event_odds"
   ]
  },
  {
   "cell_type": "code",
   "execution_count": null,
   "metadata": {},
   "outputs": [],
   "source": [
    "# get rid of arrows in all columns\n",
    "event_odds['DraftKings'] = event_odds['DraftKings'].str.replace('▲', '')\n",
    "event_odds['DraftKings'] = event_odds['DraftKings'].str.replace('▼', '')\n",
    "event_odds['5D'] = event_odds['5D'].str.replace('▲', '')\n",
    "event_odds['5D'] = event_odds['5D'].str.replace('▼', '')\n",
    "event_odds['Ref'] = event_odds['Ref'].str.replace('▲', '')\n",
    "event_odds['Ref'] = event_odds['Ref'].str.replace('▼', '')"
   ]
  },
  {
   "cell_type": "code",
   "execution_count": null,
   "metadata": {},
   "outputs": [],
   "source": [
    "# turn to numeric\n",
    "event_odds['DraftKings'] = pd.to_numeric(event_odds['DraftKings'])\n",
    "event_odds['5D'] = pd.to_numeric(event_odds['5D'])\n",
    "event_odds['Ref'] = pd.to_numeric(event_odds['Ref'])"
   ]
  },
  {
   "cell_type": "code",
   "execution_count": null,
   "metadata": {},
   "outputs": [],
   "source": [
    "def get_odds_for_fighter(fighter):\n",
    "    try:\n",
    "        data = event_odds[event_odds['fighter'] == fighter]\n",
    "        dk_odds = data['DraftKings'].values[0]\n",
    "        return dk_odds\n",
    "    except:\n",
    "        return np.nan\n"
   ]
  },
  {
   "cell_type": "code",
   "execution_count": null,
   "metadata": {},
   "outputs": [],
   "source": [
    "next_fight_df['Fighter_A_Odds'] = next_fight_df['Fighter_A'].apply(get_odds_for_fighter)\n",
    "next_fight_df['Fighter_B_Odds'] = next_fight_df['Fighter_B'].apply(get_odds_for_fighter)"
   ]
  },
  {
   "cell_type": "code",
   "execution_count": null,
   "metadata": {},
   "outputs": [],
   "source": [
    "next_fight_df"
   ]
  },
  {
   "attachments": {},
   "cell_type": "markdown",
   "metadata": {},
   "source": [
    "#### Add Odds Change"
   ]
  },
  {
   "cell_type": "code",
   "execution_count": null,
   "metadata": {},
   "outputs": [],
   "source": [
    "def get_bfodds(event_url):\n",
    "    # scrape the changes in odds by event url\n",
    "    \n",
    "    driver = webdriver.Chrome()\n",
    "    driver.get(event_url)\n",
    "\n",
    "    # click show all\n",
    "    driver.find_element_by_class_name('event-swing-expand').click()\n",
    "    #wait 2 seconds\n",
    "    time.sleep(2)\n",
    "\n",
    "    event_swing_container = driver.find_element_by_id('event-swing-container')\n",
    "    event_swing_container.text\n",
    "\n",
    "\n",
    "    # the first half of the text is the odds changes, the seconds half are the names. Lets match them up. \n",
    "    # first split the text by new line\n",
    "    event_swing_container.text.split('\\n')\n",
    "\n",
    "    # get the names. You can identify them because they will be more than 5 characters long\n",
    "    names = [x for x in event_swing_container.text.split('\\n') if len(x) > 5]\n",
    "    names\n",
    "\n",
    "    # get the odds changes\n",
    "    odds_changes = [x for x in event_swing_container.text.split('\\n') if '%' in x]\n",
    "    odds_changes\n",
    "\n",
    "    # get the event name\n",
    "    event_name = driver.find_element_by_class_name('table-header')\n",
    "    # name is h1 in event_name\n",
    "    name = event_name.find_element_by_tag_name('h1')\n",
    "    event = name.text\n",
    "\n",
    "    # get the url\n",
    "    url = driver.current_url\n",
    "\n",
    "\n",
    "    # create a dataframe\n",
    "    df = pd.DataFrame({'names': names, 'odds_changes': odds_changes, 'event': event, 'event_url': url})\n",
    "    \n",
    "    #close the driver\n",
    "    driver.close()\n",
    "\n",
    "    return df"
   ]
  },
  {
   "cell_type": "code",
   "execution_count": null,
   "metadata": {},
   "outputs": [],
   "source": [
    "odds_changes = get_bfodds(next['bfo_url'].values[0])\n",
    "odds_changes.head(2)"
   ]
  },
  {
   "cell_type": "code",
   "execution_count": null,
   "metadata": {},
   "outputs": [],
   "source": [
    "# if ':' in odds_changes['odds_changes'].values[0]:\n",
    "# split the odds changes by : and keep the second part\n",
    "def fix_odds_changes(odds):\n",
    "    if ':' in odds:\n",
    "        oddz =  odds.split(':')[1].strip()\n",
    "        # remove the % sign\n",
    "        oddz = oddz.replace('%', '')\n",
    "        oddz = float(oddz)\n",
    "        return oddz\n",
    "    else:\n",
    "        oddz = odds.replace('%', '')\n",
    "        oddz = float(oddz)\n",
    "        return oddz"
   ]
  },
  {
   "cell_type": "code",
   "execution_count": null,
   "metadata": {},
   "outputs": [],
   "source": [
    "def fix_names(name):\n",
    "    if \"Change since opening\" in name:\n",
    "        return name.split('Change since opening')[0].strip()[:-1]\n",
    "    else:\n",
    "        return name"
   ]
  },
  {
   "cell_type": "code",
   "execution_count": null,
   "metadata": {},
   "outputs": [],
   "source": [
    "# fix the odds changes\n",
    "odds_changes['odds_changes'] = odds_changes['odds_changes'].apply(fix_odds_changes)"
   ]
  },
  {
   "cell_type": "code",
   "execution_count": null,
   "metadata": {},
   "outputs": [],
   "source": [
    "odds_changes['names'] = odds_changes['names'].apply(fix_names)"
   ]
  },
  {
   "cell_type": "code",
   "execution_count": null,
   "metadata": {},
   "outputs": [],
   "source": [
    "odds_changes"
   ]
  },
  {
   "cell_type": "code",
   "execution_count": null,
   "metadata": {},
   "outputs": [],
   "source": [
    "def get_odds_changes_for_fighter(fighter):\n",
    "    try:\n",
    "        data = odds_changes[odds_changes['names'] == fighter]\n",
    "        odds_change = data['odds_changes'].values[0]\n",
    "        return odds_change\n",
    "    except:\n",
    "        return np.nan"
   ]
  },
  {
   "cell_type": "code",
   "execution_count": null,
   "metadata": {},
   "outputs": [],
   "source": [
    "next_fight_df['Fighter_A_Odds_Change'] = next_fight_df['Fighter_A'].apply(get_odds_changes_for_fighter)\n",
    "next_fight_df['Fighter_B_Odds_Change'] = next_fight_df['Fighter_B'].apply(get_odds_changes_for_fighter)\n"
   ]
  },
  {
   "cell_type": "code",
   "execution_count": null,
   "metadata": {},
   "outputs": [],
   "source": [
    "next_fight_df"
   ]
  },
  {
   "attachments": {},
   "cell_type": "markdown",
   "metadata": {},
   "source": [
    "### Add Distribution Stat Features"
   ]
  },
  {
   "cell_type": "code",
   "execution_count": null,
   "metadata": {},
   "outputs": [],
   "source": [
    "# for each column in all_metric_cols, get the mean, std, etc. for each fighter\n",
    "def get_fighter_running_dist_stats(fighter, date, col_to_get, stat_to_calc):\n",
    "    data = fights[(fights['Fighter_A'] == fighter) | (fights['Fighter_B'] == fighter)]\n",
    "\n",
    "    # only get fights before the date\n",
    "    datey = pd.to_datetime(date)\n",
    "    data['date'] = pd.to_datetime(data['date'])\n",
    "    data = data[data['date'] < datey]\n",
    "\n",
    "    # fighter could be either fighter A or fighter B\n",
    "    fighter_data = pd.DataFrame()\n",
    "    # when fighter is fighter A, get all fighter A data and copy it to fighter_data\n",
    "\n",
    "    # fighterA df\n",
    "    fighterA_df = fights[fights['Fighter_A'] == fighter]\n",
    "    fighterB_df = fights[fights['Fighter_B'] == fighter]\n",
    "\n",
    "    # keep only the fighters columns date, FighterA, and the col_to_get, \n",
    "    # do same for B, change col names from B to A, and concat\n",
    "    fighterA_df = fighterA_df[['date', 'Fighter_A', 'A_' + col_to_get]]\n",
    "    fighterA_df.rename(columns={'A_' + col_to_get: col_to_get, 'Fighter_A': 'fighter'}, inplace=True)\n",
    "    fighterB_df = fighterB_df[['date', 'Fighter_B', 'B_' + col_to_get]]\n",
    "    fighterB_df.rename(columns={'B_' + col_to_get: col_to_get, 'Fighter_B': 'fighter'}, inplace=True)\n",
    "\n",
    "    # append the dataframes on fighter\n",
    "    fighter_data = fighter_data.append(fighterA_df)\n",
    "    fighter_data = fighter_data.append(fighterB_df)\n",
    "\n",
    "    # get the chosen statistic\n",
    "    if stat_to_calc == 'mean':\n",
    "        x = fighter_data[col_to_get].mean()\n",
    "    elif stat_to_calc == 'std':\n",
    "        x = fighter_data[col_to_get].std()\n",
    "    elif stat_to_calc == 'median':\n",
    "        x = fighter_data[col_to_get].median()  \n",
    "    return x"
   ]
  },
  {
   "cell_type": "code",
   "execution_count": null,
   "metadata": {},
   "outputs": [],
   "source": [
    "# get non-specific column names for feature creation\n",
    "\n",
    "dif_cols = [n for n in fights.columns if 'Dif_' in n]\n",
    "A_cols = [n for n in fights.columns if n.startswith('A_')]\n",
    "all_metric_cols = A_cols + dif_cols\n",
    "A_cols2 = pd.DataFrame(A_cols)\n",
    "A_cols2['nonspecific'] = A_cols2[0].str[2:]\n",
    "the_cols = list(A_cols2['nonspecific'].unique())\n",
    "the_cols = the_cols[:34]\n",
    "the_cols"
   ]
  },
  {
   "cell_type": "code",
   "execution_count": null,
   "metadata": {},
   "outputs": [],
   "source": [
    "for col in the_cols:\n",
    "    for stat in ['mean', 'std', 'median']:\n",
    "        next_fight_df['A_Rolling_' + col + '_' + stat] = next_fight_df.apply(lambda row: get_fighter_running_dist_stats(row['Fighter_A'], row['date'], col, stat), axis=1)\n",
    "        next_fight_df['B_Rolling_' + col + '_' + stat] = next_fight_df.apply(lambda row: get_fighter_running_dist_stats(row['Fighter_B'], row['date'], col, stat), axis=1)"
   ]
  },
  {
   "cell_type": "code",
   "execution_count": null,
   "metadata": {},
   "outputs": [],
   "source": [
    "fights"
   ]
  },
  {
   "attachments": {},
   "cell_type": "markdown",
   "metadata": {},
   "source": [
    "### Features: Top-Down Averages (Typical UFC Style)"
   ]
  },
  {
   "cell_type": "code",
   "execution_count": null,
   "metadata": {},
   "outputs": [],
   "source": [
    "def get_top_down_averages(fighter, date, col_to_get, dataframe):\n",
    "\n",
    "    # for each column in all_metric_cols, calculate the top-down averages, as opposed to bottom-up\n",
    "\n",
    "    data = dataframe[(dataframe['Fighter_A'] == fighter) | (dataframe['Fighter_B'] == fighter)]\n",
    "\n",
    "    # only get fights before the date\n",
    "\n",
    "    datey = pd.to_datetime(date)\n",
    "    data['date'] = pd.to_datetime(data['date'])\n",
    "    data = data[data['date'] < datey]\n",
    "\n",
    "    # fighter could be either fighter A or fighter B\n",
    "\n",
    "    fighter_data = pd.DataFrame()\n",
    "\n",
    "    # when fighter is fighter A, get all fighter A data and copy it to fighter_data\n",
    "\n",
    "    # fighterA df\n",
    "\n",
    "    fighterA_df = dataframe[dataframe['Fighter_A'] == fighter]\n",
    "    fighterB_df = dataframe[dataframe['Fighter_B'] == fighter]\n",
    "    \n",
    "    # keep only the fighters columns date, FighterA, and the col_to_get, \n",
    "    # do same for B, change col names from B to A, and concat\n",
    "\n",
    "    fighterA_df = fighterA_df[['date', 'Fighter_A', 'A_' + col_to_get]]\n",
    "    fighterA_df.rename(columns={'A_' + col_to_get: col_to_get, 'Fighter_A': 'fighter'}, inplace=True)\n",
    "    fighterB_df = fighterB_df[['date', 'Fighter_B', 'B_' + col_to_get]]\n",
    "    fighterB_df.rename(columns={'B_' + col_to_get: col_to_get, 'Fighter_B': 'fighter'}, inplace=True)\n",
    "    fighter_data = fighter_data.append(fighterA_df)\n",
    "    fighter_data = fighter_data.append(fighterB_df)\n",
    "\n",
    "    # append the dataframes on fighter\n",
    "\n",
    "    fighter_data = fighter_data.append(fighterA_df)\n",
    "    fighter_data = fighter_data.append(fighterB_df)\n",
    "\n",
    "    # get the average\n",
    "\n",
    "    tot = fighter_data[col_to_get].sum()\n",
    "    num = fighter_data[col_to_get].count()\n",
    "    x = tot / num\n",
    "    return x"
   ]
  },
  {
   "cell_type": "code",
   "execution_count": null,
   "metadata": {},
   "outputs": [],
   "source": [
    "# NEW\n",
    "\n",
    "for col in the_cols:\n",
    "    next_fight_df['A_topdown_Avg_' + col ] = next_fight_df.apply(lambda row: get_top_down_averages(row['Fighter_A'], row['date'], col, fights), axis=1)\n",
    "    next_fight_df['B_topdown_Avg_' + col ] = next_fight_df.apply(lambda row: get_top_down_averages(row['Fighter_B'], row['date'], col, fights), axis=1)"
   ]
  },
  {
   "attachments": {},
   "cell_type": "markdown",
   "metadata": {},
   "source": [
    "### Add Opponent Stats"
   ]
  },
  {
   "cell_type": "code",
   "execution_count": null,
   "metadata": {},
   "outputs": [],
   "source": [
    "def get_opponent_averages(datafrm, date, col_to_get, fighter):\n",
    "    col_to_get = 'B_' + col_to_get\n",
    "    data = datafrm[(datafrm['Fighter_A'] == fighter) | (datafrm['Fighter_B'] == fighter)]\n",
    "    datey = pd.to_datetime(date)\n",
    "    data['date'] = pd.to_datetime(data['date'])\n",
    "    data = data[data['date'] < datey]\n",
    "\n",
    "    fighter_data = pd.DataFrame()\n",
    "\n",
    "    fighterA_df = datafrm[datafrm['Fighter_A'] == fighter]\n",
    "    fighterB_df = datafrm[datafrm['Fighter_B'] == fighter]\n",
    "\n",
    "    # switch A_ and B_ to B_ and A_ in fighterB_df\n",
    "    fighterB_df.columns = [n.replace('A_', 'C_') if n.startswith('A_') else n for n in fighterB_df.columns]\n",
    "    fighterB_df.columns = [n.replace('B_', 'D_') if n.startswith('B_') else n for n in fighterB_df.columns]\n",
    "    fighterB_df.columns = [n.replace('C_', 'B_') if n.startswith('C_') else n for n in fighterB_df.columns]\n",
    "    fighterB_df.columns = [n.replace('D_', 'A_') if n.startswith('D_') else n for n in fighterB_df.columns]\n",
    "\n",
    "    # copy fighter_A and fighter_B columns to new dataframe, then switch fighter_A and fighter_B columns\n",
    "\n",
    "    fighterB_df.rename(columns={'Fighter_A': 'Fighter_A2', 'Fighter_B': 'Fighter_B2'}, inplace=True)\n",
    "    fighterB_df.rename(columns={'Fighter_B2': 'Fighter_A', 'Fighter_A2': 'Fighter_B'}, inplace=True)\n",
    "\n",
    "    fighter_data = fighter_data.append(fighterA_df)\n",
    "    fighter_data = fighter_data.append(fighterB_df)\n",
    "\n",
    "    # get sum of col to get\n",
    "    col_sum = fighter_data[col_to_get].sum()\n",
    "    # get number of fights\n",
    "    num_fights = len(fighter_data)\n",
    "    # get average\n",
    "    avg = col_sum / num_fights\n",
    "\n",
    "    return avg\n"
   ]
  },
  {
   "cell_type": "code",
   "execution_count": null,
   "metadata": {},
   "outputs": [],
   "source": [
    "n=0\n",
    "\n",
    "for col in the_cols:\n",
    "    next_fight_df['A_Opp_Avg_' + col] = next_fight_df.apply(lambda row: get_opponent_averages(fights, row['date'], col, row['Fighter_A']), axis=1)\n",
    "    next_fight_df['B_Opp_Avg_' + col] = next_fight_df.apply(lambda row: get_opponent_averages(fights, row['date'], col, row['Fighter_B']), axis=1)\n",
    "    n = n+1\n",
    "    print(f' {col}, #{n} / {len(the_cols)} done.')"
   ]
  },
  {
   "cell_type": "code",
   "execution_count": null,
   "metadata": {},
   "outputs": [],
   "source": [
    "next_fight_df"
   ]
  },
  {
   "attachments": {},
   "cell_type": "markdown",
   "metadata": {},
   "source": [
    "### Feature: Rolling Career Stat Differentials"
   ]
  },
  {
   "attachments": {},
   "cell_type": "markdown",
   "metadata": {},
   "source": [
    "#### 1) Mean (Average)"
   ]
  },
  {
   "cell_type": "code",
   "execution_count": null,
   "metadata": {},
   "outputs": [],
   "source": [
    "rolling_mean_cols= [n for n in fights.columns if 'Rolling' in n and 'mean' in n]\n",
    "# no difs\n",
    "rolling_mean_cols= [n for n in rolling_mean_cols if 'Dif' not in n]\n",
    "rolling_mean_cols = pd.DataFrame(rolling_mean_cols)\n",
    "rolling_mean_cols['nonspecific'] = rolling_mean_cols[0].str[2:]\n",
    "rmc = rolling_mean_cols['nonspecific'].unique()\n",
    "rmc"
   ]
  },
  {
   "cell_type": "code",
   "execution_count": null,
   "metadata": {},
   "outputs": [],
   "source": [
    "for col in rmc:\n",
    "    next_fight_df['Dif_' + col] = next_fight_df['A_' + col] - next_fight_df['B_' + col]\n",
    "\n",
    "next_fight_df.head(3)"
   ]
  },
  {
   "attachments": {},
   "cell_type": "markdown",
   "metadata": {},
   "source": [
    "#### 2) Median (Average)"
   ]
  },
  {
   "cell_type": "code",
   "execution_count": null,
   "metadata": {},
   "outputs": [],
   "source": [
    "rolling_median_cols= [n for n in fights.columns if 'Rolling' in n and 'median' in n]\n",
    "# no difs\n",
    "rolling_median_cols= [n for n in rolling_median_cols if 'Dif' not in n]\n",
    "rolling_median_cols = pd.DataFrame(rolling_median_cols)\n",
    "rolling_median_cols['nonspecific'] = rolling_median_cols[0].str[2:]\n",
    "rmc = rolling_median_cols['nonspecific'].unique()"
   ]
  },
  {
   "cell_type": "code",
   "execution_count": null,
   "metadata": {},
   "outputs": [],
   "source": [
    "for col in rmc:\n",
    "    next_fight_df['Dif_' + col] = next_fight_df['A_' + col] - next_fight_df['B_' + col]\n",
    "\n",
    "next_fight_df.head(3)"
   ]
  },
  {
   "attachments": {},
   "cell_type": "markdown",
   "metadata": {},
   "source": [
    "#### 3) Standard Deviations"
   ]
  },
  {
   "cell_type": "code",
   "execution_count": null,
   "metadata": {},
   "outputs": [],
   "source": [
    "rolling_std_cols= [n for n in fights.columns if 'Rolling' in n and 'std' in n]\n",
    "# no difs\n",
    "rolling_std_cols= [n for n in rolling_std_cols if 'Dif' not in n]\n",
    "\n",
    "rolling_std_cols = pd.DataFrame(rolling_std_cols)\n",
    "rolling_std_cols['nonspecific'] = rolling_std_cols[0].str[2:]\n",
    "rsc = rolling_std_cols['nonspecific'].unique()\n",
    "rsc"
   ]
  },
  {
   "cell_type": "code",
   "execution_count": null,
   "metadata": {},
   "outputs": [],
   "source": [
    "for col in rsc:\n",
    "    next_fight_df['Dif_' + col] = next_fight_df['A_' + col] - next_fight_df['B_' + col]\n",
    "\n",
    "next_fight_df.head(3)"
   ]
  },
  {
   "attachments": {},
   "cell_type": "markdown",
   "metadata": {},
   "source": [
    "### Feature: UFC Bio Data"
   ]
  },
  {
   "cell_type": "code",
   "execution_count": null,
   "metadata": {},
   "outputs": [],
   "source": [
    "fighter_bios = pd.read_csv('data/final/aggregates/All_Fighter_Bios.csv')\n",
    "fighter_bios.head(1)"
   ]
  },
  {
   "cell_type": "code",
   "execution_count": null,
   "metadata": {},
   "outputs": [],
   "source": [
    "# if missing place of birth, replace with 'Unknown'\n",
    "fighter_bios['Place of Birth'].fillna('Unknown', inplace=True)\n",
    "\n",
    "# if missing fighting style, replace with 'Unknown'\n",
    "fighter_bios['Fighting style'].fillna('Unknown', inplace=True)\n",
    "\n",
    "# if missing Trains at, replace with 'Unknown'\n",
    "fighter_bios['Trains at'].fillna('Unknown', inplace=True)\n",
    "\n",
    "# if missing status, replace with 'Unknown'\n",
    "fighter_bios['Status'].fillna('Unknown', inplace=True)\n",
    "\n",
    "# if missing age, replace with median\n",
    "fighter_bios['Age'].fillna(fighter_bios['Age'].median(), inplace=True)\n",
    "\n",
    "# if missing height, replace with median -- thankfully not many missing, as \n",
    "# this is a somewhat important feature\n",
    "fighter_bios['Height'].fillna(fighter_bios['Height'].median(), inplace=True)\n",
    "\n",
    "# if missing weight, replace with median -- thankfully not many missing\n",
    "fighter_bios['Weight'].fillna(fighter_bios['Weight'].median(), inplace=True)"
   ]
  },
  {
   "cell_type": "code",
   "execution_count": null,
   "metadata": {},
   "outputs": [],
   "source": [
    "def get_bio_data(fighter, stat):\n",
    "    try:\n",
    "        data = fighter_bios[fighter_bios['fighter'] == fighter]\n",
    "        d = data[stat].values[0]\n",
    "        d = pd.to_numeric(d)\n",
    "        return d\n",
    "    except:\n",
    "        return nan"
   ]
  },
  {
   "cell_type": "code",
   "execution_count": null,
   "metadata": {},
   "outputs": [],
   "source": [
    "next_fight_df['A_Height'] = next_fight_df.apply(lambda row: get_bio_data(row['Fighter_A'], 'Height'), axis=1)\n",
    "next_fight_df['B_Height'] = next_fight_df.apply(lambda row: get_bio_data(row['Fighter_B'], 'Height'), axis=1)\n",
    "next_fight_df['Dif_Height'] = next_fight_df['A_Height'] - next_fight_df['B_Height']\n",
    "\n",
    "next_fight_df['A_Reach'] = next_fight_df.apply(lambda row: get_bio_data(row['Fighter_A'], 'Reach'), axis=1)\n",
    "next_fight_df['B_Reach'] = next_fight_df.apply(lambda row: get_bio_data(row['Fighter_B'], 'Reach'), axis=1)\n",
    "next_fight_df['Dif_Reach'] = next_fight_df['A_Reach'] - next_fight_df['B_Reach']\n",
    "next_fight_df['Reach_Dif'] = next_fight_df['A_Reach'] - next_fight_df['B_Reach']\n",
    "\n",
    "next_fight_df['A_Leg_Reach'] = next_fight_df.apply(lambda row: get_bio_data(row['Fighter_A'], 'Leg reach'), axis=1)\n",
    "next_fight_df['B_Leg_Reach'] = next_fight_df.apply(lambda row: get_bio_data(row['Fighter_B'], 'Leg reach'), axis=1)\n",
    "next_fight_df['Dif_Leg_Reach'] = next_fight_df['A_Leg_Reach'] - next_fight_df['B_Leg_Reach']\n",
    "next_fight_df['Leg_Reach_Dif'] = next_fight_df['A_Leg_Reach'] - next_fight_df['B_Leg_Reach']"
   ]
  },
  {
   "cell_type": "code",
   "execution_count": null,
   "metadata": {},
   "outputs": [],
   "source": [
    "# New column indicating if we have the reach data for fighter A\n",
    "next_fight_df['A_Reach_NA'] = next_fight_df['A_Reach'].isna()\n",
    "\n",
    "# New column indicating if we have the reach data for fighter B\n",
    "next_fight_df['B_Reach_NA'] = next_fight_df['B_Reach'].isna()\n",
    "\n",
    "# New column indicating if we have the reach data for either fighter\n",
    "next_fight_df['Reach_NA'] = next_fight_df['A_Reach_NA'] | next_fight_df['B_Reach_NA']\n",
    "\n",
    "# New column indicating if we have leg reach data for fighter A\n",
    "next_fight_df['A_Leg_Reach_NA'] = next_fight_df['A_Leg_Reach'].isna()\n",
    "\n",
    "# New column indicating if we have leg reach data for fighter B\n",
    "next_fight_df['B_Leg_Reach_NA'] = next_fight_df['B_Leg_Reach'].isna()\n",
    "\n",
    "# New column indicating if we have leg reach data for either fighter\n",
    "next_fight_df['Leg_Reach_NA'] = next_fight_df['A_Leg_Reach_NA'] | next_fight_df['B_Leg_Reach_NA']"
   ]
  },
  {
   "attachments": {},
   "cell_type": "markdown",
   "metadata": {},
   "source": [
    "### Feature: Add Weightclass"
   ]
  },
  {
   "cell_type": "code",
   "execution_count": null,
   "metadata": {},
   "outputs": [],
   "source": [
    "all_events = pd.read_csv('data/final/events/All_Events_Fights_and_FightUrls.csv')"
   ]
  },
  {
   "cell_type": "code",
   "execution_count": null,
   "metadata": {},
   "outputs": [],
   "source": [
    "def find_typical_weightclass(fighter):\n",
    "    try:\n",
    "        data = all_events[all_events['Fighter1'] == fighter]\n",
    "        data2 = all_events[all_events['Fighter2'] == fighter]\n",
    "        data = pd.concat([data, data2])\n",
    "        d = data['Weight class'].value_counts().index[0]\n",
    "        return d\n",
    "    except:\n",
    "        return nan"
   ]
  },
  {
   "cell_type": "code",
   "execution_count": null,
   "metadata": {},
   "outputs": [],
   "source": [
    "next_fight_df['A_Typical_Weightclass'] = next_fight_df.apply(lambda row: find_typical_weightclass(row['Fighter_A']), axis=1)\n",
    "next_fight_df['B_Typical_Weightclass'] = next_fight_df.apply(lambda row: find_typical_weightclass(row['Fighter_B']), axis=1)"
   ]
  },
  {
   "cell_type": "code",
   "execution_count": null,
   "metadata": {},
   "outputs": [],
   "source": [
    "# use fight_id to find weightclass of fight\n",
    "def find_weightclass(fight_id):\n",
    "    try:\n",
    "        fight_url = 'http://www.ufcstats.com/fight-details/' + str(fight_id)\n",
    "        data = all_events[all_events['fight_link'] == fight_url]\n",
    "        d = data['Weight class'].values[0]\n",
    "        return d\n",
    "    except:\n",
    "        return nan"
   ]
  },
  {
   "cell_type": "code",
   "execution_count": null,
   "metadata": {},
   "outputs": [],
   "source": [
    "next_fight_df['fight_weightclass'] = fights.apply(lambda row: find_weightclass(row['fight_id']), axis=1)"
   ]
  },
  {
   "cell_type": "code",
   "execution_count": null,
   "metadata": {},
   "outputs": [],
   "source": [
    "next_fight_df['A_Fight_in_Typical_Weightclass'] = next_fight_df.apply(lambda row: row['A_Typical_Weightclass'] == row['fight_weightclass'], axis=1)\n",
    "next_fight_df['B_Fight_in_Typical_Weightclass'] = next_fight_df.apply(lambda row: row['B_Typical_Weightclass'] == row['fight_weightclass'], axis=1)"
   ]
  },
  {
   "attachments": {},
   "cell_type": "markdown",
   "metadata": {},
   "source": [
    "### Feature: Method"
   ]
  },
  {
   "cell_type": "code",
   "execution_count": null,
   "metadata": {},
   "outputs": [],
   "source": [
    "# split Method into Method and Method Detail\n",
    "all_events['Method_Primary'] = all_events['Method'].str.split('  ', expand=True)[0]\n",
    "all_events['Method_Detail'] = all_events['Method'].str.split('  ', expand=True)[1]\n",
    "all_events.head(3)"
   ]
  },
  {
   "cell_type": "code",
   "execution_count": null,
   "metadata": {},
   "outputs": [],
   "source": [
    "def get_method(fight_id):\n",
    "    try:\n",
    "        fight_url = 'http://www.ufcstats.com/fight-details/' + str(fight_id)\n",
    "        data = all_events[all_events['fight_link'] == fight_url]\n",
    "        d = data['Method_Primary'].values[0]\n",
    "        return d\n",
    "    except:\n",
    "        return nan"
   ]
  },
  {
   "cell_type": "code",
   "execution_count": null,
   "metadata": {},
   "outputs": [],
   "source": [
    "def get_details(fight_id):\n",
    "    try:\n",
    "        fight_url = 'http://www.ufcstats.com/fight-details/' + str(fight_id)\n",
    "        data = all_events[all_events['fight_link'] == fight_url]\n",
    "        d = data['Method_Detail'].values[0]\n",
    "        return d\n",
    "    except:\n",
    "        return nan"
   ]
  },
  {
   "attachments": {},
   "cell_type": "markdown",
   "metadata": {},
   "source": [
    "#### Feature: Round & Time"
   ]
  },
  {
   "cell_type": "code",
   "execution_count": null,
   "metadata": {},
   "outputs": [],
   "source": [
    "def get_round_time(fight_id, round_or_time):\n",
    "    try: \n",
    "        fight_url = 'http://www.ufcstats.com/fight-details/' + str(fight_id)\n",
    "        data = all_events[all_events['fight_link'] == fight_url]\n",
    "        if round_or_time == 'round':\n",
    "            d = data['Round'].values[0]\n",
    "        elif round_or_time == 'time':\n",
    "            d = data['Time'].values[0]\n",
    "        return d\n",
    "    except:\n",
    "        return nan"
   ]
  },
  {
   "attachments": {},
   "cell_type": "markdown",
   "metadata": {},
   "source": [
    "### Feature: Size Ratios"
   ]
  },
  {
   "cell_type": "code",
   "execution_count": null,
   "metadata": {},
   "outputs": [],
   "source": [
    "next_fight_df['A_Ape_Index'] = next_fight_df['A_Reach'] / next_fight_df['A_Height']\n",
    "next_fight_df['B_Ape_Index'] = next_fight_df['B_Reach'] / next_fight_df['B_Height']\n",
    "\n",
    "# Leg_Index = Leg_Reach / Height\n",
    "next_fight_df['A_Leg_Index'] = next_fight_df['A_Leg_Reach'] / next_fight_df['A_Height']\n",
    "next_fight_df['B_Leg_Index'] = next_fight_df['B_Leg_Reach'] / next_fight_df['B_Height']\n",
    "\n",
    "# Leg_to_Wing_Index = Leg_Reach / Reach\n",
    "next_fight_df['A_Leg_to_Wing_Index'] = next_fight_df['A_Leg_Reach'] / next_fight_df['A_Reach']\n",
    "next_fight_df['B_Leg_to_Wing_Index'] = next_fight_df['B_Leg_Reach'] / next_fight_df['B_Reach']"
   ]
  },
  {
   "attachments": {},
   "cell_type": "markdown",
   "metadata": {},
   "source": [
    "### Feature: Favorite"
   ]
  },
  {
   "cell_type": "code",
   "execution_count": null,
   "metadata": {},
   "outputs": [],
   "source": [
    "next_fight_df['favorite?'] = np.where(next_fight_df['Fighter_A_Odds'] < next_fight_df['Fighter_B_Odds'], 1, 0)"
   ]
  },
  {
   "attachments": {},
   "cell_type": "markdown",
   "metadata": {},
   "source": [
    "### Feature: Win/Loss Details"
   ]
  },
  {
   "cell_type": "code",
   "execution_count": null,
   "metadata": {},
   "outputs": [],
   "source": [
    "# add a formatted date column\n",
    "next_fight_df['datetime'] = pd.to_datetime(next_fight_df['date'])\n",
    "next_fight_df['date_formatted'] = next_fight_df['datetime'].dt.date"
   ]
  },
  {
   "cell_type": "code",
   "execution_count": null,
   "metadata": {},
   "outputs": [],
   "source": [
    "def get_number_UFC_fights(fighter, date):\n",
    "    data = fights[fights['Fighter_A'] == fighter]\n",
    "    data = data[data['datetime'] < date]\n",
    "    return len(data)\n"
   ]
  },
  {
   "cell_type": "code",
   "execution_count": null,
   "metadata": {},
   "outputs": [],
   "source": [
    "next_fight_df['A_Total_UFC_Fights'] = fights.apply(lambda row: get_number_UFC_fights(row['Fighter_A'], row['datetime']), axis=1)\n",
    "next_fight_df['B_Total_UFC_Fights'] = fights.apply(lambda row: get_number_UFC_fights(row['Fighter_B'], row['datetime']), axis=1)\n",
    "\n",
    "# add diff\n",
    "next_fight_df['Dif_Total_UFC_Fights'] = next_fight_df['A_Total_UFC_Fights'] - next_fight_df['B_Total_UFC_Fights']"
   ]
  },
  {
   "attachments": {},
   "cell_type": "markdown",
   "metadata": {},
   "source": [
    "### Wins"
   ]
  },
  {
   "cell_type": "code",
   "execution_count": null,
   "metadata": {},
   "outputs": [],
   "source": [
    "# add number of wins\n",
    "def get_number_UFC_wins(fighter, date):\n",
    "    data = fights[fights['Fighter_A'] == fighter]\n",
    "    data = data[data['datetime'] < date]\n",
    "    return data['win?'].sum()"
   ]
  },
  {
   "cell_type": "code",
   "execution_count": null,
   "metadata": {},
   "outputs": [],
   "source": [
    "next_fight_df['A_UFC_Wins'] = fights.apply(lambda row: get_number_UFC_wins(row['Fighter_A'], row['datetime']), axis=1)\n",
    "next_fight_df['B_UFC_Wins'] = fights.apply(lambda row: get_number_UFC_wins(row['Fighter_B'], row['datetime']), axis=1)\n",
    "\n",
    "# add diff\n",
    "next_fight_df['Dif_UFC_Wins'] = next_fight_df['A_UFC_Wins'] - next_fight_df['B_UFC_Wins']"
   ]
  },
  {
   "attachments": {},
   "cell_type": "markdown",
   "metadata": {},
   "source": [
    "### Losses"
   ]
  },
  {
   "cell_type": "code",
   "execution_count": null,
   "metadata": {},
   "outputs": [],
   "source": [
    "def get_number_UFC_losses(fighter, date):\n",
    "    data = fights[fights['Fighter_A'] == fighter]\n",
    "    data = data[data['datetime'] < date]\n",
    "    return len(data) - data['win?'].sum()"
   ]
  },
  {
   "cell_type": "code",
   "execution_count": null,
   "metadata": {},
   "outputs": [],
   "source": [
    "next_fight_df['A_UFC_Losses'] = fights.apply(lambda row: get_number_UFC_losses(row['Fighter_A'], row['datetime']), axis=1)\n",
    "next_fight_df['B_UFC_Losses'] = fights.apply(lambda row: get_number_UFC_losses(row['Fighter_B'], row['datetime']), axis=1)\n",
    "\n",
    "# add diff\n",
    "next_fight_df['Dif_UFC_Losses'] = next_fight_df['A_UFC_Losses'] - next_fight_df['B_UFC_Losses']"
   ]
  },
  {
   "attachments": {},
   "cell_type": "markdown",
   "metadata": {},
   "source": [
    "### W/L Percentages"
   ]
  },
  {
   "cell_type": "code",
   "execution_count": null,
   "metadata": {},
   "outputs": [],
   "source": [
    "next_fight_df['A_UFC_Win_Percentage'] = next_fight_df['A_UFC_Wins'] / next_fight_df['A_Total_UFC_Fights']\n",
    "next_fight_df['B_UFC_Win_Percentage'] = next_fight_df['B_UFC_Wins'] / next_fight_df['B_Total_UFC_Fights']\n",
    "\n",
    "# add diff\n",
    "next_fight_df['Dif_UFC_Win_Percentage'] = next_fight_df['A_UFC_Win_Percentage'] - next_fight_df['B_UFC_Win_Percentage']"
   ]
  },
  {
   "attachments": {},
   "cell_type": "markdown",
   "metadata": {},
   "source": [
    "### Last 5 Win Percentage"
   ]
  },
  {
   "cell_type": "code",
   "execution_count": null,
   "metadata": {},
   "outputs": [],
   "source": [
    "def get_last5_win_percentage(fighter, date):\n",
    "    data = fights[fights['Fighter_A'] == fighter]\n",
    "    data = data[data['datetime'] < date]\n",
    "    data = data.sort_values(by='datetime', ascending=False)\n",
    "    data = data.head(5)\n",
    "    return data['win?'].sum() / len(data)"
   ]
  },
  {
   "cell_type": "code",
   "execution_count": null,
   "metadata": {},
   "outputs": [],
   "source": [
    "next_fight_df['A_Last5_Win_Percentage'] = fights.apply(lambda row: get_last5_win_percentage(row['Fighter_A'], row['datetime']), axis=1)\n",
    "next_fight_df['B_Last5_Win_Percentage'] = fights.apply(lambda row: get_last5_win_percentage(row['Fighter_B'], row['datetime']), axis=1)\n",
    "\n",
    "# add diff\n",
    "next_fight_df['Dif_Last5_Win_Percentage'] = next_fight_df['A_Last5_Win_Percentage'] - next_fight_df['B_Last5_Win_Percentage']"
   ]
  },
  {
   "attachments": {},
   "cell_type": "markdown",
   "metadata": {},
   "source": [
    "### Last 3 Win Percentage"
   ]
  },
  {
   "cell_type": "code",
   "execution_count": null,
   "metadata": {},
   "outputs": [],
   "source": [
    "def get_last3_win_percentage(fighter, date):\n",
    "    data = fights[fights['Fighter_A'] == fighter]\n",
    "    data = data[data['datetime'] < date]\n",
    "    data = data.sort_values(by='datetime', ascending=False)\n",
    "    data = data.head(3)\n",
    "    return data['win?'].sum() / len(data)"
   ]
  },
  {
   "cell_type": "code",
   "execution_count": null,
   "metadata": {},
   "outputs": [],
   "source": [
    "next_fight_df['A_Last3_Win_Percentage'] = fights.apply(lambda row: get_last3_win_percentage(row['Fighter_A'], row['datetime']), axis=1)\n",
    "next_fight_df['B_Last3_Win_Percentage'] = fights.apply(lambda row: get_last3_win_percentage(row['Fighter_B'], row['datetime']), axis=1)\n",
    "\n",
    "# add diff\n",
    "next_fight_df['Dif_Last3_Win_Percentage'] = next_fight_df['A_Last3_Win_Percentage'] - next_fight_df['B_Last3_Win_Percentage']"
   ]
  },
  {
   "attachments": {},
   "cell_type": "markdown",
   "metadata": {},
   "source": [
    "### Win_by/ Loss_by Features"
   ]
  },
  {
   "cell_type": "code",
   "execution_count": null,
   "metadata": {},
   "outputs": [],
   "source": [
    "def get_general_method(fight_method):\n",
    "    if 'DEC' in fight_method:\n",
    "        return 'DEC'\n",
    "    elif 'SUB' in fight_method:\n",
    "        return 'SUB'\n",
    "    elif 'KO' in fight_method:\n",
    "        return 'KO'\n",
    "    else:\n",
    "        return 'OTHER'"
   ]
  },
  {
   "cell_type": "code",
   "execution_count": null,
   "metadata": {},
   "outputs": [],
   "source": [
    "def get_win_by_ko_percent(fighter, date):\n",
    "    data = fights[fights['Fighter_A'] == fighter]\n",
    "    data = data[data['datetime'] < date]\n",
    "    wins = data[data['win?'] == 1]\n",
    "    wins = wins[wins['InFightData__General_Method'] == 'KO']\n",
    "    return data['win?'].sum() / len(data)\n",
    "\n",
    "def get_loss_by_ko_percent(fighter, date):\n",
    "    data = fights[fights['Fighter_A'] == fighter]\n",
    "    data = data[data['datetime'] < date]\n",
    "    losses = data[data['win?'] == 0]\n",
    "    losses = losses[losses['InFightData__General_Method'] == 'KO']\n",
    "    return data['win?'].sum() / len(data)"
   ]
  },
  {
   "cell_type": "code",
   "execution_count": null,
   "metadata": {},
   "outputs": [],
   "source": [
    "next_fight_df['A_Win_By_KO_Percentage'] = fights.apply(lambda row: get_win_by_ko_percent(row['Fighter_A'], row['datetime']), axis=1)\n",
    "next_fight_df['B_Win_By_KO_Percentage'] = fights.apply(lambda row: get_win_by_ko_percent(row['Fighter_B'], row['datetime']), axis=1)\n",
    "\n",
    "# add diff\n",
    "next_fight_df['Dif_Win_By_KO_Percentage'] = next_fight_df['A_Win_By_KO_Percentage'] - next_fight_df['B_Win_By_KO_Percentage']"
   ]
  },
  {
   "cell_type": "code",
   "execution_count": null,
   "metadata": {},
   "outputs": [],
   "source": [
    "next_fight_df['A_Loss_By_KO_Percentage'] = fights.apply(lambda row: get_loss_by_ko_percent(row['Fighter_A'], row['datetime']), axis=1)\n",
    "next_fight_df['B_Loss_By_KO_Percentage'] = fights.apply(lambda row: get_loss_by_ko_percent(row['Fighter_B'], row['datetime']), axis=1)\n",
    "\n",
    "# add diff\n",
    "next_fight_df['Dif_Loss_By_KO_Percentage'] = next_fight_df['A_Loss_By_KO_Percentage'] - next_fight_df['B_Loss_By_KO_Percentage']"
   ]
  },
  {
   "attachments": {},
   "cell_type": "markdown",
   "metadata": {},
   "source": [
    "### WL by decision"
   ]
  },
  {
   "cell_type": "code",
   "execution_count": null,
   "metadata": {},
   "outputs": [],
   "source": [
    "def get_win_by_decision_percent(fighter, date):\n",
    "    data = fights[fights['Fighter_A'] == fighter]\n",
    "    data = data[data['datetime'] < date]\n",
    "    wins = data[data['win?'] == 1]\n",
    "    wins = wins[wins['InFightData__General_Method'] == 'DEC']\n",
    "    return data['win?'].sum() / len(data)\n",
    "\n",
    "def get_loss_by_decision_percent(fighter, date):\n",
    "    data = fights[fights['Fighter_A'] == fighter]\n",
    "    data = data[data['datetime'] < date]\n",
    "    losses = data[data['win?'] == 0]\n",
    "    losses = losses[losses['InFightData__General_Method'] == 'DEC']\n",
    "    return data['win?'].sum() / len(data)"
   ]
  },
  {
   "cell_type": "code",
   "execution_count": null,
   "metadata": {},
   "outputs": [],
   "source": [
    "next_fight_df['A_Win_By_Decision_Percentage'] = fights.apply(lambda row: get_win_by_decision_percent(row['Fighter_A'], row['datetime']), axis=1)\n",
    "next_fight_df['B_Win_By_Decision_Percentage'] = fights.apply(lambda row: get_win_by_decision_percent(row['Fighter_B'], row['datetime']), axis=1)\n",
    "\n",
    "# add diff\n",
    "next_fight_df['Dif_Win_By_Decision_Percentage'] = next_fight_df['A_Win_By_Decision_Percentage'] - next_fight_df['B_Win_By_Decision_Percentage']"
   ]
  },
  {
   "cell_type": "code",
   "execution_count": null,
   "metadata": {},
   "outputs": [],
   "source": [
    "next_fight_df['A_Loss_By_Decision_Percentage'] = fights.apply(lambda row: get_loss_by_decision_percent(row['Fighter_A'], row['datetime']), axis=1)\n",
    "next_fight_df['B_Loss_By_Decision_Percentage'] = fights.apply(lambda row: get_loss_by_decision_percent(row['Fighter_B'], row['datetime']), axis=1)\n",
    "\n",
    "# add diff\n",
    "next_fight_df['Dif_Loss_By_Decision_Percentage'] = next_fight_df['A_Loss_By_Decision_Percentage'] - next_fight_df['B_Loss_By_Decision_Percentage']"
   ]
  },
  {
   "attachments": {},
   "cell_type": "markdown",
   "metadata": {},
   "source": [
    "### Career Fight Time"
   ]
  },
  {
   "cell_type": "code",
   "execution_count": null,
   "metadata": {},
   "outputs": [],
   "source": [
    "def get_career_fight_time_seconds(fighter, date):\n",
    "    data = fights[fights['Fighter_A'] == fighter]\n",
    "    data = data[data['datetime'] < date]\n",
    "    return data['InFightData__Total_Fight_Time_Seconds'].sum()"
   ]
  },
  {
   "cell_type": "code",
   "execution_count": null,
   "metadata": {},
   "outputs": [],
   "source": [
    "next_fight_df['A_UFC_Fight_Time_Seconds'] = fights.apply(lambda row: get_career_fight_time_seconds(row['Fighter_A'], row['datetime']), axis=1)\n",
    "next_fight_df['B_UFC_Fight_Time_Seconds'] = fights.apply(lambda row: get_career_fight_time_seconds(row['Fighter_B'], row['datetime']), axis=1)\n",
    "\n",
    "# add diff\n",
    "next_fight_df['Dif_UFC_Fight_Time_Seconds'] = next_fight_df['A_UFC_Fight_Time_Seconds'] - next_fight_df['B_UFC_Fight_Time_Seconds']"
   ]
  },
  {
   "cell_type": "code",
   "execution_count": null,
   "metadata": {},
   "outputs": [],
   "source": [
    "next_fight_df"
   ]
  },
  {
   "attachments": {},
   "cell_type": "markdown",
   "metadata": {},
   "source": [
    "### Stat/Round Features"
   ]
  },
  {
   "cell_type": "code",
   "execution_count": null,
   "metadata": {},
   "outputs": [],
   "source": [
    "topdown_cols = [n for n in next_fight_df.columns.to_list() if 'topdown' in n]\n",
    "# A TOPDOWN\n",
    "a_topdown_cols = [n for n in topdown_cols if n.startswith('A_')]\n",
    "# get rid of any percent columns\n",
    "a_topdown_cols = [n for n in a_topdown_cols if 'percent' not in n]\n",
    "\n",
    "# B TOPDOWN\n",
    "b_topdown_cols = [n for n in topdown_cols if n.startswith('B_')]\n",
    "# get rid of any percent columns\n",
    "b_topdown_cols = [n for n in b_topdown_cols if 'percent' not in n]\n",
    "b_topdown_cols\n"
   ]
  },
  {
   "cell_type": "code",
   "execution_count": null,
   "metadata": {},
   "outputs": [],
   "source": [
    "len(b_topdown_cols)"
   ]
  },
  {
   "cell_type": "code",
   "execution_count": null,
   "metadata": {},
   "outputs": [],
   "source": [
    "len(a_topdown_cols)"
   ]
  },
  {
   "cell_type": "code",
   "execution_count": null,
   "metadata": {},
   "outputs": [],
   "source": [
    "next_fight_df['A_UFC_Fight_Rounds'] = next_fight_df['A_UFC_Fight_Time_Seconds'] / 300\n",
    "next_fight_df['B_UFC_Fight_Rounds'] = next_fight_df['B_UFC_Fight_Time_Seconds'] / 300"
   ]
  },
  {
   "cell_type": "code",
   "execution_count": null,
   "metadata": {},
   "outputs": [],
   "source": [
    "# add per-round averages using topdown columns\n",
    "for col in a_topdown_cols:\n",
    "    next_fight_df[f'{col}_per_round'] = next_fight_df[col] / next_fight_df['A_UFC_Fight_Rounds']\n",
    "\n",
    "for col in b_topdown_cols:\n",
    "    next_fight_df[f'{col}_per_round'] = next_fight_df[col] / next_fight_df['B_UFC_Fight_Rounds']"
   ]
  },
  {
   "cell_type": "code",
   "execution_count": null,
   "metadata": {},
   "outputs": [],
   "source": [
    "next_fight_df"
   ]
  },
  {
   "cell_type": "code",
   "execution_count": null,
   "metadata": {},
   "outputs": [],
   "source": [
    "# get opponent average columns\n",
    "opp_avg_cols = [n for n in next_fight_df.columns.to_list() if 'Opp_Avg' in n]\n",
    "# A OPP AVG\n",
    "a_opp_avg_cols = [n for n in opp_avg_cols if n.startswith('A_')]\n",
    "# get rid of any percent columns\n",
    "a_opp_avg_cols = [n for n in a_opp_avg_cols if 'percent' not in n]\n",
    "\n",
    "# B OPP AVG\n",
    "b_opp_avg_cols = [n for n in opp_avg_cols if n.startswith('B_')]\n",
    "# get rid of any percent columns\n",
    "b_opp_avg_cols = [n for n in b_opp_avg_cols if 'percent' not in n]\n",
    "\n",
    "b_opp_avg_cols"
   ]
  },
  {
   "cell_type": "code",
   "execution_count": null,
   "metadata": {},
   "outputs": [],
   "source": [
    "# add per-round averages using opponent averages\n",
    "for col in a_opp_avg_cols:\n",
    "    next_fight_df[f'{col}_per_round'] = next_fight_df[col] / next_fight_df['A_UFC_Fight_Rounds']\n",
    "\n",
    "for col in b_opp_avg_cols:\n",
    "    next_fight_df[f'{col}_per_round'] = next_fight_df[col] / next_fight_df['B_UFC_Fight_Rounds']\n"
   ]
  },
  {
   "attachments": {},
   "cell_type": "markdown",
   "metadata": {},
   "source": [
    "#### Per Round Difs"
   ]
  },
  {
   "cell_type": "code",
   "execution_count": null,
   "metadata": {},
   "outputs": [],
   "source": [
    "# add difference in per-round averages\n",
    "\n",
    "# get per-round topdown columns\n",
    "topdown_per_round_cols = [n for n in next_fight_df.columns.to_list() if 'topdown' and 'per_round' in n]\n",
    "# no difs\n",
    "topdown_per_round_cols = [n for n in topdown_per_round_cols if 'Dif' not in n]\n",
    "\n",
    "topdown_per_round_cols = pd.DataFrame(topdown_per_round_cols)\n",
    "topdown_per_round_cols.columns = ['col']\n",
    "topdown_per_round_cols['non-specific'] = topdown_per_round_cols['col'].str[2:]\n",
    "# get unique values\n",
    "topdown_per_round_cols = topdown_per_round_cols['non-specific'].unique().tolist()"
   ]
  },
  {
   "cell_type": "code",
   "execution_count": null,
   "metadata": {},
   "outputs": [],
   "source": [
    "for col in topdown_per_round_cols:\n",
    "    next_fight_df[f'Dif_{col}'] = next_fight_df[f'A_{col}'] - next_fight_df[f'B_{col}']"
   ]
  },
  {
   "cell_type": "code",
   "execution_count": null,
   "metadata": {},
   "outputs": [],
   "source": [
    "next_fight_df"
   ]
  },
  {
   "attachments": {},
   "cell_type": "markdown",
   "metadata": {},
   "source": [
    "## Fix NAN and INF"
   ]
  },
  {
   "cell_type": "code",
   "execution_count": null,
   "metadata": {},
   "outputs": [],
   "source": [
    "# replace NANS with 0 for any column starting with A_ or B_\n",
    "for col in next_fight_df.columns:\n",
    "    if col.startswith('A_') or col.startswith('B_'):\n",
    "        next_fight_df[col] = next_fight_df[col].fillna(0)"
   ]
  },
  {
   "cell_type": "code",
   "execution_count": null,
   "metadata": {},
   "outputs": [],
   "source": [
    "# replace inf with 0 for any columns starting with A_ or B_\n",
    "for col in next_fight_df.columns:\n",
    "    if col.startswith('A_') or col.startswith('B_'):\n",
    "        next_fight_df[col] = next_fight_df[col].replace(np.inf, 0)"
   ]
  },
  {
   "cell_type": "code",
   "execution_count": null,
   "metadata": {},
   "outputs": [],
   "source": [
    "# re-calculate all dif columns\n",
    "\n",
    "# get dif columns\n",
    "dif_cols = [n for n in next_fight_df.columns.to_list() if 'Dif' in n]\n",
    "\n",
    "dif_cols"
   ]
  },
  {
   "cell_type": "code",
   "execution_count": null,
   "metadata": {},
   "outputs": [],
   "source": [
    "dif_cols.remove('Reach_Dif')\n",
    "dif_cols.remove('Leg_Reach_Dif')"
   ]
  },
  {
   "cell_type": "code",
   "execution_count": null,
   "metadata": {},
   "outputs": [],
   "source": [
    "for col in dif_cols:\n",
    "    next_fight_df[col] = next_fight_df[f'A_{col[4:]}'] - next_fight_df[f'B_{col[4:]}']"
   ]
  },
  {
   "cell_type": "code",
   "execution_count": null,
   "metadata": {},
   "outputs": [],
   "source": [
    "next_fight_df['Reach_Dif'] = next_fight_df['A_Reach'] - next_fight_df['B_Reach']\n",
    "next_fight_df['Leg_Reach_Dif'] = next_fight_df['A_Leg_Reach'] - next_fight_df['B_Leg_Reach']"
   ]
  },
  {
   "cell_type": "code",
   "execution_count": null,
   "metadata": {},
   "outputs": [],
   "source": [
    "next_fight_df"
   ]
  },
  {
   "cell_type": "code",
   "execution_count": null,
   "metadata": {},
   "outputs": [],
   "source": [
    "# get NAN\n",
    "missing = next_fight_df.isna().sum()\n",
    "missing = missing[missing > 0]\n",
    "missing"
   ]
  },
  {
   "cell_type": "code",
   "execution_count": null,
   "metadata": {},
   "outputs": [],
   "source": [
    "# replace unknown fighter odds with opposite of known fighter odds\n",
    "next_fight_df['Fighter_A_Odds'] = next_fight_df['Fighter_A_Odds'].fillna(next_fight_df['Fighter_B_Odds'] * -1)\n",
    "next_fight_df['Fighter_B_Odds'] = next_fight_df['Fighter_B_Odds'].fillna(next_fight_df['Fighter_A_Odds'] * -1)\n"
   ]
  },
  {
   "cell_type": "code",
   "execution_count": null,
   "metadata": {},
   "outputs": [],
   "source": [
    "# replace unknown fighter change odds with opposite of known fighter odds\n",
    "next_fight_df['Fighter_A_Odds_Change'] = next_fight_df['Fighter_A_Odds_Change'].fillna(next_fight_df['Fighter_B_Odds_Change'] * -1)\n",
    "next_fight_df['Fighter_B_Odds_Change'] = next_fight_df['Fighter_B_Odds_Change'].fillna(next_fight_df['Fighter_A_Odds_Change'] * -1)"
   ]
  },
  {
   "cell_type": "code",
   "execution_count": null,
   "metadata": {},
   "outputs": [],
   "source": [
    "# get NAN\n",
    "missing = next_fight_df.isna().sum()\n",
    "missing = missing[missing > 0]\n",
    "missing"
   ]
  },
  {
   "cell_type": "code",
   "execution_count": null,
   "metadata": {},
   "outputs": [],
   "source": [
    "# check difference in columns between next_fight_df and fights\n",
    "# get columns in next_fight_df that are not in fights\n",
    "next_fight_cols = next_fight_df.columns.to_list()\n",
    "fights_cols = fights.columns.to_list()\n",
    "missing_cols = [n for n in next_fight_cols if n not in fights_cols]\n",
    "missing_cols"
   ]
  },
  {
   "cell_type": "code",
   "execution_count": null,
   "metadata": {},
   "outputs": [],
   "source": [
    "# get the columns in fights that are not in next_fight_df\n",
    "missing_cols = [n for n in fights_cols if n not in next_fight_cols]\n",
    "missing_cols"
   ]
  },
  {
   "cell_type": "code",
   "execution_count": null,
   "metadata": {},
   "outputs": [],
   "source": [
    "the_date = next_fight_df['date'].values[0]\n",
    "the_date = pd.to_datetime(the_date).date()\n",
    "# to str\n",
    "the_date = the_date.strftime('%Y-%m-%d')\n",
    "the_date"
   ]
  },
  {
   "cell_type": "code",
   "execution_count": null,
   "metadata": {},
   "outputs": [],
   "source": [
    "# save to csv\n",
    "next_fight_df.to_csv('data/final/next_fights/' + the_date + '.csv', index=False)"
   ]
  },
  {
   "cell_type": "code",
   "execution_count": null,
   "metadata": {},
   "outputs": [],
   "source": [
    "next_fight_df = pd.read_csv('data/final/next_fights/' + the_date + '.csv')\n",
    "\n",
    "\n"
   ]
  }
 ],
 "metadata": {
  "kernelspec": {
   "display_name": "Trav310",
   "language": "python",
   "name": "python3"
  },
  "language_info": {
   "codemirror_mode": {
    "name": "ipython",
    "version": 3
   },
   "file_extension": ".py",
   "mimetype": "text/x-python",
   "name": "python",
   "nbconvert_exporter": "python",
   "pygments_lexer": "ipython3",
   "version": "3.10.8"
  },
  "orig_nbformat": 4,
  "vscode": {
   "interpreter": {
    "hash": "f69e36f0e9b2c8d9f319b417484f14b77c91d7bef950ad448542405eb1e0e594"
   }
  }
 },
 "nbformat": 4,
 "nbformat_minor": 2
}
