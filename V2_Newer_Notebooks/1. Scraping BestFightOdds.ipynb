{
 "cells": [
  {
   "attachments": {},
   "cell_type": "markdown",
   "metadata": {},
   "source": [
    "# Scraping BestFightOdds.com"
   ]
  },
  {
   "cell_type": "markdown",
   "metadata": {},
   "source": [
    "This is a Python script designed to scrape event and odds information about UFC (Ultimate Fighting Championship) fights for data analysis or predictive model development. The website being scraped for the odds is \"bestfightodds.com\". The script also uses other libraries such as Pandas, BeautifulSoup, and Selenium for data manipulation, webpage parsing and automating browser tasks respectively. \n",
    "\n",
    "\n",
    "PROBLEM with BestFightOdds: Many fights are not in the card they say they were (i think), i.e., organization is meh. \n",
    "\n",
    "\n",
    "Here's a high-level flow of what this script does:\n",
    "\n",
    "1. Importing necessary libraries and setting the working directory.\n",
    "\n",
    "2. It then loads event data from an existing CSV file in the directory (\"Final_Hand_Done_BFO_Urls_with UFC_Stats_Urls.csv\").\n",
    "\n",
    "3. It fetches event URLs from the newly loaded file and prepares a list of all unique URLs.\n",
    "\n",
    "4. It checks these URLs against the completed UFC events listed on the UFC stats website. If there are new events not covered in the initial CSV, they are identified, and their URLs from bestfightodds.com are fetched by searching via 'Google search'.\n",
    "\n",
    "5. If there are any issues with fetching these URLs, errors are flagged and depending on the issue, the script may require manual intervention.\n",
    "\n",
    "6. For each of the events, it downloads their odds information by sending a GET request to the URL while providing user-agent headers to avoid the request being blocked. This data is processed and added to a Pandas DataFrame for further processing.\n",
    "\n",
    "7. Once all the data for the URLs are downloaded, the script then attempts to download all the odds change data by simulating browser interaction with each of the URLs using Selenium WebDriver. \n",
    "\n",
    "8. Finally, the process of data collection is summarized, and all data is saved into CSV files for further analysis.\n",
    "\n",
    "9. Outputs: (in data/final/...)\n",
    "- 'events/All_Events_V1.csv'\n",
    "- 'events/odds_per_event/' + event_name + '.csv'\n",
    "- 'odds/All_Odds_by_Fighter_V1.csv'\n",
    "- 'odds/All_Odds_by_Fighter_V2.csv'\n",
    "- 'events/All_Events_V1.csv'\n",
    "- 'odds/odds_changes/' + name + '.csv'\n",
    "- 'aggregates/All_Odds_Changes_V1.csv'\n",
    "- 'odds/All_Odds_by_Fighter_WithChange.csv'\n",
    "\n",
    "\n"
   ]
  },
  {
   "cell_type": "code",
   "execution_count": 1,
   "metadata": {},
   "outputs": [],
   "source": [
    "# Load Packages\n",
    "import pandas as pd\n",
    "import numpy as np\n",
    "import matplotlib.pyplot as plt\n",
    "%matplotlib inline\n",
    "import matplotlib.ticker as mtick\n",
    "import seaborn as sns\n",
    "from matplotlib.pyplot import figure\n",
    "from bs4 import BeautifulSoup\n",
    "import time\n",
    "import requests     \n",
    "import shutil      \n",
    "import datetime\n",
    "from scipy.stats import norm\n",
    "from random import randint\n",
    "import  random\n",
    "import os\n",
    "os.chdir('/Users/travisroyce/Library/CloudStorage/OneDrive-Personal/Data Science/Personal_Projects/Sports/UFC_Prediction_V2')\n",
    "from selenium import webdriver\n",
    "from selenium.webdriver.common.keys import Keys\n",
    "from bs4 import BeautifulSoup \n",
    "from selenium.webdriver.common.by import By\n",
    "from selenium.webdriver.support.ui import WebDriverWait\n",
    "from selenium.webdriver.support import expected_conditions as EC"
   ]
  },
  {
   "attachments": {},
   "cell_type": "markdown",
   "metadata": {},
   "source": [
    "## Excel-fixed data:\n",
    "\n",
    "Initially, I matched up events in excel, so we will load that file. From here on out, I have a function that will scrape the data for me."
   ]
  },
  {
   "cell_type": "code",
   "execution_count": 2,
   "metadata": {},
   "outputs": [
    {
     "data": {
      "text/plain": [
       "'/Users/travisroyce/Library/CloudStorage/OneDrive-Personal/Data Science/Personal_Projects/Sports/UFC_Prediction_V2'"
      ]
     },
     "execution_count": 2,
     "metadata": {},
     "output_type": "execute_result"
    }
   ],
   "source": [
    "# get the current path\n",
    "path = os.getcwd()\n",
    "path"
   ]
  },
  {
   "cell_type": "code",
   "execution_count": 3,
   "metadata": {},
   "outputs": [
    {
     "name": "stdout",
     "output_type": "stream",
     "text": [
      "(668, 7)\n"
     ]
    },
    {
     "data": {
      "text/html": [
       "<div>\n",
       "<style scoped>\n",
       "    .dataframe tbody tr th:only-of-type {\n",
       "        vertical-align: middle;\n",
       "    }\n",
       "\n",
       "    .dataframe tbody tr th {\n",
       "        vertical-align: top;\n",
       "    }\n",
       "\n",
       "    .dataframe thead th {\n",
       "        text-align: right;\n",
       "    }\n",
       "</style>\n",
       "<table border=\"1\" class=\"dataframe\">\n",
       "  <thead>\n",
       "    <tr style=\"text-align: right;\">\n",
       "      <th></th>\n",
       "      <th>event_title</th>\n",
       "      <th>event_url</th>\n",
       "      <th>date</th>\n",
       "      <th>location</th>\n",
       "      <th>event_id</th>\n",
       "      <th>BestFightOdds_Url</th>\n",
       "      <th>BFO_Second_Url</th>\n",
       "    </tr>\n",
       "  </thead>\n",
       "  <tbody>\n",
       "    <tr>\n",
       "      <th>0</th>\n",
       "      <td>UFC Fight Night: Almeida vs. Lewis</td>\n",
       "      <td>http://ufcstats.com/event-details/7c4ec656d8fc...</td>\n",
       "      <td>2023-11-04</td>\n",
       "      <td>Sao Paulo, Sao Paulo, Brazil</td>\n",
       "      <td>7c4ec656d8fcb867</td>\n",
       "      <td>https://www.bestfightodds.com/events/ufc-2988</td>\n",
       "      <td>NaN</td>\n",
       "    </tr>\n",
       "    <tr>\n",
       "      <th>1</th>\n",
       "      <td>UFC 294: Makhachev vs. Volkanovski 2</td>\n",
       "      <td>http://ufcstats.com/event-details/13a0fb8fbdaf...</td>\n",
       "      <td>2023-10-21</td>\n",
       "      <td>Abu Dhabi, Abu Dhabi, United Arab Emirates</td>\n",
       "      <td>13a0fb8fbdafb54f</td>\n",
       "      <td>https://www.bestfightodds.com/events/ufc-294-2908</td>\n",
       "      <td>NaN</td>\n",
       "    </tr>\n",
       "    <tr>\n",
       "      <th>2</th>\n",
       "      <td>UFC Fight Night: Yusuff vs. Barboza</td>\n",
       "      <td>http://ufcstats.com/event-details/f3a078277b3b...</td>\n",
       "      <td>2023-10-14</td>\n",
       "      <td>Las Vegas, Nevada, USA</td>\n",
       "      <td>f3a078277b3b8ff4</td>\n",
       "      <td>https://www.bestfightodds.com/events/ufc-fight...</td>\n",
       "      <td>https://www.bestfightodds.com/events/ufc-fight...</td>\n",
       "    </tr>\n",
       "  </tbody>\n",
       "</table>\n",
       "</div>"
      ],
      "text/plain": [
       "                            event_title  \\\n",
       "0    UFC Fight Night: Almeida vs. Lewis   \n",
       "1  UFC 294: Makhachev vs. Volkanovski 2   \n",
       "2   UFC Fight Night: Yusuff vs. Barboza   \n",
       "\n",
       "                                           event_url       date  \\\n",
       "0  http://ufcstats.com/event-details/7c4ec656d8fc... 2023-11-04   \n",
       "1  http://ufcstats.com/event-details/13a0fb8fbdaf... 2023-10-21   \n",
       "2  http://ufcstats.com/event-details/f3a078277b3b... 2023-10-14   \n",
       "\n",
       "                                     location          event_id  \\\n",
       "0                Sao Paulo, Sao Paulo, Brazil  7c4ec656d8fcb867   \n",
       "1  Abu Dhabi, Abu Dhabi, United Arab Emirates  13a0fb8fbdafb54f   \n",
       "2                      Las Vegas, Nevada, USA  f3a078277b3b8ff4   \n",
       "\n",
       "                                   BestFightOdds_Url  \\\n",
       "0      https://www.bestfightodds.com/events/ufc-2988   \n",
       "1  https://www.bestfightodds.com/events/ufc-294-2908   \n",
       "2  https://www.bestfightodds.com/events/ufc-fight...   \n",
       "\n",
       "                                      BFO_Second_Url  \n",
       "0                                                NaN  \n",
       "1                                                NaN  \n",
       "2  https://www.bestfightodds.com/events/ufc-fight...  "
      ]
     },
     "execution_count": 3,
     "metadata": {},
     "output_type": "execute_result"
    }
   ],
   "source": [
    "# load excel-fixed data, which we will update with the scraped data\n",
    "fight_odds_urls = pd.read_excel('data/final/aggregates/ufcstats_event_urls_v2.xlsx')\n",
    "\n",
    "print(fight_odds_urls.shape)\n",
    "fight_odds_urls.head(3)"
   ]
  },
  {
   "cell_type": "code",
   "execution_count": 4,
   "metadata": {},
   "outputs": [
    {
     "name": "stdout",
     "output_type": "stream",
     "text": [
      " 668 events in excel-fixed data\n"
     ]
    }
   ],
   "source": [
    "# get all event urls from excel-fixed data\n",
    "event_urls = fight_odds_urls['event_url'].unique()\n",
    "print(f' {len(event_urls)} events in excel-fixed data')\n",
    "\n",
    "# get all event urls\n",
    "event_urls = fight_odds_urls['event_url'].unique()\n",
    "# split by /, keep last\n",
    "event_urls = [url.split('/')[-1] for url in event_urls]"
   ]
  },
  {
   "cell_type": "code",
   "execution_count": 5,
   "metadata": {},
   "outputs": [
    {
     "data": {
      "text/html": [
       "<div>\n",
       "<style scoped>\n",
       "    .dataframe tbody tr th:only-of-type {\n",
       "        vertical-align: middle;\n",
       "    }\n",
       "\n",
       "    .dataframe tbody tr th {\n",
       "        vertical-align: top;\n",
       "    }\n",
       "\n",
       "    .dataframe thead th {\n",
       "        text-align: right;\n",
       "    }\n",
       "</style>\n",
       "<table border=\"1\" class=\"dataframe\">\n",
       "  <thead>\n",
       "    <tr style=\"text-align: right;\">\n",
       "      <th></th>\n",
       "      <th>BestFightOdds_Url</th>\n",
       "      <th>short_url</th>\n",
       "    </tr>\n",
       "  </thead>\n",
       "  <tbody>\n",
       "    <tr>\n",
       "      <th>0</th>\n",
       "      <td>https://www.bestfightodds.com/events/ufc-fight...</td>\n",
       "      <td>ufc-fight-night-77-belfort-vs-henderson-3-997</td>\n",
       "    </tr>\n",
       "    <tr>\n",
       "      <th>1</th>\n",
       "      <td>https://www.bestfightodds.com/events/ufc-fight...</td>\n",
       "      <td>ufc-fight-night-69-jedrzejczyk-vs-penne-964</td>\n",
       "    </tr>\n",
       "    <tr>\n",
       "      <th>2</th>\n",
       "      <td>https://www.bestfightodds.com/events/ufc-77-ho...</td>\n",
       "      <td>ufc-77-hostile-territory-10</td>\n",
       "    </tr>\n",
       "    <tr>\n",
       "      <th>3</th>\n",
       "      <td>https://www.bestfightodds.com/events/ufc-183-s...</td>\n",
       "      <td>ufc-183-silva-vs-diaz-856</td>\n",
       "    </tr>\n",
       "    <tr>\n",
       "      <th>4</th>\n",
       "      <td>https://www.bestfightodds.com/events/ufc-119-m...</td>\n",
       "      <td>ufc-119-mir-vs-cro-cop-296</td>\n",
       "    </tr>\n",
       "    <tr>\n",
       "      <th>...</th>\n",
       "      <td>...</td>\n",
       "      <td>...</td>\n",
       "    </tr>\n",
       "    <tr>\n",
       "      <th>533</th>\n",
       "      <td>https://www.bestfightodds.com/events/ufc-fight...</td>\n",
       "      <td>ufc-fight-night-83-cowboy-vs-cowboy-1057</td>\n",
       "    </tr>\n",
       "    <tr>\n",
       "      <th>534</th>\n",
       "      <td>https://www.bestfightodds.com/events/ufc-251-u...</td>\n",
       "      <td>ufc-251-usman-vs-masvidal-1890</td>\n",
       "    </tr>\n",
       "    <tr>\n",
       "      <th>535</th>\n",
       "      <td>https://www.bestfightodds.com/events/ufc-fight...</td>\n",
       "      <td>ufc-fight-night-41-munoz-vs-mousasi-799</td>\n",
       "    </tr>\n",
       "    <tr>\n",
       "      <th>536</th>\n",
       "      <td>https://www.bestfightodds.com/events/ufc-261-u...</td>\n",
       "      <td>ufc-261-usman-vs-masvidal-2-2087</td>\n",
       "    </tr>\n",
       "    <tr>\n",
       "      <th>537</th>\n",
       "      <td>https://www.bestfightodds.com/events/ufc-fight...</td>\n",
       "      <td>ufc-fight-night-108-swanson-vs-lobov-1258</td>\n",
       "    </tr>\n",
       "  </tbody>\n",
       "</table>\n",
       "<p>538 rows × 2 columns</p>\n",
       "</div>"
      ],
      "text/plain": [
       "                                     BestFightOdds_Url  \\\n",
       "0    https://www.bestfightodds.com/events/ufc-fight...   \n",
       "1    https://www.bestfightodds.com/events/ufc-fight...   \n",
       "2    https://www.bestfightodds.com/events/ufc-77-ho...   \n",
       "3    https://www.bestfightodds.com/events/ufc-183-s...   \n",
       "4    https://www.bestfightodds.com/events/ufc-119-m...   \n",
       "..                                                 ...   \n",
       "533  https://www.bestfightodds.com/events/ufc-fight...   \n",
       "534  https://www.bestfightodds.com/events/ufc-251-u...   \n",
       "535  https://www.bestfightodds.com/events/ufc-fight...   \n",
       "536  https://www.bestfightodds.com/events/ufc-261-u...   \n",
       "537  https://www.bestfightodds.com/events/ufc-fight...   \n",
       "\n",
       "                                         short_url  \n",
       "0    ufc-fight-night-77-belfort-vs-henderson-3-997  \n",
       "1      ufc-fight-night-69-jedrzejczyk-vs-penne-964  \n",
       "2                      ufc-77-hostile-territory-10  \n",
       "3                        ufc-183-silva-vs-diaz-856  \n",
       "4                       ufc-119-mir-vs-cro-cop-296  \n",
       "..                                             ...  \n",
       "533       ufc-fight-night-83-cowboy-vs-cowboy-1057  \n",
       "534                 ufc-251-usman-vs-masvidal-1890  \n",
       "535        ufc-fight-night-41-munoz-vs-mousasi-799  \n",
       "536               ufc-261-usman-vs-masvidal-2-2087  \n",
       "537      ufc-fight-night-108-swanson-vs-lobov-1258  \n",
       "\n",
       "[538 rows x 2 columns]"
      ]
     },
     "execution_count": 5,
     "metadata": {},
     "output_type": "execute_result"
    }
   ],
   "source": [
    "# get list of all values in BestFightOdds_Url and BFO_Second_Url\n",
    "bfo_urls = fight_odds_urls['BestFightOdds_Url'].tolist()\n",
    "bfo_urls.extend(fight_odds_urls['BFO_Second_Url'].tolist())\n",
    "\n",
    "# remove duplicates\n",
    "bfo_urls = list(set(bfo_urls))\n",
    "# to df\n",
    "bfo_urls = pd.DataFrame(bfo_urls, columns=['BestFightOdds_Url'])\n",
    "# add column for short urls\n",
    "bfo_urls['short_url'] = bfo_urls['BestFightOdds_Url'].str.split('/').str[-1]\n",
    "bfo_urls"
   ]
  },
  {
   "cell_type": "code",
   "execution_count": 6,
   "metadata": {},
   "outputs": [
    {
     "name": "stderr",
     "output_type": "stream",
     "text": [
      "/var/folders/x4/d4k8w7712_d4rstl2mqmphyc0000gn/T/ipykernel_4402/868362710.py:6: FutureWarning: The default value of regex will change from True to False in a future version.\n",
      "  list_down['short_url'] = list_down['short_url'].str.replace('.csv', '')\n"
     ]
    }
   ],
   "source": [
    "# check downloaded files\n",
    "downloaded = os.listdir('data/final/events/odds_per_event')\n",
    "len(downloaded)\n",
    "list_down = pd.DataFrame(downloaded, columns=['short_url'])\n",
    "# drop .csv\n",
    "list_down['short_url'] = list_down['short_url'].str.replace('.csv', '')\n",
    "list_down_list = list_down['short_url'].tolist()"
   ]
  },
  {
   "cell_type": "code",
   "execution_count": 7,
   "metadata": {},
   "outputs": [
    {
     "data": {
      "text/plain": [
       "True     518\n",
       "False     20\n",
       "Name: short_url, dtype: int64"
      ]
     },
     "execution_count": 7,
     "metadata": {},
     "output_type": "execute_result"
    }
   ],
   "source": [
    "# check for short_urls not in downloaded\n",
    "bfo_urls['short_url'].isin(list_down_list).value_counts()"
   ]
  },
  {
   "cell_type": "code",
   "execution_count": 8,
   "metadata": {},
   "outputs": [],
   "source": [
    "\n",
    "def get_last_events_ufcstats():\n",
    "    \"\"\"\n",
    "    Retrieves information about completed UFC events from the UFC Stats website.\n",
    "    Returns a DataFrame with columns: event_name, event_date, event_url, event_id.\n",
    "    \"\"\"\n",
    "    url = 'http://www.ufcstats.com/statistics/events/completed'\n",
    "    page = requests.get(url)\n",
    "    soup = BeautifulSoup(page.content, 'html.parser')\n",
    "    \n",
    "    # Extract event links and names\n",
    "    events = soup.find_all('a', class_='b-link b-link_style_black')\n",
    "    event_links = [link.get('href') for link in events]\n",
    "    event_names = [link.text.strip() for link in events]\n",
    "\n",
    "    # Extract event dates\n",
    "    event_dates = soup.find_all('span', class_='b-statistics__date')\n",
    "    event_dates = [date.text.strip() for date in event_dates][1:]\n",
    "\n",
    "    # Create DataFrame\n",
    "    df = pd.DataFrame({'event_name': event_names, 'event_date': event_dates, 'event_url': event_links})\n",
    "    df['event_date'] = pd.to_datetime(df['event_date'])\n",
    "    df = df.sort_values(by='event_date', ascending=False).reset_index(drop=True)\n",
    "    df['event_id'] = df['event_url'].apply(lambda x: x.split('/')[-1])\n",
    "    \n",
    "    return df "
   ]
  },
  {
   "cell_type": "code",
   "execution_count": 9,
   "metadata": {},
   "outputs": [
    {
     "data": {
      "text/html": [
       "<div>\n",
       "<style scoped>\n",
       "    .dataframe tbody tr th:only-of-type {\n",
       "        vertical-align: middle;\n",
       "    }\n",
       "\n",
       "    .dataframe tbody tr th {\n",
       "        vertical-align: top;\n",
       "    }\n",
       "\n",
       "    .dataframe thead th {\n",
       "        text-align: right;\n",
       "    }\n",
       "</style>\n",
       "<table border=\"1\" class=\"dataframe\">\n",
       "  <thead>\n",
       "    <tr style=\"text-align: right;\">\n",
       "      <th></th>\n",
       "      <th>event_name</th>\n",
       "      <th>event_date</th>\n",
       "      <th>event_url</th>\n",
       "      <th>event_id</th>\n",
       "    </tr>\n",
       "  </thead>\n",
       "  <tbody>\n",
       "    <tr>\n",
       "      <th>0</th>\n",
       "      <td>UFC Fight Night: Almeida vs. Lewis</td>\n",
       "      <td>2023-11-04</td>\n",
       "      <td>http://www.ufcstats.com/event-details/7c4ec656...</td>\n",
       "      <td>7c4ec656d8fcb867</td>\n",
       "    </tr>\n",
       "    <tr>\n",
       "      <th>1</th>\n",
       "      <td>UFC 294: Makhachev vs. Volkanovski 2</td>\n",
       "      <td>2023-10-21</td>\n",
       "      <td>http://www.ufcstats.com/event-details/13a0fb8f...</td>\n",
       "      <td>13a0fb8fbdafb54f</td>\n",
       "    </tr>\n",
       "    <tr>\n",
       "      <th>2</th>\n",
       "      <td>UFC Fight Night: Yusuff vs. Barboza</td>\n",
       "      <td>2023-10-14</td>\n",
       "      <td>http://www.ufcstats.com/event-details/f3a07827...</td>\n",
       "      <td>f3a078277b3b8ff4</td>\n",
       "    </tr>\n",
       "    <tr>\n",
       "      <th>3</th>\n",
       "      <td>UFC Fight Night: Dawson vs. Green</td>\n",
       "      <td>2023-10-07</td>\n",
       "      <td>http://www.ufcstats.com/event-details/c8a49ff2...</td>\n",
       "      <td>c8a49ff2acb6f3c5</td>\n",
       "    </tr>\n",
       "    <tr>\n",
       "      <th>4</th>\n",
       "      <td>UFC Fight Night: Fiziev vs. Gamrot</td>\n",
       "      <td>2023-09-23</td>\n",
       "      <td>http://www.ufcstats.com/event-details/c945adc2...</td>\n",
       "      <td>c945adc22c2bfe8f</td>\n",
       "    </tr>\n",
       "  </tbody>\n",
       "</table>\n",
       "</div>"
      ],
      "text/plain": [
       "                             event_name event_date  \\\n",
       "0    UFC Fight Night: Almeida vs. Lewis 2023-11-04   \n",
       "1  UFC 294: Makhachev vs. Volkanovski 2 2023-10-21   \n",
       "2   UFC Fight Night: Yusuff vs. Barboza 2023-10-14   \n",
       "3     UFC Fight Night: Dawson vs. Green 2023-10-07   \n",
       "4    UFC Fight Night: Fiziev vs. Gamrot 2023-09-23   \n",
       "\n",
       "                                           event_url          event_id  \n",
       "0  http://www.ufcstats.com/event-details/7c4ec656...  7c4ec656d8fcb867  \n",
       "1  http://www.ufcstats.com/event-details/13a0fb8f...  13a0fb8fbdafb54f  \n",
       "2  http://www.ufcstats.com/event-details/f3a07827...  f3a078277b3b8ff4  \n",
       "3  http://www.ufcstats.com/event-details/c8a49ff2...  c8a49ff2acb6f3c5  \n",
       "4  http://www.ufcstats.com/event-details/c945adc2...  c945adc22c2bfe8f  "
      ]
     },
     "execution_count": 9,
     "metadata": {},
     "output_type": "execute_result"
    }
   ],
   "source": [
    "last_events = get_last_events_ufcstats()\n",
    "last_events.head()"
   ]
  },
  {
   "cell_type": "code",
   "execution_count": 10,
   "metadata": {},
   "outputs": [
    {
     "data": {
      "text/plain": [
       "[]"
      ]
     },
     "execution_count": 10,
     "metadata": {},
     "output_type": "execute_result"
    }
   ],
   "source": [
    "last_events_urls = last_events['event_id'].unique()\n",
    "\n",
    "# get events  in last_events that are not in fight_odds_urls\n",
    "new_events = [event for event in last_events_urls if event not in event_urls]\n",
    "new_events"
   ]
  },
  {
   "cell_type": "markdown",
   "metadata": {},
   "source": [
    "### Get all UFC Events Stored at BFO"
   ]
  },
  {
   "cell_type": "code",
   "execution_count": 11,
   "metadata": {},
   "outputs": [],
   "source": [
    "# use selenium to get the event urls\n",
    "driver = webdriver.Chrome(path + '/chromedriver')\n",
    "\n",
    "search_url= 'https://www.google.com/search?q=site%3Abestfightodds.com/events+UFC&sca_esv=576600514&ei=nno5Zbpwscv0A6y5pZAN&ved=0ahUKEwi6t_b5hJKCAxWxJX0KHaxcCdIQ4dUDCBA&uact=5&oq=site%3Abestfightodds.com%2Fevents+UFC'\n",
    "driver.get(search_url)\n",
    "\n",
    "# wait 5 seconds\n",
    "time.sleep(5)\n",
    "\n",
    "# click 'more results'"
   ]
  },
  {
   "cell_type": "markdown",
   "metadata": {},
   "source": [
    "### Get ALL UfcStats Events"
   ]
  },
  {
   "cell_type": "code",
   "execution_count": 12,
   "metadata": {},
   "outputs": [
    {
     "data": {
      "text/html": [
       "<div>\n",
       "<style scoped>\n",
       "    .dataframe tbody tr th:only-of-type {\n",
       "        vertical-align: middle;\n",
       "    }\n",
       "\n",
       "    .dataframe tbody tr th {\n",
       "        vertical-align: top;\n",
       "    }\n",
       "\n",
       "    .dataframe thead th {\n",
       "        text-align: right;\n",
       "    }\n",
       "</style>\n",
       "<table border=\"1\" class=\"dataframe\">\n",
       "  <thead>\n",
       "    <tr style=\"text-align: right;\">\n",
       "      <th></th>\n",
       "      <th>event_title</th>\n",
       "      <th>event_url</th>\n",
       "      <th>date</th>\n",
       "      <th>location</th>\n",
       "      <th>event_id</th>\n",
       "    </tr>\n",
       "  </thead>\n",
       "  <tbody>\n",
       "    <tr>\n",
       "      <th>0</th>\n",
       "      <td>UFC 295: Prochazka vs. Pereira</td>\n",
       "      <td>http://ufcstats.com/event-details/5a558ba1ff5e...</td>\n",
       "      <td>November 11, 2023</td>\n",
       "      <td>New York City, New York, USA</td>\n",
       "      <td>5a558ba1ff5e9121</td>\n",
       "    </tr>\n",
       "    <tr>\n",
       "      <th>1</th>\n",
       "      <td>UFC Fight Night: Almeida vs. Lewis</td>\n",
       "      <td>http://ufcstats.com/event-details/7c4ec656d8fc...</td>\n",
       "      <td>November 04, 2023</td>\n",
       "      <td>Sao Paulo, Sao Paulo, Brazil</td>\n",
       "      <td>7c4ec656d8fcb867</td>\n",
       "    </tr>\n",
       "    <tr>\n",
       "      <th>2</th>\n",
       "      <td>UFC 294: Makhachev vs. Volkanovski 2</td>\n",
       "      <td>http://ufcstats.com/event-details/13a0fb8fbdaf...</td>\n",
       "      <td>October 21, 2023</td>\n",
       "      <td>Abu Dhabi, Abu Dhabi, United Arab Emirates</td>\n",
       "      <td>13a0fb8fbdafb54f</td>\n",
       "    </tr>\n",
       "    <tr>\n",
       "      <th>3</th>\n",
       "      <td>UFC Fight Night: Yusuff vs. Barboza</td>\n",
       "      <td>http://ufcstats.com/event-details/f3a078277b3b...</td>\n",
       "      <td>October 14, 2023</td>\n",
       "      <td>Las Vegas, Nevada, USA</td>\n",
       "      <td>f3a078277b3b8ff4</td>\n",
       "    </tr>\n",
       "    <tr>\n",
       "      <th>4</th>\n",
       "      <td>UFC Fight Night: Dawson vs. Green</td>\n",
       "      <td>http://ufcstats.com/event-details/c8a49ff2acb6...</td>\n",
       "      <td>October 07, 2023</td>\n",
       "      <td>Las Vegas, Nevada, USA</td>\n",
       "      <td>c8a49ff2acb6f3c5</td>\n",
       "    </tr>\n",
       "    <tr>\n",
       "      <th>...</th>\n",
       "      <td>...</td>\n",
       "      <td>...</td>\n",
       "      <td>...</td>\n",
       "      <td>...</td>\n",
       "      <td>...</td>\n",
       "    </tr>\n",
       "    <tr>\n",
       "      <th>664</th>\n",
       "      <td>UFC 6: Clash of the Titans</td>\n",
       "      <td>http://ufcstats.com/event-details/1c3f5e85b59e...</td>\n",
       "      <td>July 14, 1995</td>\n",
       "      <td>Casper, Wyoming, USA</td>\n",
       "      <td>1c3f5e85b59ec710</td>\n",
       "    </tr>\n",
       "    <tr>\n",
       "      <th>665</th>\n",
       "      <td>UFC 5: The Return of the Beast</td>\n",
       "      <td>http://ufcstats.com/event-details/dedc3bb440d0...</td>\n",
       "      <td>April 07, 1995</td>\n",
       "      <td>Charlotte, North Carolina, USA</td>\n",
       "      <td>dedc3bb440d09554</td>\n",
       "    </tr>\n",
       "    <tr>\n",
       "      <th>666</th>\n",
       "      <td>UFC 4: Revenge of the Warriors</td>\n",
       "      <td>http://ufcstats.com/event-details/b60391da771d...</td>\n",
       "      <td>December 16, 1994</td>\n",
       "      <td>Tulsa, Oklahoma, USA</td>\n",
       "      <td>b60391da771deefe</td>\n",
       "    </tr>\n",
       "    <tr>\n",
       "      <th>667</th>\n",
       "      <td>UFC 3: The American Dream</td>\n",
       "      <td>http://ufcstats.com/event-details/1a49e0670dfa...</td>\n",
       "      <td>September 09, 1994</td>\n",
       "      <td>Charlotte, North Carolina, USA</td>\n",
       "      <td>1a49e0670dfaca31</td>\n",
       "    </tr>\n",
       "    <tr>\n",
       "      <th>668</th>\n",
       "      <td>UFC 2: No Way Out</td>\n",
       "      <td>http://ufcstats.com/event-details/a6a9ab5a824e...</td>\n",
       "      <td>March 11, 1994</td>\n",
       "      <td>Denver, Colorado, USA</td>\n",
       "      <td>a6a9ab5a824e8f66</td>\n",
       "    </tr>\n",
       "  </tbody>\n",
       "</table>\n",
       "<p>669 rows × 5 columns</p>\n",
       "</div>"
      ],
      "text/plain": [
       "                              event_title  \\\n",
       "0          UFC 295: Prochazka vs. Pereira   \n",
       "1      UFC Fight Night: Almeida vs. Lewis   \n",
       "2    UFC 294: Makhachev vs. Volkanovski 2   \n",
       "3     UFC Fight Night: Yusuff vs. Barboza   \n",
       "4       UFC Fight Night: Dawson vs. Green   \n",
       "..                                    ...   \n",
       "664            UFC 6: Clash of the Titans   \n",
       "665        UFC 5: The Return of the Beast   \n",
       "666        UFC 4: Revenge of the Warriors   \n",
       "667             UFC 3: The American Dream   \n",
       "668                     UFC 2: No Way Out   \n",
       "\n",
       "                                             event_url                date  \\\n",
       "0    http://ufcstats.com/event-details/5a558ba1ff5e...   November 11, 2023   \n",
       "1    http://ufcstats.com/event-details/7c4ec656d8fc...   November 04, 2023   \n",
       "2    http://ufcstats.com/event-details/13a0fb8fbdaf...    October 21, 2023   \n",
       "3    http://ufcstats.com/event-details/f3a078277b3b...    October 14, 2023   \n",
       "4    http://ufcstats.com/event-details/c8a49ff2acb6...    October 07, 2023   \n",
       "..                                                 ...                 ...   \n",
       "664  http://ufcstats.com/event-details/1c3f5e85b59e...       July 14, 1995   \n",
       "665  http://ufcstats.com/event-details/dedc3bb440d0...      April 07, 1995   \n",
       "666  http://ufcstats.com/event-details/b60391da771d...   December 16, 1994   \n",
       "667  http://ufcstats.com/event-details/1a49e0670dfa...  September 09, 1994   \n",
       "668  http://ufcstats.com/event-details/a6a9ab5a824e...      March 11, 1994   \n",
       "\n",
       "                                       location          event_id  \n",
       "0                  New York City, New York, USA  5a558ba1ff5e9121  \n",
       "1                  Sao Paulo, Sao Paulo, Brazil  7c4ec656d8fcb867  \n",
       "2    Abu Dhabi, Abu Dhabi, United Arab Emirates  13a0fb8fbdafb54f  \n",
       "3                        Las Vegas, Nevada, USA  f3a078277b3b8ff4  \n",
       "4                        Las Vegas, Nevada, USA  c8a49ff2acb6f3c5  \n",
       "..                                          ...               ...  \n",
       "664                        Casper, Wyoming, USA  1c3f5e85b59ec710  \n",
       "665              Charlotte, North Carolina, USA  dedc3bb440d09554  \n",
       "666                        Tulsa, Oklahoma, USA  b60391da771deefe  \n",
       "667              Charlotte, North Carolina, USA  1a49e0670dfaca31  \n",
       "668                       Denver, Colorado, USA  a6a9ab5a824e8f66  \n",
       "\n",
       "[669 rows x 5 columns]"
      ]
     },
     "execution_count": 12,
     "metadata": {},
     "output_type": "execute_result"
    }
   ],
   "source": [
    "all_events_page = 'http://ufcstats.com/statistics/events/completed?page=all'\n",
    "# scrape all_events_page\n",
    "page = requests.get(all_events_page)\n",
    "# find table\n",
    "soup = BeautifulSoup(page.content, 'html.parser')\n",
    "table = soup.find('table', {'class': 'b-statistics__table-events'})\n",
    "# find all links\n",
    "links = table.find_all('a')\n",
    "# create list of links\n",
    "event_links = []\n",
    "for link in links:\n",
    "    event_links.append(link.get('href'))\n",
    "\n",
    "# create list of link texts\n",
    "event_titles = []\n",
    "for link in links:\n",
    "    event_titles.append(link.text.strip())\n",
    "\n",
    "# put together event titles and links in df\n",
    "event_urls = pd.DataFrame({'event_title': event_titles, 'event_url': event_links})\n",
    "\n",
    "# create list of dates\n",
    "dates = []\n",
    " # dates are b-statistics__date class\n",
    "date_tags = table.find_all('span', {'class': 'b-statistics__date'})\n",
    "for date in date_tags:\n",
    "    dates.append(date.text.strip())\n",
    "\n",
    "# add dates to df\n",
    "event_urls['date'] = dates\n",
    "\n",
    "# get locations\n",
    "locations = []\n",
    " # locations are b-statistics__date class\n",
    "location_tags = table.find_all('td', {'class': 'b-statistics__table-col b-statistics__table-col_style_big-top-padding'})\n",
    "for location in location_tags:\n",
    "    locations.append(location.text.strip())\n",
    "\n",
    "# add locations to df\n",
    "event_urls['location'] = locations\n",
    "\n",
    "# add event_id column\n",
    "event_urls['event_id'] = event_urls['event_url'].apply(lambda x: x.split('/')[-1])\n",
    "\n",
    "\n",
    "\n",
    "event_urls\n"
   ]
  },
  {
   "cell_type": "code",
   "execution_count": 13,
   "metadata": {},
   "outputs": [],
   "source": [
    "# event_urls.to_csv('data/final/aggregates/ufcstats_event_urls.csv', index=False)"
   ]
  },
  {
   "cell_type": "code",
   "execution_count": 14,
   "metadata": {},
   "outputs": [],
   "source": [
    "all_ufcstats_event_ids = event_urls['event_id'].unique()"
   ]
  },
  {
   "attachments": {},
   "cell_type": "markdown",
   "metadata": {},
   "source": [
    "Identify Events to Download"
   ]
  },
  {
   "cell_type": "code",
   "execution_count": 15,
   "metadata": {},
   "outputs": [
    {
     "data": {
      "text/html": [
       "<div>\n",
       "<style scoped>\n",
       "    .dataframe tbody tr th:only-of-type {\n",
       "        vertical-align: middle;\n",
       "    }\n",
       "\n",
       "    .dataframe tbody tr th {\n",
       "        vertical-align: top;\n",
       "    }\n",
       "\n",
       "    .dataframe thead th {\n",
       "        text-align: right;\n",
       "    }\n",
       "</style>\n",
       "<table border=\"1\" class=\"dataframe\">\n",
       "  <thead>\n",
       "    <tr style=\"text-align: right;\">\n",
       "      <th></th>\n",
       "      <th>event_name</th>\n",
       "      <th>event_date</th>\n",
       "      <th>event_url</th>\n",
       "      <th>event_id</th>\n",
       "    </tr>\n",
       "  </thead>\n",
       "  <tbody>\n",
       "  </tbody>\n",
       "</table>\n",
       "</div>"
      ],
      "text/plain": [
       "Empty DataFrame\n",
       "Columns: [event_name, event_date, event_url, event_id]\n",
       "Index: []"
      ]
     },
     "execution_count": 15,
     "metadata": {},
     "output_type": "execute_result"
    }
   ],
   "source": [
    "missing_events = last_events[last_events['event_id'].isin(new_events)]\n",
    "# strip event names\n",
    "missing_events['event_name'] = missing_events['event_name'].apply(lambda x: x.strip())\n",
    "missing_events"
   ]
  },
  {
   "attachments": {},
   "cell_type": "markdown",
   "metadata": {},
   "source": [
    "Find BestFightOdds url for event"
   ]
  },
  {
   "cell_type": "code",
   "execution_count": 16,
   "metadata": {},
   "outputs": [],
   "source": [
    "driver = webdriver.Chrome(path + '/chromedriver')"
   ]
  },
  {
   "cell_type": "markdown",
   "metadata": {},
   "source": [
    "## NOTE: FIGHT ODDS NOT SCRAPING? (Sep21)\n",
    "\n",
    "- This is going from an event-based search, when I know from experience that BestFightOdds is bad at that and is better as a Fighter-First Search. "
   ]
  },
  {
   "cell_type": "code",
   "execution_count": 18,
   "metadata": {},
   "outputs": [
    {
     "name": "stdout",
     "output_type": "stream",
     "text": [
      "no missing events\n"
     ]
    }
   ],
   "source": [
    "# find the rows where event_odds_url is empty in the fight_odds_urls dataframe\n",
    "try:\n",
    "    missing= fight_odds_urls[fight_odds_urls['event_odds_url'].isnull()]\n",
    "    missing\n",
    "except:\n",
    "    print('no missing events')\n"
   ]
  },
  {
   "cell_type": "markdown",
   "metadata": {},
   "source": [
    "## MUST Scrape Individually from BFO"
   ]
  },
  {
   "cell_type": "code",
   "execution_count": null,
   "metadata": {},
   "outputs": [],
   "source": [
    "# # rename bfo_url to event_odds_url\n",
    "# missing_events = missing_events.rename(columns={'bfo_url': 'event_odds_url'})\n",
    "# # rename event_name to event_title\n",
    "# missing_events = missing_events.rename(columns={'event_name': 'event_title'})\n",
    "# # drop event_id\n",
    "# missing_events = missing_events.drop(columns=['event_id'])"
   ]
  },
  {
   "cell_type": "code",
   "execution_count": null,
   "metadata": {},
   "outputs": [],
   "source": [
    "# # update fight_odds_urls with missing_events\n",
    "# fight_odds_urls = pd.concat([fight_odds_urls, missing_events], axis=0)\n",
    "# fight_odds_urls = fight_odds_urls.reset_index(drop=True)\n",
    "# fight_odds_urls.head(3)"
   ]
  },
  {
   "attachments": {},
   "cell_type": "markdown",
   "metadata": {},
   "source": [
    "#### Scraping BFO via Requests & Headers"
   ]
  },
  {
   "cell_type": "code",
   "execution_count": null,
   "metadata": {},
   "outputs": [],
   "source": [
    "# Must now scrape BFO via Selenium, then grab the tables. \n",
    "\n",
    "url = 'https://www.bestfightodds.com/events/ufc-282-2621'\n",
    "# driver already open\n",
    "driver.get(url)\n",
    "# wait 4 seconds\n",
    "time.sleep(4)\n",
    "# get the tables\n",
    "tables = pd.read_html(driver.page_source)\n",
    "# print table 1\n",
    "tables[0]\n",
    "\n",
    "\n",
    "\n",
    "\n",
    "\n",
    "# Following is old, when we used fake headers\n",
    "# header = {\n",
    "#   \"User-Agent\": \"Mozilla/5.0 (X11; Linux x86_64) AppleWebKit/537.36 (KHTML, like Gecko) Chrome/50.0.2661.75 Safari/537.36\",\n",
    "#   \"X-Requested-With\": \"XMLHttpRequest\"\n",
    "# }\n",
    "# r = requests.get(url, headers = header)\n",
    "# print\n",
    "#print(r)\n",
    "# dfs = pd.read_html(r.text)\n",
    "# dfs[0]"
   ]
  },
  {
   "attachments": {},
   "cell_type": "markdown",
   "metadata": {},
   "source": [
    "## Scraping BFO Data"
   ]
  },
  {
   "cell_type": "code",
   "execution_count": null,
   "metadata": {},
   "outputs": [],
   "source": [
    "# fight_odds_urls = pd.read_csv('data/final/events/Final_Hand_Done_BFO_Urls_with UFC_Stats_Urls.csv')"
   ]
  },
  {
   "cell_type": "code",
   "execution_count": null,
   "metadata": {},
   "outputs": [],
   "source": [
    "all_event_odds_urls = fight_odds_urls.event_odds_url.unique()\n",
    "len(all_event_odds_urls)"
   ]
  },
  {
   "cell_type": "code",
   "execution_count": null,
   "metadata": {},
   "outputs": [],
   "source": [
    "len('https://www.bestfightodds.com/events/')"
   ]
  },
  {
   "cell_type": "code",
   "execution_count": null,
   "metadata": {},
   "outputs": [],
   "source": [
    "def get_odds(url):\n",
    "        driver.get(url)\n",
    "        # wait 4 seconds\n",
    "        time.sleep(4)\n",
    "\n",
    "        # get the tables\n",
    "        tables = pd.read_html(driver.page_source)\n",
    "        data = tables[1]\n",
    "        data.rename(columns={'Unnamed: 0': 'fighter'}, inplace=True)\n",
    "        data['event_odds_url'] = url\n",
    "        event_name = url.split('/')[4]\n",
    "        data['event_id'] = event_name\n",
    "        data.to_csv('data/final/events/odds_per_event/' + event_name + '.csv', index=False)\n",
    "        return data\n",
    "\n"
   ]
  },
  {
   "cell_type": "code",
   "execution_count": null,
   "metadata": {},
   "outputs": [],
   "source": [
    "get_odds(all_event_odds_urls[1]).head(2)"
   ]
  },
  {
   "cell_type": "code",
   "execution_count": null,
   "metadata": {},
   "outputs": [],
   "source": [
    "# drop nan\n",
    "all_event_odds_urls = all_event_odds_urls[~pd.isnull(all_event_odds_urls)]\n",
    "all_event_odds_urls"
   ]
  },
  {
   "cell_type": "markdown",
   "metadata": {},
   "source": []
  },
  {
   "cell_type": "code",
   "execution_count": null,
   "metadata": {},
   "outputs": [],
   "source": [
    "# Initialize a counter variable to keep track of the number of URLs processed\n",
    "n = 0\n",
    "\n",
    "# Initialize lists to store URLs that resulted in errors and those that were processed successfully\n",
    "errors = []\n",
    "complete = []\n",
    "\n",
    "# Get a list of filenames from the 'data/final/events/odds_per_event/' directory\n",
    "files = os.listdir('data/final/events/odds_per_event/')\n",
    "\n",
    "# Extract the file identifiers (excluding the file extension) to store them in 'file_list'\n",
    "file_list = [n[:-4] for n in files]\n",
    "\n",
    "# Loop through each URL in the list of URLs pointing to event odds pages\n",
    "for url in all_event_odds_urls:\n",
    "    # Extract the unique identifier from the URL (excluding the file extension)\n",
    "    url_file_name = url.split('/')[-1]\n",
    "    url_file_name2 = url_file_name[:-4]\n",
    "    \n",
    "    # Check if the unique identifier is already in the list of processed files\n",
    "    if url_file_name not in file_list:\n",
    "        try:\n",
    "            # Attempt to get odds data from the URL using the 'get_odds' function\n",
    "            get_odds(url)\n",
    "            \n",
    "            # Print a message indicating the progress (number of URLs processed out of total)\n",
    "            print(f'{n} / {len(all_event_odds_urls)}')\n",
    "            \n",
    "            # Increment the counter variable\n",
    "            n += 1\n",
    "        except:\n",
    "            # Print an error message if an exception occurs while getting odds data\n",
    "            print(f'ERROR! {n} / {len(all_event_odds_urls)}')\n",
    "            \n",
    "            # Append the problematic URL to the 'errors' list\n",
    "            errors.append(url)\n",
    "            \n",
    "            # Increment the counter variable\n",
    "            n += 1\n",
    "    else:\n",
    "        # If the unique identifier is already in 'file_list', print a message indicating that it exists\n",
    "        print(f'{url_file_name} already exists')\n",
    "        \n",
    "        # Append the unique identifier to the 'complete' list\n",
    "        complete.append(url_file_name)\n",
    "\n",
    "# Print the total number of errors encountered during the execution\n",
    "print(f' total errors: {len(errors)}')\n"
   ]
  },
  {
   "cell_type": "markdown",
   "metadata": {},
   "source": [
    "### Append Together"
   ]
  },
  {
   "cell_type": "code",
   "execution_count": null,
   "metadata": {},
   "outputs": [],
   "source": [
    "# Get list of all files in 'data/final/events/odds_per_event/' directory\n",
    "files = os.listdir('data/final/events/odds_per_event/')\n",
    "\n",
    "# Create an empty list to store all the event odds data frames\n",
    "all_event_odds = []\n",
    "\n",
    "# Loop through each file in the directory\n",
    "for file in files:\n",
    "    # Read the csv file and store it as a pandas data frame\n",
    "    df = pd.read_csv('data/final/events/odds_per_event/' + file)\n",
    "    # Append the data frame to the list of all event odds data frames\n",
    "    all_event_odds.append(df)\n",
    "\n",
    "# Concatenate all the data frames in the list into a single data frame\n",
    "all_event_odds = pd.concat(all_event_odds)\n",
    "\n",
    "# Print the shape (dimensions) of the final data frame and display the first few rows\n",
    "print(all_event_odds.shape)\n",
    "all_event_odds.head()"
   ]
  },
  {
   "attachments": {},
   "cell_type": "markdown",
   "metadata": {},
   "source": [
    "Add Event Names & URLs to Event_Odds df"
   ]
  },
  {
   "cell_type": "code",
   "execution_count": null,
   "metadata": {},
   "outputs": [],
   "source": [
    "def get_event_title(event_odds_url):\n",
    "    # first, filter the fight_odds_urls dataframe to only include rows with a matching event_odds_url\n",
    "    data = fight_odds_urls[fight_odds_urls['event_odds_url'] == event_odds_url]\n",
    "    # next, extract the event_title value from the filtered dataframe\n",
    "    event_name = data.event_title.values[0]\n",
    "    # finally, return the event_title value\n",
    "    return event_name\n",
    "\n",
    "def get_ufcstats_url(event_odds_url):\n",
    "    # similar to the previous function, filter the fight_odds_urls dataframe and extract the event_url value\n",
    "    data = fight_odds_urls[fight_odds_urls['event_odds_url'] == event_odds_url]\n",
    "    event_url = data.event_url.values[0]\n",
    "    # return the event_url value\n",
    "    return event_url"
   ]
  },
  {
   "cell_type": "code",
   "execution_count": null,
   "metadata": {},
   "outputs": [],
   "source": [
    "all_event_odds['event_name'] = all_event_odds.apply(lambda row: get_event_title(row['event_odds_url']), axis=1)"
   ]
  },
  {
   "cell_type": "code",
   "execution_count": null,
   "metadata": {},
   "outputs": [],
   "source": [
    "all_event_odds['event_ufcstats_url'] = all_event_odds.apply(lambda row: get_ufcstats_url(row['event_odds_url']), axis=1)"
   ]
  },
  {
   "cell_type": "code",
   "execution_count": null,
   "metadata": {},
   "outputs": [],
   "source": [
    "all_event_odds.head(3)"
   ]
  },
  {
   "cell_type": "code",
   "execution_count": null,
   "metadata": {},
   "outputs": [],
   "source": [
    "all_event_odds.to_csv('data/final/odds/All_Odds_by_Fighter_V1.csv', index=False)"
   ]
  },
  {
   "cell_type": "code",
   "execution_count": null,
   "metadata": {},
   "outputs": [],
   "source": [
    "all_event_odds['5D'] = all_event_odds['5D'].str[:-1]\n",
    "all_event_odds['5D'] = all_event_odds['5D'].astype(float)\n",
    "all_event_odds.head(3)"
   ]
  },
  {
   "cell_type": "code",
   "execution_count": null,
   "metadata": {},
   "outputs": [],
   "source": [
    "all_event_odds['Ref'] = all_event_odds['Ref'].str[:-1]\n",
    "all_event_odds['Ref'] = all_event_odds['Ref'].astype(float)\n",
    "all_event_odds.head(3)"
   ]
  },
  {
   "cell_type": "code",
   "execution_count": null,
   "metadata": {},
   "outputs": [],
   "source": [
    "# Choose columns to keep\n",
    "cols = ['fighter', '5D', 'Ref', 'event_odds_url', 'event_ufcstats_url', 'event_id', 'event_name']\n",
    "all_event_odds = all_event_odds[cols]\n",
    "all_event_odds.head()"
   ]
  },
  {
   "cell_type": "code",
   "execution_count": null,
   "metadata": {},
   "outputs": [],
   "source": [
    "# get shape\n",
    "all_event_odds.shape"
   ]
  },
  {
   "cell_type": "code",
   "execution_count": null,
   "metadata": {},
   "outputs": [],
   "source": [
    "all_event_odds.to_csv('data/final/odds/All_Odds_by_Fighter_V2.csv', index=False)\n"
   ]
  },
  {
   "cell_type": "code",
   "execution_count": null,
   "metadata": {},
   "outputs": [],
   "source": [
    "all_event_odds.to_csv('data/a_minimal/All_Fight_Odds.csv', index=False)"
   ]
  },
  {
   "cell_type": "markdown",
   "metadata": {},
   "source": [
    "## Summary\n",
    "- ALL ODDS by fighter are available at:\n",
    "  - data/ufc_BestFightOdds/All_Event_Odds_by_Fighter.csv\n",
    "- You can combine this with UfcStatsData easily using 'event_ufcstats_url' "
   ]
  },
  {
   "cell_type": "markdown",
   "metadata": {},
   "source": [
    "# Add All Events Df\n",
    "\n",
    "Saved in final/events"
   ]
  },
  {
   "cell_type": "code",
   "execution_count": null,
   "metadata": {},
   "outputs": [],
   "source": [
    "all_event_odds = pd.read_csv('data/final/odds/All_Odds_by_Fighter_V2.csv')"
   ]
  },
  {
   "cell_type": "code",
   "execution_count": null,
   "metadata": {},
   "outputs": [],
   "source": [
    "# events are located in data/ufc_stats/events2\n",
    "\n",
    "folder = 'data/ufc_stats/events2/'\n",
    "\n",
    "# aggregate all events into one dataframe\n",
    "all_events = []\n",
    "\n",
    "for file in os.listdir(folder):\n",
    "    df = pd.read_csv(folder + file)\n",
    "    all_events.append(df)\n",
    "\n",
    "all_events = pd.concat(all_events)\n",
    "\n",
    "print(all_events.shape)\n",
    "all_events.head()"
   ]
  },
  {
   "cell_type": "code",
   "execution_count": null,
   "metadata": {},
   "outputs": [],
   "source": [
    "all_events.to_csv('data/final/events/All_Events_V1.csv', index=False)"
   ]
  },
  {
   "cell_type": "code",
   "execution_count": null,
   "metadata": {},
   "outputs": [],
   "source": [
    "all_events = pd.read_csv('data/final/events/All_Events_V1.csv')"
   ]
  },
  {
   "cell_type": "markdown",
   "metadata": {},
   "source": [
    "# Add Odd Changes to Odds"
   ]
  },
  {
   "cell_type": "code",
   "execution_count": null,
   "metadata": {},
   "outputs": [],
   "source": [
    "# create a function to extract odds data from a given URL\n",
    "def get_odds(url):\n",
    "    \n",
    "    # add headers to avoid getting blocked while making requests\n",
    "    headers = {\n",
    "        \"User-Agent\": \"Mozilla/5.0 (X11; Linux x86_64) AppleWebKit/537.36 (KHTML, like Gecko) Chrome/50.0.2661.75 Safari/537.36\",\n",
    "        \"X-Requested-With\": \"XMLHttpRequest\"\n",
    "    }\n",
    "    \n",
    "    # make a GET request to the URL with the provided headers\n",
    "    r = requests.get(url, headers=headers)\n",
    "    \n",
    "    # scrape the HTML tables present in the response content\n",
    "    dfs = pd.read_html(r.text)\n",
    "    \n",
    "    # extract the relevant data from the second table\n",
    "    data = dfs[1]\n",
    "    \n",
    "    # rename the first column as \"fighter\" for better readability\n",
    "    data.rename(columns={'Unnamed: 0': 'fighter'}, inplace=True)\n",
    "    \n",
    "    # add the event odds URL as a new column in the dataframe\n",
    "    data['event_odds_url'] = url\n",
    "    \n",
    "    # extract the event name from the URL and add it as a new column in the dataframe\n",
    "    event_name = url.split('/')[4]\n",
    "    data['event_id'] = event_name\n",
    "    \n",
    "    # uncomment the following line to save the extracted data as a CSV file\n",
    "    # data.to_csv('data/ufc_BestFightOdds/odds_by_event/' + event_name + '.csv', index=False)\n",
    "    \n",
    "    # return the dataframe with the extracted odds data\n",
    "    return data"
   ]
  },
  {
   "cell_type": "code",
   "execution_count": null,
   "metadata": {},
   "outputs": [],
   "source": [
    "def get_bfodds(event_url):\n",
    "    # scrape the changes in odds by event url\n",
    "    \n",
    "    driver = webdriver.Chrome()\n",
    "    driver.get(event_url)\n",
    "\n",
    "    # click show all\n",
    "    driver.find_element_by_class_name('event-swing-expand').click()\n",
    "    #wait 2 seconds\n",
    "    time.sleep(2)\n",
    "\n",
    "    event_swing_container = driver.find_element_by_id('event-swing-container')\n",
    "    event_swing_container.text\n",
    "\n",
    "\n",
    "    # the first half of the text is the odds changes, the seconds half are the names. Lets match them up. \n",
    "    # first split the text by new line\n",
    "    event_swing_container.text.split('\\n')\n",
    "\n",
    "    # get the names. You can identify them because they will be more than 5 characters long\n",
    "    names = [x for x in event_swing_container.text.split('\\n') if len(x) > 5]\n",
    "    names\n",
    "\n",
    "    # get the odds changes\n",
    "    odds_changes = [x for x in event_swing_container.text.split('\\n') if '%' in x]\n",
    "    odds_changes\n",
    "\n",
    "    # get the event name\n",
    "    event_name = driver.find_element_by_class_name('table-header')\n",
    "    # name is h1 in event_name\n",
    "    name = event_name.find_element_by_tag_name('h1')\n",
    "    event = name.text\n",
    "\n",
    "    # get the url\n",
    "    url = driver.current_url\n",
    "\n",
    "\n",
    "    # create a dataframe\n",
    "    df = pd.DataFrame({'names': names, 'odds_changes': odds_changes, 'event': event, 'event_url': url})\n",
    "    \n",
    "    #close the driver\n",
    "    driver.close()\n",
    "\n",
    "    return df"
   ]
  },
  {
   "cell_type": "code",
   "execution_count": null,
   "metadata": {},
   "outputs": [],
   "source": [
    "all_odds_eventlist = all_event_odds['event_odds_url'].unique().tolist()"
   ]
  },
  {
   "cell_type": "code",
   "execution_count": null,
   "metadata": {},
   "outputs": [],
   "source": [
    "# Initialize lists to keep track of completed, failed, and newly completed events\n",
    "already_complete = []\n",
    "failed = []\n",
    "newly_complete = []\n",
    "\n",
    "# Iterate through all events in the all_odds_eventlist\n",
    "for url in all_odds_eventlist:\n",
    "    # Extract the event name from the URL\n",
    "    event_name = url.split('/')[-1]\n",
    "    \n",
    "    # Check if the event has already been completed\n",
    "    if str(event_name) + '.csv' in os.listdir('data/final/odds/odds_changes/'):\n",
    "        print('already done with ' + url.split('/')[-1])\n",
    "        already_complete.append(event_name)\n",
    "        continue\n",
    "    else:\n",
    "        try:\n",
    "            # Get the odds data for the event\n",
    "            df = get_bfodds(url)\n",
    "            name = url.split('/')[-1]\n",
    "            \n",
    "            # Save the odds data to a CSV file\n",
    "            df.to_csv('data/final/odds/odds_changes/' + name + '.csv', index=False)\n",
    "            newly_complete.append(name)\n",
    "            print('done with ' + name)\n",
    "        except:\n",
    "            # If there's an error, add the event to the failed list\n",
    "            name = url.split('/')[-1]\n",
    "            failed.append(name)\n",
    "            print('failed on ' + name)\n",
    "            continue\n",
    "\n",
    "# Print the summary of completed, newly completed, and failed events\n",
    "print(\"\")\n",
    "print('already done with ' + str(len(already_complete)) + ' events')\n",
    "print('newly done with ' + str(len(newly_complete)) + ' events')\n",
    "print('failed on ' + str(len(failed)) + ' events')"
   ]
  },
  {
   "cell_type": "code",
   "execution_count": null,
   "metadata": {},
   "outputs": [],
   "source": [
    "# aggregate all odds changes into one dataframe\n",
    "all_odds_changes = []\n",
    "\n",
    "for file in os.listdir('data/final/odds/odds_changes/'):\n",
    "    df = pd.read_csv('data/final/odds/odds_changes/' + file)\n",
    "    # append\n",
    "    all_odds_changes.append(df)\n",
    "\n",
    "all_odds_changes = pd.concat(all_odds_changes)\n",
    "\n",
    "print(all_odds_changes.shape)\n",
    "all_odds_changes.to_csv('data/final/aggregates/All_Odds_Changes_V1.csv', index=False)\n",
    "all_odds_changes"
   ]
  },
  {
   "attachments": {},
   "cell_type": "markdown",
   "metadata": {},
   "source": [
    "### Edit Event_odds \n",
    "\n",
    "Get rid of alternate lines"
   ]
  },
  {
   "cell_type": "code",
   "execution_count": null,
   "metadata": {},
   "outputs": [],
   "source": [
    "all_event_odds = pd.read_csv('data/final/odds/All_Odds_by_Fighter_V2.csv')\n",
    "all_event_odds.head(3)"
   ]
  },
  {
   "cell_type": "code",
   "execution_count": null,
   "metadata": {},
   "outputs": [],
   "source": [
    "all_options = all_event_odds['fighter'].value_counts()\n",
    "all_options = pd.DataFrame(all_options)\n",
    "all_options.reset_index(inplace=True)\n",
    "delete_options = all_options.head(120)\n",
    "delete_options"
   ]
  },
  {
   "cell_type": "code",
   "execution_count": null,
   "metadata": {},
   "outputs": [],
   "source": [
    "delete_options_list = delete_options['index'].tolist()"
   ]
  },
  {
   "cell_type": "code",
   "execution_count": null,
   "metadata": {},
   "outputs": [],
   "source": [
    "# delete rows when fighter is in delete_options_list\n",
    "all_event_odds = all_event_odds[~all_event_odds['fighter'].isin(delete_options_list)]\n",
    "all_event_odds.head(2)"
   ]
  },
  {
   "cell_type": "code",
   "execution_count": null,
   "metadata": {},
   "outputs": [],
   "source": [
    "# delete any rows where fighter has more than 3 words\n",
    "all_event_odds = all_event_odds[~all_event_odds['fighter'].str.contains('round')]\n",
    "all_event_odds = all_event_odds[~all_event_odds['fighter'].str.contains('decision')]\n",
    "all_event_odds = all_event_odds[~all_event_odds['fighter'].str.contains('submission')]\n",
    "all_event_odds = all_event_odds[~all_event_odds['fighter'].str.contains('knockout')]\n",
    "all_event_odds = all_event_odds[~all_event_odds['fighter'].str.contains('draw')]\n",
    "all_event_odds = all_event_odds[~all_event_odds['fighter'].str.contains('scorecards')]\n",
    "all_event_odds = all_event_odds[~all_event_odds['fighter'].str.contains('majority')]\n",
    "all_event_odds = all_event_odds[~all_event_odds['fighter'].str.contains('Not')]\n",
    "all_event_odds = all_event_odds[~all_event_odds['fighter'].str.contains('wins')]\n",
    "all_event_odds = all_event_odds[~all_event_odds['fighter'].str.contains('losses')]\n",
    "all_event_odds\n"
   ]
  },
  {
   "cell_type": "markdown",
   "metadata": {},
   "source": [
    "# Add Odds Change to Odds"
   ]
  },
  {
   "cell_type": "code",
   "execution_count": null,
   "metadata": {},
   "outputs": [],
   "source": [
    "def get_odds_change_from_db(event_odds_url, fighter):\n",
    "    \"\"\"\n",
    "    Get the odds change from the all_odds_changes dataframe.\n",
    "    \"\"\"\n",
    "\n",
    "    try:\n",
    "        odds_change = all_odds_changes[(all_odds_changes['event_url'] == event_odds_url)\n",
    "                                       & (all_odds_changes['names'] == fighter)]['odds_changes'].values[0]\n",
    "        \n",
    "        return odds_change\n",
    "    \n",
    "    except:\n",
    "        return np.nan"
   ]
  },
  {
   "cell_type": "code",
   "execution_count": null,
   "metadata": {},
   "outputs": [],
   "source": [
    "# test\n",
    "get_odds_change_from_db('https://www.bestfightodds.com/events/ufc-100-137', 'Brock Lesnar')"
   ]
  },
  {
   "cell_type": "code",
   "execution_count": null,
   "metadata": {},
   "outputs": [],
   "source": [
    "# Create odds_change column\n",
    "all_event_odds[\"odds_change\"] = all_event_odds.apply(\n",
    "    lambda row: get_odds_change_from_db(row[\"event_odds_url\"], row[\"fighter\"]),\n",
    "    axis=1\n",
    ")"
   ]
  },
  {
   "cell_type": "code",
   "execution_count": null,
   "metadata": {},
   "outputs": [],
   "source": [
    "# get rid of %\n",
    "all_event_odds['odds_change'] = all_event_odds['odds_change'].str.replace('%', '')\n",
    "# turn into float\n",
    "all_event_odds['odds_change'] = all_event_odds['odds_change'].astype(float)\n",
    "all_event_odds.head(3)"
   ]
  },
  {
   "cell_type": "code",
   "execution_count": null,
   "metadata": {},
   "outputs": [],
   "source": [
    "# save to csv\n",
    "all_event_odds.to_csv('data/final/odds/All_Odds_by_Fighter_WithChange.csv', index=False)"
   ]
  },
  {
   "cell_type": "code",
   "execution_count": null,
   "metadata": {},
   "outputs": [],
   "source": [
    "print(f' This was last run: {datetime.datetime.now()}')"
   ]
  }
 ],
 "metadata": {
  "kernelspec": {
   "display_name": "Python 3.10.8 ('Trav310')",
   "language": "python",
   "name": "python3"
  },
  "language_info": {
   "codemirror_mode": {
    "name": "ipython",
    "version": 3
   },
   "file_extension": ".py",
   "mimetype": "text/x-python",
   "name": "python",
   "nbconvert_exporter": "python",
   "pygments_lexer": "ipython3",
   "version": "3.11.3"
  },
  "orig_nbformat": 4,
  "vscode": {
   "interpreter": {
    "hash": "f69e36f0e9b2c8d9f319b417484f14b77c91d7bef950ad448542405eb1e0e594"
   }
  }
 },
 "nbformat": 4,
 "nbformat_minor": 2
}
