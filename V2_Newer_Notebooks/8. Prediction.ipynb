{
 "cells": [
  {
   "cell_type": "code",
   "execution_count": 110,
   "metadata": {},
   "outputs": [],
   "source": [
    "import pandas as pd\n",
    "import numpy as np\n",
    "import matplotlib.pyplot as plt\n",
    "%matplotlib inline\n",
    "import matplotlib.ticker as mtick\n",
    "import sqlite3\n",
    "import seaborn as sns\n",
    "from matplotlib.pyplot import figure\n",
    "import matplotlib.ticker as ticker\n",
    "from bs4 import BeautifulSoup\n",
    "import time\n",
    "import requests     \n",
    "import shutil       \n",
    "import datetime\n",
    "from scipy.stats import norm\n",
    "import warnings\n",
    "warnings.filterwarnings('ignore')\n",
    "import requests\n",
    "import json\n",
    "import xgboost\n",
    "from xgboost import XGBClassifier\n",
    "from random import randint\n",
    "import  random\n",
    "import os\n",
    "os.chdir('C:/Users/travis/OneDrive/Data Science/Personal_Projects/Sports/UFC_Prediction_V2')\n",
    "from cmath import nan\n",
    "from selenium import webdriver\n",
    "from selenium.webdriver.common.keys import Keys\n",
    "from bs4 import BeautifulSoup\n",
    "from selenium.webdriver.common.by import By\n",
    "from selenium.webdriver.support.ui import WebDriverWait\n",
    "from selenium.webdriver.support import expected_conditions as EC\n",
    "from sklearn.pipeline import Pipeline, make_pipeline, FeatureUnion\n",
    "from sklearn.tree import plot_tree\n",
    "from sklearn.model_selection import train_test_split, cross_val_score\n",
    "from sklearn.compose import make_column_selector as selector, ColumnTransformer\n",
    "from sklearn.preprocessing import OneHotEncoder, StandardScaler, OrdinalEncoder\n",
    "import pickle\n",
    "from sklearn.metrics import fbeta_score\n",
    "import winsound\n",
    "from sklearn.linear_model import LinearRegression\n",
    "from sklearn import tree, preprocessing\n",
    "from sklearn.model_selection import train_test_split\n",
    "from sklearn.metrics import accuracy_score, confusion_matrix, classification_report, plot_confusion_matrix, recall_score\n",
    "from sklearn.tree import DecisionTreeClassifier\n",
    "from sklearn.ensemble import BaggingClassifier, RandomForestClassifier, ExtraTreesClassifier\n",
    "from sklearn.model_selection import GridSearchCV, RandomizedSearchCV\n",
    "from sklearn.neighbors import KNeighborsClassifier\n",
    "from sklearn.metrics import roc_curve, auc, f1_score, make_scorer, recall_score\n",
    "from sklearn.svm import SVC\n",
    "from sklearn.linear_model import LogisticRegression\n",
    "from matplotlib.offsetbox import OffsetImage, AnnotationBbox\n",
    "import pprint\n",
    "import pickle\n",
    "import winsound\n",
    "from cmath import nan\n",
    "import plotly\n",
    "import plotly.express as px\n",
    "\n",
    "\n",
    "# Sound Variables\n",
    "sound_file = \"data/audio/Jobs Done.wav\"\n",
    "\n",
    "def play_jobs_done():\n",
    "    winsound.PlaySound(sound_file, winsound.SND_FILENAME)\n",
    "\n",
    "\n",
    "bad_sound_file = 'data/audio/Danger Will Robinson.wav'\n",
    "\n",
    "def play_danger():\n",
    "    winsound.PlaySound(bad_sound_file, winsound.SND_FILENAME)\n",
    "\n"
   ]
  },
  {
   "cell_type": "code",
   "execution_count": 2,
   "metadata": {},
   "outputs": [
    {
     "data": {
      "text/html": [
       "<div>\n",
       "<style scoped>\n",
       "    .dataframe tbody tr th:only-of-type {\n",
       "        vertical-align: middle;\n",
       "    }\n",
       "\n",
       "    .dataframe tbody tr th {\n",
       "        vertical-align: top;\n",
       "    }\n",
       "\n",
       "    .dataframe thead th {\n",
       "        text-align: right;\n",
       "    }\n",
       "</style>\n",
       "<table border=\"1\" class=\"dataframe\">\n",
       "  <thead>\n",
       "    <tr style=\"text-align: right;\">\n",
       "      <th></th>\n",
       "      <th>Unnamed: 0.2</th>\n",
       "      <th>Unnamed: 0</th>\n",
       "      <th>Fighter_A</th>\n",
       "      <th>Fighter_B</th>\n",
       "      <th>A_Kd</th>\n",
       "      <th>B_Kd</th>\n",
       "      <th>A_Sig_strike_land</th>\n",
       "      <th>A_Sig_strike_att</th>\n",
       "      <th>B_Sig_strike_land</th>\n",
       "      <th>B_Sig_strike_att</th>\n",
       "      <th>...</th>\n",
       "      <th>Dif_Opp_Avg_Ctrl_time_sec_per_round</th>\n",
       "      <th>Dif_Opp_Avg_Ctrl_time_tot_per_round</th>\n",
       "      <th>Dif_Opp_Avg_Head_Strikes_land_per_round</th>\n",
       "      <th>Dif_Opp_Avg_Head_Strikes_att_per_round</th>\n",
       "      <th>Dif_Opp_Avg_Total_Strikes_land_per_round</th>\n",
       "      <th>Dif_Opp_Avg_Total_Strikes_att_per_round</th>\n",
       "      <th>A_Initial_Martial_Art</th>\n",
       "      <th>B_Initial_Martial_Art</th>\n",
       "      <th>A_Second_Martial_Art</th>\n",
       "      <th>B_Second_Martial_Art</th>\n",
       "    </tr>\n",
       "  </thead>\n",
       "  <tbody>\n",
       "    <tr>\n",
       "      <th>0</th>\n",
       "      <td>0</td>\n",
       "      <td>0</td>\n",
       "      <td>Holly Holm</td>\n",
       "      <td>Irene Aldana</td>\n",
       "      <td>0</td>\n",
       "      <td>0</td>\n",
       "      <td>154</td>\n",
       "      <td>301</td>\n",
       "      <td>69</td>\n",
       "      <td>185</td>\n",
       "      <td>...</td>\n",
       "      <td>-0.538617</td>\n",
       "      <td>-4.167111</td>\n",
       "      <td>-1.585026</td>\n",
       "      <td>-5.042354</td>\n",
       "      <td>-2.424553</td>\n",
       "      <td>-6.279826</td>\n",
       "      <td>Boxing</td>\n",
       "      <td>Muay Thai</td>\n",
       "      <td>Kickboxing</td>\n",
       "      <td>Boxing</td>\n",
       "    </tr>\n",
       "    <tr>\n",
       "      <th>1</th>\n",
       "      <td>1</td>\n",
       "      <td>1</td>\n",
       "      <td>Greg Hardy</td>\n",
       "      <td>Ben Sosoli</td>\n",
       "      <td>0</td>\n",
       "      <td>0</td>\n",
       "      <td>54</td>\n",
       "      <td>105</td>\n",
       "      <td>26</td>\n",
       "      <td>97</td>\n",
       "      <td>...</td>\n",
       "      <td>NaN</td>\n",
       "      <td>NaN</td>\n",
       "      <td>-inf</td>\n",
       "      <td>-inf</td>\n",
       "      <td>-inf</td>\n",
       "      <td>-inf</td>\n",
       "      <td>Brazilian Jiu-Jitsu</td>\n",
       "      <td>Muay Thai</td>\n",
       "      <td>Muay Thai</td>\n",
       "      <td>NaN</td>\n",
       "    </tr>\n",
       "    <tr>\n",
       "      <th>2</th>\n",
       "      <td>2</td>\n",
       "      <td>2</td>\n",
       "      <td>Jared Rosholt</td>\n",
       "      <td>Josh Copeland</td>\n",
       "      <td>0</td>\n",
       "      <td>0</td>\n",
       "      <td>22</td>\n",
       "      <td>45</td>\n",
       "      <td>9</td>\n",
       "      <td>36</td>\n",
       "      <td>...</td>\n",
       "      <td>-4.611111</td>\n",
       "      <td>-51.277778</td>\n",
       "      <td>-5.416667</td>\n",
       "      <td>-16.861111</td>\n",
       "      <td>-11.888889</td>\n",
       "      <td>-24.777778</td>\n",
       "      <td>Judo</td>\n",
       "      <td>Krav Maga</td>\n",
       "      <td>Wrestling</td>\n",
       "      <td>NaN</td>\n",
       "    </tr>\n",
       "  </tbody>\n",
       "</table>\n",
       "<p>3 rows × 694 columns</p>\n",
       "</div>"
      ],
      "text/plain": [
       "   Unnamed: 0.2  Unnamed: 0      Fighter_A      Fighter_B  A_Kd  B_Kd  \\\n",
       "0             0           0     Holly Holm   Irene Aldana     0     0   \n",
       "1             1           1     Greg Hardy     Ben Sosoli     0     0   \n",
       "2             2           2  Jared Rosholt  Josh Copeland     0     0   \n",
       "\n",
       "   A_Sig_strike_land  A_Sig_strike_att  B_Sig_strike_land  B_Sig_strike_att  \\\n",
       "0                154               301                 69               185   \n",
       "1                 54               105                 26                97   \n",
       "2                 22                45                  9                36   \n",
       "\n",
       "   ...  Dif_Opp_Avg_Ctrl_time_sec_per_round  \\\n",
       "0  ...                            -0.538617   \n",
       "1  ...                                  NaN   \n",
       "2  ...                            -4.611111   \n",
       "\n",
       "   Dif_Opp_Avg_Ctrl_time_tot_per_round  \\\n",
       "0                            -4.167111   \n",
       "1                                  NaN   \n",
       "2                           -51.277778   \n",
       "\n",
       "   Dif_Opp_Avg_Head_Strikes_land_per_round  \\\n",
       "0                                -1.585026   \n",
       "1                                     -inf   \n",
       "2                                -5.416667   \n",
       "\n",
       "   Dif_Opp_Avg_Head_Strikes_att_per_round  \\\n",
       "0                               -5.042354   \n",
       "1                                    -inf   \n",
       "2                              -16.861111   \n",
       "\n",
       "   Dif_Opp_Avg_Total_Strikes_land_per_round  \\\n",
       "0                                 -2.424553   \n",
       "1                                      -inf   \n",
       "2                                -11.888889   \n",
       "\n",
       "   Dif_Opp_Avg_Total_Strikes_att_per_round  A_Initial_Martial_Art  \\\n",
       "0                                -6.279826                 Boxing   \n",
       "1                                     -inf    Brazilian Jiu-Jitsu   \n",
       "2                               -24.777778                   Judo   \n",
       "\n",
       "   B_Initial_Martial_Art  A_Second_Martial_Art  B_Second_Martial_Art  \n",
       "0              Muay Thai            Kickboxing                Boxing  \n",
       "1              Muay Thai             Muay Thai                   NaN  \n",
       "2              Krav Maga             Wrestling                   NaN  \n",
       "\n",
       "[3 rows x 694 columns]"
      ]
     },
     "execution_count": 2,
     "metadata": {},
     "output_type": "execute_result"
    }
   ],
   "source": [
    "# load data \n",
    "df  = pd.read_csv('data/final/aggregates/Double_Fights_DF_V15.csv') \n",
    "df.head(3)"
   ]
  },
  {
   "cell_type": "code",
   "execution_count": 3,
   "metadata": {},
   "outputs": [
    {
     "data": {
      "text/html": [
       "<div>\n",
       "<style scoped>\n",
       "    .dataframe tbody tr th:only-of-type {\n",
       "        vertical-align: middle;\n",
       "    }\n",
       "\n",
       "    .dataframe tbody tr th {\n",
       "        vertical-align: top;\n",
       "    }\n",
       "\n",
       "    .dataframe thead th {\n",
       "        text-align: right;\n",
       "    }\n",
       "</style>\n",
       "<table border=\"1\" class=\"dataframe\">\n",
       "  <thead>\n",
       "    <tr style=\"text-align: right;\">\n",
       "      <th></th>\n",
       "      <th>0</th>\n",
       "    </tr>\n",
       "  </thead>\n",
       "  <tbody>\n",
       "    <tr>\n",
       "      <th>A_topdown_Avg_Kd_per_round</th>\n",
       "      <td>893</td>\n",
       "    </tr>\n",
       "    <tr>\n",
       "      <th>A_topdown_Avg_Sig_strike_land_per_round</th>\n",
       "      <td>14</td>\n",
       "    </tr>\n",
       "    <tr>\n",
       "      <th>A_topdown_Avg_Sig_strike_att_per_round</th>\n",
       "      <td>2</td>\n",
       "    </tr>\n",
       "    <tr>\n",
       "      <th>A_topdown_Avg_Total_Strikes_land_per_round</th>\n",
       "      <td>8</td>\n",
       "    </tr>\n",
       "    <tr>\n",
       "      <th>A_topdown_Avg_Total_Strikes_att_per_round</th>\n",
       "      <td>2</td>\n",
       "    </tr>\n",
       "    <tr>\n",
       "      <th>...</th>\n",
       "      <td>...</td>\n",
       "    </tr>\n",
       "    <tr>\n",
       "      <th>Dif_Opp_Avg_Total_Strikes_att_per_round</th>\n",
       "      <td>604</td>\n",
       "    </tr>\n",
       "    <tr>\n",
       "      <th>A_Initial_Martial_Art</th>\n",
       "      <td>29</td>\n",
       "    </tr>\n",
       "    <tr>\n",
       "      <th>B_Initial_Martial_Art</th>\n",
       "      <td>29</td>\n",
       "    </tr>\n",
       "    <tr>\n",
       "      <th>A_Second_Martial_Art</th>\n",
       "      <td>541</td>\n",
       "    </tr>\n",
       "    <tr>\n",
       "      <th>B_Second_Martial_Art</th>\n",
       "      <td>541</td>\n",
       "    </tr>\n",
       "  </tbody>\n",
       "</table>\n",
       "<p>154 rows × 1 columns</p>\n",
       "</div>"
      ],
      "text/plain": [
       "                                              0\n",
       "A_topdown_Avg_Kd_per_round                  893\n",
       "A_topdown_Avg_Sig_strike_land_per_round      14\n",
       "A_topdown_Avg_Sig_strike_att_per_round        2\n",
       "A_topdown_Avg_Total_Strikes_land_per_round    8\n",
       "A_topdown_Avg_Total_Strikes_att_per_round     2\n",
       "...                                         ...\n",
       "Dif_Opp_Avg_Total_Strikes_att_per_round     604\n",
       "A_Initial_Martial_Art                        29\n",
       "B_Initial_Martial_Art                        29\n",
       "A_Second_Martial_Art                        541\n",
       "B_Second_Martial_Art                        541\n",
       "\n",
       "[154 rows x 1 columns]"
      ]
     },
     "execution_count": 3,
     "metadata": {},
     "output_type": "execute_result"
    }
   ],
   "source": [
    "unnamed = [n for n in df.columns if 'Unnamed' in n]\n",
    "df.drop(columns=unnamed, inplace=True)\n",
    "#Identify columns with missing values\n",
    "nothere = df.isna().sum()\n",
    "nothere = pd.DataFrame(nothere)\n",
    "nothere = nothere.loc[nothere[0] > 0]\n",
    "nothere"
   ]
  },
  {
   "cell_type": "code",
   "execution_count": 4,
   "metadata": {},
   "outputs": [
    {
     "data": {
      "text/plain": [
       "['InFightData__Method_Primary',\n",
       " 'InFightData__Method_Detail',\n",
       " 'InFightData__Round',\n",
       " 'InFightData__Time',\n",
       " 'InFightData__General_Method',\n",
       " 'InFightData__Total_Fight_Time_Seconds']"
      ]
     },
     "execution_count": 4,
     "metadata": {},
     "output_type": "execute_result"
    }
   ],
   "source": [
    "# get cols with InFightData in the name\n",
    "InFightData = [n for n in df.columns if 'InFightData' in n]\n",
    "InFightData\n"
   ]
  },
  {
   "cell_type": "code",
   "execution_count": 5,
   "metadata": {},
   "outputs": [],
   "source": [
    "# drop them from df\n",
    "df.drop(columns=InFightData, inplace=True)"
   ]
  },
  {
   "cell_type": "code",
   "execution_count": 6,
   "metadata": {},
   "outputs": [],
   "source": [
    "to_drop= ['A_Kd', 'B_Kd', 'A_Sig_strike_land',\n",
    "       'A_Sig_strike_att', 'B_Sig_strike_land', 'B_Sig_strike_att',\n",
    "       'A_Sig_strike_percent', 'B_Sig_strike_percent', 'A_Total_Strikes_land',\n",
    "       'A_Total_Strikes_att', 'B_Total_Strikes_land', 'B_Total_Strikes_att',\n",
    "       'A_Total_Strikes_percent', 'B_Total_Strikes_percent',\n",
    "       'A_Takedowns_land', 'A_Takedowns_att', 'B_Takedowns_land',\n",
    "       'B_Takedowns_att', 'A_Takedown_percent', 'B_Takedown_percent',\n",
    "       'A_Sub_Attempts_land', 'A_Sub_Attempts_att', 'B_Sub_Attempts_land',\n",
    "       'B_Sub_Attempts_att', 'A_Rev', 'B_Rev', 'A_Ctrl_time_min',\n",
    "       'A_Ctrl_time_sec', 'B_Ctrl_time_min', 'B_Ctrl_time_sec',\n",
    "       'A_Ctrl_time_tot', 'B_Ctrl_time_tot', 'details','A_Head_Strikes_land',\n",
    "       'A_Head_Strikes_att', 'B_Head_Strikes_land', 'B_Head_Strikes_att',\n",
    "       'A_Head_Strikes_percent', 'B_Head_Strikes_percent',\n",
    "       'A_Body_Strikes_land', 'A_Body_Strikes_att', 'B_Body_Strikes_land',\n",
    "       'B_Body_Strikes_att', 'B_Body_Strikes_percent', 'A_Leg_Strikes_land', 'A_Leg_Strikes_att',\n",
    "       'B_Leg_Strikes_land', 'B_Leg_Strikes_att', 'A_Leg_Strikes_percent',\n",
    "       'B_Leg_Strikes_percent', 'A_Distance_Strikes_land',\n",
    "       'A_Distance_Strikes_att', 'B_Distance_Strikes_land',\n",
    "       'B_Distance_Strikes_att', 'A_Distance_Strikes_percent',\n",
    "       'B_Distance_Strikes_percent', 'A_Clinch_Strikes_land',\n",
    "       'A_Clinch_Strikes_att', 'B_Clinch_Strikes_land', 'B_Clinch_Strikes_att',\n",
    "       'A_Clinch_Strikes_percent', 'B_Clinch_Strikes_percent',\n",
    "       'A_Ground_Strikes_land', 'A_Ground_Strikes_att',\n",
    "       'B_Ground_Strikes_land', 'B_Ground_Strikes_att',\n",
    "       'A_Ground_Strikes_percent', 'B_Ground_Strikes_percent',  'A_Body_Strikes_percent']\n",
    "\n",
    "df.drop(columns=to_drop, inplace=True)"
   ]
  },
  {
   "cell_type": "code",
   "execution_count": 7,
   "metadata": {},
   "outputs": [],
   "source": [
    "# drop all Dif Rows\n",
    "dif_rows = ['Dif_Kd', 'Dif_Sig_strike_land', 'Dif_Sig_strike_att', 'Dif_Sig_strike_percent',\n",
    " 'Dif_Total_Strikes_land', 'Dif_Total_Strikes_att', 'Dif_Total_Strikes_percent', 'Dif_Takedowns_land',\n",
    " 'Dif_Takedowns_att', 'Dif_Takedown_percent', 'Dif_Sub_Attempts_land', 'Dif_Sub_Attempts_att',\n",
    " 'Dif_Rev', 'Dif_Ctrl_time_min', 'Dif_Ctrl_time_sec', 'Dif_Ctrl_time_tot', 'Dif_Head_Strikes_land',\n",
    " 'Dif_Head_Strikes_att', 'Dif_Head_Strikes_percent', 'Dif_Body_Strikes_land', 'Dif_Body_Strikes_att',\n",
    " 'Dif_Body_Strikes_percent', 'Dif_Leg_Strikes_land', 'Dif_Leg_Strikes_att', 'Dif_Leg_Strikes_percent',\n",
    " 'Dif_Distance_Strikes_land', 'Dif_Distance_Strikes_att', 'Dif_Distance_Strikes_percent', 'Dif_Clinch_Strikes_land',\n",
    " 'Dif_Clinch_Strikes_att', 'Dif_Clinch_Strikes_percent', 'Dif_Ground_Strikes_land','Dif_Ground_Strikes_att',\n",
    " 'Dif_Ground_Strikes_percent']\n",
    "\n",
    "df.drop(columns=dif_rows, inplace=True)"
   ]
  },
  {
   "attachments": {},
   "cell_type": "markdown",
   "metadata": {},
   "source": [
    "#### Check NAN"
   ]
  },
  {
   "cell_type": "code",
   "execution_count": 8,
   "metadata": {},
   "outputs": [
    {
     "data": {
      "text/html": [
       "<div>\n",
       "<style scoped>\n",
       "    .dataframe tbody tr th:only-of-type {\n",
       "        vertical-align: middle;\n",
       "    }\n",
       "\n",
       "    .dataframe tbody tr th {\n",
       "        vertical-align: top;\n",
       "    }\n",
       "\n",
       "    .dataframe thead th {\n",
       "        text-align: right;\n",
       "    }\n",
       "</style>\n",
       "<table border=\"1\" class=\"dataframe\">\n",
       "  <thead>\n",
       "    <tr style=\"text-align: right;\">\n",
       "      <th></th>\n",
       "      <th>0</th>\n",
       "    </tr>\n",
       "  </thead>\n",
       "  <tbody>\n",
       "    <tr>\n",
       "      <th>A_topdown_Avg_Kd_per_round</th>\n",
       "      <td>893</td>\n",
       "    </tr>\n",
       "    <tr>\n",
       "      <th>A_topdown_Avg_Sig_strike_land_per_round</th>\n",
       "      <td>14</td>\n",
       "    </tr>\n",
       "    <tr>\n",
       "      <th>A_topdown_Avg_Sig_strike_att_per_round</th>\n",
       "      <td>2</td>\n",
       "    </tr>\n",
       "    <tr>\n",
       "      <th>A_topdown_Avg_Total_Strikes_land_per_round</th>\n",
       "      <td>8</td>\n",
       "    </tr>\n",
       "    <tr>\n",
       "      <th>A_topdown_Avg_Total_Strikes_att_per_round</th>\n",
       "      <td>2</td>\n",
       "    </tr>\n",
       "    <tr>\n",
       "      <th>...</th>\n",
       "      <td>...</td>\n",
       "    </tr>\n",
       "    <tr>\n",
       "      <th>Dif_Opp_Avg_Total_Strikes_att_per_round</th>\n",
       "      <td>604</td>\n",
       "    </tr>\n",
       "    <tr>\n",
       "      <th>A_Initial_Martial_Art</th>\n",
       "      <td>29</td>\n",
       "    </tr>\n",
       "    <tr>\n",
       "      <th>B_Initial_Martial_Art</th>\n",
       "      <td>29</td>\n",
       "    </tr>\n",
       "    <tr>\n",
       "      <th>A_Second_Martial_Art</th>\n",
       "      <td>541</td>\n",
       "    </tr>\n",
       "    <tr>\n",
       "      <th>B_Second_Martial_Art</th>\n",
       "      <td>541</td>\n",
       "    </tr>\n",
       "  </tbody>\n",
       "</table>\n",
       "<p>154 rows × 1 columns</p>\n",
       "</div>"
      ],
      "text/plain": [
       "                                              0\n",
       "A_topdown_Avg_Kd_per_round                  893\n",
       "A_topdown_Avg_Sig_strike_land_per_round      14\n",
       "A_topdown_Avg_Sig_strike_att_per_round        2\n",
       "A_topdown_Avg_Total_Strikes_land_per_round    8\n",
       "A_topdown_Avg_Total_Strikes_att_per_round     2\n",
       "...                                         ...\n",
       "Dif_Opp_Avg_Total_Strikes_att_per_round     604\n",
       "A_Initial_Martial_Art                        29\n",
       "B_Initial_Martial_Art                        29\n",
       "A_Second_Martial_Art                        541\n",
       "B_Second_Martial_Art                        541\n",
       "\n",
       "[154 rows x 1 columns]"
      ]
     },
     "execution_count": 8,
     "metadata": {},
     "output_type": "execute_result"
    }
   ],
   "source": [
    "# Check NAN\n",
    "missing = df.isna().sum()\n",
    "missing = pd.DataFrame(missing)\n",
    "missing = missing.loc[missing[0] > 0]\n",
    "missing"
   ]
  },
  {
   "cell_type": "code",
   "execution_count": 9,
   "metadata": {},
   "outputs": [],
   "source": [
    "# replace NAN with 0\n",
    "df.fillna(0, inplace=True)"
   ]
  },
  {
   "cell_type": "code",
   "execution_count": 10,
   "metadata": {},
   "outputs": [],
   "source": [
    "# replace and INF with 0\n",
    "df.replace([np.inf, -np.inf], 0, inplace=True)"
   ]
  },
  {
   "cell_type": "code",
   "execution_count": 11,
   "metadata": {},
   "outputs": [],
   "source": [
    "all_cols = df.columns.to_list()"
   ]
  },
  {
   "cell_type": "code",
   "execution_count": 12,
   "metadata": {},
   "outputs": [
    {
     "data": {
      "text/plain": [
       "['A_Typical_Weightclass',\n",
       " 'B_Typical_Weightclass',\n",
       " 'A_Fight_in_Typical_Weightclass',\n",
       " 'B_Fight_in_Typical_Weightclass']"
      ]
     },
     "execution_count": 12,
     "metadata": {},
     "output_type": "execute_result"
    }
   ],
   "source": [
    "# find weightclass columns\n",
    "weightclass = [n for n in all_cols if 'Weightclass' in n]\n",
    "weightclass"
   ]
  },
  {
   "cell_type": "code",
   "execution_count": 13,
   "metadata": {},
   "outputs": [
    {
     "data": {
      "text/plain": [
       "Jim Miller          46\n",
       "Donald Cerrone      38\n",
       "Charles Oliveira    38\n",
       "Jon Jones           36\n",
       "Dustin Poirier      34\n",
       "                    ..\n",
       "Chuck Liddell        2\n",
       "Jordan Rinaldi       2\n",
       "Daniel Spitz         2\n",
       "Chris Kelades        2\n",
       "Royston Wee          2\n",
       "Name: Winner, Length: 1151, dtype: int64"
      ]
     },
     "execution_count": 13,
     "metadata": {},
     "output_type": "execute_result"
    }
   ],
   "source": [
    "# check Winner column\n",
    "df['Winner'].value_counts()"
   ]
  },
  {
   "cell_type": "code",
   "execution_count": 14,
   "metadata": {},
   "outputs": [],
   "source": [
    "#df.drop(columns=in_fight_cols, inplace=True)\n",
    "#df.drop(columns=in_fight_difs, inplace=True)\n",
    "colz = list(df.columns)\n",
    "# get favorite\n",
    "#df['favorite?'] = np.where(df['Fighter_A_Odds_obf'] < 0, 1, 0)"
   ]
  },
  {
   "cell_type": "code",
   "execution_count": 15,
   "metadata": {},
   "outputs": [
    {
     "data": {
      "text/plain": [
       "1    4122\n",
       "0    4122\n",
       "Name: win?, dtype: int64"
      ]
     },
     "execution_count": 15,
     "metadata": {},
     "output_type": "execute_result"
    }
   ],
   "source": [
    "# check value counts\n",
    "df['win?'].value_counts()"
   ]
  },
  {
   "cell_type": "code",
   "execution_count": 16,
   "metadata": {},
   "outputs": [
    {
     "data": {
      "text/plain": [
       "favorite?  win?\n",
       "0          0       2733\n",
       "           1       1461\n",
       "1          1       2661\n",
       "           0       1389\n",
       "Name: win?, dtype: int64"
      ]
     },
     "execution_count": 16,
     "metadata": {},
     "output_type": "execute_result"
    }
   ],
   "source": [
    "fav_check = df.groupby('favorite?')['win?'].value_counts()\n",
    "fav_check"
   ]
  },
  {
   "cell_type": "code",
   "execution_count": 17,
   "metadata": {},
   "outputs": [
    {
     "data": {
      "text/plain": [
       "1    2661\n",
       "0    1389\n",
       "Name: win?, dtype: int64"
      ]
     },
     "execution_count": 17,
     "metadata": {},
     "output_type": "execute_result"
    }
   ],
   "source": [
    "# Check how often winner is favorite\n",
    "fav = df.loc[df['favorite?'] == 1]\n",
    "fav['win?'].value_counts()"
   ]
  },
  {
   "cell_type": "markdown",
   "metadata": {},
   "source": [
    "#### Assign Target and Split"
   ]
  },
  {
   "cell_type": "code",
   "execution_count": 18,
   "metadata": {},
   "outputs": [],
   "source": [
    "target_name = \"win?\"\n",
    "y = df[target_name]\n",
    "X = df.drop(columns=[target_name])\n",
    "\n",
    "# drop columns you dont want to use\n",
    "to_drop = ['event_title','event_url','date', 'fight_id', 'Fighter_A', 'Fighter_B', 'datetime', 'date_formatted',\n",
    "            'Winner', 'event_code', 'A_Typical_Weightclass', 'B_Typical_Weightclass', 'final_round_seconds' ]  # sometimes 'event_id' needed\n",
    "X = X.drop(columns=to_drop)\n",
    "\n",
    "# Scoring Metric\n",
    "class_metric = 'accuracy'"
   ]
  },
  {
   "cell_type": "code",
   "execution_count": 19,
   "metadata": {},
   "outputs": [
    {
     "data": {
      "text/plain": [
       "['fight_weightclass',\n",
       " 'A_Initial_Martial_Art',\n",
       " 'B_Initial_Martial_Art',\n",
       " 'A_Second_Martial_Art',\n",
       " 'B_Second_Martial_Art']"
      ]
     },
     "execution_count": 19,
     "metadata": {},
     "output_type": "execute_result"
    }
   ],
   "source": [
    "numerical_columns_selector = selector(dtype_exclude=object)\n",
    "categorical_columns_selector = selector(dtype_include=object)\n",
    "\n",
    "numerical_columns = numerical_columns_selector(X)\n",
    "categorical_columns = categorical_columns_selector(X)\n",
    "\n",
    "categorical_columns"
   ]
  },
  {
   "cell_type": "code",
   "execution_count": 20,
   "metadata": {},
   "outputs": [],
   "source": [
    "# make sure categorical_columns are all strings\n",
    "for col in categorical_columns:\n",
    "    X[col] = X[col].astype(str)\n"
   ]
  },
  {
   "cell_type": "code",
   "execution_count": 21,
   "metadata": {},
   "outputs": [],
   "source": [
    "numerical_columns.remove('favorite?')\n",
    "categorical_columns.append('favorite?')"
   ]
  },
  {
   "cell_type": "code",
   "execution_count": 22,
   "metadata": {},
   "outputs": [],
   "source": [
    "col_list = X.columns.to_list()"
   ]
  },
  {
   "cell_type": "markdown",
   "metadata": {},
   "source": [
    "#### Split"
   ]
  },
  {
   "cell_type": "code",
   "execution_count": 23,
   "metadata": {},
   "outputs": [],
   "source": [
    "X_train, X_test, y_train, y_test = train_test_split(X, y, random_state=42)"
   ]
  },
  {
   "cell_type": "code",
   "execution_count": 24,
   "metadata": {},
   "outputs": [
    {
     "data": {
      "text/plain": [
       "[369, 564, 565, 566, 567, 378]"
      ]
     },
     "execution_count": 24,
     "metadata": {},
     "output_type": "execute_result"
    }
   ],
   "source": [
    "catcols = []\n",
    "\n",
    "for col in categorical_columns:\n",
    "    ind = col_list.index(col)\n",
    "    catcols.append(ind)\n",
    "\n",
    "catcols"
   ]
  },
  {
   "cell_type": "code",
   "execution_count": 25,
   "metadata": {},
   "outputs": [],
   "source": [
    "cont_cols_index = [n for n in range(len(X_train.columns)) if n not in catcols]"
   ]
  },
  {
   "cell_type": "code",
   "execution_count": 26,
   "metadata": {},
   "outputs": [],
   "source": [
    "# To get the column names from onehotencoder\n",
    "ohe = OneHotEncoder(sparse=False, handle_unknown='ignore')\n",
    "checker = ohe.fit_transform(X_train[categorical_columns])"
   ]
  },
  {
   "cell_type": "code",
   "execution_count": 103,
   "metadata": {},
   "outputs": [],
   "source": [
    "feature_names_categorical = ohe.get_feature_names(categorical_columns)"
   ]
  },
  {
   "cell_type": "markdown",
   "metadata": {},
   "source": [
    "### Preprocessing"
   ]
  },
  {
   "cell_type": "code",
   "execution_count": 28,
   "metadata": {},
   "outputs": [
    {
     "data": {
      "text/plain": [
       "ColumnTransformer(transformers=[('num',\n",
       "                                 Pipeline(steps=[('standardscaler',\n",
       "                                                  StandardScaler())]),\n",
       "                                 [0, 1, 2, 3, 4, 5, 6, 7, 8, 9, 10, 11, 12, 13,\n",
       "                                  14, 15, 16, 17, 18, 19, 20, 21, 22, 23, 24,\n",
       "                                  25, 26, 27, 28, 29, ...]),\n",
       "                                ('cat',\n",
       "                                 Pipeline(steps=[('onehotencoder',\n",
       "                                                  OneHotEncoder(handle_unknown='ignore',\n",
       "                                                                sparse=False))]),\n",
       "                                 [369, 564, 565, 566, 567, 378])])"
      ]
     },
     "execution_count": 28,
     "metadata": {},
     "output_type": "execute_result"
    }
   ],
   "source": [
    "# pipeline for categorical data\n",
    "cat_preprocessing = make_pipeline(\n",
    "    OneHotEncoder(handle_unknown=\"ignore\", sparse=False),\n",
    ")\n",
    "# pipeline for numerical data\n",
    "num_preprocessing = make_pipeline(StandardScaler())\n",
    "\n",
    "# combine both pipeline using a columnTransformer\n",
    "preprocessing = ColumnTransformer(\n",
    "    [(\"num\", num_preprocessing, cont_cols_index), (\"cat\", cat_preprocessing, catcols)]\n",
    ")\n",
    "\n",
    "preprocessing"
   ]
  },
  {
   "cell_type": "markdown",
   "metadata": {},
   "source": [
    "### Function Additions"
   ]
  },
  {
   "cell_type": "code",
   "execution_count": 29,
   "metadata": {},
   "outputs": [],
   "source": [
    "# Define function to save training result\n",
    "def save_result(cv_mean_accuracy, cv_std_accuracy, model_name):\n",
    "    global model_summary2  # Access global variable model_summary2\n",
    "\n",
    "    # Create a new row with model name, mean accuracy and standard deviation accuracy\n",
    "    row = [(model_name, cv_mean_accuracy, cv_std_accuracy)]\n",
    "\n",
    "    # Create a new dataframe with the row data and column names\n",
    "    dfcols2 = ['Model_Name', 'Cv_Mean_Accuracy', 'Cv_Std_Accuracy']\n",
    "    res = pd.DataFrame(columns = dfcols2, data = row)\n",
    "\n",
    "    # Concatenate the existing model summary dataframe and the new result dataframe\n",
    "    yeep = [model_summary2, res]\n",
    "    model_summary2 = pd.concat(yeep)\n",
    "\n",
    "    # Sort the dataframe by mean accuracy in descending order and drop any duplicates\n",
    "    model_summary2 = model_summary2.sort_values('Cv_Mean_Accuracy', ascending = False)\n",
    "    model_summary2 = model_summary2.drop_duplicates()\n",
    "\n",
    "    # Return the updated model summary dataframe rounded to 3 decimal places\n",
    "    return model_summary2.round(3)"
   ]
  },
  {
   "cell_type": "code",
   "execution_count": 30,
   "metadata": {},
   "outputs": [],
   "source": [
    "# This function runs a machine learning model, produces a confusion matrix, and saves the result\n",
    "# It takes two parameters: the machine learning model and its name\n",
    "\n",
    "def run_model(model, model_name):\n",
    "\n",
    "    # Fits the model with the training data\n",
    "    model.fit(X_train, y_train)\n",
    "\n",
    "    # Obtains the model's predictions using the test data\n",
    "    model_prediction = model.predict(X_test)\n",
    "\n",
    "    # Generates a confusion matrix to evaluate the model's performance\n",
    "    cf_matrix = confusion_matrix(y_test, model_prediction)\n",
    "\n",
    "    # Saves the confusion matrix with the model's name\n",
    "    save_result(cf_matrix, model_name)\n",
    "\n",
    "    # Creates a visualization of the confusion matrix for easy interpretation\n",
    "    cf = make_confusion_matrix(cf_matrix)\n",
    "\n",
    "    # Returns a summary of the model's performance\n",
    "    return model_summary"
   ]
  },
  {
   "cell_type": "code",
   "execution_count": 31,
   "metadata": {},
   "outputs": [],
   "source": [
    "dfcols2 = ['Model', 'Cv_Mean_Accuracy', 'Cv_Std']\n",
    "# Create a dataframe to store the model summary\n",
    "model_summary2 = pd.DataFrame(columns=dfcols2)"
   ]
  },
  {
   "cell_type": "code",
   "execution_count": 32,
   "metadata": {},
   "outputs": [],
   "source": [
    "def create_fullpipe(preprocessing, model, model_name):\n",
    "    fullpipe = Pipeline(steps=[('preprocess', preprocessing), ('model', model)])\n",
    "    fullpipe.fit(X_train, y_train)\n",
    "    # cross validation\n",
    "    cv = cross_val_score(fullpipe, X_test, y_test, cv=3, scoring='accuracy')\n",
    "    cv_mean = cv.mean()\n",
    "    cv_std = cv.std()\n",
    "    res = save_result(cv_mean, cv_std, model_name)\n",
    "    # pickle model\n",
    "    pickle.dump(fullpipe, open(f'models/{model_name}.pkl', 'wb'))\n",
    "    return res"
   ]
  },
  {
   "cell_type": "markdown",
   "metadata": {},
   "source": [
    "### Run Vanilla Models"
   ]
  },
  {
   "cell_type": "code",
   "execution_count": 33,
   "metadata": {},
   "outputs": [
    {
     "data": {
      "text/html": [
       "<div>\n",
       "<style scoped>\n",
       "    .dataframe tbody tr th:only-of-type {\n",
       "        vertical-align: middle;\n",
       "    }\n",
       "\n",
       "    .dataframe tbody tr th {\n",
       "        vertical-align: top;\n",
       "    }\n",
       "\n",
       "    .dataframe thead th {\n",
       "        text-align: right;\n",
       "    }\n",
       "</style>\n",
       "<table border=\"1\" class=\"dataframe\">\n",
       "  <thead>\n",
       "    <tr style=\"text-align: right;\">\n",
       "      <th></th>\n",
       "      <th>Model</th>\n",
       "      <th>Cv_Mean_Accuracy</th>\n",
       "      <th>Cv_Std</th>\n",
       "      <th>Model_Name</th>\n",
       "      <th>Cv_Std_Accuracy</th>\n",
       "    </tr>\n",
       "  </thead>\n",
       "  <tbody>\n",
       "    <tr>\n",
       "      <th>0</th>\n",
       "      <td>NaN</td>\n",
       "      <td>0.712</td>\n",
       "      <td>NaN</td>\n",
       "      <td>XGBoost</td>\n",
       "      <td>0.003</td>\n",
       "    </tr>\n",
       "    <tr>\n",
       "      <th>0</th>\n",
       "      <td>NaN</td>\n",
       "      <td>0.706</td>\n",
       "      <td>NaN</td>\n",
       "      <td>Extra_Trees</td>\n",
       "      <td>0.004</td>\n",
       "    </tr>\n",
       "    <tr>\n",
       "      <th>0</th>\n",
       "      <td>NaN</td>\n",
       "      <td>0.703</td>\n",
       "      <td>NaN</td>\n",
       "      <td>Random_Forest</td>\n",
       "      <td>0.009</td>\n",
       "    </tr>\n",
       "    <tr>\n",
       "      <th>0</th>\n",
       "      <td>NaN</td>\n",
       "      <td>0.690</td>\n",
       "      <td>NaN</td>\n",
       "      <td>Logistic_Regression</td>\n",
       "      <td>0.001</td>\n",
       "    </tr>\n",
       "    <tr>\n",
       "      <th>0</th>\n",
       "      <td>NaN</td>\n",
       "      <td>0.678</td>\n",
       "      <td>NaN</td>\n",
       "      <td>Bagged_Trees</td>\n",
       "      <td>0.009</td>\n",
       "    </tr>\n",
       "    <tr>\n",
       "      <th>0</th>\n",
       "      <td>NaN</td>\n",
       "      <td>0.624</td>\n",
       "      <td>NaN</td>\n",
       "      <td>K_Neighbors</td>\n",
       "      <td>0.012</td>\n",
       "    </tr>\n",
       "    <tr>\n",
       "      <th>0</th>\n",
       "      <td>NaN</td>\n",
       "      <td>0.605</td>\n",
       "      <td>NaN</td>\n",
       "      <td>Decision_Tree</td>\n",
       "      <td>0.011</td>\n",
       "    </tr>\n",
       "  </tbody>\n",
       "</table>\n",
       "</div>"
      ],
      "text/plain": [
       "  Model  Cv_Mean_Accuracy Cv_Std           Model_Name  Cv_Std_Accuracy\n",
       "0   NaN             0.712    NaN              XGBoost            0.003\n",
       "0   NaN             0.706    NaN          Extra_Trees            0.004\n",
       "0   NaN             0.703    NaN        Random_Forest            0.009\n",
       "0   NaN             0.690    NaN  Logistic_Regression            0.001\n",
       "0   NaN             0.678    NaN         Bagged_Trees            0.009\n",
       "0   NaN             0.624    NaN          K_Neighbors            0.012\n",
       "0   NaN             0.605    NaN        Decision_Tree            0.011"
      ]
     },
     "execution_count": 33,
     "metadata": {},
     "output_type": "execute_result"
    }
   ],
   "source": [
    "create_fullpipe(preprocessing, LogisticRegression(), 'Logistic_Regression')\n",
    "create_fullpipe(preprocessing, RandomForestClassifier(), 'Random_Forest')\n",
    "create_fullpipe(preprocessing, DecisionTreeClassifier(), 'Decision_Tree')\n",
    "create_fullpipe(preprocessing, BaggingClassifier(), 'Bagged_Trees')\n",
    "create_fullpipe(preprocessing, ExtraTreesClassifier(), 'Extra_Trees')\n",
    "create_fullpipe(preprocessing, KNeighborsClassifier(), 'K_Neighbors')\n",
    "create_fullpipe(preprocessing, XGBClassifier(eval_metric = 'logloss'), 'XGBoost')"
   ]
  },
  {
   "cell_type": "code",
   "execution_count": 34,
   "metadata": {},
   "outputs": [],
   "source": [
    "# Function cross validates a model and saves the result and a pickle file\n",
    "def gridsearched_model(model, model_name):\n",
    "    # Cross validate model scores\n",
    "    cv = cross_val_score(model, X_test, y_test, cv=3, scoring='accuracy')\n",
    "    cv_mean = cv.mean()\n",
    "    cv_std = cv.std()\n",
    "    # save result\n",
    "    res = save_result(cv_mean, cv_std, model_name)\n",
    "    # pickle model\n",
    "    pickle.dump(model, open(f'models/{model_name}.pkl', 'wb'))\n",
    "    # make confusion matrix\n",
    "    return res"
   ]
  },
  {
   "cell_type": "code",
   "execution_count": 35,
   "metadata": {},
   "outputs": [
    {
     "data": {
      "text/html": [
       "<div>\n",
       "<style scoped>\n",
       "    .dataframe tbody tr th:only-of-type {\n",
       "        vertical-align: middle;\n",
       "    }\n",
       "\n",
       "    .dataframe tbody tr th {\n",
       "        vertical-align: top;\n",
       "    }\n",
       "\n",
       "    .dataframe thead th {\n",
       "        text-align: right;\n",
       "    }\n",
       "</style>\n",
       "<table border=\"1\" class=\"dataframe\">\n",
       "  <thead>\n",
       "    <tr style=\"text-align: right;\">\n",
       "      <th></th>\n",
       "      <th>Model</th>\n",
       "      <th>Cv_Mean_Accuracy</th>\n",
       "      <th>Cv_Std</th>\n",
       "      <th>Model_Name</th>\n",
       "      <th>Cv_Std_Accuracy</th>\n",
       "    </tr>\n",
       "  </thead>\n",
       "  <tbody>\n",
       "    <tr>\n",
       "      <th>0</th>\n",
       "      <td>NaN</td>\n",
       "      <td>0.722</td>\n",
       "      <td>NaN</td>\n",
       "      <td>Random_Forest_1000</td>\n",
       "      <td>0.002</td>\n",
       "    </tr>\n",
       "    <tr>\n",
       "      <th>0</th>\n",
       "      <td>NaN</td>\n",
       "      <td>0.719</td>\n",
       "      <td>NaN</td>\n",
       "      <td>Random_Forest_500</td>\n",
       "      <td>0.004</td>\n",
       "    </tr>\n",
       "    <tr>\n",
       "      <th>0</th>\n",
       "      <td>NaN</td>\n",
       "      <td>0.712</td>\n",
       "      <td>NaN</td>\n",
       "      <td>XGBoost</td>\n",
       "      <td>0.003</td>\n",
       "    </tr>\n",
       "    <tr>\n",
       "      <th>0</th>\n",
       "      <td>NaN</td>\n",
       "      <td>0.706</td>\n",
       "      <td>NaN</td>\n",
       "      <td>Extra_Trees</td>\n",
       "      <td>0.004</td>\n",
       "    </tr>\n",
       "    <tr>\n",
       "      <th>0</th>\n",
       "      <td>NaN</td>\n",
       "      <td>0.703</td>\n",
       "      <td>NaN</td>\n",
       "      <td>Random_Forest</td>\n",
       "      <td>0.009</td>\n",
       "    </tr>\n",
       "    <tr>\n",
       "      <th>0</th>\n",
       "      <td>NaN</td>\n",
       "      <td>0.690</td>\n",
       "      <td>NaN</td>\n",
       "      <td>Logistic_Regression</td>\n",
       "      <td>0.001</td>\n",
       "    </tr>\n",
       "    <tr>\n",
       "      <th>0</th>\n",
       "      <td>NaN</td>\n",
       "      <td>0.678</td>\n",
       "      <td>NaN</td>\n",
       "      <td>Bagged_Trees</td>\n",
       "      <td>0.009</td>\n",
       "    </tr>\n",
       "    <tr>\n",
       "      <th>0</th>\n",
       "      <td>NaN</td>\n",
       "      <td>0.624</td>\n",
       "      <td>NaN</td>\n",
       "      <td>K_Neighbors</td>\n",
       "      <td>0.012</td>\n",
       "    </tr>\n",
       "    <tr>\n",
       "      <th>0</th>\n",
       "      <td>NaN</td>\n",
       "      <td>0.605</td>\n",
       "      <td>NaN</td>\n",
       "      <td>Decision_Tree</td>\n",
       "      <td>0.011</td>\n",
       "    </tr>\n",
       "  </tbody>\n",
       "</table>\n",
       "</div>"
      ],
      "text/plain": [
       "  Model  Cv_Mean_Accuracy Cv_Std           Model_Name  Cv_Std_Accuracy\n",
       "0   NaN             0.722    NaN   Random_Forest_1000            0.002\n",
       "0   NaN             0.719    NaN    Random_Forest_500            0.004\n",
       "0   NaN             0.712    NaN              XGBoost            0.003\n",
       "0   NaN             0.706    NaN          Extra_Trees            0.004\n",
       "0   NaN             0.703    NaN        Random_Forest            0.009\n",
       "0   NaN             0.690    NaN  Logistic_Regression            0.001\n",
       "0   NaN             0.678    NaN         Bagged_Trees            0.009\n",
       "0   NaN             0.624    NaN          K_Neighbors            0.012\n",
       "0   NaN             0.605    NaN        Decision_Tree            0.011"
      ]
     },
     "execution_count": 35,
     "metadata": {},
     "output_type": "execute_result"
    }
   ],
   "source": [
    "create_fullpipe(preprocessing, RandomForestClassifier(n_estimators=500), 'Random_Forest_500')\n",
    "create_fullpipe(preprocessing, RandomForestClassifier(n_estimators=1000), 'Random_Forest_1000')\n"
   ]
  },
  {
   "attachments": {},
   "cell_type": "markdown",
   "metadata": {},
   "source": [
    "#### Estimators Best at 1000\n",
    "\n",
    "Now max features"
   ]
  },
  {
   "cell_type": "code",
   "execution_count": 36,
   "metadata": {},
   "outputs": [],
   "source": [
    "# create_fullpipe(preprocessing, RandomForestClassifier(n_estimators=1000, max_features = 'auto'), 'Random_Forest_mf_auto')\n",
    "# create_fullpipe(preprocessing, RandomForestClassifier(n_estimators=1000, max_features = 'sqrt'), 'Random_Forest_mf_sqrt')\n"
   ]
  },
  {
   "cell_type": "code",
   "execution_count": 124,
   "metadata": {},
   "outputs": [],
   "source": [
    "def GridSearch_results(grid_clf, param_name,\n",
    "                          num_results=5,\n",
    "                          graph=True,\n",
    "                          display_all_params=False,\n",
    "                          ):\n",
    "    \"\"\"\n",
    "    Visualizes the results of a grid search performed using scikit-learn's GridSearchCV.\n",
    "    Used to perform sensitivity analysis of hyperparameters.\n",
    "\n",
    "    Parameters:\n",
    "    - grid_clf: GridSearchCV object (fitted)\n",
    "    - param_name: str, the name of the hyperparameter to be plotted\n",
    "    - num_results: int, number of top results to display in tabular form (default: 15)\n",
    "    - graph: bool, whether to display a plot (default: True)\n",
    "    - display_all_params: bool, whether to display all hyperparameters of the best estimator (default: True)\n",
    "    \"\"\"\n",
    "    \n",
    "    if not isinstance(grid_clf, GridSearchCV):\n",
    "        raise ValueError(\"grid_clf must be an instance of GridSearchCV.\")\n",
    "    \n",
    "    if not hasattr(grid_clf, 'cv_results_'):\n",
    "        raise ValueError(\"GridSearchCV object must be fitted with data.\")\n",
    "    \n",
    "    clf = grid_clf.best_estimator_\n",
    "    clf_params = grid_clf.best_params_\n",
    "    clf_score = grid_clf.best_score_\n",
    "    clf_stdev = grid_clf.cv_results_['std_test_score'][grid_clf.best_index_]\n",
    "    cv_results = grid_clf.cv_results_\n",
    "\n",
    "    if param_name not in grid_clf.param_grid:\n",
    "        raise ValueError(f\"{param_name} not found in hyperparameters used in the grid search.\")\n",
    "\n",
    "    print(f\"best parameters: {clf_params}\")\n",
    "    print(f\"best score:      {clf_score:0.5f} (+/-{clf_stdev:0.5f})\")\n",
    "    \n",
    "    if display_all_params:\n",
    "        pprint.pprint(clf.get_params())\n",
    "\n",
    "    # pick out the best results\n",
    "    scores_df = pd.DataFrame(cv_results).sort_values(by='rank_test_score')\n",
    "\n",
    "    new_param = 'param_' + param_name\n",
    "    cv_results[new_param] = pd.Series(cv_results[new_param]).replace({np.log2(np.e): 'log2', np.sqrt(np.e): 'sqrt'})\n",
    "\n",
    "    best_row = scores_df.iloc[0, :]\n",
    "    best_mean = best_row['mean_test_score']\n",
    "    best_stdev = best_row['std_test_score']\n",
    "    best_param = best_row[new_param]\n",
    "\n",
    "    # display the top 'num_results' results\n",
    "    top_results =pd.DataFrame(cv_results).sort_values(by='rank_test_score').head(num_results)\n",
    "\n",
    "    # PLOT\n",
    "    # Convert the hyperparameter values to strings\n",
    "    scores_df[new_param] = scores_df[new_param].astype(str)\n",
    "    scores_df = scores_df.sort_values(by=new_param)\n",
    "\n",
    "    means = scores_df['mean_test_score']\n",
    "    stds = scores_df['std_test_score']\n",
    "    params = scores_df[new_param]\n",
    "\n",
    "    # Get the index of the best hyperparameter value\n",
    "    best_param = str(best_param)  # Ensure best_param is a string for comparison\n",
    "    best_param_index = scores_df[new_param].eq(best_param).idxmax()\n",
    "\n",
    "\n",
    "    # plot\n",
    "    if graph:\n",
    "        fig, ax = plt.subplots(figsize=(8, 4))\n",
    "        try:\n",
    "            ax.errorbar(range(len(params)), means, yerr=stds)  # Use index instead of actual values\n",
    "            ax.set_xticks(range(len(params)))  # Set x-axis labels to the hyperparameter values\n",
    "            ax.set_xticklabels(params, rotation=45, ha='right')  # every other x-tick\n",
    "            \n",
    "            ax.axhline(y=best_mean + best_stdev, color='red')\n",
    "            ax.axhline(y=best_mean - best_stdev, color='red')\n",
    "            ax.plot(best_param_index, best_mean, 'or')  # Use the index of the best_param\n",
    "            ax.set_title(f\"{param_name} vs Score\\nBest Score {clf_score:0.5f}\")\n",
    "            ax.set_xlabel(param_name)\n",
    "            ax.set_ylabel('Score')\n",
    "            # make y-axis ticks every 5 ticks\n",
    "            ax.yaxis.set_major_locator(ticker.MultipleLocator(0.25))\n",
    "            plt.show()\n",
    "        except TypeError:\n",
    "            ax.plot(best_param_index, best_mean, 'or')  # Use the index of the best_param\n",
    "            ax.set_title(f\"{param_name} vs Score\\nBest Score {clf_score:0.5f}\")\n",
    "            ax.set_xlabel(param_name)\n",
    "            ax.set_ylabel('Score')\n",
    "            plt.show()\n",
    "\n",
    "    return top_results, fig"
   ]
  },
  {
   "cell_type": "code",
   "execution_count": 106,
   "metadata": {},
   "outputs": [],
   "source": [
    "# load random forest model from pickle\n",
    "\n",
    "with open('models/Random_Forest_1000.pkl', 'rb') as f:\n",
    "    rf_model = pickle.load(f)\n"
   ]
  },
  {
   "cell_type": "code",
   "execution_count": 107,
   "metadata": {},
   "outputs": [],
   "source": [
    "# param_grid = {'model__n_estimators' : [100],\n",
    "#                     'model__max_depth' : [None],\n",
    "#                     'model__max_features' : ['auto', 'sqrt', 'log2', .4, .5, .75, 1.0],\n",
    "#                     'model__criterion' : ['gini'],\n",
    "#                     'model__min_samples_split' : [2],\n",
    "#                     'model__min_samples_leaf' : [1],\n",
    "#                     'model__bootstrap' :  [True],\n",
    "#                     'model__max_leaf_nodes' : [None],\n",
    "#                     'model__min_impurity_decrease' : [0.0],\n",
    "#                     'model__ccp_alpha' : [0.0]}\n",
    "\n",
    "# # Initialize the GridSearchCV object with the model (SVC), parameter grid, and cross-validation strategy\n",
    "# grid_search = GridSearchCV(estimator=rf_model, param_grid=param_grid, cv=4, scoring='accuracy')\n",
    "\n",
    "# # Fit the GridSearchCV object to the training data\n",
    "# grid_search.fit(X_train, y_train)\n",
    "\n",
    "# # Use the GridSearch_table_plot function to visualize the results\n",
    "\n",
    "# gridsearch_plot_max_features = GridSearch_table_plot(grid_search, param_name='model__max_features', num_results=5, graph=True, display_all_params=True)\n",
    "\n",
    "# play_jobs_done()\n",
    "# play_jobs_done()"
   ]
  },
  {
   "cell_type": "code",
   "execution_count": 118,
   "metadata": {},
   "outputs": [
    {
     "name": "stdout",
     "output_type": "stream",
     "text": [
      "best parameters: {'model__max_depth': None, 'model__max_features': 'auto', 'model__min_samples_leaf': 1, 'model__n_estimators': 250}\n",
      "best score:      0.71599 (+/-0.00787)\n"
     ]
    },
    {
     "data": {
      "image/png": "[encoded data removed]",
      "text/plain": [
       "<Figure size 600x400 with 1 Axes>"
      ]
     },
     "metadata": {},
     "output_type": "display_data"
    },
    {
     "name": "stdout",
     "output_type": "stream",
     "text": [
      "best parameters: {'model__max_depth': None, 'model__max_features': 'auto', 'model__min_samples_leaf': 1, 'model__n_estimators': 250}\n",
      "best score:      0.71599 (+/-0.00787)\n"
     ]
    },
    {
     "data": {
      "image/png": "[encoded data removed]",
      "text/plain": [
       "<Figure size 600x400 with 1 Axes>"
      ]
     },
     "metadata": {},
     "output_type": "display_data"
    }
   ],
   "source": [
    "# gridsearch to look at max depth and max features, keeping n_estimators at 100 and min_samples_leaf at 1\n",
    "\n",
    "param_grid = {'model__n_estimators' : [100, 250, 500, 1000],\n",
    "                    'model__max_depth' : [None,  3,  5,  7, 10, 15, 20, 25, 30, 35, 40, 45, 50, 60, 70, 80, 90, 100],\n",
    "                    'model__max_features' : ['auto', 'sqrt', 'log2'],\n",
    "                    'model__min_samples_leaf' : [1]}\n",
    "\n",
    "# Initialize the GridSearchCV object with the model (rf_model), parameter grid, and cross-validation strategy\n",
    "grid_search = GridSearchCV(estimator=rf_model, param_grid=param_grid, cv=4, scoring='accuracy', n_jobs = 16, verbose=0)\n",
    "\n",
    "# Fit the GridSearchCV object to the training data\n",
    "grid_search.fit(X_train, y_train)\n",
    "\n",
    "# Use the GridSearch_table_plot function to visualize the results\n",
    "\n",
    "gs_max_features_results, gs_mf_fig  = GridSearch_results(grid_search, param_name='model__max_features', \n",
    "                                                            num_results=0, graph=True, display_all_params=False)\n",
    "\n",
    "gs_max_depth_results, gs_md_fig = GridSearch_results(grid_search, param_name='model__max_depth', \n",
    "                                                        num_results=0, graph=True, display_all_params=False)\n",
    "\n",
    "play_jobs_done()\n",
    "\n",
    "results_df = pd.DataFrame(grid_search.cv_results_)"
   ]
  },
  {
   "cell_type": "code",
   "execution_count": 119,
   "metadata": {},
   "outputs": [
    {
     "data": {
      "text/html": [
       "<div>\n",
       "<style scoped>\n",
       "    .dataframe tbody tr th:only-of-type {\n",
       "        vertical-align: middle;\n",
       "    }\n",
       "\n",
       "    .dataframe tbody tr th {\n",
       "        vertical-align: top;\n",
       "    }\n",
       "\n",
       "    .dataframe thead th {\n",
       "        text-align: right;\n",
       "    }\n",
       "</style>\n",
       "<table border=\"1\" class=\"dataframe\">\n",
       "  <thead>\n",
       "    <tr style=\"text-align: right;\">\n",
       "      <th></th>\n",
       "      <th>mean_fit_time</th>\n",
       "      <th>std_fit_time</th>\n",
       "      <th>mean_score_time</th>\n",
       "      <th>std_score_time</th>\n",
       "      <th>param_model__max_depth</th>\n",
       "      <th>param_model__max_features</th>\n",
       "      <th>param_model__min_samples_leaf</th>\n",
       "      <th>param_model__n_estimators</th>\n",
       "      <th>params</th>\n",
       "      <th>split0_test_score</th>\n",
       "      <th>split1_test_score</th>\n",
       "      <th>split2_test_score</th>\n",
       "      <th>split3_test_score</th>\n",
       "      <th>mean_test_score</th>\n",
       "      <th>std_test_score</th>\n",
       "      <th>rank_test_score</th>\n",
       "    </tr>\n",
       "  </thead>\n",
       "  <tbody>\n",
       "    <tr>\n",
       "      <th>1</th>\n",
       "      <td>9.084007</td>\n",
       "      <td>0.116754</td>\n",
       "      <td>0.131500</td>\n",
       "      <td>0.022143</td>\n",
       "      <td>NaN</td>\n",
       "      <td>auto</td>\n",
       "      <td>1</td>\n",
       "      <td>250</td>\n",
       "      <td>{'model__max_depth': None, 'model__max_feature...</td>\n",
       "      <td>0.706986</td>\n",
       "      <td>0.724450</td>\n",
       "      <td>0.723157</td>\n",
       "      <td>0.709385</td>\n",
       "      <td>0.715994</td>\n",
       "      <td>0.007868</td>\n",
       "      <td>1</td>\n",
       "    </tr>\n",
       "    <tr>\n",
       "      <th>79</th>\n",
       "      <td>33.195091</td>\n",
       "      <td>0.265805</td>\n",
       "      <td>0.349573</td>\n",
       "      <td>0.030509</td>\n",
       "      <td>20.0</td>\n",
       "      <td>sqrt</td>\n",
       "      <td>1</td>\n",
       "      <td>1000</td>\n",
       "      <td>{'model__max_depth': 20, 'model__max_features'...</td>\n",
       "      <td>0.698577</td>\n",
       "      <td>0.728331</td>\n",
       "      <td>0.717982</td>\n",
       "      <td>0.715210</td>\n",
       "      <td>0.715025</td>\n",
       "      <td>0.010681</td>\n",
       "      <td>2</td>\n",
       "    </tr>\n",
       "    <tr>\n",
       "      <th>193</th>\n",
       "      <td>10.520610</td>\n",
       "      <td>0.079472</td>\n",
       "      <td>0.211814</td>\n",
       "      <td>0.020352</td>\n",
       "      <td>90.0</td>\n",
       "      <td>auto</td>\n",
       "      <td>1</td>\n",
       "      <td>250</td>\n",
       "      <td>{'model__max_depth': 90, 'model__max_features'...</td>\n",
       "      <td>0.706339</td>\n",
       "      <td>0.721863</td>\n",
       "      <td>0.717982</td>\n",
       "      <td>0.712621</td>\n",
       "      <td>0.714701</td>\n",
       "      <td>0.005837</td>\n",
       "      <td>3</td>\n",
       "    </tr>\n",
       "    <tr>\n",
       "      <th>198</th>\n",
       "      <td>20.630598</td>\n",
       "      <td>0.155602</td>\n",
       "      <td>0.304883</td>\n",
       "      <td>0.008243</td>\n",
       "      <td>90.0</td>\n",
       "      <td>sqrt</td>\n",
       "      <td>1</td>\n",
       "      <td>500</td>\n",
       "      <td>{'model__max_depth': 90, 'model__max_features'...</td>\n",
       "      <td>0.698577</td>\n",
       "      <td>0.723803</td>\n",
       "      <td>0.723157</td>\n",
       "      <td>0.711974</td>\n",
       "      <td>0.714378</td>\n",
       "      <td>0.010263</td>\n",
       "      <td>4</td>\n",
       "    </tr>\n",
       "    <tr>\n",
       "      <th>61</th>\n",
       "      <td>8.675921</td>\n",
       "      <td>0.063491</td>\n",
       "      <td>0.141590</td>\n",
       "      <td>0.012461</td>\n",
       "      <td>15.0</td>\n",
       "      <td>auto</td>\n",
       "      <td>1</td>\n",
       "      <td>250</td>\n",
       "      <td>{'model__max_depth': 15, 'model__max_features'...</td>\n",
       "      <td>0.702458</td>\n",
       "      <td>0.726391</td>\n",
       "      <td>0.721863</td>\n",
       "      <td>0.705502</td>\n",
       "      <td>0.714053</td>\n",
       "      <td>0.010257</td>\n",
       "      <td>5</td>\n",
       "    </tr>\n",
       "  </tbody>\n",
       "</table>\n",
       "</div>"
      ],
      "text/plain": [
       "     mean_fit_time  std_fit_time  mean_score_time  std_score_time  \\\n",
       "1         9.084007      0.116754         0.131500        0.022143   \n",
       "79       33.195091      0.265805         0.349573        0.030509   \n",
       "193      10.520610      0.079472         0.211814        0.020352   \n",
       "198      20.630598      0.155602         0.304883        0.008243   \n",
       "61        8.675921      0.063491         0.141590        0.012461   \n",
       "\n",
       "     param_model__max_depth param_model__max_features  \\\n",
       "1                       NaN                      auto   \n",
       "79                     20.0                      sqrt   \n",
       "193                    90.0                      auto   \n",
       "198                    90.0                      sqrt   \n",
       "61                     15.0                      auto   \n",
       "\n",
       "    param_model__min_samples_leaf param_model__n_estimators  \\\n",
       "1                               1                       250   \n",
       "79                              1                      1000   \n",
       "193                             1                       250   \n",
       "198                             1                       500   \n",
       "61                              1                       250   \n",
       "\n",
       "                                                params  split0_test_score  \\\n",
       "1    {'model__max_depth': None, 'model__max_feature...           0.706986   \n",
       "79   {'model__max_depth': 20, 'model__max_features'...           0.698577   \n",
       "193  {'model__max_depth': 90, 'model__max_features'...           0.706339   \n",
       "198  {'model__max_depth': 90, 'model__max_features'...           0.698577   \n",
       "61   {'model__max_depth': 15, 'model__max_features'...           0.702458   \n",
       "\n",
       "     split1_test_score  split2_test_score  split3_test_score  mean_test_score  \\\n",
       "1             0.724450           0.723157           0.709385         0.715994   \n",
       "79            0.728331           0.717982           0.715210         0.715025   \n",
       "193           0.721863           0.717982           0.712621         0.714701   \n",
       "198           0.723803           0.723157           0.711974         0.714378   \n",
       "61            0.726391           0.721863           0.705502         0.714053   \n",
       "\n",
       "     std_test_score  rank_test_score  \n",
       "1          0.007868                1  \n",
       "79         0.010681                2  \n",
       "193        0.005837                3  \n",
       "198        0.010263                4  \n",
       "61         0.010257                5  "
      ]
     },
     "execution_count": 119,
     "metadata": {},
     "output_type": "execute_result"
    }
   ],
   "source": [
    "results_df.sort_values(by='rank_test_score').head(5)"
   ]
  },
  {
   "cell_type": "code",
   "execution_count": 121,
   "metadata": {},
   "outputs": [],
   "source": [
    "pivoted_results = results_df.pivot_table(\n",
    "    index='param_model__max_features', \n",
    "    columns='param_model__n_estimators', \n",
    "    values='mean_test_score'\n",
    ")"
   ]
  },
  {
   "cell_type": "code",
   "execution_count": 120,
   "metadata": {},
   "outputs": [
    {
     "data": {
      "application/vnd.plotly.v1+json": {
       "config": {
        "plotlyServerURL": "https://plot.ly"
       },
       "data": [
        {
         "alignmentgroup": "True",
         "hovertemplate": "param_model__max_features=auto<br>param_model__max_depth=%{x}<br>mean_test_score=%{y}<extra></extra>",
         "legendgroup": "auto",
         "marker": {
          "color": "#636efa"
         },
         "name": "auto",
         "notched": false,
         "offsetgroup": "auto",
         "orientation": "v",
         "showlegend": true,
         "type": "box",
         "x": [
          null,
          null,
          null,
          null,
          3,
          3,
          3,
          3,
          5,
          5,
          5,
          5,
          7,
          7,
          7,
          7,
          10,
          10,
          10,
          10,
          15,
          15,
          15,
          15,
          20,
          20,
          20,
          20,
          25,
          25,
          25,
          25,
          30,
          30,
          30,
          30,
          35,
          35,
          35,
          35,
          40,
          40,
          40,
          40,
          45,
          45,
          45,
          45,
          50,
          50,
          50,
          50,
          60,
          60,
          60,
          60,
          70,
          70,
          70,
          70,
          80,
          80,
          80,
          80,
          90,
          90,
          90,
          90,
          100,
          100,
          100,
          100
         ],
         "x0": " ",
         "xaxis": "x",
         "y": [
          0.7104969709910114,
          0.7159944025086139,
          0.7122757549496141,
          0.7101720904139296,
          0.6993377836948467,
          0.6999835675739041,
          0.7011164629883152,
          0.7019251058164508,
          0.7069378330967901,
          0.7062903745755829,
          0.7049966088496464,
          0.708878534018262,
          0.7101720904139297,
          0.710172718404736,
          0.7092021586137313,
          0.710657108646596,
          0.7088774873669184,
          0.7130846071080186,
          0.71081986293054,
          0.711628296428407,
          0.7075835123107131,
          0.7140532829266045,
          0.7082314941575922,
          0.7108194442700025,
          0.7074242119762034,
          0.7083934111204613,
          0.7098489891441323,
          0.7092012166275219,
          0.7074238979808003,
          0.7103346353676049,
          0.7117901087261416,
          0.7137308096476135,
          0.7051578978217092,
          0.7080695771947233,
          0.7100100687859262,
          0.7114656468095975,
          0.7020851388069013,
          0.710172509074467,
          0.7122748129634049,
          0.7124365205960052,
          0.7088789526787994,
          0.7098490938092665,
          0.7098488844789977,
          0.7085550140879272,
          0.7092014259577907,
          0.7125982282286054,
          0.7090391949995185,
          0.712598960884546,
          0.7054816270823128,
          0.7070989127385842,
          0.7113052998237439,
          0.7087160937297211,
          0.7053206521056532,
          0.7129231088056871,
          0.7122737663120611,
          0.7129211201681341,
          0.7049959808588403,
          0.7061289809383857,
          0.7087175590416023,
          0.7111431735306061,
          0.707584035636385,
          0.710657631972268,
          0.7117903180564104,
          0.713083874452078,
          0.7046747635614615,
          0.7147012647734837,
          0.7106584692933429,
          0.7117887480793947,
          0.7121150939683576,
          0.7125992748799491,
          0.7109814658980059,
          0.710656794651193
         ],
         "y0": " ",
         "yaxis": "y"
        },
        {
         "alignmentgroup": "True",
         "hovertemplate": "param_model__max_features=sqrt<br>param_model__max_depth=%{x}<br>mean_test_score=%{y}<extra></extra>",
         "legendgroup": "sqrt",
         "marker": {
          "color": "#EF553B"
         },
         "name": "sqrt",
         "notched": false,
         "offsetgroup": "sqrt",
         "orientation": "v",
         "showlegend": true,
         "type": "box",
         "x": [
          null,
          null,
          null,
          null,
          3,
          3,
          3,
          3,
          5,
          5,
          5,
          5,
          7,
          7,
          7,
          7,
          10,
          10,
          10,
          10,
          15,
          15,
          15,
          15,
          20,
          20,
          20,
          20,
          25,
          25,
          25,
          25,
          30,
          30,
          30,
          30,
          35,
          35,
          35,
          35,
          40,
          40,
          40,
          40,
          45,
          45,
          45,
          45,
          50,
          50,
          50,
          50,
          60,
          60,
          60,
          60,
          70,
          70,
          70,
          70,
          80,
          80,
          80,
          80,
          90,
          90,
          90,
          90,
          100,
          100,
          100,
          100
         ],
         "x0": " ",
         "xaxis": "x",
         "y": [
          0.7051589444730529,
          0.707099122068853,
          0.7114664841306724,
          0.7117895854004697,
          0.6972355844710433,
          0.6990139497691087,
          0.7017633981838506,
          0.6990142637645118,
          0.7066144178315896,
          0.7066148364921271,
          0.7082312848273234,
          0.7069380424270589,
          0.7067764394595929,
          0.7108183976186588,
          0.7092029959348062,
          0.7114661701352692,
          0.7113047764980721,
          0.712759726530937,
          0.7096874908418007,
          0.7129210155029997,
          0.7108187116140618,
          0.7124359972703334,
          0.709687595506935,
          0.7138932499361543,
          0.7077475225762695,
          0.7080699958552606,
          0.711304462502669,
          0.7150250986992217,
          0.7032174062305061,
          0.711305613819147,
          0.7113042531724002,
          0.7121126866702672,
          0.7096883281628756,
          0.7109814658980059,
          0.7121134193262078,
          0.711466693460941,
          0.7049971321753182,
          0.7101722997441984,
          0.7117895854004697,
          0.7106583646282085,
          0.7098479424927886,
          0.7101731370652733,
          0.7056435440451819,
          0.710334949363008,
          0.7103346353676049,
          0.7137310189778822,
          0.7116286104238101,
          0.7093637615811971,
          0.7051592584684561,
          0.71081986293054,
          0.7109814658980059,
          0.7109819892236777,
          0.7100097547905232,
          0.7085551187530614,
          0.7096873861766664,
          0.7100108014418669,
          0.7051588398079185,
          0.7111438015214124,
          0.710172195079064,
          0.7122741849725986,
          0.7072622950133344,
          0.7114665887958066,
          0.7090403463159966,
          0.7127602498566087,
          0.7062906885709861,
          0.7111440108516812,
          0.7143777448431488,
          0.7104952963488613,
          0.7061303415851325,
          0.710980942572334,
          0.7137299723265386,
          0.7125988562194115
         ],
         "y0": " ",
         "yaxis": "y"
        },
        {
         "alignmentgroup": "True",
         "hovertemplate": "param_model__max_features=log2<br>param_model__max_depth=%{x}<br>mean_test_score=%{y}<extra></extra>",
         "legendgroup": "log2",
         "marker": {
          "color": "#00cc96"
         },
         "name": "log2",
         "notched": false,
         "offsetgroup": "log2",
         "orientation": "v",
         "showlegend": true,
         "type": "box",
         "x": [
          null,
          null,
          null,
          null,
          3,
          3,
          3,
          3,
          5,
          5,
          5,
          5,
          7,
          7,
          7,
          7,
          10,
          10,
          10,
          10,
          15,
          15,
          15,
          15,
          20,
          20,
          20,
          20,
          25,
          25,
          25,
          25,
          30,
          30,
          30,
          30,
          35,
          35,
          35,
          35,
          40,
          40,
          40,
          40,
          45,
          45,
          45,
          45,
          50,
          50,
          50,
          50,
          60,
          60,
          60,
          60,
          70,
          70,
          70,
          70,
          80,
          80,
          80,
          80,
          90,
          90,
          90,
          90,
          100,
          100,
          100,
          100
         ],
         "x0": " ",
         "xaxis": "x",
         "y": [
          0.6978800077033539,
          0.7043492549935736,
          0.707422432668919,
          0.7067750788128462,
          0.6933525079859498,
          0.6943225444512826,
          0.6923811108738701,
          0.6959394114470164,
          0.6999829395830979,
          0.701437680285694,
          0.7024084494069673,
          0.704834796551912,
          0.7035390421884223,
          0.7037014824769633,
          0.7053201287799814,
          0.7051577931565749,
          0.7048343778913744,
          0.7087156750691836,
          0.7059673779709198,
          0.7098473145019824,
          0.7035415541516472,
          0.7040269910448511,
          0.7092020539485968,
          0.709040450981131,
          0.6993355857270249,
          0.7096867581858601,
          0.7059669593103823,
          0.7087168263856618,
          0.6972339098288934,
          0.7085557467438677,
          0.707746266594657,
          0.7066131618499771,
          0.6994972933596253,
          0.7049971321753182,
          0.706613999171052,
          0.7095256785440661,
          0.6973972921036435,
          0.7059661219893074,
          0.7069377284316557,
          0.7048342732262399,
          0.7006308167648425,
          0.7059669593103824,
          0.707099122068853,
          0.7066129525197085,
          0.6965860326471487,
          0.7087159890645868,
          0.7053198147845783,
          0.7072606203711844,
          0.7043483130073642,
          0.7098490938092666,
          0.7059664359847105,
          0.7064523962035862,
          0.703055175272234,
          0.7056438580405849,
          0.7062904792407172,
          0.7053204427753844,
          0.7061278296219077,
          0.7015991785880256,
          0.7072596783849752,
          0.7056432300497787,
          0.6951297219675371,
          0.7022465324440983,
          0.707420967357038,
          0.7083938297809986,
          0.7012753446622875,
          0.7069373097711182,
          0.7093635522509284,
          0.7074229559945908,
          0.7016009578953097,
          0.7088778013623214,
          0.7079072415713168,
          0.7092009026321189
         ],
         "y0": " ",
         "yaxis": "y"
        }
       ],
       "layout": {
        "boxmode": "group",
        "legend": {
         "title": {
          "text": "param_model__max_features"
         },
         "tracegroupgap": 0
        },
        "margin": {
         "t": 60
        },
        "template": {
         "data": {
          "bar": [
           {
            "error_x": {
             "color": "#2a3f5f"
            },
            "error_y": {
             "color": "#2a3f5f"
            },
            "marker": {
             "line": {
              "color": "#E5ECF6",
              "width": 0.5
             },
             "pattern": {
              "fillmode": "overlay",
              "size": 10,
              "solidity": 0.2
             }
            },
            "type": "bar"
           }
          ],
          "barpolar": [
           {
            "marker": {
             "line": {
              "color": "#E5ECF6",
              "width": 0.5
             },
             "pattern": {
              "fillmode": "overlay",
              "size": 10,
              "solidity": 0.2
             }
            },
            "type": "barpolar"
           }
          ],
          "carpet": [
           {
            "aaxis": {
             "endlinecolor": "#2a3f5f",
             "gridcolor": "white",
             "linecolor": "white",
             "minorgridcolor": "white",
             "startlinecolor": "#2a3f5f"
            },
            "baxis": {
             "endlinecolor": "#2a3f5f",
             "gridcolor": "white",
             "linecolor": "white",
             "minorgridcolor": "white",
             "startlinecolor": "#2a3f5f"
            },
            "type": "carpet"
           }
          ],
          "choropleth": [
           {
            "colorbar": {
             "outlinewidth": 0,
             "ticks": ""
            },
            "type": "choropleth"
           }
          ],
          "contour": [
           {
            "colorbar": {
             "outlinewidth": 0,
             "ticks": ""
            },
            "colorscale": [
             [
              0,
              "#0d0887"
             ],
             [
              0.1111111111111111,
              "#46039f"
             ],
             [
              0.2222222222222222,
              "#7201a8"
             ],
             [
              0.3333333333333333,
              "#9c179e"
             ],
             [
              0.4444444444444444,
              "#bd3786"
             ],
             [
              0.5555555555555556,
              "#d8576b"
             ],
             [
              0.6666666666666666,
              "#ed7953"
             ],
             [
              0.7777777777777778,
              "#fb9f3a"
             ],
             [
              0.8888888888888888,
              "#fdca26"
             ],
             [
              1,
              "#f0f921"
             ]
            ],
            "type": "contour"
           }
          ],
          "contourcarpet": [
           {
            "colorbar": {
             "outlinewidth": 0,
             "ticks": ""
            },
            "type": "contourcarpet"
           }
          ],
          "heatmap": [
           {
            "colorbar": {
             "outlinewidth": 0,
             "ticks": ""
            },
            "colorscale": [
             [
              0,
              "#0d0887"
             ],
             [
              0.1111111111111111,
              "#46039f"
             ],
             [
              0.2222222222222222,
              "#7201a8"
             ],
             [
              0.3333333333333333,
              "#9c179e"
             ],
             [
              0.4444444444444444,
              "#bd3786"
             ],
             [
              0.5555555555555556,
              "#d8576b"
             ],
             [
              0.6666666666666666,
              "#ed7953"
             ],
             [
              0.7777777777777778,
              "#fb9f3a"
             ],
             [
              0.8888888888888888,
              "#fdca26"
             ],
             [
              1,
              "#f0f921"
             ]
            ],
            "type": "heatmap"
           }
          ],
          "heatmapgl": [
           {
            "colorbar": {
             "outlinewidth": 0,
             "ticks": ""
            },
            "colorscale": [
             [
              0,
              "#0d0887"
             ],
             [
              0.1111111111111111,
              "#46039f"
             ],
             [
              0.2222222222222222,
              "#7201a8"
             ],
             [
              0.3333333333333333,
              "#9c179e"
             ],
             [
              0.4444444444444444,
              "#bd3786"
             ],
             [
              0.5555555555555556,
              "#d8576b"
             ],
             [
              0.6666666666666666,
              "#ed7953"
             ],
             [
              0.7777777777777778,
              "#fb9f3a"
             ],
             [
              0.8888888888888888,
              "#fdca26"
             ],
             [
              1,
              "#f0f921"
             ]
            ],
            "type": "heatmapgl"
           }
          ],
          "histogram": [
           {
            "marker": {
             "pattern": {
              "fillmode": "overlay",
              "size": 10,
              "solidity": 0.2
             }
            },
            "type": "histogram"
           }
          ],
          "histogram2d": [
           {
            "colorbar": {
             "outlinewidth": 0,
             "ticks": ""
            },
            "colorscale": [
             [
              0,
              "#0d0887"
             ],
             [
              0.1111111111111111,
              "#46039f"
             ],
             [
              0.2222222222222222,
              "#7201a8"
             ],
             [
              0.3333333333333333,
              "#9c179e"
             ],
             [
              0.4444444444444444,
              "#bd3786"
             ],
             [
              0.5555555555555556,
              "#d8576b"
             ],
             [
              0.6666666666666666,
              "#ed7953"
             ],
             [
              0.7777777777777778,
              "#fb9f3a"
             ],
             [
              0.8888888888888888,
              "#fdca26"
             ],
             [
              1,
              "#f0f921"
             ]
            ],
            "type": "histogram2d"
           }
          ],
          "histogram2dcontour": [
           {
            "colorbar": {
             "outlinewidth": 0,
             "ticks": ""
            },
            "colorscale": [
             [
              0,
              "#0d0887"
             ],
             [
              0.1111111111111111,
              "#46039f"
             ],
             [
              0.2222222222222222,
              "#7201a8"
             ],
             [
              0.3333333333333333,
              "#9c179e"
             ],
             [
              0.4444444444444444,
              "#bd3786"
             ],
             [
              0.5555555555555556,
              "#d8576b"
             ],
             [
              0.6666666666666666,
              "#ed7953"
             ],
             [
              0.7777777777777778,
              "#fb9f3a"
             ],
             [
              0.8888888888888888,
              "#fdca26"
             ],
             [
              1,
              "#f0f921"
             ]
            ],
            "type": "histogram2dcontour"
           }
          ],
          "mesh3d": [
           {
            "colorbar": {
             "outlinewidth": 0,
             "ticks": ""
            },
            "type": "mesh3d"
           }
          ],
          "parcoords": [
           {
            "line": {
             "colorbar": {
              "outlinewidth": 0,
              "ticks": ""
             }
            },
            "type": "parcoords"
           }
          ],
          "pie": [
           {
            "automargin": true,
            "type": "pie"
           }
          ],
          "scatter": [
           {
            "fillpattern": {
             "fillmode": "overlay",
             "size": 10,
             "solidity": 0.2
            },
            "type": "scatter"
           }
          ],
          "scatter3d": [
           {
            "line": {
             "colorbar": {
              "outlinewidth": 0,
              "ticks": ""
             }
            },
            "marker": {
             "colorbar": {
              "outlinewidth": 0,
              "ticks": ""
             }
            },
            "type": "scatter3d"
           }
          ],
          "scattercarpet": [
           {
            "marker": {
             "colorbar": {
              "outlinewidth": 0,
              "ticks": ""
             }
            },
            "type": "scattercarpet"
           }
          ],
          "scattergeo": [
           {
            "marker": {
             "colorbar": {
              "outlinewidth": 0,
              "ticks": ""
             }
            },
            "type": "scattergeo"
           }
          ],
          "scattergl": [
           {
            "marker": {
             "colorbar": {
              "outlinewidth": 0,
              "ticks": ""
             }
            },
            "type": "scattergl"
           }
          ],
          "scattermapbox": [
           {
            "marker": {
             "colorbar": {
              "outlinewidth": 0,
              "ticks": ""
             }
            },
            "type": "scattermapbox"
           }
          ],
          "scatterpolar": [
           {
            "marker": {
             "colorbar": {
              "outlinewidth": 0,
              "ticks": ""
             }
            },
            "type": "scatterpolar"
           }
          ],
          "scatterpolargl": [
           {
            "marker": {
             "colorbar": {
              "outlinewidth": 0,
              "ticks": ""
             }
            },
            "type": "scatterpolargl"
           }
          ],
          "scatterternary": [
           {
            "marker": {
             "colorbar": {
              "outlinewidth": 0,
              "ticks": ""
             }
            },
            "type": "scatterternary"
           }
          ],
          "surface": [
           {
            "colorbar": {
             "outlinewidth": 0,
             "ticks": ""
            },
            "colorscale": [
             [
              0,
              "#0d0887"
             ],
             [
              0.1111111111111111,
              "#46039f"
             ],
             [
              0.2222222222222222,
              "#7201a8"
             ],
             [
              0.3333333333333333,
              "#9c179e"
             ],
             [
              0.4444444444444444,
              "#bd3786"
             ],
             [
              0.5555555555555556,
              "#d8576b"
             ],
             [
              0.6666666666666666,
              "#ed7953"
             ],
             [
              0.7777777777777778,
              "#fb9f3a"
             ],
             [
              0.8888888888888888,
              "#fdca26"
             ],
             [
              1,
              "#f0f921"
             ]
            ],
            "type": "surface"
           }
          ],
          "table": [
           {
            "cells": {
             "fill": {
              "color": "#EBF0F8"
             },
             "line": {
              "color": "white"
             }
            },
            "header": {
             "fill": {
              "color": "#C8D4E3"
             },
             "line": {
              "color": "white"
             }
            },
            "type": "table"
           }
          ]
         },
         "layout": {
          "annotationdefaults": {
           "arrowcolor": "#2a3f5f",
           "arrowhead": 0,
           "arrowwidth": 1
          },
          "autotypenumbers": "strict",
          "coloraxis": {
           "colorbar": {
            "outlinewidth": 0,
            "ticks": ""
           }
          },
          "colorscale": {
           "diverging": [
            [
             0,
             "#8e0152"
            ],
            [
             0.1,
             "#c51b7d"
            ],
            [
             0.2,
             "#de77ae"
            ],
            [
             0.3,
             "#f1b6da"
            ],
            [
             0.4,
             "#fde0ef"
            ],
            [
             0.5,
             "#f7f7f7"
            ],
            [
             0.6,
             "#e6f5d0"
            ],
            [
             0.7,
             "#b8e186"
            ],
            [
             0.8,
             "#7fbc41"
            ],
            [
             0.9,
             "#4d9221"
            ],
            [
             1,
             "#276419"
            ]
           ],
           "sequential": [
            [
             0,
             "#0d0887"
            ],
            [
             0.1111111111111111,
             "#46039f"
            ],
            [
             0.2222222222222222,
             "#7201a8"
            ],
            [
             0.3333333333333333,
             "#9c179e"
            ],
            [
             0.4444444444444444,
             "#bd3786"
            ],
            [
             0.5555555555555556,
             "#d8576b"
            ],
            [
             0.6666666666666666,
             "#ed7953"
            ],
            [
             0.7777777777777778,
             "#fb9f3a"
            ],
            [
             0.8888888888888888,
             "#fdca26"
            ],
            [
             1,
             "#f0f921"
            ]
           ],
           "sequentialminus": [
            [
             0,
             "#0d0887"
            ],
            [
             0.1111111111111111,
             "#46039f"
            ],
            [
             0.2222222222222222,
             "#7201a8"
            ],
            [
             0.3333333333333333,
             "#9c179e"
            ],
            [
             0.4444444444444444,
             "#bd3786"
            ],
            [
             0.5555555555555556,
             "#d8576b"
            ],
            [
             0.6666666666666666,
             "#ed7953"
            ],
            [
             0.7777777777777778,
             "#fb9f3a"
            ],
            [
             0.8888888888888888,
             "#fdca26"
            ],
            [
             1,
             "#f0f921"
            ]
           ]
          },
          "colorway": [
           "#636efa",
           "#EF553B",
           "#00cc96",
           "#ab63fa",
           "#FFA15A",
           "#19d3f3",
           "#FF6692",
           "#B6E880",
           "#FF97FF",
           "#FECB52"
          ],
          "font": {
           "color": "#2a3f5f"
          },
          "geo": {
           "bgcolor": "white",
           "lakecolor": "white",
           "landcolor": "#E5ECF6",
           "showlakes": true,
           "showland": true,
           "subunitcolor": "white"
          },
          "hoverlabel": {
           "align": "left"
          },
          "hovermode": "closest",
          "mapbox": {
           "style": "light"
          },
          "paper_bgcolor": "white",
          "plot_bgcolor": "#E5ECF6",
          "polar": {
           "angularaxis": {
            "gridcolor": "white",
            "linecolor": "white",
            "ticks": ""
           },
           "bgcolor": "#E5ECF6",
           "radialaxis": {
            "gridcolor": "white",
            "linecolor": "white",
            "ticks": ""
           }
          },
          "scene": {
           "xaxis": {
            "backgroundcolor": "#E5ECF6",
            "gridcolor": "white",
            "gridwidth": 2,
            "linecolor": "white",
            "showbackground": true,
            "ticks": "",
            "zerolinecolor": "white"
           },
           "yaxis": {
            "backgroundcolor": "#E5ECF6",
            "gridcolor": "white",
            "gridwidth": 2,
            "linecolor": "white",
            "showbackground": true,
            "ticks": "",
            "zerolinecolor": "white"
           },
           "zaxis": {
            "backgroundcolor": "#E5ECF6",
            "gridcolor": "white",
            "gridwidth": 2,
            "linecolor": "white",
            "showbackground": true,
            "ticks": "",
            "zerolinecolor": "white"
           }
          },
          "shapedefaults": {
           "line": {
            "color": "#2a3f5f"
           }
          },
          "ternary": {
           "aaxis": {
            "gridcolor": "white",
            "linecolor": "white",
            "ticks": ""
           },
           "baxis": {
            "gridcolor": "white",
            "linecolor": "white",
            "ticks": ""
           },
           "bgcolor": "#E5ECF6",
           "caxis": {
            "gridcolor": "white",
            "linecolor": "white",
            "ticks": ""
           }
          },
          "title": {
           "x": 0.05
          },
          "xaxis": {
           "automargin": true,
           "gridcolor": "white",
           "linecolor": "white",
           "ticks": "",
           "title": {
            "standoff": 15
           },
           "zerolinecolor": "white",
           "zerolinewidth": 2
          },
          "yaxis": {
           "automargin": true,
           "gridcolor": "white",
           "linecolor": "white",
           "ticks": "",
           "title": {
            "standoff": 15
           },
           "zerolinecolor": "white",
           "zerolinewidth": 2
          }
         }
        },
        "xaxis": {
         "anchor": "y",
         "domain": [
          0,
          1
         ],
         "title": {
          "text": "param_model__max_depth"
         }
        },
        "yaxis": {
         "anchor": "x",
         "domain": [
          0,
          1
         ],
         "title": {
          "text": "mean_test_score"
         }
        }
       }
      }
     },
     "metadata": {},
     "output_type": "display_data"
    }
   ],
   "source": [
    "# Investigate Max Depth and Max Features\n",
    "fig = px.box(results_df, x=\"param_model__max_depth\", y=\"mean_test_score\", color = \"param_model__max_features\")\n",
    "fig.show()\n"
   ]
  },
  {
   "cell_type": "code",
   "execution_count": 125,
   "metadata": {},
   "outputs": [
    {
     "data": {
      "application/vnd.plotly.v1+json": {
       "config": {
        "plotlyServerURL": "https://plot.ly"
       },
       "data": [
        {
         "alignmentgroup": "True",
         "hovertemplate": "param_model__max_features=auto<br>param_model__n_estimators=%{x}<br>mean_test_score=%{y}<extra></extra>",
         "legendgroup": "auto",
         "marker": {
          "color": "#636efa"
         },
         "name": "auto",
         "notched": false,
         "offsetgroup": "auto",
         "orientation": "v",
         "showlegend": true,
         "type": "box",
         "x": [
          100,
          250,
          500,
          1000,
          100,
          250,
          500,
          1000,
          100,
          250,
          500,
          1000,
          100,
          250,
          500,
          1000,
          100,
          250,
          500,
          1000,
          100,
          250,
          500,
          1000,
          100,
          250,
          500,
          1000,
          100,
          250,
          500,
          1000,
          100,
          250,
          500,
          1000,
          100,
          250,
          500,
          1000,
          100,
          250,
          500,
          1000,
          100,
          250,
          500,
          1000,
          100,
          250,
          500,
          1000,
          100,
          250,
          500,
          1000,
          100,
          250,
          500,
          1000,
          100,
          250,
          500,
          1000,
          100,
          250,
          500,
          1000,
          100,
          250,
          500,
          1000
         ],
         "x0": " ",
         "xaxis": "x",
         "y": [
          0.7104969709910114,
          0.7159944025086139,
          0.7122757549496141,
          0.7101720904139296,
          0.6993377836948467,
          0.6999835675739041,
          0.7011164629883152,
          0.7019251058164508,
          0.7069378330967901,
          0.7062903745755829,
          0.7049966088496464,
          0.708878534018262,
          0.7101720904139297,
          0.710172718404736,
          0.7092021586137313,
          0.710657108646596,
          0.7088774873669184,
          0.7130846071080186,
          0.71081986293054,
          0.711628296428407,
          0.7075835123107131,
          0.7140532829266045,
          0.7082314941575922,
          0.7108194442700025,
          0.7074242119762034,
          0.7083934111204613,
          0.7098489891441323,
          0.7092012166275219,
          0.7074238979808003,
          0.7103346353676049,
          0.7117901087261416,
          0.7137308096476135,
          0.7051578978217092,
          0.7080695771947233,
          0.7100100687859262,
          0.7114656468095975,
          0.7020851388069013,
          0.710172509074467,
          0.7122748129634049,
          0.7124365205960052,
          0.7088789526787994,
          0.7098490938092665,
          0.7098488844789977,
          0.7085550140879272,
          0.7092014259577907,
          0.7125982282286054,
          0.7090391949995185,
          0.712598960884546,
          0.7054816270823128,
          0.7070989127385842,
          0.7113052998237439,
          0.7087160937297211,
          0.7053206521056532,
          0.7129231088056871,
          0.7122737663120611,
          0.7129211201681341,
          0.7049959808588403,
          0.7061289809383857,
          0.7087175590416023,
          0.7111431735306061,
          0.707584035636385,
          0.710657631972268,
          0.7117903180564104,
          0.713083874452078,
          0.7046747635614615,
          0.7147012647734837,
          0.7106584692933429,
          0.7117887480793947,
          0.7121150939683576,
          0.7125992748799491,
          0.7109814658980059,
          0.710656794651193
         ],
         "y0": " ",
         "yaxis": "y"
        },
        {
         "alignmentgroup": "True",
         "hovertemplate": "param_model__max_features=sqrt<br>param_model__n_estimators=%{x}<br>mean_test_score=%{y}<extra></extra>",
         "legendgroup": "sqrt",
         "marker": {
          "color": "#EF553B"
         },
         "name": "sqrt",
         "notched": false,
         "offsetgroup": "sqrt",
         "orientation": "v",
         "showlegend": true,
         "type": "box",
         "x": [
          100,
          250,
          500,
          1000,
          100,
          250,
          500,
          1000,
          100,
          250,
          500,
          1000,
          100,
          250,
          500,
          1000,
          100,
          250,
          500,
          1000,
          100,
          250,
          500,
          1000,
          100,
          250,
          500,
          1000,
          100,
          250,
          500,
          1000,
          100,
          250,
          500,
          1000,
          100,
          250,
          500,
          1000,
          100,
          250,
          500,
          1000,
          100,
          250,
          500,
          1000,
          100,
          250,
          500,
          1000,
          100,
          250,
          500,
          1000,
          100,
          250,
          500,
          1000,
          100,
          250,
          500,
          1000,
          100,
          250,
          500,
          1000,
          100,
          250,
          500,
          1000
         ],
         "x0": " ",
         "xaxis": "x",
         "y": [
          0.7051589444730529,
          0.707099122068853,
          0.7114664841306724,
          0.7117895854004697,
          0.6972355844710433,
          0.6990139497691087,
          0.7017633981838506,
          0.6990142637645118,
          0.7066144178315896,
          0.7066148364921271,
          0.7082312848273234,
          0.7069380424270589,
          0.7067764394595929,
          0.7108183976186588,
          0.7092029959348062,
          0.7114661701352692,
          0.7113047764980721,
          0.712759726530937,
          0.7096874908418007,
          0.7129210155029997,
          0.7108187116140618,
          0.7124359972703334,
          0.709687595506935,
          0.7138932499361543,
          0.7077475225762695,
          0.7080699958552606,
          0.711304462502669,
          0.7150250986992217,
          0.7032174062305061,
          0.711305613819147,
          0.7113042531724002,
          0.7121126866702672,
          0.7096883281628756,
          0.7109814658980059,
          0.7121134193262078,
          0.711466693460941,
          0.7049971321753182,
          0.7101722997441984,
          0.7117895854004697,
          0.7106583646282085,
          0.7098479424927886,
          0.7101731370652733,
          0.7056435440451819,
          0.710334949363008,
          0.7103346353676049,
          0.7137310189778822,
          0.7116286104238101,
          0.7093637615811971,
          0.7051592584684561,
          0.71081986293054,
          0.7109814658980059,
          0.7109819892236777,
          0.7100097547905232,
          0.7085551187530614,
          0.7096873861766664,
          0.7100108014418669,
          0.7051588398079185,
          0.7111438015214124,
          0.710172195079064,
          0.7122741849725986,
          0.7072622950133344,
          0.7114665887958066,
          0.7090403463159966,
          0.7127602498566087,
          0.7062906885709861,
          0.7111440108516812,
          0.7143777448431488,
          0.7104952963488613,
          0.7061303415851325,
          0.710980942572334,
          0.7137299723265386,
          0.7125988562194115
         ],
         "y0": " ",
         "yaxis": "y"
        },
        {
         "alignmentgroup": "True",
         "hovertemplate": "param_model__max_features=log2<br>param_model__n_estimators=%{x}<br>mean_test_score=%{y}<extra></extra>",
         "legendgroup": "log2",
         "marker": {
          "color": "#00cc96"
         },
         "name": "log2",
         "notched": false,
         "offsetgroup": "log2",
         "orientation": "v",
         "showlegend": true,
         "type": "box",
         "x": [
          100,
          250,
          500,
          1000,
          100,
          250,
          500,
          1000,
          100,
          250,
          500,
          1000,
          100,
          250,
          500,
          1000,
          100,
          250,
          500,
          1000,
          100,
          250,
          500,
          1000,
          100,
          250,
          500,
          1000,
          100,
          250,
          500,
          1000,
          100,
          250,
          500,
          1000,
          100,
          250,
          500,
          1000,
          100,
          250,
          500,
          1000,
          100,
          250,
          500,
          1000,
          100,
          250,
          500,
          1000,
          100,
          250,
          500,
          1000,
          100,
          250,
          500,
          1000,
          100,
          250,
          500,
          1000,
          100,
          250,
          500,
          1000,
          100,
          250,
          500,
          1000
         ],
         "x0": " ",
         "xaxis": "x",
         "y": [
          0.6978800077033539,
          0.7043492549935736,
          0.707422432668919,
          0.7067750788128462,
          0.6933525079859498,
          0.6943225444512826,
          0.6923811108738701,
          0.6959394114470164,
          0.6999829395830979,
          0.701437680285694,
          0.7024084494069673,
          0.704834796551912,
          0.7035390421884223,
          0.7037014824769633,
          0.7053201287799814,
          0.7051577931565749,
          0.7048343778913744,
          0.7087156750691836,
          0.7059673779709198,
          0.7098473145019824,
          0.7035415541516472,
          0.7040269910448511,
          0.7092020539485968,
          0.709040450981131,
          0.6993355857270249,
          0.7096867581858601,
          0.7059669593103823,
          0.7087168263856618,
          0.6972339098288934,
          0.7085557467438677,
          0.707746266594657,
          0.7066131618499771,
          0.6994972933596253,
          0.7049971321753182,
          0.706613999171052,
          0.7095256785440661,
          0.6973972921036435,
          0.7059661219893074,
          0.7069377284316557,
          0.7048342732262399,
          0.7006308167648425,
          0.7059669593103824,
          0.707099122068853,
          0.7066129525197085,
          0.6965860326471487,
          0.7087159890645868,
          0.7053198147845783,
          0.7072606203711844,
          0.7043483130073642,
          0.7098490938092666,
          0.7059664359847105,
          0.7064523962035862,
          0.703055175272234,
          0.7056438580405849,
          0.7062904792407172,
          0.7053204427753844,
          0.7061278296219077,
          0.7015991785880256,
          0.7072596783849752,
          0.7056432300497787,
          0.6951297219675371,
          0.7022465324440983,
          0.707420967357038,
          0.7083938297809986,
          0.7012753446622875,
          0.7069373097711182,
          0.7093635522509284,
          0.7074229559945908,
          0.7016009578953097,
          0.7088778013623214,
          0.7079072415713168,
          0.7092009026321189
         ],
         "y0": " ",
         "yaxis": "y"
        }
       ],
       "layout": {
        "boxmode": "group",
        "legend": {
         "title": {
          "text": "param_model__max_features"
         },
         "tracegroupgap": 0
        },
        "margin": {
         "t": 60
        },
        "template": {
         "data": {
          "bar": [
           {
            "error_x": {
             "color": "#2a3f5f"
            },
            "error_y": {
             "color": "#2a3f5f"
            },
            "marker": {
             "line": {
              "color": "#E5ECF6",
              "width": 0.5
             },
             "pattern": {
              "fillmode": "overlay",
              "size": 10,
              "solidity": 0.2
             }
            },
            "type": "bar"
           }
          ],
          "barpolar": [
           {
            "marker": {
             "line": {
              "color": "#E5ECF6",
              "width": 0.5
             },
             "pattern": {
              "fillmode": "overlay",
              "size": 10,
              "solidity": 0.2
             }
            },
            "type": "barpolar"
           }
          ],
          "carpet": [
           {
            "aaxis": {
             "endlinecolor": "#2a3f5f",
             "gridcolor": "white",
             "linecolor": "white",
             "minorgridcolor": "white",
             "startlinecolor": "#2a3f5f"
            },
            "baxis": {
             "endlinecolor": "#2a3f5f",
             "gridcolor": "white",
             "linecolor": "white",
             "minorgridcolor": "white",
             "startlinecolor": "#2a3f5f"
            },
            "type": "carpet"
           }
          ],
          "choropleth": [
           {
            "colorbar": {
             "outlinewidth": 0,
             "ticks": ""
            },
            "type": "choropleth"
           }
          ],
          "contour": [
           {
            "colorbar": {
             "outlinewidth": 0,
             "ticks": ""
            },
            "colorscale": [
             [
              0,
              "#0d0887"
             ],
             [
              0.1111111111111111,
              "#46039f"
             ],
             [
              0.2222222222222222,
              "#7201a8"
             ],
             [
              0.3333333333333333,
              "#9c179e"
             ],
             [
              0.4444444444444444,
              "#bd3786"
             ],
             [
              0.5555555555555556,
              "#d8576b"
             ],
             [
              0.6666666666666666,
              "#ed7953"
             ],
             [
              0.7777777777777778,
              "#fb9f3a"
             ],
             [
              0.8888888888888888,
              "#fdca26"
             ],
             [
              1,
              "#f0f921"
             ]
            ],
            "type": "contour"
           }
          ],
          "contourcarpet": [
           {
            "colorbar": {
             "outlinewidth": 0,
             "ticks": ""
            },
            "type": "contourcarpet"
           }
          ],
          "heatmap": [
           {
            "colorbar": {
             "outlinewidth": 0,
             "ticks": ""
            },
            "colorscale": [
             [
              0,
              "#0d0887"
             ],
             [
              0.1111111111111111,
              "#46039f"
             ],
             [
              0.2222222222222222,
              "#7201a8"
             ],
             [
              0.3333333333333333,
              "#9c179e"
             ],
             [
              0.4444444444444444,
              "#bd3786"
             ],
             [
              0.5555555555555556,
              "#d8576b"
             ],
             [
              0.6666666666666666,
              "#ed7953"
             ],
             [
              0.7777777777777778,
              "#fb9f3a"
             ],
             [
              0.8888888888888888,
              "#fdca26"
             ],
             [
              1,
              "#f0f921"
             ]
            ],
            "type": "heatmap"
           }
          ],
          "heatmapgl": [
           {
            "colorbar": {
             "outlinewidth": 0,
             "ticks": ""
            },
            "colorscale": [
             [
              0,
              "#0d0887"
             ],
             [
              0.1111111111111111,
              "#46039f"
             ],
             [
              0.2222222222222222,
              "#7201a8"
             ],
             [
              0.3333333333333333,
              "#9c179e"
             ],
             [
              0.4444444444444444,
              "#bd3786"
             ],
             [
              0.5555555555555556,
              "#d8576b"
             ],
             [
              0.6666666666666666,
              "#ed7953"
             ],
             [
              0.7777777777777778,
              "#fb9f3a"
             ],
             [
              0.8888888888888888,
              "#fdca26"
             ],
             [
              1,
              "#f0f921"
             ]
            ],
            "type": "heatmapgl"
           }
          ],
          "histogram": [
           {
            "marker": {
             "pattern": {
              "fillmode": "overlay",
              "size": 10,
              "solidity": 0.2
             }
            },
            "type": "histogram"
           }
          ],
          "histogram2d": [
           {
            "colorbar": {
             "outlinewidth": 0,
             "ticks": ""
            },
            "colorscale": [
             [
              0,
              "#0d0887"
             ],
             [
              0.1111111111111111,
              "#46039f"
             ],
             [
              0.2222222222222222,
              "#7201a8"
             ],
             [
              0.3333333333333333,
              "#9c179e"
             ],
             [
              0.4444444444444444,
              "#bd3786"
             ],
             [
              0.5555555555555556,
              "#d8576b"
             ],
             [
              0.6666666666666666,
              "#ed7953"
             ],
             [
              0.7777777777777778,
              "#fb9f3a"
             ],
             [
              0.8888888888888888,
              "#fdca26"
             ],
             [
              1,
              "#f0f921"
             ]
            ],
            "type": "histogram2d"
           }
          ],
          "histogram2dcontour": [
           {
            "colorbar": {
             "outlinewidth": 0,
             "ticks": ""
            },
            "colorscale": [
             [
              0,
              "#0d0887"
             ],
             [
              0.1111111111111111,
              "#46039f"
             ],
             [
              0.2222222222222222,
              "#7201a8"
             ],
             [
              0.3333333333333333,
              "#9c179e"
             ],
             [
              0.4444444444444444,
              "#bd3786"
             ],
             [
              0.5555555555555556,
              "#d8576b"
             ],
             [
              0.6666666666666666,
              "#ed7953"
             ],
             [
              0.7777777777777778,
              "#fb9f3a"
             ],
             [
              0.8888888888888888,
              "#fdca26"
             ],
             [
              1,
              "#f0f921"
             ]
            ],
            "type": "histogram2dcontour"
           }
          ],
          "mesh3d": [
           {
            "colorbar": {
             "outlinewidth": 0,
             "ticks": ""
            },
            "type": "mesh3d"
           }
          ],
          "parcoords": [
           {
            "line": {
             "colorbar": {
              "outlinewidth": 0,
              "ticks": ""
             }
            },
            "type": "parcoords"
           }
          ],
          "pie": [
           {
            "automargin": true,
            "type": "pie"
           }
          ],
          "scatter": [
           {
            "fillpattern": {
             "fillmode": "overlay",
             "size": 10,
             "solidity": 0.2
            },
            "type": "scatter"
           }
          ],
          "scatter3d": [
           {
            "line": {
             "colorbar": {
              "outlinewidth": 0,
              "ticks": ""
             }
            },
            "marker": {
             "colorbar": {
              "outlinewidth": 0,
              "ticks": ""
             }
            },
            "type": "scatter3d"
           }
          ],
          "scattercarpet": [
           {
            "marker": {
             "colorbar": {
              "outlinewidth": 0,
              "ticks": ""
             }
            },
            "type": "scattercarpet"
           }
          ],
          "scattergeo": [
           {
            "marker": {
             "colorbar": {
              "outlinewidth": 0,
              "ticks": ""
             }
            },
            "type": "scattergeo"
           }
          ],
          "scattergl": [
           {
            "marker": {
             "colorbar": {
              "outlinewidth": 0,
              "ticks": ""
             }
            },
            "type": "scattergl"
           }
          ],
          "scattermapbox": [
           {
            "marker": {
             "colorbar": {
              "outlinewidth": 0,
              "ticks": ""
             }
            },
            "type": "scattermapbox"
           }
          ],
          "scatterpolar": [
           {
            "marker": {
             "colorbar": {
              "outlinewidth": 0,
              "ticks": ""
             }
            },
            "type": "scatterpolar"
           }
          ],
          "scatterpolargl": [
           {
            "marker": {
             "colorbar": {
              "outlinewidth": 0,
              "ticks": ""
             }
            },
            "type": "scatterpolargl"
           }
          ],
          "scatterternary": [
           {
            "marker": {
             "colorbar": {
              "outlinewidth": 0,
              "ticks": ""
             }
            },
            "type": "scatterternary"
           }
          ],
          "surface": [
           {
            "colorbar": {
             "outlinewidth": 0,
             "ticks": ""
            },
            "colorscale": [
             [
              0,
              "#0d0887"
             ],
             [
              0.1111111111111111,
              "#46039f"
             ],
             [
              0.2222222222222222,
              "#7201a8"
             ],
             [
              0.3333333333333333,
              "#9c179e"
             ],
             [
              0.4444444444444444,
              "#bd3786"
             ],
             [
              0.5555555555555556,
              "#d8576b"
             ],
             [
              0.6666666666666666,
              "#ed7953"
             ],
             [
              0.7777777777777778,
              "#fb9f3a"
             ],
             [
              0.8888888888888888,
              "#fdca26"
             ],
             [
              1,
              "#f0f921"
             ]
            ],
            "type": "surface"
           }
          ],
          "table": [
           {
            "cells": {
             "fill": {
              "color": "#EBF0F8"
             },
             "line": {
              "color": "white"
             }
            },
            "header": {
             "fill": {
              "color": "#C8D4E3"
             },
             "line": {
              "color": "white"
             }
            },
            "type": "table"
           }
          ]
         },
         "layout": {
          "annotationdefaults": {
           "arrowcolor": "#2a3f5f",
           "arrowhead": 0,
           "arrowwidth": 1
          },
          "autotypenumbers": "strict",
          "coloraxis": {
           "colorbar": {
            "outlinewidth": 0,
            "ticks": ""
           }
          },
          "colorscale": {
           "diverging": [
            [
             0,
             "#8e0152"
            ],
            [
             0.1,
             "#c51b7d"
            ],
            [
             0.2,
             "#de77ae"
            ],
            [
             0.3,
             "#f1b6da"
            ],
            [
             0.4,
             "#fde0ef"
            ],
            [
             0.5,
             "#f7f7f7"
            ],
            [
             0.6,
             "#e6f5d0"
            ],
            [
             0.7,
             "#b8e186"
            ],
            [
             0.8,
             "#7fbc41"
            ],
            [
             0.9,
             "#4d9221"
            ],
            [
             1,
             "#276419"
            ]
           ],
           "sequential": [
            [
             0,
             "#0d0887"
            ],
            [
             0.1111111111111111,
             "#46039f"
            ],
            [
             0.2222222222222222,
             "#7201a8"
            ],
            [
             0.3333333333333333,
             "#9c179e"
            ],
            [
             0.4444444444444444,
             "#bd3786"
            ],
            [
             0.5555555555555556,
             "#d8576b"
            ],
            [
             0.6666666666666666,
             "#ed7953"
            ],
            [
             0.7777777777777778,
             "#fb9f3a"
            ],
            [
             0.8888888888888888,
             "#fdca26"
            ],
            [
             1,
             "#f0f921"
            ]
           ],
           "sequentialminus": [
            [
             0,
             "#0d0887"
            ],
            [
             0.1111111111111111,
             "#46039f"
            ],
            [
             0.2222222222222222,
             "#7201a8"
            ],
            [
             0.3333333333333333,
             "#9c179e"
            ],
            [
             0.4444444444444444,
             "#bd3786"
            ],
            [
             0.5555555555555556,
             "#d8576b"
            ],
            [
             0.6666666666666666,
             "#ed7953"
            ],
            [
             0.7777777777777778,
             "#fb9f3a"
            ],
            [
             0.8888888888888888,
             "#fdca26"
            ],
            [
             1,
             "#f0f921"
            ]
           ]
          },
          "colorway": [
           "#636efa",
           "#EF553B",
           "#00cc96",
           "#ab63fa",
           "#FFA15A",
           "#19d3f3",
           "#FF6692",
           "#B6E880",
           "#FF97FF",
           "#FECB52"
          ],
          "font": {
           "color": "#2a3f5f"
          },
          "geo": {
           "bgcolor": "white",
           "lakecolor": "white",
           "landcolor": "#E5ECF6",
           "showlakes": true,
           "showland": true,
           "subunitcolor": "white"
          },
          "hoverlabel": {
           "align": "left"
          },
          "hovermode": "closest",
          "mapbox": {
           "style": "light"
          },
          "paper_bgcolor": "white",
          "plot_bgcolor": "#E5ECF6",
          "polar": {
           "angularaxis": {
            "gridcolor": "white",
            "linecolor": "white",
            "ticks": ""
           },
           "bgcolor": "#E5ECF6",
           "radialaxis": {
            "gridcolor": "white",
            "linecolor": "white",
            "ticks": ""
           }
          },
          "scene": {
           "xaxis": {
            "backgroundcolor": "#E5ECF6",
            "gridcolor": "white",
            "gridwidth": 2,
            "linecolor": "white",
            "showbackground": true,
            "ticks": "",
            "zerolinecolor": "white"
           },
           "yaxis": {
            "backgroundcolor": "#E5ECF6",
            "gridcolor": "white",
            "gridwidth": 2,
            "linecolor": "white",
            "showbackground": true,
            "ticks": "",
            "zerolinecolor": "white"
           },
           "zaxis": {
            "backgroundcolor": "#E5ECF6",
            "gridcolor": "white",
            "gridwidth": 2,
            "linecolor": "white",
            "showbackground": true,
            "ticks": "",
            "zerolinecolor": "white"
           }
          },
          "shapedefaults": {
           "line": {
            "color": "#2a3f5f"
           }
          },
          "ternary": {
           "aaxis": {
            "gridcolor": "white",
            "linecolor": "white",
            "ticks": ""
           },
           "baxis": {
            "gridcolor": "white",
            "linecolor": "white",
            "ticks": ""
           },
           "bgcolor": "#E5ECF6",
           "caxis": {
            "gridcolor": "white",
            "linecolor": "white",
            "ticks": ""
           }
          },
          "title": {
           "x": 0.05
          },
          "xaxis": {
           "automargin": true,
           "gridcolor": "white",
           "linecolor": "white",
           "ticks": "",
           "title": {
            "standoff": 15
           },
           "zerolinecolor": "white",
           "zerolinewidth": 2
          },
          "yaxis": {
           "automargin": true,
           "gridcolor": "white",
           "linecolor": "white",
           "ticks": "",
           "title": {
            "standoff": 15
           },
           "zerolinecolor": "white",
           "zerolinewidth": 2
          }
         }
        },
        "xaxis": {
         "anchor": "y",
         "domain": [
          0,
          1
         ],
         "title": {
          "text": "param_model__n_estimators"
         }
        },
        "yaxis": {
         "anchor": "x",
         "domain": [
          0,
          1
         ],
         "title": {
          "text": "mean_test_score"
         }
        }
       }
      }
     },
     "metadata": {},
     "output_type": "display_data"
    }
   ],
   "source": [
    "# boxplot the same as above\n",
    "fig = px.box(results_df, x=\"param_model__n_estimators\", y=\"mean_test_score\", color = \"param_model__max_features\")\n",
    "fig.show()"
   ]
  },
  {
   "cell_type": "code",
   "execution_count": null,
   "metadata": {},
   "outputs": [],
   "source": []
  },
  {
   "attachments": {},
   "cell_type": "markdown",
   "metadata": {},
   "source": [
    "From this, we can see that \"Auto\" is almost always the best max_feature, so let's keep it. \n",
    "- SQRT also does well, so just dropping log2. \n",
    "- As for max depth, it seemed to still be increasing with more depth, so I will add more depth. \n",
    "- N_Estimators get generally the same result from 250 on, so for space and time, I will go with 250. \n",
    "- Adding in min_samples_leaf options"
   ]
  },
  {
   "cell_type": "code",
   "execution_count": 133,
   "metadata": {},
   "outputs": [
    {
     "name": "stdout",
     "output_type": "stream",
     "text": [
      "best parameters: {'model__max_depth': 130, 'model__max_features': 'sqrt', 'model__min_samples_leaf': 2, 'model__n_estimators': 250}\n",
      "best score:      0.71551 (+/-0.01428)\n"
     ]
    },
    {
     "data": {
      "image/png": "[encoded data removed]",
      "text/plain": [
       "<Figure size 800x400 with 1 Axes>"
      ]
     },
     "metadata": {},
     "output_type": "display_data"
    },
    {
     "name": "stdout",
     "output_type": "stream",
     "text": [
      "best parameters: {'model__max_depth': 130, 'model__max_features': 'sqrt', 'model__min_samples_leaf': 2, 'model__n_estimators': 250}\n",
      "best score:      0.71551 (+/-0.01428)\n"
     ]
    },
    {
     "data": {
      "image/png": "[encoded data removed]",
      "text/plain": [
       "<Figure size 800x400 with 1 Axes>"
      ]
     },
     "metadata": {},
     "output_type": "display_data"
    }
   ],
   "source": [
    "# gridsearch to look at max depth and max features, keeping n_estimators at 100 and min_samples_leaf at 1\n",
    "\n",
    "param_grid = {'model__n_estimators' : [250],\n",
    "                    'model__max_depth' : [None,  7, 10, 15, 20, 50, 60, 70, 80, 90, 100, 110, 120, 130, 140, 150, 160, 170, 180, 190, 200],\n",
    "                    'model__max_features' : ['auto', 'sqrt',],\n",
    "                    'model__min_samples_leaf' : [1, 2, 3]}\n",
    "\n",
    "# Initialize the GridSearchCV object with the model (rf_model), parameter grid, and cross-validation strategy\n",
    "grid_search = GridSearchCV(estimator=rf_model, param_grid=param_grid, cv=4, scoring='accuracy', n_jobs = 16, verbose=0)\n",
    "\n",
    "# Fit the GridSearchCV object to the training data\n",
    "grid_search.fit(X_train, y_train)\n",
    "\n",
    "# Use the GridSearch_table_plot function to visualize the results\n",
    "\n",
    "gs_max_features_results, gs_mf_fig  = GridSearch_results(grid_search, param_name='model__max_features', \n",
    "                                                            num_results=0, graph=True, display_all_params=False)\n",
    "\n",
    "gs_max_depth_results, gs_md_fig = GridSearch_results(grid_search, param_name='model__max_depth', \n",
    "                                                        num_results=0, graph=True, display_all_params=False)\n",
    "\n",
    "play_jobs_done()\n",
    "\n",
    "results_df = pd.DataFrame(grid_search.cv_results_)"
   ]
  },
  {
   "cell_type": "code",
   "execution_count": 134,
   "metadata": {},
   "outputs": [
    {
     "data": {
      "text/html": [
       "<div>\n",
       "<style scoped>\n",
       "    .dataframe tbody tr th:only-of-type {\n",
       "        vertical-align: middle;\n",
       "    }\n",
       "\n",
       "    .dataframe tbody tr th {\n",
       "        vertical-align: top;\n",
       "    }\n",
       "\n",
       "    .dataframe thead th {\n",
       "        text-align: right;\n",
       "    }\n",
       "</style>\n",
       "<table border=\"1\" class=\"dataframe\">\n",
       "  <thead>\n",
       "    <tr style=\"text-align: right;\">\n",
       "      <th></th>\n",
       "      <th>mean_fit_time</th>\n",
       "      <th>std_fit_time</th>\n",
       "      <th>mean_score_time</th>\n",
       "      <th>std_score_time</th>\n",
       "      <th>param_model__max_depth</th>\n",
       "      <th>param_model__max_features</th>\n",
       "      <th>param_model__min_samples_leaf</th>\n",
       "      <th>param_model__n_estimators</th>\n",
       "      <th>params</th>\n",
       "      <th>split0_test_score</th>\n",
       "      <th>split1_test_score</th>\n",
       "      <th>split2_test_score</th>\n",
       "      <th>split3_test_score</th>\n",
       "      <th>mean_test_score</th>\n",
       "      <th>std_test_score</th>\n",
       "      <th>rank_test_score</th>\n",
       "    </tr>\n",
       "  </thead>\n",
       "  <tbody>\n",
       "    <tr>\n",
       "      <th>82</th>\n",
       "      <td>8.760884</td>\n",
       "      <td>0.033068</td>\n",
       "      <td>0.141752</td>\n",
       "      <td>0.005584</td>\n",
       "      <td>130.0</td>\n",
       "      <td>sqrt</td>\n",
       "      <td>2</td>\n",
       "      <td>250</td>\n",
       "      <td>{'model__max_depth': 130, 'model__max_features...</td>\n",
       "      <td>0.697930</td>\n",
       "      <td>0.736740</td>\n",
       "      <td>0.718629</td>\n",
       "      <td>0.708738</td>\n",
       "      <td>0.715509</td>\n",
       "      <td>0.014277</td>\n",
       "      <td>1</td>\n",
       "    </tr>\n",
       "    <tr>\n",
       "      <th>95</th>\n",
       "      <td>8.675563</td>\n",
       "      <td>0.075524</td>\n",
       "      <td>0.156751</td>\n",
       "      <td>0.019486</td>\n",
       "      <td>150.0</td>\n",
       "      <td>sqrt</td>\n",
       "      <td>3</td>\n",
       "      <td>250</td>\n",
       "      <td>{'model__max_depth': 150, 'model__max_features...</td>\n",
       "      <td>0.699224</td>\n",
       "      <td>0.726391</td>\n",
       "      <td>0.720569</td>\n",
       "      <td>0.714563</td>\n",
       "      <td>0.715187</td>\n",
       "      <td>0.010121</td>\n",
       "      <td>2</td>\n",
       "    </tr>\n",
       "    <tr>\n",
       "      <th>110</th>\n",
       "      <td>8.484778</td>\n",
       "      <td>0.085180</td>\n",
       "      <td>0.148750</td>\n",
       "      <td>0.013588</td>\n",
       "      <td>180.0</td>\n",
       "      <td>auto</td>\n",
       "      <td>3</td>\n",
       "      <td>250</td>\n",
       "      <td>{'model__max_depth': 180, 'model__max_features...</td>\n",
       "      <td>0.704398</td>\n",
       "      <td>0.724450</td>\n",
       "      <td>0.719922</td>\n",
       "      <td>0.711974</td>\n",
       "      <td>0.715186</td>\n",
       "      <td>0.007664</td>\n",
       "      <td>3</td>\n",
       "    </tr>\n",
       "    <tr>\n",
       "      <th>44</th>\n",
       "      <td>8.297873</td>\n",
       "      <td>0.079764</td>\n",
       "      <td>0.134385</td>\n",
       "      <td>0.011200</td>\n",
       "      <td>70.0</td>\n",
       "      <td>auto</td>\n",
       "      <td>3</td>\n",
       "      <td>250</td>\n",
       "      <td>{'model__max_depth': 70, 'model__max_features'...</td>\n",
       "      <td>0.707633</td>\n",
       "      <td>0.721216</td>\n",
       "      <td>0.721863</td>\n",
       "      <td>0.709385</td>\n",
       "      <td>0.715024</td>\n",
       "      <td>0.006549</td>\n",
       "      <td>4</td>\n",
       "    </tr>\n",
       "    <tr>\n",
       "      <th>31</th>\n",
       "      <td>8.762743</td>\n",
       "      <td>0.092916</td>\n",
       "      <td>0.142128</td>\n",
       "      <td>0.025108</td>\n",
       "      <td>50.0</td>\n",
       "      <td>auto</td>\n",
       "      <td>2</td>\n",
       "      <td>250</td>\n",
       "      <td>{'model__max_depth': 50, 'model__max_features'...</td>\n",
       "      <td>0.700517</td>\n",
       "      <td>0.722510</td>\n",
       "      <td>0.720569</td>\n",
       "      <td>0.715858</td>\n",
       "      <td>0.714863</td>\n",
       "      <td>0.008629</td>\n",
       "      <td>5</td>\n",
       "    </tr>\n",
       "  </tbody>\n",
       "</table>\n",
       "</div>"
      ],
      "text/plain": [
       "     mean_fit_time  std_fit_time  mean_score_time  std_score_time  \\\n",
       "82        8.760884      0.033068         0.141752        0.005584   \n",
       "95        8.675563      0.075524         0.156751        0.019486   \n",
       "110       8.484778      0.085180         0.148750        0.013588   \n",
       "44        8.297873      0.079764         0.134385        0.011200   \n",
       "31        8.762743      0.092916         0.142128        0.025108   \n",
       "\n",
       "     param_model__max_depth param_model__max_features  \\\n",
       "82                    130.0                      sqrt   \n",
       "95                    150.0                      sqrt   \n",
       "110                   180.0                      auto   \n",
       "44                     70.0                      auto   \n",
       "31                     50.0                      auto   \n",
       "\n",
       "    param_model__min_samples_leaf param_model__n_estimators  \\\n",
       "82                              2                       250   \n",
       "95                              3                       250   \n",
       "110                             3                       250   \n",
       "44                              3                       250   \n",
       "31                              2                       250   \n",
       "\n",
       "                                                params  split0_test_score  \\\n",
       "82   {'model__max_depth': 130, 'model__max_features...           0.697930   \n",
       "95   {'model__max_depth': 150, 'model__max_features...           0.699224   \n",
       "110  {'model__max_depth': 180, 'model__max_features...           0.704398   \n",
       "44   {'model__max_depth': 70, 'model__max_features'...           0.707633   \n",
       "31   {'model__max_depth': 50, 'model__max_features'...           0.700517   \n",
       "\n",
       "     split1_test_score  split2_test_score  split3_test_score  mean_test_score  \\\n",
       "82            0.736740           0.718629           0.708738         0.715509   \n",
       "95            0.726391           0.720569           0.714563         0.715187   \n",
       "110           0.724450           0.719922           0.711974         0.715186   \n",
       "44            0.721216           0.721863           0.709385         0.715024   \n",
       "31            0.722510           0.720569           0.715858         0.714863   \n",
       "\n",
       "     std_test_score  rank_test_score  \n",
       "82         0.014277                1  \n",
       "95         0.010121                2  \n",
       "110        0.007664                3  \n",
       "44         0.006549                4  \n",
       "31         0.008629                5  "
      ]
     },
     "execution_count": 134,
     "metadata": {},
     "output_type": "execute_result"
    }
   ],
   "source": [
    "results_df.sort_values(by='rank_test_score').head(5)"
   ]
  },
  {
   "cell_type": "code",
   "execution_count": 135,
   "metadata": {},
   "outputs": [
    {
     "data": {
      "application/vnd.plotly.v1+json": {
       "config": {
        "plotlyServerURL": "https://plot.ly"
       },
       "data": [
        {
         "alignmentgroup": "True",
         "hovertemplate": "param_model__max_features=auto<br>param_model__max_depth=%{x}<br>mean_test_score=%{y}<extra></extra>",
         "legendgroup": "auto",
         "marker": {
          "color": "#636efa"
         },
         "name": "auto",
         "notched": false,
         "offsetgroup": "auto",
         "orientation": "v",
         "showlegend": true,
         "type": "box",
         "x": [
          null,
          null,
          null,
          7,
          7,
          7,
          10,
          10,
          10,
          15,
          15,
          15,
          20,
          20,
          20,
          50,
          50,
          50,
          60,
          60,
          60,
          70,
          70,
          70,
          80,
          80,
          80,
          90,
          90,
          90,
          100,
          100,
          100,
          110,
          110,
          110,
          120,
          120,
          120,
          130,
          130,
          130,
          140,
          140,
          140,
          150,
          150,
          150,
          160,
          160,
          160,
          170,
          170,
          170,
          180,
          180,
          180,
          190,
          190,
          190,
          200,
          200,
          200
         ],
         "x0": " ",
         "xaxis": "x",
         "y": [
          0.7134065570613379,
          0.7064526055338549,
          0.7113041485072659,
          0.7098493031395354,
          0.7113048811632064,
          0.7072611436968562,
          0.7135694160104162,
          0.7138926219453481,
          0.7135693113452818,
          0.706938356422462,
          0.7137297629962698,
          0.7108195489351368,
          0.71195129303307,
          0.7127602498566088,
          0.7101722997441984,
          0.7111439061865468,
          0.7148634957317559,
          0.7096889561536819,
          0.7122756502844798,
          0.7147012647734836,
          0.7101717764185266,
          0.7109808379071997,
          0.7069380424270588,
          0.7150241567130123,
          0.7109813612328716,
          0.7077469992505976,
          0.711466693460941,
          0.7108195489351368,
          0.7104957150093989,
          0.7129221668194778,
          0.7083929924599237,
          0.7092029959348062,
          0.7087172450461992,
          0.7096871768463976,
          0.7122755456193455,
          0.7142169791967579,
          0.7101732417304077,
          0.7121135239913421,
          0.7124372532519456,
          0.7130833511264062,
          0.7077472085808664,
          0.7142166652013549,
          0.7087155704040492,
          0.7114665887958067,
          0.711789376070201,
          0.7122753362890768,
          0.7098478378276541,
          0.7122753362890768,
          0.7087160937297211,
          0.7109815705631403,
          0.7138932499361543,
          0.7062897465847766,
          0.7108190256094651,
          0.710172718404736,
          0.7075856056134006,
          0.7142155138848767,
          0.7151862830061502,
          0.710821014247018,
          0.7100114294326731,
          0.7119526536798169,
          0.7122744989680017,
          0.7096879095023383,
          0.7132448494287377
         ],
         "y0": " ",
         "yaxis": "y"
        },
        {
         "alignmentgroup": "True",
         "hovertemplate": "param_model__max_features=sqrt<br>param_model__max_depth=%{x}<br>mean_test_score=%{y}<extra></extra>",
         "legendgroup": "sqrt",
         "marker": {
          "color": "#EF553B"
         },
         "name": "sqrt",
         "notched": false,
         "offsetgroup": "sqrt",
         "orientation": "v",
         "showlegend": true,
         "type": "box",
         "x": [
          null,
          null,
          null,
          7,
          7,
          7,
          10,
          10,
          10,
          15,
          15,
          15,
          20,
          20,
          20,
          50,
          50,
          50,
          60,
          60,
          60,
          70,
          70,
          70,
          80,
          80,
          80,
          90,
          90,
          90,
          100,
          100,
          100,
          110,
          110,
          110,
          120,
          120,
          120,
          130,
          130,
          130,
          140,
          140,
          140,
          150,
          150,
          150,
          160,
          160,
          160,
          170,
          170,
          170,
          180,
          180,
          180,
          190,
          190,
          190,
          200,
          200,
          200
         ],
         "x0": " ",
         "xaxis": "x",
         "y": [
          0.7082327501392047,
          0.7074236886505316,
          0.7114664841306724,
          0.7098486751487292,
          0.7124372532519456,
          0.7096871768463976,
          0.7095266205302754,
          0.7117908413820822,
          0.7114656468095975,
          0.7096865488555915,
          0.7140539109174108,
          0.7104956103442646,
          0.7129221668194778,
          0.7109815705631403,
          0.7101726137396015,
          0.7061286669429826,
          0.708878534018262,
          0.712599274879949,
          0.7092020539485968,
          0.7114673214517473,
          0.7137309143127477,
          0.7056448000267943,
          0.7119518163587418,
          0.7117908413820822,
          0.7103348446978737,
          0.7104963430002051,
          0.7103331700557237,
          0.7085554327484646,
          0.7117887480793949,
          0.712435892605199,
          0.713246314740619,
          0.7132451634241408,
          0.7117904227215446,
          0.70807093784147,
          0.7122758596147486,
          0.7145396618060178,
          0.7109819892236778,
          0.7134072897172785,
          0.7113049858283408,
          0.7109807332420653,
          0.7155091749456788,
          0.713084711773153,
          0.710335263358411,
          0.7125988562194115,
          0.7111423362095313,
          0.7062912118966579,
          0.7101726137396015,
          0.7151867016666876,
          0.7129222714846121,
          0.7129215388286716,
          0.7096865488555915,
          0.7088784293531276,
          0.7072597830501095,
          0.7111434875260093,
          0.7074233746551284,
          0.7122757549496141,
          0.71001111543727,
          0.7080694725295889,
          0.7100114294326731,
          0.7122749176285392,
          0.7085552234181959,
          0.70839362045073,
          0.7142151998894736
         ],
         "y0": " ",
         "yaxis": "y"
        }
       ],
       "layout": {
        "boxmode": "group",
        "legend": {
         "title": {
          "text": "param_model__max_features"
         },
         "tracegroupgap": 0
        },
        "margin": {
         "t": 60
        },
        "template": {
         "data": {
          "bar": [
           {
            "error_x": {
             "color": "#2a3f5f"
            },
            "error_y": {
             "color": "#2a3f5f"
            },
            "marker": {
             "line": {
              "color": "#E5ECF6",
              "width": 0.5
             },
             "pattern": {
              "fillmode": "overlay",
              "size": 10,
              "solidity": 0.2
             }
            },
            "type": "bar"
           }
          ],
          "barpolar": [
           {
            "marker": {
             "line": {
              "color": "#E5ECF6",
              "width": 0.5
             },
             "pattern": {
              "fillmode": "overlay",
              "size": 10,
              "solidity": 0.2
             }
            },
            "type": "barpolar"
           }
          ],
          "carpet": [
           {
            "aaxis": {
             "endlinecolor": "#2a3f5f",
             "gridcolor": "white",
             "linecolor": "white",
             "minorgridcolor": "white",
             "startlinecolor": "#2a3f5f"
            },
            "baxis": {
             "endlinecolor": "#2a3f5f",
             "gridcolor": "white",
             "linecolor": "white",
             "minorgridcolor": "white",
             "startlinecolor": "#2a3f5f"
            },
            "type": "carpet"
           }
          ],
          "choropleth": [
           {
            "colorbar": {
             "outlinewidth": 0,
             "ticks": ""
            },
            "type": "choropleth"
           }
          ],
          "contour": [
           {
            "colorbar": {
             "outlinewidth": 0,
             "ticks": ""
            },
            "colorscale": [
             [
              0,
              "#0d0887"
             ],
             [
              0.1111111111111111,
              "#46039f"
             ],
             [
              0.2222222222222222,
              "#7201a8"
             ],
             [
              0.3333333333333333,
              "#9c179e"
             ],
             [
              0.4444444444444444,
              "#bd3786"
             ],
             [
              0.5555555555555556,
              "#d8576b"
             ],
             [
              0.6666666666666666,
              "#ed7953"
             ],
             [
              0.7777777777777778,
              "#fb9f3a"
             ],
             [
              0.8888888888888888,
              "#fdca26"
             ],
             [
              1,
              "#f0f921"
             ]
            ],
            "type": "contour"
           }
          ],
          "contourcarpet": [
           {
            "colorbar": {
             "outlinewidth": 0,
             "ticks": ""
            },
            "type": "contourcarpet"
           }
          ],
          "heatmap": [
           {
            "colorbar": {
             "outlinewidth": 0,
             "ticks": ""
            },
            "colorscale": [
             [
              0,
              "#0d0887"
             ],
             [
              0.1111111111111111,
              "#46039f"
             ],
             [
              0.2222222222222222,
              "#7201a8"
             ],
             [
              0.3333333333333333,
              "#9c179e"
             ],
             [
              0.4444444444444444,
              "#bd3786"
             ],
             [
              0.5555555555555556,
              "#d8576b"
             ],
             [
              0.6666666666666666,
              "#ed7953"
             ],
             [
              0.7777777777777778,
              "#fb9f3a"
             ],
             [
              0.8888888888888888,
              "#fdca26"
             ],
             [
              1,
              "#f0f921"
             ]
            ],
            "type": "heatmap"
           }
          ],
          "heatmapgl": [
           {
            "colorbar": {
             "outlinewidth": 0,
             "ticks": ""
            },
            "colorscale": [
             [
              0,
              "#0d0887"
             ],
             [
              0.1111111111111111,
              "#46039f"
             ],
             [
              0.2222222222222222,
              "#7201a8"
             ],
             [
              0.3333333333333333,
              "#9c179e"
             ],
             [
              0.4444444444444444,
              "#bd3786"
             ],
             [
              0.5555555555555556,
              "#d8576b"
             ],
             [
              0.6666666666666666,
              "#ed7953"
             ],
             [
              0.7777777777777778,
              "#fb9f3a"
             ],
             [
              0.8888888888888888,
              "#fdca26"
             ],
             [
              1,
              "#f0f921"
             ]
            ],
            "type": "heatmapgl"
           }
          ],
          "histogram": [
           {
            "marker": {
             "pattern": {
              "fillmode": "overlay",
              "size": 10,
              "solidity": 0.2
             }
            },
            "type": "histogram"
           }
          ],
          "histogram2d": [
           {
            "colorbar": {
             "outlinewidth": 0,
             "ticks": ""
            },
            "colorscale": [
             [
              0,
              "#0d0887"
             ],
             [
              0.1111111111111111,
              "#46039f"
             ],
             [
              0.2222222222222222,
              "#7201a8"
             ],
             [
              0.3333333333333333,
              "#9c179e"
             ],
             [
              0.4444444444444444,
              "#bd3786"
             ],
             [
              0.5555555555555556,
              "#d8576b"
             ],
             [
              0.6666666666666666,
              "#ed7953"
             ],
             [
              0.7777777777777778,
              "#fb9f3a"
             ],
             [
              0.8888888888888888,
              "#fdca26"
             ],
             [
              1,
              "#f0f921"
             ]
            ],
            "type": "histogram2d"
           }
          ],
          "histogram2dcontour": [
           {
            "colorbar": {
             "outlinewidth": 0,
             "ticks": ""
            },
            "colorscale": [
             [
              0,
              "#0d0887"
             ],
             [
              0.1111111111111111,
              "#46039f"
             ],
             [
              0.2222222222222222,
              "#7201a8"
             ],
             [
              0.3333333333333333,
              "#9c179e"
             ],
             [
              0.4444444444444444,
              "#bd3786"
             ],
             [
              0.5555555555555556,
              "#d8576b"
             ],
             [
              0.6666666666666666,
              "#ed7953"
             ],
             [
              0.7777777777777778,
              "#fb9f3a"
             ],
             [
              0.8888888888888888,
              "#fdca26"
             ],
             [
              1,
              "#f0f921"
             ]
            ],
            "type": "histogram2dcontour"
           }
          ],
          "mesh3d": [
           {
            "colorbar": {
             "outlinewidth": 0,
             "ticks": ""
            },
            "type": "mesh3d"
           }
          ],
          "parcoords": [
           {
            "line": {
             "colorbar": {
              "outlinewidth": 0,
              "ticks": ""
             }
            },
            "type": "parcoords"
           }
          ],
          "pie": [
           {
            "automargin": true,
            "type": "pie"
           }
          ],
          "scatter": [
           {
            "fillpattern": {
             "fillmode": "overlay",
             "size": 10,
             "solidity": 0.2
            },
            "type": "scatter"
           }
          ],
          "scatter3d": [
           {
            "line": {
             "colorbar": {
              "outlinewidth": 0,
              "ticks": ""
             }
            },
            "marker": {
             "colorbar": {
              "outlinewidth": 0,
              "ticks": ""
             }
            },
            "type": "scatter3d"
           }
          ],
          "scattercarpet": [
           {
            "marker": {
             "colorbar": {
              "outlinewidth": 0,
              "ticks": ""
             }
            },
            "type": "scattercarpet"
           }
          ],
          "scattergeo": [
           {
            "marker": {
             "colorbar": {
              "outlinewidth": 0,
              "ticks": ""
             }
            },
            "type": "scattergeo"
           }
          ],
          "scattergl": [
           {
            "marker": {
             "colorbar": {
              "outlinewidth": 0,
              "ticks": ""
             }
            },
            "type": "scattergl"
           }
          ],
          "scattermapbox": [
           {
            "marker": {
             "colorbar": {
              "outlinewidth": 0,
              "ticks": ""
             }
            },
            "type": "scattermapbox"
           }
          ],
          "scatterpolar": [
           {
            "marker": {
             "colorbar": {
              "outlinewidth": 0,
              "ticks": ""
             }
            },
            "type": "scatterpolar"
           }
          ],
          "scatterpolargl": [
           {
            "marker": {
             "colorbar": {
              "outlinewidth": 0,
              "ticks": ""
             }
            },
            "type": "scatterpolargl"
           }
          ],
          "scatterternary": [
           {
            "marker": {
             "colorbar": {
              "outlinewidth": 0,
              "ticks": ""
             }
            },
            "type": "scatterternary"
           }
          ],
          "surface": [
           {
            "colorbar": {
             "outlinewidth": 0,
             "ticks": ""
            },
            "colorscale": [
             [
              0,
              "#0d0887"
             ],
             [
              0.1111111111111111,
              "#46039f"
             ],
             [
              0.2222222222222222,
              "#7201a8"
             ],
             [
              0.3333333333333333,
              "#9c179e"
             ],
             [
              0.4444444444444444,
              "#bd3786"
             ],
             [
              0.5555555555555556,
              "#d8576b"
             ],
             [
              0.6666666666666666,
              "#ed7953"
             ],
             [
              0.7777777777777778,
              "#fb9f3a"
             ],
             [
              0.8888888888888888,
              "#fdca26"
             ],
             [
              1,
              "#f0f921"
             ]
            ],
            "type": "surface"
           }
          ],
          "table": [
           {
            "cells": {
             "fill": {
              "color": "#EBF0F8"
             },
             "line": {
              "color": "white"
             }
            },
            "header": {
             "fill": {
              "color": "#C8D4E3"
             },
             "line": {
              "color": "white"
             }
            },
            "type": "table"
           }
          ]
         },
         "layout": {
          "annotationdefaults": {
           "arrowcolor": "#2a3f5f",
           "arrowhead": 0,
           "arrowwidth": 1
          },
          "autotypenumbers": "strict",
          "coloraxis": {
           "colorbar": {
            "outlinewidth": 0,
            "ticks": ""
           }
          },
          "colorscale": {
           "diverging": [
            [
             0,
             "#8e0152"
            ],
            [
             0.1,
             "#c51b7d"
            ],
            [
             0.2,
             "#de77ae"
            ],
            [
             0.3,
             "#f1b6da"
            ],
            [
             0.4,
             "#fde0ef"
            ],
            [
             0.5,
             "#f7f7f7"
            ],
            [
             0.6,
             "#e6f5d0"
            ],
            [
             0.7,
             "#b8e186"
            ],
            [
             0.8,
             "#7fbc41"
            ],
            [
             0.9,
             "#4d9221"
            ],
            [
             1,
             "#276419"
            ]
           ],
           "sequential": [
            [
             0,
             "#0d0887"
            ],
            [
             0.1111111111111111,
             "#46039f"
            ],
            [
             0.2222222222222222,
             "#7201a8"
            ],
            [
             0.3333333333333333,
             "#9c179e"
            ],
            [
             0.4444444444444444,
             "#bd3786"
            ],
            [
             0.5555555555555556,
             "#d8576b"
            ],
            [
             0.6666666666666666,
             "#ed7953"
            ],
            [
             0.7777777777777778,
             "#fb9f3a"
            ],
            [
             0.8888888888888888,
             "#fdca26"
            ],
            [
             1,
             "#f0f921"
            ]
           ],
           "sequentialminus": [
            [
             0,
             "#0d0887"
            ],
            [
             0.1111111111111111,
             "#46039f"
            ],
            [
             0.2222222222222222,
             "#7201a8"
            ],
            [
             0.3333333333333333,
             "#9c179e"
            ],
            [
             0.4444444444444444,
             "#bd3786"
            ],
            [
             0.5555555555555556,
             "#d8576b"
            ],
            [
             0.6666666666666666,
             "#ed7953"
            ],
            [
             0.7777777777777778,
             "#fb9f3a"
            ],
            [
             0.8888888888888888,
             "#fdca26"
            ],
            [
             1,
             "#f0f921"
            ]
           ]
          },
          "colorway": [
           "#636efa",
           "#EF553B",
           "#00cc96",
           "#ab63fa",
           "#FFA15A",
           "#19d3f3",
           "#FF6692",
           "#B6E880",
           "#FF97FF",
           "#FECB52"
          ],
          "font": {
           "color": "#2a3f5f"
          },
          "geo": {
           "bgcolor": "white",
           "lakecolor": "white",
           "landcolor": "#E5ECF6",
           "showlakes": true,
           "showland": true,
           "subunitcolor": "white"
          },
          "hoverlabel": {
           "align": "left"
          },
          "hovermode": "closest",
          "mapbox": {
           "style": "light"
          },
          "paper_bgcolor": "white",
          "plot_bgcolor": "#E5ECF6",
          "polar": {
           "angularaxis": {
            "gridcolor": "white",
            "linecolor": "white",
            "ticks": ""
           },
           "bgcolor": "#E5ECF6",
           "radialaxis": {
            "gridcolor": "white",
            "linecolor": "white",
            "ticks": ""
           }
          },
          "scene": {
           "xaxis": {
            "backgroundcolor": "#E5ECF6",
            "gridcolor": "white",
            "gridwidth": 2,
            "linecolor": "white",
            "showbackground": true,
            "ticks": "",
            "zerolinecolor": "white"
           },
           "yaxis": {
            "backgroundcolor": "#E5ECF6",
            "gridcolor": "white",
            "gridwidth": 2,
            "linecolor": "white",
            "showbackground": true,
            "ticks": "",
            "zerolinecolor": "white"
           },
           "zaxis": {
            "backgroundcolor": "#E5ECF6",
            "gridcolor": "white",
            "gridwidth": 2,
            "linecolor": "white",
            "showbackground": true,
            "ticks": "",
            "zerolinecolor": "white"
           }
          },
          "shapedefaults": {
           "line": {
            "color": "#2a3f5f"
           }
          },
          "ternary": {
           "aaxis": {
            "gridcolor": "white",
            "linecolor": "white",
            "ticks": ""
           },
           "baxis": {
            "gridcolor": "white",
            "linecolor": "white",
            "ticks": ""
           },
           "bgcolor": "#E5ECF6",
           "caxis": {
            "gridcolor": "white",
            "linecolor": "white",
            "ticks": ""
           }
          },
          "title": {
           "x": 0.05
          },
          "xaxis": {
           "automargin": true,
           "gridcolor": "white",
           "linecolor": "white",
           "ticks": "",
           "title": {
            "standoff": 15
           },
           "zerolinecolor": "white",
           "zerolinewidth": 2
          },
          "yaxis": {
           "automargin": true,
           "gridcolor": "white",
           "linecolor": "white",
           "ticks": "",
           "title": {
            "standoff": 15
           },
           "zerolinecolor": "white",
           "zerolinewidth": 2
          }
         }
        },
        "xaxis": {
         "anchor": "y",
         "domain": [
          0,
          1
         ],
         "title": {
          "text": "param_model__max_depth"
         }
        },
        "yaxis": {
         "anchor": "x",
         "domain": [
          0,
          1
         ],
         "title": {
          "text": "mean_test_score"
         }
        }
       }
      }
     },
     "metadata": {},
     "output_type": "display_data"
    }
   ],
   "source": [
    "# Investigate Max Depth and Max Features\n",
    "fig = px.box(results_df, x=\"param_model__max_depth\", y=\"mean_test_score\", color = \"param_model__max_features\")\n",
    "fig.show()\n"
   ]
  },
  {
   "cell_type": "code",
   "execution_count": 139,
   "metadata": {},
   "outputs": [
    {
     "data": {
      "application/vnd.plotly.v1+json": {
       "config": {
        "plotlyServerURL": "https://plot.ly"
       },
       "data": [
        {
         "alignmentgroup": "True",
         "hovertemplate": "param_model__min_samples_leaf=1<br>param_model__max_depth=%{x}<br>mean_test_score=%{y}<extra></extra>",
         "legendgroup": "1",
         "marker": {
          "color": "#636efa"
         },
         "name": "1",
         "notched": false,
         "offsetgroup": "1",
         "orientation": "v",
         "showlegend": true,
         "type": "box",
         "x": [
          null,
          null,
          7,
          7,
          10,
          10,
          15,
          15,
          20,
          20,
          50,
          50,
          60,
          60,
          70,
          70,
          80,
          80,
          90,
          90,
          100,
          100,
          110,
          110,
          120,
          120,
          130,
          130,
          140,
          140,
          150,
          150,
          160,
          160,
          170,
          170,
          180,
          180,
          190,
          190,
          200,
          200
         ],
         "x0": " ",
         "xaxis": "x",
         "y": [
          0.7134065570613379,
          0.7082327501392047,
          0.7098493031395354,
          0.7098486751487292,
          0.7135694160104162,
          0.7095266205302754,
          0.706938356422462,
          0.7096865488555915,
          0.71195129303307,
          0.7129221668194778,
          0.7111439061865468,
          0.7061286669429826,
          0.7122756502844798,
          0.7092020539485968,
          0.7109808379071997,
          0.7056448000267943,
          0.7109813612328716,
          0.7103348446978737,
          0.7108195489351368,
          0.7085554327484646,
          0.7083929924599237,
          0.713246314740619,
          0.7096871768463976,
          0.70807093784147,
          0.7101732417304077,
          0.7109819892236778,
          0.7130833511264062,
          0.7109807332420653,
          0.7087155704040492,
          0.710335263358411,
          0.7122753362890768,
          0.7062912118966579,
          0.7087160937297211,
          0.7129222714846121,
          0.7062897465847766,
          0.7088784293531276,
          0.7075856056134006,
          0.7074233746551284,
          0.710821014247018,
          0.7080694725295889,
          0.7122744989680017,
          0.7085552234181959
         ],
         "y0": " ",
         "yaxis": "y"
        },
        {
         "alignmentgroup": "True",
         "hovertemplate": "param_model__min_samples_leaf=2<br>param_model__max_depth=%{x}<br>mean_test_score=%{y}<extra></extra>",
         "legendgroup": "2",
         "marker": {
          "color": "#EF553B"
         },
         "name": "2",
         "notched": false,
         "offsetgroup": "2",
         "orientation": "v",
         "showlegend": true,
         "type": "box",
         "x": [
          null,
          null,
          7,
          7,
          10,
          10,
          15,
          15,
          20,
          20,
          50,
          50,
          60,
          60,
          70,
          70,
          80,
          80,
          90,
          90,
          100,
          100,
          110,
          110,
          120,
          120,
          130,
          130,
          140,
          140,
          150,
          150,
          160,
          160,
          170,
          170,
          180,
          180,
          190,
          190,
          200,
          200
         ],
         "x0": " ",
         "xaxis": "x",
         "y": [
          0.7064526055338549,
          0.7074236886505316,
          0.7113048811632064,
          0.7124372532519456,
          0.7138926219453481,
          0.7117908413820822,
          0.7137297629962698,
          0.7140539109174108,
          0.7127602498566088,
          0.7109815705631403,
          0.7148634957317559,
          0.708878534018262,
          0.7147012647734836,
          0.7114673214517473,
          0.7069380424270588,
          0.7119518163587418,
          0.7077469992505976,
          0.7104963430002051,
          0.7104957150093989,
          0.7117887480793949,
          0.7092029959348062,
          0.7132451634241408,
          0.7122755456193455,
          0.7122758596147486,
          0.7121135239913421,
          0.7134072897172785,
          0.7077472085808664,
          0.7155091749456788,
          0.7114665887958067,
          0.7125988562194115,
          0.7098478378276541,
          0.7101726137396015,
          0.7109815705631403,
          0.7129215388286716,
          0.7108190256094651,
          0.7072597830501095,
          0.7142155138848767,
          0.7122757549496141,
          0.7100114294326731,
          0.7100114294326731,
          0.7096879095023383,
          0.70839362045073
         ],
         "y0": " ",
         "yaxis": "y"
        },
        {
         "alignmentgroup": "True",
         "hovertemplate": "param_model__min_samples_leaf=3<br>param_model__max_depth=%{x}<br>mean_test_score=%{y}<extra></extra>",
         "legendgroup": "3",
         "marker": {
          "color": "#00cc96"
         },
         "name": "3",
         "notched": false,
         "offsetgroup": "3",
         "orientation": "v",
         "showlegend": true,
         "type": "box",
         "x": [
          null,
          null,
          7,
          7,
          10,
          10,
          15,
          15,
          20,
          20,
          50,
          50,
          60,
          60,
          70,
          70,
          80,
          80,
          90,
          90,
          100,
          100,
          110,
          110,
          120,
          120,
          130,
          130,
          140,
          140,
          150,
          150,
          160,
          160,
          170,
          170,
          180,
          180,
          190,
          190,
          200,
          200
         ],
         "x0": " ",
         "xaxis": "x",
         "y": [
          0.7113041485072659,
          0.7114664841306724,
          0.7072611436968562,
          0.7096871768463976,
          0.7135693113452818,
          0.7114656468095975,
          0.7108195489351368,
          0.7104956103442646,
          0.7101722997441984,
          0.7101726137396015,
          0.7096889561536819,
          0.712599274879949,
          0.7101717764185266,
          0.7137309143127477,
          0.7150241567130123,
          0.7117908413820822,
          0.711466693460941,
          0.7103331700557237,
          0.7129221668194778,
          0.712435892605199,
          0.7087172450461992,
          0.7117904227215446,
          0.7142169791967579,
          0.7145396618060178,
          0.7124372532519456,
          0.7113049858283408,
          0.7142166652013549,
          0.713084711773153,
          0.711789376070201,
          0.7111423362095313,
          0.7122753362890768,
          0.7151867016666876,
          0.7138932499361543,
          0.7096865488555915,
          0.710172718404736,
          0.7111434875260093,
          0.7151862830061502,
          0.71001111543727,
          0.7119526536798169,
          0.7122749176285392,
          0.7132448494287377,
          0.7142151998894736
         ],
         "y0": " ",
         "yaxis": "y"
        }
       ],
       "layout": {
        "boxmode": "group",
        "legend": {
         "title": {
          "text": "param_model__min_samples_leaf"
         },
         "tracegroupgap": 0
        },
        "margin": {
         "t": 60
        },
        "template": {
         "data": {
          "bar": [
           {
            "error_x": {
             "color": "#2a3f5f"
            },
            "error_y": {
             "color": "#2a3f5f"
            },
            "marker": {
             "line": {
              "color": "#E5ECF6",
              "width": 0.5
             },
             "pattern": {
              "fillmode": "overlay",
              "size": 10,
              "solidity": 0.2
             }
            },
            "type": "bar"
           }
          ],
          "barpolar": [
           {
            "marker": {
             "line": {
              "color": "#E5ECF6",
              "width": 0.5
             },
             "pattern": {
              "fillmode": "overlay",
              "size": 10,
              "solidity": 0.2
             }
            },
            "type": "barpolar"
           }
          ],
          "carpet": [
           {
            "aaxis": {
             "endlinecolor": "#2a3f5f",
             "gridcolor": "white",
             "linecolor": "white",
             "minorgridcolor": "white",
             "startlinecolor": "#2a3f5f"
            },
            "baxis": {
             "endlinecolor": "#2a3f5f",
             "gridcolor": "white",
             "linecolor": "white",
             "minorgridcolor": "white",
             "startlinecolor": "#2a3f5f"
            },
            "type": "carpet"
           }
          ],
          "choropleth": [
           {
            "colorbar": {
             "outlinewidth": 0,
             "ticks": ""
            },
            "type": "choropleth"
           }
          ],
          "contour": [
           {
            "colorbar": {
             "outlinewidth": 0,
             "ticks": ""
            },
            "colorscale": [
             [
              0,
              "#0d0887"
             ],
             [
              0.1111111111111111,
              "#46039f"
             ],
             [
              0.2222222222222222,
              "#7201a8"
             ],
             [
              0.3333333333333333,
              "#9c179e"
             ],
             [
              0.4444444444444444,
              "#bd3786"
             ],
             [
              0.5555555555555556,
              "#d8576b"
             ],
             [
              0.6666666666666666,
              "#ed7953"
             ],
             [
              0.7777777777777778,
              "#fb9f3a"
             ],
             [
              0.8888888888888888,
              "#fdca26"
             ],
             [
              1,
              "#f0f921"
             ]
            ],
            "type": "contour"
           }
          ],
          "contourcarpet": [
           {
            "colorbar": {
             "outlinewidth": 0,
             "ticks": ""
            },
            "type": "contourcarpet"
           }
          ],
          "heatmap": [
           {
            "colorbar": {
             "outlinewidth": 0,
             "ticks": ""
            },
            "colorscale": [
             [
              0,
              "#0d0887"
             ],
             [
              0.1111111111111111,
              "#46039f"
             ],
             [
              0.2222222222222222,
              "#7201a8"
             ],
             [
              0.3333333333333333,
              "#9c179e"
             ],
             [
              0.4444444444444444,
              "#bd3786"
             ],
             [
              0.5555555555555556,
              "#d8576b"
             ],
             [
              0.6666666666666666,
              "#ed7953"
             ],
             [
              0.7777777777777778,
              "#fb9f3a"
             ],
             [
              0.8888888888888888,
              "#fdca26"
             ],
             [
              1,
              "#f0f921"
             ]
            ],
            "type": "heatmap"
           }
          ],
          "heatmapgl": [
           {
            "colorbar": {
             "outlinewidth": 0,
             "ticks": ""
            },
            "colorscale": [
             [
              0,
              "#0d0887"
             ],
             [
              0.1111111111111111,
              "#46039f"
             ],
             [
              0.2222222222222222,
              "#7201a8"
             ],
             [
              0.3333333333333333,
              "#9c179e"
             ],
             [
              0.4444444444444444,
              "#bd3786"
             ],
             [
              0.5555555555555556,
              "#d8576b"
             ],
             [
              0.6666666666666666,
              "#ed7953"
             ],
             [
              0.7777777777777778,
              "#fb9f3a"
             ],
             [
              0.8888888888888888,
              "#fdca26"
             ],
             [
              1,
              "#f0f921"
             ]
            ],
            "type": "heatmapgl"
           }
          ],
          "histogram": [
           {
            "marker": {
             "pattern": {
              "fillmode": "overlay",
              "size": 10,
              "solidity": 0.2
             }
            },
            "type": "histogram"
           }
          ],
          "histogram2d": [
           {
            "colorbar": {
             "outlinewidth": 0,
             "ticks": ""
            },
            "colorscale": [
             [
              0,
              "#0d0887"
             ],
             [
              0.1111111111111111,
              "#46039f"
             ],
             [
              0.2222222222222222,
              "#7201a8"
             ],
             [
              0.3333333333333333,
              "#9c179e"
             ],
             [
              0.4444444444444444,
              "#bd3786"
             ],
             [
              0.5555555555555556,
              "#d8576b"
             ],
             [
              0.6666666666666666,
              "#ed7953"
             ],
             [
              0.7777777777777778,
              "#fb9f3a"
             ],
             [
              0.8888888888888888,
              "#fdca26"
             ],
             [
              1,
              "#f0f921"
             ]
            ],
            "type": "histogram2d"
           }
          ],
          "histogram2dcontour": [
           {
            "colorbar": {
             "outlinewidth": 0,
             "ticks": ""
            },
            "colorscale": [
             [
              0,
              "#0d0887"
             ],
             [
              0.1111111111111111,
              "#46039f"
             ],
             [
              0.2222222222222222,
              "#7201a8"
             ],
             [
              0.3333333333333333,
              "#9c179e"
             ],
             [
              0.4444444444444444,
              "#bd3786"
             ],
             [
              0.5555555555555556,
              "#d8576b"
             ],
             [
              0.6666666666666666,
              "#ed7953"
             ],
             [
              0.7777777777777778,
              "#fb9f3a"
             ],
             [
              0.8888888888888888,
              "#fdca26"
             ],
             [
              1,
              "#f0f921"
             ]
            ],
            "type": "histogram2dcontour"
           }
          ],
          "mesh3d": [
           {
            "colorbar": {
             "outlinewidth": 0,
             "ticks": ""
            },
            "type": "mesh3d"
           }
          ],
          "parcoords": [
           {
            "line": {
             "colorbar": {
              "outlinewidth": 0,
              "ticks": ""
             }
            },
            "type": "parcoords"
           }
          ],
          "pie": [
           {
            "automargin": true,
            "type": "pie"
           }
          ],
          "scatter": [
           {
            "fillpattern": {
             "fillmode": "overlay",
             "size": 10,
             "solidity": 0.2
            },
            "type": "scatter"
           }
          ],
          "scatter3d": [
           {
            "line": {
             "colorbar": {
              "outlinewidth": 0,
              "ticks": ""
             }
            },
            "marker": {
             "colorbar": {
              "outlinewidth": 0,
              "ticks": ""
             }
            },
            "type": "scatter3d"
           }
          ],
          "scattercarpet": [
           {
            "marker": {
             "colorbar": {
              "outlinewidth": 0,
              "ticks": ""
             }
            },
            "type": "scattercarpet"
           }
          ],
          "scattergeo": [
           {
            "marker": {
             "colorbar": {
              "outlinewidth": 0,
              "ticks": ""
             }
            },
            "type": "scattergeo"
           }
          ],
          "scattergl": [
           {
            "marker": {
             "colorbar": {
              "outlinewidth": 0,
              "ticks": ""
             }
            },
            "type": "scattergl"
           }
          ],
          "scattermapbox": [
           {
            "marker": {
             "colorbar": {
              "outlinewidth": 0,
              "ticks": ""
             }
            },
            "type": "scattermapbox"
           }
          ],
          "scatterpolar": [
           {
            "marker": {
             "colorbar": {
              "outlinewidth": 0,
              "ticks": ""
             }
            },
            "type": "scatterpolar"
           }
          ],
          "scatterpolargl": [
           {
            "marker": {
             "colorbar": {
              "outlinewidth": 0,
              "ticks": ""
             }
            },
            "type": "scatterpolargl"
           }
          ],
          "scatterternary": [
           {
            "marker": {
             "colorbar": {
              "outlinewidth": 0,
              "ticks": ""
             }
            },
            "type": "scatterternary"
           }
          ],
          "surface": [
           {
            "colorbar": {
             "outlinewidth": 0,
             "ticks": ""
            },
            "colorscale": [
             [
              0,
              "#0d0887"
             ],
             [
              0.1111111111111111,
              "#46039f"
             ],
             [
              0.2222222222222222,
              "#7201a8"
             ],
             [
              0.3333333333333333,
              "#9c179e"
             ],
             [
              0.4444444444444444,
              "#bd3786"
             ],
             [
              0.5555555555555556,
              "#d8576b"
             ],
             [
              0.6666666666666666,
              "#ed7953"
             ],
             [
              0.7777777777777778,
              "#fb9f3a"
             ],
             [
              0.8888888888888888,
              "#fdca26"
             ],
             [
              1,
              "#f0f921"
             ]
            ],
            "type": "surface"
           }
          ],
          "table": [
           {
            "cells": {
             "fill": {
              "color": "#EBF0F8"
             },
             "line": {
              "color": "white"
             }
            },
            "header": {
             "fill": {
              "color": "#C8D4E3"
             },
             "line": {
              "color": "white"
             }
            },
            "type": "table"
           }
          ]
         },
         "layout": {
          "annotationdefaults": {
           "arrowcolor": "#2a3f5f",
           "arrowhead": 0,
           "arrowwidth": 1
          },
          "autotypenumbers": "strict",
          "coloraxis": {
           "colorbar": {
            "outlinewidth": 0,
            "ticks": ""
           }
          },
          "colorscale": {
           "diverging": [
            [
             0,
             "#8e0152"
            ],
            [
             0.1,
             "#c51b7d"
            ],
            [
             0.2,
             "#de77ae"
            ],
            [
             0.3,
             "#f1b6da"
            ],
            [
             0.4,
             "#fde0ef"
            ],
            [
             0.5,
             "#f7f7f7"
            ],
            [
             0.6,
             "#e6f5d0"
            ],
            [
             0.7,
             "#b8e186"
            ],
            [
             0.8,
             "#7fbc41"
            ],
            [
             0.9,
             "#4d9221"
            ],
            [
             1,
             "#276419"
            ]
           ],
           "sequential": [
            [
             0,
             "#0d0887"
            ],
            [
             0.1111111111111111,
             "#46039f"
            ],
            [
             0.2222222222222222,
             "#7201a8"
            ],
            [
             0.3333333333333333,
             "#9c179e"
            ],
            [
             0.4444444444444444,
             "#bd3786"
            ],
            [
             0.5555555555555556,
             "#d8576b"
            ],
            [
             0.6666666666666666,
             "#ed7953"
            ],
            [
             0.7777777777777778,
             "#fb9f3a"
            ],
            [
             0.8888888888888888,
             "#fdca26"
            ],
            [
             1,
             "#f0f921"
            ]
           ],
           "sequentialminus": [
            [
             0,
             "#0d0887"
            ],
            [
             0.1111111111111111,
             "#46039f"
            ],
            [
             0.2222222222222222,
             "#7201a8"
            ],
            [
             0.3333333333333333,
             "#9c179e"
            ],
            [
             0.4444444444444444,
             "#bd3786"
            ],
            [
             0.5555555555555556,
             "#d8576b"
            ],
            [
             0.6666666666666666,
             "#ed7953"
            ],
            [
             0.7777777777777778,
             "#fb9f3a"
            ],
            [
             0.8888888888888888,
             "#fdca26"
            ],
            [
             1,
             "#f0f921"
            ]
           ]
          },
          "colorway": [
           "#636efa",
           "#EF553B",
           "#00cc96",
           "#ab63fa",
           "#FFA15A",
           "#19d3f3",
           "#FF6692",
           "#B6E880",
           "#FF97FF",
           "#FECB52"
          ],
          "font": {
           "color": "#2a3f5f"
          },
          "geo": {
           "bgcolor": "white",
           "lakecolor": "white",
           "landcolor": "#E5ECF6",
           "showlakes": true,
           "showland": true,
           "subunitcolor": "white"
          },
          "hoverlabel": {
           "align": "left"
          },
          "hovermode": "closest",
          "mapbox": {
           "style": "light"
          },
          "paper_bgcolor": "white",
          "plot_bgcolor": "#E5ECF6",
          "polar": {
           "angularaxis": {
            "gridcolor": "white",
            "linecolor": "white",
            "ticks": ""
           },
           "bgcolor": "#E5ECF6",
           "radialaxis": {
            "gridcolor": "white",
            "linecolor": "white",
            "ticks": ""
           }
          },
          "scene": {
           "xaxis": {
            "backgroundcolor": "#E5ECF6",
            "gridcolor": "white",
            "gridwidth": 2,
            "linecolor": "white",
            "showbackground": true,
            "ticks": "",
            "zerolinecolor": "white"
           },
           "yaxis": {
            "backgroundcolor": "#E5ECF6",
            "gridcolor": "white",
            "gridwidth": 2,
            "linecolor": "white",
            "showbackground": true,
            "ticks": "",
            "zerolinecolor": "white"
           },
           "zaxis": {
            "backgroundcolor": "#E5ECF6",
            "gridcolor": "white",
            "gridwidth": 2,
            "linecolor": "white",
            "showbackground": true,
            "ticks": "",
            "zerolinecolor": "white"
           }
          },
          "shapedefaults": {
           "line": {
            "color": "#2a3f5f"
           }
          },
          "ternary": {
           "aaxis": {
            "gridcolor": "white",
            "linecolor": "white",
            "ticks": ""
           },
           "baxis": {
            "gridcolor": "white",
            "linecolor": "white",
            "ticks": ""
           },
           "bgcolor": "#E5ECF6",
           "caxis": {
            "gridcolor": "white",
            "linecolor": "white",
            "ticks": ""
           }
          },
          "title": {
           "x": 0.05
          },
          "xaxis": {
           "automargin": true,
           "gridcolor": "white",
           "linecolor": "white",
           "ticks": "",
           "title": {
            "standoff": 15
           },
           "zerolinecolor": "white",
           "zerolinewidth": 2
          },
          "yaxis": {
           "automargin": true,
           "gridcolor": "white",
           "linecolor": "white",
           "ticks": "",
           "title": {
            "standoff": 15
           },
           "zerolinecolor": "white",
           "zerolinewidth": 2
          }
         }
        },
        "xaxis": {
         "anchor": "y",
         "domain": [
          0,
          1
         ],
         "title": {
          "text": "param_model__max_depth"
         }
        },
        "yaxis": {
         "anchor": "x",
         "domain": [
          0,
          1
         ],
         "title": {
          "text": "mean_test_score"
         }
        }
       }
      }
     },
     "metadata": {},
     "output_type": "display_data"
    }
   ],
   "source": [
    "# Investigate Max Depth and Max Features\n",
    "fig = px.box(results_df, x=\"param_model__max_depth\", y=\"mean_test_score\", color = \"param_model__min_samples_leaf\")\n",
    "fig.show()"
   ]
  },
  {
   "cell_type": "code",
   "execution_count": 142,
   "metadata": {},
   "outputs": [],
   "source": [
    "from tqdm.auto import tqdm\n",
    "from itertools import product"
   ]
  },
  {
   "cell_type": "code",
   "execution_count": 143,
   "metadata": {},
   "outputs": [],
   "source": [
    "def progress_bar(param_grid):\n",
    "    keys, values = zip(*param_grid.items())\n",
    "    for v in tqdm(product(*values), desc='Grid Search Progress'):\n",
    "        yield dict(zip(keys, v))"
   ]
  },
  {
   "cell_type": "code",
   "execution_count": 145,
   "metadata": {},
   "outputs": [
    {
     "data": {
      "application/vnd.jupyter.widget-view+json": {
       "model_id": "51108773dff44298a9a3bbf95e805be6",
       "version_major": 2,
       "version_minor": 0
      },
      "text/plain": [
       "Grid Search Progress: 0it [00:00, ?it/s]"
      ]
     },
     "metadata": {},
     "output_type": "display_data"
    },
    {
     "ename": "ValueError",
     "evalue": "Parameter grid for parameter (model__n_estimators) needs to be a list or numpy array, but got (<class 'int'>). Single values need to be wrapped in a list with one element.",
     "output_type": "error",
     "traceback": [
      "\u001b[1;31m---------------------------------------------------------------------------\u001b[0m",
      "\u001b[1;31mValueError\u001b[0m                                Traceback (most recent call last)",
      "\u001b[1;32mc:\\Users\\Travis\\OneDrive\\Data Science\\Personal_Projects\\Sports\\UFC_Prediction_V2\\V2_Newer_Notebooks\\8. Prediction.ipynb Cell 60\u001b[0m in \u001b[0;36m1\n\u001b[0;32m      <a href='vscode-notebook-cell:/c%3A/Users/Travis/OneDrive/Data%20Science/Personal_Projects/Sports/UFC_Prediction_V2/V2_Newer_Notebooks/8.%20Prediction.ipynb#Y212sZmlsZQ%3D%3D?line=5'>6</a>\u001b[0m params \u001b[39m=\u001b[39m {\u001b[39m'\u001b[39m\u001b[39mmodel__n_estimators\u001b[39m\u001b[39m'\u001b[39m : [\u001b[39m250\u001b[39m],\n\u001b[0;32m      <a href='vscode-notebook-cell:/c%3A/Users/Travis/OneDrive/Data%20Science/Personal_Projects/Sports/UFC_Prediction_V2/V2_Newer_Notebooks/8.%20Prediction.ipynb#Y212sZmlsZQ%3D%3D?line=6'>7</a>\u001b[0m           \u001b[39m'\u001b[39m\u001b[39mmodel__max_depth\u001b[39m\u001b[39m'\u001b[39m : [\u001b[39mNone\u001b[39;00m,  \u001b[39m7\u001b[39m, \u001b[39m10\u001b[39m, \u001b[39m15\u001b[39m, \u001b[39m20\u001b[39m, \u001b[39m24\u001b[39m, \u001b[39m28\u001b[39m, \u001b[39m32\u001b[39m, \u001b[39m36\u001b[39m, \u001b[39m40\u001b[39m, \u001b[39m44\u001b[39m, \u001b[39m50\u001b[39m, \u001b[39m55\u001b[39m, \u001b[39m60\u001b[39m, \u001b[39m65\u001b[39m, \u001b[39m70\u001b[39m, \u001b[39m75\u001b[39m, \u001b[39m80\u001b[39m, \u001b[39m90\u001b[39m, \u001b[39m100\u001b[39m],\n\u001b[0;32m      <a href='vscode-notebook-cell:/c%3A/Users/Travis/OneDrive/Data%20Science/Personal_Projects/Sports/UFC_Prediction_V2/V2_Newer_Notebooks/8.%20Prediction.ipynb#Y212sZmlsZQ%3D%3D?line=7'>8</a>\u001b[0m           \u001b[39m'\u001b[39m\u001b[39mmodel__max_features\u001b[39m\u001b[39m'\u001b[39m : [\u001b[39m'\u001b[39m\u001b[39mauto\u001b[39m\u001b[39m'\u001b[39m, \u001b[39m'\u001b[39m\u001b[39msqrt\u001b[39m\u001b[39m'\u001b[39m, \u001b[39m.6\u001b[39m],\n\u001b[1;32m   (...)\u001b[0m\n\u001b[0;32m     <a href='vscode-notebook-cell:/c%3A/Users/Travis/OneDrive/Data%20Science/Personal_Projects/Sports/UFC_Prediction_V2/V2_Newer_Notebooks/8.%20Prediction.ipynb#Y212sZmlsZQ%3D%3D?line=10'>11</a>\u001b[0m           \u001b[39m'\u001b[39m\u001b[39mmodel__bootstrap\u001b[39m\u001b[39m'\u001b[39m :  [\u001b[39mTrue\u001b[39;00m],\n\u001b[0;32m     <a href='vscode-notebook-cell:/c%3A/Users/Travis/OneDrive/Data%20Science/Personal_Projects/Sports/UFC_Prediction_V2/V2_Newer_Notebooks/8.%20Prediction.ipynb#Y212sZmlsZQ%3D%3D?line=11'>12</a>\u001b[0m           \u001b[39m'\u001b[39m\u001b[39mmodel__criterion\u001b[39m\u001b[39m'\u001b[39m : [\u001b[39m'\u001b[39m\u001b[39mgini\u001b[39m\u001b[39m'\u001b[39m, \u001b[39m'\u001b[39m\u001b[39mentropy\u001b[39m\u001b[39m'\u001b[39m]}\n\u001b[0;32m     <a href='vscode-notebook-cell:/c%3A/Users/Travis/OneDrive/Data%20Science/Personal_Projects/Sports/UFC_Prediction_V2/V2_Newer_Notebooks/8.%20Prediction.ipynb#Y212sZmlsZQ%3D%3D?line=13'>14</a>\u001b[0m param_grid_iter \u001b[39m=\u001b[39m \u001b[39mlist\u001b[39m(progress_bar(params))\n\u001b[1;32m---> <a href='vscode-notebook-cell:/c%3A/Users/Travis/OneDrive/Data%20Science/Personal_Projects/Sports/UFC_Prediction_V2/V2_Newer_Notebooks/8.%20Prediction.ipynb#Y212sZmlsZQ%3D%3D?line=15'>16</a>\u001b[0m grid_search \u001b[39m=\u001b[39m GridSearchCV(estimator\u001b[39m=\u001b[39;49mrf_model, param_grid\u001b[39m=\u001b[39;49mparam_grid_iter, cv\u001b[39m=\u001b[39;49m\u001b[39m4\u001b[39;49m, scoring\u001b[39m=\u001b[39;49m\u001b[39m'\u001b[39;49m\u001b[39maccuracy\u001b[39;49m\u001b[39m'\u001b[39;49m, n_jobs\u001b[39m=\u001b[39;49m\u001b[39m16\u001b[39;49m, verbose\u001b[39m=\u001b[39;49m\u001b[39m0\u001b[39;49m)\n\u001b[0;32m     <a href='vscode-notebook-cell:/c%3A/Users/Travis/OneDrive/Data%20Science/Personal_Projects/Sports/UFC_Prediction_V2/V2_Newer_Notebooks/8.%20Prediction.ipynb#Y212sZmlsZQ%3D%3D?line=17'>18</a>\u001b[0m grid_search\u001b[39m.\u001b[39mfit(X_train, y_train)\n\u001b[0;32m     <a href='vscode-notebook-cell:/c%3A/Users/Travis/OneDrive/Data%20Science/Personal_Projects/Sports/UFC_Prediction_V2/V2_Newer_Notebooks/8.%20Prediction.ipynb#Y212sZmlsZQ%3D%3D?line=19'>20</a>\u001b[0m gs_max_features_results, gs_mf_fig  \u001b[39m=\u001b[39m GridSearch_results(grid_search, param_name\u001b[39m=\u001b[39m\u001b[39m'\u001b[39m\u001b[39mmodel__max_features\u001b[39m\u001b[39m'\u001b[39m,\n\u001b[0;32m     <a href='vscode-notebook-cell:/c%3A/Users/Travis/OneDrive/Data%20Science/Personal_Projects/Sports/UFC_Prediction_V2/V2_Newer_Notebooks/8.%20Prediction.ipynb#Y212sZmlsZQ%3D%3D?line=20'>21</a>\u001b[0m                                                          num_results\u001b[39m=\u001b[39m\u001b[39m0\u001b[39m, graph\u001b[39m=\u001b[39m\u001b[39mTrue\u001b[39;00m, display_all_params\u001b[39m=\u001b[39m\u001b[39mFalse\u001b[39;00m)\n",
      "File \u001b[1;32mc:\\Users\\Travis\\anaconda3\\envs\\Trav310\\lib\\site-packages\\sklearn\\model_selection\\_search.py:1388\u001b[0m, in \u001b[0;36mGridSearchCV.__init__\u001b[1;34m(self, estimator, param_grid, scoring, n_jobs, refit, cv, verbose, pre_dispatch, error_score, return_train_score)\u001b[0m\n\u001b[0;32m   1376\u001b[0m \u001b[39msuper\u001b[39m()\u001b[39m.\u001b[39m\u001b[39m__init__\u001b[39m(\n\u001b[0;32m   1377\u001b[0m     estimator\u001b[39m=\u001b[39mestimator,\n\u001b[0;32m   1378\u001b[0m     scoring\u001b[39m=\u001b[39mscoring,\n\u001b[1;32m   (...)\u001b[0m\n\u001b[0;32m   1385\u001b[0m     return_train_score\u001b[39m=\u001b[39mreturn_train_score,\n\u001b[0;32m   1386\u001b[0m )\n\u001b[0;32m   1387\u001b[0m \u001b[39mself\u001b[39m\u001b[39m.\u001b[39mparam_grid \u001b[39m=\u001b[39m param_grid\n\u001b[1;32m-> 1388\u001b[0m _check_param_grid(param_grid)\n",
      "File \u001b[1;32mc:\\Users\\Travis\\anaconda3\\envs\\Trav310\\lib\\site-packages\\sklearn\\model_selection\\_search.py:334\u001b[0m, in \u001b[0;36m_check_param_grid\u001b[1;34m(param_grid)\u001b[0m\n\u001b[0;32m    331\u001b[0m     \u001b[39mraise\u001b[39;00m \u001b[39mValueError\u001b[39;00m(\u001b[39m\"\u001b[39m\u001b[39mParameter array should be one-dimensional.\u001b[39m\u001b[39m\"\u001b[39m)\n\u001b[0;32m    333\u001b[0m \u001b[39mif\u001b[39;00m \u001b[39misinstance\u001b[39m(v, \u001b[39mstr\u001b[39m) \u001b[39mor\u001b[39;00m \u001b[39mnot\u001b[39;00m \u001b[39misinstance\u001b[39m(v, (np\u001b[39m.\u001b[39mndarray, Sequence)):\n\u001b[1;32m--> 334\u001b[0m     \u001b[39mraise\u001b[39;00m \u001b[39mValueError\u001b[39;00m(\n\u001b[0;32m    335\u001b[0m         \u001b[39m\"\u001b[39m\u001b[39mParameter grid for parameter (\u001b[39m\u001b[39m{0}\u001b[39;00m\u001b[39m) needs to\u001b[39m\u001b[39m\"\u001b[39m\n\u001b[0;32m    336\u001b[0m         \u001b[39m\"\u001b[39m\u001b[39m be a list or numpy array, but got (\u001b[39m\u001b[39m{1}\u001b[39;00m\u001b[39m).\u001b[39m\u001b[39m\"\u001b[39m\n\u001b[0;32m    337\u001b[0m         \u001b[39m\"\u001b[39m\u001b[39m Single values need to be wrapped in a list\u001b[39m\u001b[39m\"\u001b[39m\n\u001b[0;32m    338\u001b[0m         \u001b[39m\"\u001b[39m\u001b[39m with one element.\u001b[39m\u001b[39m\"\u001b[39m\u001b[39m.\u001b[39mformat(name, \u001b[39mtype\u001b[39m(v))\n\u001b[0;32m    339\u001b[0m     )\n\u001b[0;32m    341\u001b[0m \u001b[39mif\u001b[39;00m \u001b[39mlen\u001b[39m(v) \u001b[39m==\u001b[39m \u001b[39m0\u001b[39m:\n\u001b[0;32m    342\u001b[0m     \u001b[39mraise\u001b[39;00m \u001b[39mValueError\u001b[39;00m(\n\u001b[0;32m    343\u001b[0m         \u001b[39m\"\u001b[39m\u001b[39mParameter values for parameter (\u001b[39m\u001b[39m{0}\u001b[39;00m\u001b[39m) need \u001b[39m\u001b[39m\"\u001b[39m\n\u001b[0;32m    344\u001b[0m         \u001b[39m\"\u001b[39m\u001b[39mto be a non-empty sequence.\u001b[39m\u001b[39m\"\u001b[39m\u001b[39m.\u001b[39mformat(name)\n\u001b[0;32m    345\u001b[0m     )\n",
      "\u001b[1;31mValueError\u001b[0m: Parameter grid for parameter (model__n_estimators) needs to be a list or numpy array, but got (<class 'int'>). Single values need to be wrapped in a list with one element."
     ]
    }
   ],
   "source": [
    "def progress_bar(param_grid):\n",
    "    keys, values = zip(*param_grid.items())\n",
    "    for v in tqdm(product(*values), desc='Grid Search Progress'):\n",
    "        yield dict(zip(keys, v))\n",
    "\n",
    "params = {'model__n_estimators' : [250],\n",
    "          'model__max_depth' : [None,  7, 10, 15, 20, 24, 28, 32, 36, 40, 44, 50, 55, 60, 65, 70, 75, 80, 90, 100],\n",
    "          'model__max_features' : ['auto', 'sqrt', .6],\n",
    "          'model__min_samples_leaf' : [1, 2, 3, 4, 5],\n",
    "          'model__min_samples_split' : [2, 3, 4, 5],\n",
    "          'model__bootstrap' :  [True],\n",
    "          'model__criterion' : ['gini', 'entropy']}\n",
    "\n",
    "param_grid_iter = list(progress_bar(params))\n",
    "\n",
    "grid_search = GridSearchCV(estimator=rf_model, param_grid=param_grid_iter, cv=4, scoring='accuracy', n_jobs=16, verbose=0)\n",
    "\n",
    "grid_search.fit(X_train, y_train)\n",
    "\n",
    "gs_max_features_results, gs_mf_fig  = GridSearch_results(grid_search, param_name='model__max_features',\n",
    "                                                         num_results=0, graph=True, display_all_params=False)\n",
    "\n",
    "gs_max_depth_results, gs_md_fig = GridSearch_results(grid_search, param_name='model__max_depth',\n",
    "                                                     num_results=0, graph=True, display_all_params=False)\n",
    "\n",
    "play_jobs_done()\n",
    "\n",
    "results_df = pd.DataFrame(grid_search.cv_results_)\n",
    "results_df.sort_values(by='rank_test_score').head(5)"
   ]
  },
  {
   "cell_type": "code",
   "execution_count": null,
   "metadata": {},
   "outputs": [
    {
     "name": "stdout",
     "output_type": "stream",
     "text": [
      "Fitting 4 folds for each of 21 candidates, totalling 84 fits\n",
      "Best max_depth: 77\n",
      "Fitting 4 folds for each of 10 candidates, totalling 40 fits\n"
     ]
    }
   ],
   "source": [
    "def random_forest_gridsearch(model, X, y):\n",
    "\n",
    "    # Define the grid of hyperparameters\n",
    "    param_grids = [\n",
    "        {'max_depth': [None] + list(range(2, 101, 5)),\n",
    "         'max_features': ['auto', 'sqrt'] + [x / 10 for x in range(4, 11)],\n",
    "         'n_estimators': [250],\n",
    "         'criterion': ['gini', 'entropy'],\n",
    "         'min_samples_split': list(range(2, 6)),\n",
    "         'min_samples_leaf': list(range(1, 6)),\n",
    "         'max_leaf_nodes': [None] + list(range(2, 5)),\n",
    "         'min_impurity_decrease': [x / 10 for x in range(3)],\n",
    "         'ccp_alpha': [x / 25 for x in range(3)]}\n",
    "    ]\n",
    "\n",
    "    best_params = {}\n",
    "     \n",
    "\n",
    "    # Perform a sequential grid search, updating the best parameters found for each hyperparameter\n",
    "    for param_name, param_values in param_grids[0].items():\n",
    "        # Use the list of values for the current hyperparameter\n",
    "        current_grid = {param_name: param_values}\n",
    "        # Update the best parameters found so far\n",
    "        for k, v in best_params.items():\n",
    "            if k != param_name:\n",
    "                current_grid[k] = [v]  # Wrap individual values in a list\n",
    "        current_grid = {'model__' + k: v for k, v in current_grid.items()}\n",
    "\n",
    "        # Use GridSearchCV with the current hyperparameter grid\n",
    "        gridsearch = GridSearchCV(model, current_grid, cv=4, scoring='accuracy', n_jobs=16, verbose=2)\n",
    "        gridsearch.fit(X_train, y_train)\n",
    "        best_estimator = gridsearch.best_estimator_\n",
    "        best_param_value = gridsearch.best_params_['model__' + param_name]\n",
    "\n",
    "        # Update the best parameters dictionary with the best value found for the current hyperparameter\n",
    "        best_params[param_name] = best_param_value\n",
    "        print(f'Best {param_name}: {best_param_value}')\n",
    "\n",
    "    # Run gridsearched_model() on the best_estimator object to save the best model\n",
    "\n",
    "\n",
    "    return best_estimator, best_params\n",
    "\n",
    "# run the gridsearch\n",
    "best_estimator, best_params = random_forest_gridsearch(rf_model, X_train, y_train)"
   ]
  },
  {
   "cell_type": "code",
   "execution_count": null,
   "metadata": {},
   "outputs": [],
   "source": [
    "final_gridsearched_model = gridsearched_model(best_estimator, 'Random_Forest_Gridsearched')"
   ]
  },
  {
   "cell_type": "code",
   "execution_count": null,
   "metadata": {},
   "outputs": [
    {
     "data": {
      "text/html": [
       "<div>\n",
       "<style scoped>\n",
       "    .dataframe tbody tr th:only-of-type {\n",
       "        vertical-align: middle;\n",
       "    }\n",
       "\n",
       "    .dataframe tbody tr th {\n",
       "        vertical-align: top;\n",
       "    }\n",
       "\n",
       "    .dataframe thead th {\n",
       "        text-align: right;\n",
       "    }\n",
       "</style>\n",
       "<table border=\"1\" class=\"dataframe\">\n",
       "  <thead>\n",
       "    <tr style=\"text-align: right;\">\n",
       "      <th></th>\n",
       "      <th>Model</th>\n",
       "      <th>Cv_Mean_Accuracy</th>\n",
       "      <th>Cv_Std</th>\n",
       "    </tr>\n",
       "  </thead>\n",
       "  <tbody>\n",
       "    <tr>\n",
       "      <th>0</th>\n",
       "      <td>Random_Forest_1000</td>\n",
       "      <td>0.724</td>\n",
       "      <td>0.003</td>\n",
       "    </tr>\n",
       "    <tr>\n",
       "      <th>0</th>\n",
       "      <td>Random_Forest_Gridsearched</td>\n",
       "      <td>0.723</td>\n",
       "      <td>0.008</td>\n",
       "    </tr>\n",
       "    <tr>\n",
       "      <th>0</th>\n",
       "      <td>Random_Forest_Gridsearched</td>\n",
       "      <td>0.722</td>\n",
       "      <td>0.001</td>\n",
       "    </tr>\n",
       "    <tr>\n",
       "      <th>0</th>\n",
       "      <td>Random_Forest_Gridsearched_n_estimators</td>\n",
       "      <td>0.722</td>\n",
       "      <td>0.005</td>\n",
       "    </tr>\n",
       "    <tr>\n",
       "      <th>0</th>\n",
       "      <td>Random_Forest_Gridsearched</td>\n",
       "      <td>0.720</td>\n",
       "      <td>0.002</td>\n",
       "    </tr>\n",
       "    <tr>\n",
       "      <th>0</th>\n",
       "      <td>Random_Forest_500</td>\n",
       "      <td>0.720</td>\n",
       "      <td>0.003</td>\n",
       "    </tr>\n",
       "    <tr>\n",
       "      <th>0</th>\n",
       "      <td>Random_Forest</td>\n",
       "      <td>0.716</td>\n",
       "      <td>0.014</td>\n",
       "    </tr>\n",
       "    <tr>\n",
       "      <th>0</th>\n",
       "      <td>XGBoost</td>\n",
       "      <td>0.712</td>\n",
       "      <td>0.003</td>\n",
       "    </tr>\n",
       "    <tr>\n",
       "      <th>0</th>\n",
       "      <td>Extra_Trees</td>\n",
       "      <td>0.708</td>\n",
       "      <td>0.012</td>\n",
       "    </tr>\n",
       "    <tr>\n",
       "      <th>0</th>\n",
       "      <td>Logistic_Regression</td>\n",
       "      <td>0.690</td>\n",
       "      <td>0.001</td>\n",
       "    </tr>\n",
       "    <tr>\n",
       "      <th>0</th>\n",
       "      <td>Bagged_Trees</td>\n",
       "      <td>0.676</td>\n",
       "      <td>0.009</td>\n",
       "    </tr>\n",
       "    <tr>\n",
       "      <th>0</th>\n",
       "      <td>K_Neighbors</td>\n",
       "      <td>0.624</td>\n",
       "      <td>0.012</td>\n",
       "    </tr>\n",
       "    <tr>\n",
       "      <th>0</th>\n",
       "      <td>Decision_Tree</td>\n",
       "      <td>0.607</td>\n",
       "      <td>0.006</td>\n",
       "    </tr>\n",
       "  </tbody>\n",
       "</table>\n",
       "</div>"
      ],
      "text/plain": [
       "                                     Model  Cv_Mean_Accuracy  Cv_Std\n",
       "0                       Random_Forest_1000             0.724   0.003\n",
       "0               Random_Forest_Gridsearched             0.723   0.008\n",
       "0               Random_Forest_Gridsearched             0.722   0.001\n",
       "0  Random_Forest_Gridsearched_n_estimators             0.722   0.005\n",
       "0               Random_Forest_Gridsearched             0.720   0.002\n",
       "0                        Random_Forest_500             0.720   0.003\n",
       "0                            Random_Forest             0.716   0.014\n",
       "0                                  XGBoost             0.712   0.003\n",
       "0                              Extra_Trees             0.708   0.012\n",
       "0                      Logistic_Regression             0.690   0.001\n",
       "0                             Bagged_Trees             0.676   0.009\n",
       "0                              K_Neighbors             0.624   0.012\n",
       "0                            Decision_Tree             0.607   0.006"
      ]
     },
     "execution_count": 47,
     "metadata": {},
     "output_type": "execute_result"
    }
   ],
   "source": [
    "final_gridsearched_model"
   ]
  },
  {
   "attachments": {},
   "cell_type": "markdown",
   "metadata": {},
   "source": [
    "Original Code"
   ]
  },
  {
   "attachments": {},
   "cell_type": "markdown",
   "metadata": {},
   "source": [
    "Updated Random Forest Gridsearch #1"
   ]
  },
  {
   "cell_type": "code",
   "execution_count": null,
   "metadata": {},
   "outputs": [],
   "source": [
    "def random_forest_gridsearch(model, X, y):\n",
    "\n",
    "    # Split the dataset into training and testing sets\n",
    "    X_train, X_test, y_train, y_test = train_test_split(X, y, test_size=0.2, random_state=42)\n",
    "\n",
    "    # Define the grid of hyperparameters\n",
    "    param_grids = [\n",
    "        {'n_estimators': [100, 500],\n",
    "         'max_depth': [None] + list(range(2, 101, 5)),\n",
    "         'max_features': ['auto', 'sqrt', 'log2'] + [x / 10 for x in range(4, 11)],\n",
    "         'criterion': ['gini', 'entropy'],\n",
    "         'min_samples_split': list(range(2, 8)),\n",
    "         'min_samples_leaf': list(range(1, 8)),\n",
    "         'bootstrap': [True],\n",
    "         'max_leaf_nodes': [None] + list(range(2, 6)),\n",
    "         'min_impurity_decrease': [x / 10 for x in range(4)],\n",
    "         'ccp_alpha': [x / 10 for x in range(6)]}\n",
    "    ]\n",
    "\n",
    "    best_params = {}\n",
    "\n",
    "    # Perform a sequential grid search, updating the best parameters found for each hyperparameter\n",
    "    for param_name, param_values in param_grids[0].items():\n",
    "        # Use the list of values for the current hyperparameter\n",
    "        current_grid = {param_name: param_values}\n",
    "        # Update the best parameters found so far\n",
    "        for k, v in best_params.items():\n",
    "            if k != param_name:\n",
    "                current_grid[k] = [v]  # Wrap individual values in a list\n",
    "        current_grid = {'model__' + k: v for k, v in current_grid.items()}\n",
    "\n",
    "        # Use GridSearchCV with the current hyperparameter grid\n",
    "        gridsearch = GridSearchCV(model, current_grid, cv=4, scoring='accuracy', n_jobs=-1, verbose=2)\n",
    "        gridsearch.fit(X_train, y_train)\n",
    "        best_estimator = gridsearch.best_estimator_\n",
    "        best_param_value = gridsearch.best_params_['model__' + param_name]\n",
    "\n",
    "        # Update the best parameters dictionary with the best value found for the current hyperparameter\n",
    "        best_params[param_name] = best_param_value\n",
    "        print(f'Best {param_name}: {best_param_value}')\n",
    "\n",
    "    # Run gridsearched_model() on the best_estimator object to save the best model\n",
    "\n",
    "    final_gridsearched_model = gridsearched_model(best_estimator, 'Random_Forest_Gridsearched')\n",
    "    print(final_gridsearched_model)\n",
    "\n",
    "    return best_estimator, best_params"
   ]
  },
  {
   "cell_type": "code",
   "execution_count": null,
   "metadata": {},
   "outputs": [],
   "source": [
    "# run the gridsearch\n",
    "best_estimator, best_params = random_forest_gridsearch(rf_model, X_train, y_train)"
   ]
  },
  {
   "cell_type": "code",
   "execution_count": null,
   "metadata": {},
   "outputs": [
    {
     "ename": "NameError",
     "evalue": "name 'best_estimator' is not defined",
     "output_type": "error",
     "traceback": [
      "\u001b[1;31m---------------------------------------------------------------------------\u001b[0m",
      "\u001b[1;31mNameError\u001b[0m                                 Traceback (most recent call last)",
      "\u001b[1;32mc:\\Users\\Travis\\OneDrive\\Data Science\\Personal_Projects\\Sports\\UFC_Prediction_V2\\V2_Newer_Notebooks\\8. Prediction.ipynb Cell 55\u001b[0m in \u001b[0;36m1\n\u001b[1;32m----> <a href='vscode-notebook-cell:/c%3A/Users/Travis/OneDrive/Data%20Science/Personal_Projects/Sports/UFC_Prediction_V2/V2_Newer_Notebooks/8.%20Prediction.ipynb#Y101sZmlsZQ%3D%3D?line=0'>1</a>\u001b[0m best_estimator\n",
      "\u001b[1;31mNameError\u001b[0m: name 'best_estimator' is not defined"
     ]
    }
   ],
   "source": [
    "best_estimator"
   ]
  },
  {
   "cell_type": "code",
   "execution_count": null,
   "metadata": {},
   "outputs": [
    {
     "data": {
      "text/plain": [
       "{'n_estimators': 500,\n",
       " 'max_depth': 82,\n",
       " 'max_features': 'sqrt',\n",
       " 'criterion': 'gini',\n",
       " 'min_samples_split': 5,\n",
       " 'min_samples_leaf': 7,\n",
       " 'bootstrap': True,\n",
       " 'max_leaf_nodes': None,\n",
       " 'min_impurity_decrease': 0.0,\n",
       " 'ccp_alpha': 0.0}"
      ]
     },
     "execution_count": 42,
     "metadata": {},
     "output_type": "execute_result"
    }
   ],
   "source": [
    "best_params"
   ]
  },
  {
   "cell_type": "code",
   "execution_count": null,
   "metadata": {},
   "outputs": [
    {
     "name": "stdout",
     "output_type": "stream",
     "text": [
      "Accuracy: 0.725376031052887\n"
     ]
    }
   ],
   "source": [
    "# test the best model on the test set\n",
    "y_pred = best_estimator.predict(X_test)\n",
    "print(f'Accuracy: {accuracy_score(y_test, y_pred)}')"
   ]
  },
  {
   "cell_type": "code",
   "execution_count": null,
   "metadata": {},
   "outputs": [
    {
     "ename": "NameError",
     "evalue": "name 'best_estimator' is not defined",
     "output_type": "error",
     "traceback": [
      "\u001b[1;31m---------------------------------------------------------------------------\u001b[0m",
      "\u001b[1;31mNameError\u001b[0m                                 Traceback (most recent call last)",
      "\u001b[1;32mc:\\Users\\Travis\\OneDrive\\Data Science\\Personal_Projects\\Sports\\UFC_Prediction_V2\\V2_Newer_Notebooks\\8. Prediction.ipynb Cell 58\u001b[0m in \u001b[0;36m1\n\u001b[1;32m----> <a href='vscode-notebook-cell:/c%3A/Users/Travis/OneDrive/Data%20Science/Personal_Projects/Sports/UFC_Prediction_V2/V2_Newer_Notebooks/8.%20Prediction.ipynb#Y200sZmlsZQ%3D%3D?line=0'>1</a>\u001b[0m final_gridsearched_model \u001b[39m=\u001b[39m gridsearched_model(best_estimator, \u001b[39m'\u001b[39m\u001b[39mRandom_Forest_Gridsearched\u001b[39m\u001b[39m'\u001b[39m)\n",
      "\u001b[1;31mNameError\u001b[0m: name 'best_estimator' is not defined"
     ]
    }
   ],
   "source": [
    "final_gridsearched_model = gridsearched_model(best_estimator, 'Random_Forest_Gridsearched')"
   ]
  },
  {
   "cell_type": "code",
   "execution_count": null,
   "metadata": {},
   "outputs": [],
   "source": [
    "\n",
    "\n",
    "def random_forest_gridsearch(model, X, y):\n",
    "    \"\"\"\n",
    "    Performs a grid search on a Random Forest classifier using the provided hyperparameters.\n",
    "\n",
    "    Args:\n",
    "        model (RandomForestClassifier): The Random Forest model used for the grid search\n",
    "        X (pandas.DataFrame): The features dataset\n",
    "        y (pandas.DataFrame): The target variable dataset\n",
    "\n",
    "    Returns:\n",
    "        best_estimator (RandomForestClassifier): The best Random Forest classifier object\n",
    "        best_params (dict): A dictionary of the best hyperparameters found for the Random Forest classifier\n",
    "    \"\"\"\n",
    "\n",
    "    # Split the dataset into training and testing sets\n",
    "    X_train, X_test, y_train, y_test = train_test_split(X, y, test_size=0.2, random_state=42)\n",
    "\n",
    "    # Define the grid of hyperparameters\n",
    "    param_grids = [\n",
    "        {\n",
    "            'n_estimators': [100, 500],\n",
    "            'max_depth': [None] + list(range(2, 101, 5)),\n",
    "            'max_features': ['auto', 'sqrt', 'log2'] + [x / 10 for x in range(4, 11)],\n",
    "            'criterion': ['gini', 'entropy'],\n",
    "            'min_samples_split': list(range(2, 8)),\n",
    "            'min_samples_leaf': list(range(1, 8)),\n",
    "            'bootstrap': [True],\n",
    "            'max_leaf_nodes': [None] + list(range(2, 6)),\n",
    "            'min_impurity_decrease': [x / 10 for x in range(4)],\n",
    "            'ccp_alpha': [x / 10 for x in range(6)],\n",
    "        }\n",
    "    ]\n",
    "\n",
    "    best_params = {}\n",
    "\n",
    "    # Perform a sequential grid search, updating the best parameters found for each hyperparameter\n",
    "    for param_name, param_values in param_grids[0].items():\n",
    "        # Use the list of values for the current hyperparameter\n",
    "        current_grid = {param_name: param_values}\n",
    "        # Update the best parameters found so far\n",
    "        for k, v in best_params.items():\n",
    "            if k != param_name:\n",
    "                current_grid[k] = [v]  # Wrap individual values in a list\n",
    "        current_grid = {'model__' + k: v for k, v in current_grid.items()}\n",
    "\n",
    "        # Use GridSearchCV with the current hyperparameter grid\n",
    "        gridsearch = GridSearchCV(\n",
    "            model,\n",
    "            current_grid,\n",
    "            cv=4, \n",
    "            scoring='accuracy',\n",
    "            n_jobs=-1,\n",
    "            verbose=2\n",
    "        )\n",
    "        gridsearch.fit(X_train, y_train)\n",
    "        best_estimator = gridsearch.best_estimator_\n",
    "        best_param_value = gridsearch.best_params_['model__' + param_name]\n",
    "\n",
    "        # Update the best parameters dictionary with the best value found for the current hyperparameter\n",
    "        best_params[param_name] = best_param_value\n",
    "        print(f'Best {param_name}: {best_param_value}')\n",
    "\n",
    "    # Run gridsearched_model() on the best_estimator object to save the best model\n",
    "    final_gridsearched_model = gridsearched_model(best_estimator, 'Random_Forest_Gridsearched')\n",
    "    print(final_gridsearched_model)\n",
    "\n",
    "    return best_estimator, best_params\n"
   ]
  },
  {
   "cell_type": "code",
   "execution_count": null,
   "metadata": {},
   "outputs": [
    {
     "name": "stdout",
     "output_type": "stream",
     "text": [
      "Fitting 4 folds for each of 3 candidates, totalling 12 fits\n",
      "Best n_estimators: 1000\n",
      "Fitting 4 folds for each of 21 candidates, totalling 84 fits\n"
     ]
    },
    {
     "ename": "TerminatedWorkerError",
     "evalue": "A worker process managed by the executor was unexpectedly terminated. This could be caused by a segmentation fault while calling the function or by an excessive memory usage causing the Operating System to kill the worker.\n",
     "output_type": "error",
     "traceback": [
      "\u001b[1;31m---------------------------------------------------------------------------\u001b[0m",
      "\u001b[1;31mTerminatedWorkerError\u001b[0m                     Traceback (most recent call last)",
      "\u001b[1;32mc:\\Users\\Travis\\OneDrive\\Data Science\\Personal_Projects\\Sports\\UFC_Prediction_V2\\V2_Newer_Notebooks\\8. Prediction.ipynb Cell 55\u001b[0m in \u001b[0;36m2\n\u001b[0;32m      <a href='vscode-notebook-cell:/c%3A/Users/Travis/OneDrive/Data%20Science/Personal_Projects/Sports/UFC_Prediction_V2/V2_Newer_Notebooks/8.%20Prediction.ipynb#Y105sZmlsZQ%3D%3D?line=0'>1</a>\u001b[0m \u001b[39m# run the function\u001b[39;00m\n\u001b[1;32m----> <a href='vscode-notebook-cell:/c%3A/Users/Travis/OneDrive/Data%20Science/Personal_Projects/Sports/UFC_Prediction_V2/V2_Newer_Notebooks/8.%20Prediction.ipynb#Y105sZmlsZQ%3D%3D?line=1'>2</a>\u001b[0m best_estimator, best_params \u001b[39m=\u001b[39m random_forest_gridsearch(rf_model, X_train, y_train)\n",
      "\u001b[1;32mc:\\Users\\Travis\\OneDrive\\Data Science\\Personal_Projects\\Sports\\UFC_Prediction_V2\\V2_Newer_Notebooks\\8. Prediction.ipynb Cell 55\u001b[0m in \u001b[0;36m4\n\u001b[0;32m     <a href='vscode-notebook-cell:/c%3A/Users/Travis/OneDrive/Data%20Science/Personal_Projects/Sports/UFC_Prediction_V2/V2_Newer_Notebooks/8.%20Prediction.ipynb#Y105sZmlsZQ%3D%3D?line=43'>44</a>\u001b[0m \u001b[39m# Use GridSearchCV with the current hyperparameter grid\u001b[39;00m\n\u001b[0;32m     <a href='vscode-notebook-cell:/c%3A/Users/Travis/OneDrive/Data%20Science/Personal_Projects/Sports/UFC_Prediction_V2/V2_Newer_Notebooks/8.%20Prediction.ipynb#Y105sZmlsZQ%3D%3D?line=44'>45</a>\u001b[0m gridsearch \u001b[39m=\u001b[39m GridSearchCV(model, current_grid, cv\u001b[39m=\u001b[39m\u001b[39m4\u001b[39m, scoring\u001b[39m=\u001b[39m\u001b[39m'\u001b[39m\u001b[39maccuracy\u001b[39m\u001b[39m'\u001b[39m, n_jobs\u001b[39m=\u001b[39m\u001b[39m-\u001b[39m\u001b[39m1\u001b[39m, verbose\u001b[39m=\u001b[39m\u001b[39m10\u001b[39m)\n\u001b[1;32m---> <a href='vscode-notebook-cell:/c%3A/Users/Travis/OneDrive/Data%20Science/Personal_Projects/Sports/UFC_Prediction_V2/V2_Newer_Notebooks/8.%20Prediction.ipynb#Y105sZmlsZQ%3D%3D?line=45'>46</a>\u001b[0m gridsearch\u001b[39m.\u001b[39;49mfit(X_train, y_train)\n\u001b[0;32m     <a href='vscode-notebook-cell:/c%3A/Users/Travis/OneDrive/Data%20Science/Personal_Projects/Sports/UFC_Prediction_V2/V2_Newer_Notebooks/8.%20Prediction.ipynb#Y105sZmlsZQ%3D%3D?line=46'>47</a>\u001b[0m best_estimator \u001b[39m=\u001b[39m gridsearch\u001b[39m.\u001b[39mbest_estimator_\n\u001b[0;32m     <a href='vscode-notebook-cell:/c%3A/Users/Travis/OneDrive/Data%20Science/Personal_Projects/Sports/UFC_Prediction_V2/V2_Newer_Notebooks/8.%20Prediction.ipynb#Y105sZmlsZQ%3D%3D?line=47'>48</a>\u001b[0m best_param_value \u001b[39m=\u001b[39m gridsearch\u001b[39m.\u001b[39mbest_params_[\u001b[39m'\u001b[39m\u001b[39mmodel__\u001b[39m\u001b[39m'\u001b[39m \u001b[39m+\u001b[39m param_name]\n",
      "File \u001b[1;32mc:\\Users\\Travis\\anaconda3\\envs\\Trav310\\lib\\site-packages\\sklearn\\model_selection\\_search.py:891\u001b[0m, in \u001b[0;36mBaseSearchCV.fit\u001b[1;34m(self, X, y, groups, **fit_params)\u001b[0m\n\u001b[0;32m    885\u001b[0m     results \u001b[39m=\u001b[39m \u001b[39mself\u001b[39m\u001b[39m.\u001b[39m_format_results(\n\u001b[0;32m    886\u001b[0m         all_candidate_params, n_splits, all_out, all_more_results\n\u001b[0;32m    887\u001b[0m     )\n\u001b[0;32m    889\u001b[0m     \u001b[39mreturn\u001b[39;00m results\n\u001b[1;32m--> 891\u001b[0m \u001b[39mself\u001b[39;49m\u001b[39m.\u001b[39;49m_run_search(evaluate_candidates)\n\u001b[0;32m    893\u001b[0m \u001b[39m# multimetric is determined here because in the case of a callable\u001b[39;00m\n\u001b[0;32m    894\u001b[0m \u001b[39m# self.scoring the return type is only known after calling\u001b[39;00m\n\u001b[0;32m    895\u001b[0m first_test_score \u001b[39m=\u001b[39m all_out[\u001b[39m0\u001b[39m][\u001b[39m\"\u001b[39m\u001b[39mtest_scores\u001b[39m\u001b[39m\"\u001b[39m]\n",
      "File \u001b[1;32mc:\\Users\\Travis\\anaconda3\\envs\\Trav310\\lib\\site-packages\\sklearn\\model_selection\\_search.py:1392\u001b[0m, in \u001b[0;36mGridSearchCV._run_search\u001b[1;34m(self, evaluate_candidates)\u001b[0m\n\u001b[0;32m   1390\u001b[0m \u001b[39mdef\u001b[39;00m \u001b[39m_run_search\u001b[39m(\u001b[39mself\u001b[39m, evaluate_candidates):\n\u001b[0;32m   1391\u001b[0m     \u001b[39m\"\"\"Search all candidates in param_grid\"\"\"\u001b[39;00m\n\u001b[1;32m-> 1392\u001b[0m     evaluate_candidates(ParameterGrid(\u001b[39mself\u001b[39;49m\u001b[39m.\u001b[39;49mparam_grid))\n",
      "File \u001b[1;32mc:\\Users\\Travis\\anaconda3\\envs\\Trav310\\lib\\site-packages\\sklearn\\model_selection\\_search.py:838\u001b[0m, in \u001b[0;36mBaseSearchCV.fit.<locals>.evaluate_candidates\u001b[1;34m(candidate_params, cv, more_results)\u001b[0m\n\u001b[0;32m    830\u001b[0m \u001b[39mif\u001b[39;00m \u001b[39mself\u001b[39m\u001b[39m.\u001b[39mverbose \u001b[39m>\u001b[39m \u001b[39m0\u001b[39m:\n\u001b[0;32m    831\u001b[0m     \u001b[39mprint\u001b[39m(\n\u001b[0;32m    832\u001b[0m         \u001b[39m\"\u001b[39m\u001b[39mFitting \u001b[39m\u001b[39m{0}\u001b[39;00m\u001b[39m folds for each of \u001b[39m\u001b[39m{1}\u001b[39;00m\u001b[39m candidates,\u001b[39m\u001b[39m\"\u001b[39m\n\u001b[0;32m    833\u001b[0m         \u001b[39m\"\u001b[39m\u001b[39m totalling \u001b[39m\u001b[39m{2}\u001b[39;00m\u001b[39m fits\u001b[39m\u001b[39m\"\u001b[39m\u001b[39m.\u001b[39mformat(\n\u001b[0;32m    834\u001b[0m             n_splits, n_candidates, n_candidates \u001b[39m*\u001b[39m n_splits\n\u001b[0;32m    835\u001b[0m         )\n\u001b[0;32m    836\u001b[0m     )\n\u001b[1;32m--> 838\u001b[0m out \u001b[39m=\u001b[39m parallel(\n\u001b[0;32m    839\u001b[0m     delayed(_fit_and_score)(\n\u001b[0;32m    840\u001b[0m         clone(base_estimator),\n\u001b[0;32m    841\u001b[0m         X,\n\u001b[0;32m    842\u001b[0m         y,\n\u001b[0;32m    843\u001b[0m         train\u001b[39m=\u001b[39;49mtrain,\n\u001b[0;32m    844\u001b[0m         test\u001b[39m=\u001b[39;49mtest,\n\u001b[0;32m    845\u001b[0m         parameters\u001b[39m=\u001b[39;49mparameters,\n\u001b[0;32m    846\u001b[0m         split_progress\u001b[39m=\u001b[39;49m(split_idx, n_splits),\n\u001b[0;32m    847\u001b[0m         candidate_progress\u001b[39m=\u001b[39;49m(cand_idx, n_candidates),\n\u001b[0;32m    848\u001b[0m         \u001b[39m*\u001b[39;49m\u001b[39m*\u001b[39;49mfit_and_score_kwargs,\n\u001b[0;32m    849\u001b[0m     )\n\u001b[0;32m    850\u001b[0m     \u001b[39mfor\u001b[39;49;00m (cand_idx, parameters), (split_idx, (train, test)) \u001b[39min\u001b[39;49;00m product(\n\u001b[0;32m    851\u001b[0m         \u001b[39menumerate\u001b[39;49m(candidate_params), \u001b[39menumerate\u001b[39;49m(cv\u001b[39m.\u001b[39;49msplit(X, y, groups))\n\u001b[0;32m    852\u001b[0m     )\n\u001b[0;32m    853\u001b[0m )\n\u001b[0;32m    855\u001b[0m \u001b[39mif\u001b[39;00m \u001b[39mlen\u001b[39m(out) \u001b[39m<\u001b[39m \u001b[39m1\u001b[39m:\n\u001b[0;32m    856\u001b[0m     \u001b[39mraise\u001b[39;00m \u001b[39mValueError\u001b[39;00m(\n\u001b[0;32m    857\u001b[0m         \u001b[39m\"\u001b[39m\u001b[39mNo fits were performed. \u001b[39m\u001b[39m\"\u001b[39m\n\u001b[0;32m    858\u001b[0m         \u001b[39m\"\u001b[39m\u001b[39mWas the CV iterator empty? \u001b[39m\u001b[39m\"\u001b[39m\n\u001b[0;32m    859\u001b[0m         \u001b[39m\"\u001b[39m\u001b[39mWere there no candidates?\u001b[39m\u001b[39m\"\u001b[39m\n\u001b[0;32m    860\u001b[0m     )\n",
      "File \u001b[1;32mc:\\Users\\Travis\\anaconda3\\envs\\Trav310\\lib\\site-packages\\joblib\\parallel.py:1061\u001b[0m, in \u001b[0;36mParallel.__call__\u001b[1;34m(self, iterable)\u001b[0m\n\u001b[0;32m   1058\u001b[0m     \u001b[39mself\u001b[39m\u001b[39m.\u001b[39m_iterating \u001b[39m=\u001b[39m \u001b[39mFalse\u001b[39;00m\n\u001b[0;32m   1060\u001b[0m \u001b[39mwith\u001b[39;00m \u001b[39mself\u001b[39m\u001b[39m.\u001b[39m_backend\u001b[39m.\u001b[39mretrieval_context():\n\u001b[1;32m-> 1061\u001b[0m     \u001b[39mself\u001b[39;49m\u001b[39m.\u001b[39;49mretrieve()\n\u001b[0;32m   1062\u001b[0m \u001b[39m# Make sure that we get a last message telling us we are done\u001b[39;00m\n\u001b[0;32m   1063\u001b[0m elapsed_time \u001b[39m=\u001b[39m time\u001b[39m.\u001b[39mtime() \u001b[39m-\u001b[39m \u001b[39mself\u001b[39m\u001b[39m.\u001b[39m_start_time\n",
      "File \u001b[1;32mc:\\Users\\Travis\\anaconda3\\envs\\Trav310\\lib\\site-packages\\joblib\\parallel.py:938\u001b[0m, in \u001b[0;36mParallel.retrieve\u001b[1;34m(self)\u001b[0m\n\u001b[0;32m    936\u001b[0m \u001b[39mtry\u001b[39;00m:\n\u001b[0;32m    937\u001b[0m     \u001b[39mif\u001b[39;00m \u001b[39mgetattr\u001b[39m(\u001b[39mself\u001b[39m\u001b[39m.\u001b[39m_backend, \u001b[39m'\u001b[39m\u001b[39msupports_timeout\u001b[39m\u001b[39m'\u001b[39m, \u001b[39mFalse\u001b[39;00m):\n\u001b[1;32m--> 938\u001b[0m         \u001b[39mself\u001b[39m\u001b[39m.\u001b[39m_output\u001b[39m.\u001b[39mextend(job\u001b[39m.\u001b[39;49mget(timeout\u001b[39m=\u001b[39;49m\u001b[39mself\u001b[39;49m\u001b[39m.\u001b[39;49mtimeout))\n\u001b[0;32m    939\u001b[0m     \u001b[39melse\u001b[39;00m:\n\u001b[0;32m    940\u001b[0m         \u001b[39mself\u001b[39m\u001b[39m.\u001b[39m_output\u001b[39m.\u001b[39mextend(job\u001b[39m.\u001b[39mget())\n",
      "File \u001b[1;32mc:\\Users\\Travis\\anaconda3\\envs\\Trav310\\lib\\site-packages\\joblib\\_parallel_backends.py:542\u001b[0m, in \u001b[0;36mLokyBackend.wrap_future_result\u001b[1;34m(future, timeout)\u001b[0m\n\u001b[0;32m    539\u001b[0m \u001b[39m\"\"\"Wrapper for Future.result to implement the same behaviour as\u001b[39;00m\n\u001b[0;32m    540\u001b[0m \u001b[39mAsyncResults.get from multiprocessing.\"\"\"\u001b[39;00m\n\u001b[0;32m    541\u001b[0m \u001b[39mtry\u001b[39;00m:\n\u001b[1;32m--> 542\u001b[0m     \u001b[39mreturn\u001b[39;00m future\u001b[39m.\u001b[39;49mresult(timeout\u001b[39m=\u001b[39;49mtimeout)\n\u001b[0;32m    543\u001b[0m \u001b[39mexcept\u001b[39;00m CfTimeoutError \u001b[39mas\u001b[39;00m e:\n\u001b[0;32m    544\u001b[0m     \u001b[39mraise\u001b[39;00m \u001b[39mTimeoutError\u001b[39;00m \u001b[39mfrom\u001b[39;00m \u001b[39me\u001b[39;00m\n",
      "File \u001b[1;32mc:\\Users\\Travis\\anaconda3\\envs\\Trav310\\lib\\concurrent\\futures\\_base.py:458\u001b[0m, in \u001b[0;36mFuture.result\u001b[1;34m(self, timeout)\u001b[0m\n\u001b[0;32m    456\u001b[0m     \u001b[39mraise\u001b[39;00m CancelledError()\n\u001b[0;32m    457\u001b[0m \u001b[39melif\u001b[39;00m \u001b[39mself\u001b[39m\u001b[39m.\u001b[39m_state \u001b[39m==\u001b[39m FINISHED:\n\u001b[1;32m--> 458\u001b[0m     \u001b[39mreturn\u001b[39;00m \u001b[39mself\u001b[39;49m\u001b[39m.\u001b[39;49m__get_result()\n\u001b[0;32m    459\u001b[0m \u001b[39melse\u001b[39;00m:\n\u001b[0;32m    460\u001b[0m     \u001b[39mraise\u001b[39;00m \u001b[39mTimeoutError\u001b[39;00m()\n",
      "File \u001b[1;32mc:\\Users\\Travis\\anaconda3\\envs\\Trav310\\lib\\concurrent\\futures\\_base.py:403\u001b[0m, in \u001b[0;36mFuture.__get_result\u001b[1;34m(self)\u001b[0m\n\u001b[0;32m    401\u001b[0m \u001b[39mif\u001b[39;00m \u001b[39mself\u001b[39m\u001b[39m.\u001b[39m_exception:\n\u001b[0;32m    402\u001b[0m     \u001b[39mtry\u001b[39;00m:\n\u001b[1;32m--> 403\u001b[0m         \u001b[39mraise\u001b[39;00m \u001b[39mself\u001b[39m\u001b[39m.\u001b[39m_exception\n\u001b[0;32m    404\u001b[0m     \u001b[39mfinally\u001b[39;00m:\n\u001b[0;32m    405\u001b[0m         \u001b[39m# Break a reference cycle with the exception in self._exception\u001b[39;00m\n\u001b[0;32m    406\u001b[0m         \u001b[39mself\u001b[39m \u001b[39m=\u001b[39m \u001b[39mNone\u001b[39;00m\n",
      "\u001b[1;31mTerminatedWorkerError\u001b[0m: A worker process managed by the executor was unexpectedly terminated. This could be caused by a segmentation fault while calling the function or by an excessive memory usage causing the Operating System to kill the worker.\n"
     ]
    }
   ],
   "source": [
    "# run the function\n",
    "best_estimator, best_params = random_forest_gridsearch(rf_model, X_train, y_train)"
   ]
  },
  {
   "attachments": {},
   "cell_type": "markdown",
   "metadata": {},
   "source": [
    "Randomized Search"
   ]
  },
  {
   "cell_type": "code",
   "execution_count": null,
   "metadata": {},
   "outputs": [],
   "source": [
    "# get the best model from the final_gridsearched_model\n",
    "model_summary2"
   ]
  },
  {
   "cell_type": "code",
   "execution_count": null,
   "metadata": {},
   "outputs": [],
   "source": [
    "import matplotlib.pyplot as plt\n",
    "import numpy as np\n",
    "import pickle\n",
    "from sklearn.ensemble import RandomForestClassifier\n",
    "from sklearn.model_selection import GridSearchCV, train_test_split\n",
    "import pandas as pd\n",
    "\n",
    "def plot_sensitivity_analysis(gridsearch, param_name, metric='mean_test_score'):\n",
    "    results = gridsearch.cv_results_\n",
    "    param_values = results['param_' + param_name]\n",
    "    metric_values = results[metric]\n",
    "    \n",
    "    plt.plot(param_values, metric_values, marker='o', linestyle='--')\n",
    "    plt.xlabel(param_name)\n",
    "    plt.ylabel(metric)\n",
    "    plt.title(f'Sensitivity Analysis: {param_name}')\n",
    "    plt.grid()\n",
    "    plt.show()\n",
    "\n",
    "def random_forest_gridsearch(model, X_train, y_train):\n",
    "    param_grids = [\n",
    "        {'n_estimators': [100, 250, 500, 1000],\n",
    "         'max_depth': [None] + list(range(2, 101, 5)),\n",
    "         'max_features': ['auto', 'sqrt', 'log2'] + [x / 10 for x in range(4, 11)],\n",
    "         'criterion': ['gini', 'entropy'],\n",
    "         'min_samples_split': list(range(2, 11)),\n",
    "         'min_samples_leaf': list(range(1, 11)),\n",
    "         'bootstrap': [True],\n",
    "         'max_leaf_nodes': [None] + list(range(2, 11)),\n",
    "         'min_impurity_decrease': [x / 10 for x in range(6)],\n",
    "         'ccp_alpha': [x / 10 for x in range(6)]}\n",
    "    ]\n",
    "\n",
    "    best_params = {}\n",
    "\n",
    "    for param_name, param_values in param_grids[0].items():\n",
    "        current_grid = {param_name: param_values}\n",
    "        valid_best_params = {k: [v] if v is not None and not isinstance(v, (list, np.ndarray)) else v \n",
    "                             for k, v in best_params.items() if v is not None}\n",
    "        current_grid.update(valid_best_params)\n",
    "        current_grid = {'model__' + k: v for k, v in current_grid.items()}\n",
    "        gridsearch = GridSearchCV(model, current_grid, cv=4, scoring='accuracy', n_jobs=16, verbose=10)\n",
    "        gridsearch.fit(X_train, y_train)\n",
    "        best_estimator = gridsearch.best_estimator_\n",
    "        best_param_value = gridsearch.best_params_['model__' + param_name]\n",
    "        best_params[param_name] = best_param_value\n",
    "        print(f'Best {param_name}: {best_param_value}')\n",
    "\n",
    "        # save gridsearch\n",
    "        pickle.dump(gridsearch, open(f'models/gridsearches/random_forest_gridsearch_{param_name}.pkl', 'wb'))\n",
    "\n",
    "    final_gridsearched_model = best_estimator\n",
    "    print(final_gridsearched_model)\n",
    "    return best_estimator, best_params, gridsearch\n"
   ]
  },
  {
   "cell_type": "code",
   "execution_count": null,
   "metadata": {},
   "outputs": [],
   "source": [
    "\n",
    "# Load the random forest model and your training data\n",
    "random_forest = pickle.load(open('models/random_forest.pkl', 'rb'))\n",
    "\n",
    "# Run the modified function\n",
    "best_estimator, best_params, final_gridsearch = random_forest_gridsearch(random_forest, X_train, y_train)\n",
    "\n"
   ]
  },
  {
   "cell_type": "code",
   "execution_count": null,
   "metadata": {},
   "outputs": [],
   "source": [
    "import matplotlib.pyplot as plt\n",
    "\n",
    "def plot_sensitivity_analysis(gridsearch_results, param_name, metric='mean_test_score'):\n",
    "    param_values = gridsearch_results[param_name]\n",
    "    metric_values = gridsearch_results[metric]\n",
    "    plt.plot(param_values, metric_values, marker='o', linestyle='--')\n",
    "    plt.title(f'Sensitivity Analysis: {param_name}')\n",
    "    plt.xlabel(param_name)\n",
    "    plt.ylabel(metric)\n",
    "    plt.show()\n",
    "\n",
    "# Store the grid search results for each hyperparameter in a dictionary\n",
    "gridsearch_results_dict = {}\n",
    "\n",
    "# Perform a sequential grid search, updating the best parameters found for each hyperparameter\n",
    "for param_name, param_values in param_grids[0].items():\n",
    "    current_grid = {param_name: param_values}\n",
    "    valid_best_params = {k: [v] for k, v in best_params.items()}\n",
    "    current_grid.update(valid_best_params)\n",
    "    current_grid = {'model__' + k: v for k, v in current_grid.items()}\n",
    "    gridsearch = GridSearchCV(model, current_grid, cv=4, scoring='accuracy', n_jobs=-1, verbose=10)\n",
    "    gridsearch.fit(X_train, y_train)\n",
    "    best_params[param_name] = gridsearch.best_params_['model__' + param_name]\n",
    "    \n",
    "    # Store the grid search results in the dictionary\n",
    "    gridsearch_results_dict[param_name] = {\n",
    "        'param_' + param_name: gridsearch.cv_results_['param_model__' + param_name],\n",
    "        'mean_test_score': gridsearch.cv_results_['mean_test_score']\n",
    "    }\n",
    "\n",
    "# Perform sensitivity analysis for each hyperparameter using the stored grid search results\n",
    "for param_name in gridsearch_results_dict.keys():\n",
    "    plot_sensitivity_analysis(gridsearch_results_dict[param_name], param_name='param_' + param_name, metric='mean_test_score')\n"
   ]
  },
  {
   "cell_type": "code",
   "execution_count": null,
   "metadata": {},
   "outputs": [],
   "source": [
    "import matplotlib.pyplot as plt\n",
    "from sklearn.ensemble import RandomForestClassifier\n",
    "from sklearn.model_selection import GridSearchCV, train_test_split\n",
    "import pandas as pd\n",
    "\n",
    "# Define the grid of hyperparameters\n",
    "param_grids = {\n",
    "    'n_estimators': [100, 250],\n",
    "    'max_depth': [None] + list(range(2, 10, 5)),\n",
    "    'max_features': ['auto', 'sqrt', 'log2'] + [x / 10 for x in range(4, 7)],\n",
    "    'criterion': ['gini', 'entropy'],\n",
    "    'min_samples_split': list(range(2,4)),\n",
    "    'min_samples_leaf': list(range(1, 4)),\n",
    "    'bootstrap': [True],\n",
    "}\n",
    "\n",
    "def plot_sensitivity_analysis(gridsearch_results, param_name, metric='mean_test_score'):\n",
    "    param_values = gridsearch_results[param_name]\n",
    "    metric_values = gridsearch_results[metric]\n",
    "    plt.plot(param_values, metric_values, marker='o', linestyle='--')\n",
    "    plt.title(f'Sensitivity Analysis: {param_name}')\n",
    "    plt.xlabel(param_name)\n",
    "    plt.ylabel(metric)\n",
    "    plt.show()\n",
    "\n",
    "# Store the grid search results for each hyperparameter in a dictionary\n",
    "gridsearch_results_dict = {}\n",
    "\n",
    "# Perform a sequential grid search, updating the best parameters found for each hyperparameter\n",
    "for param_name, param_values in param_grids.items():\n",
    "    current_grid = {param_name: param_values}\n",
    "    valid_best_params = {k: [v] for k, v in best_params.items()}\n",
    "    current_grid.update(valid_best_params)\n",
    "    current_grid = {'model__' + k: v for k, v in current_grid.items()}\n",
    "    gridsearch = GridSearchCV(random_forest, current_grid, cv=4, scoring='accuracy', n_jobs=16, verbose=10)\n",
    "    gridsearch.fit(X_train, y_train)\n",
    "    best_params[param_name] = gridsearch.best_params_['model__' + param_name]\n",
    "    \n",
    "    # Store the grid search results in the dictionary\n",
    "    gridsearch_results_dict[param_name] = {\n",
    "        'param_' + param_name: gridsearch.cv_results_['param_model__' + param_name],\n",
    "        'mean_test_score': gridsearch.cv_results_['mean_test_score']\n",
    "    }\n",
    "\n",
    "# Perform sensitivity analysis for each hyperparameter using the stored grid search results\n",
    "for param_name in gridsearch_results_dict.keys():\n",
    "    plot_sensitivity_analysis(gridsearch_results_dict[param_name], param_name='param_' + param_name, metric='mean_test_score')\n"
   ]
  },
  {
   "cell_type": "code",
   "execution_count": null,
   "metadata": {},
   "outputs": [],
   "source": [
    "import matplotlib.pyplot as plt\n",
    "\n",
    "def plot_sensitivity_analysis(gridsearch, param_name, metric='mean_test_score'):\n",
    "    \"\"\"\n",
    "    Plot sensitivity analysis for a specific hyperparameter from grid search results.\n",
    "\n",
    "    Parameters:\n",
    "        gridsearch: Fitted GridSearchCV object\n",
    "        param_name: The name of the hyperparameter for sensitivity analysis\n",
    "        metric: Scikit-learn scoring metric used in grid search (e.g., 'mean_test_score')\n",
    "    \"\"\"\n",
    "    # Get the grid search results as a DataFrame\n",
    "    results_df = pd.DataFrame(gridsearch.cv_results_)\n",
    "    \n",
    "    # Extract the values of the hyperparameter and the corresponding test scores\n",
    "    param_values = results_df[param_name]\n",
    "    test_scores = results_df[metric]\n",
    "    \n",
    "    # Plot the sensitivity analysis\n",
    "    plt.figure(figsize=(10, 6))\n",
    "    plt.plot(param_values, test_scores, marker='o')\n",
    "    plt.xlabel(param_name)\n",
    "    plt.ylabel(metric)\n",
    "    plt.title(f'Sensitivity Analysis: {param_name}')\n",
    "    plt.grid(True)\n",
    "    plt.show()\n",
    "\n",
    "# Example usage\n",
    "# gridsearch: Fitted GridSearchCV object returned by random_forest_gridsearch function\n",
    "# param_name: Hyperparameter name for analysis (e.g., 'model__max_depth')\n",
    "# metric: Scikit-learn scoring metric used in grid search (e.g., 'mean_test_score')\n",
    "\n",
    "# Perform sensitivity analysis for each hyperparameter in best_params\n",
    "for param_name in best_params.keys():\n",
    "    plot_sensitivity_analysis(gridsearch, param_name='model__' + param_name, metric='mean_test_score')\n"
   ]
  },
  {
   "cell_type": "markdown",
   "metadata": {},
   "source": [
    "### Model 1: XGBoost"
   ]
  },
  {
   "cell_type": "code",
   "execution_count": null,
   "metadata": {},
   "outputs": [],
   "source": [
    "xg_boost = pickle.load(open('models/XGBoost.pkl', 'rb'))\n",
    "keys = xg_boost.get_params().keys()\n",
    "model_keys = [key for key in keys if 'model' in key]\n",
    "xg_boost[1].get_params\n",
    "stopjere"
   ]
  },
  {
   "cell_type": "code",
   "execution_count": null,
   "metadata": {},
   "outputs": [],
   "source": [
    "def xgboost_gridsearch(model):\n",
    "        ##### GRID SEARCH 1 -- N ESTIMATORS #####\n",
    "        n_est_grid = {'model__n_estimators' : [50, 100, 200, 300, 500, 600,  800,  1000],\n",
    "                                'model__max_depth' : [None],\n",
    "                                'model__learning_rate' : [0.1],\n",
    "                                'model__min_child_weight' : [1],\n",
    "                                'model__gamma' : [0],\n",
    "                                'model__subsample' : [1],\n",
    "                                'model__colsample_bytree' : [1],\n",
    "                                'model__colsample_bylevel' : [1],\n",
    "                                'model__colsample_bynode' : [1],\n",
    "                                'model__reg_alpha' : [0],\n",
    "                                'model__reg_lambda' : [1],\n",
    "                                'model__scale_pos_weight' : [1],\n",
    "                                'model__base_score' : [0.5],\n",
    "                                'model__n_jobs' : [20],\n",
    "                                'model__tree_method' : ['exact']}\n",
    "\n",
    "\n",
    "        gridsearch_1 = GridSearchCV(model, n_est_grid, cv = 4, scoring = 'accuracy', n_jobs = 20, verbose = 10)\n",
    "        gridsearch_1.fit(X_train, y_train)\n",
    "        gm = gridsearched_model(gridsearch_1.best_estimator_, 'XGBoost_Gridsearched_1')\n",
    "        bp = gridsearch_1.best_params_\n",
    "        bp2 = pd.DataFrame.from_dict(bp, orient='index').reset_index()\n",
    "        n_est = bp2[bp2['index'] == 'model__n_estimators']\n",
    "        n_est = n_est[0].values[0]\n",
    "        print(f'Best n_estimators: {n_est}')\n",
    "\n",
    "        ##### GRID SEARCH 2 -- MAX DEPTH #####\n",
    "        max_depth_grid = {'model__n_estimators' : [n_est],\n",
    "                                'model__max_depth' : [3, 4, 5, 6, 7, 8, 9, 10, 11, 12, 13, 14, 15, None],\n",
    "                                'model__learning_rate' : [0.1],\n",
    "                                'model__min_child_weight' : [1],\n",
    "                                'model__gamma' : [0],\n",
    "                                'model__subsample' : [1],\n",
    "                                'model__colsample_bytree' : [1],\n",
    "                                'model__colsample_bylevel' : [1],\n",
    "                                'model__colsample_bynode' : [1],\n",
    "                                'model__reg_alpha' : [0],\n",
    "                                'model__reg_lambda' : [1],\n",
    "                                'model__scale_pos_weight' : [1],\n",
    "                                'model__base_score' : [0.5],\n",
    "                                'model__n_jobs' : [20],\n",
    "                                'model__tree_method' : ['exact']}\n",
    "\n",
    "\n",
    "        gridsearch_2 = GridSearchCV(model, max_depth_grid, cv = 4, scoring = 'accuracy', n_jobs = 20, verbose = 10)\n",
    "        gridsearch_2.fit(X_train, y_train)\n",
    "        gm = gridsearched_model(gridsearch_2.best_estimator_, 'XGBoost_Gridsearched_2')\n",
    "        bp = gridsearch_2.best_params_\n",
    "        bp2 = pd.DataFrame.from_dict(bp, orient='index').reset_index()\n",
    "        max_depth = bp2[bp2['index'] == 'model__max_depth']\n",
    "        max_depth = max_depth[0].values[0]\n",
    "        print(f'Best max_depth: {max_depth}')\n",
    "\n",
    "        ##### GRID SEARCH 3 -- LEARNING RATE #####\n",
    "        learning_rate_grid = {'model__n_estimators' : [n_est],\n",
    "                                'model__max_depth' : [max_depth],\n",
    "                                'model__learning_rate' : [0.01, 0.05, 0.1, 0.15, 0.2, 0.25, 0.3, 0.35, 0.4, 0.45, 0.5],\n",
    "                                'model__min_child_weight' : [1],\n",
    "                                'model__gamma' : [0],\n",
    "                                'model__subsample' : [1],\n",
    "                                'model__colsample_bytree' : [1],\n",
    "                                'model__colsample_bylevel' : [1],\n",
    "                                'model__colsample_bynode' : [1],\n",
    "                                'model__reg_alpha' : [0],\n",
    "                                'model__reg_lambda' : [1],\n",
    "                                'model__scale_pos_weight' : [1],\n",
    "                                'model__base_score' : [0.5],\n",
    "                                'model__n_jobs' : [20],\n",
    "                                'model__tree_method' : ['exact']}\n",
    "\n",
    "        gridsearch_3 = GridSearchCV(model, learning_rate_grid, cv = 4, scoring = 'accuracy', n_jobs = 20, verbose = 10)\n",
    "        gridsearch_3.fit(X_train, y_train)\n",
    "        gm = gridsearched_model(gridsearch_3.best_estimator_, 'XGBoost_Gridsearched_3')\n",
    "        bp = gridsearch_3.best_params_\n",
    "        bp2 = pd.DataFrame.from_dict(bp, orient='index').reset_index()\n",
    "        learning_rate = bp2[bp2['index'] == 'model__learning_rate']\n",
    "        learning_rate = learning_rate[0].values[0]\n",
    "        print(f'Best learning_rate: {learning_rate}')\n",
    "\n",
    "        ##### GRID SEARCH 4 -- MIN CHILD WEIGHT #####\n",
    "        min_child_weight_grid = {'model__n_estimators' : [n_est],\n",
    "                                'model__max_depth' : [max_depth],\n",
    "                                'model__learning_rate' : [learning_rate],\n",
    "                                'model__min_child_weight' : [1, 2, 3, 4, 5, 6, 7, 8, 9, 10],\n",
    "                                'model__gamma' : [0],\n",
    "                                'model__subsample' : [1],\n",
    "                                'model__colsample_bytree' : [1],\n",
    "                                'model__colsample_bylevel' : [1],\n",
    "                                'model__colsample_bynode' : [1],\n",
    "                                'model__reg_alpha' : [0],\n",
    "                                'model__reg_lambda' : [1],\n",
    "                                'model__scale_pos_weight' : [1],\n",
    "                                'model__base_score' : [0.5],\n",
    "                                'model__n_jobs' : [20],\n",
    "                                'model__tree_method' : ['exact']}\n",
    "\n",
    "        gridsearch_4 = GridSearchCV(model, min_child_weight_grid, cv = 4, scoring = 'accuracy', n_jobs = 20, verbose = 10)\n",
    "        gridsearch_4.fit(X_train, y_train)\n",
    "        gm = gridsearched_model(gridsearch_4.best_estimator_, 'XGBoost_Gridsearched_4')\n",
    "        bp = gridsearch_4.best_params_\n",
    "        bp2 = pd.DataFrame.from_dict(bp, orient='index').reset_index()\n",
    "        min_child_weight = bp2[bp2['index'] == 'model__min_child_weight']\n",
    "        min_child_weight = min_child_weight[0].values[0]\n",
    "        print(f'Best min_child_weight: {min_child_weight}')\n",
    "\n",
    "        ##### GRID SEARCH 5 -- GAMMA #####\n",
    "        gamma_grid = {'model__n_estimators' : [n_est],\n",
    "                                'model__max_depth' : [max_depth],\n",
    "                                'model__learning_rate' : [learning_rate],\n",
    "                                'model__min_child_weight' : [min_child_weight],\n",
    "                                'model__gamma' : [0, 0.1, 0.2, 0.3, 0.4, 0.5, 0.6, 0.7, 0.8, 0.9, 1],\n",
    "                                'model__subsample' : [1],\n",
    "                                'model__colsample_bytree' : [1],\n",
    "                                'model__colsample_bylevel' : [1],\n",
    "                                'model__colsample_bynode' : [1],\n",
    "                                'model__reg_alpha' : [0],\n",
    "                                'model__reg_lambda' : [1],\n",
    "                                'model__scale_pos_weight' : [1],\n",
    "                                'model__base_score' : [0.5],\n",
    "                                'model__n_jobs' : [20],\n",
    "                                'model__tree_method' : ['exact']}\n",
    "\n",
    "        gridsearch_5 = GridSearchCV(model, gamma_grid, cv = 4, scoring = 'accuracy', n_jobs = 20, verbose = 10)\n",
    "        gridsearch_5.fit(X_train, y_train)\n",
    "        gm = gridsearched_model(gridsearch_5.best_estimator_, 'XGBoost_Gridsearched_5')\n",
    "        bp = gridsearch_5.best_params_\n",
    "        bp2 = pd.DataFrame.from_dict(bp, orient='index').reset_index()\n",
    "        gamma = bp2[bp2['index'] == 'model__gamma']\n",
    "        gamma = gamma[0].values[0]\n",
    "        print(f'Best gamma: {gamma}')\n",
    "\n",
    "        ##### GRID SEARCH 6 -- SUBSAMPLE #####\n",
    "        subsample_grid = {'model__n_estimators' : [n_est],\n",
    "                                'model__max_depth' : [max_depth],\n",
    "                                'model__learning_rate' : [learning_rate],\n",
    "                                'model__min_child_weight' : [min_child_weight],\n",
    "                                'model__gamma' : [gamma],\n",
    "                                'model__subsample' : [0.5, 0.6, 0.7, 0.8, 0.9, 1],\n",
    "                                'model__colsample_bytree' : [1],\n",
    "                                'model__colsample_bylevel' : [1],\n",
    "                                'model__colsample_bynode' : [1],\n",
    "                                'model__reg_alpha' : [0],\n",
    "                                'model__reg_lambda' : [1],\n",
    "                                'model__scale_pos_weight' : [1],\n",
    "                                'model__base_score' : [0.5],\n",
    "                                'model__n_jobs' : [20],\n",
    "                                'model__tree_method' : ['exact']}\n",
    "\n",
    "        gridsearch_6 = GridSearchCV(model, subsample_grid, cv = 4, scoring = 'accuracy', n_jobs = 20, verbose = 10)\n",
    "        gridsearch_6.fit(X_train, y_train)\n",
    "        gm = gridsearched_model(gridsearch_6.best_estimator_, 'XGBoost_Gridsearched_6')\n",
    "        bp = gridsearch_6.best_params_\n",
    "        bp2 = pd.DataFrame.from_dict(bp, orient='index').reset_index()\n",
    "        subsample = bp2[bp2['index'] == 'model__subsample']\n",
    "        subsample = subsample[0].values[0]\n",
    "        print(f'Best subsample: {subsample}')\n",
    "\n",
    "        ##### GRID SEARCH 7 -- COLSAMPLE BYTREE #####\n",
    "        colsample_bytree_grid = {'model__n_estimators' : [n_est],\n",
    "                                'model__max_depth' : [max_depth],\n",
    "                                'model__learning_rate' : [learning_rate],\n",
    "                                'model__min_child_weight' : [min_child_weight],\n",
    "                                'model__gamma' : [gamma],\n",
    "                                'model__subsample' : [subsample],\n",
    "                                'model__colsample_bytree' : [0.5, 0.6, 0.7, 0.8, 0.9, 1],\n",
    "                                'model__colsample_bylevel' : [1],\n",
    "                                'model__colsample_bynode' : [1],\n",
    "                                'model__reg_alpha' : [0],\n",
    "                                'model__reg_lambda' : [1],\n",
    "                                'model__scale_pos_weight' : [1],\n",
    "                                'model__base_score' : [0.5],\n",
    "                                'model__n_jobs' : [20],\n",
    "                                'model__tree_method' : ['exact']}\n",
    "\n",
    "        gridsearch_7 = GridSearchCV(model, colsample_bytree_grid, cv = 4, scoring = 'accuracy', n_jobs = 20, verbose = 10)\n",
    "        gridsearch_7.fit(X_train, y_train)\n",
    "        gm = gridsearched_model(gridsearch_7.best_estimator_, 'XGBoost_Gridsearched_7')\n",
    "        bp = gridsearch_7.best_params_\n",
    "        bp2 = pd.DataFrame.from_dict(bp, orient='index').reset_index()\n",
    "        colsample_bytree = bp2[bp2['index'] == 'model__colsample_bytree']\n",
    "        colsample_bytree = colsample_bytree[0].values[0]\n",
    "        print(f'Best colsample_bytree: {colsample_bytree}')\n",
    "\n",
    "        ##### GRID SEARCH 8 -- COLSAMPLE BYLEVEL #####\n",
    "        colsample_bylevel_grid = {'model__n_estimators' : [n_est],\n",
    "                                'model__max_depth' : [max_depth],\n",
    "                                'model__learning_rate' : [learning_rate],\n",
    "                                'model__min_child_weight' : [min_child_weight],\n",
    "                                'model__gamma' : [gamma],\n",
    "                                'model__subsample' : [subsample],\n",
    "                                'model__colsample_bytree' : [colsample_bytree],\n",
    "                                'model__colsample_bylevel' : [0.5, 0.6, 0.7, 0.8, 0.9, 1],\n",
    "                                'model__colsample_bynode' : [1],\n",
    "                                'model__reg_alpha' : [0],\n",
    "                                'model__reg_lambda' : [1],\n",
    "                                'model__scale_pos_weight' : [1],\n",
    "                                'model__base_score' : [0.5],\n",
    "                                'model__n_jobs' : [20],\n",
    "                                'model__tree_method' : ['exact']}\n",
    "\n",
    "        gridsearch_8 = GridSearchCV(model, colsample_bylevel_grid, cv = 4, scoring = 'accuracy', n_jobs = 20, verbose = 10)\n",
    "        gridsearch_8.fit(X_train, y_train)\n",
    "        gm = gridsearched_model(gridsearch_8.best_estimator_, 'XGBoost_Gridsearched_8')\n",
    "        bp = gridsearch_8.best_params_\n",
    "        bp2 = pd.DataFrame.from_dict(bp, orient='index').reset_index()\n",
    "        colsample_bylevel = bp2[bp2['index'] == 'model__colsample_bylevel']\n",
    "        colsample_bylevel = colsample_bylevel[0].values[0]\n",
    "\n",
    "        print(f'Best colsample_bylevel: {colsample_bylevel}')\n",
    "\n",
    "        ##### GRID SEARCH 9 -- COLSAMPLE BYNODE #####\n",
    "        colsample_bynode_grid = {'model__n_estimators' : [n_est],\n",
    "                                'model__max_depth' : [max_depth],\n",
    "                                'model__learning_rate' : [learning_rate],\n",
    "                                'model__min_child_weight' : [min_child_weight],\n",
    "                                'model__gamma' : [gamma],\n",
    "                                'model__subsample' : [subsample],\n",
    "                                'model__colsample_bytree' : [colsample_bytree],\n",
    "                                'model__colsample_bylevel' : [colsample_bylevel],\n",
    "                                'model__colsample_bynode' : [0.5, 0.6, 0.7, 0.8, 0.9, 1],\n",
    "                                'model__reg_alpha' : [0],\n",
    "                                'model__reg_lambda' : [1],\n",
    "                                'model__scale_pos_weight' : [1],\n",
    "                                'model__base_score' : [0.5],\n",
    "                                'model__n_jobs' : [20],\n",
    "                                'model__tree_method' : ['exact']}\n",
    "\n",
    "        gridsearch_9 = GridSearchCV(model, colsample_bynode_grid, cv = 4, scoring = 'accuracy', n_jobs = 20, verbose = 10)\n",
    "        gridsearch_9.fit(X_train, y_train)\n",
    "        gm = gridsearched_model(gridsearch_9.best_estimator_, 'XGBoost_Gridsearched_9')\n",
    "        bp = gridsearch_9.best_params_\n",
    "        bp2 = pd.DataFrame.from_dict(bp, orient='index').reset_index()\n",
    "        colsample_bynode = bp2[bp2['index'] == 'model__colsample_bynode']\n",
    "        colsample_bynode = colsample_bynode[0].values[0]\n",
    "        print(f'Best colsample_bynode: {colsample_bynode}')\n",
    "\n",
    "        ##### GRID SEARCH 10 -- REG ALPHA #####\n",
    "        reg_alpha_grid = {'model__n_estimators' : [n_est],\n",
    "                                'model__max_depth' : [max_depth],\n",
    "                                'model__learning_rate' : [learning_rate],\n",
    "                                'model__min_child_weight' : [min_child_weight],\n",
    "                                'model__gamma' : [gamma],\n",
    "                                'model__subsample' : [subsample],\n",
    "                                'model__colsample_bytree' : [colsample_bytree],\n",
    "                                'model__colsample_bylevel' : [colsample_bylevel],\n",
    "                                'model__colsample_bynode' : [colsample_bynode],\n",
    "                                'model__reg_alpha' : [0, 0.001, 0.005, 0.01, 0.05, 0.1, 0.5, 1],\n",
    "                                'model__reg_lambda' : [1],\n",
    "                                'model__scale_pos_weight' : [1],\n",
    "                                'model__base_score' : [0.5],\n",
    "                                'model__n_jobs' : [20],\n",
    "                                'model__tree_method' : ['exact']}\n",
    "\n",
    "        gridsearch_10 = GridSearchCV(model, reg_alpha_grid, cv = 4, scoring = 'accuracy', n_jobs = 20, verbose = 10)\n",
    "        gridsearch_10.fit(X_train, y_train)\n",
    "        gm = gridsearched_model(gridsearch_10.best_estimator_, 'XGBoost_Gridsearched_10')\n",
    "        bp = gridsearch_10.best_params_\n",
    "        bp2 = pd.DataFrame.from_dict(bp, orient='index').reset_index()\n",
    "        reg_alpha = bp2[bp2['index'] == 'model__reg_alpha']\n",
    "        reg_alpha = reg_alpha[0].values[0]\n",
    "        print(f'Best reg_alpha: {reg_alpha}')\n",
    "\n",
    "        ##### GRID SEARCH 11 -- REG LAMBDA #####\n",
    "        reg_lambda_grid = {'model__n_estimators' : [n_est],\n",
    "                                'model__max_depth' : [max_depth],\n",
    "                                'model__learning_rate' : [learning_rate],\n",
    "                                'model__min_child_weight' : [min_child_weight],\n",
    "                                'model__gamma' : [gamma],\n",
    "                                'model__subsample' : [subsample],\n",
    "                                'model__colsample_bytree' : [colsample_bytree],\n",
    "                                'model__colsample_bylevel' : [colsample_bylevel],\n",
    "                                'model__colsample_bynode' : [colsample_bynode],\n",
    "                                'model__reg_alpha' : [reg_alpha],\n",
    "                                'model__reg_lambda' : [0, 0.001, 0.005, 0.01, 0.05, 0.1, 0.5, 1],\n",
    "                                'model__scale_pos_weight' : [1],\n",
    "                                'model__base_score' : [0.5],\n",
    "                                'model__n_jobs' : [20],\n",
    "                                'model__tree_method' : ['exact']}\n",
    "                                \n",
    "\n",
    "        gridsearch_11 = GridSearchCV(model, reg_lambda_grid, cv = 4, scoring = 'accuracy', n_jobs = 20, verbose = 10)\n",
    "        gridsearch_11.fit(X_train, y_train)\n",
    "        gm = gridsearched_model(gridsearch_11.best_estimator_, 'XGBoost_Gridsearched_11')\n",
    "        bp = gridsearch_11.best_params_\n",
    "        bp2 = pd.DataFrame.from_dict(bp, orient='index').reset_index()\n",
    "\n",
    "        reg_lambda = bp2[bp2['index'] == 'model__reg_lambda']\n",
    "        reg_lambda = reg_lambda[0].values[0]\n",
    "        print(f'Best reg_lambda: {reg_lambda}')\n",
    "\n",
    "        ##### GRID SEARCH 12 -- SCALE POS WEIGHT #####\n",
    "        scale_pos_weight_grid = {'model__n_estimators' : [n_est],\n",
    "                                'model__max_depth' : [max_depth],\n",
    "                                'model__learning_rate' : [learning_rate],\n",
    "                                'model__min_child_weight' : [min_child_weight],\n",
    "                                'model__gamma' : [gamma],\n",
    "                                'model__subsample' : [subsample],\n",
    "                                'model__colsample_bytree' : [colsample_bytree],\n",
    "                                'model__colsample_bylevel' : [colsample_bylevel],\n",
    "                                'model__colsample_bynode' : [colsample_bynode],\n",
    "                                'model__reg_alpha' : [reg_alpha],\n",
    "                                'model__reg_lambda' : [reg_lambda],\n",
    "                                'model__scale_pos_weight' : [1, 2, 3, 4, 5, 6, 7, 8, 9, 10],\n",
    "                                'model__base_score' : [0.5],\n",
    "                                'model__n_jobs' : [20],\n",
    "                                'model__tree_method' : ['exact']}\n",
    "\n",
    "        gridsearch_12 = GridSearchCV(model, scale_pos_weight_grid, cv = 4, scoring = 'accuracy', n_jobs = 20, verbose = 10)\n",
    "        gridsearch_12.fit(X_train, y_train)\n",
    "        gm = gridsearched_model(gridsearch_12.best_estimator_, 'XGBoost_Gridsearched_12')\n",
    "        bp = gridsearch_12.best_params_\n",
    "        bp2 = pd.DataFrame.from_dict(bp, orient='index').reset_index()\n",
    "\n",
    "        scale_pos_weight = bp2[bp2['index'] == 'model__scale_pos_weight']\n",
    "        scale_pos_weight = scale_pos_weight[0].values[0]\n",
    "\n",
    "        print(f'Best scale_pos_weight: {scale_pos_weight}')\n",
    "\n",
    "        ##### GRID SEARCH 13 -- BASE SCORE #####\n",
    "        base_score_grid = {'model__n_estimators' : [n_est],\n",
    "                                'model__max_depth' : [max_depth],\n",
    "                                'model__learning_rate' : [learning_rate],\n",
    "                                'model__min_child_weight' : [min_child_weight],\n",
    "                                'model__gamma' : [gamma],\n",
    "                                'model__subsample' : [subsample],\n",
    "                                'model__colsample_bytree' : [colsample_bytree],\n",
    "                                'model__colsample_bylevel' : [colsample_bylevel],\n",
    "                                'model__colsample_bynode' : [colsample_bynode],\n",
    "                                'model__reg_alpha' : [reg_alpha],\n",
    "                                'model__reg_lambda' : [reg_lambda],\n",
    "                                'model__scale_pos_weight' : [scale_pos_weight],\n",
    "                                'model__base_score' : [0.1, 0.2, 0.3, 0.4, 0.5, 0.6, 0.7, 0.8, 0.9],\n",
    "                                'model__n_jobs' : [20],\n",
    "                                'model__tree_method' : ['exact']}\n",
    "\n",
    "        gridsearch_13 = GridSearchCV(model, base_score_grid, cv = 4, scoring = 'accuracy', n_jobs = 20, verbose = 10)\n",
    "        gridsearch_13.fit(X_train, y_train)\n",
    "        gm = gridsearched_model(gridsearch_13.best_estimator_, 'XGBoost_Gridsearched_13')\n",
    "        bp = gridsearch_13.best_params_\n",
    "        bp2 = pd.DataFrame.from_dict(bp, orient='index').reset_index()\n",
    "\n",
    "        base_score = bp2[bp2['index'] == 'model__base_score']\n",
    "        base_score = base_score[0].values[0]\n",
    "\n",
    "        print(f'Best base_score: {base_score}')\n",
    "\n",
    "        ##### GRID SEARCH 14 -- MAX DELTA STEP #####\n",
    "        max_delta_step_grid = {'model__n_estimators' : [n_est],\n",
    "                                'model__max_depth' : [max_depth],\n",
    "                                'model__learning_rate' : [learning_rate],\n",
    "                                'model__min_child_weight' : [min_child_weight],\n",
    "                                'model__gamma' : [gamma],\n",
    "                                'model__subsample' : [subsample],\n",
    "                                'model__colsample_bytree' : [colsample_bytree],\n",
    "                                'model__colsample_bylevel' : [colsample_bylevel],\n",
    "                                'model__colsample_bynode' : [colsample_bynode],\n",
    "                                'model__reg_alpha' : [reg_alpha],\n",
    "                                'model__reg_lambda' : [reg_lambda],\n",
    "                                'model__scale_pos_weight' : [scale_pos_weight],\n",
    "                                'model__base_score' : [base_score],\n",
    "                                'model__n_jobs' : [20],\n",
    "                                'model__tree_method' : ['exact']}\n",
    "\n",
    "        gridsearch_14 = GridSearchCV(model, max_delta_step_grid, cv = 4, scoring = 'accuracy', n_jobs = 20, verbose = 10)\n",
    "        gridsearch_14.fit(X_train, y_train)\n",
    "        gm = gridsearched_model(gridsearch_14.best_estimator_, 'XGBoost_Gridsearched_14')\n",
    "\n",
    "        ## RETURN\n",
    "\n",
    "        return gm, gridsearch_1.best_params_, gridsearch_2.best_params_, gridsearch_3.best_params_, gridsearch_4.best_params_, gridsearch_5.best_params_, gridsearch_6.best_params_, gridsearch_7.best_params_, gridsearch_8.best_params_, gridsearch_9.best_params_, gridsearch_10.best_params_, gridsearch_11.best_params_, gridsearch_12.best_params_, gridsearch_13.best_params_, gridsearch_14.best_params_\n",
    "\n",
    "\n"
   ]
  },
  {
   "cell_type": "code",
   "execution_count": null,
   "metadata": {},
   "outputs": [],
   "source": [
    "# THIS is the version GPT4 came up with:\n",
    "\n",
    "def xgboost_gridsearch(model, X_train, y_train, cv=4, n_jobs=20, verbose=10):\n",
    "    \"\"\"\n",
    "    Perform grid search for hyperparameter tuning of the XGBoost model.\n",
    "    \n",
    "    Parameters:\n",
    "        model: XGBoost model to be tuned\n",
    "        X_train: Training features\n",
    "        y_train: Training labels\n",
    "        cv: Number of cross-validation folds\n",
    "        n_jobs: Number of jobs to run in parallel\n",
    "        verbose: Controls the verbosity of the output\n",
    "    \n",
    "    Returns:\n",
    "        gm: Best grid search model\n",
    "        best_params_list: List of best parameters for each grid search\n",
    "    \"\"\"\n",
    "    \n",
    "    # Define parameter grids for each grid search\n",
    "    param_grids = [\n",
    "        {'model__n_estimators': [100, 300, 500, 750, 1000]},\n",
    "        {'model__max_depth': [3, 4, 5, 6, 7, 8, 9, 10, 11, 12, 13, 14, 15, None]},\n",
    "        {'model__learning_rate': [0.01, 0.05, 0.1, 0.15, 0.2, 0.25, 0.3, 0.35, 0.4, 0.45, 0.5]},\n",
    "        {'model__min_child_weight': [1, 2, 3, 4, 5, 6, 7, 8, 9, 10]},\n",
    "        {'model__gamma': [0, 0.1, 0.2, 0.3, 0.4, 0.5, 0.6, 0.7, 0.8, 0.9, 1]},\n",
    "        {'model__subsample': [0.5, 0.6, 0.7, 0.8, 0.9, 1]},\n",
    "        {'model__colsample_bytree': [0.5, 0.6, 0.7, 0.8, 0.9, 1]},\n",
    "        {'model__colsample_bylevel': [0.5, 0.6, 0.7, 0.8, 0.9, 1]},\n",
    "        {'model__colsample_bynode': [0.5, 0.6, 0.7, 0.8, 0.9, 1]},\n",
    "        {'model__reg_alpha': [0, 0.001, 0.005, 0.01, 0.05, 0.1, 0.5, 1]},\n",
    "        {'model__reg_lambda': [0, 0.001, 0.005, 0.01, 0.05, 0.1, 0.5, 1]},\n",
    "        {'model__scale_pos_weight': [1, 2, 3, 4, 5, 6, 7, 8, 9, 10]},\n",
    "        {'model__base_score': [0.1, 0.2, 0.3, 0.4, 0.5, 0.6, 0.7, 0.8, 0.9]},\n",
    "    ]\n",
    "    \n",
    "    best_params_list = []\n",
    "    for idx, param_grid in enumerate(param_grids):\n",
    "        # Update the python parameter grid with the best parameters from previous grid searches\n",
    "        for params in best_params_list:\n",
    "            param_grid.update(params)\n",
    "    \n",
    "        # Perform grid search\n",
    "        gridsearch = GridSearchCV(model, param_grid, cv=cv, scoring='accuracy', n_jobs=n_jobs, verbose=verbose)\n",
    "        gridsearch.fit(X_train, y_train)\n",
    "        \n",
    "        # Get the best parameters from the current grid search\n",
    "        best_params = gridsearch.best_params_\n",
    "        \n",
    "        # Add the best parameters to the list\n",
    "        best_params_list.append(best_params)\n",
    "        \n",
    "        # Print the best parameter for the current grid search\n",
    "        param_name = list(param_grid.keys())[0]\n",
    "        print(f'Best {param_name}: {best_params[param_name]}')\n",
    "    \n",
    "    # Get the best model from the final grid search\n",
    "    gm = gridsearch.best_estimator_\n",
    "\n",
    "    return gm, best_params_list"
   ]
  },
  {
   "cell_type": "code",
   "execution_count": null,
   "metadata": {},
   "outputs": [],
   "source": [
    "xgboost_gridsearch(xg_boost)"
   ]
  },
  {
   "cell_type": "markdown",
   "metadata": {},
   "source": [
    "### Extra Trees"
   ]
  },
  {
   "cell_type": "code",
   "execution_count": null,
   "metadata": {},
   "outputs": [],
   "source": [
    "extra_trees = pickle.load(open('models/Extra_Trees.pkl', 'rb'))"
   ]
  },
  {
   "cell_type": "code",
   "execution_count": null,
   "metadata": {},
   "outputs": [],
   "source": [
    "keys = extra_trees.get_params().keys()\n",
    "model_keys = [key for key in keys if 'model' in key]\n",
    "model_keys"
   ]
  },
  {
   "cell_type": "code",
   "execution_count": null,
   "metadata": {},
   "outputs": [],
   "source": [
    "def extra_trees_gridsearch(model):\n",
    "        \"\"\"\n",
    "        Gridsearches the Extra Trees model\n",
    "        \"\"\"\n",
    "        # GRID SEARCH 1 -- N ESTIMATORS\n",
    "        n_estimators_grid = {'model__n_estimators' : [100, 200, 300, 400, 500, 600, 700, 800, 900, 1000],\n",
    "                             'model__criterion' : ['gini'],\n",
    "                             'model__max_depth' : [None,],\n",
    "                             'model__min_samples_split' : [2 ],\n",
    "                             'model__min_samples_leaf' : [1, ],\n",
    "                             'model__min_weight_fraction_leaf' : [0.0],\n",
    "                             'model__max_features' : ['auto'],\n",
    "                             'model__max_leaf_nodes' : [None],\n",
    "                             'model__min_impurity_decrease' : [0.0],\n",
    "                             'model__bootstrap' : [False],\n",
    "                             'model__oob_score' : [False],\n",
    "                             'model__n_jobs' : [20],\n",
    "                             'model__ccp_alpha' : [0.0]}\n",
    "\n",
    "        gridsearch_1 = GridSearchCV(model, n_estimators_grid, cv = 4, scoring = 'accuracy',  verbose = 10)\n",
    "        gridsearch_1.fit(X_train, y_train)\n",
    "        gm = gridsearched_model(gridsearch_1.best_estimator_, 'Extra_Trees_Gridsearched_1')\n",
    "        bp = gridsearch_1.best_params_\n",
    "        bp2 = pd.DataFrame.from_dict(bp, orient='index').reset_index()\n",
    "\n",
    "        n_est = bp2[bp2['index'] == 'model__n_estimators']\n",
    "        n_est = n_est[0].values[0]\n",
    "\n",
    "        print(f'Best n_estimators: {n_est}')\n",
    "\n",
    "        # GRID SEARCH 2 -- CRITERION\n",
    "        criterion_grid = {'model__n_estimators' : [n_est],\n",
    "                            'model__criterion' : ['gini', 'entropy'],\n",
    "                            'model__max_depth' : [None],\n",
    "                            'model__min_samples_split' : [2 ],\n",
    "                            'model__min_samples_leaf' : [1 ],\n",
    "                            'model__min_weight_fraction_leaf' : [0.0],\n",
    "                            'model__max_features' : ['auto'],\n",
    "                            'model__max_leaf_nodes' : [None],\n",
    "                            'model__min_impurity_decrease' : [0.0],\n",
    "                            'model__bootstrap' : [False],\n",
    "                            'model__oob_score' : [False],\n",
    "                            'model__n_jobs' : [20],\n",
    "                            'model__ccp_alpha' : [0.0]}\n",
    "        gridsearch_2 = GridSearchCV(model, criterion_grid, cv = 4, scoring = 'accuracy',  verbose = 10)\n",
    "        gridsearch_2.fit(X_train, y_train)\n",
    "        gm = gridsearched_model(gridsearch_2.best_estimator_, 'Extra_Trees_Gridsearched_2')\n",
    "        bp = gridsearch_2.best_params_\n",
    "        bp2 = pd.DataFrame.from_dict(bp, orient='index').reset_index()\n",
    "\n",
    "        criterion = bp2[bp2['index'] == 'model__criterion']\n",
    "        criterion = criterion[0].values[0]\n",
    "\n",
    "        print(f'Best criterion: {criterion}')\n",
    "\n",
    "        # GRID SEARCH 3 -- MAX DEPTH\n",
    "        max_depth_grid = {'model__n_estimators' : [n_est],\n",
    "                            'model__criterion' : [criterion],\n",
    "                            'model__max_depth' : [None, 1, 2, 3, 4, 5, 6, 7, 8, 9, 10, 15, 20, 25, 30, 35, 40, 45, 50, 55, 60, 65, 70, 75, 80, 85, 90, 95, 100, 150],\n",
    "                            'model__min_samples_split' : [2 ],\n",
    "                            'model__min_samples_leaf' : [1 ],\n",
    "                            'model__min_weight_fraction_leaf' : [0.0],\n",
    "                            'model__max_features' : ['auto'],\n",
    "                            'model__max_leaf_nodes' : [None],\n",
    "                            'model__min_impurity_decrease' : [0.0],\n",
    "                            'model__bootstrap' : [False],\n",
    "                            'model__oob_score' : [False],\n",
    "                            'model__n_jobs' : [20],\n",
    "                            'model__ccp_alpha' : [0.0]}\n",
    "        gridsearch_3 = GridSearchCV(model, max_depth_grid, cv = 4, scoring = 'accuracy',  verbose = 10)\n",
    "        gridsearch_3.fit(X_train, y_train)\n",
    "        gm = gridsearched_model(gridsearch_3.best_estimator_, 'Extra_Trees_Gridsearched_3')\n",
    "        bp = gridsearch_3.best_params_\n",
    "        bp2 = pd.DataFrame.from_dict(bp, orient='index').reset_index()\n",
    "\n",
    "        max_depth = bp2[bp2['index'] == 'model__max_depth']\n",
    "        max_depth = max_depth[0].values[0]\n",
    "\n",
    "        print(f'Best max_depth: {max_depth}')\n",
    "\n",
    "        # GRID SEARCH 4 -- MIN SAMPLES SPLIT\n",
    "        min_samples_split_grid = {'model__n_estimators' : [n_est],\n",
    "                            'model__criterion' : [criterion],\n",
    "                            'model__max_depth' : [max_depth],\n",
    "                            'model__min_samples_split' : [2,3,4,5,6,7,8,9,10],\n",
    "                            'model__min_samples_leaf' : [1 ],\n",
    "                            'model__min_weight_fraction_leaf' : [0.0],\n",
    "                            'model__max_features' : ['auto'],\n",
    "                            'model__max_leaf_nodes' : [None],\n",
    "                            'model__min_impurity_decrease' : [0.0],\n",
    "                            'model__bootstrap' : [False],\n",
    "                            'model__oob_score' : [False],\n",
    "                            'model__n_jobs' : [20],\n",
    "                            'model__ccp_alpha' : [0.0]}\n",
    "        gridsearch_4 = GridSearchCV(model, min_samples_split_grid, cv = 4, scoring = 'accuracy',  verbose = 10)\n",
    "        gridsearch_4.fit(X_train, y_train)\n",
    "        gm = gridsearched_model(gridsearch_4.best_estimator_, 'Extra_Trees_Gridsearched_4')\n",
    "        bp = gridsearch_4.best_params_\n",
    "        bp2 = pd.DataFrame.from_dict(bp, orient='index').reset_index()\n",
    "\n",
    "        min_samples_split = bp2[bp2['index'] == 'model__min_samples_split']\n",
    "        min_samples_split = min_samples_split[0].values[0]\n",
    "\n",
    "        print(f'Best min_samples_split: {min_samples_split}')\n",
    "\n",
    "        # GRID SEARCH 5 -- MIN SAMPLES LEAF\n",
    "        min_samples_leaf_grid = {'model__n_estimators' : [n_est],\n",
    "                            'model__criterion' : [criterion],\n",
    "                            'model__max_depth' : [max_depth],\n",
    "                            'model__min_samples_split' : [min_samples_split],\n",
    "                            'model__min_samples_leaf' : [1,2,3,4,5,6,7,8,9,10],\n",
    "                            'model__min_weight_fraction_leaf' : [0.0],\n",
    "                            'model__max_features' : ['auto'],\n",
    "                            'model__max_leaf_nodes' : [None],\n",
    "                            'model__min_impurity_decrease' : [0.0],\n",
    "                            'model__bootstrap' : [False],\n",
    "                            'model__oob_score' : [False],\n",
    "                            'model__n_jobs' : [20],\n",
    "                            'model__ccp_alpha' : [0.0]}\n",
    "\n",
    "        gridsearch_5 = GridSearchCV(model, min_samples_leaf_grid, cv = 4, scoring = 'accuracy',  verbose = 10)\n",
    "        gridsearch_5.fit(X_train, y_train)\n",
    "        gm = gridsearched_model(gridsearch_5.best_estimator_, 'Extra_Trees_Gridsearched_5')\n",
    "        bp = gridsearch_5.best_params_\n",
    "        bp2 = pd.DataFrame.from_dict(bp, orient='index').reset_index()\n",
    "\n",
    "        min_samples_leaf = bp2[bp2['index'] == 'model__min_samples_leaf']\n",
    "        min_samples_leaf = min_samples_leaf[0].values[0]\n",
    "\n",
    "        print(f'Best min_samples_leaf: {min_samples_leaf}')\n",
    "\n",
    "        # GRID SEARCH 6 -- MIN WEIGHT FRACTION LEAF\n",
    "        min_weight_fraction_leaf_grid = {'model__n_estimators' : [n_est],\n",
    "                            'model__criterion' : [criterion],\n",
    "                            'model__max_depth' : [max_depth],\n",
    "                            'model__min_samples_split' : [min_samples_split],\n",
    "                            'model__min_samples_leaf' : [min_samples_leaf],\n",
    "                            'model__min_weight_fraction_leaf' : [0.0, 0.1, 0.2, 0.3, 0.4, 0.5],\n",
    "                            'model__max_features' : ['auto'],\n",
    "                            'model__max_leaf_nodes' : [None],\n",
    "                            'model__min_impurity_decrease' : [0.0],\n",
    "                            'model__bootstrap' : [False],\n",
    "                            'model__oob_score' : [False],\n",
    "                            'model__n_jobs' : [20],\n",
    "                            'model__ccp_alpha' : [0.0]}\n",
    "\n",
    "        gridsearch_6 = GridSearchCV(model, min_weight_fraction_leaf_grid, cv = 4, scoring = 'accuracy',  verbose = 10)\n",
    "        gridsearch_6.fit(X_train, y_train)\n",
    "        gm = gridsearched_model(gridsearch_6.best_estimator_, 'Extra_Trees_Gridsearched_6')\n",
    "        bp = gridsearch_6.best_params_\n",
    "        bp2 = pd.DataFrame.from_dict(bp, orient='index').reset_index()\n",
    "\n",
    "        min_weight_fraction_leaf = bp2[bp2['index'] == 'model__min_weight_fraction_leaf']\n",
    "        min_weight_fraction_leaf = min_weight_fraction_leaf[0].values[0]\n",
    "\n",
    "        print(f'Best min_weight_fraction_leaf: {min_weight_fraction_leaf}')\n",
    "\n",
    "        # GRID SEARCH 7 -- MAX FEATURES\n",
    "        max_features_grid = {'model__n_estimators' : [n_est],\n",
    "                            'model__criterion' : [criterion],\n",
    "                            'model__max_depth' : [max_depth],\n",
    "                            'model__min_samples_split' : [min_samples_split],\n",
    "                            'model__min_samples_leaf' : [min_samples_leaf],\n",
    "                            'model__min_weight_fraction_leaf' : [min_weight_fraction_leaf],\n",
    "                            'model__max_features' : ['auto', 'sqrt', 'log2'],\n",
    "                            'model__max_leaf_nodes' : [None],\n",
    "                            'model__min_impurity_decrease' : [0.0],\n",
    "                            'model__bootstrap' : [False],\n",
    "                            'model__oob_score' : [False],\n",
    "                            'model__n_jobs' : [20],\n",
    "                            'model__ccp_alpha' : [0.0]}\n",
    "        gridsearch_7 = GridSearchCV(model, max_features_grid, cv = 4, scoring = 'accuracy',  verbose = 10)\n",
    "        gridsearch_7.fit(X_train, y_train)\n",
    "        gm = gridsearched_model(gridsearch_7.best_estimator_, 'Extra_Trees_Gridsearched_7')\n",
    "        bp = gridsearch_7.best_params_\n",
    "        bp2 = pd.DataFrame.from_dict(bp, orient='index').reset_index()\n",
    "\n",
    "        max_features = bp2[bp2['index'] == 'model__max_features']\n",
    "        max_features = max_features[0].values[0]\n",
    "\n",
    "        print(f'Best max_features: {max_features}')\n",
    "\n",
    "        # GRID SEARCH 8 -- MAX LEAF NODES\n",
    "        max_leaf_nodes_grid = {'model__n_estimators' : [n_est],\n",
    "                            'model__criterion' : [criterion],\n",
    "                            'model__max_depth' : [max_depth],\n",
    "                            'model__min_samples_split' : [min_samples_split],\n",
    "                            'model__min_samples_leaf' : [min_samples_leaf],\n",
    "                            'model__min_weight_fraction_leaf' : [min_weight_fraction_leaf],\n",
    "                            'model__max_features' : [max_features],\n",
    "                            'model__max_leaf_nodes' : [None, 2, 4, 6, 8, 10, 12, 14, 16, 18, 20],\n",
    "                            'model__min_impurity_decrease' : [0.0],\n",
    "                            'model__bootstrap' : [False],\n",
    "                            'model__oob_score' : [False],\n",
    "                            'model__n_jobs' : [20],\n",
    "                            'model__ccp_alpha' : [0.0]}\n",
    "        gridsearch_8 = GridSearchCV(model, max_leaf_nodes_grid, cv = 4, scoring = 'accuracy',  verbose = 10)\n",
    "        gridsearch_8.fit(X_train, y_train)\n",
    "        gm = gridsearched_model(gridsearch_8.best_estimator_, 'Extra_Trees_Gridsearched_8')\n",
    "        bp = gridsearch_8.best_params_\n",
    "        bp2 = pd.DataFrame.from_dict(bp, orient='index').reset_index()\n",
    "\n",
    "        max_leaf_nodes = bp2[bp2['index'] == 'model__max_leaf_nodes']\n",
    "        max_leaf_nodes = max_leaf_nodes[0].values[0]\n",
    "\n",
    "        print(f'Best max_leaf_nodes: {max_leaf_nodes}')\n",
    "\n",
    "        # GRID SEARCH 9 -- MIN IMPURITY DECREASE\n",
    "        min_impurity_decrease_grid = {'model__n_estimators' : [n_est],\n",
    "                            'model__criterion' : [criterion],\n",
    "                            'model__max_depth' : [max_depth],\n",
    "                            'model__min_samples_split' : [min_samples_split],\n",
    "                            'model__min_samples_leaf' : [min_samples_leaf],\n",
    "                            'model__min_weight_fraction_leaf' : [min_weight_fraction_leaf],\n",
    "                            'model__max_features' : [max_features],\n",
    "                            'model__max_leaf_nodes' : [max_leaf_nodes],\n",
    "                            'model__min_impurity_decrease' : [0.0, 0.1, 0.2, 0.3, 0.4, 0.5],\n",
    "                            'model__bootstrap' : [False],\n",
    "                            'model__oob_score' : [False],\n",
    "                            'model__n_jobs' : [20],\n",
    "                            'model__ccp_alpha' : [0.0]}\n",
    "\n",
    "        gridsearch_9 = GridSearchCV(model, min_impurity_decrease_grid, cv = 4, scoring = 'accuracy',  verbose = 10)\n",
    "        gridsearch_9.fit(X_train, y_train)\n",
    "        gm = gridsearched_model(gridsearch_9.best_estimator_, 'Extra_Trees_Gridsearched_9')\n",
    "        bp = gridsearch_9.best_params_\n",
    "        bp2 = pd.DataFrame.from_dict(bp, orient='index').reset_index()\n",
    "\n",
    "        min_impurity_decrease = bp2[bp2['index'] == 'model__min_impurity_decrease']\n",
    "        min_impurity_decrease = min_impurity_decrease[0].values[0]\n",
    "\n",
    "        print(f'Best min_impurity_decrease: {min_impurity_decrease}')\n",
    "\n",
    "        # GRID SEARCH 10 -- BOOTSTRAP\n",
    "        bootstrap_grid = {'model__n_estimators' : [n_est],\n",
    "                            'model__criterion' : [criterion],\n",
    "                            'model__max_depth' : [max_depth],\n",
    "                            'model__min_samples_split' : [min_samples_split],\n",
    "                            'model__min_samples_leaf' : [min_samples_leaf],\n",
    "                            'model__min_weight_fraction_leaf' : [min_weight_fraction_leaf],\n",
    "                            'model__max_features' : [max_features],\n",
    "                            'model__max_leaf_nodes' : [max_leaf_nodes],\n",
    "                            'model__min_impurity_decrease' : [min_impurity_decrease],\n",
    "                            'model__bootstrap' : [False, True],\n",
    "                            'model__oob_score' : [False],\n",
    "                            'model__n_jobs' : [20],\n",
    "                            'model__ccp_alpha' : [0.0]}\n",
    "        gridsearch_10 = GridSearchCV(model, bootstrap_grid, cv = 4, scoring = 'accuracy',  verbose = 10)\n",
    "        gridsearch_10.fit(X_train, y_train)\n",
    "        gm = gridsearched_model(gridsearch_10.best_estimator_, 'Extra_Trees_Gridsearched_10')\n",
    "        bp = gridsearch_10.best_params_\n",
    "        bp2 = pd.DataFrame.from_dict(bp, orient='index').reset_index()\n",
    "\n",
    "        bootstrap = bp2[bp2['index'] == 'model__bootstrap']\n",
    "        bootstrap = bootstrap[0].values[0]\n",
    "\n",
    "        print(f'Best bootstrap: {bootstrap}')\n",
    "\n",
    "        # GRID SEARCH 11 -- OOB SCORE\n",
    "        oob_score_grid = {'model__n_estimators' : [n_est],\n",
    "                            'model__criterion' : [criterion],\n",
    "                            'model__max_depth' : [max_depth],\n",
    "                            'model__min_samples_split' : [min_samples_split],\n",
    "                            'model__min_samples_leaf' : [min_samples_leaf],\n",
    "                            'model__min_weight_fraction_leaf' : [min_weight_fraction_leaf],\n",
    "                            'model__max_features' : [max_features],\n",
    "                            'model__max_leaf_nodes' : [max_leaf_nodes],\n",
    "                            'model__min_impurity_decrease' : [min_impurity_decrease],\n",
    "                            'model__bootstrap' : [bootstrap],\n",
    "                            'model__oob_score' : [False, True],\n",
    "                            'model__n_jobs' : [20],\n",
    "                            'model__ccp_alpha' : [0.0]}\n",
    "        gridsearch_11 = GridSearchCV(model, oob_score_grid, cv = 4, scoring = 'accuracy',  verbose = 10)\n",
    "        gridsearch_11.fit(X_train, y_train)\n",
    "        gm = gridsearched_model(gridsearch_11.best_estimator_, 'Extra_Trees_Gridsearched_11')\n",
    "        bp = gridsearch_11.best_params_\n",
    "        bp2 = pd.DataFrame.from_dict(bp, orient='index').reset_index()\n",
    "\n",
    "        oob_score = bp2[bp2['index'] == 'model__oob_score']\n",
    "        oob_score = oob_score[0].values[0]\n",
    "\n",
    "        print(f'Best oob_score: {oob_score}')\n",
    "\n",
    "        # GRID SEARCH 12 -- CCP ALPHA\n",
    "        ccp_alpha_grid = {'model__n_estimators' : [n_est],\n",
    "                            'model__criterion' : [criterion],\n",
    "                            'model__max_depth' : [max_depth],\n",
    "                            'model__min_samples_split' : [min_samples_split],\n",
    "                            'model__min_samples_leaf' : [min_samples_leaf],\n",
    "                            'model__min_weight_fraction_leaf' : [min_weight_fraction_leaf],\n",
    "                            'model__max_features' : [max_features],\n",
    "                            'model__max_leaf_nodes' : [max_leaf_nodes],\n",
    "                            'model__min_impurity_decrease' : [min_impurity_decrease],\n",
    "                            'model__bootstrap' : [bootstrap],\n",
    "                            'model__oob_score' : [oob_score],\n",
    "                            'model__n_jobs' : [20],\n",
    "                            'model__ccp_alpha' : [0.0, 0.1, 0.2, 0.3, 0.4, 0.5]}\n",
    "        gridsearch_12 = GridSearchCV(model, ccp_alpha_grid, cv = 4, scoring = 'accuracy',  verbose = 10)\n",
    "        gridsearch_12.fit(X_train, y_train)\n",
    "        gm = gridsearched_model(gridsearch_12.best_estimator_, 'Extra_Trees_Gridsearched_12')\n",
    "        bp = gridsearch_12.best_params_\n",
    "        bp2 = pd.DataFrame.from_dict(bp, orient='index').reset_index()\n",
    "\n",
    "        ccp_alpha = bp2[bp2['index'] == 'model__ccp_alpha']\n",
    "        ccp_alpha = ccp_alpha[0].values[0]\n",
    "\n",
    "        print(f'Best ccp_alpha: {ccp_alpha}')\n",
    "\n",
    "        return gm, gridsearch_1.best_params_, gridsearch_2.best_params_, gridsearch_3.best_params_, gridsearch_4.best_params_, gridsearch_5.best_params_, gridsearch_6.best_params_, gridsearch_7.best_params_, gridsearch_8.best_params_, gridsearch_9.best_params_, gridsearch_10.best_params_, gridsearch_11.best_params_, gridsearch_12.best_params_"
   ]
  },
  {
   "cell_type": "code",
   "execution_count": null,
   "metadata": {},
   "outputs": [],
   "source": [
    "extra_trees_gridsearch(extra_trees)"
   ]
  },
  {
   "cell_type": "code",
   "execution_count": null,
   "metadata": {},
   "outputs": [],
   "source": [
    "# load svc pickle\n",
    "svc = pickle.load(open('models/svc.pkl', 'rb'))\n"
   ]
  },
  {
   "cell_type": "code",
   "execution_count": null,
   "metadata": {},
   "outputs": [],
   "source": [
    "svc['model'].get_params()"
   ]
  },
  {
   "cell_type": "markdown",
   "metadata": {},
   "source": [
    "#### Best Model\n"
   ]
  },
  {
   "cell_type": "code",
   "execution_count": null,
   "metadata": {},
   "outputs": [],
   "source": [
    "best_model = pickle.load(open('models/Random_Forest_Gridsearched_3.pkl', 'rb'))"
   ]
  },
  {
   "cell_type": "code",
   "execution_count": null,
   "metadata": {},
   "outputs": [],
   "source": [
    "best_model['model'].get_params()"
   ]
  },
  {
   "cell_type": "code",
   "execution_count": null,
   "metadata": {},
   "outputs": [],
   "source": [
    "cat_list= list(feature_names_categorical)"
   ]
  },
  {
   "cell_type": "code",
   "execution_count": null,
   "metadata": {},
   "outputs": [],
   "source": [
    "all_cats = cat_list + numerical_columns"
   ]
  },
  {
   "cell_type": "code",
   "execution_count": null,
   "metadata": {},
   "outputs": [],
   "source": [
    "f_imp = best_model.steps[1][1].feature_importances_\n",
    "f_imp_df = pd.DataFrame(f_imp, index = all_cats, columns = ['Importance'])\n",
    "f_imp_df = f_imp_df.sort_values('Importance', ascending = False)\n",
    "f_imp_df = f_imp_df.round(3)\n",
    "f_imp_df"
   ]
  },
  {
   "cell_type": "code",
   "execution_count": null,
   "metadata": {},
   "outputs": [],
   "source": [
    "f_imp_df[:50]"
   ]
  },
  {
   "cell_type": "code",
   "execution_count": null,
   "metadata": {},
   "outputs": [],
   "source": [
    "f_imp_df[50:100]"
   ]
  },
  {
   "attachments": {},
   "cell_type": "markdown",
   "metadata": {},
   "source": [
    "### One more attempt to improve the model"
   ]
  },
  {
   "cell_type": "code",
   "execution_count": null,
   "metadata": {},
   "outputs": [],
   "source": [
    "best_model = pickle.load(open('models/Random_Forest_Gridsearched_3.pkl', 'rb'))"
   ]
  },
  {
   "cell_type": "code",
   "execution_count": null,
   "metadata": {},
   "outputs": [],
   "source": [
    "best_model['model'].get_params()"
   ]
  },
  {
   "cell_type": "code",
   "execution_count": null,
   "metadata": {},
   "outputs": [],
   "source": [
    "grid = {'model__n_estimators' : [750, 1000, 1500],\n",
    "        'model__criterion' : ['gini'],\n",
    "        'model__max_depth' : [15, 20, 25, 30, 35, 40, 45, 50, 55, 60, 65, 70, 75, 80, 85, 90, 95, 100, 120, 150, 200],\n",
    "        'model__min_samples_split' : [2],\n",
    "        'model__min_samples_leaf' : [1],\n",
    "        'model__min_weight_fraction_leaf' : [0.0],\n",
    "        'model__max_features' : ['sqrt', .6],\n",
    "        'model__n_jobs' : [-1],\n",
    "        'model__bootstrap' : [True]}\n",
    "\n",
    "gridsearch = GridSearchCV(best_model, grid, cv = 3, scoring = 'accuracy',  verbose = 10)\n",
    "gridsearch.fit(X_train, y_train)\n",
    "\n",
    "gridsearched_model(gridsearch.best_estimator_, 'Random_Forest_Grid_Post_1')"
   ]
  },
  {
   "cell_type": "code",
   "execution_count": null,
   "metadata": {},
   "outputs": [],
   "source": []
  },
  {
   "cell_type": "code",
   "execution_count": null,
   "metadata": {},
   "outputs": [],
   "source": []
  },
  {
   "cell_type": "code",
   "execution_count": null,
   "metadata": {},
   "outputs": [],
   "source": []
  }
 ],
 "metadata": {
  "kernelspec": {
   "display_name": "Trav310",
   "language": "python",
   "name": "python3"
  },
  "language_info": {
   "codemirror_mode": {
    "name": "ipython",
    "version": 3
   },
   "file_extension": ".py",
   "mimetype": "text/x-python",
   "name": "python",
   "nbconvert_exporter": "python",
   "pygments_lexer": "ipython3",
   "version": "3.10.8"
  },
  "orig_nbformat": 4,
  "vscode": {
   "interpreter": {
    "hash": "f69e36f0e9b2c8d9f319b417484f14b77c91d7bef950ad448542405eb1e0e594"
   }
  }
 },
 "nbformat": 4,
 "nbformat_minor": 2
}
